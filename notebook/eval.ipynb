{
 "cells": [
  {
   "cell_type": "code",
   "execution_count": 4,
   "id": "221d3d57-afda-4cbd-817a-54f6a84abe24",
   "metadata": {
    "scrolled": true
   },
   "outputs": [
    {
     "name": "stdout",
     "output_type": "stream",
     "text": [
      "Requirement already satisfied: evaluate in /home/sttau/miniconda3/lib/python3.11/site-packages (0.4.1)\n",
      "Requirement already satisfied: datasets>=2.0.0 in /home/sttau/miniconda3/lib/python3.11/site-packages (from evaluate) (2.17.0)\n",
      "Requirement already satisfied: numpy>=1.17 in /home/sttau/miniconda3/lib/python3.11/site-packages (from evaluate) (1.26.3)\n",
      "Requirement already satisfied: dill in /home/sttau/miniconda3/lib/python3.11/site-packages (from evaluate) (0.3.8)\n",
      "Requirement already satisfied: pandas in /home/sttau/miniconda3/lib/python3.11/site-packages (from evaluate) (2.2.0)\n",
      "Requirement already satisfied: requests>=2.19.0 in /home/sttau/miniconda3/lib/python3.11/site-packages (from evaluate) (2.31.0)\n",
      "Requirement already satisfied: tqdm>=4.62.1 in /home/sttau/miniconda3/lib/python3.11/site-packages (from evaluate) (4.65.0)\n",
      "Requirement already satisfied: xxhash in /home/sttau/miniconda3/lib/python3.11/site-packages (from evaluate) (3.4.1)\n",
      "Requirement already satisfied: multiprocess in /home/sttau/miniconda3/lib/python3.11/site-packages (from evaluate) (0.70.16)\n",
      "Requirement already satisfied: fsspec>=2021.05.0 in /home/sttau/miniconda3/lib/python3.11/site-packages (from fsspec[http]>=2021.05.0->evaluate) (2023.10.0)\n",
      "Requirement already satisfied: huggingface-hub>=0.7.0 in /home/sttau/miniconda3/lib/python3.11/site-packages (from evaluate) (0.24.5)\n",
      "Requirement already satisfied: packaging in /home/sttau/miniconda3/lib/python3.11/site-packages (from evaluate) (23.2)\n",
      "Requirement already satisfied: responses<0.19 in /home/sttau/miniconda3/lib/python3.11/site-packages (from evaluate) (0.18.0)\n",
      "Requirement already satisfied: filelock in /home/sttau/miniconda3/lib/python3.11/site-packages (from datasets>=2.0.0->evaluate) (3.13.1)\n",
      "Requirement already satisfied: pyarrow>=12.0.0 in /home/sttau/miniconda3/lib/python3.11/site-packages (from datasets>=2.0.0->evaluate) (15.0.0)\n",
      "Requirement already satisfied: pyarrow-hotfix in /home/sttau/miniconda3/lib/python3.11/site-packages (from datasets>=2.0.0->evaluate) (0.6)\n",
      "Requirement already satisfied: aiohttp in /home/sttau/miniconda3/lib/python3.11/site-packages (from datasets>=2.0.0->evaluate) (3.9.3)\n",
      "Requirement already satisfied: pyyaml>=5.1 in /home/sttau/miniconda3/lib/python3.11/site-packages (from datasets>=2.0.0->evaluate) (6.0.1)\n",
      "Requirement already satisfied: typing-extensions>=3.7.4.3 in /home/sttau/miniconda3/lib/python3.11/site-packages (from huggingface-hub>=0.7.0->evaluate) (4.9.0)\n",
      "Requirement already satisfied: charset-normalizer<4,>=2 in /home/sttau/miniconda3/lib/python3.11/site-packages (from requests>=2.19.0->evaluate) (2.0.4)\n",
      "Requirement already satisfied: idna<4,>=2.5 in /home/sttau/miniconda3/lib/python3.11/site-packages (from requests>=2.19.0->evaluate) (3.4)\n",
      "Requirement already satisfied: urllib3<3,>=1.21.1 in /home/sttau/miniconda3/lib/python3.11/site-packages (from requests>=2.19.0->evaluate) (1.26.18)\n",
      "Requirement already satisfied: certifi>=2017.4.17 in /home/sttau/miniconda3/lib/python3.11/site-packages (from requests>=2.19.0->evaluate) (2024.2.2)\n",
      "Requirement already satisfied: python-dateutil>=2.8.2 in /home/sttau/miniconda3/lib/python3.11/site-packages (from pandas->evaluate) (2.8.2)\n",
      "Requirement already satisfied: pytz>=2020.1 in /home/sttau/miniconda3/lib/python3.11/site-packages (from pandas->evaluate) (2023.3.post1)\n",
      "Requirement already satisfied: tzdata>=2022.7 in /home/sttau/miniconda3/lib/python3.11/site-packages (from pandas->evaluate) (2024.1)\n",
      "Requirement already satisfied: aiosignal>=1.1.2 in /home/sttau/miniconda3/lib/python3.11/site-packages (from aiohttp->datasets>=2.0.0->evaluate) (1.3.1)\n",
      "Requirement already satisfied: attrs>=17.3.0 in /home/sttau/miniconda3/lib/python3.11/site-packages (from aiohttp->datasets>=2.0.0->evaluate) (23.2.0)\n",
      "Requirement already satisfied: frozenlist>=1.1.1 in /home/sttau/miniconda3/lib/python3.11/site-packages (from aiohttp->datasets>=2.0.0->evaluate) (1.4.1)\n",
      "Requirement already satisfied: multidict<7.0,>=4.5 in /home/sttau/miniconda3/lib/python3.11/site-packages (from aiohttp->datasets>=2.0.0->evaluate) (6.0.5)\n",
      "Requirement already satisfied: yarl<2.0,>=1.0 in /home/sttau/miniconda3/lib/python3.11/site-packages (from aiohttp->datasets>=2.0.0->evaluate) (1.9.4)\n",
      "Requirement already satisfied: six>=1.5 in /home/sttau/miniconda3/lib/python3.11/site-packages (from python-dateutil>=2.8.2->pandas->evaluate) (1.16.0)\n",
      "Collecting rouge_score\n",
      "  Using cached rouge_score-0.1.2.tar.gz (17 kB)\n",
      "  Preparing metadata (setup.py) ... \u001b[?25ldone\n",
      "\u001b[?25hCollecting absl-py (from rouge_score)\n",
      "  Using cached absl_py-2.1.0-py3-none-any.whl.metadata (2.3 kB)\n",
      "Collecting nltk (from rouge_score)\n",
      "  Downloading nltk-3.9.1-py3-none-any.whl.metadata (2.9 kB)\n",
      "Requirement already satisfied: numpy in /home/sttau/miniconda3/lib/python3.11/site-packages (from rouge_score) (1.26.3)\n",
      "Requirement already satisfied: six>=1.14.0 in /home/sttau/miniconda3/lib/python3.11/site-packages (from rouge_score) (1.16.0)\n",
      "Collecting click (from nltk->rouge_score)\n",
      "  Using cached click-8.1.7-py3-none-any.whl.metadata (3.0 kB)\n",
      "Requirement already satisfied: joblib in /home/sttau/miniconda3/lib/python3.11/site-packages (from nltk->rouge_score) (1.3.2)\n",
      "Requirement already satisfied: regex>=2021.8.3 in /home/sttau/miniconda3/lib/python3.11/site-packages (from nltk->rouge_score) (2023.12.25)\n",
      "Requirement already satisfied: tqdm in /home/sttau/miniconda3/lib/python3.11/site-packages (from nltk->rouge_score) (4.65.0)\n",
      "Using cached absl_py-2.1.0-py3-none-any.whl (133 kB)\n",
      "Downloading nltk-3.9.1-py3-none-any.whl (1.5 MB)\n",
      "\u001b[2K   \u001b[38;2;114;156;31m━━━━━━━━━━━━━━━━━━━━━━━━━━━━━━━━━━━━━━━━\u001b[0m \u001b[32m1.5/1.5 MB\u001b[0m \u001b[31m77.0 MB/s\u001b[0m eta \u001b[36m0:00:00\u001b[0m\n",
      "\u001b[?25hUsing cached click-8.1.7-py3-none-any.whl (97 kB)\n",
      "Building wheels for collected packages: rouge_score\n",
      "  Building wheel for rouge_score (setup.py) ... \u001b[?25ldone\n",
      "\u001b[?25h  Created wheel for rouge_score: filename=rouge_score-0.1.2-py3-none-any.whl size=24932 sha256=b92bc7c4f50c416724ff643249fe4307a7b8d704cce473fcb773a70f4867efcd\n",
      "  Stored in directory: /home/sttau/.cache/pip/wheels/1e/19/43/8a442dc83660ca25e163e1bd1f89919284ab0d0c1475475148\n",
      "Successfully built rouge_score\n",
      "Installing collected packages: click, absl-py, nltk, rouge_score\n",
      "Successfully installed absl-py-2.1.0 click-8.1.7 nltk-3.9.1 rouge_score-0.1.2\n"
     ]
    }
   ],
   "source": [
    "!pip install evaluate rouge_score M\n",
    "!pip install rouge_score"
   ]
  },
  {
   "cell_type": "code",
   "execution_count": 7,
   "id": "7a1c1a40-d990-4629-960a-026dd88e5890",
   "metadata": {},
   "outputs": [
    {
     "name": "stderr",
     "output_type": "stream",
     "text": [
      "[nltk_data] Downloading package punkt_tab to /home/sttau/nltk_data...\n",
      "[nltk_data]   Package punkt_tab is already up-to-date!\n",
      "[nltk_data] Downloading package wordnet to /home/sttau/nltk_data...\n",
      "[nltk_data]   Package wordnet is already up-to-date!\n",
      "[nltk_data] Downloading package punkt_tab to /home/sttau/nltk_data...\n",
      "[nltk_data]   Package punkt_tab is already up-to-date!\n",
      "[nltk_data] Downloading package omw-1.4 to /home/sttau/nltk_data...\n",
      "[nltk_data]   Package omw-1.4 is already up-to-date!\n"
     ]
    }
   ],
   "source": [
    "from evaluate import load\n",
    "import json\n",
    "import nltk\n",
    "\n",
    "nltk.download('punkt_tab')\n",
    "\n",
    "# Load evaluation metrics\n",
    "rouge = load('rouge')\n",
    "meteor = load('meteor')\n",
    "\n",
    "# Define your directory or list of files\n",
    "input_directory = 'new_results/dev'  \n",
    "output_file = 'dev_evaluation_title.json'\n",
    "\n",
    "# Initialize a list to hold results\n",
    "all_results = []\n",
    "\n",
    "# Load the gold labels once if they are in a single file\n",
    "with open('../data/AmazonReview/amazon_title_generation_outputs_dev.json', 'r') as json_file:\n",
    "    golds = json.load(json_file)\n",
    "\n",
    "# Initialize a list to hold results\n",
    "all_results = []\n",
    "\n",
    "# Function to process each file\n",
    "def process_file(file_path, golds):\n",
    "    with open(file_path, 'r') as json_file:\n",
    "        data = json.load(json_file)\n",
    "\n",
    "    preds = []\n",
    "    labels = []\n",
    "\n",
    "    # Assuming 'data' is a list of dictionaries\n",
    "    for i, entry in enumerate(data):\n",
    "        # Assuming each entry has an 'output' field for raw predictions\n",
    "        raw_output = entry[\"output\"]\n",
    "\n",
    "        tmp = raw_output.replace(\"\\n\", \"\").strip()\n",
    "        \n",
    "        try:\n",
    "            # Extract the part after the first 'The title is: '\n",
    "            tmp = tmp.split('The title is: ', 1)[1]\n",
    "\n",
    "            # Handle cases with repetition or incomplete segments\n",
    "            if 'The title is:' in tmp:\n",
    "                tmp = tmp.split('The title is:', 1)[0].strip()\n",
    "            elif 'The title' in tmp:\n",
    "                tmp = tmp.split('The title', 1)[0].strip()\n",
    "            elif 'The' in tmp:\n",
    "                tmp = tmp.split('The', 1)[0].strip()\n",
    "\n",
    "            preds.append(tmp)\n",
    "        except:\n",
    "            preds.append(tmp)\n",
    "\n",
    "        labels.append(golds[i][\"output\"].replace(\"\\n\", \"\").strip())\n",
    "\n",
    "    # Compute ROUGE and METEOR scores\n",
    "    rouge_results = rouge.compute(predictions=preds, references=labels)\n",
    "    meteor_results = meteor.compute(predictions=preds, references=labels)\n",
    "\n",
    "    # Round results to the thousandth place\n",
    "    result = {\n",
    "        \"rouge-1\": round(rouge_results[\"rouge1\"], 3),\n",
    "        \"rouge-L\": round(rouge_results[\"rougeL\"], 3),\n",
    "        \"meteor\": round(meteor_results[\"meteor\"], 3)\n",
    "    }\n",
    "\n",
    "    return result"
   ]
  },
  {
   "cell_type": "code",
   "execution_count": 8,
   "id": "e0708ad4-e14b-4714-983b-29e649cf4b4e",
   "metadata": {},
   "outputs": [
    {
     "name": "stdout",
     "output_type": "stream",
     "text": [
      "Evaluation results saved to dev_evaluation_title.json\n"
     ]
    }
   ],
   "source": [
    "import os\n",
    "# Iterate over files in the directory and process them\n",
    "for filename in os.listdir(input_directory):\n",
    "    if filename.endswith('.json'):  # Ensure only JSON files are processed\n",
    "        file_path = os.path.join(input_directory, filename)\n",
    "        result = process_file(file_path, golds)\n",
    "        all_results.append({\"filename\": filename, \"result\": result})\n",
    "\n",
    "# Save all results to an output file\n",
    "with open(output_file, 'w') as outfile:\n",
    "    json.dump(all_results, outfile, indent=4)\n",
    "\n",
    "print(f\"Evaluation results saved to {output_file}\")"
   ]
  },
  {
   "cell_type": "code",
   "execution_count": null,
   "id": "174203da-4836-4478-82b5-39d823c90df4",
   "metadata": {},
   "outputs": [],
   "source": []
  }
 ],
 "metadata": {
  "kernelspec": {
   "display_name": "Python 3 (ipykernel)",
   "language": "python",
   "name": "python3"
  },
  "language_info": {
   "codemirror_mode": {
    "name": "ipython",
    "version": 3
   },
   "file_extension": ".py",
   "mimetype": "text/x-python",
   "name": "python",
   "nbconvert_exporter": "python",
   "pygments_lexer": "ipython3",
   "version": "3.11.5"
  }
 },
 "nbformat": 4,
 "nbformat_minor": 5
}
