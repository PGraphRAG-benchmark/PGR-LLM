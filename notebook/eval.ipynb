{
 "cells": [
  {
   "cell_type": "code",
   "execution_count": null,
   "id": "221d3d57-afda-4cbd-817a-54f6a84abe24",
   "metadata": {
    "scrolled": true
   },
   "outputs": [],
   "source": [
    "!pip install evaluate rouge_score M\n",
    "!pip install rouge_score"
   ]
  },
  {
   "cell_type": "code",
   "execution_count": null,
   "id": "7a1c1a40-d990-4629-960a-026dd88e5890",
   "metadata": {},
   "outputs": [],
   "source": [
    "from evaluate import load\n",
    "import json\n",
    "import nltk\n",
    "\n",
    "nltk.download('punkt_tab')\n",
    "\n",
    "# Load evaluation metrics\n",
    "rouge = load('rouge')\n",
    "meteor = load('meteor')\n",
    "\n",
    "# Define your directory or list of files\n",
    "input_directory = 'new_results/dev'  \n",
    "output_file = 'dev_evaluation_title.json'\n",
    "\n",
    "# Initialize a list to hold results\n",
    "all_results = []\n",
    "\n",
    "# Load the gold labels once if they are in a single file\n",
    "with open('../data/AmazonReview/amazon_title_generation_outputs_dev.json', 'r') as json_file:\n",
    "    golds = json.load(json_file)\n",
    "\n",
    "# Initialize a list to hold results\n",
    "all_results = []\n",
    "\n",
    "# Function to process each file\n",
    "def process_file(file_path, golds):\n",
    "    with open(file_path, 'r') as json_file:\n",
    "        data = json.load(json_file)\n",
    "\n",
    "    preds = []\n",
    "    labels = []\n",
    "\n",
    "    # Assuming 'data' is a list of dictionaries\n",
    "    for i, entry in enumerate(data):\n",
    "        # Assuming each entry has an 'output' field for raw predictions\n",
    "        raw_output = entry[\"output\"]\n",
    "\n",
    "        tmp = raw_output.replace(\"\\n\", \"\").strip()\n",
    "        \n",
    "        try:\n",
    "            # Extract the part after the first 'The title is: '\n",
    "            tmp = tmp.split('The title is: ', 1)[1]\n",
    "\n",
    "            # Handle cases with repetition or incomplete segments\n",
    "            if 'The title is:' in tmp:\n",
    "                tmp = tmp.split('The title is:', 1)[0].strip()\n",
    "            elif 'The title' in tmp:\n",
    "                tmp = tmp.split('The title', 1)[0].strip()\n",
    "            elif 'The' in tmp:\n",
    "                tmp = tmp.split('The', 1)[0].strip()\n",
    "\n",
    "            preds.append(tmp)\n",
    "        except:\n",
    "            preds.append(tmp)\n",
    "\n",
    "        labels.append(golds[i][\"output\"].replace(\"\\n\", \"\").strip())\n",
    "\n",
    "    # Compute ROUGE and METEOR scores\n",
    "    rouge_results = rouge.compute(predictions=preds, references=labels)\n",
    "    meteor_results = meteor.compute(predictions=preds, references=labels)\n",
    "\n",
    "    # Round results to the thousandth place\n",
    "    result = {\n",
    "        \"rouge-1\": round(rouge_results[\"rouge1\"], 3),\n",
    "        \"rouge-L\": round(rouge_results[\"rougeL\"], 3),\n",
    "        \"meteor\": round(meteor_results[\"meteor\"], 3)\n",
    "    }\n",
    "\n",
    "    return result"
   ]
  },
  {
   "cell_type": "code",
   "execution_count": null,
   "id": "e0708ad4-e14b-4714-983b-29e649cf4b4e",
   "metadata": {},
   "outputs": [],
   "source": [
    "import os\n",
    "# Iterate over files in the directory and process them\n",
    "for filename in os.listdir(input_directory):\n",
    "    if filename.endswith('.json'):  # Ensure only JSON files are processed\n",
    "        file_path = os.path.join(input_directory, filename)\n",
    "        result = process_file(file_path, golds)\n",
    "        all_results.append({\"filename\": filename, \"result\": result})\n",
    "\n",
    "# Save all results to an output file\n",
    "with open(output_file, 'w') as outfile:\n",
    "    json.dump(all_results, outfile, indent=4)\n",
    "\n",
    "print(f\"Evaluation results saved to {output_file}\")"
   ]
  },
  {
   "cell_type": "code",
   "execution_count": null,
   "id": "174203da-4836-4478-82b5-39d823c90df4",
   "metadata": {},
   "outputs": [],
   "source": []
  }
 ],
 "metadata": {
  "kernelspec": {
   "display_name": "Python 3 (ipykernel)",
   "language": "python",
   "name": "python3"
  },
  "language_info": {
   "codemirror_mode": {
    "name": "ipython",
    "version": 3
   },
   "file_extension": ".py",
   "mimetype": "text/x-python",
   "name": "python",
   "nbconvert_exporter": "python",
   "pygments_lexer": "ipython3",
   "version": "3.11.5"
  }
 },
 "nbformat": 4,
 "nbformat_minor": 5
}
