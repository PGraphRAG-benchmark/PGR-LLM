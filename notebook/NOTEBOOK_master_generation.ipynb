{
  "cells": [
    {
      "cell_type": "code",
      "execution_count": null,
      "metadata": {
        "colab": {
          "base_uri": "https://localhost:8080/"
        },
        "id": "gLunhRDoDVQY",
        "outputId": "048f95fd-08b3-4636-e3bb-20505a34945c"
      },
      "outputs": [
        {
          "name": "stdout",
          "output_type": "stream",
          "text": [
            "Collecting openai\n",
            "  Downloading openai-1.51.2-py3-none-any.whl.metadata (24 kB)\n",
            "Requirement already satisfied: anyio<5,>=3.5.0 in /usr/local/lib/python3.10/dist-packages (from openai) (3.7.1)\n",
            "Requirement already satisfied: distro<2,>=1.7.0 in /usr/lib/python3/dist-packages (from openai) (1.7.0)\n",
            "Collecting httpx<1,>=0.23.0 (from openai)\n",
            "  Downloading httpx-0.27.2-py3-none-any.whl.metadata (7.1 kB)\n",
            "Collecting jiter<1,>=0.4.0 (from openai)\n",
            "  Downloading jiter-0.6.1-cp310-cp310-manylinux_2_17_x86_64.manylinux2014_x86_64.whl.metadata (5.2 kB)\n",
            "Requirement already satisfied: pydantic<3,>=1.9.0 in /usr/local/lib/python3.10/dist-packages (from openai) (2.9.2)\n",
            "Requirement already satisfied: sniffio in /usr/local/lib/python3.10/dist-packages (from openai) (1.3.1)\n",
            "Requirement already satisfied: tqdm>4 in /usr/local/lib/python3.10/dist-packages (from openai) (4.66.5)\n",
            "Requirement already satisfied: typing-extensions<5,>=4.11 in /usr/local/lib/python3.10/dist-packages (from openai) (4.12.2)\n",
            "Requirement already satisfied: idna>=2.8 in /usr/local/lib/python3.10/dist-packages (from anyio<5,>=3.5.0->openai) (3.10)\n",
            "Requirement already satisfied: exceptiongroup in /usr/local/lib/python3.10/dist-packages (from anyio<5,>=3.5.0->openai) (1.2.2)\n",
            "Requirement already satisfied: certifi in /usr/local/lib/python3.10/dist-packages (from httpx<1,>=0.23.0->openai) (2024.8.30)\n",
            "Collecting httpcore==1.* (from httpx<1,>=0.23.0->openai)\n",
            "  Downloading httpcore-1.0.6-py3-none-any.whl.metadata (21 kB)\n",
            "Collecting h11<0.15,>=0.13 (from httpcore==1.*->httpx<1,>=0.23.0->openai)\n",
            "  Downloading h11-0.14.0-py3-none-any.whl.metadata (8.2 kB)\n",
            "Requirement already satisfied: annotated-types>=0.6.0 in /usr/local/lib/python3.10/dist-packages (from pydantic<3,>=1.9.0->openai) (0.7.0)\n",
            "Requirement already satisfied: pydantic-core==2.23.4 in /usr/local/lib/python3.10/dist-packages (from pydantic<3,>=1.9.0->openai) (2.23.4)\n",
            "Downloading openai-1.51.2-py3-none-any.whl (383 kB)\n",
            "\u001b[2K   \u001b[90m━━━━━━━━━━━━━━━━━━━━━━━━━━━━━━━━━━━━━━━━\u001b[0m \u001b[32m383.7/383.7 kB\u001b[0m \u001b[31m7.2 MB/s\u001b[0m eta \u001b[36m0:00:00\u001b[0m\n",
            "\u001b[?25hDownloading httpx-0.27.2-py3-none-any.whl (76 kB)\n",
            "\u001b[2K   \u001b[90m━━━━━━━━━━━━━━━━━━━━━━━━━━━━━━━━━━━━━━━━\u001b[0m \u001b[32m76.4/76.4 kB\u001b[0m \u001b[31m8.4 MB/s\u001b[0m eta \u001b[36m0:00:00\u001b[0m\n",
            "\u001b[?25hDownloading httpcore-1.0.6-py3-none-any.whl (78 kB)\n",
            "\u001b[2K   \u001b[90m━━━━━━━━━━━━━━━━━━━━━━━━━━━━━━━━━━━━━━━━\u001b[0m \u001b[32m78.0/78.0 kB\u001b[0m \u001b[31m8.4 MB/s\u001b[0m eta \u001b[36m0:00:00\u001b[0m\n",
            "\u001b[?25hDownloading jiter-0.6.1-cp310-cp310-manylinux_2_17_x86_64.manylinux2014_x86_64.whl (325 kB)\n",
            "\u001b[2K   \u001b[90m━━━━━━━━━━━━━━━━━━━━━━━━━━━━━━━━━━━━━━━━\u001b[0m \u001b[32m325.2/325.2 kB\u001b[0m \u001b[31m29.6 MB/s\u001b[0m eta \u001b[36m0:00:00\u001b[0m\n",
            "\u001b[?25hDownloading h11-0.14.0-py3-none-any.whl (58 kB)\n",
            "\u001b[2K   \u001b[90m━━━━━━━━━━━━━━━━━━━━━━━━━━━━━━━━━━━━━━━━\u001b[0m \u001b[32m58.3/58.3 kB\u001b[0m \u001b[31m4.9 MB/s\u001b[0m eta \u001b[36m0:00:00\u001b[0m\n",
            "\u001b[?25hInstalling collected packages: jiter, h11, httpcore, httpx, openai\n",
            "Successfully installed h11-0.14.0 httpcore-1.0.6 httpx-0.27.2 jiter-0.6.1 openai-1.51.2\n",
            "Mounted at /content/drive\n"
          ]
        }
      ],
      "source": [
        "!pip install openai\n",
        "from google.colab import drive\n",
        "drive.mount('/content/drive') # FOR CJ"
      ]
    },
    {
      "cell_type": "code",
      "execution_count": 89,
      "metadata": {
        "id": "bQhi5971E9RA"
      },
      "outputs": [],
      "source": [
        "from tqdm import tqdm\n",
        "from transformers import pipeline, AutoTokenizer\n",
        "import time\n",
        "import torch\n",
        "import json\n",
        "from openai import AzureOpenAI\n",
        "from google.colab import userdata\n",
        "import os\n",
        "import argparse\n",
        "import sys"
      ]
    },
    {
      "cell_type": "code",
      "execution_count": 101,
      "metadata": {
        "id": "pRW0KfAKdIQl"
      },
      "outputs": [],
      "source": [
        "class UserProfile:\n",
        "    def __init__(self, profile, dataset, task, ranker, split):\n",
        "\n",
        "        self.dataset = dataset\n",
        "        self.task = task\n",
        "        self.ranker = ranker\n",
        "        self.split = split\n",
        "\n",
        "        self.user_id = profile['user_id']\n",
        "        self.product_id = profile['product_id']\n",
        "        self.user_review_text = profile['user_review_text']\n",
        "        self.user_review_title = profile.get('user_review_title', None)\n",
        "\n",
        "        self.user_ratings = []\n",
        "        for review in profile['user_ratings']:\n",
        "            self.user_ratings.append({\"reviewTitle\": review.get('reviewTitle', None), \"reviewText\": review.get(\"reviewText\", None)})\n",
        "\n",
        "        self.neighbor_ratings = []\n",
        "        for review in profile['neighbor_ratings']:\n",
        "            self.neighbor_ratings.append({\"reviewTitle\": review.get('reviewTitle', None), \"reviewText\": review.get(\"reviewText\", None)})\n",
        "\n",
        "        self.all_ratings = []\n",
        "        for review in profile['all_ratings']:\n",
        "            self.all_ratings.append({\"reviewTitle\": review.get('reviewTitle', None), \"reviewText\": review.get(\"reviewText\", None)})\n",
        "\n",
        "\n",
        "    # Retrieve relevant part of main review based on task, return as formatted string\n",
        "    def get_review(self):\n",
        "\n",
        "        if self.task == \"reviewTitle\":\n",
        "            return f\"Review text: '{self.user_review_text}'\\n\"\n",
        "\n",
        "        elif self.task == \"reviewText\": # ONLY FOR AMAZON AND B2W(, and yelp?)\n",
        "            if self.dataset == \"google\":\n",
        "                raise Exception(f\"Google dataset not compatible with task: {self.task}\")\n",
        "            return f\"Review title: '{self.user_review_title}'\\n\"\n",
        "\n",
        "        elif self.task == \"reviewRating\":\n",
        "            if self.dataset == \"google\":\n",
        "                return f\"Review text: '{self.user_review_text}'\\n\"\n",
        "            return f\"Review title: '{self.user_review_title}', Review text: '{self.user_review_text}'\\n\"\n",
        "\n",
        "\n",
        "    # Retrieve related reviews from profile based on {mode} and {k}\n",
        "    def retrieve(self, mode, k):\n",
        "\n",
        "        if mode == \"user\":\n",
        "            retrieved = \"User's Own Reviews:\\n\"\n",
        "            for review in self.user_ratings[:k]:\n",
        "\n",
        "                if self.dataset == \"google\":\n",
        "                    context = f\"Review text: \\\"{review['reviewText']}\\\"\\n\"\n",
        "                else: # dataset == \"amazon\" or \"b2w\"\n",
        "                    context = f\"Review title: \\\"{review['reviewTitle']}\\\", Review text: \\\"{review['reviewText']}\\\"\\n\"\n",
        "                retrieved += context\n",
        "\n",
        "            return retrieved\n",
        "\n",
        "        elif mode == \"neighbor\":\n",
        "            retrieved = \"Other Users' Reviews:\\n\"\n",
        "            for review in self.neighbor_ratings[:k]:\n",
        "\n",
        "                if self.dataset == \"google\":\n",
        "                    context = f\"Review text: \\\"{review['reviewText']}\\\"\\n\"\n",
        "                else: # dataset == \"amazon\" or \"b2w\"\n",
        "                    context = f\"Review title: \\\"{review['reviewTitle']}\\\", Review text: \\\"{review['reviewText']}\\\"\\n\"\n",
        "                retrieved += context\n",
        "            return retrieved\n",
        "\n",
        "\n",
        "        elif mode == \"all\":\n",
        "            retrieved = \"Other Users' Reviews:\\n\"\n",
        "            for review in self.all_ratings[:k]:\n",
        "\n",
        "                if self.dataset == \"google\":\n",
        "                    context = f\"Review text: \\\"{review['reviewText']}\\\"\\n\"\n",
        "                else: # dataset == \"amazon\" or \"b2w\"\n",
        "                    context = f\"Review title: \\\"{review['reviewTitle']}\\\", Review text: \\\"{review['reviewText']}\\\"\\n\"\n",
        "                retrieved += context\n",
        "            return retrieved\n",
        "\n",
        "\n",
        "        elif mode == \"none\":\n",
        "            return \"\"\n",
        "\n",
        "    # Creates prompt for {task} on main review, with retrieval based on {mode} and {k}\n",
        "    def create_prompt(self, mode, k):\n",
        "\n",
        "        prompt = \"\"\n",
        "\n",
        "        # Initialize intro based on mode\n",
        "        if mode == \"both\":\n",
        "            intro = \"Given the following reviews from the same user and other users on the same product:\\n\"\n",
        "        elif mode == \"all\":\n",
        "            intro = \"Given the following reviews from any user on any product:\\n\"\n",
        "        elif mode == \"user\":\n",
        "            intro = \"Given the following reviews from the user on different products:\\n\"\n",
        "        elif mode == \"neighbor\":\n",
        "            intro = \"Given the following reviews from other users on the same product:\\n\"\n",
        "        elif mode == \"none\":\n",
        "            intro = \"Given only information on this review:\\n\"\n",
        "\n",
        "        prompt += intro\n",
        "\n",
        "\n",
        "        # Retrieve profiles based on mode\n",
        "        if mode == \"both\":\n",
        "            retrieved_profiles = f\"{self.retrieve('user', k)}\\n{self.retrieve('neighbor', k)}\"\n",
        "\n",
        "        else: # mode in [\"user\", \"neighbor\", \"none\", \"all\"]\n",
        "            retrieved_profiles = self.retrieve(mode, k)\n",
        "\n",
        "        prompt += retrieved_profiles\n",
        "\n",
        "\n",
        "        # Set up directions based on task\n",
        "        if self.task == \"reviewTitle\":\n",
        "            direction = \"\\nGenerate a title for the following product review from this user without any explanation: \"\n",
        "            direction += self.get_review() # append reviewText for title generation\n",
        "            direction += \"Generate the review title in 10 words or less using the format: 'Review title:'.\"\n",
        "\n",
        "        elif self.task == \"reviewText\": # ONLY FOR AMAZON AND B2W(, and yelp?)\n",
        "            direction = \"\\nGenerate a review for the following product from this user given the review title, without any explanation: \"\n",
        "            direction += self.get_review() # append reviewTitle for text generation\n",
        "            direction += \"Generate the review text using the format: 'Review text:'.\"\n",
        "\n",
        "        elif self.task == \"reviewRating\":\n",
        "            direction = \"\\nGenerate an integer rating for the following product from this user given the review title and text, without any explanation: \"\n",
        "            direction += self.get_review() # append reviewTitle and reviewText for rating generation\n",
        "            direction += \"Generate the review rating using the format: 'Rating:'.\"\n",
        "\n",
        "        prompt += direction\n",
        "\n",
        "        return prompt\n"
      ]
    },
    {
      "cell_type": "code",
      "execution_count": 126,
      "metadata": {
        "id": "KG3PTHoYQa18"
      },
      "outputs": [],
      "source": [
        "# Function to use GPT to generate given a {prompt}\n",
        "def gpt_call(prompt, client):\n",
        "    while True:\n",
        "\n",
        "        try:\n",
        "            response = client.chat.completions.create(\n",
        "                model= \"gpt-4o-mini-20240718\",\n",
        "                messages=[\n",
        "                    {\"role\": \"system\", \"content\": \"You are a personalized assistant, with the goal of providing users the best content using their preferences and the preferences of similar users.\"},\n",
        "                    {\"role\": \"user\", \"content\": prompt}\n",
        "                ],\n",
        "                temperature=0.4  # temp change????????????\n",
        "            )\n",
        "\n",
        "            # Extract and print the assistant's response from the first choice\n",
        "            if response.choices:\n",
        "                generated_text = response.choices[0].message.content\n",
        "                #print(f\"Generated text: {generated_text}\") # if you want to see generations in output\n",
        "                return generated_text\n",
        "\n",
        "        except Exception as e:\n",
        "            print(f\"An error occurred in fetching the chat response: {e}\")\n",
        "            time.sleep(10)\n",
        "\n",
        "\n",
        "# CAN be used to generate a SINGLE results file, specifying mode and k\n",
        "# Function to generate {task} on {dataset}-{split} for 1 {mode} and 1 {k} with {ranker} using gpt\n",
        "def generate_gpt(data, dataset, task, ranker, split, mode, k, client=None):\n",
        "    print(f\"Processing mode: {mode} with k={k} on GPT\")\n",
        "\n",
        "    if not client:\n",
        "        client = AzureOpenAI(\n",
        "            azure_endpoint = \"https://vietgpt.openai.azure.com/\",\n",
        "            #api_key=userdata.get('AZURE_KEY'), # colab\n",
        "            api_key = os.getenv('AZURE_KEY') # not colab\n",
        "            api_version=\"2024-02-15-preview\"\n",
        "            )\n",
        "\n",
        "    results = []\n",
        "\n",
        "    # for profile in tqdm(data, desc=f'Generating for OUTPUT-{dataset}_{split}_{task}_GPT_{ranker}-{mode}_k{k}'):\n",
        "    for profile in tqdm(data, desc=f'Generating for OUTPUT-{dataset}_{split}_{task}_LLAMA_{ranker}-{mode}_k{k}'):\n",
        "        # Store user profile in a UserProfile object\n",
        "        p = UserProfile(profile, dataset, task, ranker, split)\n",
        "\n",
        "        # Synthesize prompt from profile based on task, mode, k\n",
        "        prompt = p.create_prompt(mode, k)\n",
        "\n",
        "        # Feed prompt to GPT and store response\n",
        "        generation = gpt_call(prompt, client)\n",
        "        print(generation) # IF you want to watch as generations run\n",
        "        results.append(generation)\n",
        "\n",
        "    # save results (PROBABLY WILL CHANGE)\n",
        "    save_results(results, dataset, task, ranker, split, mode, k, \"GPT\")\n",
        "\n",
        "\n",
        "    return\n",
        "\n",
        "\n",
        "# CAN be used to generate a SINGLE results file, specifying mode and k\n",
        "# Function to generate {task} on {dataset}-{split} for 1 {mode} and 1 {k} with {ranker} using llama\n",
        "def generate_llama(data, dataset, task, ranker, split, mode, k, model=None):\n",
        "\n",
        "    # (hard coded these in for now, not sure if you want it to be adaptable)\n",
        "    max_input_length=512\n",
        "    max_output_length=256\n",
        "\n",
        "    print(f\"Processing mode: {mode} with k={k} on LLAMA\")\n",
        "\n",
        "    if not model:\n",
        "        model = pipeline(\"text-generation\", model=\"meta-llama/Meta-Llama-3.1-8B-Instruct\", device_map=\"auto\",)\n",
        "    #if not tokenizer:\n",
        "    #    tokenizer = AutoTokenizer.from_pretrained(\"meta-llama/Meta-Llama-3.1-8B-Instruct\")\n",
        "\n",
        "    results = []\n",
        "\n",
        "    for profile in tqdm(data, desc=f'Generating for OUTPUT-{dataset}_{split}_{task}_LLAMA_{ranker}-{mode}_k{k}'):\n",
        "        # Store user profile in a UserProfile object\n",
        "        p = UserProfile(profile, dataset, task, ranker, split)\n",
        "\n",
        "        # Synthesize prompt from profile based on task, mode, k\n",
        "        prompt = p.create_prompt(mode, k)\n",
        "\n",
        "        llama_prompt = (\n",
        "            f\"<|start_header_id|>user<|end_header_id|>\\n\"\n",
        "            f\"{prompt}\\n\"\n",
        "            f\"Do NOT generate anything else!.\\n\"\n",
        "            f\"<<|eot_id|><|start_header_id|>assistant<|end_header_id|>\"\n",
        "        )\n",
        "\n",
        "        # Feed prompt to LLAMA and store response\n",
        "        generation = model(llama_prompt, max_new_tokens=max_output_length, do_sample=True, return_full_text=False)\n",
        "        print(generation) # IF you want to watch as generations run\n",
        "        results.append(generation)\n",
        "\n",
        "    # save results (PROBABLY WILL CHANGE)\n",
        "    save_results(results, dataset, task, ranker, split, mode, k, \"LLAMA\")\n",
        "\n",
        "    return\n",
        "\n",
        "\n",
        "# not necessary anymore since now partial_generate() is capable of doing full\n",
        "'''\n",
        "# Function to specify model and generate EVERYTHING for this {dataset} {task}\n",
        "def full_generate(data, dataset, task, ranker, split, model):\n",
        "    modes = [\"none\", \"all\", \"user\", \"neighbor\", \"both\"]\n",
        "    k_values = [1, 2, 4]\n",
        "\n",
        "    partial_generate(data, dataset, task, ranker, split, model, modes, k_values)\n",
        "'''\n",
        "\n",
        "# Function to generate on a subset of modes and/or a subset of k values\n",
        "# Generates everything if modes+k_values are not specified\n",
        "def partial_generate(data, dataset, task, ranker, split, model, modes=[\"none\", \"all\", \"user\", \"neighbor\", \"both\"], k_values=[1, 2, 4]):\n",
        "\n",
        "    # use gpt to generate for all mode-k combinations\n",
        "    if model == \"gpt\":\n",
        "        gpt_client = AzureOpenAI(\n",
        "            azure_endpoint = \"https://vietgpt.openai.azure.com/\",\n",
        "            #api_key=userdata.get('AZURE_KEY'), # colab\n",
        "            api_key = os.getenv('AZURE_KEY') # not colab\n",
        "            api_version=\"2024-02-15-preview\"\n",
        "            )\n",
        "\n",
        "        for k in k_values:\n",
        "            for mode in modes:\n",
        "                generate_gpt(data, dataset, task, ranker, split, mode, k, client=gpt_client)\n",
        "\n",
        "\n",
        "    # use llama to generate for all mode-k combinations\n",
        "    elif model == \"llama\":\n",
        "        llama3_model = pipeline(\"text-generation\", model=\"meta-llama/Meta-Llama-3.1-8B-Instruct\", device_map=\"auto\",)\n",
        "        #tokenizer = AutoTokenizer.from_pretrained(\"meta-llama/Meta-Llama-3.1-8B-Instruct\")\n",
        "\n",
        "        for k in k_values:\n",
        "            for mode in modes:\n",
        "                generate_llama(data, dataset, task, ranker, split, mode, k, model=llama3_model)\n"
      ]
    },
    {
      "cell_type": "code",
      "execution_count": 127,
      "metadata": {
        "id": "oqma7a-3_B4j"
      },
      "outputs": [],
      "source": [
        "# Function to load data from a (ranking) JSON file\n",
        "# example: b2w_data_dev_ranked_k_5_reviewText_bm25.json\n",
        "\n",
        "'''\n",
        "#load data using old format\n",
        "def load_data(file_path):\n",
        "    # pull filename from path\n",
        "    filename = os.path.splitext(os.path.basename(file_path))[0]\n",
        "\n",
        "    # parse run information from filename\n",
        "    parsed = filename.split('_') # ['b2w', 'data', 'dev', 'ranked', 'k', '5', 'reviewText', 'bm25'] # remove k5?????????? if so, use below function\n",
        "\n",
        "    dataset = parsed[0]\n",
        "    task = parsed[6]\n",
        "    ranker = parsed[7]\n",
        "    split = parsed[2]\n",
        "    with open(file_path, 'r') as file:\n",
        "        data = json.load(file)\n",
        "\n",
        "    return data, dataset, task, ranker, split\n",
        "'''\n",
        "\n",
        "#load data using new format\n",
        "def load_data(file_path):\n",
        "    # pull filename from path\n",
        "    filename = os.path.splitext(os.path.basename(file_path))[0]\n",
        "\n",
        "    # parse run information from filename\n",
        "    parsed = filename.split('_') # ['b2w', 'dev', 'reviewText', 'bm25']\n",
        "\n",
        "    dataset = parsed[0]\n",
        "    task = parsed[2]\n",
        "    ranker = parsed[3]\n",
        "    split = parsed[1]\n",
        "    with open(file_path, 'r') as file:\n",
        "        data = json.load(file)\n",
        "\n",
        "    return data, dataset, task, ranker, split\n",
        "\n",
        "\n",
        "def save_results(results, dataset, task, ranker, split, mode, k, model):\n",
        "    directory = './results'\n",
        "    filename = f'OUTPUT-{dataset}_{split}_{task}_{model}_{ranker}-{mode}_k{k}'\n",
        "\n",
        "    if not os.path.exists(directory):\n",
        "        os.makedirs(directory)\n",
        "\n",
        "    filepath = os.path.join(directory, filename)\n",
        "    with open(filepath, 'w') as file:\n",
        "        json.dump(results, file, indent=4)\n",
        "\n",
        "    print(f\"{model} results for {dataset}-{split}-{task} mode='{mode}' and k={k} on ranker='{ranker}' have been saved to {filepath}\")\n",
        "\n",
        "    # below: FOR CJ\n",
        "    #!cp {filepath} /content/drive/MyDrive/"
      ]
    },
    {
      "cell_type": "code",
      "execution_count": 128,
      "metadata": {
        "id": "oZpPXEeRFCoX"
      },
      "outputs": [],
      "source": [
        "def parse_arguments():\n",
        "    parser = argparse.ArgumentParser(description=\"Generation Pipeline\")\n",
        "    parser.add_argument('--input', type=str, required=True, help=\"Path to input data file\")\n",
        "    parser.add_argument('--model', type=str, choices=[\"gpt\", \"llama\"], required=True, help=\"Model to use ('gpt' or 'llama')\")\n",
        "    parser.add_argument('--mode', nargs='+', type=str, choices=[\"user\", \"neighbor\", \"both\"], help=\"Mode(s) to generate on. Leave empty if all modes\")\n",
        "    parser.add_argument('--k', nargs='+', type=int, help=\"K-value(s) to generate on. Leave empty if all k\")\n",
        "\n",
        "    args = parser.parse_args()\n",
        "\n",
        "    args.model = args.model.lower()\n",
        "    if args.model not in ['gpt', 'llama']:\n",
        "        parser.error(\"Model must be 'gpt' or 'llama'\")\n",
        "\n",
        "    if not os.path.isfile(args.input_file):\n",
        "        parser.error(f\"Error: The file '{args.input}' does not exist.\")\n",
        "\n",
        "    return args"
      ]
    },
    {
      "cell_type": "code",
      "execution_count": 129,
      "metadata": {
        "id": "raTOOqsbTPjg"
      },
      "outputs": [],
      "source": [
        "def main():\n",
        "\n",
        "    # load args, corresponding model, data\n",
        "    args = parse_arguments()\n",
        "    data, dataset, task, ranker, split = load_data(args.input)\n",
        "\n",
        "\n",
        "    if args.mode and args.k: # specify mode and k\n",
        "        partial_generate(data, dataset, task, ranker, split, args.model, modes=args.mode, k_values=args.k)\n",
        "    elif args.mode: # specify mode\n",
        "        partial_generate(data, dataset, task, ranker, split, args.model, modes=args.mode)\n",
        "    elif args.k: # specify k\n",
        "        partial_generate(data, dataset, task, ranker, split, args.model, k_values=args.k)\n",
        "    else: # run every mode, every k\n",
        "        partial_generate(data, dataset, task, ranker, split, args.model)\n"
      ]
    },
    {
      "cell_type": "code",
      "execution_count": null,
      "metadata": {
        "colab": {
          "base_uri": "https://localhost:8080/"
        },
        "id": "o1CqJ0R-HcY1",
        "outputId": "574f863c-ff78-4776-fab4-5f8e959d9845"
      },
      "outputs": [
        {
          "name": "stdout",
          "output_type": "stream",
          "text": [
            "Namespace(input='/content/drive/Shareddrives/Intel Capstone Project/Data/Rankings/B2W/b2w_data_dev_ranked_k_5_reviewText_bm25.json', model='gpt', mode=None, k=[4])\n",
            "Processing mode: none with k=4 on GPT\n"
          ]
        },
        {
          "name": "stderr",
          "output_type": "stream",
          "text": [
            "Generating for OUTPUT-b2w_dev_reviewText_LLAMA_bm25-none_k4:   0%|          | 1/2500 [00:01<52:50,  1.27s/it]"
          ]
        },
        {
          "name": "stdout",
          "output_type": "stream",
          "text": [
            "Review text: \"Adorei este produto! Atendeu todas as minhas expectativas e a qualidade é excelente. Com certeza, recomendo a todos que estão em dúvida. Vale cada centavo!\"\n"
          ]
        },
        {
          "name": "stderr",
          "output_type": "stream",
          "text": [
            "\rGenerating for OUTPUT-b2w_dev_reviewText_LLAMA_bm25-none_k4:   0%|          | 2/2500 [00:01<34:53,  1.19it/s]"
          ]
        },
        {
          "name": "stdout",
          "output_type": "stream",
          "text": [
            "Review text: \"Esse produto superou todas as minhas expectativas! A qualidade é incrível e o desempenho é excepcional. Eu realmente sinto que fiz uma ótima escolha. Recomendo a todos que estão pensando em comprar, vocês não vão se arrepender!\"\n"
          ]
        },
        {
          "name": "stderr",
          "output_type": "stream",
          "text": [
            "\rGenerating for OUTPUT-b2w_dev_reviewText_LLAMA_bm25-none_k4:   0%|          | 3/2500 [00:02<37:46,  1.10it/s]"
          ]
        },
        {
          "name": "stdout",
          "output_type": "stream",
          "text": [
            "Review text: Este produto é incrível! A qualidade é excepcional e superou todas as minhas expectativas. O design é moderno e funcional, tornando o uso muito prático. Recomendo a todos que estão em busca de algo que realmente vale a pena. Estou muito satisfeito com a minha compra!\n"
          ]
        },
        {
          "name": "stderr",
          "output_type": "stream",
          "text": [
            "\rGenerating for OUTPUT-b2w_dev_reviewText_LLAMA_bm25-none_k4:   0%|          | 4/2500 [00:04<47:10,  1.13s/it]"
          ]
        },
        {
          "name": "stdout",
          "output_type": "stream",
          "text": [
            "Review text: Este jogo é perfeito para reunir a família! As regras são fáceis de entender, o que permite que todos, desde os mais jovens até os mais velhos, possam participar e se divertir juntos. A dinâmica é envolvente e proporciona momentos de risadas e competição saudável. Recomendo para quem busca uma atividade divertida e interativa para passar tempo de qualidade com os entes queridos. Com certeza, um ótimo investimento para as noites em família!\n"
          ]
        },
        {
          "name": "stderr",
          "output_type": "stream",
          "text": [
            "\rGenerating for OUTPUT-b2w_dev_reviewText_LLAMA_bm25-none_k4:   0%|          | 5/2500 [00:04<38:26,  1.08it/s]"
          ]
        },
        {
          "name": "stdout",
          "output_type": "stream",
          "text": [
            "Review text: Estou muito satisfeito com o produto! Ele atendeu todas as minhas expectativas e a qualidade é excelente. Recomendo a todos que buscam algo confiável e eficiente. Com certeza, voltarei a comprar!\n"
          ]
        },
        {
          "name": "stderr",
          "output_type": "stream",
          "text": [
            "\rGenerating for OUTPUT-b2w_dev_reviewText_LLAMA_bm25-none_k4:   0%|          | 6/2500 [00:05<36:24,  1.14it/s]"
          ]
        },
        {
          "name": "stdout",
          "output_type": "stream",
          "text": [
            "Review text: \"Desde que instalei este roteador, minha conexão de internet melhorou drasticamente. A velocidade é incrível e não tenho mais quedas de sinal. Posso assistir a filmes em streaming, jogar online e trabalhar sem interrupções. Finalmente, posso dizer que tenho Wifi de verdade em casa! Recomendo a todos que buscam uma conexão estável e rápida.\"\n"
          ]
        },
        {
          "name": "stderr",
          "output_type": "stream",
          "text": [
            "\rGenerating for OUTPUT-b2w_dev_reviewText_LLAMA_bm25-none_k4:   0%|          | 7/2500 [00:06<32:19,  1.29it/s]"
          ]
        },
        {
          "name": "stdout",
          "output_type": "stream",
          "text": [
            "Review text: Este aparelho superou todas as minhas expectativas! A qualidade do som é incrível e a facilidade de uso é um grande diferencial. Além disso, o design é moderno e elegante, combinando perfeitamente com a decoração da minha casa. Recomendo a todos que buscam um produto de alta performance e durabilidade. Vale cada centavo!\n"
          ]
        },
        {
          "name": "stderr",
          "output_type": "stream",
          "text": [
            "\rGenerating for OUTPUT-b2w_dev_reviewText_LLAMA_bm25-none_k4:   0%|          | 8/2500 [00:06<30:33,  1.36it/s]"
          ]
        },
        {
          "name": "stdout",
          "output_type": "stream",
          "text": [
            "Review text: \"Infelizmente, recebi o produto errado. Estava ansioso para experimentar, mas a entrega não correspondeu ao que pedi. Espero que a troca seja rápida e fácil, pois realmente quero o item correto.\"\n"
          ]
        },
        {
          "name": "stderr",
          "output_type": "stream",
          "text": [
            "\rGenerating for OUTPUT-b2w_dev_reviewText_LLAMA_bm25-none_k4:   0%|          | 9/2500 [00:07<29:12,  1.42it/s]"
          ]
        },
        {
          "name": "stdout",
          "output_type": "stream",
          "text": [
            "Review text: \"Adorei o produto! Atendeu todas as minhas expectativas e a qualidade é excelente. Recomendo para quem busca algo confiável e eficiente. Com certeza voltarei a comprar!\"\n"
          ]
        },
        {
          "name": "stderr",
          "output_type": "stream",
          "text": [
            "\rGenerating for OUTPUT-b2w_dev_reviewText_LLAMA_bm25-none_k4:   0%|          | 10/2500 [00:08<39:07,  1.06it/s]"
          ]
        },
        {
          "name": "stdout",
          "output_type": "stream",
          "text": [
            "Review text: Este produto superou todas as minhas expectativas! A qualidade é excepcional e o desempenho é impecável. Recomendo a todos que buscam algo confiável e eficiente. Vale cada centavo!\n"
          ]
        },
        {
          "name": "stderr",
          "output_type": "stream",
          "text": [
            "\rGenerating for OUTPUT-b2w_dev_reviewText_LLAMA_bm25-none_k4:   0%|          | 11/2500 [00:09<36:13,  1.15it/s]"
          ]
        },
        {
          "name": "stdout",
          "output_type": "stream",
          "text": [
            "Review text: Este aparelho é claramente falsificado. A qualidade é muito inferior ao que foi prometido, e não funciona como deveria. Fiquei bastante decepcionado com a compra e não recomendo a ninguém. É melhor investir em um produto original.\n"
          ]
        },
        {
          "name": "stderr",
          "output_type": "stream",
          "text": [
            "\rGenerating for OUTPUT-b2w_dev_reviewText_LLAMA_bm25-none_k4:   0%|          | 12/2500 [00:10<32:56,  1.26it/s]"
          ]
        },
        {
          "name": "stdout",
          "output_type": "stream",
          "text": [
            "Review text: \"Comprei o produto e fiquei muito animado, mas ao abrir a caixa percebi que faltou o fone de ouvido. Isso foi uma grande decepção, pois esperava ter tudo que precisava. O restante do produto é bom, mas a ausência do fone realmente deixou a desejar.\"\n"
          ]
        },
        {
          "name": "stderr",
          "output_type": "stream",
          "text": [
            "\rGenerating for OUTPUT-b2w_dev_reviewText_LLAMA_bm25-none_k4:   1%|          | 13/2500 [00:10<29:54,  1.39it/s]"
          ]
        },
        {
          "name": "stdout",
          "output_type": "stream",
          "text": [
            "Review text: Este produto superou minhas expectativas! A qualidade é excelente e cumpre exatamente o que promete. Recomendo para quem busca eficiência e durabilidade. Vale cada centavo!\n"
          ]
        },
        {
          "name": "stderr",
          "output_type": "stream",
          "text": [
            "\rGenerating for OUTPUT-b2w_dev_reviewText_LLAMA_bm25-none_k4:   1%|          | 14/2500 [00:11<28:16,  1.47it/s]"
          ]
        },
        {
          "name": "stdout",
          "output_type": "stream",
          "text": [
            "Review text: \"Este produto superou minhas expectativas! A qualidade é excelente e o desempenho é impecável. Estou muito satisfeito com a compra e recomendo a todos que buscam algo confiável e eficaz. Vale cada centavo!\"\n"
          ]
        },
        {
          "name": "stderr",
          "output_type": "stream",
          "text": [
            "\rGenerating for OUTPUT-b2w_dev_reviewText_LLAMA_bm25-none_k4:   1%|          | 15/2500 [00:11<24:27,  1.69it/s]"
          ]
        },
        {
          "name": "stdout",
          "output_type": "stream",
          "text": [
            "Review text: Este produto é de péssima qualidade. Não atendeu às minhas expectativas e apresentou problemas logo na primeira utilização. Definitivamente não recomendo!\n"
          ]
        },
        {
          "name": "stderr",
          "output_type": "stream",
          "text": [
            "\rGenerating for OUTPUT-b2w_dev_reviewText_LLAMA_bm25-none_k4:   1%|          | 16/2500 [00:12<24:36,  1.68it/s]"
          ]
        },
        {
          "name": "stdout",
          "output_type": "stream",
          "text": [
            "Review text: \"Estou muito satisfeito com a qualidade deste produto! Atendeu todas as minhas expectativas e é realmente eficiente. Recomendo a todos que buscam algo confiável e de bom desempenho. Vale cada centavo!\"\n"
          ]
        },
        {
          "name": "stderr",
          "output_type": "stream",
          "text": [
            "\rGenerating for OUTPUT-b2w_dev_reviewText_LLAMA_bm25-none_k4:   1%|          | 17/2500 [00:13<25:13,  1.64it/s]"
          ]
        },
        {
          "name": "stdout",
          "output_type": "stream",
          "text": [
            "Review text: \"Desde que adquirí este producto, mis expectativas han sido superadas. La calidad es excepcional y ha funcionado perfectamente en mi día a día. Definitivamente lo recomendaría a quienes buscan algo confiable y eficiente. ¡Una gran compra!\"\n"
          ]
        },
        {
          "name": "stderr",
          "output_type": "stream",
          "text": [
            "\rGenerating for OUTPUT-b2w_dev_reviewText_LLAMA_bm25-none_k4:   1%|          | 18/2500 [00:13<25:29,  1.62it/s]"
          ]
        },
        {
          "name": "stdout",
          "output_type": "stream",
          "text": [
            "Review text: Este leitor de digital é extremamente frustrante. A cada tentativa, parece que ele não reconhece minha impressão digital, mesmo após várias configurações. O tempo de resposta é lento e muitas vezes preciso recorrer à senha, o que torna todo o processo inconveniente. Esperava mais eficiência e praticidade. Não recomendo!\n"
          ]
        },
        {
          "name": "stderr",
          "output_type": "stream",
          "text": [
            "\rGenerating for OUTPUT-b2w_dev_reviewText_LLAMA_bm25-none_k4:   1%|          | 19/2500 [00:14<25:49,  1.60it/s]"
          ]
        },
        {
          "name": "stdout",
          "output_type": "stream",
          "text": [
            "Review text: Infelizmente, o produto chegou com defeito. Não funcionou como esperado e tive que entrar em contato com o suporte para tentar resolver a situação. Fiquei bastante decepcionado, pois esperava uma qualidade melhor. Espero que a troca ou o reembolso sejam rápidos.\n"
          ]
        },
        {
          "name": "stderr",
          "output_type": "stream",
          "text": [
            "\rGenerating for OUTPUT-b2w_dev_reviewText_LLAMA_bm25-none_k4:   1%|          | 20/2500 [00:15<26:39,  1.55it/s]"
          ]
        },
        {
          "name": "stdout",
          "output_type": "stream",
          "text": [
            "Review text: A réplica que recebi é de péssima qualidade. Os materiais usados são baratos e não correspondem ao que foi anunciado. Além disso, os detalhes são mal feitos e a peça parece frágil. Definitivamente não vale o preço pago. Não recomendo!\n"
          ]
        },
        {
          "name": "stderr",
          "output_type": "stream",
          "text": [
            "\rGenerating for OUTPUT-b2w_dev_reviewText_LLAMA_bm25-none_k4:   1%|          | 21/2500 [00:15<25:53,  1.60it/s]"
          ]
        },
        {
          "name": "stdout",
          "output_type": "stream",
          "text": [
            "Review text: \"Absolutely love this product! It exceeded my expectations in every way. The quality is top-notch, and it performs flawlessly. I can't recommend it enough to anyone considering a purchase. It's worth every penny!\"\n"
          ]
        },
        {
          "name": "stderr",
          "output_type": "stream",
          "text": [
            "\rGenerating for OUTPUT-b2w_dev_reviewText_LLAMA_bm25-none_k4:   1%|          | 22/2500 [00:16<30:36,  1.35it/s]"
          ]
        },
        {
          "name": "stdout",
          "output_type": "stream",
          "text": [
            "Review title: 'Moto G5'  \n",
            "Review text: The Moto G5 is an impressive budget smartphone that offers great value for money. The design is sleek and feels premium in hand, with a vibrant display that makes everything pop. Performance-wise, it handles everyday tasks smoothly, and the battery life is exceptional, easily lasting a full day with regular use. The camera takes decent photos in good lighting, although it struggles a bit in low light. Overall, it's a solid choice for anyone looking for a reliable and affordable phone. Highly recommended!\n"
          ]
        },
        {
          "name": "stderr",
          "output_type": "stream",
          "text": [
            "\rGenerating for OUTPUT-b2w_dev_reviewText_LLAMA_bm25-none_k4:   1%|          | 23/2500 [00:17<29:55,  1.38it/s]"
          ]
        },
        {
          "name": "stdout",
          "output_type": "stream",
          "text": [
            "Review text: \"Após levar o produto à assistência técnica, fiquei muito satisfeito com o resultado. O atendimento foi excelente e o problema foi resolvido rapidamente. Agora, o desempenho está impecável e atendeu todas as minhas expectativas. Recomendo!\"\n"
          ]
        },
        {
          "name": "stderr",
          "output_type": "stream",
          "text": [
            "\rGenerating for OUTPUT-b2w_dev_reviewText_LLAMA_bm25-none_k4:   1%|          | 24/2500 [00:17<28:36,  1.44it/s]"
          ]
        },
        {
          "name": "stdout",
          "output_type": "stream",
          "text": [
            "Review text: Este produto superou minhas expectativas! A qualidade é excelente e o desempenho é notável. Recomendo a todos que buscam algo confiável e eficaz. Estou muito satisfeito com a minha compra!\n"
          ]
        },
        {
          "name": "stderr",
          "output_type": "stream",
          "text": [
            "\rGenerating for OUTPUT-b2w_dev_reviewText_LLAMA_bm25-none_k4:   1%|          | 25/2500 [00:18<27:25,  1.50it/s]"
          ]
        },
        {
          "name": "stdout",
          "output_type": "stream",
          "text": [
            "Review text: Adorei este produto! A qualidade superou minhas expectativas e o desempenho é incrível. Recomendo a todos que buscam algo realmente eficaz e confiável. Com certeza, voltarei a comprar!\n"
          ]
        },
        {
          "name": "stderr",
          "output_type": "stream",
          "text": [
            "\rGenerating for OUTPUT-b2w_dev_reviewText_LLAMA_bm25-none_k4:   1%|          | 26/2500 [00:19<30:33,  1.35it/s]"
          ]
        },
        {
          "name": "stdout",
          "output_type": "stream",
          "text": [
            "Review text: I recently purchased this smartphone, and I must say, it has exceeded my expectations! The display is stunning, with vibrant colors and sharp resolution that makes everything from browsing to gaming a pleasure. The camera quality is impressive, capturing detailed photos even in low light. Battery life is fantastic; I can easily get through a full day without needing to recharge. The user interface is smooth and intuitive, making navigation a breeze. Overall, this smartphone offers great value for its price, and I highly recommend it to anyone in the market for a new device!\n"
          ]
        },
        {
          "name": "stderr",
          "output_type": "stream",
          "text": [
            "\rGenerating for OUTPUT-b2w_dev_reviewText_LLAMA_bm25-none_k4:   1%|          | 27/2500 [00:20<28:55,  1.42it/s]"
          ]
        },
        {
          "name": "stdout",
          "output_type": "stream",
          "text": [
            "Review text: Adorei este produto! Atendeu todas as minhas expectativas e a qualidade é excelente. Com certeza recomendo para quem busca algo eficaz e durável. Vale cada centavo!\n"
          ]
        },
        {
          "name": "stderr",
          "output_type": "stream",
          "text": [
            "\rGenerating for OUTPUT-b2w_dev_reviewText_LLAMA_bm25-none_k4:   1%|          | 28/2500 [00:20<28:25,  1.45it/s]"
          ]
        },
        {
          "name": "stdout",
          "output_type": "stream",
          "text": [
            "Review text: \"Este produto se tornou essencial na minha rotina! A qualidade é incrível e os resultados são visíveis desde o primeiro uso. Não consigo imaginar meu dia a dia sem ele. Recomendo a todos que buscam uma solução eficaz e prática!\"\n"
          ]
        },
        {
          "name": "stderr",
          "output_type": "stream",
          "text": [
            "\rGenerating for OUTPUT-b2w_dev_reviewText_LLAMA_bm25-none_k4:   1%|          | 29/2500 [00:21<27:15,  1.51it/s]"
          ]
        },
        {
          "name": "stdout",
          "output_type": "stream",
          "text": [
            "Review text: \"Comprei este produto recentemente e estou extremamente satisfeito! A qualidade é excelente, superou minhas expectativas. Além disso, o atendimento foi impecável e a entrega rápida. Recomendo a todos que buscam algo realmente bom!\"\n"
          ]
        },
        {
          "name": "stderr",
          "output_type": "stream",
          "text": [
            "\rGenerating for OUTPUT-b2w_dev_reviewText_LLAMA_bm25-none_k4:   1%|          | 30/2500 [00:21<25:25,  1.62it/s]"
          ]
        },
        {
          "name": "stdout",
          "output_type": "stream",
          "text": [
            "Review text: Este produto superou minhas expectativas! A qualidade é excelente e o desempenho é notável. Recomendo a todos que buscam algo confiável e eficiente. Vale cada centavo!\n"
          ]
        },
        {
          "name": "stderr",
          "output_type": "stream",
          "text": [
            "\rGenerating for OUTPUT-b2w_dev_reviewText_LLAMA_bm25-none_k4:   1%|          | 31/2500 [00:22<26:09,  1.57it/s]"
          ]
        },
        {
          "name": "stdout",
          "output_type": "stream",
          "text": [
            "Review text: Este produto é simplesmente maravilhoso! A qualidade é excepcional e superou todas as minhas expectativas. Desde o design até a funcionalidade, tudo é perfeito. Recomendo a todos que buscam algo especial e de alta performance. Estou muito satisfeito com a minha compra!\n"
          ]
        },
        {
          "name": "stderr",
          "output_type": "stream",
          "text": [
            "\rGenerating for OUTPUT-b2w_dev_reviewText_LLAMA_bm25-none_k4:   1%|▏         | 32/2500 [00:23<26:49,  1.53it/s]"
          ]
        },
        {
          "name": "stdout",
          "output_type": "stream",
          "text": [
            "Review text: Minha filha ficou encantada com este produto! A qualidade é excelente e o design é super divertido. Ela não para de brincar e está sempre pedindo para usar. Recomendo muito para quem quer trazer alegria para os pequenos!\n"
          ]
        },
        {
          "name": "stderr",
          "output_type": "stream",
          "text": [
            "\rGenerating for OUTPUT-b2w_dev_reviewText_LLAMA_bm25-none_k4:   1%|▏         | 33/2500 [00:23<26:28,  1.55it/s]"
          ]
        },
        {
          "name": "stdout",
          "output_type": "stream",
          "text": [
            "Review text: Este produto superou todas as minhas expectativas! A qualidade é excepcional e o desempenho é impecável. Recomendo a todos que buscam algo confiável e eficiente. Vale cada centavo!\n"
          ]
        },
        {
          "name": "stderr",
          "output_type": "stream",
          "text": [
            "\rGenerating for OUTPUT-b2w_dev_reviewText_LLAMA_bm25-none_k4:   1%|▏         | 34/2500 [00:24<25:00,  1.64it/s]"
          ]
        },
        {
          "name": "stdout",
          "output_type": "stream",
          "text": [
            "Review text: \"Este produto superou minhas expectativas! A qualidade é excelente e funcionou perfeitamente desde o primeiro uso. Recomendo a todos que buscam algo confiável e eficaz. Vale cada centavo!\"\n"
          ]
        },
        {
          "name": "stderr",
          "output_type": "stream",
          "text": [
            "\rGenerating for OUTPUT-b2w_dev_reviewText_LLAMA_bm25-none_k4:   1%|▏         | 35/2500 [00:24<24:36,  1.67it/s]"
          ]
        },
        {
          "name": "stdout",
          "output_type": "stream",
          "text": [
            "Review text: \"Infelizmente, o produto que recebi veio incompleto, o que foi muito frustrante. Além disso, a entrega foi péssima, atrasou muito e não recebi atualizações sobre o status. Não estou satisfeito e não recomendo.\"\n"
          ]
        },
        {
          "name": "stderr",
          "output_type": "stream",
          "text": [
            "\rGenerating for OUTPUT-b2w_dev_reviewText_LLAMA_bm25-none_k4:   1%|▏         | 36/2500 [00:25<22:46,  1.80it/s]"
          ]
        },
        {
          "name": "stdout",
          "output_type": "stream",
          "text": [
            "Review text: Este produto chegou com peças faltando, o que comprometeu totalmente a minha experiência. Esperava mais qualidade e atenção aos detalhes. Não recomendo para quem busca um item completo e funcional.\n"
          ]
        },
        {
          "name": "stderr",
          "output_type": "stream",
          "text": [
            "\rGenerating for OUTPUT-b2w_dev_reviewText_LLAMA_bm25-none_k4:   1%|▏         | 37/2500 [00:25<23:05,  1.78it/s]"
          ]
        },
        {
          "name": "stdout",
          "output_type": "stream",
          "text": [
            "Review text: O produto é de alta qualidade e atendeu todas as minhas expectativas. A performance é excepcional e os resultados são visíveis desde o primeiro uso. Recomendo a todos que buscam um produto confiável e eficiente.\n"
          ]
        },
        {
          "name": "stderr",
          "output_type": "stream",
          "text": [
            "\rGenerating for OUTPUT-b2w_dev_reviewText_LLAMA_bm25-none_k4:   2%|▏         | 38/2500 [00:26<22:42,  1.81it/s]"
          ]
        },
        {
          "name": "stdout",
          "output_type": "stream",
          "text": [
            "Review text: Este produto chegou com várias peças faltando, o que foi bastante decepcionante. A qualidade parecia boa, mas a falta de componentes essenciais impossibilitou o uso. Espero que o suporte ao cliente possa resolver essa situação rapidamente.\n"
          ]
        },
        {
          "name": "stderr",
          "output_type": "stream",
          "text": [
            "\rGenerating for OUTPUT-b2w_dev_reviewText_LLAMA_bm25-none_k4:   2%|▏         | 39/2500 [00:27<23:12,  1.77it/s]"
          ]
        },
        {
          "name": "stdout",
          "output_type": "stream",
          "text": [
            "Review text: Estou muito satisfeita com este produto! Ele superou minhas expectativas em termos de qualidade e desempenho. A entrega foi rápida e o atendimento ao cliente foi excepcional. Com certeza, recomendo a todos que estão em busca de algo confiável e eficiente. Vale cada centavo!\n"
          ]
        },
        {
          "name": "stderr",
          "output_type": "stream",
          "text": [
            "\rGenerating for OUTPUT-b2w_dev_reviewText_LLAMA_bm25-none_k4:   2%|▏         | 40/2500 [00:27<24:55,  1.65it/s]"
          ]
        },
        {
          "name": "stdout",
          "output_type": "stream",
          "text": [
            "Review text: Este produto é extremamente prático, facilitando o uso no dia a dia. Além disso, a limpeza é rápida e descomplicada, o que é um grande diferencial. Recomendo para quem busca eficiência e praticidade!\n"
          ]
        },
        {
          "name": "stderr",
          "output_type": "stream",
          "text": [
            "\rGenerating for OUTPUT-b2w_dev_reviewText_LLAMA_bm25-none_k4:   2%|▏         | 41/2500 [00:28<23:13,  1.76it/s]"
          ]
        },
        {
          "name": "stdout",
          "output_type": "stream",
          "text": [
            "Review text: Este produto superou minhas expectativas! A qualidade é excelente e ele funciona perfeitamente. Recomendo a todos que buscam um item confiável e eficiente. Vale cada centavo!\n"
          ]
        },
        {
          "name": "stderr",
          "output_type": "stream",
          "text": [
            "\rGenerating for OUTPUT-b2w_dev_reviewText_LLAMA_bm25-none_k4:   2%|▏         | 42/2500 [00:28<23:31,  1.74it/s]"
          ]
        },
        {
          "name": "stdout",
          "output_type": "stream",
          "text": [
            "Review text: \"O BBB é realmente um achado! Além de bonito, o preço é super acessível. A qualidade é surpreendente e se destaca entre os produtos da mesma categoria. Recomendo para quem busca estilo sem gastar muito!\"\n"
          ]
        },
        {
          "name": "stderr",
          "output_type": "stream",
          "text": [
            "\rGenerating for OUTPUT-b2w_dev_reviewText_LLAMA_bm25-none_k4:   2%|▏         | 43/2500 [00:29<23:07,  1.77it/s]"
          ]
        },
        {
          "name": "stdout",
          "output_type": "stream",
          "text": [
            "Review text: \"Adorei o produto! Ele realmente atendeu todas as minhas expectativas e mais. A qualidade é excelente e o desempenho é impressionante. Com certeza, recomendo a todos que estão em busca de algo eficaz e confiável.\"\n"
          ]
        },
        {
          "name": "stderr",
          "output_type": "stream",
          "text": [
            "\rGenerating for OUTPUT-b2w_dev_reviewText_LLAMA_bm25-none_k4:   2%|▏         | 44/2500 [00:29<22:07,  1.85it/s]"
          ]
        },
        {
          "name": "stdout",
          "output_type": "stream",
          "text": [
            "Review text: \"Este produto superou todas as minhas expectativas! A qualidade é excepcional e o desempenho é impecável. Definitivamente vale cada centavo. Recomendo a todos!\"\n"
          ]
        },
        {
          "name": "stderr",
          "output_type": "stream",
          "text": [
            "\rGenerating for OUTPUT-b2w_dev_reviewText_LLAMA_bm25-none_k4:   2%|▏         | 45/2500 [00:30<23:03,  1.77it/s]"
          ]
        },
        {
          "name": "stdout",
          "output_type": "stream",
          "text": [
            "Review text: Este produto é simplesmente incrível! A qualidade é excepcional e superou todas as minhas expectativas. Desde o design até a funcionalidade, tudo é perfeito. Recomendo a todos que buscam algo realmente especial. Vale cada centavo!\n"
          ]
        },
        {
          "name": "stderr",
          "output_type": "stream",
          "text": [
            "\rGenerating for OUTPUT-b2w_dev_reviewText_LLAMA_bm25-none_k4:   2%|▏         | 46/2500 [00:31<22:47,  1.79it/s]"
          ]
        },
        {
          "name": "stdout",
          "output_type": "stream",
          "text": [
            "Review text: Este produto superou minhas expectativas! A qualidade é excelente e ele cumpre tudo o que promete. Recomendo a todos que buscam eficiência e durabilidade. Vale cada centavo!\n"
          ]
        },
        {
          "name": "stderr",
          "output_type": "stream",
          "text": [
            "\rGenerating for OUTPUT-b2w_dev_reviewText_LLAMA_bm25-none_k4:   2%|▏         | 47/2500 [00:31<25:32,  1.60it/s]"
          ]
        },
        {
          "name": "stdout",
          "output_type": "stream",
          "text": [
            "Review text: Este processador é excelente! A performance é impressionante, lidando com tarefas pesadas sem esforço. Os tempos de carregamento são rápidos e a multitarefa é suave. A eficiência energética também é um grande destaque, mantendo temperaturas baixas mesmo sob carga. Recomendo para quem busca um upgrade significativo no desempenho do computador!\n"
          ]
        },
        {
          "name": "stderr",
          "output_type": "stream",
          "text": [
            "\rGenerating for OUTPUT-b2w_dev_reviewText_LLAMA_bm25-none_k4:   2%|▏         | 48/2500 [00:32<26:01,  1.57it/s]"
          ]
        },
        {
          "name": "stdout",
          "output_type": "stream",
          "text": [
            "Review text: Este processador superou minhas expectativas! A qualidade é excepcional, proporcionando um desempenho rápido e eficiente para todas as minhas tarefas. A instalação foi simples e a compatibilidade com minha placa-mãe foi perfeita. Recomendo para quem busca um upgrade significativo no desempenho do computador. Vale cada centavo!\n"
          ]
        },
        {
          "name": "stderr",
          "output_type": "stream",
          "text": [
            "\rGenerating for OUTPUT-b2w_dev_reviewText_LLAMA_bm25-none_k4:   2%|▏         | 49/2500 [00:33<25:21,  1.61it/s]"
          ]
        },
        {
          "name": "stdout",
          "output_type": "stream",
          "text": [
            "Review text: \"Comprei este produto e fiquei muito satisfeito! A qualidade é excelente e atendeu todas as minhas expectativas. Recomendo a todos que estão em dúvida!\"\n"
          ]
        },
        {
          "name": "stderr",
          "output_type": "stream",
          "text": [
            "\rGenerating for OUTPUT-b2w_dev_reviewText_LLAMA_bm25-none_k4:   2%|▏         | 50/2500 [00:34<38:46,  1.05it/s]"
          ]
        },
        {
          "name": "stdout",
          "output_type": "stream",
          "text": [
            "Review text: \"Este produto superou minhas expectativas! A qualidade é excelente e ele funciona perfeitamente. Estou muito satisfeito com a compra e recomendo a todos que buscam algo confiável e eficiente. Vale cada centavo!\"\n"
          ]
        },
        {
          "name": "stderr",
          "output_type": "stream",
          "text": [
            "\rGenerating for OUTPUT-b2w_dev_reviewText_LLAMA_bm25-none_k4:   2%|▏         | 51/2500 [00:35<36:19,  1.12it/s]"
          ]
        },
        {
          "name": "stdout",
          "output_type": "stream",
          "text": [
            "Review text: Este produto realmente superou minhas expectativas! O preço é muito acessível e a qualidade é excelente. Usei por algumas semanas e já percebo resultados significativos. Recomendo a todos que buscam uma opção que não comprometa o orçamento, mas que ofereça um desempenho satisfatório. Vale cada centavo!\n"
          ]
        },
        {
          "name": "stderr",
          "output_type": "stream",
          "text": [
            "\rGenerating for OUTPUT-b2w_dev_reviewText_LLAMA_bm25-none_k4:   2%|▏         | 52/2500 [00:36<34:27,  1.18it/s]"
          ]
        },
        {
          "name": "stdout",
          "output_type": "stream",
          "text": [
            "Review text: Este produto superou minhas expectativas em termos de funcionalidade. Ele é fácil de usar e atende a todas as minhas necessidades diárias. A qualidade é excelente e o design é prático. Recomendo para quem busca algo eficiente e versátil!\n"
          ]
        },
        {
          "name": "stderr",
          "output_type": "stream",
          "text": [
            "\rGenerating for OUTPUT-b2w_dev_reviewText_LLAMA_bm25-none_k4:   2%|▏         | 53/2500 [00:36<31:48,  1.28it/s]"
          ]
        },
        {
          "name": "stdout",
          "output_type": "stream",
          "text": [
            "Review text: \"Adorei! Este produto superou minhas expectativas. A qualidade é excelente e o desempenho é incrível. Definitivamente, recomendo para quem busca algo eficaz e confiável. Vale cada centavo!\"\n"
          ]
        },
        {
          "name": "stderr",
          "output_type": "stream",
          "text": [
            "\rGenerating for OUTPUT-b2w_dev_reviewText_LLAMA_bm25-none_k4:   2%|▏         | 54/2500 [00:37<32:09,  1.27it/s]"
          ]
        },
        {
          "name": "stdout",
          "output_type": "stream",
          "text": [
            "Review text: I had high hopes for this product, but it only met about 70% of my expectations. While it has some great features, there are a few areas that need improvement. The design is appealing, and it functions well most of the time, but I encountered some issues that detracted from the overall experience. I think with a few tweaks, it could be a fantastic product.\n"
          ]
        },
        {
          "name": "stderr",
          "output_type": "stream",
          "text": [
            "\rGenerating for OUTPUT-b2w_dev_reviewText_LLAMA_bm25-none_k4:   2%|▏         | 55/2500 [00:38<28:54,  1.41it/s]"
          ]
        },
        {
          "name": "stdout",
          "output_type": "stream",
          "text": [
            "Review text: \"Este produto superou todas as minhas expectativas! A qualidade é excepcional e o desempenho é incrível. Estou completamente apaixonado por ele e definitivamente recomendo a todos que buscam algo realmente maravilhoso. Vale cada centavo!\"\n"
          ]
        },
        {
          "name": "stderr",
          "output_type": "stream",
          "text": [
            "\rGenerating for OUTPUT-b2w_dev_reviewText_LLAMA_bm25-none_k4:   2%|▏         | 56/2500 [00:38<26:40,  1.53it/s]"
          ]
        },
        {
          "name": "stdout",
          "output_type": "stream",
          "text": [
            "Review text: Este produto superou minhas expectativas! A qualidade é excelente e a performance é impecável. Vale cada centavo. Recomendo a todos que estão em busca de um produto confiável e eficiente.\n"
          ]
        },
        {
          "name": "stderr",
          "output_type": "stream",
          "text": [
            "\rGenerating for OUTPUT-b2w_dev_reviewText_LLAMA_bm25-none_k4:   2%|▏         | 57/2500 [00:39<29:29,  1.38it/s]"
          ]
        },
        {
          "name": "stdout",
          "output_type": "stream",
          "text": [
            "Review text: \"Esse produto superou minhas expectativas! A qualidade é excelente e o desempenho é incrível. Recomendo a todos que buscam algo realmente eficaz. Vale cada centavo!\"\n"
          ]
        },
        {
          "name": "stderr",
          "output_type": "stream",
          "text": [
            "\rGenerating for OUTPUT-b2w_dev_reviewText_LLAMA_bm25-none_k4:   2%|▏         | 58/2500 [00:40<28:41,  1.42it/s]"
          ]
        },
        {
          "name": "stdout",
          "output_type": "stream",
          "text": [
            "Review text: O Produto é realmente excelente! A qualidade superou minhas expectativas e ele atende perfeitamente às minhas necessidades. Recomendo a todos que buscam algo confiável e eficaz. Vale cada centavo!\n"
          ]
        },
        {
          "name": "stderr",
          "output_type": "stream",
          "text": [
            "\rGenerating for OUTPUT-b2w_dev_reviewText_LLAMA_bm25-none_k4:   2%|▏         | 59/2500 [00:41<28:54,  1.41it/s]"
          ]
        },
        {
          "name": "stdout",
          "output_type": "stream",
          "text": [
            "Review text: Este produto superou minhas expectativas! A qualidade é excelente e a performance é impecável. Recomendo a todos que buscam um item confiável e eficiente. Vale cada centavo!\n"
          ]
        },
        {
          "name": "stderr",
          "output_type": "stream",
          "text": [
            "\rGenerating for OUTPUT-b2w_dev_reviewText_LLAMA_bm25-none_k4:   2%|▏         | 60/2500 [00:41<30:49,  1.32it/s]"
          ]
        },
        {
          "name": "stdout",
          "output_type": "stream",
          "text": [
            "Review text: Este produto superou minhas expectativas! A qualidade é excelente e o desempenho é notável. Recomendo para quem busca algo eficaz e confiável. Vale cada centavo!\n"
          ]
        },
        {
          "name": "stderr",
          "output_type": "stream",
          "text": [
            "\rGenerating for OUTPUT-b2w_dev_reviewText_LLAMA_bm25-none_k4:   2%|▏         | 61/2500 [00:42<29:58,  1.36it/s]"
          ]
        },
        {
          "name": "stdout",
          "output_type": "stream",
          "text": [
            "Review text: Este produto superou minhas expectativas! A qualidade é excelente e ele funciona perfeitamente. Recomendo a todos que buscam algo confiável e eficiente. Vale cada centavo!\n"
          ]
        },
        {
          "name": "stderr",
          "output_type": "stream",
          "text": [
            "\rGenerating for OUTPUT-b2w_dev_reviewText_LLAMA_bm25-none_k4:   2%|▏         | 62/2500 [00:43<28:36,  1.42it/s]"
          ]
        },
        {
          "name": "stdout",
          "output_type": "stream",
          "text": [
            "Review text: This product exceeded my expectations in every way! The quality is outstanding, and it performs flawlessly. I couldn't be happier with my purchase. Highly recommend it to anyone looking for something reliable and effective!\n"
          ]
        },
        {
          "name": "stderr",
          "output_type": "stream",
          "text": [
            "\rGenerating for OUTPUT-b2w_dev_reviewText_LLAMA_bm25-none_k4:   3%|▎         | 63/2500 [00:43<28:44,  1.41it/s]"
          ]
        },
        {
          "name": "stdout",
          "output_type": "stream",
          "text": [
            "Review text: Este produto superou minhas expectativas em termos de qualidade e preço. A relação custo-benefício é realmente excelente, pois oferece funcionalidades que normalmente encontramos em itens mais caros. Recomendo para quem busca um bom desempenho sem gastar muito. Vale cada centavo!\n"
          ]
        },
        {
          "name": "stderr",
          "output_type": "stream",
          "text": [
            "\rGenerating for OUTPUT-b2w_dev_reviewText_LLAMA_bm25-none_k4:   3%|▎         | 64/2500 [00:44<26:07,  1.55it/s]"
          ]
        },
        {
          "name": "stdout",
          "output_type": "stream",
          "text": [
            "Review text: Este produto superou minhas expectativas! A qualidade é excelente e ele funciona perfeitamente. Recomendo a todos que buscam um item confiável e eficiente. Vale cada centavo!\n"
          ]
        },
        {
          "name": "stderr",
          "output_type": "stream",
          "text": [
            "\rGenerating for OUTPUT-b2w_dev_reviewText_LLAMA_bm25-none_k4:   3%|▎         | 65/2500 [00:44<23:40,  1.71it/s]"
          ]
        },
        {
          "name": "stdout",
          "output_type": "stream",
          "text": [
            "Review text: Este produto superou minhas expectativas! A qualidade é excelente e ele funciona perfeitamente para o que eu precisava. Recomendo a todos que buscam um bom investimento. Vale cada centavo!\n"
          ]
        },
        {
          "name": "stderr",
          "output_type": "stream",
          "text": [
            "\rGenerating for OUTPUT-b2w_dev_reviewText_LLAMA_bm25-none_k4:   3%|▎         | 66/2500 [00:45<23:14,  1.75it/s]"
          ]
        },
        {
          "name": "stdout",
          "output_type": "stream",
          "text": [
            "Review text: \"Estou impressionado com a qualidade deste produto! Desde o primeiro uso, ficou claro que foi feito para durar. Os materiais são excelentes e o desempenho superou minhas expectativas. Recomendo a todos que buscam algo realmente bom!\"\n"
          ]
        },
        {
          "name": "stderr",
          "output_type": "stream",
          "text": [
            "\rGenerating for OUTPUT-b2w_dev_reviewText_LLAMA_bm25-none_k4:   3%|▎         | 67/2500 [00:45<23:10,  1.75it/s]"
          ]
        },
        {
          "name": "stdout",
          "output_type": "stream",
          "text": [
            "Review text: \"Esse produto superou todas as minhas expectativas! A qualidade é excepcional e o desempenho é impecável. Recomendo a todos que buscam algo confiável e eficiente. Vale cada centavo!\"\n"
          ]
        },
        {
          "name": "stderr",
          "output_type": "stream",
          "text": [
            "\rGenerating for OUTPUT-b2w_dev_reviewText_LLAMA_bm25-none_k4:   3%|▎         | 68/2500 [00:46<21:59,  1.84it/s]"
          ]
        },
        {
          "name": "stdout",
          "output_type": "stream",
          "text": [
            "Review text: Este produto superou minhas expectativas! A qualidade é excelente e o desempenho é notável. Recomendo a todos que buscam algo confiável e eficiente. Vale cada centavo!\n"
          ]
        },
        {
          "name": "stderr",
          "output_type": "stream",
          "text": [
            "\rGenerating for OUTPUT-b2w_dev_reviewText_LLAMA_bm25-none_k4:   3%|▎         | 69/2500 [00:46<20:46,  1.95it/s]"
          ]
        },
        {
          "name": "stdout",
          "output_type": "stream",
          "text": [
            "Review text: Adorei o produto! Atendeu todas as minhas expectativas e a qualidade é excelente. Recomendo a todos que estão em busca de algo semelhante.\n"
          ]
        },
        {
          "name": "stderr",
          "output_type": "stream",
          "text": [
            "\rGenerating for OUTPUT-b2w_dev_reviewText_LLAMA_bm25-none_k4:   3%|▎         | 70/2500 [00:47<22:21,  1.81it/s]"
          ]
        },
        {
          "name": "stdout",
          "output_type": "stream",
          "text": [
            "Review text: Este produto é simplesmente incrível! Desde que comecei a usá-lo, notei uma diferença significativa. A qualidade é excepcional e superou todas as minhas expectativas. Recomendo a todos que buscam algo eficaz e de alta qualidade. Estou completamente apaixonada!\n"
          ]
        },
        {
          "name": "stderr",
          "output_type": "stream",
          "text": [
            "\rGenerating for OUTPUT-b2w_dev_reviewText_LLAMA_bm25-none_k4:   3%|▎         | 71/2500 [00:48<22:45,  1.78it/s]"
          ]
        },
        {
          "name": "stdout",
          "output_type": "stream",
          "text": [
            "Review text: Este produto superou todas as minhas expectativas! A qualidade é excepcional e a performance é incrível. Recomendo a todos que buscam um item confiável e eficiente. Vale cada centavo!\n"
          ]
        },
        {
          "name": "stderr",
          "output_type": "stream",
          "text": [
            "\rGenerating for OUTPUT-b2w_dev_reviewText_LLAMA_bm25-none_k4:   3%|▎         | 72/2500 [00:48<22:34,  1.79it/s]"
          ]
        },
        {
          "name": "stdout",
          "output_type": "stream",
          "text": [
            "Review text: \"Comprei este produto e simplesmente adorei! A qualidade é excepcional e superou minhas expectativas. Além disso, o design é lindo e combina perfeitamente com o que eu procurava. Recomendo a todos que estão em dúvida, vale cada centavo!\"\n"
          ]
        },
        {
          "name": "stderr",
          "output_type": "stream",
          "text": [
            "\rGenerating for OUTPUT-b2w_dev_reviewText_LLAMA_bm25-none_k4:   3%|▎         | 73/2500 [00:49<27:29,  1.47it/s]"
          ]
        },
        {
          "name": "stdout",
          "output_type": "stream",
          "text": [
            "Review text: \"Estou muito satisfeito com a minha experiência de compra na americanas.com! O site é fácil de navegar, e a variedade de produtos é impressionante. O atendimento ao cliente foi excepcional, sempre pronto para ajudar. Recebi meu pedido rapidamente e em perfeitas condições. Parabéns, americanas.com, vocês ganharam um cliente fiel!\"\n"
          ]
        },
        {
          "name": "stderr",
          "output_type": "stream",
          "text": [
            "\rGenerating for OUTPUT-b2w_dev_reviewText_LLAMA_bm25-none_k4:   3%|▎         | 74/2500 [00:50<26:29,  1.53it/s]"
          ]
        },
        {
          "name": "stdout",
          "output_type": "stream",
          "text": [
            "Review text: \"Estou muito satisfeito com a qualidade e a funcionalidade deste produto. Ele atendeu todas as minhas expectativas e superou algumas delas. A entrega foi rápida e o atendimento ao cliente foi excelente. Recomendo a todos que estão em busca de algo semelhante!\"\n"
          ]
        },
        {
          "name": "stderr",
          "output_type": "stream",
          "text": [
            "\rGenerating for OUTPUT-b2w_dev_reviewText_LLAMA_bm25-none_k4:   3%|▎         | 75/2500 [00:50<24:33,  1.65it/s]"
          ]
        },
        {
          "name": "stdout",
          "output_type": "stream",
          "text": [
            "Review text: \"Estou muito satisfeito com a qualidade e a eficiência do produto. Atendeu todas as minhas expectativas e é exatamente o que eu precisava. Recomendo a todos que buscam algo confiável e funcional!\"\n"
          ]
        },
        {
          "name": "stderr",
          "output_type": "stream",
          "text": [
            "\rGenerating for OUTPUT-b2w_dev_reviewText_LLAMA_bm25-none_k4:   3%|▎         | 76/2500 [00:51<27:36,  1.46it/s]"
          ]
        },
        {
          "name": "stdout",
          "output_type": "stream",
          "text": [
            "Review text: \"Esse produto superou todas as minhas expectativas! Desde o primeiro uso, eu senti que estava realizando um sonho que sempre tive. A qualidade é excepcional e os resultados são visíveis. Estou muito feliz e recomendo a todos que buscam algo especial. Vale cada centavo!\"\n"
          ]
        },
        {
          "name": "stderr",
          "output_type": "stream",
          "text": [
            "\rGenerating for OUTPUT-b2w_dev_reviewText_LLAMA_bm25-none_k4:   3%|▎         | 77/2500 [00:52<26:09,  1.54it/s]"
          ]
        },
        {
          "name": "stdout",
          "output_type": "stream",
          "text": [
            "Review text: \"Esse produto superou minhas expectativas! A qualidade é excelente e o desempenho é incrível. Recomendo a todos que buscam algo realmente bom. Vale cada centavo!\"\n"
          ]
        },
        {
          "name": "stderr",
          "output_type": "stream",
          "text": [
            "\rGenerating for OUTPUT-b2w_dev_reviewText_LLAMA_bm25-none_k4:   3%|▎         | 78/2500 [00:52<23:54,  1.69it/s]"
          ]
        },
        {
          "name": "stdout",
          "output_type": "stream",
          "text": [
            "Review text: \"Comprei este produto recentemente e fiquei muito satisfeito! A qualidade é excelente e atendeu todas as minhas expectativas. Recomendo a todos que buscam um bom desempenho e durabilidade. Vale cada centavo!\"\n"
          ]
        },
        {
          "name": "stderr",
          "output_type": "stream",
          "text": [
            "\rGenerating for OUTPUT-b2w_dev_reviewText_LLAMA_bm25-none_k4:   3%|▎         | 79/2500 [00:53<23:07,  1.74it/s]"
          ]
        },
        {
          "name": "stdout",
          "output_type": "stream",
          "text": [
            "Review text: Este produto superou minhas expectativas! A qualidade é excelente e o desempenho é notável. Recomendo a todos que buscam algo confiável e eficaz. Vale cada centavo!\n"
          ]
        },
        {
          "name": "stderr",
          "output_type": "stream",
          "text": [
            "\rGenerating for OUTPUT-b2w_dev_reviewText_LLAMA_bm25-none_k4:   3%|▎         | 80/2500 [00:53<25:43,  1.57it/s]"
          ]
        },
        {
          "name": "stdout",
          "output_type": "stream",
          "text": [
            "Review text: \"Comprei este produto recentemente e fiquei muito satisfeito com a qualidade. Ele superou minhas expectativas em termos de desempenho e durabilidade. Além disso, o design é muito atraente e se encaixa perfeitamente no meu estilo. Recomendo a todos que estão em dúvida, vale a pena!\"\n"
          ]
        },
        {
          "name": "stderr",
          "output_type": "stream",
          "text": [
            "\rGenerating for OUTPUT-b2w_dev_reviewText_LLAMA_bm25-none_k4:   3%|▎         | 81/2500 [00:54<24:36,  1.64it/s]"
          ]
        },
        {
          "name": "stdout",
          "output_type": "stream",
          "text": [
            "Review text: Este produto superou minhas expectativas! A qualidade é excelente e ele cumpre todas as promessas. Recomendo a todos que buscam um item confiável e eficiente. Vale cada centavo!\n"
          ]
        },
        {
          "name": "stderr",
          "output_type": "stream",
          "text": [
            "\rGenerating for OUTPUT-b2w_dev_reviewText_LLAMA_bm25-none_k4:   3%|▎         | 82/2500 [00:54<23:28,  1.72it/s]"
          ]
        },
        {
          "name": "stdout",
          "output_type": "stream",
          "text": [
            "Review text: \"Eu realmente gostei muito deste produto! A qualidade é excelente e superou minhas expectativas. Além disso, o design é muito bonito e funcional. Recomendo a todos que estão em busca de algo assim!\"\n"
          ]
        },
        {
          "name": "stderr",
          "output_type": "stream",
          "text": [
            "\rGenerating for OUTPUT-b2w_dev_reviewText_LLAMA_bm25-none_k4:   3%|▎         | 83/2500 [00:55<28:05,  1.43it/s]"
          ]
        },
        {
          "name": "stdout",
          "output_type": "stream",
          "text": [
            "Review text: \"Esse produto é incrível! A qualidade é excepcional e superou todas as minhas expectativas. Recomendo para quem busca algo realmente bom e durável. Vale cada centavo!\"\n"
          ]
        },
        {
          "name": "stderr",
          "output_type": "stream",
          "text": [
            "\rGenerating for OUTPUT-b2w_dev_reviewText_LLAMA_bm25-none_k4:   3%|▎         | 84/2500 [00:56<27:26,  1.47it/s]"
          ]
        },
        {
          "name": "stdout",
          "output_type": "stream",
          "text": [
            "Review text: Este produto superou minhas expectativas! A qualidade é excelente e o desempenho é notável. Recomendo a todos que buscam algo confiável e eficiente. Com certeza, vale o investimento!\n"
          ]
        },
        {
          "name": "stderr",
          "output_type": "stream",
          "text": [
            "\rGenerating for OUTPUT-b2w_dev_reviewText_LLAMA_bm25-none_k4:   3%|▎         | 85/2500 [00:57<26:38,  1.51it/s]"
          ]
        },
        {
          "name": "stdout",
          "output_type": "stream",
          "text": [
            "Review text: \"Comprei este produto recentemente e fiquei muito satisfeito com a qualidade e o desempenho. Ele atendeu todas as minhas expectativas e superou algumas delas. A entrega foi rápida e o atendimento ao cliente foi excelente. Recomendo a todos que estão em dúvida!\"\n"
          ]
        },
        {
          "name": "stderr",
          "output_type": "stream",
          "text": [
            "\rGenerating for OUTPUT-b2w_dev_reviewText_LLAMA_bm25-none_k4:   3%|▎         | 86/2500 [00:57<26:58,  1.49it/s]"
          ]
        },
        {
          "name": "stdout",
          "output_type": "stream",
          "text": [
            "Review text: Este produto é realmente impressionante! Sua versatilidade permite que eu o utilize em diversas situações do dia a dia, tornando-o uma ferramenta indispensável. A qualidade é excelente e a facilidade de uso é um grande diferencial. Recomendo a todos que buscam algo prático e eficiente!\n"
          ]
        },
        {
          "name": "stderr",
          "output_type": "stream",
          "text": [
            "\rGenerating for OUTPUT-b2w_dev_reviewText_LLAMA_bm25-none_k4:   3%|▎         | 87/2500 [00:58<25:09,  1.60it/s]"
          ]
        },
        {
          "name": "stdout",
          "output_type": "stream",
          "text": [
            "Review text: Este producto superó mis expectativas. La calidad es excepcional y cumple con todas las funciones que prometía. Definitivamente lo recomendaría a cualquier persona que busque algo confiable y efectivo. ¡Una compra excelente!\n"
          ]
        },
        {
          "name": "stderr",
          "output_type": "stream",
          "text": [
            "\rGenerating for OUTPUT-b2w_dev_reviewText_LLAMA_bm25-none_k4:   4%|▎         | 88/2500 [00:59<24:34,  1.64it/s]"
          ]
        },
        {
          "name": "stdout",
          "output_type": "stream",
          "text": [
            "Review text: Este produto superou todas as minhas expectativas! A qualidade é excepcional e a performance é incrível. Recomendo para quem busca um ótimo custo-benefício. Estou muito satisfeito com a minha compra!\n"
          ]
        },
        {
          "name": "stderr",
          "output_type": "stream",
          "text": [
            "\rGenerating for OUTPUT-b2w_dev_reviewText_LLAMA_bm25-none_k4:   4%|▎         | 89/2500 [00:59<25:24,  1.58it/s]"
          ]
        },
        {
          "name": "stdout",
          "output_type": "stream",
          "text": [
            "Review text: \"La entrega fue rápida y eficiente. Recibí el producto en perfectas condiciones y antes de lo esperado. Muy satisfecho con el servicio y la atención al cliente. Sin duda, volveré a comprar.\"\n"
          ]
        },
        {
          "name": "stderr",
          "output_type": "stream",
          "text": [
            "\rGenerating for OUTPUT-b2w_dev_reviewText_LLAMA_bm25-none_k4:   4%|▎         | 90/2500 [01:00<29:35,  1.36it/s]"
          ]
        },
        {
          "name": "stdout",
          "output_type": "stream",
          "text": [
            "Review text: \"Instalei o AVH-X7880TV em uma autorizada, mas infelizmente ele veio com um problema de fábrica. Desde o início, percebi que a tela apresentava falhas intermitentes e o sistema de áudio não funcionava como esperado. A equipe da autorizada tentou resolver, mas o problema persiste. Estou decepcionado, pois esperava mais de um produto dessa marca. Espero que a assistência técnica consiga solucionar essa questão em breve.\"\n"
          ]
        },
        {
          "name": "stderr",
          "output_type": "stream",
          "text": [
            "\rGenerating for OUTPUT-b2w_dev_reviewText_LLAMA_bm25-none_k4:   4%|▎         | 91/2500 [01:01<28:46,  1.40it/s]"
          ]
        },
        {
          "name": "stdout",
          "output_type": "stream",
          "text": [
            "Review text: Infelizmente, o produto não foi entregue conforme prometido. Fiquei bastante decepcionado com a falta de comunicação e a ausência de atualizações sobre o status do meu pedido. Esperava um atendimento melhor e uma solução mais rápida para esse problema.\n"
          ]
        },
        {
          "name": "stderr",
          "output_type": "stream",
          "text": [
            "\rGenerating for OUTPUT-b2w_dev_reviewText_LLAMA_bm25-none_k4:   4%|▎         | 92/2500 [01:02<29:04,  1.38it/s]"
          ]
        },
        {
          "name": "stdout",
          "output_type": "stream",
          "text": [
            "Review text: \"Comprei este produto esperando qualidade, mas me deparei com uma total falta de competência na entrega e um desrespeito ao consumidor. O atendimento foi péssimo e não houve qualquer esforço para resolver os problemas que surgiram. Uma experiência frustrante que definitivamente não recomendo!\"\n"
          ]
        },
        {
          "name": "stderr",
          "output_type": "stream",
          "text": [
            "\rGenerating for OUTPUT-b2w_dev_reviewText_LLAMA_bm25-none_k4:   4%|▎         | 93/2500 [01:04<46:01,  1.15s/it]"
          ]
        },
        {
          "name": "stdout",
          "output_type": "stream",
          "text": [
            "Review text: A qualidade do produto superou minhas expectativas, especialmente considerando o preço. É uma excelente opção para quem busca um bom desempenho sem gastar muito. Recomendo para quem quer um investimento inteligente!\n"
          ]
        },
        {
          "name": "stderr",
          "output_type": "stream",
          "text": [
            "\rGenerating for OUTPUT-b2w_dev_reviewText_LLAMA_bm25-none_k4:   4%|▍         | 94/2500 [01:05<49:24,  1.23s/it]"
          ]
        },
        {
          "name": "stdout",
          "output_type": "stream",
          "text": [
            "Review text: Este celular deixou muito a desejar. A performance é lenta, e a bateria não dura o dia todo. Além disso, a qualidade da câmera é decepcionante, com fotos que saem borradas mesmo em boas condições de iluminação. Não recomendo para quem busca um aparelho confiável.\n"
          ]
        },
        {
          "name": "stderr",
          "output_type": "stream",
          "text": [
            "\rGenerating for OUTPUT-b2w_dev_reviewText_LLAMA_bm25-none_k4:   4%|▍         | 95/2500 [01:06<45:11,  1.13s/it]"
          ]
        },
        {
          "name": "stdout",
          "output_type": "stream",
          "text": [
            "Review text: \"Infelizmente, tive muitos problemas com a câmera deste produto. A qualidade das fotos não é tão boa quanto eu esperava, e frequentemente a imagem sai desfocada. Além disso, a lente parece ter dificuldades em capturar imagens em ambientes com pouca luz. Estou decepcionado e espero que a marca possa resolver essas questões em futuras atualizações.\"\n"
          ]
        },
        {
          "name": "stderr",
          "output_type": "stream",
          "text": [
            "\rGenerating for OUTPUT-b2w_dev_reviewText_LLAMA_bm25-none_k4:   4%|▍         | 96/2500 [01:07<42:08,  1.05s/it]"
          ]
        },
        {
          "name": "stdout",
          "output_type": "stream",
          "text": [
            "Review text: Infelizmente, o produto veio com defeito. Assim que abri a embalagem, percebi que não funcionava corretamente. Tentei entrar em contato com o suporte, mas não obtive uma resposta satisfatória. Estou bastante desapontado com a qualidade e não recomendo a compra.\n"
          ]
        },
        {
          "name": "stderr",
          "output_type": "stream",
          "text": [
            "\rGenerating for OUTPUT-b2w_dev_reviewText_LLAMA_bm25-none_k4:   4%|▍         | 97/2500 [01:07<35:06,  1.14it/s]"
          ]
        },
        {
          "name": "stdout",
          "output_type": "stream",
          "text": [
            "Review text: Este produto superou minhas expectativas! A qualidade é excelente e o desempenho é incrível. Estou muito satisfeito com a compra e recomendo a todos que estão em busca de algo confiável e eficiente. Vale cada centavo!\n"
          ]
        },
        {
          "name": "stderr",
          "output_type": "stream",
          "text": [
            "\rGenerating for OUTPUT-b2w_dev_reviewText_LLAMA_bm25-none_k4:   4%|▍         | 98/2500 [01:08<30:33,  1.31it/s]"
          ]
        },
        {
          "name": "stdout",
          "output_type": "stream",
          "text": [
            "Review text: Este produto não atendeu às minhas expectativas. A qualidade é muito inferior ao que foi prometido. Senti que não valeu o investimento. Não recomendo.\n"
          ]
        },
        {
          "name": "stderr",
          "output_type": "stream",
          "text": [
            "\rGenerating for OUTPUT-b2w_dev_reviewText_LLAMA_bm25-none_k4:   4%|▍         | 99/2500 [01:09<37:55,  1.06it/s]"
          ]
        },
        {
          "name": "stdout",
          "output_type": "stream",
          "text": [
            "Review text: \"Comprei vários produtos na Americanas e sempre tive uma experiência incrível! A variedade é enorme, os preços são ótimos e a entrega é rápida. Além disso, o atendimento ao cliente é sempre prestativo. Recomendo a todos!\"\n"
          ]
        },
        {
          "name": "stderr",
          "output_type": "stream",
          "text": [
            "\rGenerating for OUTPUT-b2w_dev_reviewText_LLAMA_bm25-none_k4:   4%|▍         | 100/2500 [01:10<34:49,  1.15it/s]"
          ]
        },
        {
          "name": "stdout",
          "output_type": "stream",
          "text": [
            "Review text: Este produto superou minhas expectativas! A qualidade é excelente e ele funciona perfeitamente. Além disso, o design é muito bonito e prático. Recomendo a todos que estão em busca de algo confiável e eficiente. Vale cada centavo!\n"
          ]
        },
        {
          "name": "stderr",
          "output_type": "stream",
          "text": [
            "\rGenerating for OUTPUT-b2w_dev_reviewText_LLAMA_bm25-none_k4:   4%|▍         | 101/2500 [01:11<32:29,  1.23it/s]"
          ]
        },
        {
          "name": "stdout",
          "output_type": "stream",
          "text": [
            "Review text: Infelizmente, minha experiência com este produto foi bastante frustrante. Eu fiz o pedido há semanas e, até agora, não recebi nada. Tentei entrar em contato com o suporte, mas não obtive respostas satisfatórias. Estou decepcionado e espero que a situação seja resolvida em breve.\n"
          ]
        },
        {
          "name": "stderr",
          "output_type": "stream",
          "text": [
            "\rGenerating for OUTPUT-b2w_dev_reviewText_LLAMA_bm25-none_k4:   4%|▍         | 102/2500 [01:11<30:08,  1.33it/s]"
          ]
        },
        {
          "name": "stdout",
          "output_type": "stream",
          "text": [
            "Review text: Este produto superou minhas expectativas! A qualidade é excepcional e o desempenho é incrível. Recomendo a todos que buscam algo confiável e eficaz. Vale cada centavo!\n"
          ]
        },
        {
          "name": "stderr",
          "output_type": "stream",
          "text": [
            "\rGenerating for OUTPUT-b2w_dev_reviewText_LLAMA_bm25-none_k4:   4%|▍         | 103/2500 [01:12<29:55,  1.34it/s]"
          ]
        },
        {
          "name": "stdout",
          "output_type": "stream",
          "text": [
            "Review text: \"Infelizmente, minha experiência com este pedido foi muito frustrante. Fiz a compra com grandes expectativas, mas até agora não recebi os produtos. Tentei entrar em contato com o suporte, mas não obtive respostas satisfatórias. Espero que a situação seja resolvida em breve, pois estou ansioso para receber o que comprei.\"\n"
          ]
        },
        {
          "name": "stderr",
          "output_type": "stream",
          "text": [
            "\rGenerating for OUTPUT-b2w_dev_reviewText_LLAMA_bm25-none_k4:   4%|▍         | 104/2500 [01:13<27:35,  1.45it/s]"
          ]
        },
        {
          "name": "stdout",
          "output_type": "stream",
          "text": [
            "Review text: \"O produto é bom e cumpre sua função, mas não atendeu todas as minhas expectativas. A qualidade é razoável, mas esperava um desempenho melhor. Vale a pena, mas com algumas ressalvas.\"\n"
          ]
        },
        {
          "name": "stderr",
          "output_type": "stream",
          "text": [
            "\rGenerating for OUTPUT-b2w_dev_reviewText_LLAMA_bm25-none_k4:   4%|▍         | 105/2500 [01:13<27:36,  1.45it/s]"
          ]
        },
        {
          "name": "stdout",
          "output_type": "stream",
          "text": [
            "Review text: \"Este produto é simplesmente incrível! A sua versatilidade e eficiência me surpreenderam. Usei em diversas situações e sempre entregou resultados excepcionais. Recomendo a todos que buscam algo dinâmico e de alta qualidade!\"\n"
          ]
        },
        {
          "name": "stderr",
          "output_type": "stream",
          "text": [
            "\rGenerating for OUTPUT-b2w_dev_reviewText_LLAMA_bm25-none_k4:   4%|▍         | 106/2500 [01:14<26:14,  1.52it/s]"
          ]
        },
        {
          "name": "stdout",
          "output_type": "stream",
          "text": [
            "Review text: Este produto superou minhas expectativas! A qualidade é excelente e o desempenho é impressionante. Recomendo a todos que buscam algo confiável e eficaz. Vale cada centavo!\n"
          ]
        },
        {
          "name": "stderr",
          "output_type": "stream",
          "text": [
            "\rGenerating for OUTPUT-b2w_dev_reviewText_LLAMA_bm25-none_k4:   4%|▍         | 107/2500 [01:14<24:33,  1.62it/s]"
          ]
        },
        {
          "name": "stdout",
          "output_type": "stream",
          "text": [
            "Review text: \"O produto tem um bom potencial, mas deixou a desejar em alguns aspectos. A qualidade poderia ser melhor, e algumas funcionalidades não funcionam como esperado. Espero que em futuras atualizações isso seja corrigido.\"\n"
          ]
        },
        {
          "name": "stderr",
          "output_type": "stream",
          "text": [
            "\rGenerating for OUTPUT-b2w_dev_reviewText_LLAMA_bm25-none_k4:   4%|▍         | 108/2500 [01:15<23:48,  1.67it/s]"
          ]
        },
        {
          "name": "stdout",
          "output_type": "stream",
          "text": [
            "Review text: Este produto superou todas as minhas expectativas! A qualidade é excepcional e a performance é impecável. Recomendo a todos que buscam um item confiável e eficiente. Sem dúvida, vale cada centavo!\n"
          ]
        },
        {
          "name": "stderr",
          "output_type": "stream",
          "text": [
            "\rGenerating for OUTPUT-b2w_dev_reviewText_LLAMA_bm25-none_k4:   4%|▍         | 109/2500 [01:16<24:18,  1.64it/s]"
          ]
        },
        {
          "name": "stdout",
          "output_type": "stream",
          "text": [
            "Review text: Estou extremamente decepcionado, pois até o momento não recebi o produto que comprei. A falta de comunicação e atualização sobre o status do pedido só aumentou minha frustração. Espero que a situação seja resolvida rapidamente, mas, por enquanto, minha experiência foi muito negativa.\n"
          ]
        },
        {
          "name": "stderr",
          "output_type": "stream",
          "text": [
            "\rGenerating for OUTPUT-b2w_dev_reviewText_LLAMA_bm25-none_k4:   4%|▍         | 110/2500 [01:16<26:58,  1.48it/s]"
          ]
        },
        {
          "name": "stdout",
          "output_type": "stream",
          "text": [
            "Review text: \"Estou muito satisfeito com este produto! A qualidade é excepcional e atendeu todas as minhas expectativas. Recomendo a todos que buscam algo eficiente e durável. Vale cada centavo!\"\n"
          ]
        },
        {
          "name": "stderr",
          "output_type": "stream",
          "text": [
            "\rGenerating for OUTPUT-b2w_dev_reviewText_LLAMA_bm25-none_k4:   4%|▍         | 111/2500 [01:17<25:39,  1.55it/s]"
          ]
        },
        {
          "name": "stdout",
          "output_type": "stream",
          "text": [
            "Review text: \"A experiência foi um pouco confusa. O produto tem características interessantes, mas não consegui entender completamente como utilizá-lo. Precisa de mais clareza nas instruções. Espero que melhorem isso, pois acredito que tem potencial.\"\n"
          ]
        },
        {
          "name": "stderr",
          "output_type": "stream",
          "text": [
            "\rGenerating for OUTPUT-b2w_dev_reviewText_LLAMA_bm25-none_k4:   4%|▍         | 112/2500 [01:17<23:51,  1.67it/s]"
          ]
        },
        {
          "name": "stdout",
          "output_type": "stream",
          "text": [
            "Review text: \"Absolutely love this product! It exceeded my expectations in every way. The quality is top-notch, and it performs flawlessly. I highly recommend it to anyone looking for something reliable and effective. You won't be disappointed!\"\n"
          ]
        },
        {
          "name": "stderr",
          "output_type": "stream",
          "text": [
            "\rGenerating for OUTPUT-b2w_dev_reviewText_LLAMA_bm25-none_k4:   5%|▍         | 113/2500 [01:18<23:45,  1.67it/s]"
          ]
        },
        {
          "name": "stdout",
          "output_type": "stream",
          "text": [
            "Review text: \"Esse produto superou minhas expectativas! A qualidade é excelente e atendeu todas as minhas necessidades. Recomendo a todos que buscam algo eficiente e confiável. Com certeza, voltarei a comprar!\"\n"
          ]
        },
        {
          "name": "stderr",
          "output_type": "stream",
          "text": [
            "\rGenerating for OUTPUT-b2w_dev_reviewText_LLAMA_bm25-none_k4:   5%|▍         | 114/2500 [01:19<24:45,  1.61it/s]"
          ]
        },
        {
          "name": "stdout",
          "output_type": "stream",
          "text": [
            "Review text: A Antena Externa DTV-3000 superou todas as minhas expectativas! A qualidade do sinal é impressionante, e consegui captar diversos canais com clareza. A instalação foi simples e rápida, e o design é discreto, o que combina bem com a minha casa. Recomendo para quem busca uma solução eficiente para TV digital!\n"
          ]
        },
        {
          "name": "stderr",
          "output_type": "stream",
          "text": [
            "\rGenerating for OUTPUT-b2w_dev_reviewText_LLAMA_bm25-none_k4:   5%|▍         | 115/2500 [01:20<35:17,  1.13it/s]"
          ]
        },
        {
          "name": "stdout",
          "output_type": "stream",
          "text": [
            "Review text: Este produto superou minhas expectativas! A qualidade é excepcional e o desempenho é impecável. Recomendo a todos que buscam um item confiável e eficiente. Sem dúvida, uma ótima compra!\n"
          ]
        },
        {
          "name": "stderr",
          "output_type": "stream",
          "text": [
            "\rGenerating for OUTPUT-b2w_dev_reviewText_LLAMA_bm25-none_k4:   5%|▍         | 116/2500 [01:21<33:51,  1.17it/s]"
          ]
        },
        {
          "name": "stdout",
          "output_type": "stream",
          "text": [
            "Review text: \"Estou impressionado com a qualidade deste projetor! A imagem é nítida e vibrante, mesmo em ambientes com luz. A instalação foi simples e rápida, e as opções de conectividade são ótimas. Perfeito para minhas noites de cinema em casa. Recomendo a todos que buscam uma experiência de projeção excepcional!\"\n"
          ]
        },
        {
          "name": "stderr",
          "output_type": "stream",
          "text": [
            "\rGenerating for OUTPUT-b2w_dev_reviewText_LLAMA_bm25-none_k4:   5%|▍         | 117/2500 [01:21<30:06,  1.32it/s]"
          ]
        },
        {
          "name": "stdout",
          "output_type": "stream",
          "text": [
            "Review text: Estou muito satisfeito com o produto! Ele atendeu todas as minhas expectativas e a qualidade é excelente. Recomendo a todos que estão pensando em comprar. Vale cada centavo!\n"
          ]
        },
        {
          "name": "stderr",
          "output_type": "stream",
          "text": [
            "\rGenerating for OUTPUT-b2w_dev_reviewText_LLAMA_bm25-none_k4:   5%|▍         | 118/2500 [01:22<27:05,  1.47it/s]"
          ]
        },
        {
          "name": "stdout",
          "output_type": "stream",
          "text": [
            "Review text: \"Este produto superou todas as minhas expectativas! A qualidade é excepcional e o desempenho é incrível. Recomendo a todos que buscam algo confiável e eficaz. Vale cada centavo!\"\n"
          ]
        },
        {
          "name": "stderr",
          "output_type": "stream",
          "text": [
            "\rGenerating for OUTPUT-b2w_dev_reviewText_LLAMA_bm25-none_k4:   5%|▍         | 119/2500 [01:23<28:01,  1.42it/s]"
          ]
        },
        {
          "name": "stdout",
          "output_type": "stream",
          "text": [
            "Review text: \"I've built quite the collection of fragrances, and this one stands out as a must-have in my perfume arsenal. The scent is beautifully balanced, offering a perfect blend of floral and woody notes that lasts throughout the day. It's versatile enough for both daytime wear and evening outings. The packaging is elegant, making it a great addition to my vanity. Highly recommend for anyone looking to elevate their fragrance game!\"\n"
          ]
        },
        {
          "name": "stderr",
          "output_type": "stream",
          "text": [
            "\rGenerating for OUTPUT-b2w_dev_reviewText_LLAMA_bm25-none_k4:   5%|▍         | 120/2500 [01:23<25:35,  1.55it/s]"
          ]
        },
        {
          "name": "stdout",
          "output_type": "stream",
          "text": [
            "Review text: A entrega foi um verdadeiro desastre. O produto demorou muito mais do que o esperado para chegar e, quando finalmente chegou, estava danificado. A falta de comunicação da empresa só piorou a situação. Definitivamente, não recomendo!\n"
          ]
        },
        {
          "name": "stderr",
          "output_type": "stream",
          "text": [
            "\rGenerating for OUTPUT-b2w_dev_reviewText_LLAMA_bm25-none_k4:   5%|▍         | 121/2500 [01:24<25:15,  1.57it/s]"
          ]
        },
        {
          "name": "stdout",
          "output_type": "stream",
          "text": [
            "Review text: Estou muito satisfeito com o produto! Ele atendeu todas as minhas expectativas e é de ótima qualidade. Recomendo a todos que estão em busca de algo similar. Com certeza, vale a pena!\n"
          ]
        },
        {
          "name": "stderr",
          "output_type": "stream",
          "text": [
            "\rGenerating for OUTPUT-b2w_dev_reviewText_LLAMA_bm25-none_k4:   5%|▍         | 122/2500 [01:25<25:06,  1.58it/s]"
          ]
        },
        {
          "name": "stdout",
          "output_type": "stream",
          "text": [
            "Review text: \"Absolutely love this product! It exceeded my expectations in every way. The quality is top-notch, and it performs flawlessly. I highly recommend it to anyone looking for a reliable and effective solution. You won't be disappointed!\"\n"
          ]
        },
        {
          "name": "stderr",
          "output_type": "stream",
          "text": [
            "\rGenerating for OUTPUT-b2w_dev_reviewText_LLAMA_bm25-none_k4:   5%|▍         | 123/2500 [01:25<23:08,  1.71it/s]"
          ]
        },
        {
          "name": "stdout",
          "output_type": "stream",
          "text": [
            "Review text: Este produto superou minhas expectativas! A qualidade é excelente e ele funciona perfeitamente. Recomendo a todos que buscam algo confiável e eficiente. Vale cada centavo!\n"
          ]
        },
        {
          "name": "stderr",
          "output_type": "stream",
          "text": [
            "\rGenerating for OUTPUT-b2w_dev_reviewText_LLAMA_bm25-none_k4:   5%|▍         | 124/2500 [01:26<23:25,  1.69it/s]"
          ]
        },
        {
          "name": "stdout",
          "output_type": "stream",
          "text": [
            "Review text: \"Este produto superou todas as minhas expectativas! A qualidade é excepcional e o desempenho é impecável. Recomendo a todos que buscam algo realmente eficaz e confiável. Vale cada centavo!\"\n"
          ]
        },
        {
          "name": "stderr",
          "output_type": "stream",
          "text": [
            "\rGenerating for OUTPUT-b2w_dev_reviewText_LLAMA_bm25-none_k4:   5%|▌         | 125/2500 [01:26<24:10,  1.64it/s]"
          ]
        },
        {
          "name": "stdout",
          "output_type": "stream",
          "text": [
            "Review text: \"Comprei este produto recentemente e fiquei muito satisfeito! A qualidade é excelente e atendeu todas as minhas expectativas. Além disso, a entrega foi rápida e o atendimento ao cliente foi muito prestativo. Recomendo a todos que estão em dúvida!\"\n"
          ]
        },
        {
          "name": "stderr",
          "output_type": "stream",
          "text": [
            "\rGenerating for OUTPUT-b2w_dev_reviewText_LLAMA_bm25-none_k4:   5%|▌         | 126/2500 [01:27<24:09,  1.64it/s]"
          ]
        },
        {
          "name": "stdout",
          "output_type": "stream",
          "text": [
            "Review text: \"Infelizmente, ainda não recebi o meu pedido. Estou bastante decepcionado com a demora na entrega e espero que a situação seja resolvida em breve.\"\n"
          ]
        },
        {
          "name": "stderr",
          "output_type": "stream",
          "text": [
            "\rGenerating for OUTPUT-b2w_dev_reviewText_LLAMA_bm25-none_k4:   5%|▌         | 127/2500 [01:27<22:40,  1.74it/s]"
          ]
        },
        {
          "name": "stdout",
          "output_type": "stream",
          "text": [
            "Review text: \"Este produto superou todas as minhas expectativas! A qualidade é excepcional e o desempenho é impecável. Estou absolutamente encantado com cada detalhe. Recomendo a todos que buscam algo realmente especial!\"\n"
          ]
        },
        {
          "name": "stderr",
          "output_type": "stream",
          "text": [
            "\rGenerating for OUTPUT-b2w_dev_reviewText_LLAMA_bm25-none_k4:   5%|▌         | 128/2500 [01:28<24:25,  1.62it/s]"
          ]
        },
        {
          "name": "stdout",
          "output_type": "stream",
          "text": [
            "Review text: Este aparelho é simplesmente incrível! A qualidade do som é excepcional e a facilidade de uso torna tudo ainda melhor. Além disso, o design é moderno e elegante, combinando perfeitamente com a decoração da minha casa. Recomendo a todos que buscam um produto de alta performance e estilo. Vale cada centavo!\n"
          ]
        },
        {
          "name": "stderr",
          "output_type": "stream",
          "text": [
            "\rGenerating for OUTPUT-b2w_dev_reviewText_LLAMA_bm25-none_k4:   5%|▌         | 129/2500 [01:29<28:02,  1.41it/s]"
          ]
        },
        {
          "name": "stdout",
          "output_type": "stream",
          "text": [
            "Review text: Este aparelho superou minhas expectativas! A câmera é simplesmente incrível, capturando imagens com uma clareza e detalhes impressionantes. As cores são vibrantes e os recursos de fotografia são fáceis de usar, permitindo que até mesmo iniciantes consigam ótimos resultados. Além disso, o desempenho do dispositivo é excelente, tornando-o perfeito para o dia a dia. Recomendo a todos que buscam qualidade e praticidade em um só produto!\n"
          ]
        },
        {
          "name": "stderr",
          "output_type": "stream",
          "text": [
            "\rGenerating for OUTPUT-b2w_dev_reviewText_LLAMA_bm25-none_k4:   5%|▌         | 130/2500 [01:30<27:14,  1.45it/s]"
          ]
        },
        {
          "name": "stdout",
          "output_type": "stream",
          "text": [
            "Review text: Este produto superou minhas expectativas! A qualidade é excelente e o desempenho é notável. Recomendo a todos que buscam algo confiável e eficaz. Vale cada centavo!\n"
          ]
        },
        {
          "name": "stderr",
          "output_type": "stream",
          "text": [
            "\rGenerating for OUTPUT-b2w_dev_reviewText_LLAMA_bm25-none_k4:   5%|▌         | 131/2500 [01:30<26:56,  1.47it/s]"
          ]
        },
        {
          "name": "stdout",
          "output_type": "stream",
          "text": [
            "Review text: Este aparelho superou todas as minhas expectativas! A qualidade do som é incrível e a facilidade de uso é um grande diferencial. Além disso, o design é moderno e elegante, combinando perfeitamente com a minha decoração. Recomendo a todos que buscam um produto confiável e de alto desempenho!\n"
          ]
        },
        {
          "name": "stderr",
          "output_type": "stream",
          "text": [
            "\rGenerating for OUTPUT-b2w_dev_reviewText_LLAMA_bm25-none_k4:   5%|▌         | 132/2500 [01:31<24:35,  1.61it/s]"
          ]
        },
        {
          "name": "stdout",
          "output_type": "stream",
          "text": [
            "Review text: Este produto superou minhas expectativas! A qualidade é excelente e o desempenho é impecável. Recomendo a todos que buscam algo eficiente e confiável. Vale cada centavo!\n"
          ]
        },
        {
          "name": "stderr",
          "output_type": "stream",
          "text": [
            "\rGenerating for OUTPUT-b2w_dev_reviewText_LLAMA_bm25-none_k4:   5%|▌         | 133/2500 [01:31<23:23,  1.69it/s]"
          ]
        },
        {
          "name": "stdout",
          "output_type": "stream",
          "text": [
            "Review text: Este produto superou minhas expectativas! A qualidade é excepcional e a performance é impecável. Recomendo a todos que buscam um item confiável e eficiente. Vale cada centavo!\n"
          ]
        },
        {
          "name": "stderr",
          "output_type": "stream",
          "text": [
            "\rGenerating for OUTPUT-b2w_dev_reviewText_LLAMA_bm25-none_k4:   5%|▌         | 134/2500 [01:32<22:11,  1.78it/s]"
          ]
        },
        {
          "name": "stdout",
          "output_type": "stream",
          "text": [
            "Review text: This product exceeded all my expectations! The quality is outstanding, and it performs flawlessly. I’ve tried many similar items, but nothing compares to this one. Highly recommend it to anyone looking for the best in the market!\n"
          ]
        },
        {
          "name": "stderr",
          "output_type": "stream",
          "text": [
            "\rGenerating for OUTPUT-b2w_dev_reviewText_LLAMA_bm25-none_k4:   5%|▌         | 135/2500 [01:32<22:47,  1.73it/s]"
          ]
        },
        {
          "name": "stdout",
          "output_type": "stream",
          "text": [
            "Review text: \"Comprei este produto recentemente e estou extremamente satisfeito! A qualidade é excelente e atendeu todas as minhas expectativas. Recomendo a todos que buscam algo confiável e eficiente. Vale cada centavo!\"\n"
          ]
        },
        {
          "name": "stderr",
          "output_type": "stream",
          "text": [
            "\rGenerating for OUTPUT-b2w_dev_reviewText_LLAMA_bm25-none_k4:   5%|▌         | 136/2500 [01:33<24:24,  1.61it/s]"
          ]
        },
        {
          "name": "stdout",
          "output_type": "stream",
          "text": [
            "Review text: \"Comprei este produto esperando um desempenho excelente, mas infelizmente tive problemas com os sensores. Eles não funcionam como deveriam, o que tem afetado bastante a minha experiência. Espero que a marca consiga resolver essa questão, pois gosto muito do design e das funcionalidades oferecidas.\"\n"
          ]
        },
        {
          "name": "stderr",
          "output_type": "stream",
          "text": [
            "\rGenerating for OUTPUT-b2w_dev_reviewText_LLAMA_bm25-none_k4:   5%|▌         | 137/2500 [01:34<23:41,  1.66it/s]"
          ]
        },
        {
          "name": "stdout",
          "output_type": "stream",
          "text": [
            "Review text: Este produto realmente atendeu todas as minhas expectativas! A qualidade é excelente e a performance é impecável. Estou muito satisfeito com a compra e recomendo a todos que buscam algo confiável e eficiente. Vale cada centavo!\n"
          ]
        },
        {
          "name": "stderr",
          "output_type": "stream",
          "text": [
            "\rGenerating for OUTPUT-b2w_dev_reviewText_LLAMA_bm25-none_k4:   6%|▌         | 138/2500 [01:34<21:54,  1.80it/s]"
          ]
        },
        {
          "name": "stdout",
          "output_type": "stream",
          "text": [
            "Review text: Este produto superou minhas expectativas! A qualidade é impressionante e o preço é muito acessível. Definitivamente, um ótimo custo-benefício. Recomendo a todos que buscam um produto confiável sem gastar muito.\n"
          ]
        },
        {
          "name": "stderr",
          "output_type": "stream",
          "text": [
            "\rGenerating for OUTPUT-b2w_dev_reviewText_LLAMA_bm25-none_k4:   6%|▌         | 139/2500 [01:35<22:08,  1.78it/s]"
          ]
        },
        {
          "name": "stdout",
          "output_type": "stream",
          "text": [
            "Review text: Este produto superou todas as minhas expectativas! A qualidade é excepcional e a performance é incrível. Estou muito satisfeito com a compra e recomendo a todos que buscam um produto confiável e eficiente. Vale cada centavo!\n"
          ]
        },
        {
          "name": "stderr",
          "output_type": "stream",
          "text": [
            "\rGenerating for OUTPUT-b2w_dev_reviewText_LLAMA_bm25-none_k4:   6%|▌         | 140/2500 [01:35<21:42,  1.81it/s]"
          ]
        },
        {
          "name": "stdout",
          "output_type": "stream",
          "text": [
            "Review text: Este produto superou minhas expectativas! A qualidade é excelente e o desempenho é impecável. Recomendo a todos que buscam um item confiável e eficiente. Vale cada centavo!\n"
          ]
        },
        {
          "name": "stderr",
          "output_type": "stream",
          "text": [
            "\rGenerating for OUTPUT-b2w_dev_reviewText_LLAMA_bm25-none_k4:   6%|▌         | 141/2500 [01:36<21:10,  1.86it/s]"
          ]
        },
        {
          "name": "stdout",
          "output_type": "stream",
          "text": [
            "Review text: Este producto superó mis expectativas. La calidad es excepcional y funciona a la perfección. Definitivamente lo recomendaría a otros. ¡Excelente compra!\n"
          ]
        },
        {
          "name": "stderr",
          "output_type": "stream",
          "text": [
            "\rGenerating for OUTPUT-b2w_dev_reviewText_LLAMA_bm25-none_k4:   6%|▌         | 142/2500 [01:36<20:54,  1.88it/s]"
          ]
        },
        {
          "name": "stdout",
          "output_type": "stream",
          "text": [
            "Review text: \"This product exceeded all my expectations! The quality is outstanding, and the performance is top-notch. I've tried many similar items, but this one truly stands out. Highly recommend it to anyone looking for excellence!\"\n"
          ]
        },
        {
          "name": "stderr",
          "output_type": "stream",
          "text": [
            "\rGenerating for OUTPUT-b2w_dev_reviewText_LLAMA_bm25-none_k4:   6%|▌         | 143/2500 [01:37<21:05,  1.86it/s]"
          ]
        },
        {
          "name": "stdout",
          "output_type": "stream",
          "text": [
            "Review text: Este produto superou minhas expectativas! A qualidade é excelente e ele funciona perfeitamente. Recomendo a todos que buscam algo confiável e eficaz. Estou muito satisfeito com a compra!\n"
          ]
        },
        {
          "name": "stderr",
          "output_type": "stream",
          "text": [
            "\rGenerating for OUTPUT-b2w_dev_reviewText_LLAMA_bm25-none_k4:   6%|▌         | 144/2500 [01:37<22:22,  1.75it/s]"
          ]
        },
        {
          "name": "stdout",
          "output_type": "stream",
          "text": [
            "Review text: \"Estou extremamente satisfeita com este produto! A qualidade é excelente e superou minhas expectativas. Além disso, a entrega foi rápida e o atendimento ao cliente foi impecável. Recomendo a todos que estão em dúvida, vale muito a pena!\"\n"
          ]
        },
        {
          "name": "stderr",
          "output_type": "stream",
          "text": [
            "\rGenerating for OUTPUT-b2w_dev_reviewText_LLAMA_bm25-none_k4:   6%|▌         | 145/2500 [01:38<24:59,  1.57it/s]"
          ]
        },
        {
          "name": "stdout",
          "output_type": "stream",
          "text": [
            "Review text: \"Comprei este produto e simplesmente adorei! A qualidade é excelente e superou minhas expectativas. Além disso, o atendimento foi impecável. Recomendo a todos que estão em dúvida!\"\n"
          ]
        },
        {
          "name": "stderr",
          "output_type": "stream",
          "text": [
            "\rGenerating for OUTPUT-b2w_dev_reviewText_LLAMA_bm25-none_k4:   6%|▌         | 146/2500 [01:39<25:30,  1.54it/s]"
          ]
        },
        {
          "name": "stdout",
          "output_type": "stream",
          "text": [
            "Review text: Tive uma experiência frustrante com este produto. Logo após a compra, começou a apresentar problemas que afetaram seu desempenho. Tentei entrar em contato com o suporte, mas não obtive a ajuda necessária. Infelizmente, não posso recomendar.\n"
          ]
        },
        {
          "name": "stderr",
          "output_type": "stream",
          "text": [
            "\rGenerating for OUTPUT-b2w_dev_reviewText_LLAMA_bm25-none_k4:   6%|▌         | 147/2500 [01:39<23:52,  1.64it/s]"
          ]
        },
        {
          "name": "stdout",
          "output_type": "stream",
          "text": [
            "Review text: \"Comprei este produto e não me arrependo! A qualidade é excelente e atendeu todas as minhas expectativas. Vale cada centavo investido. Recomendo a todos que estão em dúvida!\"\n"
          ]
        },
        {
          "name": "stderr",
          "output_type": "stream",
          "text": [
            "\rGenerating for OUTPUT-b2w_dev_reviewText_LLAMA_bm25-none_k4:   6%|▌         | 148/2500 [01:40<25:08,  1.56it/s]"
          ]
        },
        {
          "name": "stdout",
          "output_type": "stream",
          "text": [
            "Review text: \"Este produto realmente superou minhas expectativas! A qualidade é excepcional, e cada detalhe foi cuidadosamente pensado. Senti que valeu cada centavo investido. Recomendo a todos que buscam alta qualidade e durabilidade!\"\n"
          ]
        },
        {
          "name": "stderr",
          "output_type": "stream",
          "text": [
            "\rGenerating for OUTPUT-b2w_dev_reviewText_LLAMA_bm25-none_k4:   6%|▌         | 149/2500 [01:41<26:28,  1.48it/s]"
          ]
        },
        {
          "name": "stdout",
          "output_type": "stream",
          "text": [
            "Review text: Estou muito satisfeito com o produto! Ele atendeu todas as minhas expectativas e funcionou perfeitamente. A qualidade é excelente e o desempenho é notável. Recomendo a todos que estão procurando algo similar!\n"
          ]
        },
        {
          "name": "stderr",
          "output_type": "stream",
          "text": [
            "\rGenerating for OUTPUT-b2w_dev_reviewText_LLAMA_bm25-none_k4:   6%|▌         | 150/2500 [01:42<29:28,  1.33it/s]"
          ]
        },
        {
          "name": "stdout",
          "output_type": "stream",
          "text": [
            "Review text: Este produto superou todas as minhas expectativas! A qualidade é excepcional e o desempenho é impecável. Além disso, o design é muito bonito e funcional. Com certeza, vale cada centavo. Estou muito satisfeito e recomendo a todos que estão em dúvida. Não vão se arrepender!\n"
          ]
        },
        {
          "name": "stderr",
          "output_type": "stream",
          "text": [
            "\rGenerating for OUTPUT-b2w_dev_reviewText_LLAMA_bm25-none_k4:   6%|▌         | 151/2500 [01:42<27:11,  1.44it/s]"
          ]
        },
        {
          "name": "stdout",
          "output_type": "stream",
          "text": [
            "Review text: \"Este producto superó mis expectativas. La calidad es excepcional y funciona a la perfección. Definitivamente lo recomendaría a otros. ¡Una excelente compra!\"\n"
          ]
        },
        {
          "name": "stderr",
          "output_type": "stream",
          "text": [
            "\rGenerating for OUTPUT-b2w_dev_reviewText_LLAMA_bm25-none_k4:   6%|▌         | 152/2500 [01:44<41:33,  1.06s/it]"
          ]
        },
        {
          "name": "stdout",
          "output_type": "stream",
          "text": [
            "Review text: I recently purchased this product, and I have to say, it exceeded my expectations! The quality is top-notch, and it performs flawlessly. I love how user-friendly it is, making it perfect for both beginners and experienced users. The design is sleek and modern, which adds a nice touch to my setup. I highly recommend it to anyone looking for a reliable and efficient solution. You won't be disappointed!\n"
          ]
        },
        {
          "name": "stderr",
          "output_type": "stream",
          "text": [
            "\rGenerating for OUTPUT-b2w_dev_reviewText_LLAMA_bm25-none_k4:   6%|▌         | 153/2500 [01:45<35:45,  1.09it/s]"
          ]
        },
        {
          "name": "stdout",
          "output_type": "stream",
          "text": [
            "Review text: This product exceeded my expectations in every way. The quality is outstanding, and it performs flawlessly. I couldn't be happier with my purchase. Highly recommend it to anyone looking for the best!\n"
          ]
        },
        {
          "name": "stderr",
          "output_type": "stream",
          "text": [
            "\rGenerating for OUTPUT-b2w_dev_reviewText_LLAMA_bm25-none_k4:   6%|▌         | 154/2500 [01:46<32:08,  1.22it/s]"
          ]
        },
        {
          "name": "stdout",
          "output_type": "stream",
          "text": [
            "Review text: Este producto superó mis expectativas en todos los aspectos. La calidad es excepcional y su rendimiento es impecable. Definitivamente lo recomendaría a cualquiera que busque algo confiable y efectivo. ¡Estoy muy satisfecho con mi compra!\n"
          ]
        },
        {
          "name": "stderr",
          "output_type": "stream",
          "text": [
            "\rGenerating for OUTPUT-b2w_dev_reviewText_LLAMA_bm25-none_k4:   6%|▌         | 155/2500 [01:46<29:10,  1.34it/s]"
          ]
        },
        {
          "name": "stdout",
          "output_type": "stream",
          "text": [
            "Review text: \"This battery exceeded my expectations! It holds a charge for a long time and has proven to be reliable in all my devices. I appreciate the quick charging feature, making it convenient for on-the-go use. Highly recommend for anyone in need of a dependable power source!\"\n"
          ]
        },
        {
          "name": "stderr",
          "output_type": "stream",
          "text": [
            "\rGenerating for OUTPUT-b2w_dev_reviewText_LLAMA_bm25-none_k4:   6%|▌         | 156/2500 [01:47<27:23,  1.43it/s]"
          ]
        },
        {
          "name": "stdout",
          "output_type": "stream",
          "text": [
            "Review text: Este produto não atendeu às minhas expectativas de forma alguma. A qualidade é muito inferior e não funcionou como prometido. Sinto que foi um desperdício de dinheiro. Não recomendo!\n"
          ]
        },
        {
          "name": "stderr",
          "output_type": "stream",
          "text": [
            "\rGenerating for OUTPUT-b2w_dev_reviewText_LLAMA_bm25-none_k4:   6%|▋         | 157/2500 [01:47<25:00,  1.56it/s]"
          ]
        },
        {
          "name": "stdout",
          "output_type": "stream",
          "text": [
            "Review text: Estou extremamente satisfeito com este produto! A qualidade é excepcional e atendeu todas as minhas expectativas. Recomendo a todos que buscam um bom investimento. Vale cada centavo!\n"
          ]
        },
        {
          "name": "stderr",
          "output_type": "stream",
          "text": [
            "\rGenerating for OUTPUT-b2w_dev_reviewText_LLAMA_bm25-none_k4:   6%|▋         | 158/2500 [01:48<26:05,  1.50it/s]"
          ]
        },
        {
          "name": "stdout",
          "output_type": "stream",
          "text": [
            "Review text: \"Eu realmente gostei muito do produto! A qualidade é excelente e atendeu todas as minhas expectativas. Além disso, a entrega foi rápida e o atendimento ao cliente foi muito atencioso. Recomendo a todos que estão em dúvida!\"\n"
          ]
        },
        {
          "name": "stderr",
          "output_type": "stream",
          "text": [
            "\rGenerating for OUTPUT-b2w_dev_reviewText_LLAMA_bm25-none_k4:   6%|▋         | 159/2500 [01:49<25:23,  1.54it/s]"
          ]
        },
        {
          "name": "stdout",
          "output_type": "stream",
          "text": [
            "Review text: Este produto superou minhas expectativas! A qualidade é excelente e ele cumpre tudo o que promete. Estou muito satisfeito com a compra e recomendo a todos que buscam um item confiável e eficiente. Vale cada centavo!\n"
          ]
        },
        {
          "name": "stderr",
          "output_type": "stream",
          "text": [
            "\rGenerating for OUTPUT-b2w_dev_reviewText_LLAMA_bm25-none_k4:   6%|▋         | 160/2500 [01:49<24:02,  1.62it/s]"
          ]
        },
        {
          "name": "stdout",
          "output_type": "stream",
          "text": [
            "Review text: Este producto superó mis expectativas. La calidad es excepcional y su rendimiento es impresionante. Definitivamente lo recomendaría a cualquiera que busque algo confiable y eficaz. ¡Una compra excelente!\n"
          ]
        },
        {
          "name": "stderr",
          "output_type": "stream",
          "text": [
            "\rGenerating for OUTPUT-b2w_dev_reviewText_LLAMA_bm25-none_k4:   6%|▋         | 161/2500 [01:50<23:54,  1.63it/s]"
          ]
        },
        {
          "name": "stdout",
          "output_type": "stream",
          "text": [
            "Review text: Este produto superou minhas expectativas! A qualidade é excelente e ele funciona perfeitamente. Recomendo a todos que buscam uma solução eficaz e durável. Vale cada centavo!\n"
          ]
        },
        {
          "name": "stderr",
          "output_type": "stream",
          "text": [
            "\rGenerating for OUTPUT-b2w_dev_reviewText_LLAMA_bm25-none_k4:   6%|▋         | 162/2500 [01:50<24:22,  1.60it/s]"
          ]
        },
        {
          "name": "stdout",
          "output_type": "stream",
          "text": [
            "Review text: Este produto superou minhas expectativas! A qualidade é excelente e o desempenho é incrível. Estou muito satisfeito com a compra e recomendo a todos. Vale cada centavo!\n"
          ]
        },
        {
          "name": "stderr",
          "output_type": "stream",
          "text": [
            "\rGenerating for OUTPUT-b2w_dev_reviewText_LLAMA_bm25-none_k4:   7%|▋         | 163/2500 [01:51<25:26,  1.53it/s]"
          ]
        },
        {
          "name": "stdout",
          "output_type": "stream",
          "text": [
            "Review text: \"Adorei o Jogo de Toalhas Banhão Malta! As toalhas são super macias e absorventes, perfeitas para o dia a dia. A qualidade do tecido é notável e a variedade de cores é um grande diferencial. Além disso, o tamanho é ideal para um banho relaxante. Recomendo a todos que buscam conforto e estilo na hora de se secar!\"\n"
          ]
        },
        {
          "name": "stderr",
          "output_type": "stream",
          "text": [
            "\rGenerating for OUTPUT-b2w_dev_reviewText_LLAMA_bm25-none_k4:   7%|▋         | 164/2500 [01:52<25:08,  1.55it/s]"
          ]
        },
        {
          "name": "stdout",
          "output_type": "stream",
          "text": [
            "Review text: This show absolutely blew me away! The performances were stunning, the storyline was captivating, and the production quality was top-notch. I couldn't take my eyes off the stage! Every moment was filled with excitement and emotion. Highly recommend it to anyone looking for an unforgettable experience!\n"
          ]
        },
        {
          "name": "stderr",
          "output_type": "stream",
          "text": [
            "\rGenerating for OUTPUT-b2w_dev_reviewText_LLAMA_bm25-none_k4:   7%|▋         | 165/2500 [01:52<24:37,  1.58it/s]"
          ]
        },
        {
          "name": "stdout",
          "output_type": "stream",
          "text": [
            "Review text: Este produto superou minhas expectativas! A qualidade é excelente e o desempenho é incrível. Recomendo a todos que buscam um item confiável e eficiente. Ótima relação custo-benefício!\n"
          ]
        },
        {
          "name": "stderr",
          "output_type": "stream",
          "text": [
            "\rGenerating for OUTPUT-b2w_dev_reviewText_LLAMA_bm25-none_k4:   7%|▋         | 166/2500 [01:53<27:17,  1.42it/s]"
          ]
        },
        {
          "name": "stdout",
          "output_type": "stream",
          "text": [
            "Review text: Este produto é realmente impressionante! A qualidade é excepcional e atendeu todas as minhas expectativas. O design é elegante e funcional, tornando-o uma adição perfeita para a minha casa. Recomendo a todos que buscam um item bonito e prático. Estou muito satisfeito com a minha compra!\n"
          ]
        },
        {
          "name": "stderr",
          "output_type": "stream",
          "text": [
            "\rGenerating for OUTPUT-b2w_dev_reviewText_LLAMA_bm25-none_k4:   7%|▋         | 167/2500 [01:54<27:43,  1.40it/s]"
          ]
        },
        {
          "name": "stdout",
          "output_type": "stream",
          "text": [
            "Review text: Amei is simply outstanding! The quality is top-notch, and it exceeded my expectations in every way. The design is sleek and modern, making it a perfect addition to my home. I love how user-friendly it is; even my kids can use it without any hassle. Highly recommend it to anyone looking for reliability and style!\n"
          ]
        },
        {
          "name": "stderr",
          "output_type": "stream",
          "text": [
            "\rGenerating for OUTPUT-b2w_dev_reviewText_LLAMA_bm25-none_k4:   7%|▋         | 168/2500 [01:54<24:03,  1.62it/s]"
          ]
        },
        {
          "name": "stdout",
          "output_type": "stream",
          "text": [
            "Review text: Adorei o produto! Atendeu todas as minhas expectativas e a qualidade é excelente. Recomendo a todos que buscam algo similar. Com certeza voltarei a comprar!\n"
          ]
        },
        {
          "name": "stderr",
          "output_type": "stream",
          "text": [
            "\rGenerating for OUTPUT-b2w_dev_reviewText_LLAMA_bm25-none_k4:   7%|▋         | 169/2500 [01:55<25:38,  1.52it/s]"
          ]
        },
        {
          "name": "stdout",
          "output_type": "stream",
          "text": [
            "Review text: \"Comprei este produto recentemente e fiquei encantada! A qualidade é excepcional e superou minhas expectativas. Além disso, a entrega foi rápida e o atendimento ao cliente foi muito atencioso. Recomendo a todos que estão em dúvida, vale a pena!\"\n"
          ]
        },
        {
          "name": "stderr",
          "output_type": "stream",
          "text": [
            "\rGenerating for OUTPUT-b2w_dev_reviewText_LLAMA_bm25-none_k4:   7%|▋         | 170/2500 [01:55<23:04,  1.68it/s]"
          ]
        },
        {
          "name": "stdout",
          "output_type": "stream",
          "text": [
            "Review text: Tive um problema com a entrega que demorou muito, muito, muito. No mais, o produto é ótimo!\n"
          ]
        },
        {
          "name": "stderr",
          "output_type": "stream",
          "text": [
            "\rGenerating for OUTPUT-b2w_dev_reviewText_LLAMA_bm25-none_k4:   7%|▋         | 171/2500 [01:56<23:24,  1.66it/s]"
          ]
        },
        {
          "name": "stdout",
          "output_type": "stream",
          "text": [
            "Review text: Estou muito satisfeito com o produto! A qualidade superou minhas expectativas e ele atende perfeitamente às minhas necessidades. Recomendo a todos que estão em busca de algo eficiente e confiável. Sem dúvida, uma excelente compra!\n"
          ]
        },
        {
          "name": "stderr",
          "output_type": "stream",
          "text": [
            "\rGenerating for OUTPUT-b2w_dev_reviewText_LLAMA_bm25-none_k4:   7%|▋         | 172/2500 [01:57<24:11,  1.60it/s]"
          ]
        },
        {
          "name": "stdout",
          "output_type": "stream",
          "text": [
            "Review text: \"Comprei este produto achando que seria uma boa aquisição, mas me decepcionei completamente. A qualidade é muito inferior ao que esperava e não funcionou como prometido. Além disso, o atendimento ao cliente foi péssimo quando tentei resolver o problema. Não recomendo a ninguém, economizem seu dinheiro!\"\n"
          ]
        },
        {
          "name": "stderr",
          "output_type": "stream",
          "text": [
            "\rGenerating for OUTPUT-b2w_dev_reviewText_LLAMA_bm25-none_k4:   7%|▋         | 173/2500 [01:57<23:49,  1.63it/s]"
          ]
        },
        {
          "name": "stdout",
          "output_type": "stream",
          "text": [
            "Review text: \"Recebi o produto rapidamente e fiquei muito satisfeito com a qualidade. Atendeu todas as minhas expectativas e superou algumas delas. Com certeza, recomendo a todos que estão em dúvida!\"\n"
          ]
        },
        {
          "name": "stderr",
          "output_type": "stream",
          "text": [
            "\rGenerating for OUTPUT-b2w_dev_reviewText_LLAMA_bm25-none_k4:   7%|▋         | 174/2500 [01:58<22:40,  1.71it/s]"
          ]
        },
        {
          "name": "stdout",
          "output_type": "stream",
          "text": [
            "Review text: Este produto superou todas as minhas expectativas! A qualidade é excepcional e o desempenho é impecável. Recomendo a todos que buscam um item confiável e de alta performance. Vale cada centavo!\n"
          ]
        },
        {
          "name": "stderr",
          "output_type": "stream",
          "text": [
            "\rGenerating for OUTPUT-b2w_dev_reviewText_LLAMA_bm25-none_k4:   7%|▋         | 175/2500 [01:59<23:28,  1.65it/s]"
          ]
        },
        {
          "name": "stdout",
          "output_type": "stream",
          "text": [
            "Review text: \"Este produto superou todas as minhas expectativas! A qualidade é excepcional e o desempenho é incrível. Recomendo a todos que buscam algo confiável e eficaz. Vale cada centavo!\"\n"
          ]
        },
        {
          "name": "stderr",
          "output_type": "stream",
          "text": [
            "\rGenerating for OUTPUT-b2w_dev_reviewText_LLAMA_bm25-none_k4:   7%|▋         | 176/2500 [01:59<26:14,  1.48it/s]"
          ]
        },
        {
          "name": "stdout",
          "output_type": "stream",
          "text": [
            "Review text: Estou extremamente decepcionado com a entrega deste produto. Já se passaram mais de 20 dias e até agora não recebi nada. A falta de comunicação e o atraso são inaceitáveis. Espero que a situação se resolva rapidamente, mas, por enquanto, não posso recomendar.\n"
          ]
        },
        {
          "name": "stderr",
          "output_type": "stream",
          "text": [
            "\rGenerating for OUTPUT-b2w_dev_reviewText_LLAMA_bm25-none_k4:   7%|▋         | 177/2500 [02:00<26:03,  1.49it/s]"
          ]
        },
        {
          "name": "stdout",
          "output_type": "stream",
          "text": [
            "Review text: \"Comprei este produto esperando uma fixação duradoura, mas infelizmente não atendeu minhas expectativas. A sensação é de que não parece original, e a qualidade não é a mesma que eu esperava. Fiquei desapontado e não sei se compraria novamente.\"\n"
          ]
        },
        {
          "name": "stderr",
          "output_type": "stream",
          "text": [
            "\rGenerating for OUTPUT-b2w_dev_reviewText_LLAMA_bm25-none_k4:   7%|▋         | 178/2500 [02:00<23:33,  1.64it/s]"
          ]
        },
        {
          "name": "stdout",
          "output_type": "stream",
          "text": [
            "Review text: \"Este produto realmente oferece um excelente custo-benefício. A qualidade é surpreendente pelo preço, e atendeu todas as minhas expectativas. Recomendo para quem busca um bom produto sem gastar muito!\"\n"
          ]
        },
        {
          "name": "stderr",
          "output_type": "stream",
          "text": [
            "\rGenerating for OUTPUT-b2w_dev_reviewText_LLAMA_bm25-none_k4:   7%|▋         | 179/2500 [02:01<23:10,  1.67it/s]"
          ]
        },
        {
          "name": "stdout",
          "output_type": "stream",
          "text": [
            "Review text: Este produto superou minhas expectativas! A qualidade é excelente e ele funciona perfeitamente. Estou muito satisfeito com a compra e recomendo a todos que estão em busca de algo confiável e eficiente. Vale cada centavo!\n"
          ]
        },
        {
          "name": "stderr",
          "output_type": "stream",
          "text": [
            "\rGenerating for OUTPUT-b2w_dev_reviewText_LLAMA_bm25-none_k4:   7%|▋         | 180/2500 [02:02<24:34,  1.57it/s]"
          ]
        },
        {
          "name": "stdout",
          "output_type": "stream",
          "text": [
            "Review text: \"Infelizmente, minha experiência com este produto foi muito frustrante. Fiz o pedido há semanas e até hoje não recebi nada. Tentei entrar em contato com o suporte, mas não obtive resposta. Estou desapontado e não recomendo a compra até que a situação melhore.\"\n"
          ]
        },
        {
          "name": "stderr",
          "output_type": "stream",
          "text": [
            "\rGenerating for OUTPUT-b2w_dev_reviewText_LLAMA_bm25-none_k4:   7%|▋         | 181/2500 [02:02<24:07,  1.60it/s]"
          ]
        },
        {
          "name": "stdout",
          "output_type": "stream",
          "text": [
            "Review text: \"Este produto superou todas as minhas expectativas! A qualidade é excepcional e o desempenho é incrível. Estou muito satisfeito com a compra e recomendo a todos que buscam algo realmente eficaz. Sensacional!\"\n"
          ]
        },
        {
          "name": "stderr",
          "output_type": "stream",
          "text": [
            "\rGenerating for OUTPUT-b2w_dev_reviewText_LLAMA_bm25-none_k4:   7%|▋         | 182/2500 [02:03<23:44,  1.63it/s]"
          ]
        },
        {
          "name": "stdout",
          "output_type": "stream",
          "text": [
            "Review text: \"Estou muito satisfeito com a qualidade desses produtos. Eles superaram minhas expectativas em termos de durabilidade e desempenho. Recomendo a todos que buscam itens confiáveis e bem feitos!\"\n"
          ]
        },
        {
          "name": "stderr",
          "output_type": "stream",
          "text": [
            "\rGenerating for OUTPUT-b2w_dev_reviewText_LLAMA_bm25-none_k4:   7%|▋         | 183/2500 [02:04<24:56,  1.55it/s]"
          ]
        },
        {
          "name": "stdout",
          "output_type": "stream",
          "text": [
            "Review text: Este produto não fixa como esperado. Tentei usá-lo em várias superfícies, mas ele simplesmente não adere. Fiquei desapontado, pois tinha grandes expectativas. Não recomendo para quem precisa de algo que realmente segure.\n"
          ]
        },
        {
          "name": "stderr",
          "output_type": "stream",
          "text": [
            "\rGenerating for OUTPUT-b2w_dev_reviewText_LLAMA_bm25-none_k4:   7%|▋         | 184/2500 [02:04<26:20,  1.47it/s]"
          ]
        },
        {
          "name": "stdout",
          "output_type": "stream",
          "text": [
            "Review text: \"I absolutely love this product! It exceeded my expectations in every way. The quality is outstanding, and it works perfectly. I’ve already recommended it to all my friends and family. If you’re considering buying it, don’t hesitate—just do it! You won’t regret it!\"\n"
          ]
        },
        {
          "name": "stderr",
          "output_type": "stream",
          "text": [
            "\rGenerating for OUTPUT-b2w_dev_reviewText_LLAMA_bm25-none_k4:   7%|▋         | 185/2500 [02:05<27:35,  1.40it/s]"
          ]
        },
        {
          "name": "stdout",
          "output_type": "stream",
          "text": [
            "Review text: Este equipamento de som superou minhas expectativas! A qualidade do áudio é excepcional, com graves profundos e agudos nítidos. A instalação foi simples e rápida, e o design é elegante, combinando perfeitamente com a decoração da minha sala. Recomendo a todos que buscam uma experiência sonora incrível!\n"
          ]
        },
        {
          "name": "stderr",
          "output_type": "stream",
          "text": [
            "\rGenerating for OUTPUT-b2w_dev_reviewText_LLAMA_bm25-none_k4:   7%|▋         | 186/2500 [02:06<26:53,  1.43it/s]"
          ]
        },
        {
          "name": "stdout",
          "output_type": "stream",
          "text": [
            "Review text: \"Achei o produto excelente! A qualidade superou minhas expectativas e atendeu todas as minhas necessidades. Recomendo a todos que buscam algo confiável e eficaz. Com certeza voltarei a comprar!\"\n"
          ]
        },
        {
          "name": "stderr",
          "output_type": "stream",
          "text": [
            "\rGenerating for OUTPUT-b2w_dev_reviewText_LLAMA_bm25-none_k4:   7%|▋         | 187/2500 [02:07<27:41,  1.39it/s]"
          ]
        },
        {
          "name": "stdout",
          "output_type": "stream",
          "text": [
            "Review text: \"Estou impressionado com o design sofisticado deste produto! Ele não só é visualmente atraente, mas também muito funcional. A velocidade de operação é excepcional, tornando minhas tarefas diárias muito mais eficientes. Além disso, o custo-benefício é inegável; você obtém uma qualidade premium sem quebrar o banco. Recomendo a todos que buscam um equilíbrio perfeito entre estilo e desempenho!\"\n"
          ]
        },
        {
          "name": "stderr",
          "output_type": "stream",
          "text": [
            "\rGenerating for OUTPUT-b2w_dev_reviewText_LLAMA_bm25-none_k4:   8%|▊         | 188/2500 [02:07<25:00,  1.54it/s]"
          ]
        },
        {
          "name": "stdout",
          "output_type": "stream",
          "text": [
            "Review text: Este produto não atendeu às minhas expectativas. A qualidade deixou a desejar e o atendimento ao cliente foi frustrante. Tive dificuldades em obter respostas e soluções para meus problemas. Não recomendo.\n"
          ]
        },
        {
          "name": "stderr",
          "output_type": "stream",
          "text": [
            "\rGenerating for OUTPUT-b2w_dev_reviewText_LLAMA_bm25-none_k4:   8%|▊         | 189/2500 [02:08<24:35,  1.57it/s]"
          ]
        },
        {
          "name": "stdout",
          "output_type": "stream",
          "text": [
            "Review text: \"Adorei o produto! A qualidade superou minhas expectativas e a entrega foi rápida. Com certeza, voltarei a comprar outras vezes. Recomendo a todos!\"\n"
          ]
        },
        {
          "name": "stderr",
          "output_type": "stream",
          "text": [
            "\rGenerating for OUTPUT-b2w_dev_reviewText_LLAMA_bm25-none_k4:   8%|▊         | 190/2500 [02:09<26:00,  1.48it/s]"
          ]
        },
        {
          "name": "stdout",
          "output_type": "stream",
          "text": [
            "Review text: \"O banco é realmente leve e fácil de transportar, perfeito para quem precisa de praticidade. Além disso, sua funcionalidade é excelente, proporcionando conforto sem ocupar muito espaço. Ideal para acampamentos ou eventos ao ar livre. Estou muito satisfeito com a compra!\"\n"
          ]
        },
        {
          "name": "stderr",
          "output_type": "stream",
          "text": [
            "\rGenerating for OUTPUT-b2w_dev_reviewText_LLAMA_bm25-none_k4:   8%|▊         | 191/2500 [02:09<26:24,  1.46it/s]"
          ]
        },
        {
          "name": "stdout",
          "output_type": "stream",
          "text": [
            "Review text: \"Comprei este produto recentemente e estou extremamente satisfeito! A qualidade é excelente e atendeu todas as minhas expectativas. O envio foi rápido e a embalagem estava impecável. Definitivamente, uma ótima compra que recomendo a todos!\"\n"
          ]
        },
        {
          "name": "stderr",
          "output_type": "stream",
          "text": [
            "\rGenerating for OUTPUT-b2w_dev_reviewText_LLAMA_bm25-none_k4:   8%|▊         | 192/2500 [02:10<25:14,  1.52it/s]"
          ]
        },
        {
          "name": "stdout",
          "output_type": "stream",
          "text": [
            "Review text: \"Comprei este produto recentemente e fiquei extremamente satisfeito! A qualidade é excelente e atendeu todas as minhas expectativas. Recomendo a todos que estão em busca de algo confiável e eficiente. Vale cada centavo!\"\n"
          ]
        },
        {
          "name": "stderr",
          "output_type": "stream",
          "text": [
            "\rGenerating for OUTPUT-b2w_dev_reviewText_LLAMA_bm25-none_k4:   8%|▊         | 193/2500 [02:11<26:01,  1.48it/s]"
          ]
        },
        {
          "name": "stdout",
          "output_type": "stream",
          "text": [
            "Review text: Este produto superou minhas expectativas! A qualidade é excelente e o desempenho é notável. Recomendo a todos que buscam um item confiável e eficaz. Vale cada centavo!\n"
          ]
        },
        {
          "name": "stderr",
          "output_type": "stream",
          "text": [
            "\rGenerating for OUTPUT-b2w_dev_reviewText_LLAMA_bm25-none_k4:   8%|▊         | 194/2500 [02:11<25:08,  1.53it/s]"
          ]
        },
        {
          "name": "stdout",
          "output_type": "stream",
          "text": [
            "Review text: Este produto realmente atendeu minha necessidade de forma excepcional. A qualidade é ótima e ele funciona exatamente como eu esperava. Recomendo a todos que buscam algo eficiente e confiável. Estou muito satisfeito com a compra!\n"
          ]
        },
        {
          "name": "stderr",
          "output_type": "stream",
          "text": [
            "\rGenerating for OUTPUT-b2w_dev_reviewText_LLAMA_bm25-none_k4:   8%|▊         | 195/2500 [02:12<24:59,  1.54it/s]"
          ]
        },
        {
          "name": "stdout",
          "output_type": "stream",
          "text": [
            "Review text: Este produto realmente superou minhas expectativas! A qualidade é excelente e cumpre tudo o que promete. A entrega foi rápida e sem complicações, o que é um grande diferencial. Recomendo a todos que buscam um produto confiável e eficiente. Vale cada centavo!\n"
          ]
        },
        {
          "name": "stderr",
          "output_type": "stream",
          "text": [
            "\rGenerating for OUTPUT-b2w_dev_reviewText_LLAMA_bm25-none_k4:   8%|▊         | 196/2500 [02:12<23:59,  1.60it/s]"
          ]
        },
        {
          "name": "stdout",
          "output_type": "stream",
          "text": [
            "Review text: \"Infelizmente, não recebi o produto que comprei. Estou bastante decepcionado com a falta de comunicação e o atraso na entrega. Espero que a situação seja resolvida em breve, pois realmente estava ansioso para usar o item.\"\n"
          ]
        },
        {
          "name": "stderr",
          "output_type": "stream",
          "text": [
            "\rGenerating for OUTPUT-b2w_dev_reviewText_LLAMA_bm25-none_k4:   8%|▊         | 197/2500 [02:13<23:21,  1.64it/s]"
          ]
        },
        {
          "name": "stdout",
          "output_type": "stream",
          "text": [
            "Review text: \"Adorei o produto! Atendeu todas as minhas expectativas e a qualidade é excelente. Com certeza recomendo a todos!\"\n"
          ]
        },
        {
          "name": "stderr",
          "output_type": "stream",
          "text": [
            "\rGenerating for OUTPUT-b2w_dev_reviewText_LLAMA_bm25-none_k4:   8%|▊         | 198/2500 [02:14<33:13,  1.15it/s]"
          ]
        },
        {
          "name": "stdout",
          "output_type": "stream",
          "text": [
            "Review text: \"Comprei este produto com algumas expectativas e ele realmente funcionou bem. Atendeu todas as minhas necessidades e superou o que eu esperava. A qualidade é excelente e estou muito satisfeito com a minha compra!\"\n"
          ]
        },
        {
          "name": "stderr",
          "output_type": "stream",
          "text": [
            "\rGenerating for OUTPUT-b2w_dev_reviewText_LLAMA_bm25-none_k4:   8%|▊         | 199/2500 [02:15<31:28,  1.22it/s]"
          ]
        },
        {
          "name": "stdout",
          "output_type": "stream",
          "text": [
            "Review text: \"Infelizmente, minha experiência com o produto não foi das melhores. Utilizei pouco, mas já enfrentei alguns problemas que me deixaram desapontado. Esperava mais qualidade e durabilidade. Não sei se recomendaria.\"\n"
          ]
        },
        {
          "name": "stderr",
          "output_type": "stream",
          "text": [
            "\rGenerating for OUTPUT-b2w_dev_reviewText_LLAMA_bm25-none_k4:   8%|▊         | 200/2500 [02:16<28:07,  1.36it/s]"
          ]
        },
        {
          "name": "stdout",
          "output_type": "stream",
          "text": [
            "Review text: \"Adorei este produto! Atendeu todas as minhas expectativas e a qualidade é excelente. Com certeza vou recomendar para meus amigos!\"\n"
          ]
        },
        {
          "name": "stderr",
          "output_type": "stream",
          "text": [
            "\rGenerating for OUTPUT-b2w_dev_reviewText_LLAMA_bm25-none_k4:   8%|▊         | 201/2500 [02:17<30:58,  1.24it/s]"
          ]
        },
        {
          "name": "stdout",
          "output_type": "stream",
          "text": [
            "Review text: \"Comprei este produto e fiquei muito satisfeito com a qualidade e o desempenho. No entanto, a transportadora que fez a entrega deixou a desejar. O prazo foi cumprido, mas o atendimento foi ruim e a embalagem chegou um pouco danificada. Apesar disso, o produto em si é excelente e atendeu todas as minhas expectativas.\"\n"
          ]
        },
        {
          "name": "stderr",
          "output_type": "stream",
          "text": [
            "\rGenerating for OUTPUT-b2w_dev_reviewText_LLAMA_bm25-none_k4:   8%|▊         | 202/2500 [02:17<29:17,  1.31it/s]"
          ]
        },
        {
          "name": "stdout",
          "output_type": "stream",
          "text": [
            "Review text: A experiência foi razoável. O produto tem algumas qualidades, mas também deixou a desejar em certos aspectos. O design é atraente, mas a funcionalidade não atendeu completamente às minhas expectativas. Em geral, é uma opção mediana.\n"
          ]
        },
        {
          "name": "stderr",
          "output_type": "stream",
          "text": [
            "\rGenerating for OUTPUT-b2w_dev_reviewText_LLAMA_bm25-none_k4:   8%|▊         | 203/2500 [02:18<29:41,  1.29it/s]"
          ]
        },
        {
          "name": "stdout",
          "output_type": "stream",
          "text": [
            "Review text: \"Este armário superou todas as minhas expectativas! A qualidade é excelente e o design é lindo. Ele se encaixou perfeitamente no meu espaço e trouxe um toque de elegância ao ambiente. Além disso, a organização interna é ótima, permitindo que eu armazene tudo de forma prática. Recomendo a todos que estão em busca de um móvel funcional e estiloso!\"\n"
          ]
        },
        {
          "name": "stderr",
          "output_type": "stream",
          "text": [
            "\rGenerating for OUTPUT-b2w_dev_reviewText_LLAMA_bm25-none_k4:   8%|▊         | 204/2500 [02:19<28:19,  1.35it/s]"
          ]
        },
        {
          "name": "stdout",
          "output_type": "stream",
          "text": [
            "Review text: O produto é bom, mas a entrega demorou mais do que o esperado e a embalagem poderia ser melhor. A qualidade do item em si é satisfatória, mas esses detalhes deixaram a experiência um pouco aquém do que eu esperava.\n"
          ]
        },
        {
          "name": "stderr",
          "output_type": "stream",
          "text": [
            "\rGenerating for OUTPUT-b2w_dev_reviewText_LLAMA_bm25-none_k4:   8%|▊         | 205/2500 [02:19<25:54,  1.48it/s]"
          ]
        },
        {
          "name": "stdout",
          "output_type": "stream",
          "text": [
            "Review text: Este produto realmente cumpre o que promete! A qualidade é excelente e os resultados são visíveis desde as primeiras utilizações. Estou muito satisfeito com a compra e definitivamente recomendaria para quem busca algo eficaz. Vale cada centavo!\n"
          ]
        },
        {
          "name": "stderr",
          "output_type": "stream",
          "text": [
            "\rGenerating for OUTPUT-b2w_dev_reviewText_LLAMA_bm25-none_k4:   8%|▊         | 206/2500 [02:20<24:02,  1.59it/s]"
          ]
        },
        {
          "name": "stdout",
          "output_type": "stream",
          "text": [
            "Review text: Este produto superou minhas expectativas! A qualidade é excelente e ele funciona perfeitamente. Recomendo a todos que buscam um item confiável e durável. Vale cada centavo!\n"
          ]
        },
        {
          "name": "stderr",
          "output_type": "stream",
          "text": [
            "\rGenerating for OUTPUT-b2w_dev_reviewText_LLAMA_bm25-none_k4:   8%|▊         | 207/2500 [02:20<22:36,  1.69it/s]"
          ]
        },
        {
          "name": "stdout",
          "output_type": "stream",
          "text": [
            "Review text: \"Este produto superou minhas expectativas! A qualidade é excelente e cumpre perfeitamente o que promete. Recomendo a todos que buscam um bom custo-benefício. Vale a pena!\"\n"
          ]
        },
        {
          "name": "stderr",
          "output_type": "stream",
          "text": [
            "\rGenerating for OUTPUT-b2w_dev_reviewText_LLAMA_bm25-none_k4:   8%|▊         | 208/2500 [02:21<22:54,  1.67it/s]"
          ]
        },
        {
          "name": "stdout",
          "output_type": "stream",
          "text": [
            "Review text: A qualidade deste produto superou minhas expectativas! Os materiais são duráveis e a construção é impecável. Definitivamente vale cada centavo. Recomendo a todos que buscam um item que combine eficiência e longevidade.\n"
          ]
        },
        {
          "name": "stderr",
          "output_type": "stream",
          "text": [
            "\rGenerating for OUTPUT-b2w_dev_reviewText_LLAMA_bm25-none_k4:   8%|▊         | 209/2500 [02:22<24:18,  1.57it/s]"
          ]
        },
        {
          "name": "stdout",
          "output_type": "stream",
          "text": [
            "Review title: '................................................................'  \n",
            "Review text: \"This product exceeded my expectations in every way! The quality is outstanding, and it performs flawlessly. I've used it daily for weeks, and I can confidently say it's worth every penny. Highly recommend to anyone considering a purchase!\"\n"
          ]
        },
        {
          "name": "stderr",
          "output_type": "stream",
          "text": [
            "\rGenerating for OUTPUT-b2w_dev_reviewText_LLAMA_bm25-none_k4:   8%|▊         | 210/2500 [02:22<25:15,  1.51it/s]"
          ]
        },
        {
          "name": "stdout",
          "output_type": "stream",
          "text": [
            "Review text: Este produto superou minhas expectativas em termos de qualidade. Os materiais utilizados são de primeira linha e a durabilidade é impressionante. Além disso, o desempenho é excelente, tornando-o uma escolha perfeita para quem busca eficiência. Recomendo a todos que valorizam produtos bem feitos!\n"
          ]
        },
        {
          "name": "stderr",
          "output_type": "stream",
          "text": [
            "\rGenerating for OUTPUT-b2w_dev_reviewText_LLAMA_bm25-none_k4:   8%|▊         | 211/2500 [02:23<26:32,  1.44it/s]"
          ]
        },
        {
          "name": "stdout",
          "output_type": "stream",
          "text": [
            "Review text: Infelizmente, minha experiência com este produto foi muito decepcionante. A qualidade não atendeu às minhas expectativas e, após algumas semanas de uso, começou a apresentar problemas. O atendimento ao cliente também deixou a desejar, tornando a situação ainda mais frustrante. Não recomendo a compra.\n"
          ]
        },
        {
          "name": "stderr",
          "output_type": "stream",
          "text": [
            "\rGenerating for OUTPUT-b2w_dev_reviewText_LLAMA_bm25-none_k4:   8%|▊         | 212/2500 [02:24<23:57,  1.59it/s]"
          ]
        },
        {
          "name": "stdout",
          "output_type": "stream",
          "text": [
            "Review text: Adorei este produto! Atendeu todas as minhas expectativas e tem uma qualidade incrível. Recomendo a todos que estão em busca de algo eficiente e durável. Com certeza voltarei a comprar!\n"
          ]
        },
        {
          "name": "stderr",
          "output_type": "stream",
          "text": [
            "\rGenerating for OUTPUT-b2w_dev_reviewText_LLAMA_bm25-none_k4:   9%|▊         | 213/2500 [02:24<22:22,  1.70it/s]"
          ]
        },
        {
          "name": "stdout",
          "output_type": "stream",
          "text": [
            "Review text: \"Este produto superou todas as minhas expectativas! A qualidade é excepcional e o desempenho é impecável. Recomendo a todos que buscam algo confiável e eficiente. Vale cada centavo!\"\n"
          ]
        },
        {
          "name": "stderr",
          "output_type": "stream",
          "text": [
            "\rGenerating for OUTPUT-b2w_dev_reviewText_LLAMA_bm25-none_k4:   9%|▊         | 214/2500 [02:25<22:34,  1.69it/s]"
          ]
        },
        {
          "name": "stdout",
          "output_type": "stream",
          "text": [
            "Review text: Este producto superó mis expectativas. La calidad es excepcional y funciona a la perfección. Definitivamente lo recomendaría a otros. ¡Excelente compra!\n"
          ]
        },
        {
          "name": "stderr",
          "output_type": "stream",
          "text": [
            "\rGenerating for OUTPUT-b2w_dev_reviewText_LLAMA_bm25-none_k4:   9%|▊         | 215/2500 [02:25<22:12,  1.71it/s]"
          ]
        },
        {
          "name": "stdout",
          "output_type": "stream",
          "text": [
            "Review text: Este produto superou minhas expectativas! A qualidade é excepcional e ele funciona perfeitamente. Recomendo a todos que buscam um item confiável e eficiente. Vale cada centavo!\n"
          ]
        },
        {
          "name": "stderr",
          "output_type": "stream",
          "text": [
            "\rGenerating for OUTPUT-b2w_dev_reviewText_LLAMA_bm25-none_k4:   9%|▊         | 216/2500 [02:26<22:41,  1.68it/s]"
          ]
        },
        {
          "name": "stdout",
          "output_type": "stream",
          "text": [
            "Review text: The product is decent and gets the job done. It has some good features, but there are a few areas that could use improvement. Overall, it's an okay choice for the price.\n"
          ]
        },
        {
          "name": "stderr",
          "output_type": "stream",
          "text": [
            "\rGenerating for OUTPUT-b2w_dev_reviewText_LLAMA_bm25-none_k4:   9%|▊         | 217/2500 [02:26<20:48,  1.83it/s]"
          ]
        },
        {
          "name": "stdout",
          "output_type": "stream",
          "text": [
            "Review text: Este producto superó mis expectativas. La calidad es impresionante y funciona a la perfección. Definitivamente lo recomendaría a otros. ¡Una excelente compra!\n"
          ]
        },
        {
          "name": "stderr",
          "output_type": "stream",
          "text": [
            "\rGenerating for OUTPUT-b2w_dev_reviewText_LLAMA_bm25-none_k4:   9%|▊         | 218/2500 [02:27<21:12,  1.79it/s]"
          ]
        },
        {
          "name": "stdout",
          "output_type": "stream",
          "text": [
            "Review text: Este produto superou minhas expectativas! A qualidade é excelente e o desempenho é notável. Estou muito satisfeito e recomendo a todos que buscam algo confiável e eficaz. Vale cada centavo!\n"
          ]
        },
        {
          "name": "stderr",
          "output_type": "stream",
          "text": [
            "\rGenerating for OUTPUT-b2w_dev_reviewText_LLAMA_bm25-none_k4:   9%|▉         | 219/2500 [02:27<20:51,  1.82it/s]"
          ]
        },
        {
          "name": "stdout",
          "output_type": "stream",
          "text": [
            "Review text: Este produto superou todas as minhas expectativas! A qualidade é excepcional e o desempenho é impecável. Estou muito satisfeito com a compra e definitivamente recomendo para quem busca um produto confiável e eficiente. Para mim, é nota dez!\n"
          ]
        },
        {
          "name": "stderr",
          "output_type": "stream",
          "text": [
            "\rGenerating for OUTPUT-b2w_dev_reviewText_LLAMA_bm25-none_k4:   9%|▉         | 220/2500 [02:28<21:47,  1.74it/s]"
          ]
        },
        {
          "name": "stdout",
          "output_type": "stream",
          "text": [
            "Review text: Este produto atendeu todas as minhas expectativas. A qualidade é excelente e o desempenho é notável. Recomendo a todos que buscam um item confiável e eficiente. Vale a pena o investimento!\n"
          ]
        },
        {
          "name": "stderr",
          "output_type": "stream",
          "text": [
            "\rGenerating for OUTPUT-b2w_dev_reviewText_LLAMA_bm25-none_k4:   9%|▉         | 221/2500 [02:29<22:33,  1.68it/s]"
          ]
        },
        {
          "name": "stdout",
          "output_type": "stream",
          "text": [
            "Review text: Este produto atendeu todas as minhas expectativas. A qualidade é excelente e o desempenho é notável. Recomendo a todos que buscam um produto confiável e eficiente. Vale cada centavo!\n"
          ]
        },
        {
          "name": "stderr",
          "output_type": "stream",
          "text": [
            "\rGenerating for OUTPUT-b2w_dev_reviewText_LLAMA_bm25-none_k4:   9%|▉         | 222/2500 [02:29<21:26,  1.77it/s]"
          ]
        },
        {
          "name": "stdout",
          "output_type": "stream",
          "text": [
            "Review text: ¡Estoy muy satisfecho con este producto! La calidad es excepcional y ha superado mis expectativas. Definitivamente lo recomendaría a mis amigos y familiares. ¡Excelente compra!\n"
          ]
        },
        {
          "name": "stderr",
          "output_type": "stream",
          "text": [
            "\rGenerating for OUTPUT-b2w_dev_reviewText_LLAMA_bm25-none_k4:   9%|▉         | 223/2500 [02:30<20:43,  1.83it/s]"
          ]
        },
        {
          "name": "stdout",
          "output_type": "stream",
          "text": [
            "Review text: \"Os serviços oferecidos são diretos e eficazes. Não há complicações desnecessárias, o que facilita muito a experiência. Recomendo para quem busca praticidade e eficiência.\"\n"
          ]
        },
        {
          "name": "stderr",
          "output_type": "stream",
          "text": [
            "\rGenerating for OUTPUT-b2w_dev_reviewText_LLAMA_bm25-none_k4:   9%|▉         | 224/2500 [02:30<19:48,  1.92it/s]"
          ]
        },
        {
          "name": "stdout",
          "output_type": "stream",
          "text": [
            "Review text: Este produto superou minhas expectativas! A qualidade é excelente e o desempenho é notável. Recomendo a todos que buscam um bom investimento. Muito satisfeito com a compra!\n"
          ]
        },
        {
          "name": "stderr",
          "output_type": "stream",
          "text": [
            "\rGenerating for OUTPUT-b2w_dev_reviewText_LLAMA_bm25-none_k4:   9%|▉         | 225/2500 [02:31<22:29,  1.69it/s]"
          ]
        },
        {
          "name": "stdout",
          "output_type": "stream",
          "text": [
            "Review text: Este produto é incrivelmente fácil de usar e realmente potente. Desde o primeiro momento, percebi como a interface é intuitiva, permitindo que eu comece a utilizá-lo sem complicações. A performance é impressionante; ele realiza suas funções de maneira rápida e eficaz. Recomendo para quem busca eficiência sem complicação!\n"
          ]
        },
        {
          "name": "stderr",
          "output_type": "stream",
          "text": [
            "\rGenerating for OUTPUT-b2w_dev_reviewText_LLAMA_bm25-none_k4:   9%|▉         | 226/2500 [02:31<21:32,  1.76it/s]"
          ]
        },
        {
          "name": "stdout",
          "output_type": "stream",
          "text": [
            "Review text: Este producto superó mis expectativas. La calidad es excepcional y cumple con todas las funciones prometidas. Definitivamente lo recomendaría a otros. ¡Excelente compra!\n"
          ]
        },
        {
          "name": "stderr",
          "output_type": "stream",
          "text": [
            "\rGenerating for OUTPUT-b2w_dev_reviewText_LLAMA_bm25-none_k4:   9%|▉         | 227/2500 [02:32<22:45,  1.67it/s]"
          ]
        },
        {
          "name": "stdout",
          "output_type": "stream",
          "text": [
            "Review text: \"I absolutely love this product! It exceeded my expectations in every way. The quality is outstanding, and it performs flawlessly. I've been using it daily, and I can't imagine my routine without it. Highly recommend to anyone looking for something reliable and effective!\"\n"
          ]
        },
        {
          "name": "stderr",
          "output_type": "stream",
          "text": [
            "\rGenerating for OUTPUT-b2w_dev_reviewText_LLAMA_bm25-none_k4:   9%|▉         | 228/2500 [02:33<21:41,  1.75it/s]"
          ]
        },
        {
          "name": "stdout",
          "output_type": "stream",
          "text": [
            "Review text: \"Comprei este produto recentemente e fiquei extremamente satisfeito! A qualidade é excelente e atendeu todas as minhas expectativas. Recomendo a todos que estão em busca de algo confiável e eficiente. Vale cada centavo!\"\n"
          ]
        },
        {
          "name": "stderr",
          "output_type": "stream",
          "text": [
            "\rGenerating for OUTPUT-b2w_dev_reviewText_LLAMA_bm25-none_k4:   9%|▉         | 229/2500 [02:33<21:58,  1.72it/s]"
          ]
        },
        {
          "name": "stdout",
          "output_type": "stream",
          "text": [
            "Review text: Estou super satisfeita com este produto! A qualidade é incrível e atendeu todas as minhas expectativas. Recomendo a todos que estão em busca de algo eficiente e durável. Com certeza, voltarei a comprar!\n"
          ]
        },
        {
          "name": "stderr",
          "output_type": "stream",
          "text": [
            "\rGenerating for OUTPUT-b2w_dev_reviewText_LLAMA_bm25-none_k4:   9%|▉         | 230/2500 [02:34<21:25,  1.77it/s]"
          ]
        },
        {
          "name": "stdout",
          "output_type": "stream",
          "text": [
            "Review text: Estou muito satisfeito com a minha compra! O produto superou minhas expectativas em qualidade e desempenho. Vale cada centavo investido. Recomendo a todos que estão em dúvida!\n"
          ]
        },
        {
          "name": "stderr",
          "output_type": "stream",
          "text": [
            "\rGenerating for OUTPUT-b2w_dev_reviewText_LLAMA_bm25-none_k4:   9%|▉         | 231/2500 [02:34<23:15,  1.63it/s]"
          ]
        },
        {
          "name": "stdout",
          "output_type": "stream",
          "text": [
            "Review text: Este produto cumpre o que promete, mas não espere nada extraordinário. Atende às necessidades básicas e é uma opção viável para quem busca algo funcional sem gastar muito. Ideal para quem não tem grandes expectativas, mas precisa de algo que faça o trabalho.\n"
          ]
        },
        {
          "name": "stderr",
          "output_type": "stream",
          "text": [
            "\rGenerating for OUTPUT-b2w_dev_reviewText_LLAMA_bm25-none_k4:   9%|▉         | 232/2500 [02:35<23:44,  1.59it/s]"
          ]
        },
        {
          "name": "stdout",
          "output_type": "stream",
          "text": [
            "Review text: Este produto realmente atendeu todas as minhas expectativas. A qualidade é excelente e cumpre o que promete. Fiquei muito satisfeito com a compra e recomendo a todos que buscam um item confiável e eficiente.\n"
          ]
        },
        {
          "name": "stderr",
          "output_type": "stream",
          "text": [
            "\rGenerating for OUTPUT-b2w_dev_reviewText_LLAMA_bm25-none_k4:   9%|▉         | 233/2500 [02:36<24:46,  1.53it/s]"
          ]
        },
        {
          "name": "stdout",
          "output_type": "stream",
          "text": [
            "Review text: \"Desde que compré este producto, no puedo estar más feliz. La calidad es excepcional y ha superado todas mis expectativas. Funciona a la perfección y se nota que está hecho con materiales de primera. Sin duda, lo recomendaría a cualquiera que busque algo confiable y eficaz. ¡AMEI!!! EXCELENTE!!!\"\n"
          ]
        },
        {
          "name": "stderr",
          "output_type": "stream",
          "text": [
            "\rGenerating for OUTPUT-b2w_dev_reviewText_LLAMA_bm25-none_k4:   9%|▉         | 234/2500 [02:36<23:49,  1.59it/s]"
          ]
        },
        {
          "name": "stdout",
          "output_type": "stream",
          "text": [
            "Review text: Este produto é realmente prático e eficiente! A sua utilização é simples e rápida, facilitando o dia a dia. Além disso, os resultados são impressionantes, superando minhas expectativas. Recomendo a todos que buscam uma solução eficaz e fácil de usar.\n"
          ]
        },
        {
          "name": "stderr",
          "output_type": "stream",
          "text": [
            "\rGenerating for OUTPUT-b2w_dev_reviewText_LLAMA_bm25-none_k4:   9%|▉         | 235/2500 [02:37<23:54,  1.58it/s]"
          ]
        },
        {
          "name": "stdout",
          "output_type": "stream",
          "text": [
            "Review text: Este produto superou minhas expectativas! A qualidade é excepcional e ele funciona perfeitamente. Recomendo a todos que buscam algo confiável e eficiente. Ótima compra!\n"
          ]
        },
        {
          "name": "stderr",
          "output_type": "stream",
          "text": [
            "\rGenerating for OUTPUT-b2w_dev_reviewText_LLAMA_bm25-none_k4:   9%|▉         | 236/2500 [02:38<23:09,  1.63it/s]"
          ]
        },
        {
          "name": "stdout",
          "output_type": "stream",
          "text": [
            "Review text: Este produto realmente superou minhas expectativas. Ele é muito eficiente e cumpre exatamente o que promete. Desde o primeiro uso, percebi resultados imediatos e duradouros. Recomendo a todos que buscam uma solução prática e eficaz. Vale cada centavo!\n"
          ]
        },
        {
          "name": "stderr",
          "output_type": "stream",
          "text": [
            "\rGenerating for OUTPUT-b2w_dev_reviewText_LLAMA_bm25-none_k4:   9%|▉         | 237/2500 [02:38<22:13,  1.70it/s]"
          ]
        },
        {
          "name": "stdout",
          "output_type": "stream",
          "text": [
            "Review text: Este produto superou minhas expectativas! A qualidade é excelente e ele funciona perfeitamente. Recomendo a todos que buscam algo confiável e eficiente. Vale cada centavo!\n"
          ]
        },
        {
          "name": "stderr",
          "output_type": "stream",
          "text": [
            "\rGenerating for OUTPUT-b2w_dev_reviewText_LLAMA_bm25-none_k4:  10%|▉         | 238/2500 [02:39<23:42,  1.59it/s]"
          ]
        },
        {
          "name": "stdout",
          "output_type": "stream",
          "text": [
            "Review text: \"Comprei este produto recentemente e estou muito satisfeito! A qualidade é excelente e atendeu todas as minhas expectativas. O desempenho é surpreendente e o preço vale cada centavo. Recomendo a todos que estão em dúvida, pois é uma ótima aquisição!\"\n"
          ]
        },
        {
          "name": "stderr",
          "output_type": "stream",
          "text": [
            "\rGenerating for OUTPUT-b2w_dev_reviewText_LLAMA_bm25-none_k4:  10%|▉         | 239/2500 [02:40<23:24,  1.61it/s]"
          ]
        },
        {
          "name": "stdout",
          "output_type": "stream",
          "text": [
            "Review text: \"Estou muito satisfeito com o produto. Ele atendeu todas as minhas expectativas e a qualidade é excelente. Recomendo a todos que buscam algo confiável e eficiente!\"\n"
          ]
        },
        {
          "name": "stderr",
          "output_type": "stream",
          "text": [
            "\rGenerating for OUTPUT-b2w_dev_reviewText_LLAMA_bm25-none_k4:  10%|▉         | 240/2500 [02:40<22:55,  1.64it/s]"
          ]
        },
        {
          "name": "stdout",
          "output_type": "stream",
          "text": [
            "Review text: Este produto superou minhas expectativas! A qualidade é excelente e ele funciona perfeitamente. Recomendo a todos que buscam algo confiável e eficiente. Estou muito satisfeito com a compra!\n"
          ]
        },
        {
          "name": "stderr",
          "output_type": "stream",
          "text": [
            "\rGenerating for OUTPUT-b2w_dev_reviewText_LLAMA_bm25-none_k4:  10%|▉         | 241/2500 [02:41<25:21,  1.49it/s]"
          ]
        },
        {
          "name": "stdout",
          "output_type": "stream",
          "text": [
            "Review text: Este produto é realmente prático e leve, facilitando o dia a dia. A sua portabilidade é um grande diferencial, permitindo que eu o leve para qualquer lugar sem esforço. Além disso, a funcionalidade é excelente, atendendo todas as minhas necessidades. Recomendo para quem busca algo eficiente e fácil de manusear!\n"
          ]
        },
        {
          "name": "stderr",
          "output_type": "stream",
          "text": [
            "\rGenerating for OUTPUT-b2w_dev_reviewText_LLAMA_bm25-none_k4:  10%|▉         | 242/2500 [02:41<23:39,  1.59it/s]"
          ]
        },
        {
          "name": "stdout",
          "output_type": "stream",
          "text": [
            "Review text: Este produto superou todas as minhas expectativas! A qualidade é excepcional e o desempenho é incrível. Estou completamente satisfeito e recomendo a todos que buscam algo realmente maravilhoso. Vale cada centavo!\n"
          ]
        },
        {
          "name": "stderr",
          "output_type": "stream",
          "text": [
            "\rGenerating for OUTPUT-b2w_dev_reviewText_LLAMA_bm25-none_k4:  10%|▉         | 243/2500 [02:42<22:46,  1.65it/s]"
          ]
        },
        {
          "name": "stdout",
          "output_type": "stream",
          "text": [
            "Review text: Este produto foi uma decepção total. A qualidade é muito inferior ao que eu esperava, e não funcionou como prometido. Senti que joguei meu dinheiro fora. Não recomendo!\n"
          ]
        },
        {
          "name": "stderr",
          "output_type": "stream",
          "text": [
            "\rGenerating for OUTPUT-b2w_dev_reviewText_LLAMA_bm25-none_k4:  10%|▉         | 244/2500 [02:43<25:16,  1.49it/s]"
          ]
        },
        {
          "name": "stdout",
          "output_type": "stream",
          "text": [
            "Review text: \"Comprei este armário achando que seria uma ótima adição ao meu espaço, mas me decepcionei. A qualidade não é tão boa quanto parece nas fotos e a montagem foi um verdadeiro desafio, com peças que não se encaixavam direito. No final, o armário não se parece com o que eu esperava e não é tão funcional quanto eu gostaria. Um investimento que não valeu a pena.\"\n"
          ]
        },
        {
          "name": "stderr",
          "output_type": "stream",
          "text": [
            "\rGenerating for OUTPUT-b2w_dev_reviewText_LLAMA_bm25-none_k4:  10%|▉         | 245/2500 [02:44<26:22,  1.42it/s]"
          ]
        },
        {
          "name": "stdout",
          "output_type": "stream",
          "text": [
            "Review text: Este produto superou minhas expectativas! É leve, o que facilita o transporte, mas ao mesmo tempo é extremamente forte e estável. Usei em várias situações e ele se manteve firme, proporcionando segurança e confiança. Recomendo para quem busca qualidade e praticidade!\n"
          ]
        },
        {
          "name": "stderr",
          "output_type": "stream",
          "text": [
            "\rGenerating for OUTPUT-b2w_dev_reviewText_LLAMA_bm25-none_k4:  10%|▉         | 246/2500 [02:44<24:36,  1.53it/s]"
          ]
        },
        {
          "name": "stdout",
          "output_type": "stream",
          "text": [
            "Review text: Estou muito satisfeito com o produto! Ele atendeu todas as minhas expectativas e funcionou exatamente como eu esperava. A qualidade é excelente e o desempenho é impecável. Recomendo a todos que buscam algo confiável e eficiente.\n"
          ]
        },
        {
          "name": "stderr",
          "output_type": "stream",
          "text": [
            "\rGenerating for OUTPUT-b2w_dev_reviewText_LLAMA_bm25-none_k4:  10%|▉         | 247/2500 [02:45<22:13,  1.69it/s]"
          ]
        },
        {
          "name": "stdout",
          "output_type": "stream",
          "text": [
            "Review text: \"A qualidade deste produto superou minhas expectativas! Os materiais são duráveis e a performance é excepcional. Recomendo a todos que buscam algo confiável e de alto padrão. Vale cada centavo!\"\n"
          ]
        },
        {
          "name": "stderr",
          "output_type": "stream",
          "text": [
            "\rGenerating for OUTPUT-b2w_dev_reviewText_LLAMA_bm25-none_k4:  10%|▉         | 248/2500 [02:45<20:34,  1.82it/s]"
          ]
        },
        {
          "name": "stdout",
          "output_type": "stream",
          "text": [
            "Review text: Adorei o produto! Atendeu todas as minhas expectativas e a qualidade é excelente. Recomendo a todos que estão em dúvida. Vale muito a pena!\n"
          ]
        },
        {
          "name": "stderr",
          "output_type": "stream",
          "text": [
            "\rGenerating for OUTPUT-b2w_dev_reviewText_LLAMA_bm25-none_k4:  10%|▉         | 249/2500 [02:46<20:59,  1.79it/s]"
          ]
        },
        {
          "name": "stdout",
          "output_type": "stream",
          "text": [
            "Review text: \"Fiquei muito satisfeito com a minha compra! O produto superou minhas expectativas em qualidade e desempenho. Recomendo a todos que buscam algo confiável e eficiente. Definitivamente, uma boa escolha!\"\n"
          ]
        },
        {
          "name": "stderr",
          "output_type": "stream",
          "text": [
            "\rGenerating for OUTPUT-b2w_dev_reviewText_LLAMA_bm25-none_k4:  10%|█         | 250/2500 [02:47<32:33,  1.15it/s]"
          ]
        },
        {
          "name": "stdout",
          "output_type": "stream",
          "text": [
            "Review text: \"Escada is a true gem in the world of fragrances! The scent is a perfect blend of floral and fruity notes that feels both refreshing and sophisticated. I love how it lasts throughout the day without being overpowering. Every time I wear it, I receive compliments, and it truly lifts my spirits. The packaging is also stunning, making it a beautiful addition to my vanity. Highly recommend for anyone looking to add a touch of elegance to their fragrance collection!\"\n"
          ]
        },
        {
          "name": "stderr",
          "output_type": "stream",
          "text": [
            "\rGenerating for OUTPUT-b2w_dev_reviewText_LLAMA_bm25-none_k4:  10%|█         | 251/2500 [02:48<32:52,  1.14it/s]"
          ]
        },
        {
          "name": "stdout",
          "output_type": "stream",
          "text": [
            "Review text: The J1mini is a fantastic little device that packs a punch! Its compact size makes it super portable, and the performance is surprisingly impressive for such a small gadget. The battery life is excellent, lasting me through the day without needing a recharge. The display is clear and vibrant, making it perfect for streaming videos or browsing the web. Overall, I highly recommend the J1mini for anyone looking for a reliable and efficient mini device!\n"
          ]
        },
        {
          "name": "stderr",
          "output_type": "stream",
          "text": [
            "\rGenerating for OUTPUT-b2w_dev_reviewText_LLAMA_bm25-none_k4:  10%|█         | 252/2500 [02:49<28:35,  1.31it/s]"
          ]
        },
        {
          "name": "stdout",
          "output_type": "stream",
          "text": [
            "Review text: Eu gostei muito deste produto! A qualidade é excelente e atendeu todas as minhas expectativas. Recomendo para quem busca algo confiável e eficiente.\n"
          ]
        },
        {
          "name": "stderr",
          "output_type": "stream",
          "text": [
            "\rGenerating for OUTPUT-b2w_dev_reviewText_LLAMA_bm25-none_k4:  10%|█         | 253/2500 [02:49<27:07,  1.38it/s]"
          ]
        },
        {
          "name": "stdout",
          "output_type": "stream",
          "text": [
            "Review text: Este produto superou minhas expectativas! A qualidade é excelente e o desempenho é impecável. Estou muito satisfeito com a compra e recomendo a todos que buscam um item confiável e eficiente. Vale cada centavo!\n"
          ]
        },
        {
          "name": "stderr",
          "output_type": "stream",
          "text": [
            "\rGenerating for OUTPUT-b2w_dev_reviewText_LLAMA_bm25-none_k4:  10%|█         | 254/2500 [02:50<26:35,  1.41it/s]"
          ]
        },
        {
          "name": "stdout",
          "output_type": "stream",
          "text": [
            "Review text: \"Comprei este produto recentemente e fiquei muito satisfeito com a qualidade e o desempenho. Ele superou minhas expectativas e se tornou um item indispensável no meu dia a dia. Recomendo a todos que buscam algo confiável e eficiente!\"\n"
          ]
        },
        {
          "name": "stderr",
          "output_type": "stream",
          "text": [
            "\rGenerating for OUTPUT-b2w_dev_reviewText_LLAMA_bm25-none_k4:  10%|█         | 255/2500 [02:50<25:07,  1.49it/s]"
          ]
        },
        {
          "name": "stdout",
          "output_type": "stream",
          "text": [
            "Review text: \"Estou muito satisfeito com a qualidade do produto. Atendeu todas as minhas expectativas e é exatamente como descrito. Recomendo a todos que estão em busca de algo confiável e eficiente!\"\n"
          ]
        },
        {
          "name": "stderr",
          "output_type": "stream",
          "text": [
            "\rGenerating for OUTPUT-b2w_dev_reviewText_LLAMA_bm25-none_k4:  10%|█         | 256/2500 [02:51<27:05,  1.38it/s]"
          ]
        },
        {
          "name": "stdout",
          "output_type": "stream",
          "text": [
            "Review text: \"Fiquei impressionado com a rapidez da entrega! O produto chegou muito antes do esperado e em perfeitas condições. Com certeza, vou comprar novamente. Recomendo!\"\n"
          ]
        },
        {
          "name": "stderr",
          "output_type": "stream",
          "text": [
            "\rGenerating for OUTPUT-b2w_dev_reviewText_LLAMA_bm25-none_k4:  10%|█         | 257/2500 [02:52<24:52,  1.50it/s]"
          ]
        },
        {
          "name": "stdout",
          "output_type": "stream",
          "text": [
            "Review text: \"Este produto superou minhas expectativas! A qualidade é excelente e ele funciona perfeitamente. Recomendo para quem busca algo eficaz e durável. Vale cada centavo!\"\n"
          ]
        },
        {
          "name": "stderr",
          "output_type": "stream",
          "text": [
            "\rGenerating for OUTPUT-b2w_dev_reviewText_LLAMA_bm25-none_k4:  10%|█         | 258/2500 [02:52<22:53,  1.63it/s]"
          ]
        },
        {
          "name": "stdout",
          "output_type": "stream",
          "text": [
            "Review text: Este produto é excelente para idosos! A sua facilidade de uso e design intuitivo tornam a experiência muito agradável. Além disso, a qualidade dos materiais garante segurança e conforto. Recomendo para quem busca praticidade e eficiência no dia a dia.\n"
          ]
        },
        {
          "name": "stderr",
          "output_type": "stream",
          "text": [
            "\rGenerating for OUTPUT-b2w_dev_reviewText_LLAMA_bm25-none_k4:  10%|█         | 259/2500 [02:53<23:59,  1.56it/s]"
          ]
        },
        {
          "name": "stdout",
          "output_type": "stream",
          "text": [
            "Review text: Este produto oferece uma relação custo-benefício incrível. A qualidade é surpreendente considerando o preço, e atendeu todas as minhas expectativas. Recomendo para quem busca um bom produto sem gastar muito!\n"
          ]
        },
        {
          "name": "stderr",
          "output_type": "stream",
          "text": [
            "\rGenerating for OUTPUT-b2w_dev_reviewText_LLAMA_bm25-none_k4:  10%|█         | 260/2500 [02:54<23:31,  1.59it/s]"
          ]
        },
        {
          "name": "stdout",
          "output_type": "stream",
          "text": [
            "Review text: Fiquei muito satisfeito com a qualidade e a eficiência do produto. Atendeu todas as minhas expectativas e é exatamente o que eu estava procurando. Recomendo a todos que buscam algo confiável e funcional!\n"
          ]
        },
        {
          "name": "stderr",
          "output_type": "stream",
          "text": [
            "\rGenerating for OUTPUT-b2w_dev_reviewText_LLAMA_bm25-none_k4:  10%|█         | 261/2500 [02:54<24:03,  1.55it/s]"
          ]
        },
        {
          "name": "stdout",
          "output_type": "stream",
          "text": [
            "Review text: Comprei quatro unidades e, infelizmente, duas delas vieram com defeito. Fiquei bastante decepcionado com a qualidade do produto. Espero que isso seja apenas um caso isolado, mas não posso recomendar a compra sem essa garantia.\n"
          ]
        },
        {
          "name": "stderr",
          "output_type": "stream",
          "text": [
            "\rGenerating for OUTPUT-b2w_dev_reviewText_LLAMA_bm25-none_k4:  10%|█         | 262/2500 [02:57<41:19,  1.11s/it]"
          ]
        },
        {
          "name": "stdout",
          "output_type": "stream",
          "text": [
            "Review text: Não atendeu às minhas expectativas. O produto pareceu promissor, mas a qualidade não é tão boa quanto eu esperava. Tive alguns problemas de funcionamento e não achei que valeu o investimento. Infelizmente, não posso recomendar.\n"
          ]
        },
        {
          "name": "stderr",
          "output_type": "stream",
          "text": [
            "\rGenerating for OUTPUT-b2w_dev_reviewText_LLAMA_bm25-none_k4:  11%|█         | 263/2500 [02:58<40:39,  1.09s/it]"
          ]
        },
        {
          "name": "stdout",
          "output_type": "stream",
          "text": [
            "Review text: \"Comprei este celular por ser uma opção mais econômica, e realmente o preço é atraente. No entanto, a câmera deixa muito a desejar. As fotos saem com pouca definição e em ambientes com pouca luz, a qualidade é ainda pior. Se você não se importa com a câmera e busca um celular funcional para tarefas básicas, pode ser uma boa escolha. Mas se a fotografia é importante para você, recomendo procurar outra opção.\"\n"
          ]
        },
        {
          "name": "stderr",
          "output_type": "stream",
          "text": [
            "\rGenerating for OUTPUT-b2w_dev_reviewText_LLAMA_bm25-none_k4:  11%|█         | 264/2500 [02:58<35:56,  1.04it/s]"
          ]
        },
        {
          "name": "stdout",
          "output_type": "stream",
          "text": [
            "Review text: Este produto superou minhas expectativas! A qualidade é evidente desde o primeiro uso, e a durabilidade parece ser excelente. Recomendo a todos que buscam um item confiável e bem feito. Vale cada centavo!\n"
          ]
        },
        {
          "name": "stderr",
          "output_type": "stream",
          "text": [
            "\rGenerating for OUTPUT-b2w_dev_reviewText_LLAMA_bm25-none_k4:  11%|█         | 265/2500 [02:59<34:55,  1.07it/s]"
          ]
        },
        {
          "name": "stdout",
          "output_type": "stream",
          "text": [
            "Review text: The Samsung Galaxy J1 Dourado is a fantastic budget smartphone that combines style and functionality. Its sleek golden design is eye-catching and feels premium in hand. The display is bright and clear, making it easy to use in various lighting conditions. Performance-wise, it handles everyday tasks smoothly, from browsing to social media. The camera takes decent photos, especially in good lighting. Battery life is impressive, lasting throughout the day with moderate use. Overall, it's a great choice for anyone looking for an affordable yet stylish smartphone. Highly recommend!\n"
          ]
        },
        {
          "name": "stderr",
          "output_type": "stream",
          "text": [
            "\rGenerating for OUTPUT-b2w_dev_reviewText_LLAMA_bm25-none_k4:  11%|█         | 266/2500 [03:00<33:48,  1.10it/s]"
          ]
        },
        {
          "name": "stdout",
          "output_type": "stream",
          "text": [
            "Review text: Eu realmente gostei muito deste produto! A qualidade é excelente e atendeu todas as minhas expectativas. Além disso, o design é muito bonito e funcional. Com certeza, recomendo para quem está em busca de algo que vale a pena.\n"
          ]
        },
        {
          "name": "stderr",
          "output_type": "stream",
          "text": [
            "\rGenerating for OUTPUT-b2w_dev_reviewText_LLAMA_bm25-none_k4:  11%|█         | 267/2500 [03:01<33:21,  1.12it/s]"
          ]
        },
        {
          "name": "stdout",
          "output_type": "stream",
          "text": [
            "Review text: O celular é excelente! A qualidade da câmera é impressionante e as fotos saem nítidas mesmo em ambientes com pouca luz. A bateria dura o dia todo, mesmo com uso intenso. O desempenho é rápido e não travou em nenhum momento. Recomendo para quem busca um bom custo-benefício!\n"
          ]
        },
        {
          "name": "stderr",
          "output_type": "stream",
          "text": [
            "\rGenerating for OUTPUT-b2w_dev_reviewText_LLAMA_bm25-none_k4:  11%|█         | 268/2500 [03:01<30:42,  1.21it/s]"
          ]
        },
        {
          "name": "stdout",
          "output_type": "stream",
          "text": [
            "Review text: Este produto realmente atendeu todas as minhas expectativas. A qualidade é excelente e o desempenho é impecável. Recomendo a todos que buscam algo confiável e eficiente. Estou muito satisfeito com a minha compra!\n"
          ]
        },
        {
          "name": "stderr",
          "output_type": "stream",
          "text": [
            "\rGenerating for OUTPUT-b2w_dev_reviewText_LLAMA_bm25-none_k4:  11%|█         | 269/2500 [03:02<29:15,  1.27it/s]"
          ]
        },
        {
          "name": "stdout",
          "output_type": "stream",
          "text": [
            "Review text: Este produto superou minhas expectativas! A qualidade é excelente e o preço é realmente acessível. Recomendo para quem busca um bom custo-benefício. Estou muito satisfeito com a compra!\n"
          ]
        },
        {
          "name": "stderr",
          "output_type": "stream",
          "text": [
            "\rGenerating for OUTPUT-b2w_dev_reviewText_LLAMA_bm25-none_k4:  11%|█         | 270/2500 [03:03<26:47,  1.39it/s]"
          ]
        },
        {
          "name": "stdout",
          "output_type": "stream",
          "text": [
            "Review text: \"Esse produto é realmente bom! Cumpre o que promete e tem um ótimo custo-benefício. Recomendo para quem busca qualidade sem gastar muito. Estou satisfeito com a compra!\"\n"
          ]
        },
        {
          "name": "stderr",
          "output_type": "stream",
          "text": [
            "\rGenerating for OUTPUT-b2w_dev_reviewText_LLAMA_bm25-none_k4:  11%|█         | 271/2500 [03:03<24:25,  1.52it/s]"
          ]
        },
        {
          "name": "stdout",
          "output_type": "stream",
          "text": [
            "Review text: Este producto superó mis expectativas. La calidad es excepcional y su rendimiento es impresionante. Definitivamente lo recomendaría a amigos y familiares. ¡Una compra que vale la pena!\n"
          ]
        },
        {
          "name": "stderr",
          "output_type": "stream",
          "text": [
            "\rGenerating for OUTPUT-b2w_dev_reviewText_LLAMA_bm25-none_k4:  11%|█         | 272/2500 [03:04<24:36,  1.51it/s]"
          ]
        },
        {
          "name": "stdout",
          "output_type": "stream",
          "text": [
            "Review text: \"Comprei este produto e estou absolutamente encantado! A qualidade é excepcional e atendeu todas as minhas expectativas. Recomendo a todos que estão em dúvida, vocês não vão se arrepender!\"\n"
          ]
        },
        {
          "name": "stderr",
          "output_type": "stream",
          "text": [
            "\rGenerating for OUTPUT-b2w_dev_reviewText_LLAMA_bm25-none_k4:  11%|█         | 273/2500 [03:04<23:09,  1.60it/s]"
          ]
        },
        {
          "name": "stdout",
          "output_type": "stream",
          "text": [
            "Review text: \"This battery exceeded my expectations! It holds a charge for a long time and powers my devices efficiently. Installation was a breeze, and the performance has been reliable. Highly recommend for anyone in need of a dependable battery!\"\n"
          ]
        },
        {
          "name": "stderr",
          "output_type": "stream",
          "text": [
            "\rGenerating for OUTPUT-b2w_dev_reviewText_LLAMA_bm25-none_k4:  11%|█         | 274/2500 [03:05<22:12,  1.67it/s]"
          ]
        },
        {
          "name": "stdout",
          "output_type": "stream",
          "text": [
            "Review text: Este producto superó mis expectativas. La calidad es excepcional y funciona a la perfección. Definitivamente lo recomendaría a otros. ¡Estoy muy satisfecho con mi compra!\n"
          ]
        },
        {
          "name": "stderr",
          "output_type": "stream",
          "text": [
            "\rGenerating for OUTPUT-b2w_dev_reviewText_LLAMA_bm25-none_k4:  11%|█         | 275/2500 [03:06<22:13,  1.67it/s]"
          ]
        },
        {
          "name": "stdout",
          "output_type": "stream",
          "text": [
            "Review text: \"Estou muito satisfeito com o produto! A qualidade superou minhas expectativas e ele atendeu perfeitamente às minhas necessidades. Recomendo a todos que estão em busca de algo confiável e eficiente. Com certeza, voltarei a comprar!\"\n"
          ]
        },
        {
          "name": "stderr",
          "output_type": "stream",
          "text": [
            "\rGenerating for OUTPUT-b2w_dev_reviewText_LLAMA_bm25-none_k4:  11%|█         | 276/2500 [03:06<20:18,  1.83it/s]"
          ]
        },
        {
          "name": "stdout",
          "output_type": "stream",
          "text": [
            "Review text: Estou muito satisfeito com a qualidade e o desempenho deste produto. Ele superou minhas expectativas e se mostrou extremamente útil no meu dia a dia. Recomendo a todos que buscam algo confiável e eficiente!\n"
          ]
        },
        {
          "name": "stderr",
          "output_type": "stream",
          "text": [
            "\rGenerating for OUTPUT-b2w_dev_reviewText_LLAMA_bm25-none_k4:  11%|█         | 277/2500 [03:07<21:56,  1.69it/s]"
          ]
        },
        {
          "name": "stdout",
          "output_type": "stream",
          "text": [
            "Review text: \"Comprei este produto recentemente e fiquei extremamente satisfeito. A qualidade é excelente e atendeu todas as minhas expectativas. Recomendo a todos que buscam um bom investimento. Ótima escolha!\"\n"
          ]
        },
        {
          "name": "stderr",
          "output_type": "stream",
          "text": [
            "\rGenerating for OUTPUT-b2w_dev_reviewText_LLAMA_bm25-none_k4:  11%|█         | 278/2500 [03:07<21:56,  1.69it/s]"
          ]
        },
        {
          "name": "stdout",
          "output_type": "stream",
          "text": [
            "Review text: Este produto superou minhas expectativas! A qualidade é excelente e o desempenho é notável. Recomendo a todos que buscam algo confiável e eficaz. Vale cada centavo!\n"
          ]
        },
        {
          "name": "stderr",
          "output_type": "stream",
          "text": [
            "\rGenerating for OUTPUT-b2w_dev_reviewText_LLAMA_bm25-none_k4:  11%|█         | 279/2500 [03:08<23:43,  1.56it/s]"
          ]
        },
        {
          "name": "stdout",
          "output_type": "stream",
          "text": [
            "Review text: \"Este produto não atendeu às minhas expectativas. As ligações são constantes e perturbadoras, tornando a experiência bastante desagradável. Sinto que deveria haver mais controle sobre as notificações. Não recomendo para quem busca tranquilidade.\"\n"
          ]
        },
        {
          "name": "stderr",
          "output_type": "stream",
          "text": [
            "\rGenerating for OUTPUT-b2w_dev_reviewText_LLAMA_bm25-none_k4:  11%|█         | 280/2500 [03:09<24:41,  1.50it/s]"
          ]
        },
        {
          "name": "stdout",
          "output_type": "stream",
          "text": [
            "Review text: Este produto é simples, mas cumpre muito bem o que promete. A funcionalidade é direta e eficaz, tornando o uso diário prático e sem complicações. Recomendo para quem busca algo funcional sem frescuras.\n"
          ]
        },
        {
          "name": "stderr",
          "output_type": "stream",
          "text": [
            "\rGenerating for OUTPUT-b2w_dev_reviewText_LLAMA_bm25-none_k4:  11%|█         | 281/2500 [03:10<26:48,  1.38it/s]"
          ]
        },
        {
          "name": "stdout",
          "output_type": "stream",
          "text": [
            "Review text: \"Este celular superó todas mis expectativas. La cámara es increíble, las fotos salen nítidas y brillantes. La duración de la batería es impresionante, me dura todo el día sin problemas. Además, la pantalla es amplia y muy clara, perfecta para ver videos. Sin duda, una excelente compra que recomendaría a cualquiera que busque un buen dispositivo.\"\n"
          ]
        },
        {
          "name": "stderr",
          "output_type": "stream",
          "text": [
            "\rGenerating for OUTPUT-b2w_dev_reviewText_LLAMA_bm25-none_k4:  11%|█▏        | 282/2500 [03:10<23:46,  1.55it/s]"
          ]
        },
        {
          "name": "stdout",
          "output_type": "stream",
          "text": [
            "Review text: Infelizmente, o produto não atendeu às minhas expectativas. A qualidade deixou a desejar e não funcionou como prometido. Não recomendo.\n"
          ]
        },
        {
          "name": "stderr",
          "output_type": "stream",
          "text": [
            "\rGenerating for OUTPUT-b2w_dev_reviewText_LLAMA_bm25-none_k4:  11%|█▏        | 283/2500 [03:11<22:58,  1.61it/s]"
          ]
        },
        {
          "name": "stdout",
          "output_type": "stream",
          "text": [
            "Review text: Este produto oferece uma excelente relação qualidade-preço. Atendeu todas as minhas expectativas e ainda superou algumas delas. A durabilidade é impressionante e o desempenho é muito satisfatório. Recomendo para quem busca um bom investimento sem gastar muito.\n"
          ]
        },
        {
          "name": "stderr",
          "output_type": "stream",
          "text": [
            "\rGenerating for OUTPUT-b2w_dev_reviewText_LLAMA_bm25-none_k4:  11%|█▏        | 284/2500 [03:12<25:33,  1.45it/s]"
          ]
        },
        {
          "name": "stdout",
          "output_type": "stream",
          "text": [
            "Review text: Este celular é simplesmente incrível! Ele possui todas as funcionalidades que um smartphone de marca renomada oferece, com um desempenho excepcional. A câmera é excelente, a bateria dura bastante e a tela é super nítida. Além disso, o design é moderno e elegante. Não poderia estar mais satisfeito com a minha compra! Recomendo a todos que buscam qualidade e eficiência sem gastar uma fortuna.\n"
          ]
        },
        {
          "name": "stderr",
          "output_type": "stream",
          "text": [
            "\rGenerating for OUTPUT-b2w_dev_reviewText_LLAMA_bm25-none_k4:  11%|█▏        | 285/2500 [03:13<31:40,  1.17it/s]"
          ]
        },
        {
          "name": "stdout",
          "output_type": "stream",
          "text": [
            "Review text: Este celular ha superado todas mis expectativas. La calidad de la cámara es impresionante, las fotos son nítidas y brillantes. La duración de la batería es excelente, me dura todo el día sin problemas. Además, la pantalla es muy clara y vibrante, perfecta para ver videos. La velocidad del procesador es rápida, no he tenido ningún problema con aplicaciones pesadas. Definitivamente, lo recomendaría a cualquiera que busque un celular confiable y de alta calidad. ¡Excelente compra!\n"
          ]
        },
        {
          "name": "stderr",
          "output_type": "stream",
          "text": [
            "\rGenerating for OUTPUT-b2w_dev_reviewText_LLAMA_bm25-none_k4:  11%|█▏        | 286/2500 [03:13<28:09,  1.31it/s]"
          ]
        },
        {
          "name": "stdout",
          "output_type": "stream",
          "text": [
            "Review text: Este produto superou minhas expectativas! A qualidade é excelente e o desempenho é notável. Recomendo a todos que buscam algo confiável e eficiente. Vale cada centavo!\n"
          ]
        },
        {
          "name": "stderr",
          "output_type": "stream",
          "text": [
            "\rGenerating for OUTPUT-b2w_dev_reviewText_LLAMA_bm25-none_k4:  11%|█▏        | 287/2500 [03:14<27:25,  1.34it/s]"
          ]
        },
        {
          "name": "stdout",
          "output_type": "stream",
          "text": [
            "Review text: \"O celular superou minhas expectativas! A qualidade da câmera é impressionante, e a bateria dura o dia todo sem problemas. O desempenho é ágil, mesmo com vários aplicativos abertos. O design é elegante e leve, tornando-o fácil de manusear. Recomendo para quem busca um bom custo-benefício!\"\n"
          ]
        },
        {
          "name": "stderr",
          "output_type": "stream",
          "text": [
            "\rGenerating for OUTPUT-b2w_dev_reviewText_LLAMA_bm25-none_k4:  12%|█▏        | 288/2500 [03:15<25:19,  1.46it/s]"
          ]
        },
        {
          "name": "stdout",
          "output_type": "stream",
          "text": [
            "Review text: Adorei o produto! Atendeu todas as minhas expectativas e a qualidade é excelente. Recomendo a todos que buscam algo confiável e eficaz. Com certeza vou comprar novamente!\n"
          ]
        },
        {
          "name": "stderr",
          "output_type": "stream",
          "text": [
            "\rGenerating for OUTPUT-b2w_dev_reviewText_LLAMA_bm25-none_k4:  12%|█▏        | 289/2500 [03:15<25:10,  1.46it/s]"
          ]
        },
        {
          "name": "stdout",
          "output_type": "stream",
          "text": [
            "Review text: Este produto superou minhas expectativas! A qualidade é excelente e ele funciona perfeitamente. Estou muito satisfeito com a compra e recomendo a todos que buscam algo eficaz e confiável. Vale cada centavo!\n"
          ]
        },
        {
          "name": "stderr",
          "output_type": "stream",
          "text": [
            "\rGenerating for OUTPUT-b2w_dev_reviewText_LLAMA_bm25-none_k4:  12%|█▏        | 290/2500 [03:16<24:28,  1.50it/s]"
          ]
        },
        {
          "name": "stdout",
          "output_type": "stream",
          "text": [
            "Review text: Estou muito satisfeito com o produto! A qualidade superou minhas expectativas e atendeu todas as minhas necessidades. Além disso, a entrega foi uma grata surpresa, chegando antes do prazo previsto. Recomendo a todos!\n"
          ]
        },
        {
          "name": "stderr",
          "output_type": "stream",
          "text": [
            "\rGenerating for OUTPUT-b2w_dev_reviewText_LLAMA_bm25-none_k4:  12%|█▏        | 291/2500 [03:17<24:19,  1.51it/s]"
          ]
        },
        {
          "name": "stdout",
          "output_type": "stream",
          "text": [
            "Review text: O produto atendeu todas as minhas expectativas e veio exatamente como descrito. A qualidade é excelente e não tive nenhum problema com a entrega. Recomendo a todos que buscam um item confiável e de boa procedência.\n"
          ]
        },
        {
          "name": "stderr",
          "output_type": "stream",
          "text": [
            "\rGenerating for OUTPUT-b2w_dev_reviewText_LLAMA_bm25-none_k4:  12%|█▏        | 292/2500 [03:17<23:18,  1.58it/s]"
          ]
        },
        {
          "name": "stdout",
          "output_type": "stream",
          "text": [
            "Review text: Este produto atendeu todas as minhas expectativas. A qualidade é excelente e o desempenho é notável. Vale a pena o investimento! Estou muito satisfeito com a compra e recomendo a todos que buscam algo confiável e eficiente.\n"
          ]
        },
        {
          "name": "stderr",
          "output_type": "stream",
          "text": [
            "\rGenerating for OUTPUT-b2w_dev_reviewText_LLAMA_bm25-none_k4:  12%|█▏        | 293/2500 [03:18<25:08,  1.46it/s]"
          ]
        },
        {
          "name": "stdout",
          "output_type": "stream",
          "text": [
            "Review text: Este produto superou minhas expectativas! A qualidade é excelente e ele cumpre exatamente o que promete. Estou muito satisfeito com a compra e definitivamente recomendo para quem está em dúvida. Vale cada centavo!\n"
          ]
        },
        {
          "name": "stderr",
          "output_type": "stream",
          "text": [
            "\rGenerating for OUTPUT-b2w_dev_reviewText_LLAMA_bm25-none_k4:  12%|█▏        | 294/2500 [03:18<22:25,  1.64it/s]"
          ]
        },
        {
          "name": "stdout",
          "output_type": "stream",
          "text": [
            "Review text: \"O produto realmente cumpre o que promete. A qualidade é excelente e atendeu todas as minhas expectativas. Recomendo para quem busca algo eficiente e confiável!\"\n"
          ]
        },
        {
          "name": "stderr",
          "output_type": "stream",
          "text": [
            "\rGenerating for OUTPUT-b2w_dev_reviewText_LLAMA_bm25-none_k4:  12%|█▏        | 295/2500 [03:19<24:27,  1.50it/s]"
          ]
        },
        {
          "name": "stdout",
          "output_type": "stream",
          "text": [
            "Review text: \"Estou muito satisfeito com a qualidade e o desempenho deste produto. Atendeu todas as minhas expectativas e é exatamente o que eu precisava. Recomendo a todos!\"\n"
          ]
        },
        {
          "name": "stderr",
          "output_type": "stream",
          "text": [
            "\rGenerating for OUTPUT-b2w_dev_reviewText_LLAMA_bm25-none_k4:  12%|█▏        | 296/2500 [03:20<22:43,  1.62it/s]"
          ]
        },
        {
          "name": "stdout",
          "output_type": "stream",
          "text": [
            "Review text: Este produto atendeu todas as minhas expectativas. A qualidade é excelente e o desempenho é notável. Recomendo para quem busca algo confiável e eficiente.\n"
          ]
        },
        {
          "name": "stderr",
          "output_type": "stream",
          "text": [
            "\rGenerating for OUTPUT-b2w_dev_reviewText_LLAMA_bm25-none_k4:  12%|█▏        | 297/2500 [03:21<26:24,  1.39it/s]"
          ]
        },
        {
          "name": "stdout",
          "output_type": "stream",
          "text": [
            "Review text: Estou muito desapontado com a entrega, pois meu produto foi extraviado. Esperei ansiosamente pela chegada e, ao invés disso, recebi a notícia de que não conseguiram localizar meu pedido. Isso realmente afetou minha experiência de compra e espero que a situação seja resolvida rapidamente.\n"
          ]
        },
        {
          "name": "stderr",
          "output_type": "stream",
          "text": [
            "\rGenerating for OUTPUT-b2w_dev_reviewText_LLAMA_bm25-none_k4:  12%|█▏        | 298/2500 [03:21<26:08,  1.40it/s]"
          ]
        },
        {
          "name": "stdout",
          "output_type": "stream",
          "text": [
            "Review text: Este produto foi uma decepção total. A qualidade é muito inferior ao que eu esperava, e não atendeu às minhas necessidades. Além disso, o atendimento ao cliente foi insatisfatório. Não recomendo!\n"
          ]
        },
        {
          "name": "stderr",
          "output_type": "stream",
          "text": [
            "\rGenerating for OUTPUT-b2w_dev_reviewText_LLAMA_bm25-none_k4:  12%|█▏        | 299/2500 [03:22<25:04,  1.46it/s]"
          ]
        },
        {
          "name": "stdout",
          "output_type": "stream",
          "text": [
            "Review text: Este produto superou minhas expectativas! A qualidade é excelente e ele funciona perfeitamente para o que eu precisava. Recomendo para quem busca um bom custo-benefício. Estou muito satisfeito com a compra!\n"
          ]
        },
        {
          "name": "stderr",
          "output_type": "stream",
          "text": [
            "\rGenerating for OUTPUT-b2w_dev_reviewText_LLAMA_bm25-none_k4:  12%|█▏        | 300/2500 [03:23<25:39,  1.43it/s]"
          ]
        },
        {
          "name": "stdout",
          "output_type": "stream",
          "text": [
            "Review text: Este producto es ideal para uso empresarial. Su rendimiento es excepcional y ha mejorado significativamente nuestra productividad. La interfaz es intuitiva, lo que facilita la capacitación de nuevos empleados. Además, el soporte técnico es rápido y eficiente. Sin duda, una inversión que vale la pena para cualquier empresa que busque optimizar sus procesos.\n"
          ]
        },
        {
          "name": "stderr",
          "output_type": "stream",
          "text": [
            "\rGenerating for OUTPUT-b2w_dev_reviewText_LLAMA_bm25-none_k4:  12%|█▏        | 301/2500 [03:23<26:47,  1.37it/s]"
          ]
        },
        {
          "name": "stdout",
          "output_type": "stream",
          "text": [
            "Review text: O celular tem um desempenho muito bom e a qualidade da câmera é impressionante. No entanto, notei que a bateria descarrega rapidamente quando estou conectado ao Wi-Fi. Isso é um pouco frustrante, pois esperava uma duração melhor da bateria. No geral, é um bom aparelho, mas a questão da bateria precisa ser melhorada.\n"
          ]
        },
        {
          "name": "stderr",
          "output_type": "stream",
          "text": [
            "\rGenerating for OUTPUT-b2w_dev_reviewText_LLAMA_bm25-none_k4:  12%|█▏        | 302/2500 [03:24<26:13,  1.40it/s]"
          ]
        },
        {
          "name": "stdout",
          "output_type": "stream",
          "text": [
            "Review text: \"Absolutely love this product! It exceeded my expectations in every way. The quality is top-notch, and it performs flawlessly. I would highly recommend it to anyone looking for something reliable and effective. Five stars all the way!\"\n"
          ]
        },
        {
          "name": "stderr",
          "output_type": "stream",
          "text": [
            "\rGenerating for OUTPUT-b2w_dev_reviewText_LLAMA_bm25-none_k4:  12%|█▏        | 303/2500 [03:25<25:04,  1.46it/s]"
          ]
        },
        {
          "name": "stdout",
          "output_type": "stream",
          "text": [
            "Review text: \"Este producto superó todas mis expectativas. La calidad es excepcional y su rendimiento es impresionante. Definitivamente lo recomendaría a cualquiera que busque algo confiable y efectivo. ¡Una nota mil!\"\n"
          ]
        },
        {
          "name": "stderr",
          "output_type": "stream",
          "text": [
            "\rGenerating for OUTPUT-b2w_dev_reviewText_LLAMA_bm25-none_k4:  12%|█▏        | 304/2500 [03:26<26:20,  1.39it/s]"
          ]
        },
        {
          "name": "stdout",
          "output_type": "stream",
          "text": [
            "Review text: Este aparelho é perfeito para quem busca simplicidade e rapidez no dia a dia. A interface é intuitiva, facilitando o uso até para quem não tem muita experiência com tecnologia. Ele realiza as funções básicas de forma eficiente, sem travamentos ou complicações. Recomendo para quem precisa de um dispositivo prático e funcional!\n"
          ]
        },
        {
          "name": "stderr",
          "output_type": "stream",
          "text": [
            "\rGenerating for OUTPUT-b2w_dev_reviewText_LLAMA_bm25-none_k4:  12%|█▏        | 305/2500 [03:26<23:42,  1.54it/s]"
          ]
        },
        {
          "name": "stdout",
          "output_type": "stream",
          "text": [
            "Review text: \"Este produto superou minhas expectativas! A qualidade é excelente e o desempenho é incrível. Recomendo a todos que buscam algo confiável e eficiente. Vale cada centavo!\"\n"
          ]
        },
        {
          "name": "stderr",
          "output_type": "stream",
          "text": [
            "\rGenerating for OUTPUT-b2w_dev_reviewText_LLAMA_bm25-none_k4:  12%|█▏        | 306/2500 [03:27<24:47,  1.48it/s]"
          ]
        },
        {
          "name": "stdout",
          "output_type": "stream",
          "text": [
            "Review text: Este aparelho já deve ter sido bom em algum momento, mas atualmente apresenta muitos problemas. A qualidade do som é decepcionante e a durabilidade deixa a desejar. Sinto que não vale o investimento, pois existem opções melhores no mercado. Uma pena, pois tinha grandes expectativas.\n"
          ]
        },
        {
          "name": "stderr",
          "output_type": "stream",
          "text": [
            "\rGenerating for OUTPUT-b2w_dev_reviewText_LLAMA_bm25-none_k4:  12%|█▏        | 307/2500 [03:27<22:58,  1.59it/s]"
          ]
        },
        {
          "name": "stdout",
          "output_type": "stream",
          "text": [
            "Review text: Este produto superou minhas expectativas! A qualidade é excelente e ele funciona perfeitamente. Recomendo a todos que estão em busca de algo confiável e eficiente. Ótima compra!\n"
          ]
        },
        {
          "name": "stderr",
          "output_type": "stream",
          "text": [
            "\rGenerating for OUTPUT-b2w_dev_reviewText_LLAMA_bm25-none_k4:  12%|█▏        | 308/2500 [03:28<21:26,  1.70it/s]"
          ]
        },
        {
          "name": "stdout",
          "output_type": "stream",
          "text": [
            "Review text: \"Este produto superou minhas expectativas! A qualidade é excelente e o desempenho é incrível. Com certeza, vale cada centavo. Recomendo a todos!\"\n"
          ]
        },
        {
          "name": "stderr",
          "output_type": "stream",
          "text": [
            "\rGenerating for OUTPUT-b2w_dev_reviewText_LLAMA_bm25-none_k4:  12%|█▏        | 309/2500 [03:28<20:51,  1.75it/s]"
          ]
        },
        {
          "name": "stdout",
          "output_type": "stream",
          "text": [
            "Review text: Este producto superó mis expectativas. La calidad es excepcional y ha funcionado a la perfección desde el primer uso. Definitivamente lo recomendaría a otros. ¡Excelente compra!\n"
          ]
        },
        {
          "name": "stderr",
          "output_type": "stream",
          "text": [
            "\rGenerating for OUTPUT-b2w_dev_reviewText_LLAMA_bm25-none_k4:  12%|█▏        | 310/2500 [03:29<21:23,  1.71it/s]"
          ]
        },
        {
          "name": "stdout",
          "output_type": "stream",
          "text": [
            "Review text: \"Este produto é perfeito para quem procura algo simples e funcional. Atende todas as minhas necessidades diárias sem complicações. Fácil de usar e muito prático, exatamente o que eu precisava. Recomendo para quem não quer se preocupar com detalhes desnecessários!\"\n"
          ]
        },
        {
          "name": "stderr",
          "output_type": "stream",
          "text": [
            "\rGenerating for OUTPUT-b2w_dev_reviewText_LLAMA_bm25-none_k4:  12%|█▏        | 311/2500 [03:30<31:41,  1.15it/s]"
          ]
        },
        {
          "name": "stdout",
          "output_type": "stream",
          "text": [
            "Review text: I recently purchased the Galaxy1, and I couldn't be happier with my decision! The design is sleek and modern, making it a perfect fit for my lifestyle. The performance is outstanding, handling all my apps and games with ease. The battery life is impressive, lasting me throughout the day without needing a recharge. The camera quality is top-notch, capturing stunning photos even in low light. Overall, the Galaxy1 has exceeded my expectations, and I highly recommend it to anyone looking for a reliable and stylish device!\n"
          ]
        },
        {
          "name": "stderr",
          "output_type": "stream",
          "text": [
            "\rGenerating for OUTPUT-b2w_dev_reviewText_LLAMA_bm25-none_k4:  12%|█▏        | 312/2500 [03:31<28:12,  1.29it/s]"
          ]
        },
        {
          "name": "stdout",
          "output_type": "stream",
          "text": [
            "Review text: Este produto é exatamente o que eu precisava. Simples, mas cumpre bem sua função. A qualidade é boa e o preço é justo. Recomendo para quem busca algo prático e eficiente.\n"
          ]
        },
        {
          "name": "stderr",
          "output_type": "stream",
          "text": [
            "\rGenerating for OUTPUT-b2w_dev_reviewText_LLAMA_bm25-none_k4:  13%|█▎        | 313/2500 [03:31<24:15,  1.50it/s]"
          ]
        },
        {
          "name": "stdout",
          "output_type": "stream",
          "text": [
            "Review text: Este produto superou minhas expectativas! A qualidade é excepcional e a performance é incrível. Recomendo a todos que buscam algo confiável e eficiente. Vale cada centavo!\n"
          ]
        },
        {
          "name": "stderr",
          "output_type": "stream",
          "text": [
            "\rGenerating for OUTPUT-b2w_dev_reviewText_LLAMA_bm25-none_k4:  13%|█▎        | 314/2500 [03:32<22:15,  1.64it/s]"
          ]
        },
        {
          "name": "stdout",
          "output_type": "stream",
          "text": [
            "Review text: \"Este produto é incrível! A qualidade superou minhas expectativas e definitivamente vale o investimento. Recomendo a todos que procuram algo confiável e eficiente.\"\n"
          ]
        },
        {
          "name": "stderr",
          "output_type": "stream",
          "text": [
            "\rGenerating for OUTPUT-b2w_dev_reviewText_LLAMA_bm25-none_k4:  13%|█▎        | 315/2500 [03:33<23:07,  1.58it/s]"
          ]
        },
        {
          "name": "stdout",
          "output_type": "stream",
          "text": [
            "Review text: Este producto superó mis expectativas. La calidad es excepcional y cumple con todas las funciones prometidas. Definitivamente lo recomendaría a otros. ¡Excelente compra!\n"
          ]
        },
        {
          "name": "stderr",
          "output_type": "stream",
          "text": [
            "\rGenerating for OUTPUT-b2w_dev_reviewText_LLAMA_bm25-none_k4:  13%|█▎        | 316/2500 [03:33<22:35,  1.61it/s]"
          ]
        },
        {
          "name": "stdout",
          "output_type": "stream",
          "text": [
            "Review text: \"Estou muito satisfeito com a qualidade e o desempenho deste produto. Ele superou minhas expectativas e atendeu todas as minhas necessidades. Com certeza, recomendo a todos que estão em busca de algo eficiente e confiável!\"\n"
          ]
        },
        {
          "name": "stderr",
          "output_type": "stream",
          "text": [
            "\rGenerating for OUTPUT-b2w_dev_reviewText_LLAMA_bm25-none_k4:  13%|█▎        | 317/2500 [03:34<23:27,  1.55it/s]"
          ]
        },
        {
          "name": "stdout",
          "output_type": "stream",
          "text": [
            "Review text: This product truly lives up to its name! The performance is outstanding, and it consistently delivers an impressive experience. Whether you're using it for entertainment or practical purposes, it never fails to impress. Highly recommend for anyone looking to elevate their experience!\n"
          ]
        },
        {
          "name": "stderr",
          "output_type": "stream",
          "text": [
            "\rGenerating for OUTPUT-b2w_dev_reviewText_LLAMA_bm25-none_k4:  13%|█▎        | 318/2500 [03:35<23:15,  1.56it/s]"
          ]
        },
        {
          "name": "stdout",
          "output_type": "stream",
          "text": [
            "Review text: Recebi o produto com defeito e fiquei bastante decepcionado. A qualidade não atende às expectativas e não funcionou como deveria. Espero que a empresa possa resolver essa situação rapidamente.\n"
          ]
        },
        {
          "name": "stderr",
          "output_type": "stream",
          "text": [
            "\rGenerating for OUTPUT-b2w_dev_reviewText_LLAMA_bm25-none_k4:  13%|█▎        | 319/2500 [03:36<30:17,  1.20it/s]"
          ]
        },
        {
          "name": "stdout",
          "output_type": "stream",
          "text": [
            "Review text: \"O Cul Sansung J1 Mini realmente vale o valor pago. Ele tem um desempenho surpreendente para o preço, com uma interface amigável e fácil de usar. A câmera tira fotos de boa qualidade e a duração da bateria é excelente, permitindo que eu use o celular o dia todo sem me preocupar em recarregar. Além disso, o design é compacto e leve, perfeito para quem busca um aparelho prático. Recomendo para quem não quer gastar muito, mas ainda assim deseja um smartphone confiável.\"\n"
          ]
        },
        {
          "name": "stderr",
          "output_type": "stream",
          "text": [
            "\rGenerating for OUTPUT-b2w_dev_reviewText_LLAMA_bm25-none_k4:  13%|█▎        | 320/2500 [03:37<30:11,  1.20it/s]"
          ]
        },
        {
          "name": "stdout",
          "output_type": "stream",
          "text": [
            "Review text: Indico has truly transformed my workflow! The interface is sleek and user-friendly, making it easy to navigate through various features. The analytics tools are robust and provide insightful data that has helped me make informed decisions. I appreciate the seamless integration with other applications, which saves me a lot of time. Overall, I highly recommend Indico for anyone looking to enhance their productivity and streamline their processes!\n"
          ]
        },
        {
          "name": "stderr",
          "output_type": "stream",
          "text": [
            "\rGenerating for OUTPUT-b2w_dev_reviewText_LLAMA_bm25-none_k4:  13%|█▎        | 321/2500 [03:37<26:49,  1.35it/s]"
          ]
        },
        {
          "name": "stdout",
          "output_type": "stream",
          "text": [
            "Review text: \"Esse produto superou minhas expectativas! A qualidade é excelente e o desempenho é incrível. Recomendo a todos que buscam algo eficaz e confiável. Vale cada centavo!\"\n"
          ]
        },
        {
          "name": "stderr",
          "output_type": "stream",
          "text": [
            "\rGenerating for OUTPUT-b2w_dev_reviewText_LLAMA_bm25-none_k4:  13%|█▎        | 322/2500 [03:38<24:59,  1.45it/s]"
          ]
        },
        {
          "name": "stdout",
          "output_type": "stream",
          "text": [
            "Review text: \"Esse produto superou minhas expectativas! A qualidade é excelente e o desempenho é impecável. Recomendo a todos que buscam algo confiável e eficaz. Vale cada centavo!\"\n"
          ]
        },
        {
          "name": "stderr",
          "output_type": "stream",
          "text": [
            "\rGenerating for OUTPUT-b2w_dev_reviewText_LLAMA_bm25-none_k4:  13%|█▎        | 323/2500 [03:38<24:04,  1.51it/s]"
          ]
        },
        {
          "name": "stdout",
          "output_type": "stream",
          "text": [
            "Review text: O produto atendeu minhas expectativas de forma satisfatória. A qualidade é boa e cumpre o que promete. Recomendo para quem busca um item funcional e confiável.\n"
          ]
        },
        {
          "name": "stderr",
          "output_type": "stream",
          "text": [
            "\rGenerating for OUTPUT-b2w_dev_reviewText_LLAMA_bm25-none_k4:  13%|█▎        | 324/2500 [03:39<21:46,  1.67it/s]"
          ]
        },
        {
          "name": "stdout",
          "output_type": "stream",
          "text": [
            "Review text: \"Esse produto é incrível! A qualidade superou minhas expectativas e o desempenho é excepcional. Recomendo a todos que buscam algo realmente bom!\"\n"
          ]
        },
        {
          "name": "stderr",
          "output_type": "stream",
          "text": [
            "\rGenerating for OUTPUT-b2w_dev_reviewText_LLAMA_bm25-none_k4:  13%|█▎        | 325/2500 [03:39<21:45,  1.67it/s]"
          ]
        },
        {
          "name": "stdout",
          "output_type": "stream",
          "text": [
            "Review text: This product exceeded my expectations in every way. The quality is top-notch, and it performs flawlessly. I appreciate the attention to detail and the thoughtful design. Highly recommend it to anyone looking for reliability and excellence!\n"
          ]
        },
        {
          "name": "stderr",
          "output_type": "stream",
          "text": [
            "\rGenerating for OUTPUT-b2w_dev_reviewText_LLAMA_bm25-none_k4:  13%|█▎        | 326/2500 [03:40<23:17,  1.56it/s]"
          ]
        },
        {
          "name": "stdout",
          "output_type": "stream",
          "text": [
            "Review text: The JI MINI has truly exceeded my expectations! Its compact design makes it incredibly portable, yet it doesn't compromise on functionality. The performance is impressive, and I love the user-friendly interface. Whether I'm using it for work or leisure, it delivers consistently. Highly recommend it to anyone looking for a reliable and stylish mini device!\n"
          ]
        },
        {
          "name": "stderr",
          "output_type": "stream",
          "text": [
            "\rGenerating for OUTPUT-b2w_dev_reviewText_LLAMA_bm25-none_k4:  13%|█▎        | 327/2500 [03:45<1:11:56,  1.99s/it]"
          ]
        },
        {
          "name": "stdout",
          "output_type": "stream",
          "text": [
            "Review text: Este produto oferece uma excelente relação custo-benefício. A qualidade é surpreendente para o preço pago, e atendeu todas as minhas expectativas. Recomendo para quem busca um bom produto sem gastar muito!\n"
          ]
        },
        {
          "name": "stderr",
          "output_type": "stream",
          "text": [
            "\rGenerating for OUTPUT-b2w_dev_reviewText_LLAMA_bm25-none_k4:  13%|█▎        | 328/2500 [03:46<58:17,  1.61s/it]  "
          ]
        },
        {
          "name": "stdout",
          "output_type": "stream",
          "text": [
            "Review text: Este produto atende bem às necessidades básicas. Para quem não busca recursos avançados ou alta performance, ele é uma ótima opção. Funciona de maneira eficiente e cumpre o que promete, tornando-se uma escolha prática e acessível. Recomendo para quem procura algo simples e funcional.\n"
          ]
        },
        {
          "name": "stderr",
          "output_type": "stream",
          "text": [
            "\rGenerating for OUTPUT-b2w_dev_reviewText_LLAMA_bm25-none_k4:  13%|█▎        | 329/2500 [03:47<46:52,  1.30s/it]"
          ]
        },
        {
          "name": "stdout",
          "output_type": "stream",
          "text": [
            "Review text: \"Estou muito satisfeito com a qualidade e o desempenho deste produto. Atendeu todas as minhas expectativas e valeu cada centavo. Recomendo a todos que estão em busca de algo eficiente e confiável!\"\n"
          ]
        },
        {
          "name": "stderr",
          "output_type": "stream",
          "text": [
            "\rGenerating for OUTPUT-b2w_dev_reviewText_LLAMA_bm25-none_k4:  13%|█▎        | 330/2500 [03:47<37:17,  1.03s/it]"
          ]
        },
        {
          "name": "stdout",
          "output_type": "stream",
          "text": [
            "Review text: Adorei o produto! Atendeu todas as minhas expectativas e a qualidade é excelente. Com certeza recomendo para quem busca algo confiável e eficiente. Super satisfeito!\n"
          ]
        },
        {
          "name": "stderr",
          "output_type": "stream",
          "text": [
            "\rGenerating for OUTPUT-b2w_dev_reviewText_LLAMA_bm25-none_k4:  13%|█▎        | 331/2500 [03:48<32:25,  1.11it/s]"
          ]
        },
        {
          "name": "stdout",
          "output_type": "stream",
          "text": [
            "Review text: Estou muito satisfeito com o produto! Ele atendeu todas as minhas expectativas e tem um desempenho excelente. A qualidade é notável e definitivamente recomendo a todos que estão em busca de algo confiável e eficiente. Vale cada centavo!\n"
          ]
        },
        {
          "name": "stderr",
          "output_type": "stream",
          "text": [
            "\rGenerating for OUTPUT-b2w_dev_reviewText_LLAMA_bm25-none_k4:  13%|█▎        | 332/2500 [03:48<28:54,  1.25it/s]"
          ]
        },
        {
          "name": "stdout",
          "output_type": "stream",
          "text": [
            "Review text: Estou extremamente satisfeito com este produto! A qualidade superou minhas expectativas e a performance é excelente. Recomendo a todos que buscam um item confiável e eficiente. Vale cada centavo!\n"
          ]
        },
        {
          "name": "stderr",
          "output_type": "stream",
          "text": [
            "\rGenerating for OUTPUT-b2w_dev_reviewText_LLAMA_bm25-none_k4:  13%|█▎        | 333/2500 [03:49<30:43,  1.18it/s]"
          ]
        },
        {
          "name": "stdout",
          "output_type": "stream",
          "text": [
            "Review text: \"I recently upgraded to this smartphone and I couldn't be happier! The display is vibrant and the camera takes stunning photos, even in low light. The battery life lasts all day, which is a huge plus for my busy lifestyle. The user interface is intuitive and smooth, making navigation a breeze. Overall, this smartphone has exceeded my expectations and I highly recommend it to anyone in the market for a new device!\"\n"
          ]
        },
        {
          "name": "stderr",
          "output_type": "stream",
          "text": [
            "\rGenerating for OUTPUT-b2w_dev_reviewText_LLAMA_bm25-none_k4:  13%|█▎        | 334/2500 [03:50<26:28,  1.36it/s]"
          ]
        },
        {
          "name": "stdout",
          "output_type": "stream",
          "text": [
            "Review text: \"Estou muito satisfeito com a qualidade e a funcionalidade deste produto. Ele atendeu todas as minhas expectativas e se destacou pela durabilidade. Recomendo a todos que buscam algo confiável e eficiente!\"\n"
          ]
        },
        {
          "name": "stderr",
          "output_type": "stream",
          "text": [
            "\rGenerating for OUTPUT-b2w_dev_reviewText_LLAMA_bm25-none_k4:  13%|█▎        | 335/2500 [03:50<24:47,  1.46it/s]"
          ]
        },
        {
          "name": "stdout",
          "output_type": "stream",
          "text": [
            "Review text: \"Este produto superou todas as minhas expectativas! Desde a qualidade até o desempenho, tudo é exatamente como eu desejava. Recomendo a todos que buscam algo que realmente faça a diferença. Vale cada centavo!\"\n"
          ]
        },
        {
          "name": "stderr",
          "output_type": "stream",
          "text": [
            "\rGenerating for OUTPUT-b2w_dev_reviewText_LLAMA_bm25-none_k4:  13%|█▎        | 336/2500 [03:51<25:38,  1.41it/s]"
          ]
        },
        {
          "name": "stdout",
          "output_type": "stream",
          "text": [
            "Review text: 'Infelizmente, não posso dar uma avaliação justa, pois ainda não recebi o produto. Estou ansioso para que chegue e espero que a experiência de compra melhore assim que o item chegar.'\n"
          ]
        },
        {
          "name": "stderr",
          "output_type": "stream",
          "text": [
            "\rGenerating for OUTPUT-b2w_dev_reviewText_LLAMA_bm25-none_k4:  13%|█▎        | 337/2500 [03:52<26:45,  1.35it/s]"
          ]
        },
        {
          "name": "stdout",
          "output_type": "stream",
          "text": [
            "Review text: This product was a complete disappointment. From the moment I opened the packaging, I could tell it wasn't worth the hype. The quality was subpar, and it didn't perform as advertised. I encountered multiple issues that made using it a frustrating experience. I expected much more, and I definitely won't be recommending it to anyone. Save your money and look elsewhere!\n"
          ]
        },
        {
          "name": "stderr",
          "output_type": "stream",
          "text": [
            "\rGenerating for OUTPUT-b2w_dev_reviewText_LLAMA_bm25-none_k4:  14%|█▎        | 338/2500 [03:54<42:06,  1.17s/it]"
          ]
        },
        {
          "name": "stdout",
          "output_type": "stream",
          "text": [
            "Review text: Não posso avaliar o produto, pois nunca o recebi. A experiência de compra foi frustrante e não consegui usufruir do que comprei. Espero que a situação seja resolvida em breve.\n"
          ]
        },
        {
          "name": "stderr",
          "output_type": "stream",
          "text": [
            "\rGenerating for OUTPUT-b2w_dev_reviewText_LLAMA_bm25-none_k4:  14%|█▎        | 339/2500 [03:54<34:56,  1.03it/s]"
          ]
        },
        {
          "name": "stdout",
          "output_type": "stream",
          "text": [
            "Review text: Este produto superou minhas expectativas! A qualidade é excelente e o desempenho é incrível. Recomendo para quem busca algo confiável e eficiente. Vale cada centavo!\n"
          ]
        },
        {
          "name": "stderr",
          "output_type": "stream",
          "text": [
            "\rGenerating for OUTPUT-b2w_dev_reviewText_LLAMA_bm25-none_k4:  14%|█▎        | 340/2500 [03:55<34:22,  1.05it/s]"
          ]
        },
        {
          "name": "stdout",
          "output_type": "stream",
          "text": [
            "Review text: \"Comprei este produto e fiquei extremamente satisfeito! Ele atendeu todas as minhas expectativas e mais. A qualidade é excelente e o desempenho é impecável. Recomendo a todos que estão em dúvida, pois vale cada centavo!\"\n"
          ]
        },
        {
          "name": "stderr",
          "output_type": "stream",
          "text": [
            "\rGenerating for OUTPUT-b2w_dev_reviewText_LLAMA_bm25-none_k4:  14%|█▎        | 341/2500 [03:56<32:25,  1.11it/s]"
          ]
        },
        {
          "name": "stdout",
          "output_type": "stream",
          "text": [
            "Review text: This product truly deserves a perfect score! The quality is outstanding, and it exceeded all my expectations. From the moment I started using it, I could tell that a lot of thought went into its design and functionality. Highly recommend to anyone looking for something reliable and effective!\n"
          ]
        },
        {
          "name": "stderr",
          "output_type": "stream",
          "text": [
            "\rGenerating for OUTPUT-b2w_dev_reviewText_LLAMA_bm25-none_k4:  14%|█▎        | 342/2500 [03:57<30:39,  1.17it/s]"
          ]
        },
        {
          "name": "stdout",
          "output_type": "stream",
          "text": [
            "Review text: AMEI has truly exceeded my expectations! The quality is outstanding, and the design is both sleek and functional. I've been using it daily, and it has made a noticeable difference in my routine. Highly recommend to anyone looking for a reliable and stylish option!\n"
          ]
        },
        {
          "name": "stderr",
          "output_type": "stream",
          "text": [
            "\rGenerating for OUTPUT-b2w_dev_reviewText_LLAMA_bm25-none_k4:  14%|█▎        | 343/2500 [03:57<28:13,  1.27it/s]"
          ]
        },
        {
          "name": "stdout",
          "output_type": "stream",
          "text": [
            "Review text: Este produto superou minhas expectativas! A qualidade é excelente e ele cumpre muito bem o que promete. Estou muito satisfeito com a compra e recomendo a todos que buscam um produto confiável e eficiente. Vale a pena!\n"
          ]
        },
        {
          "name": "stderr",
          "output_type": "stream",
          "text": [
            "\rGenerating for OUTPUT-b2w_dev_reviewText_LLAMA_bm25-none_k4:  14%|█▍        | 344/2500 [03:58<24:23,  1.47it/s]"
          ]
        },
        {
          "name": "stdout",
          "output_type": "stream",
          "text": [
            "Review text: Adorei a qualidade e a funcionalidade do produto! Atendeu todas as minhas expectativas e estou muito satisfeito com a compra. Recomendo a todos que estão em dúvida!\n"
          ]
        },
        {
          "name": "stderr",
          "output_type": "stream",
          "text": [
            "\rGenerating for OUTPUT-b2w_dev_reviewText_LLAMA_bm25-none_k4:  14%|█▍        | 345/2500 [03:59<25:50,  1.39it/s]"
          ]
        },
        {
          "name": "stdout",
          "output_type": "stream",
          "text": [
            "Review text: \"Comprei este produto para o meu filho e ele adorou! A qualidade é excelente e atendeu todas as suas expectativas. Ele se divertiu muito e já pediu para usar novamente. Recomendo para quem busca algo divertido e que traga alegria para as crianças!\"\n"
          ]
        },
        {
          "name": "stderr",
          "output_type": "stream",
          "text": [
            "\rGenerating for OUTPUT-b2w_dev_reviewText_LLAMA_bm25-none_k4:  14%|█▍        | 346/2500 [03:59<23:19,  1.54it/s]"
          ]
        },
        {
          "name": "stdout",
          "output_type": "stream",
          "text": [
            "Review text: \"Comprei este produto recentemente e fiquei muito satisfeito! A qualidade é excelente e o preço é super acessível. Vale cada centavo, especialmente considerando as funcionalidades que oferece. Recomendo para quem busca um bom equilíbrio entre preço e qualidade!\"\n"
          ]
        },
        {
          "name": "stderr",
          "output_type": "stream",
          "text": [
            "\rGenerating for OUTPUT-b2w_dev_reviewText_LLAMA_bm25-none_k4:  14%|█▍        | 347/2500 [04:00<22:59,  1.56it/s]"
          ]
        },
        {
          "name": "stdout",
          "output_type": "stream",
          "text": [
            "Review text: \"Absolutely love this product! It exceeded my expectations in every way. The quality is outstanding, and it performs flawlessly. I've already recommended it to several friends, and they are just as impressed. Definitely worth the investment!\"\n"
          ]
        },
        {
          "name": "stderr",
          "output_type": "stream",
          "text": [
            "\rGenerating for OUTPUT-b2w_dev_reviewText_LLAMA_bm25-none_k4:  14%|█▍        | 348/2500 [04:00<23:41,  1.51it/s]"
          ]
        },
        {
          "name": "stdout",
          "output_type": "stream",
          "text": [
            "Review text: \"I was really disappointed with this product. It felt too bulky and didn't meet my expectations at all. The design was not user-friendly, and I found it quite frustrating to use. Overall, I wouldn't recommend it.\"\n"
          ]
        },
        {
          "name": "stderr",
          "output_type": "stream",
          "text": [
            "\rGenerating for OUTPUT-b2w_dev_reviewText_LLAMA_bm25-none_k4:  14%|█▍        | 349/2500 [04:01<23:06,  1.55it/s]"
          ]
        },
        {
          "name": "stdout",
          "output_type": "stream",
          "text": [
            "Review text: Este produto superou minhas expectativas! A qualidade é excelente e o desempenho é impecável. Recomendo a todos que buscam algo confiável e eficiente. Vale cada centavo!\n"
          ]
        },
        {
          "name": "stderr",
          "output_type": "stream",
          "text": [
            "\rGenerating for OUTPUT-b2w_dev_reviewText_LLAMA_bm25-none_k4:  14%|█▍        | 350/2500 [04:02<25:31,  1.40it/s]"
          ]
        },
        {
          "name": "stdout",
          "output_type": "stream",
          "text": [
            "Review text: \"O Galaxy J1 Mini é um smartphone compacto e acessível, perfeito para quem busca funcionalidade sem complicações. Sua tela de 4.0 polegadas é ideal para uso diário, e a interface é bastante intuitiva. O desempenho é satisfatório para tarefas básicas, como redes sociais e mensagens. O atendimento ao cliente foi excepcional, sempre pronto para ajudar com qualquer dúvida. Recomendo para quem procura um bom custo-benefício!\"\n"
          ]
        },
        {
          "name": "stderr",
          "output_type": "stream",
          "text": [
            "\rGenerating for OUTPUT-b2w_dev_reviewText_LLAMA_bm25-none_k4:  14%|█▍        | 351/2500 [04:03<27:00,  1.33it/s]"
          ]
        },
        {
          "name": "stdout",
          "output_type": "stream",
          "text": [
            "Review text: A bateria do produto realmente deixou a desejar. Não dura o tempo que eu esperava e precisa ser carregada com frequência. Isso tem sido bastante frustrante, especialmente considerando o preço. Espero que a fabricante melhore isso nas próximas versões.\n"
          ]
        },
        {
          "name": "stderr",
          "output_type": "stream",
          "text": [
            "\rGenerating for OUTPUT-b2w_dev_reviewText_LLAMA_bm25-none_k4:  14%|█▍        | 352/2500 [04:06<56:47,  1.59s/it]"
          ]
        },
        {
          "name": "stdout",
          "output_type": "stream",
          "text": [
            "Review text: The Galaxy J1 is a solid entry-level smartphone that offers great value for its price. The compact design makes it easy to handle, and the display is bright enough for everyday use. While the camera isn't the best in low light, it captures decent photos during the day. The performance is satisfactory for basic tasks like browsing and social media. Battery life is impressive, lasting a full day with moderate use. Overall, it's a reliable choice for anyone looking for an affordable smartphone without too many frills.\n"
          ]
        },
        {
          "name": "stderr",
          "output_type": "stream",
          "text": [
            "\rGenerating for OUTPUT-b2w_dev_reviewText_LLAMA_bm25-none_k4:  14%|█▍        | 353/2500 [04:08<52:10,  1.46s/it]"
          ]
        },
        {
          "name": "stdout",
          "output_type": "stream",
          "text": [
            "Review text: A experiência de compra na Americanas foi muito positiva. O site é fácil de navegar e encontrei rapidamente o que procurava. O processo de pagamento foi simples e seguro, e a entrega foi rápida, chegando antes do prazo estimado. Os produtos vieram bem embalados e em perfeito estado. Recomendo a todos que buscam praticidade e eficiência nas compras online!\n"
          ]
        },
        {
          "name": "stderr",
          "output_type": "stream",
          "text": [
            "\rGenerating for OUTPUT-b2w_dev_reviewText_LLAMA_bm25-none_k4:  14%|█▍        | 354/2500 [04:08<44:05,  1.23s/it]"
          ]
        },
        {
          "name": "stdout",
          "output_type": "stream",
          "text": [
            "Review text: \"Estou extremamente satisfeito com a qualidade e desempenho deste produto. Atendeu todas as minhas expectativas e se destacou em vários aspectos. Recomendo a todos que buscam um item confiável e eficiente!\"\n"
          ]
        },
        {
          "name": "stderr",
          "output_type": "stream",
          "text": [
            "\rGenerating for OUTPUT-b2w_dev_reviewText_LLAMA_bm25-none_k4:  14%|█▍        | 355/2500 [04:09<41:48,  1.17s/it]"
          ]
        },
        {
          "name": "stdout",
          "output_type": "stream",
          "text": [
            "Review text: The Samsung J1 Mini is a compact and user-friendly smartphone that perfectly fits my needs. Its lightweight design makes it easy to carry around, and the display is surprisingly vibrant for its size. The battery life is commendable, lasting throughout the day with moderate use. While the camera quality is decent for casual photos, it may not satisfy those looking for professional-grade shots. Overall, it's a great budget-friendly option for anyone seeking a reliable device without breaking the bank.\n"
          ]
        },
        {
          "name": "stderr",
          "output_type": "stream",
          "text": [
            "\rGenerating for OUTPUT-b2w_dev_reviewText_LLAMA_bm25-none_k4:  14%|█▍        | 356/2500 [04:10<35:59,  1.01s/it]"
          ]
        },
        {
          "name": "stdout",
          "output_type": "stream",
          "text": [
            "Review text: \"I recently purchased this product and I must say, it has exceeded my expectations! The quality is top-notch, and it performs exactly as advertised. I particularly love the design and how user-friendly it is. Definitely worth the investment!\"\n"
          ]
        },
        {
          "name": "stderr",
          "output_type": "stream",
          "text": [
            "\rGenerating for OUTPUT-b2w_dev_reviewText_LLAMA_bm25-none_k4:  14%|█▍        | 357/2500 [04:11<32:34,  1.10it/s]"
          ]
        },
        {
          "name": "stdout",
          "output_type": "stream",
          "text": [
            "Review text: A entrega foi extremamente atrasada, o que causou muitos transtornos. Eu esperava receber meu pedido dentro do prazo estipulado, mas a demora foi inaceitável. Não recomendo, pois a eficiência na entrega é fundamental para uma boa experiência de compra.\n"
          ]
        },
        {
          "name": "stderr",
          "output_type": "stream",
          "text": [
            "\rGenerating for OUTPUT-b2w_dev_reviewText_LLAMA_bm25-none_k4:  14%|█▍        | 358/2500 [04:11<28:56,  1.23it/s]"
          ]
        },
        {
          "name": "stdout",
          "output_type": "stream",
          "text": [
            "Review text: This product exceeded my expectations in every way! The quality is outstanding, and it performs flawlessly. I couldn't be happier with my purchase. Highly recommend it to anyone looking for the best!\n"
          ]
        },
        {
          "name": "stderr",
          "output_type": "stream",
          "text": [
            "\rGenerating for OUTPUT-b2w_dev_reviewText_LLAMA_bm25-none_k4:  14%|█▍        | 359/2500 [04:12<25:59,  1.37it/s]"
          ]
        },
        {
          "name": "stdout",
          "output_type": "stream",
          "text": [
            "Review text: \"Este produto superou todas as minhas expectativas! A qualidade é excepcional e o desempenho é impecável. Recomendo a todos que buscam algo realmente eficaz e confiável. Sem dúvida, merece 5 estrelas!\"\n"
          ]
        },
        {
          "name": "stderr",
          "output_type": "stream",
          "text": [
            "\rGenerating for OUTPUT-b2w_dev_reviewText_LLAMA_bm25-none_k4:  14%|█▍        | 360/2500 [04:12<24:00,  1.49it/s]"
          ]
        },
        {
          "name": "stdout",
          "output_type": "stream",
          "text": [
            "Review text: Este produto realmente atendeu todas as minhas necessidades. A qualidade é excelente e a funcionalidade é perfeita para o que eu procurava. Estou muito satisfeito com a compra e definitivamente recomendo para quem busca algo eficiente e confiável.\n"
          ]
        },
        {
          "name": "stderr",
          "output_type": "stream",
          "text": [
            "\rGenerating for OUTPUT-b2w_dev_reviewText_LLAMA_bm25-none_k4:  14%|█▍        | 361/2500 [04:13<24:21,  1.46it/s]"
          ]
        },
        {
          "name": "stdout",
          "output_type": "stream",
          "text": [
            "Review text: \"Comprei o Odiei e, sinceramente, não atendeu minhas expectativas. A bateria dura pouco e a câmera não é tão boa quanto prometido. Além disso, o desempenho é um pouco lento para o que eu esperava. Não recomendo para quem busca um celular eficiente.\"\n"
          ]
        },
        {
          "name": "stderr",
          "output_type": "stream",
          "text": [
            "\rGenerating for OUTPUT-b2w_dev_reviewText_LLAMA_bm25-none_k4:  14%|█▍        | 362/2500 [04:14<23:16,  1.53it/s]"
          ]
        },
        {
          "name": "stdout",
          "output_type": "stream",
          "text": [
            "Review text: This product is incredibly practical! It fits seamlessly into my daily routine and has made tasks so much easier. The design is user-friendly, and I appreciate the thoughtful features that enhance its functionality. Highly recommend for anyone looking for something efficient and reliable!\n"
          ]
        },
        {
          "name": "stderr",
          "output_type": "stream",
          "text": [
            "\rGenerating for OUTPUT-b2w_dev_reviewText_LLAMA_bm25-none_k4:  15%|█▍        | 363/2500 [04:14<21:52,  1.63it/s]"
          ]
        },
        {
          "name": "stdout",
          "output_type": "stream",
          "text": [
            "Review text: Este produto realmente cumpriu todas as minhas expectativas. A qualidade é excelente e o desempenho é impressionante. Recomendo a todos que buscam algo confiável e eficaz!\n"
          ]
        },
        {
          "name": "stderr",
          "output_type": "stream",
          "text": [
            "\rGenerating for OUTPUT-b2w_dev_reviewText_LLAMA_bm25-none_k4:  15%|█▍        | 364/2500 [04:15<23:16,  1.53it/s]"
          ]
        },
        {
          "name": "stdout",
          "output_type": "stream",
          "text": [
            "Review text: Não tive a oportunidade de usar o produto o suficiente para dar uma avaliação justa. A embalagem é atraente, mas não posso comentar sobre a eficácia ou qualidade. Espero ter uma experiência melhor em uma próxima vez.\n"
          ]
        },
        {
          "name": "stderr",
          "output_type": "stream",
          "text": [
            "\rGenerating for OUTPUT-b2w_dev_reviewText_LLAMA_bm25-none_k4:  15%|█▍        | 365/2500 [04:15<22:55,  1.55it/s]"
          ]
        },
        {
          "name": "stdout",
          "output_type": "stream",
          "text": [
            "Review text: Este produto é realmente simples e prático de usar. A facilidade de manuseio e a eficiência nas funções tornam o dia a dia muito mais leve. Recomendo para quem busca algo funcional e sem complicações!\n"
          ]
        },
        {
          "name": "stderr",
          "output_type": "stream",
          "text": [
            "\rGenerating for OUTPUT-b2w_dev_reviewText_LLAMA_bm25-none_k4:  15%|█▍        | 366/2500 [04:16<26:57,  1.32it/s]"
          ]
        },
        {
          "name": "stdout",
          "output_type": "stream",
          "text": [
            "Review text: Questo prodotto è perfetto per l'uso domestico! La sua facilità d'uso e l'efficienza lo rendono un'aggiunta indispensabile alla mia routine quotidiana. Ho notato un miglioramento significativo nella qualità del mio lavoro domestico. Consigliato a chi cerca praticità e risultati!\n"
          ]
        },
        {
          "name": "stderr",
          "output_type": "stream",
          "text": [
            "\rGenerating for OUTPUT-b2w_dev_reviewText_LLAMA_bm25-none_k4:  15%|█▍        | 367/2500 [04:17<23:43,  1.50it/s]"
          ]
        },
        {
          "name": "stdout",
          "output_type": "stream",
          "text": [
            "Review text: Este produto superou minhas expectativas! A qualidade é excelente e atendeu todas as minhas necessidades. Com certeza, recomendo para quem busca algo confiável e eficiente. Vale a pena o investimento!\n"
          ]
        },
        {
          "name": "stderr",
          "output_type": "stream",
          "text": [
            "\rGenerating for OUTPUT-b2w_dev_reviewText_LLAMA_bm25-none_k4:  15%|█▍        | 368/2500 [04:17<22:34,  1.57it/s]"
          ]
        },
        {
          "name": "stdout",
          "output_type": "stream",
          "text": [
            "Review text: \"Comprei este produto recentemente e estou muito satisfeito! A qualidade é excelente e atendeu todas as minhas expectativas. Recomendo para quem procura algo confiável e eficiente. Sem dúvida, vale a pena o investimento!\"\n"
          ]
        },
        {
          "name": "stderr",
          "output_type": "stream",
          "text": [
            "\rGenerating for OUTPUT-b2w_dev_reviewText_LLAMA_bm25-none_k4:  15%|█▍        | 369/2500 [04:18<21:55,  1.62it/s]"
          ]
        },
        {
          "name": "stdout",
          "output_type": "stream",
          "text": [
            "Review text: Este produto superou minhas expectativas! A qualidade é excelente e o desempenho é notável. Recomendo a todos que buscam algo eficaz e confiável. Vale cada centavo!\n"
          ]
        },
        {
          "name": "stderr",
          "output_type": "stream",
          "text": [
            "\rGenerating for OUTPUT-b2w_dev_reviewText_LLAMA_bm25-none_k4:  15%|█▍        | 370/2500 [04:19<24:56,  1.42it/s]"
          ]
        },
        {
          "name": "stdout",
          "output_type": "stream",
          "text": [
            "Review text: \"I recently tried the Bonito and I must say, it exceeded my expectations! The flavor was rich and savory, making every bite a delight. The texture was perfectly tender, and it paired wonderfully with my favorite sides. I highly recommend it for anyone looking to elevate their meal experience. Definitely a repeat purchase for me!\"\n"
          ]
        },
        {
          "name": "stderr",
          "output_type": "stream",
          "text": [
            "\rGenerating for OUTPUT-b2w_dev_reviewText_LLAMA_bm25-none_k4:  15%|█▍        | 371/2500 [04:20<24:36,  1.44it/s]"
          ]
        },
        {
          "name": "stdout",
          "output_type": "stream",
          "text": [
            "Review text: Este produto superou minhas expectativas em termos de qualidade. Os materiais são duráveis e a construção é sólida. Além disso, o desempenho é excelente, tornando-o uma ótima compra. Recomendo a todos que buscam um produto confiável e de alta qualidade.\n"
          ]
        },
        {
          "name": "stderr",
          "output_type": "stream",
          "text": [
            "\rGenerating for OUTPUT-b2w_dev_reviewText_LLAMA_bm25-none_k4:  15%|█▍        | 372/2500 [04:20<23:22,  1.52it/s]"
          ]
        },
        {
          "name": "stdout",
          "output_type": "stream",
          "text": [
            "Review text: Este produto superou minhas expectativas! A qualidade é excelente e o desempenho é impressionante. Recomendo a todos que buscam algo confiável e eficiente. Vale cada centavo!\n"
          ]
        },
        {
          "name": "stderr",
          "output_type": "stream",
          "text": [
            "\rGenerating for OUTPUT-b2w_dev_reviewText_LLAMA_bm25-none_k4:  15%|█▍        | 373/2500 [04:22<33:38,  1.05it/s]"
          ]
        },
        {
          "name": "stdout",
          "output_type": "stream",
          "text": [
            "Review text: Este produto superou minhas expectativas! A qualidade é excelente e ele cumpre perfeitamente o que promete. Estou muito satisfeito com a compra e recomendo a todos que estão em dúvida. Vale cada centavo!\n"
          ]
        },
        {
          "name": "stderr",
          "output_type": "stream",
          "text": [
            "\rGenerating for OUTPUT-b2w_dev_reviewText_LLAMA_bm25-none_k4:  15%|█▍        | 374/2500 [04:22<28:41,  1.23it/s]"
          ]
        },
        {
          "name": "stdout",
          "output_type": "stream",
          "text": [
            "Review text: Este produto realmente atendeu todas as minhas expectativas! A qualidade é excelente e o desempenho é incrível. Estou muito satisfeito com a compra e recomendo a todos que estão em dúvida. Vale cada centavo!\n"
          ]
        },
        {
          "name": "stderr",
          "output_type": "stream",
          "text": [
            "\rGenerating for OUTPUT-b2w_dev_reviewText_LLAMA_bm25-none_k4:  15%|█▌        | 375/2500 [04:23<26:04,  1.36it/s]"
          ]
        },
        {
          "name": "stdout",
          "output_type": "stream",
          "text": [
            "Review text: Infelizmente, não recebi o produto que comprei. Estou bastante decepcionado com a situação, pois esperava recebê-lo no prazo informado. Tentei entrar em contato com o suporte, mas ainda não obtive resposta. Espero que a situação seja resolvida em breve.\n"
          ]
        },
        {
          "name": "stderr",
          "output_type": "stream",
          "text": [
            "\rGenerating for OUTPUT-b2w_dev_reviewText_LLAMA_bm25-none_k4:  15%|█▌        | 376/2500 [04:24<25:35,  1.38it/s]"
          ]
        },
        {
          "name": "stdout",
          "output_type": "stream",
          "text": [
            "Review text: \"Este produto superou todas as minhas expectativas! A qualidade é excepcional e o desempenho é impecável. Cada detalhe foi pensado com muito cuidado, tornando a experiência de uso simplesmente maravilhosa. Recomendo a todos que buscam algo realmente especial!\"\n"
          ]
        },
        {
          "name": "stderr",
          "output_type": "stream",
          "text": [
            "\rGenerating for OUTPUT-b2w_dev_reviewText_LLAMA_bm25-none_k4:  15%|█▌        | 377/2500 [04:24<24:28,  1.45it/s]"
          ]
        },
        {
          "name": "stdout",
          "output_type": "stream",
          "text": [
            "Review text: \"Recebi o produto com um defeito que compromete seu funcionamento. Fiquei muito desapontado, pois esperava mais qualidade. O atendimento ao cliente também não foi satisfatório. Não recomendo.\"\n"
          ]
        },
        {
          "name": "stderr",
          "output_type": "stream",
          "text": [
            "\rGenerating for OUTPUT-b2w_dev_reviewText_LLAMA_bm25-none_k4:  15%|█▌        | 378/2500 [04:25<23:40,  1.49it/s]"
          ]
        },
        {
          "name": "stdout",
          "output_type": "stream",
          "text": [
            "Review text: Este produto superou minhas expectativas! A qualidade é excelente e a performance é incrível. Estou muito satisfeito com a compra e recomendo a todos que estão em dúvida. Vale cada centavo!\n"
          ]
        },
        {
          "name": "stderr",
          "output_type": "stream",
          "text": [
            "\rGenerating for OUTPUT-b2w_dev_reviewText_LLAMA_bm25-none_k4:  15%|█▌        | 379/2500 [04:25<23:54,  1.48it/s]"
          ]
        },
        {
          "name": "stdout",
          "output_type": "stream",
          "text": [
            "Review text: Infelizmente, o produto não atendeu às minhas expectativas. Desde o início, ele apresentou problemas e simplesmente não funcionou como deveria. Tentei várias vezes, mas não consegui fazer com que funcionasse corretamente. Uma grande decepção.\n"
          ]
        },
        {
          "name": "stderr",
          "output_type": "stream",
          "text": [
            "\rGenerating for OUTPUT-b2w_dev_reviewText_LLAMA_bm25-none_k4:  15%|█▌        | 380/2500 [04:27<32:26,  1.09it/s]"
          ]
        },
        {
          "name": "stdout",
          "output_type": "stream",
          "text": [
            "Review text: \"Estou muito satisfeito com a qualidade e o desempenho deste produto. Atendeu todas as minhas expectativas e superou algumas delas. Recomendo a todos que buscam algo eficiente e confiável!\"\n"
          ]
        },
        {
          "name": "stderr",
          "output_type": "stream",
          "text": [
            "\rGenerating for OUTPUT-b2w_dev_reviewText_LLAMA_bm25-none_k4:  15%|█▌        | 381/2500 [04:28<28:46,  1.23it/s]"
          ]
        },
        {
          "name": "stdout",
          "output_type": "stream",
          "text": [
            "Review text: Este produto superou minhas expectativas! A qualidade é excelente e o desempenho é impressionante. Recomendo a todos que buscam algo confiável e eficaz. Vale cada centavo!\n"
          ]
        },
        {
          "name": "stderr",
          "output_type": "stream",
          "text": [
            "\rGenerating for OUTPUT-b2w_dev_reviewText_LLAMA_bm25-none_k4:  15%|█▌        | 382/2500 [04:28<25:22,  1.39it/s]"
          ]
        },
        {
          "name": "stdout",
          "output_type": "stream",
          "text": [
            "Review text: \"Adorei o produto! Atendeu todas as minhas expectativas e a qualidade é excelente. Recomendo a todos!\"\n"
          ]
        },
        {
          "name": "stderr",
          "output_type": "stream",
          "text": [
            "\rGenerating for OUTPUT-b2w_dev_reviewText_LLAMA_bm25-none_k4:  15%|█▌        | 383/2500 [04:29<25:18,  1.39it/s]"
          ]
        },
        {
          "name": "stdout",
          "output_type": "stream",
          "text": [
            "Review text: Este produto superou minhas expectativas! A qualidade é realmente excelente, e sinto que valeu cada centavo. Os materiais utilizados são duráveis e o acabamento é impecável. Recomendo a todos que buscam um produto confiável e de alta qualidade. Com certeza, voltarei a comprar!\n"
          ]
        },
        {
          "name": "stderr",
          "output_type": "stream",
          "text": [
            "\rGenerating for OUTPUT-b2w_dev_reviewText_LLAMA_bm25-none_k4:  15%|█▌        | 384/2500 [04:29<22:24,  1.57it/s]"
          ]
        },
        {
          "name": "stdout",
          "output_type": "stream",
          "text": [
            "Review text: Este produto superou minhas expectativas! A qualidade é excepcional e o desempenho é impecável. Recomendo a todos que buscam um item confiável e eficiente. Vale cada centavo!\n"
          ]
        },
        {
          "name": "stderr",
          "output_type": "stream",
          "text": [
            "\rGenerating for OUTPUT-b2w_dev_reviewText_LLAMA_bm25-none_k4:  15%|█▌        | 385/2500 [04:30<21:57,  1.60it/s]"
          ]
        },
        {
          "name": "stdout",
          "output_type": "stream",
          "text": [
            "Review text: Este produto superou todas as minhas expectativas! A qualidade é excepcional e a performance é impecável. Recomendo a todos que buscam um item confiável e eficiente. Vale cada centavo!\n"
          ]
        },
        {
          "name": "stderr",
          "output_type": "stream",
          "text": [
            "\rGenerating for OUTPUT-b2w_dev_reviewText_LLAMA_bm25-none_k4:  15%|█▌        | 386/2500 [04:31<23:42,  1.49it/s]"
          ]
        },
        {
          "name": "stdout",
          "output_type": "stream",
          "text": [
            "Review text: \"Absolutely love this product! It exceeded my expectations in every way. The quality is top-notch, and it's incredibly easy to use. I highly recommend it to anyone looking for something reliable and effective. A definite must-have!\"\n"
          ]
        },
        {
          "name": "stderr",
          "output_type": "stream",
          "text": [
            "\rGenerating for OUTPUT-b2w_dev_reviewText_LLAMA_bm25-none_k4:  15%|█▌        | 387/2500 [04:31<22:40,  1.55it/s]"
          ]
        },
        {
          "name": "stdout",
          "output_type": "stream",
          "text": [
            "Review text: \"Recebi meu pedido rapidamente e tudo chegou em perfeito estado. A qualidade do produto superou minhas expectativas e o atendimento foi excepcional. Estou muito satisfeita e com certeza voltarei a comprar. Obrigada!\"\n"
          ]
        },
        {
          "name": "stderr",
          "output_type": "stream",
          "text": [
            "\rGenerating for OUTPUT-b2w_dev_reviewText_LLAMA_bm25-none_k4:  16%|█▌        | 388/2500 [04:32<22:00,  1.60it/s]"
          ]
        },
        {
          "name": "stdout",
          "output_type": "stream",
          "text": [
            "Review text: \"Absolutely love this product! It exceeded my expectations in every way. The quality is top-notch, and it performs flawlessly. I would highly recommend it to anyone looking for something reliable and effective. A definite must-have!\"\n"
          ]
        },
        {
          "name": "stderr",
          "output_type": "stream",
          "text": [
            "\rGenerating for OUTPUT-b2w_dev_reviewText_LLAMA_bm25-none_k4:  16%|█▌        | 389/2500 [04:32<21:58,  1.60it/s]"
          ]
        },
        {
          "name": "stdout",
          "output_type": "stream",
          "text": [
            "Review text: \"Estou muito satisfeito com a qualidade e a eficiência deste produto. Ele atendeu todas as minhas expectativas e superou algumas delas. A entrega foi rápida e o atendimento ao cliente foi excelente. Recomendo a todos que buscam um produto confiável e de bom desempenho!\"\n"
          ]
        },
        {
          "name": "stderr",
          "output_type": "stream",
          "text": [
            "\rGenerating for OUTPUT-b2w_dev_reviewText_LLAMA_bm25-none_k4:  16%|█▌        | 390/2500 [04:33<21:10,  1.66it/s]"
          ]
        },
        {
          "name": "stdout",
          "output_type": "stream",
          "text": [
            "Review text: Este produto superou todas as minhas expectativas! A qualidade é excepcional e ele funciona perfeitamente. Recomendo para quem busca eficiência e durabilidade. Estou completamente satisfeito!\n"
          ]
        },
        {
          "name": "stderr",
          "output_type": "stream",
          "text": [
            "\rGenerating for OUTPUT-b2w_dev_reviewText_LLAMA_bm25-none_k4:  16%|█▌        | 391/2500 [04:34<24:11,  1.45it/s]"
          ]
        },
        {
          "name": "stdout",
          "output_type": "stream",
          "text": [
            "Review text: Estou muito satisfeito com a minha compra! A negociação foi rápida e sem complicações. O vendedor foi atencioso e respondeu a todas as minhas perguntas. O produto chegou em perfeito estado e dentro do prazo. Recomendo a todos que buscam uma experiência de compra tranquila e eficiente!\n"
          ]
        },
        {
          "name": "stderr",
          "output_type": "stream",
          "text": [
            "\rGenerating for OUTPUT-b2w_dev_reviewText_LLAMA_bm25-none_k4:  16%|█▌        | 392/2500 [04:34<22:26,  1.57it/s]"
          ]
        },
        {
          "name": "stdout",
          "output_type": "stream",
          "text": [
            "Review text: \"Adorei este produto! A qualidade é excelente e superou minhas expectativas. Recomendo a todos que estão em busca de algo prático e eficiente. Vale cada centavo!\"\n"
          ]
        },
        {
          "name": "stderr",
          "output_type": "stream",
          "text": [
            "\rGenerating for OUTPUT-b2w_dev_reviewText_LLAMA_bm25-none_k4:  16%|█▌        | 393/2500 [04:35<21:42,  1.62it/s]"
          ]
        },
        {
          "name": "stdout",
          "output_type": "stream",
          "text": [
            "Review text: \"Adorei este produto! Atendeu todas as minhas expectativas e a qualidade é excelente. Sem dúvida, recomendo para quem busca algo confiável e eficiente. Vale a pena experimentar!\"\n"
          ]
        },
        {
          "name": "stderr",
          "output_type": "stream",
          "text": [
            "\rGenerating for OUTPUT-b2w_dev_reviewText_LLAMA_bm25-none_k4:  16%|█▌        | 394/2500 [04:36<23:48,  1.47it/s]"
          ]
        },
        {
          "name": "stdout",
          "output_type": "stream",
          "text": [
            "Review text: \"Comprei este HD recentemente e estou muito satisfeito com o desempenho. A transferência de arquivos é rápida e a capacidade de armazenamento é excelente. Além disso, o design é elegante e compacto, facilitando o transporte. Recomendo para quem precisa de um bom espaço para guardar seus dados!\"\n"
          ]
        },
        {
          "name": "stderr",
          "output_type": "stream",
          "text": [
            "\rGenerating for OUTPUT-b2w_dev_reviewText_LLAMA_bm25-none_k4:  16%|█▌        | 395/2500 [04:36<21:42,  1.62it/s]"
          ]
        },
        {
          "name": "stdout",
          "output_type": "stream",
          "text": [
            "Review text: Este produto superou todas as minhas expectativas! A qualidade é excepcional e ele funciona perfeitamente. Estou muito satisfeito com a compra e recomendo a todos que buscam algo confiável e eficiente. Vale cada centavo!\n"
          ]
        },
        {
          "name": "stderr",
          "output_type": "stream",
          "text": [
            "\rGenerating for OUTPUT-b2w_dev_reviewText_LLAMA_bm25-none_k4:  16%|█▌        | 396/2500 [04:37<20:15,  1.73it/s]"
          ]
        },
        {
          "name": "stdout",
          "output_type": "stream",
          "text": [
            "Review text: \"Este produto superou minhas expectativas! A qualidade é excelente e ele funciona perfeitamente. Recomendo a todos que buscam um bom investimento.\"\n"
          ]
        },
        {
          "name": "stderr",
          "output_type": "stream",
          "text": [
            "\rGenerating for OUTPUT-b2w_dev_reviewText_LLAMA_bm25-none_k4:  16%|█▌        | 397/2500 [04:37<22:14,  1.58it/s]"
          ]
        },
        {
          "name": "stdout",
          "output_type": "stream",
          "text": [
            "Review text: I recently purchased the HD externo and it has exceeded my expectations. The transfer speeds are impressive, allowing me to back up my files quickly and efficiently. The design is sleek and portable, making it easy to carry around. I appreciate the ample storage capacity, which accommodates all my data without any issues. Overall, a fantastic investment for anyone in need of reliable external storage!\n"
          ]
        },
        {
          "name": "stderr",
          "output_type": "stream",
          "text": [
            "\rGenerating for OUTPUT-b2w_dev_reviewText_LLAMA_bm25-none_k4:  16%|█▌        | 398/2500 [04:38<22:32,  1.55it/s]"
          ]
        },
        {
          "name": "stdout",
          "output_type": "stream",
          "text": [
            "Review text: \"Este HD externo es increíble. La velocidad de transferencia es rápida y su capacidad es perfecta para almacenar todos mis archivos. Además, su diseño es compacto y fácil de llevar. Definitivamente lo recomendaría a cualquiera que necesite un almacenamiento adicional.\"\n"
          ]
        },
        {
          "name": "stderr",
          "output_type": "stream",
          "text": [
            "\rGenerating for OUTPUT-b2w_dev_reviewText_LLAMA_bm25-none_k4:  16%|█▌        | 399/2500 [04:39<20:24,  1.72it/s]"
          ]
        },
        {
          "name": "stdout",
          "output_type": "stream",
          "text": [
            "Review text: \"Estou muito satisfeito com este produto! A qualidade é excelente e superou minhas expectativas. Recomendo a todos que estão em busca de algo confiável e eficaz. Vale cada centavo!\"\n"
          ]
        },
        {
          "name": "stderr",
          "output_type": "stream",
          "text": [
            "\rGenerating for OUTPUT-b2w_dev_reviewText_LLAMA_bm25-none_k4:  16%|█▌        | 400/2500 [04:39<19:43,  1.77it/s]"
          ]
        },
        {
          "name": "stdout",
          "output_type": "stream",
          "text": [
            "Review text: Este produto superou minhas expectativas! A qualidade é excelente e o desempenho é notável. Recomendo a todos que buscam um item confiável e eficiente. Ótima compra!\n"
          ]
        },
        {
          "name": "stderr",
          "output_type": "stream",
          "text": [
            "\rGenerating for OUTPUT-b2w_dev_reviewText_LLAMA_bm25-none_k4:  16%|█▌        | 401/2500 [04:40<19:27,  1.80it/s]"
          ]
        },
        {
          "name": "stdout",
          "output_type": "stream",
          "text": [
            "Review text: Este produto superou todas as minhas expectativas! A qualidade é excelente e o desempenho é impressionante. Recomendo a todos que buscam algo confiável e eficiente. Vale cada centavo!\n"
          ]
        },
        {
          "name": "stderr",
          "output_type": "stream",
          "text": [
            "\rGenerating for OUTPUT-b2w_dev_reviewText_LLAMA_bm25-none_k4:  16%|█▌        | 402/2500 [04:40<20:04,  1.74it/s]"
          ]
        },
        {
          "name": "stdout",
          "output_type": "stream",
          "text": [
            "Review text: Este produto superou todas as minhas expectativas! A qualidade é excelente e o desempenho é impecável. Vale cada centavo. Recomendo a todos que buscam um produto confiável e eficaz. Estou muito satisfeito com a minha compra!\n"
          ]
        },
        {
          "name": "stderr",
          "output_type": "stream",
          "text": [
            "\rGenerating for OUTPUT-b2w_dev_reviewText_LLAMA_bm25-none_k4:  16%|█▌        | 403/2500 [04:42<36:08,  1.03s/it]"
          ]
        },
        {
          "name": "stdout",
          "output_type": "stream",
          "text": [
            "Review text: Este produto superou minhas expectativas! A qualidade é excepcional e a performance é incrível. Recomendo a todos que buscam um item confiável e eficiente. Vale cada centavo!\n"
          ]
        },
        {
          "name": "stderr",
          "output_type": "stream",
          "text": [
            "\rGenerating for OUTPUT-b2w_dev_reviewText_LLAMA_bm25-none_k4:  16%|█▌        | 404/2500 [04:43<33:54,  1.03it/s]"
          ]
        },
        {
          "name": "stdout",
          "output_type": "stream",
          "text": [
            "Review text: \"O HD externo que adquiri superou minhas expectativas! A velocidade de transferência de dados é impressionante, e o design é bastante elegante e portátil. A capacidade de armazenamento atende perfeitamente às minhas necessidades, permitindo que eu guarde todos os meus arquivos sem preocupações. Além disso, a instalação foi simples e rápida. Recomendo fortemente para quem busca um dispositivo confiável e eficiente!\"\n"
          ]
        },
        {
          "name": "stderr",
          "output_type": "stream",
          "text": [
            "\rGenerating for OUTPUT-b2w_dev_reviewText_LLAMA_bm25-none_k4:  16%|█▌        | 405/2500 [04:44<29:51,  1.17it/s]"
          ]
        },
        {
          "name": "stdout",
          "output_type": "stream",
          "text": [
            "Review text: \"Comprei este produto e não poderia estar mais satisfeito! A qualidade é excepcional e atendeu todas as minhas expectativas. Vale cada centavo investido. Recomendo a todos que buscam um bom custo-benefício!\"\n"
          ]
        },
        {
          "name": "stderr",
          "output_type": "stream",
          "text": [
            "\rGenerating for OUTPUT-b2w_dev_reviewText_LLAMA_bm25-none_k4:  16%|█▌        | 406/2500 [04:44<26:50,  1.30it/s]"
          ]
        },
        {
          "name": "stdout",
          "output_type": "stream",
          "text": [
            "Review text: This product is incredibly functional and meets all my needs perfectly. It’s easy to use and has streamlined my daily tasks significantly. I appreciate the thoughtful design and practicality. Highly recommend it for anyone looking for reliable performance!\n"
          ]
        },
        {
          "name": "stderr",
          "output_type": "stream",
          "text": [
            "\rGenerating for OUTPUT-b2w_dev_reviewText_LLAMA_bm25-none_k4:  16%|█▋        | 407/2500 [04:45<24:41,  1.41it/s]"
          ]
        },
        {
          "name": "stdout",
          "output_type": "stream",
          "text": [
            "Review text: Até o momento, nossa experiência com o produto tem sido extremamente positiva. Não enfrentamos nenhum contratempo e tudo tem funcionado conforme o esperado. A qualidade é excelente e estamos satisfeitos com a compra. Recomendo!\n"
          ]
        },
        {
          "name": "stderr",
          "output_type": "stream",
          "text": [
            "\rGenerating for OUTPUT-b2w_dev_reviewText_LLAMA_bm25-none_k4:  16%|█▋        | 408/2500 [04:45<21:53,  1.59it/s]"
          ]
        },
        {
          "name": "stdout",
          "output_type": "stream",
          "text": [
            "Review text: Estou extremamente satisfeito com este produto! A qualidade é excepcional e superou minhas expectativas. Além disso, a entrega foi super rápida, o que é sempre um ponto positivo. Parabéns a todos os envolvidos! Recomendo a todos!\n"
          ]
        },
        {
          "name": "stderr",
          "output_type": "stream",
          "text": [
            "\rGenerating for OUTPUT-b2w_dev_reviewText_LLAMA_bm25-none_k4:  16%|█▋        | 409/2500 [04:46<20:56,  1.66it/s]"
          ]
        },
        {
          "name": "stdout",
          "output_type": "stream",
          "text": [
            "Review text: Adorei o produto! Atendeu todas as minhas expectativas e a qualidade é excelente. Com certeza recomendo para quem busca algo confiável e eficaz.\n"
          ]
        },
        {
          "name": "stderr",
          "output_type": "stream",
          "text": [
            "\rGenerating for OUTPUT-b2w_dev_reviewText_LLAMA_bm25-none_k4:  16%|█▋        | 410/2500 [04:47<22:15,  1.56it/s]"
          ]
        },
        {
          "name": "stdout",
          "output_type": "stream",
          "text": [
            "Review text: \"Este produto superou minhas expectativas! A qualidade é excelente e o preço é imbatível. Com certeza, é o melhor custo-benefício que já encontrei. Recomendo para quem busca eficiência sem gastar muito!\"\n"
          ]
        },
        {
          "name": "stderr",
          "output_type": "stream",
          "text": [
            "\rGenerating for OUTPUT-b2w_dev_reviewText_LLAMA_bm25-none_k4:  16%|█▋        | 411/2500 [04:47<23:45,  1.47it/s]"
          ]
        },
        {
          "name": "stdout",
          "output_type": "stream",
          "text": [
            "Review text: \"Este HD externo portátil superó mis expectativas. Su diseño compacto lo hace fácil de transportar, y la velocidad de transferencia es impresionante. He podido almacenar una gran cantidad de archivos sin problemas, y la instalación fue rápida y sencilla. Definitivamente lo recomendaría a cualquiera que necesite una solución de almacenamiento confiable y eficiente.\"\n"
          ]
        },
        {
          "name": "stderr",
          "output_type": "stream",
          "text": [
            "\rGenerating for OUTPUT-b2w_dev_reviewText_LLAMA_bm25-none_k4:  16%|█▋        | 412/2500 [04:48<23:26,  1.48it/s]"
          ]
        },
        {
          "name": "stdout",
          "output_type": "stream",
          "text": [
            "Review text: Estou muito satisfeito com o produto! A qualidade é excelente e atendeu todas as minhas expectativas. Recomendo a todos que estão em busca de algo confiável e eficiente. Com certeza, voltarei a comprar!\n"
          ]
        },
        {
          "name": "stderr",
          "output_type": "stream",
          "text": [
            "\rGenerating for OUTPUT-b2w_dev_reviewText_LLAMA_bm25-none_k4:  17%|█▋        | 413/2500 [04:49<22:27,  1.55it/s]"
          ]
        },
        {
          "name": "stdout",
          "output_type": "stream",
          "text": [
            "Review text: Este produto realmente cumpre o que promete. A qualidade é excelente e atendeu todas as minhas expectativas. Recomendo para quem busca eficiência e confiabilidade.\n"
          ]
        },
        {
          "name": "stderr",
          "output_type": "stream",
          "text": [
            "\rGenerating for OUTPUT-b2w_dev_reviewText_LLAMA_bm25-none_k4:  17%|█▋        | 414/2500 [04:49<23:29,  1.48it/s]"
          ]
        },
        {
          "name": "stdout",
          "output_type": "stream",
          "text": [
            "Review text: \"This product is absolutely amazing! It exceeded my expectations in every way. The quality is top-notch, and it works flawlessly. I highly recommend it to anyone looking for something reliable and effective. Definitely a great purchase!\"\n"
          ]
        },
        {
          "name": "stderr",
          "output_type": "stream",
          "text": [
            "\rGenerating for OUTPUT-b2w_dev_reviewText_LLAMA_bm25-none_k4:  17%|█▋        | 415/2500 [04:50<22:20,  1.55it/s]"
          ]
        },
        {
          "name": "stdout",
          "output_type": "stream",
          "text": [
            "Review text: \"Este producto superó mis expectativas. La calidad es excepcional y funciona a la perfección. Definitivamente lo recomendaría a otros. ¡Muy satisfecho con mi compra!\"\n"
          ]
        },
        {
          "name": "stderr",
          "output_type": "stream",
          "text": [
            "\rGenerating for OUTPUT-b2w_dev_reviewText_LLAMA_bm25-none_k4:  17%|█▋        | 416/2500 [04:50<21:47,  1.59it/s]"
          ]
        },
        {
          "name": "stdout",
          "output_type": "stream",
          "text": [
            "Review text: Este produto superou minhas expectativas! A qualidade é excelente e o desempenho é notável. Recomendo a todos que buscam algo confiável e eficaz. Vale cada centavo!\n"
          ]
        },
        {
          "name": "stderr",
          "output_type": "stream",
          "text": [
            "\rGenerating for OUTPUT-b2w_dev_reviewText_LLAMA_bm25-none_k4:  17%|█▋        | 417/2500 [04:51<20:31,  1.69it/s]"
          ]
        },
        {
          "name": "stdout",
          "output_type": "stream",
          "text": [
            "Review text: \"Este produto superou minhas expectativas. A qualidade é excelente e o desempenho é notável. Recomendo a todos que buscam algo confiável e eficaz. Vale cada centavo!\"\n"
          ]
        },
        {
          "name": "stderr",
          "output_type": "stream",
          "text": [
            "\rGenerating for OUTPUT-b2w_dev_reviewText_LLAMA_bm25-none_k4:  17%|█▋        | 418/2500 [04:52<19:50,  1.75it/s]"
          ]
        },
        {
          "name": "stdout",
          "output_type": "stream",
          "text": [
            "Review text: \"La calidad de imagen es impresionante, los colores son vibrantes y los detalles son nítidos. Definitivamente vale la pena la inversión. Estoy muy satisfecho con mi compra.\"\n"
          ]
        },
        {
          "name": "stderr",
          "output_type": "stream",
          "text": [
            "\rGenerating for OUTPUT-b2w_dev_reviewText_LLAMA_bm25-none_k4:  17%|█▋        | 419/2500 [04:52<19:56,  1.74it/s]"
          ]
        },
        {
          "name": "stdout",
          "output_type": "stream",
          "text": [
            "Review text: \"Comprei este produto com algumas expectativas e posso dizer que ele realmente atendeu a todas elas. A qualidade é excelente, e a funcionalidade é exatamente como descrita. Estou muito satisfeito com a compra e recomendo a todos que buscam algo similar.\"\n"
          ]
        },
        {
          "name": "stderr",
          "output_type": "stream",
          "text": [
            "\rGenerating for OUTPUT-b2w_dev_reviewText_LLAMA_bm25-none_k4:  17%|█▋        | 420/2500 [04:53<20:22,  1.70it/s]"
          ]
        },
        {
          "name": "stdout",
          "output_type": "stream",
          "text": [
            "Review text: Estou extremamente decepcionado! Fiz meu pedido há semanas e até agora não recebi o produto. O acompanhamento da entrega não fornece informações úteis e não consegui contato com o suporte. Sinto que meu dinheiro foi jogado fora. Não recomendo!\n"
          ]
        },
        {
          "name": "stderr",
          "output_type": "stream",
          "text": [
            "\rGenerating for OUTPUT-b2w_dev_reviewText_LLAMA_bm25-none_k4:  17%|█▋        | 421/2500 [04:53<20:16,  1.71it/s]"
          ]
        },
        {
          "name": "stdout",
          "output_type": "stream",
          "text": [
            "Review text: Este produto superou minhas expectativas! A qualidade é excelente e o desempenho é impecável. Recomendo a todos que buscam algo confiável e eficaz. Vale cada centavo!\n"
          ]
        },
        {
          "name": "stderr",
          "output_type": "stream",
          "text": [
            "\rGenerating for OUTPUT-b2w_dev_reviewText_LLAMA_bm25-none_k4:  17%|█▋        | 422/2500 [04:54<21:15,  1.63it/s]"
          ]
        },
        {
          "name": "stdout",
          "output_type": "stream",
          "text": [
            "Review text: Estou bastante decepcionado, pois ainda não recebi o produto que comprei. O prazo de entrega já passou e não recebi nenhuma atualização sobre o status do meu pedido. Espero que a situação seja resolvida rapidamente.\n"
          ]
        },
        {
          "name": "stderr",
          "output_type": "stream",
          "text": [
            "\rGenerating for OUTPUT-b2w_dev_reviewText_LLAMA_bm25-none_k4:  17%|█▋        | 423/2500 [04:55<23:34,  1.47it/s]"
          ]
        },
        {
          "name": "stdout",
          "output_type": "stream",
          "text": [
            "Review text: \"O produto é realmente bom em termos de desempenho e funcionalidade, mas infelizmente é bastante frágil. Precisei ter muito cuidado ao manuseá-lo para evitar danos. Se você procura algo resistente, talvez seja melhor considerar outras opções.\"\n"
          ]
        },
        {
          "name": "stderr",
          "output_type": "stream",
          "text": [
            "\rGenerating for OUTPUT-b2w_dev_reviewText_LLAMA_bm25-none_k4:  17%|█▋        | 424/2500 [04:55<21:50,  1.58it/s]"
          ]
        },
        {
          "name": "stdout",
          "output_type": "stream",
          "text": [
            "Review text: \"Produto excelente! Atendeu todas as minhas expectativas e a qualidade é incrível. Recomendo a todos que buscam algo confiável e eficaz. Vale cada centavo!\"\n"
          ]
        },
        {
          "name": "stderr",
          "output_type": "stream",
          "text": [
            "\rGenerating for OUTPUT-b2w_dev_reviewText_LLAMA_bm25-none_k4:  17%|█▋        | 425/2500 [04:56<21:37,  1.60it/s]"
          ]
        },
        {
          "name": "stdout",
          "output_type": "stream",
          "text": [
            "Review text: Infelizmente, minha experiência com este produto foi muito frustrante. Fiz o pedido há semanas e, até agora, não recebi nada. Tentei entrar em contato com o suporte, mas não obtive resposta. Estou muito decepcionado e não recomendo.\n"
          ]
        },
        {
          "name": "stderr",
          "output_type": "stream",
          "text": [
            "\rGenerating for OUTPUT-b2w_dev_reviewText_LLAMA_bm25-none_k4:  17%|█▋        | 426/2500 [04:56<20:55,  1.65it/s]"
          ]
        },
        {
          "name": "stdout",
          "output_type": "stream",
          "text": [
            "Review text: Este produto superou minhas expectativas! A qualidade é excelente e o desempenho é notável. Recomendo a todos que buscam algo confiável e eficiente. Vale cada centavo!\n"
          ]
        },
        {
          "name": "stderr",
          "output_type": "stream",
          "text": [
            "\rGenerating for OUTPUT-b2w_dev_reviewText_LLAMA_bm25-none_k4:  17%|█▋        | 427/2500 [04:57<22:39,  1.52it/s]"
          ]
        },
        {
          "name": "stdout",
          "output_type": "stream",
          "text": [
            "Review text: \"Infelizmente, minha experiência com a Americanas foi muito frustrante. Fiz um pedido e, apesar de esperar ansiosamente pela entrega, o produto nunca chegou. O que é ainda mais irritante é que eles pediram uma avaliação antes mesmo de eu receber o item. Isso demonstra uma falta de consideração com o cliente. Não recomendo!\"\n"
          ]
        },
        {
          "name": "stderr",
          "output_type": "stream",
          "text": [
            "\rGenerating for OUTPUT-b2w_dev_reviewText_LLAMA_bm25-none_k4:  17%|█▋        | 428/2500 [04:58<21:20,  1.62it/s]"
          ]
        },
        {
          "name": "stdout",
          "output_type": "stream",
          "text": [
            "Review text: Este produto superou minhas expectativas! A qualidade é excelente e o desempenho é notável. Estou realmente satisfeito com a compra e recomendo a todos que buscam algo confiável e eficaz. Vale cada centavo!\n"
          ]
        },
        {
          "name": "stderr",
          "output_type": "stream",
          "text": [
            "\rGenerating for OUTPUT-b2w_dev_reviewText_LLAMA_bm25-none_k4:  17%|█▋        | 429/2500 [04:59<25:32,  1.35it/s]"
          ]
        },
        {
          "name": "stdout",
          "output_type": "stream",
          "text": [
            "Review text: Este produto é simplesmente incrível! Ele oferece tudo que você precisa em suas mãos, tornando a vida muito mais fácil e prática. A qualidade é excepcional e a versatilidade é impressionante. Não consigo imaginar meu dia a dia sem ele. Recomendo a todos que buscam conveniência e eficiência!\n"
          ]
        },
        {
          "name": "stderr",
          "output_type": "stream",
          "text": [
            "\rGenerating for OUTPUT-b2w_dev_reviewText_LLAMA_bm25-none_k4:  17%|█▋        | 430/2500 [04:59<23:08,  1.49it/s]"
          ]
        },
        {
          "name": "stdout",
          "output_type": "stream",
          "text": [
            "Review text: Infelizmente, não recebi o produto que comprei. Estou bastante decepcionado com a falta de comunicação e a demora na entrega. Espero que a situação seja resolvida em breve.\n"
          ]
        },
        {
          "name": "stderr",
          "output_type": "stream",
          "text": [
            "\rGenerating for OUTPUT-b2w_dev_reviewText_LLAMA_bm25-none_k4:  17%|█▋        | 431/2500 [05:00<24:06,  1.43it/s]"
          ]
        },
        {
          "name": "stdout",
          "output_type": "stream",
          "text": [
            "Review text: Estou muito satisfeito com a qualidade deste produto. Ele superou minhas expectativas em termos de durabilidade e desempenho. Os materiais utilizados são de alta qualidade e o acabamento é impecável. Definitivamente, recomendo a todos que buscam um produto confiável e bem feito.\n"
          ]
        },
        {
          "name": "stderr",
          "output_type": "stream",
          "text": [
            "\rGenerating for OUTPUT-b2w_dev_reviewText_LLAMA_bm25-none_k4:  17%|█▋        | 432/2500 [05:01<22:44,  1.52it/s]"
          ]
        },
        {
          "name": "stdout",
          "output_type": "stream",
          "text": [
            "Review text: Este produto superou minhas expectativas! A qualidade é excelente e o desempenho é impecável. Estou muito satisfeito com a compra e recomendo a todos que buscam algo confiável e eficiente. Vale cada centavo!\n"
          ]
        },
        {
          "name": "stderr",
          "output_type": "stream",
          "text": [
            "\rGenerating for OUTPUT-b2w_dev_reviewText_LLAMA_bm25-none_k4:  17%|█▋        | 433/2500 [05:02<25:09,  1.37it/s]"
          ]
        },
        {
          "name": "stdout",
          "output_type": "stream",
          "text": [
            "Review text: I recently purchased the HD EXTERNO, and I couldn't be happier with my choice! The image quality is stunning, with vibrant colors and sharp details that truly enhance my viewing experience. It's easy to set up and connect to my devices, making it a hassle-free addition to my home entertainment system. The build quality feels solid, and I appreciate the sleek design that fits well with my decor. Overall, I highly recommend the HD EXTERNO for anyone looking to elevate their media consumption!\n"
          ]
        },
        {
          "name": "stderr",
          "output_type": "stream",
          "text": [
            "\rGenerating for OUTPUT-b2w_dev_reviewText_LLAMA_bm25-none_k4:  17%|█▋        | 434/2500 [05:02<25:34,  1.35it/s]"
          ]
        },
        {
          "name": "stdout",
          "output_type": "stream",
          "text": [
            "Review text: Este produto superou minhas expectativas! A qualidade é excelente e ele funciona perfeitamente. Estou muito satisfeito com a compra e recomendo a todos. Vale cada centavo!\n"
          ]
        },
        {
          "name": "stderr",
          "output_type": "stream",
          "text": [
            "\rGenerating for OUTPUT-b2w_dev_reviewText_LLAMA_bm25-none_k4:  17%|█▋        | 435/2500 [05:03<25:40,  1.34it/s]"
          ]
        },
        {
          "name": "stdout",
          "output_type": "stream",
          "text": [
            "Review text: Este produto superou minhas expectativas! A qualidade é excelente e ele funciona perfeitamente. Recomendo a todos que buscam um item confiável e eficiente. Vale cada centavo!\n"
          ]
        },
        {
          "name": "stderr",
          "output_type": "stream",
          "text": [
            "\rGenerating for OUTPUT-b2w_dev_reviewText_LLAMA_bm25-none_k4:  17%|█▋        | 436/2500 [05:04<25:51,  1.33it/s]"
          ]
        },
        {
          "name": "stdout",
          "output_type": "stream",
          "text": [
            "Review text: \"Este HD externo superó mis expectativas. La velocidad de transferencia es impresionante y su diseño compacto lo hace fácil de llevar a cualquier lugar. Además, su capacidad es perfecta para almacenar todos mis archivos sin preocupaciones. Definitivamente lo recomendaría a cualquiera que necesite una solución de almacenamiento confiable.\"\n"
          ]
        },
        {
          "name": "stderr",
          "output_type": "stream",
          "text": [
            "\rGenerating for OUTPUT-b2w_dev_reviewText_LLAMA_bm25-none_k4:  17%|█▋        | 437/2500 [05:04<23:07,  1.49it/s]"
          ]
        },
        {
          "name": "stdout",
          "output_type": "stream",
          "text": [
            "Review text: \"Este produto superou minhas expectativas! A qualidade é excelente e o desempenho é incrível. Recomendo a todos que buscam algo confiável e eficiente. Definitivamente vale a pena!\"\n"
          ]
        },
        {
          "name": "stderr",
          "output_type": "stream",
          "text": [
            "\rGenerating for OUTPUT-b2w_dev_reviewText_LLAMA_bm25-none_k4:  18%|█▊        | 438/2500 [05:05<20:32,  1.67it/s]"
          ]
        },
        {
          "name": "stdout",
          "output_type": "stream",
          "text": [
            "Review text: \"Estou muito satisfeito com a qualidade e a funcionalidade deste produto. Ele atendeu todas as minhas expectativas e é exatamente o que eu precisava. Recomendo a todos!\"\n"
          ]
        },
        {
          "name": "stderr",
          "output_type": "stream",
          "text": [
            "\rGenerating for OUTPUT-b2w_dev_reviewText_LLAMA_bm25-none_k4:  18%|█▊        | 439/2500 [05:05<20:29,  1.68it/s]"
          ]
        },
        {
          "name": "stdout",
          "output_type": "stream",
          "text": [
            "Review text: Este produto não atendeu às minhas expectativas. A qualidade é muito inferior e não funciona como prometido. Sinto que foi um desperdício de dinheiro e não recomendo a ninguém.\n"
          ]
        },
        {
          "name": "stderr",
          "output_type": "stream",
          "text": [
            "\rGenerating for OUTPUT-b2w_dev_reviewText_LLAMA_bm25-none_k4:  18%|█▊        | 440/2500 [05:06<24:30,  1.40it/s]"
          ]
        },
        {
          "name": "stdout",
          "output_type": "stream",
          "text": [
            "Review text: Estou extremamente decepcionado! Fiz o pedido há semanas e até agora não recebi o produto. Tentei entrar em contato com o suporte, mas não obtive resposta. Sinto que meu dinheiro foi desperdiçado. Não recomendo!\n"
          ]
        },
        {
          "name": "stderr",
          "output_type": "stream",
          "text": [
            "\rGenerating for OUTPUT-b2w_dev_reviewText_LLAMA_bm25-none_k4:  18%|█▊        | 441/2500 [05:07<23:23,  1.47it/s]"
          ]
        },
        {
          "name": "stdout",
          "output_type": "stream",
          "text": [
            "Review text: \"Comprei este produto recentemente e fiquei muito satisfeito com a qualidade e a eficiência. Ele atendeu todas as minhas expectativas e é exatamente o que eu precisava. Recomendo para quem busca algo confiável e funcional!\"\n"
          ]
        },
        {
          "name": "stderr",
          "output_type": "stream",
          "text": [
            "\rGenerating for OUTPUT-b2w_dev_reviewText_LLAMA_bm25-none_k4:  18%|█▊        | 442/2500 [05:08<23:12,  1.48it/s]"
          ]
        },
        {
          "name": "stdout",
          "output_type": "stream",
          "text": [
            "Review text: \"Infelizmente, ainda nem recebi o produto que comprei. Estou ansioso para testá-lo, mas a demora na entrega tem sido frustrante. Espero que chegue logo!\"\n"
          ]
        },
        {
          "name": "stderr",
          "output_type": "stream",
          "text": [
            "\rGenerating for OUTPUT-b2w_dev_reviewText_LLAMA_bm25-none_k4:  18%|█▊        | 443/2500 [05:08<22:02,  1.56it/s]"
          ]
        },
        {
          "name": "stdout",
          "output_type": "stream",
          "text": [
            "Review text: Este produto está em fase de teste e, até agora, estou impressionado com sua qualidade e desempenho. A funcionalidade parece atender às minhas expectativas e estou ansioso para ver como se comporta a longo prazo. Recomendo a quem está considerando uma compra!\n"
          ]
        },
        {
          "name": "stderr",
          "output_type": "stream",
          "text": [
            "\rGenerating for OUTPUT-b2w_dev_reviewText_LLAMA_bm25-none_k4:  18%|█▊        | 444/2500 [05:09<22:33,  1.52it/s]"
          ]
        },
        {
          "name": "stdout",
          "output_type": "stream",
          "text": [
            "Review text: Estou muito desapontado, pois ainda não recebi meu produto. Fiz o pedido há semanas e não recebi nenhuma atualização sobre o status da entrega. Espero que a situação seja resolvida rapidamente, pois estou ansioso para receber o que comprei.\n"
          ]
        },
        {
          "name": "stderr",
          "output_type": "stream",
          "text": [
            "\rGenerating for OUTPUT-b2w_dev_reviewText_LLAMA_bm25-none_k4:  18%|█▊        | 445/2500 [05:09<20:26,  1.68it/s]"
          ]
        },
        {
          "name": "stdout",
          "output_type": "stream",
          "text": [
            "Review text: Este produto superou minhas expectativas! A qualidade é excelente e o desempenho é impressionante. Recomendo a todos que buscam algo confiável e eficiente. Ótima compra!\n"
          ]
        },
        {
          "name": "stderr",
          "output_type": "stream",
          "text": [
            "\rGenerating for OUTPUT-b2w_dev_reviewText_LLAMA_bm25-none_k4:  18%|█▊        | 446/2500 [05:10<20:25,  1.68it/s]"
          ]
        },
        {
          "name": "stdout",
          "output_type": "stream",
          "text": [
            "Review text: Este produto superou todas as minhas expectativas! A qualidade é excepcional e a performance é incrível. Recomendo a todos que buscam um produto confiável e eficiente. Vale cada centavo!\n"
          ]
        },
        {
          "name": "stderr",
          "output_type": "stream",
          "text": [
            "\rGenerating for OUTPUT-b2w_dev_reviewText_LLAMA_bm25-none_k4:  18%|█▊        | 447/2500 [05:11<20:38,  1.66it/s]"
          ]
        },
        {
          "name": "stdout",
          "output_type": "stream",
          "text": [
            "Review text: Este produto superou minhas expectativas! A qualidade é excelente e ele funciona perfeitamente para o que eu precisava. A entrega foi rápida e o atendimento ao cliente foi muito atencioso. Recomendo a todos que estão em busca de um produto confiável e eficiente.\n"
          ]
        },
        {
          "name": "stderr",
          "output_type": "stream",
          "text": [
            "\rGenerating for OUTPUT-b2w_dev_reviewText_LLAMA_bm25-none_k4:  18%|█▊        | 448/2500 [05:11<21:20,  1.60it/s]"
          ]
        },
        {
          "name": "stdout",
          "output_type": "stream",
          "text": [
            "Review text: Este produto é excelente! A qualidade é surpreendente e atendeu todas as minhas expectativas. Recomendo a todos que buscam algo bom e confiável. Sem dúvida, vale cada centavo!\n"
          ]
        },
        {
          "name": "stderr",
          "output_type": "stream",
          "text": [
            "\rGenerating for OUTPUT-b2w_dev_reviewText_LLAMA_bm25-none_k4:  18%|█▊        | 449/2500 [05:12<21:10,  1.61it/s]"
          ]
        },
        {
          "name": "stdout",
          "output_type": "stream",
          "text": [
            "Review text: Este produto superou minhas expectativas! A qualidade é excelente e a funcionalidade é perfeita para o que eu precisava. Recomendo a todos que buscam um item confiável e eficaz. Vale cada centavo!\n"
          ]
        },
        {
          "name": "stderr",
          "output_type": "stream",
          "text": [
            "\rGenerating for OUTPUT-b2w_dev_reviewText_LLAMA_bm25-none_k4:  18%|█▊        | 450/2500 [05:13<22:15,  1.53it/s]"
          ]
        },
        {
          "name": "stdout",
          "output_type": "stream",
          "text": [
            "Review text: Este produto superou minhas expectativas! Atendeu todas as minhas necessidades de forma excepcional. A qualidade é excelente e a funcionalidade é perfeita para o que eu precisava. Recomendo a todos que buscam algo que realmente funcione!\n"
          ]
        },
        {
          "name": "stderr",
          "output_type": "stream",
          "text": [
            "\rGenerating for OUTPUT-b2w_dev_reviewText_LLAMA_bm25-none_k4:  18%|█▊        | 451/2500 [05:13<21:04,  1.62it/s]"
          ]
        },
        {
          "name": "stdout",
          "output_type": "stream",
          "text": [
            "Review text: \"Eu simplesmente adorei o produto! A qualidade é excepcional e atendeu todas as minhas expectativas. Além disso, o design é lindo e funcional. Com certeza, recomendo para quem está em busca de algo que realmente faça a diferença!\"\n"
          ]
        },
        {
          "name": "stderr",
          "output_type": "stream",
          "text": [
            "\rGenerating for OUTPUT-b2w_dev_reviewText_LLAMA_bm25-none_k4:  18%|█▊        | 452/2500 [05:14<19:44,  1.73it/s]"
          ]
        },
        {
          "name": "stdout",
          "output_type": "stream",
          "text": [
            "Review text: \"Comprei este produto recentemente e fiquei muito satisfeito! A qualidade é excelente e atendeu todas as minhas expectativas. Recomendo a todos que estão em dúvida, vale a pena!\"\n"
          ]
        },
        {
          "name": "stderr",
          "output_type": "stream",
          "text": [
            "\rGenerating for OUTPUT-b2w_dev_reviewText_LLAMA_bm25-none_k4:  18%|█▊        | 453/2500 [05:14<20:29,  1.66it/s]"
          ]
        },
        {
          "name": "stdout",
          "output_type": "stream",
          "text": [
            "Review text: Este produto não atendeu às minhas expectativas de forma alguma. A qualidade é inferior e não vale o preço pago. Tive problemas logo na primeira utilização e não recebi suporte adequado. Definitivamente, não recomendo a compra.\n"
          ]
        },
        {
          "name": "stderr",
          "output_type": "stream",
          "text": [
            "\rGenerating for OUTPUT-b2w_dev_reviewText_LLAMA_bm25-none_k4:  18%|█▊        | 454/2500 [05:15<19:24,  1.76it/s]"
          ]
        },
        {
          "name": "stdout",
          "output_type": "stream",
          "text": [
            "Review text: \"Este produto superou minhas expectativas! A qualidade é excelente e o desempenho é impressionante. Recomendo a todos que buscam algo confiável e eficiente. Vale cada centavo!\"\n"
          ]
        },
        {
          "name": "stderr",
          "output_type": "stream",
          "text": [
            "\rGenerating for OUTPUT-b2w_dev_reviewText_LLAMA_bm25-none_k4:  18%|█▊        | 455/2500 [05:15<21:28,  1.59it/s]"
          ]
        },
        {
          "name": "stdout",
          "output_type": "stream",
          "text": [
            "Review text: Este produto superou minhas expectativas! A qualidade é excelente e o preço é muito acessível. Com certeza, é uma ótima escolha para quem busca um bom equilíbrio entre custo e benefício. Recomendo a todos!\n"
          ]
        },
        {
          "name": "stderr",
          "output_type": "stream",
          "text": [
            "\rGenerating for OUTPUT-b2w_dev_reviewText_LLAMA_bm25-none_k4:  18%|█▊        | 456/2500 [05:16<19:42,  1.73it/s]"
          ]
        },
        {
          "name": "stdout",
          "output_type": "stream",
          "text": [
            "Review text: I am absolutely thrilled with this product! It exceeded my expectations in every way. The quality is outstanding, and it performs flawlessly. I highly recommend it to anyone looking for something reliable and effective. Five stars all the way!\n"
          ]
        },
        {
          "name": "stderr",
          "output_type": "stream",
          "text": [
            "\rGenerating for OUTPUT-b2w_dev_reviewText_LLAMA_bm25-none_k4:  18%|█▊        | 457/2500 [05:16<19:03,  1.79it/s]"
          ]
        },
        {
          "name": "stdout",
          "output_type": "stream",
          "text": [
            "Review text: \"Comprei este produto com grandes expectativas, mas infelizmente ele estragou após apenas 1 mês e 7 dias de uso. A qualidade não correspondeu ao que eu esperava, e me deixou bastante decepcionado. Não recomendo.\"\n"
          ]
        },
        {
          "name": "stderr",
          "output_type": "stream",
          "text": [
            "\rGenerating for OUTPUT-b2w_dev_reviewText_LLAMA_bm25-none_k4:  18%|█▊        | 458/2500 [05:17<19:02,  1.79it/s]"
          ]
        },
        {
          "name": "stdout",
          "output_type": "stream",
          "text": [
            "Review text: \"Comprei este produto e fiquei muito satisfeito! Desde o início, não tive nenhum problema e ele atendeu todas as minhas expectativas. A qualidade é excelente e funcionou perfeitamente. Recomendo a todos que estão em dúvida!\"\n"
          ]
        },
        {
          "name": "stderr",
          "output_type": "stream",
          "text": [
            "\rGenerating for OUTPUT-b2w_dev_reviewText_LLAMA_bm25-none_k4:  18%|█▊        | 459/2500 [05:18<18:17,  1.86it/s]"
          ]
        },
        {
          "name": "stdout",
          "output_type": "stream",
          "text": [
            "Review text: \"Este produto superou minhas expectativas! A qualidade é excelente e a performance é impressionante. Estou muito satisfeito com a compra e recomendo a todos. Vale cada centavo!\"\n"
          ]
        },
        {
          "name": "stderr",
          "output_type": "stream",
          "text": [
            "\rGenerating for OUTPUT-b2w_dev_reviewText_LLAMA_bm25-none_k4:  18%|█▊        | 460/2500 [05:18<19:58,  1.70it/s]"
          ]
        },
        {
          "name": "stdout",
          "output_type": "stream",
          "text": [
            "Review text: \"Comprei este produto esperando que ele gelasse a água de forma eficiente, mas fiquei bastante decepcionado. A temperatura da água não caiu como eu esperava, e não consegui aproveitar as bebidas geladas que tanto queria. Infelizmente, não atende às minhas necessidades.\"\n"
          ]
        },
        {
          "name": "stderr",
          "output_type": "stream",
          "text": [
            "\rGenerating for OUTPUT-b2w_dev_reviewText_LLAMA_bm25-none_k4:  18%|█▊        | 461/2500 [05:19<18:51,  1.80it/s]"
          ]
        },
        {
          "name": "stdout",
          "output_type": "stream",
          "text": [
            "Review text: \"O produto atendeu algumas das minhas expectativas, mas não todas. A qualidade é razoável, mas poderia ser melhor. No geral, é um item que serve, mas não impressiona.\"\n"
          ]
        },
        {
          "name": "stderr",
          "output_type": "stream",
          "text": [
            "\rGenerating for OUTPUT-b2w_dev_reviewText_LLAMA_bm25-none_k4:  18%|█▊        | 462/2500 [05:19<18:48,  1.81it/s]"
          ]
        },
        {
          "name": "stdout",
          "output_type": "stream",
          "text": [
            "Review text: Este produto superou minhas expectativas! A qualidade é excelente e o desempenho é impecável. Recomendo a todos que buscam um item confiável e eficiente. Vale cada centavo!\n"
          ]
        },
        {
          "name": "stderr",
          "output_type": "stream",
          "text": [
            "\rGenerating for OUTPUT-b2w_dev_reviewText_LLAMA_bm25-none_k4:  19%|█▊        | 463/2500 [05:20<25:13,  1.35it/s]"
          ]
        },
        {
          "name": "stdout",
          "output_type": "stream",
          "text": [
            "Review text: Este produto superou todas as minhas expectativas! A qualidade é excepcional e o preço é imbatível. É difícil encontrar algo que ofereça tanto pelo que pagamos. Recomendo a todos que buscam um ótimo custo-benefício. Com certeza, vale cada centavo!\n"
          ]
        },
        {
          "name": "stderr",
          "output_type": "stream",
          "text": [
            "\rGenerating for OUTPUT-b2w_dev_reviewText_LLAMA_bm25-none_k4:  19%|█▊        | 464/2500 [05:21<22:40,  1.50it/s]"
          ]
        },
        {
          "name": "stdout",
          "output_type": "stream",
          "text": [
            "Review text: Este produto superou minhas expectativas! A qualidade é excelente e ele funciona perfeitamente. Recomendo a todos que estão em dúvida, vale cada centavo. Estou muito satisfeito com a compra!\n"
          ]
        },
        {
          "name": "stderr",
          "output_type": "stream",
          "text": [
            "\rGenerating for OUTPUT-b2w_dev_reviewText_LLAMA_bm25-none_k4:  19%|█▊        | 465/2500 [05:22<22:33,  1.50it/s]"
          ]
        },
        {
          "name": "stdout",
          "output_type": "stream",
          "text": [
            "Review text: Este produto superou minhas expectativas! A qualidade é excelente e o desempenho é impecável. Recomendo a todos que buscam algo confiável e eficiente. Ótima compra!\n"
          ]
        },
        {
          "name": "stderr",
          "output_type": "stream",
          "text": [
            "\rGenerating for OUTPUT-b2w_dev_reviewText_LLAMA_bm25-none_k4:  19%|█▊        | 466/2500 [05:22<22:20,  1.52it/s]"
          ]
        },
        {
          "name": "stdout",
          "output_type": "stream",
          "text": [
            "Review text: Infelizmente, o produto não atendeu às minhas expectativas. A qualidade não é boa e não funcionou como prometido. Não recomendo.\n"
          ]
        },
        {
          "name": "stderr",
          "output_type": "stream",
          "text": [
            "\rGenerating for OUTPUT-b2w_dev_reviewText_LLAMA_bm25-none_k4:  19%|█▊        | 467/2500 [05:23<22:06,  1.53it/s]"
          ]
        },
        {
          "name": "stdout",
          "output_type": "stream",
          "text": [
            "Review text: Este produto realmente superou todas as minhas expectativas! A qualidade é impressionante e o desempenho é excelente. Além disso, o preço é muito acessível, o que torna a compra ainda mais vantajosa. Recomendo a todos que buscam um bom custo-benefício!\n"
          ]
        },
        {
          "name": "stderr",
          "output_type": "stream",
          "text": [
            "\rGenerating for OUTPUT-b2w_dev_reviewText_LLAMA_bm25-none_k4:  19%|█▊        | 468/2500 [05:24<22:22,  1.51it/s]"
          ]
        },
        {
          "name": "stdout",
          "output_type": "stream",
          "text": [
            "Review text: Estou muito satisfeito com a minha compra! O produto atendeu todas as minhas expectativas e, para minha surpresa, chegou antes do prazo previsto. Agradeço pela eficiência e qualidade do serviço. Recomendo!\n"
          ]
        },
        {
          "name": "stderr",
          "output_type": "stream",
          "text": [
            "\rGenerating for OUTPUT-b2w_dev_reviewText_LLAMA_bm25-none_k4:  19%|█▉        | 469/2500 [05:24<21:46,  1.56it/s]"
          ]
        },
        {
          "name": "stdout",
          "output_type": "stream",
          "text": [
            "Review text: Adorei este produto! A qualidade é excepcional e superou minhas expectativas. O design é lindo e funcional, tornando o uso ainda mais agradável. Sem dúvida, recomendo para quem busca algo que realmente faça a diferença!\n"
          ]
        },
        {
          "name": "stderr",
          "output_type": "stream",
          "text": [
            "\rGenerating for OUTPUT-b2w_dev_reviewText_LLAMA_bm25-none_k4:  19%|█▉        | 470/2500 [05:25<21:11,  1.60it/s]"
          ]
        },
        {
          "name": "stdout",
          "output_type": "stream",
          "text": [
            "Review text: Este produto superou minhas expectativas! A qualidade é excelente e o desempenho é incrível. Estou muito satisfeito com a compra e recomendo a todos que buscam algo confiável e eficiente. Vale cada centavo!\n"
          ]
        },
        {
          "name": "stderr",
          "output_type": "stream",
          "text": [
            "\rGenerating for OUTPUT-b2w_dev_reviewText_LLAMA_bm25-none_k4:  19%|█▉        | 471/2500 [05:25<21:13,  1.59it/s]"
          ]
        },
        {
          "name": "stdout",
          "output_type": "stream",
          "text": [
            "Review text: \"Absolutely love this product! It exceeded my expectations in every way. The quality is top-notch, and it performs flawlessly. I've already recommended it to friends and family, and they are just as impressed. A must-have for anyone looking for reliability and excellence!\"\n"
          ]
        },
        {
          "name": "stderr",
          "output_type": "stream",
          "text": [
            "\rGenerating for OUTPUT-b2w_dev_reviewText_LLAMA_bm25-none_k4:  19%|█▉        | 472/2500 [05:26<19:48,  1.71it/s]"
          ]
        },
        {
          "name": "stdout",
          "output_type": "stream",
          "text": [
            "Review text: Este produto superou minhas expectativas! A qualidade é excelente e o desempenho é incrível. Recomendo a todos que buscam algo confiável e eficiente. Ótima compra!\n"
          ]
        },
        {
          "name": "stderr",
          "output_type": "stream",
          "text": [
            "\rGenerating for OUTPUT-b2w_dev_reviewText_LLAMA_bm25-none_k4:  19%|█▉        | 473/2500 [05:27<23:14,  1.45it/s]"
          ]
        },
        {
          "name": "stdout",
          "output_type": "stream",
          "text": [
            "Review text: I recently purchased this product, and I can't recommend it enough! From the moment I unboxed it, I was impressed with the quality and attention to detail. It performs exceptionally well and has exceeded my expectations in every way. Whether you're a beginner or an expert, this product is user-friendly and delivers fantastic results. If you're on the fence about buying it, just go for it—you won't be disappointed!\n"
          ]
        },
        {
          "name": "stderr",
          "output_type": "stream",
          "text": [
            "\rGenerating for OUTPUT-b2w_dev_reviewText_LLAMA_bm25-none_k4:  19%|█▉        | 474/2500 [05:28<24:02,  1.40it/s]"
          ]
        },
        {
          "name": "stdout",
          "output_type": "stream",
          "text": [
            "Review text: Este produto superou minhas expectativas! A qualidade é excepcional e ele cumpre tudo o que promete. Além disso, o design é muito atraente e funcional. Recomendo a todos que buscam um item confiável e eficiente. Vale cada centavo!\n"
          ]
        },
        {
          "name": "stderr",
          "output_type": "stream",
          "text": [
            "\rGenerating for OUTPUT-b2w_dev_reviewText_LLAMA_bm25-none_k4:  19%|█▉        | 475/2500 [05:28<22:43,  1.49it/s]"
          ]
        },
        {
          "name": "stdout",
          "output_type": "stream",
          "text": [
            "Review text: \"Estou muito satisfeito com a qualidade e desempenho deste produto. Ele atendeu todas as minhas expectativas e é exatamente o que eu precisava. Recomendo a todos!\"\n"
          ]
        },
        {
          "name": "stderr",
          "output_type": "stream",
          "text": [
            "\rGenerating for OUTPUT-b2w_dev_reviewText_LLAMA_bm25-none_k4:  19%|█▉        | 476/2500 [05:29<22:21,  1.51it/s]"
          ]
        },
        {
          "name": "stdout",
          "output_type": "stream",
          "text": [
            "Review text: 'Infelizmente, o produto não atendeu às minhas expectativas. A qualidade não é tão boa quanto eu esperava e achei que o desempenho deixou a desejar. Não recomendo para quem busca algo mais eficiente.'\n"
          ]
        },
        {
          "name": "stderr",
          "output_type": "stream",
          "text": [
            "\rGenerating for OUTPUT-b2w_dev_reviewText_LLAMA_bm25-none_k4:  19%|█▉        | 477/2500 [05:29<20:37,  1.63it/s]"
          ]
        },
        {
          "name": "stdout",
          "output_type": "stream",
          "text": [
            "Review text: This product exceeded my expectations! The quality is outstanding, and it performs flawlessly. I couldn't be happier with my purchase. Highly recommend it to anyone considering it!\n"
          ]
        },
        {
          "name": "stderr",
          "output_type": "stream",
          "text": [
            "\rGenerating for OUTPUT-b2w_dev_reviewText_LLAMA_bm25-none_k4:  19%|█▉        | 478/2500 [05:30<21:16,  1.58it/s]"
          ]
        },
        {
          "name": "stdout",
          "output_type": "stream",
          "text": [
            "Review text: \"Comprei este produto recentemente e fiquei extremamente satisfeito! A qualidade é excelente e atendeu todas as minhas expectativas. Além disso, a entrega foi rápida e o atendimento ao cliente foi muito atencioso. Recomendo a todos que estão em dúvida, vale a pena!\"\n"
          ]
        },
        {
          "name": "stderr",
          "output_type": "stream",
          "text": [
            "\rGenerating for OUTPUT-b2w_dev_reviewText_LLAMA_bm25-none_k4:  19%|█▉        | 479/2500 [05:31<22:21,  1.51it/s]"
          ]
        },
        {
          "name": "stdout",
          "output_type": "stream",
          "text": [
            "Review text: I am absolutely thrilled with this product! It exceeded my expectations in every way. The quality is outstanding, and it performs flawlessly. I couldn't be happier with my purchase, and I highly recommend it to anyone looking for something reliable and effective. Definitely worth every penny!\n"
          ]
        },
        {
          "name": "stderr",
          "output_type": "stream",
          "text": [
            "\rGenerating for OUTPUT-b2w_dev_reviewText_LLAMA_bm25-none_k4:  19%|█▉        | 480/2500 [05:31<21:44,  1.55it/s]"
          ]
        },
        {
          "name": "stdout",
          "output_type": "stream",
          "text": [
            "Review text: Este produto é incrível! A qualidade é excelente e superou minhas expectativas. Recomendo para quem busca algo eficiente e durável. Vale cada centavo!\n"
          ]
        },
        {
          "name": "stderr",
          "output_type": "stream",
          "text": [
            "\rGenerating for OUTPUT-b2w_dev_reviewText_LLAMA_bm25-none_k4:  19%|█▉        | 481/2500 [05:32<23:26,  1.44it/s]"
          ]
        },
        {
          "name": "stdout",
          "output_type": "stream",
          "text": [
            "Review text: \"Estou extremamente satisfeito com o meu bebedouro de água! A qualidade é excepcional e a água sempre sai fresquinha. O design é moderno e se encaixa perfeitamente na minha cozinha. Além disso, é super fácil de limpar e manter. Recomendo a todos que buscam um produto confiável e eficiente!\"\n"
          ]
        },
        {
          "name": "stderr",
          "output_type": "stream",
          "text": [
            "\rGenerating for OUTPUT-b2w_dev_reviewText_LLAMA_bm25-none_k4:  19%|█▉        | 482/2500 [05:33<27:07,  1.24it/s]"
          ]
        },
        {
          "name": "stdout",
          "output_type": "stream",
          "text": [
            "Review text: \"O bebedouro elétrico tem sido uma excelente adição à minha casa. A água fica sempre gelada e fresca, o que é perfeito para os dias quentes. A instalação foi simples e o design é moderno, combinando bem com a decoração. Além disso, é muito prático, pois não preciso mais ficar enchendo garrafas. Recomendo para quem busca conforto e qualidade!\"\n"
          ]
        },
        {
          "name": "stderr",
          "output_type": "stream",
          "text": [
            "\rGenerating for OUTPUT-b2w_dev_reviewText_LLAMA_bm25-none_k4:  19%|█▉        | 483/2500 [05:34<24:38,  1.36it/s]"
          ]
        },
        {
          "name": "stdout",
          "output_type": "stream",
          "text": [
            "Review text: Este produto superou minhas expectativas! A qualidade é excelente e o desempenho é notável. Recomendo a todos que buscam algo eficiente e confiável. Estou muito satisfeito com a minha compra!\n"
          ]
        },
        {
          "name": "stderr",
          "output_type": "stream",
          "text": [
            "\rGenerating for OUTPUT-b2w_dev_reviewText_LLAMA_bm25-none_k4:  19%|█▉        | 484/2500 [05:34<21:21,  1.57it/s]"
          ]
        },
        {
          "name": "stdout",
          "output_type": "stream",
          "text": [
            "Review text: Recebi o produto exatamente como estava descrito na página. A qualidade é excelente e atendeu todas as minhas expectativas. Recomendo!\n"
          ]
        },
        {
          "name": "stderr",
          "output_type": "stream",
          "text": [
            "\rGenerating for OUTPUT-b2w_dev_reviewText_LLAMA_bm25-none_k4:  19%|█▉        | 485/2500 [05:35<18:50,  1.78it/s]"
          ]
        },
        {
          "name": "stdout",
          "output_type": "stream",
          "text": [
            "Review text: Este produto superou minhas expectativas! A qualidade é excelente e o desempenho é impecável. Recomendo a todos que buscam um item confiável e eficiente. Vale cada centavo!\n"
          ]
        },
        {
          "name": "stderr",
          "output_type": "stream",
          "text": [
            "\rGenerating for OUTPUT-b2w_dev_reviewText_LLAMA_bm25-none_k4:  19%|█▉        | 486/2500 [05:35<19:04,  1.76it/s]"
          ]
        },
        {
          "name": "stdout",
          "output_type": "stream",
          "text": [
            "Review text: Este produto superou minhas expectativas! A qualidade é excelente e o desempenho é notável. Recomendo a todos que buscam algo confiável e eficiente. Vale cada centavo!\n"
          ]
        },
        {
          "name": "stderr",
          "output_type": "stream",
          "text": [
            "\rGenerating for OUTPUT-b2w_dev_reviewText_LLAMA_bm25-none_k4:  19%|█▉        | 487/2500 [05:36<18:29,  1.81it/s]"
          ]
        },
        {
          "name": "stdout",
          "output_type": "stream",
          "text": [
            "Review text: Este produto superou minhas expectativas! A qualidade é excelente e ele cumpre muito bem sua função. Além disso, o design é atraente e fácil de usar. Recomendo para quem busca um produto confiável e eficiente.\n"
          ]
        },
        {
          "name": "stderr",
          "output_type": "stream",
          "text": [
            "\rGenerating for OUTPUT-b2w_dev_reviewText_LLAMA_bm25-none_k4:  20%|█▉        | 488/2500 [05:36<20:25,  1.64it/s]"
          ]
        },
        {
          "name": "stdout",
          "output_type": "stream",
          "text": [
            "Review text: \"Comprei este produto recentemente e fiquei completamente encantada! A qualidade é excepcional e superou todas as minhas expectativas. Além disso, a entrega foi rápida e o atendimento ao cliente foi excelente. Recomendo a todos que estão em dúvida, vale muito a pena!\"\n"
          ]
        },
        {
          "name": "stderr",
          "output_type": "stream",
          "text": [
            "\rGenerating for OUTPUT-b2w_dev_reviewText_LLAMA_bm25-none_k4:  20%|█▉        | 489/2500 [05:37<20:56,  1.60it/s]"
          ]
        },
        {
          "name": "stdout",
          "output_type": "stream",
          "text": [
            "Review text: \"Comprei este produto com algumas expectativas e posso dizer que ele realmente atendeu a todas elas. A qualidade é excelente e o desempenho é impressionante. Recomendo a todos que buscam algo confiável e eficiente!\"\n"
          ]
        },
        {
          "name": "stderr",
          "output_type": "stream",
          "text": [
            "\rGenerating for OUTPUT-b2w_dev_reviewText_LLAMA_bm25-none_k4:  20%|█▉        | 490/2500 [05:38<20:11,  1.66it/s]"
          ]
        },
        {
          "name": "stdout",
          "output_type": "stream",
          "text": [
            "Review text: Infelizmente, minha experiência com este produto foi decepcionante. A qualidade não atendeu às minhas expectativas e não funcionou como prometido. Não recomendo.\n"
          ]
        },
        {
          "name": "stderr",
          "output_type": "stream",
          "text": [
            "\rGenerating for OUTPUT-b2w_dev_reviewText_LLAMA_bm25-none_k4:  20%|█▉        | 491/2500 [05:38<20:37,  1.62it/s]"
          ]
        },
        {
          "name": "stdout",
          "output_type": "stream",
          "text": [
            "Review text: Este producto superó mis expectativas en todos los aspectos. La calidad es excepcional y su rendimiento es impecable. Definitivamente lo recomendaría a cualquiera que busque algo confiable y efectivo. ¡Una compra que vale la pena!\n"
          ]
        },
        {
          "name": "stderr",
          "output_type": "stream",
          "text": [
            "\rGenerating for OUTPUT-b2w_dev_reviewText_LLAMA_bm25-none_k4:  20%|█▉        | 492/2500 [05:39<22:08,  1.51it/s]"
          ]
        },
        {
          "name": "stdout",
          "output_type": "stream",
          "text": [
            "Review text: Este produto superou minhas expectativas! A qualidade é realmente excelente, e eu pude notar a durabilidade e o cuidado na fabricação. Além disso, a entrega foi rápida e o atendimento ao cliente foi muito atencioso. Com certeza, recomendo a todos que buscam um item confiável e de alta qualidade!\n"
          ]
        },
        {
          "name": "stderr",
          "output_type": "stream",
          "text": [
            "\rGenerating for OUTPUT-b2w_dev_reviewText_LLAMA_bm25-none_k4:  20%|█▉        | 493/2500 [05:40<22:12,  1.51it/s]"
          ]
        },
        {
          "name": "stdout",
          "output_type": "stream",
          "text": [
            "Review text: Este produto superou minhas expectativas! A qualidade é excelente e o desempenho é notável. Recomendo a todos que buscam um item confiável e eficiente. Estou muito satisfeito com a minha compra!\n"
          ]
        },
        {
          "name": "stderr",
          "output_type": "stream",
          "text": [
            "\rGenerating for OUTPUT-b2w_dev_reviewText_LLAMA_bm25-none_k4:  20%|█▉        | 494/2500 [05:40<20:38,  1.62it/s]"
          ]
        },
        {
          "name": "stdout",
          "output_type": "stream",
          "text": [
            "Review text: Este produto superou minhas expectativas! A qualidade é excelente e o desempenho é impecável. Recomendo a todos que estão em busca de algo confiável e eficiente. Vale cada centavo!\n"
          ]
        },
        {
          "name": "stderr",
          "output_type": "stream",
          "text": [
            "\rGenerating for OUTPUT-b2w_dev_reviewText_LLAMA_bm25-none_k4:  20%|█▉        | 495/2500 [05:41<20:59,  1.59it/s]"
          ]
        },
        {
          "name": "stdout",
          "output_type": "stream",
          "text": [
            "Review text: Este produto superou todas as minhas expectativas! A qualidade é excepcional e os resultados são visíveis desde o primeiro uso. Recomendo a todos que buscam algo eficaz e confiável. Com certeza, vou comprar novamente!\n"
          ]
        },
        {
          "name": "stderr",
          "output_type": "stream",
          "text": [
            "\rGenerating for OUTPUT-b2w_dev_reviewText_LLAMA_bm25-none_k4:  20%|█▉        | 496/2500 [05:42<22:03,  1.51it/s]"
          ]
        },
        {
          "name": "stdout",
          "output_type": "stream",
          "text": [
            "Review text: \"Adquiri este produto recentemente e posso dizer que valeu muito a pena! A qualidade é excepcional e superou minhas expectativas. O desempenho é incrível e realmente faz a diferença no meu dia a dia. Recomendo a todos que estão em dúvida, pois não vão se arrepender!\"\n"
          ]
        },
        {
          "name": "stderr",
          "output_type": "stream",
          "text": [
            "\rGenerating for OUTPUT-b2w_dev_reviewText_LLAMA_bm25-none_k4:  20%|█▉        | 497/2500 [05:42<22:30,  1.48it/s]"
          ]
        },
        {
          "name": "stdout",
          "output_type": "stream",
          "text": [
            "Review text: Este produto superou minhas expectativas! A qualidade é excelente e ele funciona perfeitamente. Vale cada centavo. Recomendo a todos que estão em busca de algo confiável e eficaz.\n"
          ]
        },
        {
          "name": "stderr",
          "output_type": "stream",
          "text": [
            "\rGenerating for OUTPUT-b2w_dev_reviewText_LLAMA_bm25-none_k4:  20%|█▉        | 498/2500 [05:43<21:19,  1.56it/s]"
          ]
        },
        {
          "name": "stdout",
          "output_type": "stream",
          "text": [
            "Review text: Adoramos a qualidade e a funcionalidade do produto! Atendeu todas as nossas expectativas e é exatamente o que estávamos procurando. Recomendo a todos que buscam algo confiável e eficiente.\n"
          ]
        },
        {
          "name": "stderr",
          "output_type": "stream",
          "text": [
            "\rGenerating for OUTPUT-b2w_dev_reviewText_LLAMA_bm25-none_k4:  20%|█▉        | 499/2500 [05:43<20:54,  1.60it/s]"
          ]
        },
        {
          "name": "stdout",
          "output_type": "stream",
          "text": [
            "Review text: \"Recebi o produto em condições inaceitáveis. Ele estava danificado e não funcionava como prometido. Fiquei muito decepcionado com a qualidade e a falta de cuidado no envio. Não recomendo!\"\n"
          ]
        },
        {
          "name": "stderr",
          "output_type": "stream",
          "text": [
            "\rGenerating for OUTPUT-b2w_dev_reviewText_LLAMA_bm25-none_k4:  20%|██        | 500/2500 [05:44<21:42,  1.54it/s]"
          ]
        },
        {
          "name": "stdout",
          "output_type": "stream",
          "text": [
            "Review text: Este produto chegou em péssimas condições, completamente estragado. A qualidade estava muito abaixo do esperado e não consegui utilizá-lo. Fiquei bastante desapontado com a compra e não recomendo.\n"
          ]
        },
        {
          "name": "stderr",
          "output_type": "stream",
          "text": [
            "\rGenerating for OUTPUT-b2w_dev_reviewText_LLAMA_bm25-none_k4:  20%|██        | 501/2500 [05:45<22:16,  1.50it/s]"
          ]
        },
        {
          "name": "stdout",
          "output_type": "stream",
          "text": [
            "Review text: \"Estou muito satisfeito com a minha compra! O produto oferece uma qualidade surpreendente pelo preço que paguei. Vale cada centavo e superou minhas expectativas. Recomendo para quem busca um bom custo-benefício!\"\n"
          ]
        },
        {
          "name": "stderr",
          "output_type": "stream",
          "text": [
            "\rGenerating for OUTPUT-b2w_dev_reviewText_LLAMA_bm25-none_k4:  20%|██        | 502/2500 [05:46<22:57,  1.45it/s]"
          ]
        },
        {
          "name": "stdout",
          "output_type": "stream",
          "text": [
            "Review text: Este telefone superou minhas expectativas! A qualidade de som é excelente e a bateria dura bastante. O design é moderno e elegante, tornando-o fácil de usar. Recomendo para quem busca um aparelho confiável e com boas funcionalidades.\n"
          ]
        },
        {
          "name": "stderr",
          "output_type": "stream",
          "text": [
            "\rGenerating for OUTPUT-b2w_dev_reviewText_LLAMA_bm25-none_k4:  20%|██        | 503/2500 [05:46<22:28,  1.48it/s]"
          ]
        },
        {
          "name": "stdout",
          "output_type": "stream",
          "text": [
            "Review text: \"Absolutely love this product! It exceeded my expectations in every way. The quality is top-notch, and it performs flawlessly. I highly recommend it to anyone looking for something reliable and effective. You won't be disappointed!\"\n"
          ]
        },
        {
          "name": "stderr",
          "output_type": "stream",
          "text": [
            "\rGenerating for OUTPUT-b2w_dev_reviewText_LLAMA_bm25-none_k4:  20%|██        | 504/2500 [05:47<22:20,  1.49it/s]"
          ]
        },
        {
          "name": "stdout",
          "output_type": "stream",
          "text": [
            "Review text: Este produto superou minhas expectativas! A qualidade é excelente e o desempenho é notável. Recomendo a todos que buscam algo confiável e eficiente. Vale cada centavo!\n"
          ]
        },
        {
          "name": "stderr",
          "output_type": "stream",
          "text": [
            "\rGenerating for OUTPUT-b2w_dev_reviewText_LLAMA_bm25-none_k4:  20%|██        | 505/2500 [05:47<21:17,  1.56it/s]"
          ]
        },
        {
          "name": "stdout",
          "output_type": "stream",
          "text": [
            "Review text: \"Infelizmente, minha experiência com o prazo de entrega foi muito decepcionante. O produto demorou muito mais do que o esperado para chegar, o que causou bastante frustração. Esperava um serviço mais eficiente e ágil. Não recomendo se você precisa do item rapidamente.\"\n"
          ]
        },
        {
          "name": "stderr",
          "output_type": "stream",
          "text": [
            "\rGenerating for OUTPUT-b2w_dev_reviewText_LLAMA_bm25-none_k4:  20%|██        | 506/2500 [05:48<20:38,  1.61it/s]"
          ]
        },
        {
          "name": "stdout",
          "output_type": "stream",
          "text": [
            "Review text: Este produto superou minhas expectativas! A qualidade é excepcional e o desempenho é incrível. Recomendo a todos que buscam um item confiável e eficiente. Vale cada centavo!\n"
          ]
        },
        {
          "name": "stderr",
          "output_type": "stream",
          "text": [
            "\rGenerating for OUTPUT-b2w_dev_reviewText_LLAMA_bm25-none_k4:  20%|██        | 507/2500 [05:48<19:16,  1.72it/s]"
          ]
        },
        {
          "name": "stdout",
          "output_type": "stream",
          "text": [
            "Review text: \"Adorei este produto! A qualidade é excelente e atendeu todas as minhas expectativas. Recomendo a todos que estão em busca de algo confiável e eficaz. Vale cada centavo!\"\n"
          ]
        },
        {
          "name": "stderr",
          "output_type": "stream",
          "text": [
            "\rGenerating for OUTPUT-b2w_dev_reviewText_LLAMA_bm25-none_k4:  20%|██        | 508/2500 [05:49<21:05,  1.57it/s]"
          ]
        },
        {
          "name": "stdout",
          "output_type": "stream",
          "text": [
            "Review text: \"Infelizmente, não recebi o produto que comprei. Fiz o pedido há semanas e até agora não houve atualização sobre a entrega. Estou bastante decepcionado com a falta de comunicação e espero que a situação seja resolvida em breve.\"\n"
          ]
        },
        {
          "name": "stderr",
          "output_type": "stream",
          "text": [
            "\rGenerating for OUTPUT-b2w_dev_reviewText_LLAMA_bm25-none_k4:  20%|██        | 509/2500 [05:50<23:01,  1.44it/s]"
          ]
        },
        {
          "name": "stdout",
          "output_type": "stream",
          "text": [
            "Review text: Este produto superou todas as minhas expectativas! A qualidade é impressionante e o desempenho é excepcional. Utilizei em diversas situações e sempre funcionou perfeitamente. Recomendo a todos que buscam um produto confiável e eficiente. Adorei e certamente compraria novamente!\n"
          ]
        },
        {
          "name": "stderr",
          "output_type": "stream",
          "text": [
            "\rGenerating for OUTPUT-b2w_dev_reviewText_LLAMA_bm25-none_k4:  20%|██        | 510/2500 [05:51<22:29,  1.47it/s]"
          ]
        },
        {
          "name": "stdout",
          "output_type": "stream",
          "text": [
            "Review text: Achei estranho que o produto não atendeu às minhas expectativas. A qualidade parecia inferior e não funcionou como eu esperava. Não sei se foi apenas uma má experiência, mas não recomendo.\n"
          ]
        },
        {
          "name": "stderr",
          "output_type": "stream",
          "text": [
            "\rGenerating for OUTPUT-b2w_dev_reviewText_LLAMA_bm25-none_k4:  20%|██        | 511/2500 [05:51<22:39,  1.46it/s]"
          ]
        },
        {
          "name": "stdout",
          "output_type": "stream",
          "text": [
            "Review text: Estou extremamente satisfeito com o produto! A qualidade é excelente e atendeu todas as minhas expectativas. Recomendo a todos que estão em dúvida, vale muito a pena!\n"
          ]
        },
        {
          "name": "stderr",
          "output_type": "stream",
          "text": [
            "\rGenerating for OUTPUT-b2w_dev_reviewText_LLAMA_bm25-none_k4:  20%|██        | 512/2500 [05:52<21:56,  1.51it/s]"
          ]
        },
        {
          "name": "stdout",
          "output_type": "stream",
          "text": [
            "Review text: Este produto superou minhas expectativas! A qualidade é excelente e o desempenho é impecável. Recomendo a todos que buscam algo confiável e eficiente. Ótima compra!\n"
          ]
        },
        {
          "name": "stderr",
          "output_type": "stream",
          "text": [
            "\rGenerating for OUTPUT-b2w_dev_reviewText_LLAMA_bm25-none_k4:  21%|██        | 513/2500 [05:53<22:37,  1.46it/s]"
          ]
        },
        {
          "name": "stdout",
          "output_type": "stream",
          "text": [
            "Review text: A qualidade deste produto é realmente impressionante. Os materiais utilizados são duráveis e bem acabados, o que garante uma ótima performance. Estou muito satisfeito com a minha compra e recomendo a todos que buscam um produto confiável e de alta qualidade.\n"
          ]
        },
        {
          "name": "stderr",
          "output_type": "stream",
          "text": [
            "\rGenerating for OUTPUT-b2w_dev_reviewText_LLAMA_bm25-none_k4:  21%|██        | 514/2500 [05:53<20:47,  1.59it/s]"
          ]
        },
        {
          "name": "stdout",
          "output_type": "stream",
          "text": [
            "Review text: \"Este produto superou minhas expectativas! A qualidade é excelente e o desempenho é notável. Estou muito satisfeito com a compra e recomendo a todos que buscam algo confiável e eficaz. Vale cada centavo!\"\n"
          ]
        },
        {
          "name": "stderr",
          "output_type": "stream",
          "text": [
            "\rGenerating for OUTPUT-b2w_dev_reviewText_LLAMA_bm25-none_k4:  21%|██        | 515/2500 [05:54<19:27,  1.70it/s]"
          ]
        },
        {
          "name": "stdout",
          "output_type": "stream",
          "text": [
            "Review text: Este produto superou minhas expectativas! A qualidade é excelente e o preço é realmente acessível. Estou muito satisfeito com a compra e definitivamente recomendaria a todos que buscam um bom custo-benefício. Vale cada centavo!\n"
          ]
        },
        {
          "name": "stderr",
          "output_type": "stream",
          "text": [
            "\rGenerating for OUTPUT-b2w_dev_reviewText_LLAMA_bm25-none_k4:  21%|██        | 516/2500 [05:55<21:50,  1.51it/s]"
          ]
        },
        {
          "name": "stdout",
          "output_type": "stream",
          "text": [
            "Review text: Este monitor para CPU ha superado mis expectativas. La calidad de imagen es excepcional, con colores vibrantes y una resolución nítida que hace que todo se vea increíble. Además, el diseño es elegante y se adapta perfectamente a mi espacio de trabajo. La configuración fue rápida y sencilla, sin complicaciones. Definitivamente, lo recomendaría a cualquiera que busque un monitor confiable y de alto rendimiento. ¡Una excelente compra!\n"
          ]
        },
        {
          "name": "stderr",
          "output_type": "stream",
          "text": [
            "\rGenerating for OUTPUT-b2w_dev_reviewText_LLAMA_bm25-none_k4:  21%|██        | 517/2500 [05:55<20:56,  1.58it/s]"
          ]
        },
        {
          "name": "stdout",
          "output_type": "stream",
          "text": [
            "Review text: Este equipamento superou todas as minhas expectativas! A qualidade de construção é excelente e o desempenho é impecável. É fácil de usar e muito eficiente. Recomendo para quem busca um produto confiável e de alta performance. Ótima compra!\n"
          ]
        },
        {
          "name": "stderr",
          "output_type": "stream",
          "text": [
            "\rGenerating for OUTPUT-b2w_dev_reviewText_LLAMA_bm25-none_k4:  21%|██        | 518/2500 [05:56<20:54,  1.58it/s]"
          ]
        },
        {
          "name": "stdout",
          "output_type": "stream",
          "text": [
            "Review text: Este produto superou minhas expectativas! A qualidade é excelente e o desempenho é notável. Recomendo a todos que buscam algo confiável e eficiente. Vale cada centavo!\n"
          ]
        },
        {
          "name": "stderr",
          "output_type": "stream",
          "text": [
            "\rGenerating for OUTPUT-b2w_dev_reviewText_LLAMA_bm25-none_k4:  21%|██        | 519/2500 [05:58<31:59,  1.03it/s]"
          ]
        },
        {
          "name": "stdout",
          "output_type": "stream",
          "text": [
            "Review text: Este produto superou minhas expectativas! A qualidade é excelente e o desempenho é impecável. Com certeza, vale cada centavo. Recomendo a todos que estão em busca de algo confiável e eficiente.\n"
          ]
        },
        {
          "name": "stderr",
          "output_type": "stream",
          "text": [
            "\rGenerating for OUTPUT-b2w_dev_reviewText_LLAMA_bm25-none_k4:  21%|██        | 520/2500 [05:58<31:23,  1.05it/s]"
          ]
        },
        {
          "name": "stdout",
          "output_type": "stream",
          "text": [
            "Review text: This monitor has exceeded my expectations! The clarity and color accuracy are fantastic, making it perfect for both work and gaming. The sleek design fits well on my desk, and the adjustable stand is a great feature. I appreciate the multiple connectivity options, which make it easy to switch between devices. Overall, a solid investment for anyone in need of a reliable display!\n"
          ]
        },
        {
          "name": "stderr",
          "output_type": "stream",
          "text": [
            "\rGenerating for OUTPUT-b2w_dev_reviewText_LLAMA_bm25-none_k4:  21%|██        | 521/2500 [05:59<27:54,  1.18it/s]"
          ]
        },
        {
          "name": "stdout",
          "output_type": "stream",
          "text": [
            "Review text: Este produto superou minhas expectativas! A qualidade é excelente e o desempenho é notável. Recomendo a todos que buscam algo confiável e eficiente. Vale cada centavo!\n"
          ]
        },
        {
          "name": "stderr",
          "output_type": "stream",
          "text": [
            "\rGenerating for OUTPUT-b2w_dev_reviewText_LLAMA_bm25-none_k4:  21%|██        | 522/2500 [06:00<25:56,  1.27it/s]"
          ]
        },
        {
          "name": "stdout",
          "output_type": "stream",
          "text": [
            "Review text: Este producto superó mis expectativas. La calidad es excepcional y cumple con todas las funciones que necesitaba. Definitivamente lo recomendaría a otros. ¡Una gran compra!\n"
          ]
        },
        {
          "name": "stderr",
          "output_type": "stream",
          "text": [
            "\rGenerating for OUTPUT-b2w_dev_reviewText_LLAMA_bm25-none_k4:  21%|██        | 523/2500 [06:00<25:31,  1.29it/s]"
          ]
        },
        {
          "name": "stdout",
          "output_type": "stream",
          "text": [
            "Review text: Este produto causou muitos transtornos. Desde o início, tive problemas com a instalação e a funcionalidade não correspondeu às minhas expectativas. O atendimento ao cliente foi insatisfatório e não consegui resolver as questões que surgiram. Infelizmente, não recomendo.\n"
          ]
        },
        {
          "name": "stderr",
          "output_type": "stream",
          "text": [
            "\rGenerating for OUTPUT-b2w_dev_reviewText_LLAMA_bm25-none_k4:  21%|██        | 524/2500 [06:01<23:21,  1.41it/s]"
          ]
        },
        {
          "name": "stdout",
          "output_type": "stream",
          "text": [
            "Review text: \"Comprei este produto recentemente e estou muito satisfeito com a qualidade. Ele atendeu todas as minhas expectativas e é exatamente o que eu precisava. A entrega foi rápida e o atendimento ao cliente foi excelente. Recomendo a todos!\"\n"
          ]
        },
        {
          "name": "stderr",
          "output_type": "stream",
          "text": [
            "\rGenerating for OUTPUT-b2w_dev_reviewText_LLAMA_bm25-none_k4:  21%|██        | 525/2500 [06:02<22:34,  1.46it/s]"
          ]
        },
        {
          "name": "stdout",
          "output_type": "stream",
          "text": [
            "Review text: Este produto superou minhas expectativas! A qualidade é excepcional e o desempenho é impecável. Recomendo a todos que buscam um item confiável e eficiente. Vale cada centavo!\n"
          ]
        },
        {
          "name": "stderr",
          "output_type": "stream",
          "text": [
            "\rGenerating for OUTPUT-b2w_dev_reviewText_LLAMA_bm25-none_k4:  21%|██        | 526/2500 [06:02<21:31,  1.53it/s]"
          ]
        },
        {
          "name": "stdout",
          "output_type": "stream",
          "text": [
            "Review text: \"Este producto superó todas mis expectativas. La calidad es excepcional y ha funcionado a la perfección desde el primer día. Definitivamente lo recomendaría a cualquiera que busque algo confiable y eficaz. ¡Una compra excelente!\"\n"
          ]
        },
        {
          "name": "stderr",
          "output_type": "stream",
          "text": [
            "\rGenerating for OUTPUT-b2w_dev_reviewText_LLAMA_bm25-none_k4:  21%|██        | 527/2500 [06:03<22:41,  1.45it/s]"
          ]
        },
        {
          "name": "stdout",
          "output_type": "stream",
          "text": [
            "Review text: \"Desde que comencé a usar este producto, he notado una mejora significativa en mi rutina diaria. Su calidad es excepcional y se adapta perfectamente a mis necesidades. Sin duda, lo recomendaría a cualquiera que busque una solución efectiva y confiable. ¡Un verdadero elogio a esta marca!\"\n"
          ]
        },
        {
          "name": "stderr",
          "output_type": "stream",
          "text": [
            "\rGenerating for OUTPUT-b2w_dev_reviewText_LLAMA_bm25-none_k4:  21%|██        | 528/2500 [06:03<20:10,  1.63it/s]"
          ]
        },
        {
          "name": "stdout",
          "output_type": "stream",
          "text": [
            "Review text: Este produto superou minhas expectativas! A qualidade é excelente e o desempenho é notável. Recomendo a todos que buscam algo confiável e eficiente. Vale cada centavo!\n"
          ]
        },
        {
          "name": "stderr",
          "output_type": "stream",
          "text": [
            "\rGenerating for OUTPUT-b2w_dev_reviewText_LLAMA_bm25-none_k4:  21%|██        | 529/2500 [06:04<20:40,  1.59it/s]"
          ]
        },
        {
          "name": "stdout",
          "output_type": "stream",
          "text": [
            "Review text: This product is absolutely amazing! It exceeded my expectations in every way. The quality is top-notch, and it performs flawlessly. I couldn't be happier with my purchase. Highly recommend it to anyone looking for something reliable and effective!\n"
          ]
        },
        {
          "name": "stderr",
          "output_type": "stream",
          "text": [
            "\rGenerating for OUTPUT-b2w_dev_reviewText_LLAMA_bm25-none_k4:  21%|██        | 530/2500 [06:05<26:29,  1.24it/s]"
          ]
        },
        {
          "name": "stdout",
          "output_type": "stream",
          "text": [
            "Review text: Infelizmente, o produto não chegou. Estou bastante desapontado com a entrega, pois esperava ansiosamente pela minha compra. Espero que a situação seja resolvida em breve, pois realmente gostaria de experimentar o item.\n"
          ]
        },
        {
          "name": "stderr",
          "output_type": "stream",
          "text": [
            "\rGenerating for OUTPUT-b2w_dev_reviewText_LLAMA_bm25-none_k4:  21%|██        | 531/2500 [06:06<25:20,  1.29it/s]"
          ]
        },
        {
          "name": "stdout",
          "output_type": "stream",
          "text": [
            "Review text: Estou extremamente satisfeito com minha compra! O produto atendeu todas as minhas expectativas e tem se mostrado de ótima qualidade. A entrega foi rápida e o atendimento ao cliente foi excepcional. Recomendo a todos que buscam um bom investimento!\n"
          ]
        },
        {
          "name": "stderr",
          "output_type": "stream",
          "text": [
            "\rGenerating for OUTPUT-b2w_dev_reviewText_LLAMA_bm25-none_k4:  21%|██▏       | 532/2500 [06:07<24:01,  1.37it/s]"
          ]
        },
        {
          "name": "stdout",
          "output_type": "stream",
          "text": [
            "Review text: \"Infelizmente, não pude avaliar o produto, pois não o recebi. A experiência de compra foi frustrante e espero que a situação seja resolvida em breve.\"\n"
          ]
        },
        {
          "name": "stderr",
          "output_type": "stream",
          "text": [
            "\rGenerating for OUTPUT-b2w_dev_reviewText_LLAMA_bm25-none_k4:  21%|██▏       | 533/2500 [06:07<22:48,  1.44it/s]"
          ]
        },
        {
          "name": "stdout",
          "output_type": "stream",
          "text": [
            "Review text: \"Infelizmente, não recebi o produto que comprei. Fiz o pedido há semanas e até agora não tive nenhuma atualização sobre o envio. Estou bastante desapontado com a falta de comunicação e espero que a situação seja resolvida rapidamente.\"\n"
          ]
        },
        {
          "name": "stderr",
          "output_type": "stream",
          "text": [
            "\rGenerating for OUTPUT-b2w_dev_reviewText_LLAMA_bm25-none_k4:  21%|██▏       | 534/2500 [06:10<40:03,  1.22s/it]"
          ]
        },
        {
          "name": "stdout",
          "output_type": "stream",
          "text": [
            "Review text: O aparelho é muito barulhento e isso realmente incomoda durante o uso. A expectativa era de um funcionamento mais silencioso, mas o ruído constante torna a experiência frustrante. Não recomendo para quem busca um produto tranquilo.\n"
          ]
        },
        {
          "name": "stderr",
          "output_type": "stream",
          "text": [
            "\rGenerating for OUTPUT-b2w_dev_reviewText_LLAMA_bm25-none_k4:  21%|██▏       | 535/2500 [06:10<34:03,  1.04s/it]"
          ]
        },
        {
          "name": "stdout",
          "output_type": "stream",
          "text": [
            "Review text: \"A eficácia deste produto superou minhas expectativas. Desde que comecei a usá-lo, notei resultados significativos em pouco tempo. A fórmula é potente e realmente cumpre o que promete. Recomendo a todos que buscam uma solução eficaz!\"\n"
          ]
        },
        {
          "name": "stderr",
          "output_type": "stream",
          "text": [
            "\rGenerating for OUTPUT-b2w_dev_reviewText_LLAMA_bm25-none_k4:  21%|██▏       | 536/2500 [06:11<31:10,  1.05it/s]"
          ]
        },
        {
          "name": "stdout",
          "output_type": "stream",
          "text": [
            "Review text: This product is quite average. It does the job, but there’s nothing particularly impressive about it. I expected more based on the description, but it just meets basic expectations. If you're looking for something reliable without any frills, this might work for you. However, I wouldn’t recommend it if you’re after something exceptional.\n"
          ]
        },
        {
          "name": "stderr",
          "output_type": "stream",
          "text": [
            "\rGenerating for OUTPUT-b2w_dev_reviewText_LLAMA_bm25-none_k4:  21%|██▏       | 537/2500 [06:12<28:01,  1.17it/s]"
          ]
        },
        {
          "name": "stdout",
          "output_type": "stream",
          "text": [
            "Review text: \"Infelizmente, este produto não atendeu às minhas expectativas. A qualidade prometida não correspondeu ao que recebi, e a experiência foi decepcionante. Senti que houve uma falta de transparência nas informações fornecidas, o que me deixou frustrado. Não recomendo.\"\n"
          ]
        },
        {
          "name": "stderr",
          "output_type": "stream",
          "text": [
            "\rGenerating for OUTPUT-b2w_dev_reviewText_LLAMA_bm25-none_k4:  22%|██▏       | 538/2500 [06:12<26:06,  1.25it/s]"
          ]
        },
        {
          "name": "stdout",
          "output_type": "stream",
          "text": [
            "Review text: Estou extremamente decepcionado com este produto. As expectativas eram altas, mas a qualidade deixou muito a desejar. Não atendeu às minhas necessidades e não funcionou como prometido. Definitivamente não recomendo.\n"
          ]
        },
        {
          "name": "stderr",
          "output_type": "stream",
          "text": [
            "\rGenerating for OUTPUT-b2w_dev_reviewText_LLAMA_bm25-none_k4:  22%|██▏       | 539/2500 [06:13<27:11,  1.20it/s]"
          ]
        },
        {
          "name": "stdout",
          "output_type": "stream",
          "text": [
            "Review text: \"Esse produto superou todas as minhas expectativas! A qualidade é excepcional e o desempenho é impecável. Recomendo a todos que buscam algo realmente eficaz e confiável. Nota 10!\"\n"
          ]
        },
        {
          "name": "stderr",
          "output_type": "stream",
          "text": [
            "\rGenerating for OUTPUT-b2w_dev_reviewText_LLAMA_bm25-none_k4:  22%|██▏       | 540/2500 [06:14<24:09,  1.35it/s]"
          ]
        },
        {
          "name": "stdout",
          "output_type": "stream",
          "text": [
            "Review text: \"Estou impressionado com a qualidade deste produto, especialmente considerando o preço acessível. Ele superou minhas expectativas em termos de durabilidade e desempenho. É uma ótima opção para quem busca um bom custo-benefício. Recomendo a todos!\"\n"
          ]
        },
        {
          "name": "stderr",
          "output_type": "stream",
          "text": [
            "\rGenerating for OUTPUT-b2w_dev_reviewText_LLAMA_bm25-none_k4:  22%|██▏       | 541/2500 [06:14<21:34,  1.51it/s]"
          ]
        },
        {
          "name": "stdout",
          "output_type": "stream",
          "text": [
            "Review text: \"Esse produto realmente quebra um galho! Ele é prático e cumpre bem a função que promete. Ideal para quem precisa de uma solução rápida e eficiente no dia a dia. Recomendo!\"\n"
          ]
        },
        {
          "name": "stderr",
          "output_type": "stream",
          "text": [
            "\rGenerating for OUTPUT-b2w_dev_reviewText_LLAMA_bm25-none_k4:  22%|██▏       | 542/2500 [06:15<20:46,  1.57it/s]"
          ]
        },
        {
          "name": "stdout",
          "output_type": "stream",
          "text": [
            "Review text: Este produto realmente quebra um galho! Atendeu todas as minhas expectativas e facilitou muito o meu dia a dia. Recomendo para quem busca praticidade e eficiência.\n"
          ]
        },
        {
          "name": "stderr",
          "output_type": "stream",
          "text": [
            "\rGenerating for OUTPUT-b2w_dev_reviewText_LLAMA_bm25-none_k4:  22%|██▏       | 543/2500 [06:16<21:25,  1.52it/s]"
          ]
        },
        {
          "name": "stdout",
          "output_type": "stream",
          "text": [
            "Review text: \"I recently purchased the Boa bike and I couldn't be happier! The design is sleek and modern, and it rides like a dream. The handling is smooth, and the gears shift effortlessly. I've taken it on various terrains, and it performs exceptionally well. Plus, the comfort level is top-notch, making long rides enjoyable. Highly recommend for anyone looking for a reliable and stylish bike!\"\n"
          ]
        },
        {
          "name": "stderr",
          "output_type": "stream",
          "text": [
            "\rGenerating for OUTPUT-b2w_dev_reviewText_LLAMA_bm25-none_k4:  22%|██▏       | 544/2500 [06:16<22:17,  1.46it/s]"
          ]
        },
        {
          "name": "stdout",
          "output_type": "stream",
          "text": [
            "Review text: \"O produto atendeu minhas expectativas e estou satisfeito com a qualidade. No entanto, senti falta dos baralamas, que seriam um ótimo complemento. No geral, uma boa compra!\"\n"
          ]
        },
        {
          "name": "stderr",
          "output_type": "stream",
          "text": [
            "\rGenerating for OUTPUT-b2w_dev_reviewText_LLAMA_bm25-none_k4:  22%|██▏       | 545/2500 [06:17<21:04,  1.55it/s]"
          ]
        },
        {
          "name": "stdout",
          "output_type": "stream",
          "text": [
            "Review text: Este produto realmente superou minhas expectativas! A qualidade é excepcional, e cada detalhe foi cuidadosamente pensado. Desde o acabamento até a funcionalidade, tudo é perfeito. Recomendo a todos que buscam algo durável e eficiente. Vale cada centavo!\n"
          ]
        },
        {
          "name": "stderr",
          "output_type": "stream",
          "text": [
            "\rGenerating for OUTPUT-b2w_dev_reviewText_LLAMA_bm25-none_k4:  22%|██▏       | 546/2500 [06:18<23:04,  1.41it/s]"
          ]
        },
        {
          "name": "stdout",
          "output_type": "stream",
          "text": [
            "Review text: Estou absolutamente apaixonada pela minha nova bike! O design é incrível e a qualidade é excepcional. Cada passeio é uma nova aventura, e a sensação de liberdade que ela proporciona é indescritível. Recomendo a todos que buscam uma experiência de ciclismo incrível!\n"
          ]
        },
        {
          "name": "stderr",
          "output_type": "stream",
          "text": [
            "\rGenerating for OUTPUT-b2w_dev_reviewText_LLAMA_bm25-none_k4:  22%|██▏       | 547/2500 [06:18<22:10,  1.47it/s]"
          ]
        },
        {
          "name": "stdout",
          "output_type": "stream",
          "text": [
            "Review text: \"Este produto é simplesmente deslumbrante! A estética é de tirar o fôlego e realmente se destaca. Além de ser bonito, também é funcional e atende todas as minhas expectativas. Recomendo para quem busca algo que una beleza e qualidade!\"\n"
          ]
        },
        {
          "name": "stderr",
          "output_type": "stream",
          "text": [
            "\rGenerating for OUTPUT-b2w_dev_reviewText_LLAMA_bm25-none_k4:  22%|██▏       | 548/2500 [06:19<20:23,  1.60it/s]"
          ]
        },
        {
          "name": "stdout",
          "output_type": "stream",
          "text": [
            "Review text: \"Infelizmente, o produto não atendeu às minhas expectativas. A qualidade não é tão boa quanto eu esperava e houve vários problemas que me deixaram frustrado. Não recomendo.\"\n"
          ]
        },
        {
          "name": "stderr",
          "output_type": "stream",
          "text": [
            "\rGenerating for OUTPUT-b2w_dev_reviewText_LLAMA_bm25-none_k4:  22%|██▏       | 549/2500 [06:20<23:13,  1.40it/s]"
          ]
        },
        {
          "name": "stdout",
          "output_type": "stream",
          "text": [
            "Review text: Este produto realmente se destaca pela sua qualidade. O material é excelente e a potência é boa, o que torna o uso bastante eficiente. O bico de alumínio é uma grande vantagem, pois não derrete e é leve, facilitando o manuseio. No entanto, o barulho do motor deixa a desejar, o que pode ser um ponto negativo para quem busca um equipamento mais silencioso. No geral, é uma ótima escolha!\n"
          ]
        },
        {
          "name": "stderr",
          "output_type": "stream",
          "text": [
            "\rGenerating for OUTPUT-b2w_dev_reviewText_LLAMA_bm25-none_k4:  22%|██▏       | 550/2500 [06:21<24:18,  1.34it/s]"
          ]
        },
        {
          "name": "stdout",
          "output_type": "stream",
          "text": [
            "Review text: Este produto superou minhas expectativas! A qualidade é excelente e ele funciona perfeitamente. Recomendo a todos que estão em busca de algo confiável e eficiente. Vale cada centavo!\n"
          ]
        },
        {
          "name": "stderr",
          "output_type": "stream",
          "text": [
            "\rGenerating for OUTPUT-b2w_dev_reviewText_LLAMA_bm25-none_k4:  22%|██▏       | 551/2500 [06:21<23:06,  1.41it/s]"
          ]
        },
        {
          "name": "stdout",
          "output_type": "stream",
          "text": [
            "Review text: Este produto superou minhas expectativas! A qualidade é excelente e atendeu todas as minhas necessidades. Recomendo a todos que buscam um item confiável e eficiente. Vale cada centavo!\n"
          ]
        },
        {
          "name": "stderr",
          "output_type": "stream",
          "text": [
            "\rGenerating for OUTPUT-b2w_dev_reviewText_LLAMA_bm25-none_k4:  22%|██▏       | 552/2500 [06:22<27:19,  1.19it/s]"
          ]
        },
        {
          "name": "stdout",
          "output_type": "stream",
          "text": [
            "Review text: \"I've been using this product for a few weeks now, and I can't recommend it enough! The quality is outstanding, and it has exceeded my expectations in every way. It’s user-friendly and delivers fantastic results. If you're on the fence about purchasing, just go for it—you won't regret it!\"\n"
          ]
        },
        {
          "name": "stderr",
          "output_type": "stream",
          "text": [
            "\rGenerating for OUTPUT-b2w_dev_reviewText_LLAMA_bm25-none_k4:  22%|██▏       | 553/2500 [06:23<23:27,  1.38it/s]"
          ]
        },
        {
          "name": "stdout",
          "output_type": "stream",
          "text": [
            "Review text: Estoy muy satisfecho con este producto. La calidad es excepcional y ha superado mis expectativas. Sin duda lo recomendaría a otros. ¡Excelente compra!\n"
          ]
        },
        {
          "name": "stderr",
          "output_type": "stream",
          "text": [
            "\rGenerating for OUTPUT-b2w_dev_reviewText_LLAMA_bm25-none_k4:  22%|██▏       | 554/2500 [06:23<20:49,  1.56it/s]"
          ]
        },
        {
          "name": "stdout",
          "output_type": "stream",
          "text": [
            "Review text: \"Este produto é simplesmente lindo! A qualidade é excepcional e o design é encantador. Fiquei impressionado com cada detalhe. Recomendo a todos que buscam algo especial e bonito!\"\n"
          ]
        },
        {
          "name": "stderr",
          "output_type": "stream",
          "text": [
            "\rGenerating for OUTPUT-b2w_dev_reviewText_LLAMA_bm25-none_k4:  22%|██▏       | 555/2500 [06:24<19:53,  1.63it/s]"
          ]
        },
        {
          "name": "stdout",
          "output_type": "stream",
          "text": [
            "Review text: \"Sastifeito! This product exceeded my expectations in every way. The quality is outstanding, and it performs flawlessly. I couldn't be happier with my purchase. Highly recommend it to anyone looking for something reliable and effective!\"\n"
          ]
        },
        {
          "name": "stderr",
          "output_type": "stream",
          "text": [
            "\rGenerating for OUTPUT-b2w_dev_reviewText_LLAMA_bm25-none_k4:  22%|██▏       | 556/2500 [06:24<18:55,  1.71it/s]"
          ]
        },
        {
          "name": "stdout",
          "output_type": "stream",
          "text": [
            "Review text: Este produto superou minhas expectativas! A qualidade é excepcional e a funcionalidade é perfeita para o que eu precisava. Recomendo a todos que buscam um item confiável e eficiente. Vale cada centavo!\n"
          ]
        },
        {
          "name": "stderr",
          "output_type": "stream",
          "text": [
            "\rGenerating for OUTPUT-b2w_dev_reviewText_LLAMA_bm25-none_k4:  22%|██▏       | 557/2500 [06:25<18:52,  1.72it/s]"
          ]
        },
        {
          "name": "stdout",
          "output_type": "stream",
          "text": [
            "Review text: Este produto é simplesmente perfeito para presentear! A qualidade é excepcional e o design é encantador. Recebi muitos elogios ao dar este presente, e a pessoa amou! Recomendo para qualquer ocasião, pois é um presente que agrada a todos. Com certeza voltarei a comprar!\n"
          ]
        },
        {
          "name": "stderr",
          "output_type": "stream",
          "text": [
            "\rGenerating for OUTPUT-b2w_dev_reviewText_LLAMA_bm25-none_k4:  22%|██▏       | 558/2500 [06:25<18:16,  1.77it/s]"
          ]
        },
        {
          "name": "stdout",
          "output_type": "stream",
          "text": [
            "Review text: Este é realmente um produto excelente! A qualidade superou minhas expectativas e a performance é impecável. Recomendo a todos que buscam algo confiável e eficiente. Vale cada centavo!\n"
          ]
        },
        {
          "name": "stderr",
          "output_type": "stream",
          "text": [
            "\rGenerating for OUTPUT-b2w_dev_reviewText_LLAMA_bm25-none_k4:  22%|██▏       | 559/2500 [06:26<21:46,  1.49it/s]"
          ]
        },
        {
          "name": "stdout",
          "output_type": "stream",
          "text": [
            "Review text: \"Estou muito satisfeito com o faqueiro inox que comprei! A qualidade do material é excelente, e o brilho do inox realmente se destaca na mesa. Os talheres têm um peso agradável e são confortáveis de segurar. Além disso, a variedade de peças é perfeita para atender a todas as minhas necessidades durante as refeições. Recomendo a todos que buscam durabilidade e elegância!\"\n"
          ]
        },
        {
          "name": "stderr",
          "output_type": "stream",
          "text": [
            "\rGenerating for OUTPUT-b2w_dev_reviewText_LLAMA_bm25-none_k4:  22%|██▏       | 560/2500 [06:27<21:40,  1.49it/s]"
          ]
        },
        {
          "name": "stdout",
          "output_type": "stream",
          "text": [
            "Review text: Este produto superou minhas expectativas! A qualidade é excelente e o desempenho é notável. Recomendo a todos que buscam algo confiável e eficiente. Com certeza, vale cada centavo!\n"
          ]
        },
        {
          "name": "stderr",
          "output_type": "stream",
          "text": [
            "\rGenerating for OUTPUT-b2w_dev_reviewText_LLAMA_bm25-none_k4:  22%|██▏       | 561/2500 [06:27<19:46,  1.63it/s]"
          ]
        },
        {
          "name": "stdout",
          "output_type": "stream",
          "text": [
            "Review text: \"A qualidade deste produto superou minhas expectativas! Os materiais são duráveis e a performance é excelente. Definitivamente vale o investimento.\"\n"
          ]
        },
        {
          "name": "stderr",
          "output_type": "stream",
          "text": [
            "\rGenerating for OUTPUT-b2w_dev_reviewText_LLAMA_bm25-none_k4:  22%|██▏       | 562/2500 [06:28<19:48,  1.63it/s]"
          ]
        },
        {
          "name": "stdout",
          "output_type": "stream",
          "text": [
            "Review text: \"Comprei este produto recentemente e fiquei extremamente satisfeito! A qualidade é excelente e atendeu todas as minhas expectativas. Além disso, a entrega foi rápida e o atendimento ao cliente foi muito bom. Recomendo a todos que estão pensando em adquirir!\"\n"
          ]
        },
        {
          "name": "stderr",
          "output_type": "stream",
          "text": [
            "\rGenerating for OUTPUT-b2w_dev_reviewText_LLAMA_bm25-none_k4:  23%|██▎       | 563/2500 [06:29<20:18,  1.59it/s]"
          ]
        },
        {
          "name": "stdout",
          "output_type": "stream",
          "text": [
            "Review text: Este produto superou minhas expectativas! A qualidade é excelente e ele funciona perfeitamente. Estou muito satisfeito com a compra e recomendo a todos que buscam um produto confiável e eficiente. Vale cada centavo!\n"
          ]
        },
        {
          "name": "stderr",
          "output_type": "stream",
          "text": [
            "\rGenerating for OUTPUT-b2w_dev_reviewText_LLAMA_bm25-none_k4:  23%|██▎       | 564/2500 [06:30<25:11,  1.28it/s]"
          ]
        },
        {
          "name": "stdout",
          "output_type": "stream",
          "text": [
            "Review text: I recently purchased the Faqueiro Malibu and I couldn't be happier! The design is sleek and modern, making it a perfect addition to my dining table. The quality of the cutlery is impressive; it feels sturdy and well-balanced in hand. Each piece has a nice weight to it, which adds to the overall dining experience. I've used it for both casual meals and special occasions, and it has performed beautifully every time. Cleaning is a breeze as well, as they are dishwasher safe. Overall, I highly recommend the Faqueiro Malibu for anyone looking to elevate their dining experience!\n"
          ]
        },
        {
          "name": "stderr",
          "output_type": "stream",
          "text": [
            "\rGenerating for OUTPUT-b2w_dev_reviewText_LLAMA_bm25-none_k4:  23%|██▎       | 565/2500 [06:30<22:53,  1.41it/s]"
          ]
        },
        {
          "name": "stdout",
          "output_type": "stream",
          "text": [
            "Review text: \"Este produto superou minhas expectativas! A qualidade é excelente e a performance é incrível. Recomendo a todos que buscam algo confiável e eficiente. Vale cada centavo!\"\n"
          ]
        },
        {
          "name": "stderr",
          "output_type": "stream",
          "text": [
            "\rGenerating for OUTPUT-b2w_dev_reviewText_LLAMA_bm25-none_k4:  23%|██▎       | 566/2500 [06:31<21:09,  1.52it/s]"
          ]
        },
        {
          "name": "stdout",
          "output_type": "stream",
          "text": [
            "Review text: \"Estou muito satisfeito com o faqueiro! A qualidade dos talheres é excelente, e o design é elegante e moderno. Eles são confortáveis de segurar e têm um brilho que realmente se destaca na mesa. Recomendo para quem busca um conjunto durável e bonito!\"\n"
          ]
        },
        {
          "name": "stderr",
          "output_type": "stream",
          "text": [
            "\rGenerating for OUTPUT-b2w_dev_reviewText_LLAMA_bm25-none_k4:  23%|██▎       | 567/2500 [06:32<27:05,  1.19it/s]"
          ]
        },
        {
          "name": "stdout",
          "output_type": "stream",
          "text": [
            "Review text: \"I recently purchased the Faqueiro Inox 72 peças, and I couldn't be happier with my choice! The quality of the stainless steel is impressive, and the pieces have a nice weight to them, making them feel durable and premium. The elegant design adds a touch of sophistication to my dining table, and I love that it comes with a complete set for all occasions. Whether it's a casual family dinner or a formal gathering, this flatware set has everything I need. Cleaning is a breeze, as they are dishwasher safe. Overall, I highly recommend the Faqueiro Inox 72 peças for anyone looking to upgrade their cutlery!\"\n"
          ]
        },
        {
          "name": "stderr",
          "output_type": "stream",
          "text": [
            "\rGenerating for OUTPUT-b2w_dev_reviewText_LLAMA_bm25-none_k4:  23%|██▎       | 568/2500 [06:34<36:30,  1.13s/it]"
          ]
        },
        {
          "name": "stdout",
          "output_type": "stream",
          "text": [
            "Review text: I recently tried this product and I have to say, it exceeded my expectations! The quality is top-notch, and the performance is impressive. I found it easy to use and very effective for my needs. I highly recommend it to anyone looking for a reliable option. Definitely worth the investment!\n"
          ]
        },
        {
          "name": "stderr",
          "output_type": "stream",
          "text": [
            "\rGenerating for OUTPUT-b2w_dev_reviewText_LLAMA_bm25-none_k4:  23%|██▎       | 569/2500 [06:35<31:25,  1.02it/s]"
          ]
        },
        {
          "name": "stdout",
          "output_type": "stream",
          "text": [
            "Review text: Este produto superou minhas expectativas! A qualidade é excelente e o preço é muito justo. Estou muito satisfeito com a compra e recomendo a todos que buscam um bom custo-benefício. Vale cada centavo!\n"
          ]
        },
        {
          "name": "stderr",
          "output_type": "stream",
          "text": [
            "\rGenerating for OUTPUT-b2w_dev_reviewText_LLAMA_bm25-none_k4:  23%|██▎       | 570/2500 [06:35<29:12,  1.10it/s]"
          ]
        },
        {
          "name": "stdout",
          "output_type": "stream",
          "text": [
            "Review text: \"Comprei o produto com grandes expectativas, mas infelizmente não atendeu ao que eu esperava. A qualidade não é tão boa quanto anunciado e os resultados foram abaixo do esperado. Senti que poderia ter investido meu dinheiro em algo melhor. Não recomendo.\"\n"
          ]
        },
        {
          "name": "stderr",
          "output_type": "stream",
          "text": [
            "\rGenerating for OUTPUT-b2w_dev_reviewText_LLAMA_bm25-none_k4:  23%|██▎       | 571/2500 [06:37<38:09,  1.19s/it]"
          ]
        },
        {
          "name": "stdout",
          "output_type": "stream",
          "text": [
            "Review text: \"Comprei este produto e fiquei muito satisfeito! Ele é lindo e de ótima qualidade. A entrega foi super rápida, o que me deixou ainda mais feliz. Recomendo a todos que buscam algo bonito e funcional!\"\n"
          ]
        },
        {
          "name": "stderr",
          "output_type": "stream",
          "text": [
            "\rGenerating for OUTPUT-b2w_dev_reviewText_LLAMA_bm25-none_k4:  23%|██▎       | 572/2500 [06:38<33:12,  1.03s/it]"
          ]
        },
        {
          "name": "stdout",
          "output_type": "stream",
          "text": [
            "Review text: \"Comprei este produto recentemente e fiquei muito satisfeito com a relação custo-benefício. A qualidade é excelente para o preço que paguei, superando minhas expectativas. Recomendo para quem busca um bom produto sem gastar muito!\"\n"
          ]
        },
        {
          "name": "stderr",
          "output_type": "stream",
          "text": [
            "\rGenerating for OUTPUT-b2w_dev_reviewText_LLAMA_bm25-none_k4:  23%|██▎       | 573/2500 [06:38<28:30,  1.13it/s]"
          ]
        },
        {
          "name": "stdout",
          "output_type": "stream",
          "text": [
            "Review text: Este produto realmente superou minhas expectativas! A qualidade é excelente e se destaca em comparação com outros que já experimentei. Estou muito satisfeito com a compra e recomendo a todos que buscam algo durável e eficiente. Com certeza, voltarei a comprar!\n"
          ]
        },
        {
          "name": "stderr",
          "output_type": "stream",
          "text": [
            "\rGenerating for OUTPUT-b2w_dev_reviewText_LLAMA_bm25-none_k4:  23%|██▎       | 574/2500 [06:39<24:42,  1.30it/s]"
          ]
        },
        {
          "name": "stdout",
          "output_type": "stream",
          "text": [
            "Review text: \"Eu realmente gostei muito deste produto! A qualidade é excelente e atendeu todas as minhas expectativas. Recomendo a todos que estão em busca de algo confiável e eficiente. Com certeza vou comprar novamente!\"\n"
          ]
        },
        {
          "name": "stderr",
          "output_type": "stream",
          "text": [
            "\rGenerating for OUTPUT-b2w_dev_reviewText_LLAMA_bm25-none_k4:  23%|██▎       | 575/2500 [06:39<22:14,  1.44it/s]"
          ]
        },
        {
          "name": "stdout",
          "output_type": "stream",
          "text": [
            "Review text: Este produto oferece um excelente custo-benefício. A qualidade é surpreendente pelo preço pago, e atende todas as minhas necessidades. Recomendo para quem busca um bom equilíbrio entre preço e desempenho.\n"
          ]
        },
        {
          "name": "stderr",
          "output_type": "stream",
          "text": [
            "\rGenerating for OUTPUT-b2w_dev_reviewText_LLAMA_bm25-none_k4:  23%|██▎       | 576/2500 [06:40<21:14,  1.51it/s]"
          ]
        },
        {
          "name": "stdout",
          "output_type": "stream",
          "text": [
            "Review text: \"Adorei este produto! A qualidade é excelente e superou minhas expectativas. Recomendo a todos que estão em dúvida, vale cada centavo!\"\n"
          ]
        },
        {
          "name": "stderr",
          "output_type": "stream",
          "text": [
            "\rGenerating for OUTPUT-b2w_dev_reviewText_LLAMA_bm25-none_k4:  23%|██▎       | 577/2500 [06:41<22:00,  1.46it/s]"
          ]
        },
        {
          "name": "stdout",
          "output_type": "stream",
          "text": [
            "Review text: Este produto superou minhas expectativas! A qualidade é excelente e ele funciona perfeitamente. Estou muito satisfeito com a compra e recomendo a todos que buscam algo eficaz e confiável. Vale cada centavo!\n"
          ]
        },
        {
          "name": "stderr",
          "output_type": "stream",
          "text": [
            "\rGenerating for OUTPUT-b2w_dev_reviewText_LLAMA_bm25-none_k4:  23%|██▎       | 578/2500 [06:42<22:24,  1.43it/s]"
          ]
        },
        {
          "name": "stdout",
          "output_type": "stream",
          "text": [
            "Review text: Este produto superou minhas expectativas! A qualidade é evidente desde o primeiro uso. Os materiais são duráveis e o desempenho é excelente. Recomendo a todos que buscam um item confiável e bem feito. Vale cada centavo!\n"
          ]
        },
        {
          "name": "stderr",
          "output_type": "stream",
          "text": [
            "\rGenerating for OUTPUT-b2w_dev_reviewText_LLAMA_bm25-none_k4:  23%|██▎       | 579/2500 [06:42<20:10,  1.59it/s]"
          ]
        },
        {
          "name": "stdout",
          "output_type": "stream",
          "text": [
            "Review text: Este produto superou minhas expectativas! A qualidade é excelente e ele funciona perfeitamente. Recomendo a todos que buscam algo eficiente e durável. Vale cada centavo!\n"
          ]
        },
        {
          "name": "stderr",
          "output_type": "stream",
          "text": [
            "\rGenerating for OUTPUT-b2w_dev_reviewText_LLAMA_bm25-none_k4:  23%|██▎       | 580/2500 [06:43<19:59,  1.60it/s]"
          ]
        },
        {
          "name": "stdout",
          "output_type": "stream",
          "text": [
            "Review text: Este produto superou minhas expectativas! A qualidade é excelente e o desempenho é incrível. Com certeza, vale cada centavo. Recomendo a todos que buscam um produto confiável e eficiente. Estou muito satisfeito!\n"
          ]
        },
        {
          "name": "stderr",
          "output_type": "stream",
          "text": [
            "\rGenerating for OUTPUT-b2w_dev_reviewText_LLAMA_bm25-none_k4:  23%|██▎       | 581/2500 [06:43<20:21,  1.57it/s]"
          ]
        },
        {
          "name": "stdout",
          "output_type": "stream",
          "text": [
            "Review text: Este produto superou minhas expectativas! A qualidade é excelente e o desempenho é notável. Recomendo para quem busca um item confiável e eficiente. Vale cada centavo!\n"
          ]
        },
        {
          "name": "stderr",
          "output_type": "stream",
          "text": [
            "\rGenerating for OUTPUT-b2w_dev_reviewText_LLAMA_bm25-none_k4:  23%|██▎       | 582/2500 [06:44<21:51,  1.46it/s]"
          ]
        },
        {
          "name": "stdout",
          "output_type": "stream",
          "text": [
            "Review text: Este produto não atendeu minhas expectativas. A qualidade é inferior e o desempenho deixou muito a desejar. Se você encontrar outras opções ou revendedores, definitivamente considere-as antes de decidir por este. Não vale a pena!\n"
          ]
        },
        {
          "name": "stderr",
          "output_type": "stream",
          "text": [
            "\rGenerating for OUTPUT-b2w_dev_reviewText_LLAMA_bm25-none_k4:  23%|██▎       | 583/2500 [06:45<19:51,  1.61it/s]"
          ]
        },
        {
          "name": "stdout",
          "output_type": "stream",
          "text": [
            "Review text: Este produto superou minhas expectativas! A qualidade é excelente e ele funciona perfeitamente. Recomendo a todos que buscam um item confiável e eficiente. Vale cada centavo!\n"
          ]
        },
        {
          "name": "stderr",
          "output_type": "stream",
          "text": [
            "\rGenerating for OUTPUT-b2w_dev_reviewText_LLAMA_bm25-none_k4:  23%|██▎       | 584/2500 [06:45<19:06,  1.67it/s]"
          ]
        },
        {
          "name": "stdout",
          "output_type": "stream",
          "text": [
            "Review text: O produto atendeu todas as minhas expectativas e chegou exatamente como solicitado. A qualidade é excelente e não tive nenhum problema durante o processo de compra. Recomendo a todos que buscam um item confiável e eficiente!\n"
          ]
        },
        {
          "name": "stderr",
          "output_type": "stream",
          "text": [
            "\rGenerating for OUTPUT-b2w_dev_reviewText_LLAMA_bm25-none_k4:  23%|██▎       | 585/2500 [06:46<19:09,  1.67it/s]"
          ]
        },
        {
          "name": "stdout",
          "output_type": "stream",
          "text": [
            "Review text: Este produto superou todas as minhas expectativas! A qualidade é excepcional e o desempenho é impecável. Recomendo a todos que buscam algo realmente eficaz e durável. Vale cada centavo!\n"
          ]
        },
        {
          "name": "stderr",
          "output_type": "stream",
          "text": [
            "\rGenerating for OUTPUT-b2w_dev_reviewText_LLAMA_bm25-none_k4:  23%|██▎       | 586/2500 [06:46<19:15,  1.66it/s]"
          ]
        },
        {
          "name": "stdout",
          "output_type": "stream",
          "text": [
            "Review text: Estou extremamente satisfeito com meu iPhone! A qualidade da câmera é impressionante, as funcionalidades são intuitivas e a performance é super rápida. Além disso, o design é elegante e moderno. Recomendo a todos que buscam um smartphone confiável e de alta qualidade!\n"
          ]
        },
        {
          "name": "stderr",
          "output_type": "stream",
          "text": [
            "\rGenerating for OUTPUT-b2w_dev_reviewText_LLAMA_bm25-none_k4:  23%|██▎       | 587/2500 [06:47<18:07,  1.76it/s]"
          ]
        },
        {
          "name": "stdout",
          "output_type": "stream",
          "text": [
            "Review text: Este produto superou todas as minhas expectativas! A qualidade é excepcional e ele cumpre perfeitamente o que promete. Recomendo a todos que buscam um item confiável e eficiente. Vale cada centavo!\n"
          ]
        },
        {
          "name": "stderr",
          "output_type": "stream",
          "text": [
            "\rGenerating for OUTPUT-b2w_dev_reviewText_LLAMA_bm25-none_k4:  24%|██▎       | 588/2500 [06:47<18:39,  1.71it/s]"
          ]
        },
        {
          "name": "stdout",
          "output_type": "stream",
          "text": [
            "Review text: \"Estou muito satisfeito com a qualidade e a funcionalidade do produto. Atendeu todas as minhas expectativas e superou algumas delas. Recomendo a todos que estão em busca de algo eficiente e confiável!\"\n"
          ]
        },
        {
          "name": "stderr",
          "output_type": "stream",
          "text": [
            "\rGenerating for OUTPUT-b2w_dev_reviewText_LLAMA_bm25-none_k4:  24%|██▎       | 589/2500 [06:48<18:24,  1.73it/s]"
          ]
        },
        {
          "name": "stdout",
          "output_type": "stream",
          "text": [
            "Review text: Este produto é extremamente prático e funcional! Facilita muito o meu dia a dia, e a qualidade é excelente. Recomendo para quem busca eficiência e praticidade.\n"
          ]
        },
        {
          "name": "stderr",
          "output_type": "stream",
          "text": [
            "\rGenerating for OUTPUT-b2w_dev_reviewText_LLAMA_bm25-none_k4:  24%|██▎       | 590/2500 [06:49<18:56,  1.68it/s]"
          ]
        },
        {
          "name": "stdout",
          "output_type": "stream",
          "text": [
            "Review text: \"Adorei este produto! Atendeu todas as minhas expectativas e superou algumas delas. A qualidade é excelente e o desempenho é impecável. Com certeza, recomendo a todos que estão em dúvida. Vale cada centavo!\"\n"
          ]
        },
        {
          "name": "stderr",
          "output_type": "stream",
          "text": [
            "\rGenerating for OUTPUT-b2w_dev_reviewText_LLAMA_bm25-none_k4:  24%|██▎       | 591/2500 [06:49<18:42,  1.70it/s]"
          ]
        },
        {
          "name": "stdout",
          "output_type": "stream",
          "text": [
            "Review text: Estou muito satisfeito com o produto. Ele atendeu todas as minhas expectativas e é de ótima qualidade. Recomendo a todos que estão pensando em adquiri-lo!\n"
          ]
        },
        {
          "name": "stderr",
          "output_type": "stream",
          "text": [
            "\rGenerating for OUTPUT-b2w_dev_reviewText_LLAMA_bm25-none_k4:  24%|██▎       | 592/2500 [06:50<20:15,  1.57it/s]"
          ]
        },
        {
          "name": "stdout",
          "output_type": "stream",
          "text": [
            "Review text: \"Infelizmente, o Penico não atendeu às minhas expectativas. O design é desconfortável e não proporciona o suporte necessário. Além disso, a qualidade do material deixa a desejar, tornando a experiência ainda mais desagradável. Não recomendaria para quem busca conforto e praticidade.\"\n"
          ]
        },
        {
          "name": "stderr",
          "output_type": "stream",
          "text": [
            "\rGenerating for OUTPUT-b2w_dev_reviewText_LLAMA_bm25-none_k4:  24%|██▎       | 593/2500 [06:51<19:17,  1.65it/s]"
          ]
        },
        {
          "name": "stdout",
          "output_type": "stream",
          "text": [
            "Review text: Este produto superou minhas expectativas! A qualidade é excelente e ele funciona perfeitamente. Recomendo a todos que estão em busca de algo confiável e eficiente. Vale cada centavo!\n"
          ]
        },
        {
          "name": "stderr",
          "output_type": "stream",
          "text": [
            "\rGenerating for OUTPUT-b2w_dev_reviewText_LLAMA_bm25-none_k4:  24%|██▍       | 594/2500 [06:51<20:21,  1.56it/s]"
          ]
        },
        {
          "name": "stdout",
          "output_type": "stream",
          "text": [
            "Review text: Este jogo é simplesmente incrível! Os gráficos são impressionantes e a jogabilidade é super fluida. Cada nível traz novos desafios que mantêm a experiência sempre emocionante. Além disso, a trilha sonora é perfeita e complementa a atmosfera do jogo. Definitivamente, recomendo para quem busca diversão e qualidade. Ótimo game!\n"
          ]
        },
        {
          "name": "stderr",
          "output_type": "stream",
          "text": [
            "\rGenerating for OUTPUT-b2w_dev_reviewText_LLAMA_bm25-none_k4:  24%|██▍       | 595/2500 [06:55<49:24,  1.56s/it]"
          ]
        },
        {
          "name": "stdout",
          "output_type": "stream",
          "text": [
            "Review text: I recently purchased the Falsa smart TV, and I couldn't be happier with my choice! The picture quality is stunning, with vibrant colors and sharp details that truly enhance my viewing experience. The user interface is intuitive, making it easy to navigate through apps and settings. Streaming my favorite shows has never been smoother, and the sound quality is impressive for a TV of this size. I also appreciate the sleek design that fits perfectly in my living room. Overall, the Falsa smart TV offers excellent value for money and has quickly become the centerpiece of my entertainment setup! Highly recommended!\n"
          ]
        },
        {
          "name": "stderr",
          "output_type": "stream",
          "text": [
            "\rGenerating for OUTPUT-b2w_dev_reviewText_LLAMA_bm25-none_k4:  24%|██▍       | 596/2500 [06:56<45:02,  1.42s/it]"
          ]
        },
        {
          "name": "stdout",
          "output_type": "stream",
          "text": [
            "Review text: \"Gostei sim, mas na loja de App da TV, quase não se acha os aplicativos que eu queria. A navegação poderia ser melhorada para facilitar a busca. No geral, a experiência é boa, mas a disponibilidade de apps é um ponto a ser melhorado.\"\n"
          ]
        },
        {
          "name": "stderr",
          "output_type": "stream",
          "text": [
            "\rGenerating for OUTPUT-b2w_dev_reviewText_LLAMA_bm25-none_k4:  24%|██▍       | 597/2500 [06:57<37:42,  1.19s/it]"
          ]
        },
        {
          "name": "stdout",
          "output_type": "stream",
          "text": [
            "Review text: Este produto superou todas as minhas expectativas! A qualidade é excepcional e ele funciona perfeitamente para o que eu precisava. Recomendo a todos que buscam um item confiável e eficiente. Estou muito satisfeito com a minha compra!\n"
          ]
        },
        {
          "name": "stderr",
          "output_type": "stream",
          "text": [
            "\rGenerating for OUTPUT-b2w_dev_reviewText_LLAMA_bm25-none_k4:  24%|██▍       | 598/2500 [06:57<32:12,  1.02s/it]"
          ]
        },
        {
          "name": "stdout",
          "output_type": "stream",
          "text": [
            "Review text: Este producto no cumple con las expectativas de ser \"smart\". La funcionalidad es limitada y no ofrece las características que prometía. La conexión es inestable y la interfaz es confusa. Definitivamente, no lo recomendaría si buscas algo realmente inteligente.\n"
          ]
        },
        {
          "name": "stderr",
          "output_type": "stream",
          "text": [
            "\rGenerating for OUTPUT-b2w_dev_reviewText_LLAMA_bm25-none_k4:  24%|██▍       | 599/2500 [06:58<28:43,  1.10it/s]"
          ]
        },
        {
          "name": "stdout",
          "output_type": "stream",
          "text": [
            "Review text: Esta é a melhor compra que fiz recentemente! A qualidade é excepcional e atendeu todas as minhas expectativas. O desempenho é impecável e o design é lindo. Recomendo a todos que buscam um produto que realmente faça a diferença. Estou completamente satisfeita!\n"
          ]
        },
        {
          "name": "stderr",
          "output_type": "stream",
          "text": [
            "\rGenerating for OUTPUT-b2w_dev_reviewText_LLAMA_bm25-none_k4:  24%|██▍       | 600/2500 [06:59<27:17,  1.16it/s]"
          ]
        },
        {
          "name": "stdout",
          "output_type": "stream",
          "text": [
            "Review text: \"I had high hopes for this product, but it fell short in almost every aspect. The quality was disappointing, and it didn't perform as advertised. I expected more for the price I paid. Overall, it was a frustrating experience, and I wouldn't recommend it to others.\"\n"
          ]
        },
        {
          "name": "stderr",
          "output_type": "stream",
          "text": [
            "\rGenerating for OUTPUT-b2w_dev_reviewText_LLAMA_bm25-none_k4:  24%|██▍       | 601/2500 [07:00<35:25,  1.12s/it]"
          ]
        },
        {
          "name": "stdout",
          "output_type": "stream",
          "text": [
            "Review text: \"This product exceeded my expectations! The quality is outstanding, and it performs exactly as advertised. I’ve been using it daily and have noticed a significant improvement. Highly recommend it to anyone looking for something reliable and effective!\"\n"
          ]
        },
        {
          "name": "stderr",
          "output_type": "stream",
          "text": [
            "\rGenerating for OUTPUT-b2w_dev_reviewText_LLAMA_bm25-none_k4:  24%|██▍       | 602/2500 [07:01<33:05,  1.05s/it]"
          ]
        },
        {
          "name": "stdout",
          "output_type": "stream",
          "text": [
            "Review text: \"Eu estava um pouco em dúvida se deveria comprar este produto, mas após usá-lo, posso dizer que superou minhas expectativas. A qualidade é excelente e realmente faz a diferença no meu dia a dia. Recomendo!\"\n"
          ]
        },
        {
          "name": "stderr",
          "output_type": "stream",
          "text": [
            "\rGenerating for OUTPUT-b2w_dev_reviewText_LLAMA_bm25-none_k4:  24%|██▍       | 603/2500 [07:02<31:17,  1.01it/s]"
          ]
        },
        {
          "name": "stdout",
          "output_type": "stream",
          "text": [
            "Review text: \"Comprei este produto recentemente e fiquei muito satisfeito com a qualidade. Ele atendeu todas as minhas expectativas e funcionou perfeitamente. A entrega foi rápida e o atendimento ao cliente foi excelente. Recomendo a todos que estão em dúvida, vale a pena!\"\n"
          ]
        },
        {
          "name": "stderr",
          "output_type": "stream",
          "text": [
            "\rGenerating for OUTPUT-b2w_dev_reviewText_LLAMA_bm25-none_k4:  24%|██▍       | 604/2500 [07:03<26:32,  1.19it/s]"
          ]
        },
        {
          "name": "stdout",
          "output_type": "stream",
          "text": [
            "Review text: Este produto superou minhas expectativas! A qualidade é excelente e o desempenho é incrível. Recomendo a todos que buscam algo confiável e eficaz. Vale cada centavo!\n"
          ]
        },
        {
          "name": "stderr",
          "output_type": "stream",
          "text": [
            "\rGenerating for OUTPUT-b2w_dev_reviewText_LLAMA_bm25-none_k4:  24%|██▍       | 605/2500 [07:03<25:10,  1.25it/s]"
          ]
        },
        {
          "name": "stdout",
          "output_type": "stream",
          "text": [
            "Review text: \"Infelizmente, o carregador que recebi veio sem funcionar. Tentei várias tomadas e cabos, mas não houve resposta. Fiquei muito desapontado, pois esperava um produto de qualidade. Espero que a empresa resolva essa situação.\"\n"
          ]
        },
        {
          "name": "stderr",
          "output_type": "stream",
          "text": [
            "\rGenerating for OUTPUT-b2w_dev_reviewText_LLAMA_bm25-none_k4:  24%|██▍       | 606/2500 [07:04<22:08,  1.43it/s]"
          ]
        },
        {
          "name": "stdout",
          "output_type": "stream",
          "text": [
            "Review text: Este produto superou minhas expectativas! A qualidade é excelente e ele funciona perfeitamente. Estou muito satisfeito com a compra e recomendo a todos. Vale cada centavo!\n"
          ]
        },
        {
          "name": "stderr",
          "output_type": "stream",
          "text": [
            "\rGenerating for OUTPUT-b2w_dev_reviewText_LLAMA_bm25-none_k4:  24%|██▍       | 607/2500 [07:05<23:45,  1.33it/s]"
          ]
        },
        {
          "name": "stdout",
          "output_type": "stream",
          "text": [
            "Review text: Este tablet superou todas as minhas expectativas! A tela é incrível, com cores vibrantes e uma ótima resolução. A performance é rápida e fluida, ideal para jogos e streaming. A bateria dura muito tempo, o que é perfeito para quem está sempre em movimento. Além disso, o design é elegante e leve, facilitando o transporte. Recomendo a todos que buscam um dispositivo versátil e de alta qualidade!\n"
          ]
        },
        {
          "name": "stderr",
          "output_type": "stream",
          "text": [
            "\rGenerating for OUTPUT-b2w_dev_reviewText_LLAMA_bm25-none_k4:  24%|██▍       | 608/2500 [07:06<27:47,  1.13it/s]"
          ]
        },
        {
          "name": "stdout",
          "output_type": "stream",
          "text": [
            "Review text: \"Comprei este produto recentemente e fiquei muito satisfeito com a qualidade e a performance. Atendeu todas as minhas expectativas e, sem dúvida, recomendo para quem está em busca de algo confiável e eficiente. Vale cada centavo!\"\n"
          ]
        },
        {
          "name": "stderr",
          "output_type": "stream",
          "text": [
            "\rGenerating for OUTPUT-b2w_dev_reviewText_LLAMA_bm25-none_k4:  24%|██▍       | 609/2500 [07:06<24:29,  1.29it/s]"
          ]
        },
        {
          "name": "stdout",
          "output_type": "stream",
          "text": [
            "Review text: \"Comprei este produto para minha filha e ela simplesmente adorou! A qualidade é excelente e a cor é vibrante. Além disso, é super fácil de usar. Recomendo para todos os pais que querem agradar seus filhos!\"\n"
          ]
        },
        {
          "name": "stderr",
          "output_type": "stream",
          "text": [
            "\rGenerating for OUTPUT-b2w_dev_reviewText_LLAMA_bm25-none_k4:  24%|██▍       | 610/2500 [07:07<23:02,  1.37it/s]"
          ]
        },
        {
          "name": "stdout",
          "output_type": "stream",
          "text": [
            "Review text: \"Comprei este produto e posso afirmar que foi a melhor escolha que fiz! A qualidade é excepcional e atendeu todas as minhas expectativas. Desde o primeiro uso, percebi a diferença e não me arrependo nem um pouco. Recomendo a todos que estão em dúvida!\"\n"
          ]
        },
        {
          "name": "stderr",
          "output_type": "stream",
          "text": [
            "\rGenerating for OUTPUT-b2w_dev_reviewText_LLAMA_bm25-none_k4:  24%|██▍       | 611/2500 [07:08<21:31,  1.46it/s]"
          ]
        },
        {
          "name": "stdout",
          "output_type": "stream",
          "text": [
            "Review text: \"A experiência de comprar na Américas foi incrível! A variedade de produtos é impressionante e os preços são super acessíveis. O atendimento ao cliente foi excepcional, sempre prontos para ajudar. Com certeza voltarei para explorar mais e fazer novas compras!\"\n"
          ]
        },
        {
          "name": "stderr",
          "output_type": "stream",
          "text": [
            "\rGenerating for OUTPUT-b2w_dev_reviewText_LLAMA_bm25-none_k4:  24%|██▍       | 612/2500 [07:08<20:19,  1.55it/s]"
          ]
        },
        {
          "name": "stdout",
          "output_type": "stream",
          "text": [
            "Review text: Estou muito satisfeito com o produto! Ele atendeu todas as minhas expectativas e a qualidade é excelente. Recomendo a todos que estão pensando em comprar. Vale a pena!\n"
          ]
        },
        {
          "name": "stderr",
          "output_type": "stream",
          "text": [
            "\rGenerating for OUTPUT-b2w_dev_reviewText_LLAMA_bm25-none_k4:  25%|██▍       | 613/2500 [07:09<21:38,  1.45it/s]"
          ]
        },
        {
          "name": "stdout",
          "output_type": "stream",
          "text": [
            "Review text: \"Adquiri este produto recentemente e fiquei muito satisfeito com a qualidade em relação ao preço. Ele atende todas as minhas necessidades e superou minhas expectativas. Com certeza, é uma excelente escolha para quem busca um bom custo-benefício. Recomendo!\"\n"
          ]
        },
        {
          "name": "stderr",
          "output_type": "stream",
          "text": [
            "\rGenerating for OUTPUT-b2w_dev_reviewText_LLAMA_bm25-none_k4:  25%|██▍       | 614/2500 [07:10<21:44,  1.45it/s]"
          ]
        },
        {
          "name": "stdout",
          "output_type": "stream",
          "text": [
            "Review text: Estou extremamente satisfeito com o produto! A qualidade é excelente e atendeu todas as minhas expectativas. Recomendo a todos que buscam algo confiável e eficiente. Com certeza, voltarei a comprar!\n"
          ]
        },
        {
          "name": "stderr",
          "output_type": "stream",
          "text": [
            "\rGenerating for OUTPUT-b2w_dev_reviewText_LLAMA_bm25-none_k4:  25%|██▍       | 615/2500 [07:10<18:15,  1.72it/s]"
          ]
        },
        {
          "name": "stdout",
          "output_type": "stream",
          "text": [
            "Review text: Adorei o produto! Atendeu todas as minhas expectativas e a qualidade é excelente. Com certeza recomendo!\n"
          ]
        },
        {
          "name": "stderr",
          "output_type": "stream",
          "text": [
            "\rGenerating for OUTPUT-b2w_dev_reviewText_LLAMA_bm25-none_k4:  25%|██▍       | 616/2500 [07:11<18:47,  1.67it/s]"
          ]
        },
        {
          "name": "stdout",
          "output_type": "stream",
          "text": [
            "Review text: \"Fiquei muito satisfeito com a compra! O produto é exatamente como descrito e chegou em tempo recorde. A embalagem estava impecável e a qualidade superou minhas expectativas. Recomendo a todos que buscam eficiência e beleza!\"\n"
          ]
        },
        {
          "name": "stderr",
          "output_type": "stream",
          "text": [
            "\rGenerating for OUTPUT-b2w_dev_reviewText_LLAMA_bm25-none_k4:  25%|██▍       | 617/2500 [07:11<19:02,  1.65it/s]"
          ]
        },
        {
          "name": "stdout",
          "output_type": "stream",
          "text": [
            "Review text: Este producto realmente cumple con lo que promete. Desde que lo empecé a usar, he notado una mejora significativa en su rendimiento. La calidad es excelente y es muy fácil de usar. Sin duda, lo recomendaría a otros. ¡Funciona de maravilla!\n"
          ]
        },
        {
          "name": "stderr",
          "output_type": "stream",
          "text": [
            "\rGenerating for OUTPUT-b2w_dev_reviewText_LLAMA_bm25-none_k4:  25%|██▍       | 618/2500 [07:12<19:44,  1.59it/s]"
          ]
        },
        {
          "name": "stdout",
          "output_type": "stream",
          "text": [
            "Review text: \"A great product that truly lives up to its promise! I was impressed by its effectiveness and quality. It exceeded my expectations and has become a staple in my routine. Highly recommend!\"\n"
          ]
        },
        {
          "name": "stderr",
          "output_type": "stream",
          "text": [
            "\rGenerating for OUTPUT-b2w_dev_reviewText_LLAMA_bm25-none_k4:  25%|██▍       | 619/2500 [07:13<20:39,  1.52it/s]"
          ]
        },
        {
          "name": "stdout",
          "output_type": "stream",
          "text": [
            "Review text: \"I've been using Frontline for my pets for years, and it never disappoints! It effectively keeps fleas and ticks at bay, and I love how easy it is to apply. My dogs have had no adverse reactions, and I appreciate the long-lasting protection. Highly recommend it for any pet owner looking for a reliable solution!\"\n"
          ]
        },
        {
          "name": "stderr",
          "output_type": "stream",
          "text": [
            "\rGenerating for OUTPUT-b2w_dev_reviewText_LLAMA_bm25-none_k4:  25%|██▍       | 620/2500 [07:13<19:19,  1.62it/s]"
          ]
        },
        {
          "name": "stdout",
          "output_type": "stream",
          "text": [
            "Review text: Infelizmente, minha experiência com este produto foi bastante negativa. A qualidade não atendeu às minhas expectativas e, além disso, apresentou problemas logo nas primeiras utilizações. Não recomendo.\n"
          ]
        },
        {
          "name": "stderr",
          "output_type": "stream",
          "text": [
            "\rGenerating for OUTPUT-b2w_dev_reviewText_LLAMA_bm25-none_k4:  25%|██▍       | 621/2500 [07:14<18:14,  1.72it/s]"
          ]
        },
        {
          "name": "stdout",
          "output_type": "stream",
          "text": [
            "Review text: This product is absolutely fantastic! It exceeded my expectations in every way. The quality is top-notch, and it performs flawlessly. I couldn't be happier with my purchase. Highly recommend it to anyone looking for something reliable and effective!\n"
          ]
        },
        {
          "name": "stderr",
          "output_type": "stream",
          "text": [
            "\rGenerating for OUTPUT-b2w_dev_reviewText_LLAMA_bm25-none_k4:  25%|██▍       | 622/2500 [07:14<18:06,  1.73it/s]"
          ]
        },
        {
          "name": "stdout",
          "output_type": "stream",
          "text": [
            "Review text: Este produto superou minhas expectativas! A qualidade é excelente e ele funciona perfeitamente. Recomendo para quem busca um bom desempenho e durabilidade. Muito satisfeito com a compra!\n"
          ]
        },
        {
          "name": "stderr",
          "output_type": "stream",
          "text": [
            "\rGenerating for OUTPUT-b2w_dev_reviewText_LLAMA_bm25-none_k4:  25%|██▍       | 623/2500 [07:15<18:31,  1.69it/s]"
          ]
        },
        {
          "name": "stdout",
          "output_type": "stream",
          "text": [
            "Review text: Este produto superou minhas expectativas! A qualidade é excelente e ele funciona perfeitamente. Recomendo a todos que buscam algo eficaz e durável. Vale cada centavo!\n"
          ]
        },
        {
          "name": "stderr",
          "output_type": "stream",
          "text": [
            "\rGenerating for OUTPUT-b2w_dev_reviewText_LLAMA_bm25-none_k4:  25%|██▍       | 624/2500 [07:16<19:25,  1.61it/s]"
          ]
        },
        {
          "name": "stdout",
          "output_type": "stream",
          "text": [
            "Review text: Este jogo superou todas as minhas expectativas! A jogabilidade é incrível, os gráficos são deslumbrantes e a história é envolvente do começo ao fim. Cada missão traz novos desafios que me mantiveram grudado na tela. Sem dúvida, é uma experiência que todo gamer deve ter. Recomendo a todos!\n"
          ]
        },
        {
          "name": "stderr",
          "output_type": "stream",
          "text": [
            "\rGenerating for OUTPUT-b2w_dev_reviewText_LLAMA_bm25-none_k4:  25%|██▌       | 625/2500 [07:16<20:54,  1.49it/s]"
          ]
        },
        {
          "name": "stdout",
          "output_type": "stream",
          "text": [
            "Review text: A interação social proporcionada por este produto é excepcional. Ele facilita a conexão entre pessoas de maneira intuitiva e envolvente. As funcionalidades são bem pensadas e realmente promovem um ambiente colaborativo. Senti que as conversas fluíram naturalmente, e a plataforma tornou-se um espaço agradável para compartilhar ideias e experiências. Recomendo para quem busca fortalecer laços e criar novas amizades!\n"
          ]
        },
        {
          "name": "stderr",
          "output_type": "stream",
          "text": [
            "\rGenerating for OUTPUT-b2w_dev_reviewText_LLAMA_bm25-none_k4:  25%|██▌       | 626/2500 [07:17<21:36,  1.45it/s]"
          ]
        },
        {
          "name": "stdout",
          "output_type": "stream",
          "text": [
            "Review text: \"Já conhecia o produto e sempre fui fã da qualidade e eficácia. Decidi comprar para dar de presente para uma amiga, pois sei que ela também vai adorar. A embalagem é linda e o produto é perfeito para quem busca algo especial. Tenho certeza de que ela ficará muito feliz com essa escolha!\"\n"
          ]
        },
        {
          "name": "stderr",
          "output_type": "stream",
          "text": [
            "\rGenerating for OUTPUT-b2w_dev_reviewText_LLAMA_bm25-none_k4:  25%|██▌       | 627/2500 [07:18<20:04,  1.56it/s]"
          ]
        },
        {
          "name": "stdout",
          "output_type": "stream",
          "text": [
            "Review text: \"Comprei este produto para minha sobrinha e ela simplesmente amou! A qualidade é excelente e as cores são vibrantes. Ela ficou tão feliz que não parava de brincar. Recomendo para quem quer fazer uma criança sorrir!\"\n"
          ]
        },
        {
          "name": "stderr",
          "output_type": "stream",
          "text": [
            "\rGenerating for OUTPUT-b2w_dev_reviewText_LLAMA_bm25-none_k4:  25%|██▌       | 628/2500 [07:18<19:51,  1.57it/s]"
          ]
        },
        {
          "name": "stdout",
          "output_type": "stream",
          "text": [
            "Review text: \"This product truly exceeded my expectations! The quality is outstanding, and it performs flawlessly. I was particularly impressed with the attention to detail and the user-friendly design. It's clear that a lot of thought went into creating this. Highly recommend it to anyone looking for reliability and excellence!\"\n"
          ]
        },
        {
          "name": "stderr",
          "output_type": "stream",
          "text": [
            "\rGenerating for OUTPUT-b2w_dev_reviewText_LLAMA_bm25-none_k4:  25%|██▌       | 629/2500 [07:19<20:55,  1.49it/s]"
          ]
        },
        {
          "name": "stdout",
          "output_type": "stream",
          "text": [
            "Review text: Este produto é realmente prático e fácil de usar. Desde a primeira vez que o utilizei, percebi como suas funcionalidades são intuitivas. Não precisei de muito tempo para me familiarizar com ele, e isso facilitou bastante meu dia a dia. Recomendo para quem busca algo eficiente e descomplicado!\n"
          ]
        },
        {
          "name": "stderr",
          "output_type": "stream",
          "text": [
            "\rGenerating for OUTPUT-b2w_dev_reviewText_LLAMA_bm25-none_k4:  25%|██▌       | 630/2500 [07:19<19:36,  1.59it/s]"
          ]
        },
        {
          "name": "stdout",
          "output_type": "stream",
          "text": [
            "Review text: Este produto oferece uma excelente relação entre qualidade e preço. Fiquei muito satisfeito com a performance e durabilidade, superando minhas expectativas. Recomendo para quem busca um bom investimento sem gastar muito!\n"
          ]
        },
        {
          "name": "stderr",
          "output_type": "stream",
          "text": [
            "\rGenerating for OUTPUT-b2w_dev_reviewText_LLAMA_bm25-none_k4:  25%|██▌       | 631/2500 [07:20<19:14,  1.62it/s]"
          ]
        },
        {
          "name": "stdout",
          "output_type": "stream",
          "text": [
            "Review text: Este produto superou minhas expectativas! A qualidade é excelente e o desempenho é impecável. Recomendo a todos que buscam algo confiável e eficiente. Vale cada centavo!\n"
          ]
        },
        {
          "name": "stderr",
          "output_type": "stream",
          "text": [
            "\rGenerating for OUTPUT-b2w_dev_reviewText_LLAMA_bm25-none_k4:  25%|██▌       | 632/2500 [07:21<21:44,  1.43it/s]"
          ]
        },
        {
          "name": "stdout",
          "output_type": "stream",
          "text": [
            "Review text: O produto é de boa qualidade e atende às expectativas em termos de desempenho. No entanto, a propaganda que foi feita não corresponde totalmente à realidade. Algumas características que foram destacadas na publicidade não se mostraram tão eficazes na prática. É uma pena, pois o produto tem potencial, mas a desinformação pode frustrar os consumidores.\n"
          ]
        },
        {
          "name": "stderr",
          "output_type": "stream",
          "text": [
            "\rGenerating for OUTPUT-b2w_dev_reviewText_LLAMA_bm25-none_k4:  25%|██▌       | 633/2500 [07:22<21:34,  1.44it/s]"
          ]
        },
        {
          "name": "stdout",
          "output_type": "stream",
          "text": [
            "Review text: A toalha é realmente de boa qualidade. O material é macio e absorve bem a água, proporcionando uma sensação agradável após o banho. Além disso, a durabilidade parece excelente, mesmo após várias lavagens. Recomendo para quem busca conforto e eficiência!\n"
          ]
        },
        {
          "name": "stderr",
          "output_type": "stream",
          "text": [
            "\rGenerating for OUTPUT-b2w_dev_reviewText_LLAMA_bm25-none_k4:  25%|██▌       | 634/2500 [07:22<21:17,  1.46it/s]"
          ]
        },
        {
          "name": "stdout",
          "output_type": "stream",
          "text": [
            "Review text: \"Este compensador ha superado mis expectativas. La calidad de construcción es excelente y se nota que está diseñado para durar. Su rendimiento es excepcional, proporcionando una estabilidad que no había encontrado en otros productos similares. Definitivamente lo recomendaría a cualquiera que busque mejorar su equipo. ¡Gran compra!\"\n"
          ]
        },
        {
          "name": "stderr",
          "output_type": "stream",
          "text": [
            "\rGenerating for OUTPUT-b2w_dev_reviewText_LLAMA_bm25-none_k4:  25%|██▌       | 635/2500 [07:23<19:54,  1.56it/s]"
          ]
        },
        {
          "name": "stdout",
          "output_type": "stream",
          "text": [
            "Review text: \"This product is absolutely amazing! The quality is top-notch and it exceeded my expectations in every way. I can't believe how well it performs, and the design is sleek and modern. Highly recommend it to anyone looking for something reliable and effective!\"\n"
          ]
        },
        {
          "name": "stderr",
          "output_type": "stream",
          "text": [
            "\rGenerating for OUTPUT-b2w_dev_reviewText_LLAMA_bm25-none_k4:  25%|██▌       | 636/2500 [07:23<19:32,  1.59it/s]"
          ]
        },
        {
          "name": "stdout",
          "output_type": "stream",
          "text": [
            "Review text: Este produto superou minhas expectativas! A qualidade é excelente e ele funciona perfeitamente. Recomendo a todos que buscam algo durável e eficiente. Vale cada centavo!\n"
          ]
        },
        {
          "name": "stderr",
          "output_type": "stream",
          "text": [
            "\rGenerating for OUTPUT-b2w_dev_reviewText_LLAMA_bm25-none_k4:  25%|██▌       | 637/2500 [07:24<21:22,  1.45it/s]"
          ]
        },
        {
          "name": "stdout",
          "output_type": "stream",
          "text": [
            "Review text: I absolutely love the Linda bolsa! The design is both stylish and functional, making it perfect for everyday use. The material feels durable, and the color options are fantastic. It holds all my essentials without feeling bulky. Highly recommend it to anyone looking for a chic and practical bag!\n"
          ]
        },
        {
          "name": "stderr",
          "output_type": "stream",
          "text": [
            "\rGenerating for OUTPUT-b2w_dev_reviewText_LLAMA_bm25-none_k4:  26%|██▌       | 638/2500 [07:25<22:55,  1.35it/s]"
          ]
        },
        {
          "name": "stdout",
          "output_type": "stream",
          "text": [
            "Review text: \"Comprei um produto que chegou com defeito e o atendimento ao cliente foi extremamente insatisfatório. Tive dificuldades para resolver a situação e a falta de suporte foi frustrante. Esperava mais da Americanas, pois sempre confiei na empresa. Preciso de uma solução rápida!\"\n"
          ]
        },
        {
          "name": "stderr",
          "output_type": "stream",
          "text": [
            "\rGenerating for OUTPUT-b2w_dev_reviewText_LLAMA_bm25-none_k4:  26%|██▌       | 639/2500 [07:26<26:29,  1.17it/s]"
          ]
        },
        {
          "name": "stdout",
          "output_type": "stream",
          "text": [
            "Review text: Este produto superou minhas expectativas! A qualidade é excelente e ele cumpre perfeitamente o que promete. Estou muito satisfeito com a compra e recomendo a todos que buscam algo confiável e eficiente. Vale cada centavo!\n"
          ]
        },
        {
          "name": "stderr",
          "output_type": "stream",
          "text": [
            "\rGenerating for OUTPUT-b2w_dev_reviewText_LLAMA_bm25-none_k4:  26%|██▌       | 640/2500 [07:27<28:33,  1.09it/s]"
          ]
        },
        {
          "name": "stdout",
          "output_type": "stream",
          "text": [
            "Review text: I recently purchased the Depurador Eletrolux, and I couldn't be happier with my decision! This product has significantly improved the air quality in my kitchen. The design is sleek and modern, fitting perfectly with my decor. Installation was straightforward, and the performance is outstanding. It effectively removes smoke and odors, making cooking a much more enjoyable experience. The noise level is surprisingly low, which is a huge plus. Overall, I highly recommend the Depurador Eletrolux to anyone looking to enhance their kitchen environment!\n"
          ]
        },
        {
          "name": "stderr",
          "output_type": "stream",
          "text": [
            "\rGenerating for OUTPUT-b2w_dev_reviewText_LLAMA_bm25-none_k4:  26%|██▌       | 641/2500 [07:29<36:59,  1.19s/it]"
          ]
        },
        {
          "name": "stdout",
          "output_type": "stream",
          "text": [
            "Review text: A bicicleta superou minhas expectativas! O design é incrível e a qualidade dos materiais é evidente. Ela é leve e fácil de manobrar, perfeita para passeios na cidade. O conforto do assento é um grande diferencial, tornando as longas distâncias muito mais agradáveis. Recomendo para quem busca uma opção prática e estilosa.\n"
          ]
        },
        {
          "name": "stderr",
          "output_type": "stream",
          "text": [
            "\rGenerating for OUTPUT-b2w_dev_reviewText_LLAMA_bm25-none_k4:  26%|██▌       | 642/2500 [07:30<31:55,  1.03s/it]"
          ]
        },
        {
          "name": "stdout",
          "output_type": "stream",
          "text": [
            "Review text: Este produto superou minhas expectativas! A qualidade é excelente e o desempenho é notável. Recomendo a todos que buscam algo confiável e eficiente. Vale cada centavo!\n"
          ]
        },
        {
          "name": "stderr",
          "output_type": "stream",
          "text": [
            "\rGenerating for OUTPUT-b2w_dev_reviewText_LLAMA_bm25-none_k4:  26%|██▌       | 643/2500 [07:30<28:01,  1.10it/s]"
          ]
        },
        {
          "name": "stdout",
          "output_type": "stream",
          "text": [
            "Review text: Este produto superou minhas expectativas! Além de ser muito bonito, sua qualidade é excelente. A embalagem é elegante e o design é moderno, o que o torna um ótimo complemento para qualquer ambiente. Recomendo a todos que buscam um produto que une estética e funcionalidade!\n"
          ]
        },
        {
          "name": "stderr",
          "output_type": "stream",
          "text": [
            "\rGenerating for OUTPUT-b2w_dev_reviewText_LLAMA_bm25-none_k4:  26%|██▌       | 644/2500 [07:31<25:43,  1.20it/s]"
          ]
        },
        {
          "name": "stdout",
          "output_type": "stream",
          "text": [
            "Review text: A experiência de compra foi frustrante, pois a nota fiscal nem foi emitida até o momento. Isso gerou insegurança e desconfiança em relação à transação. Espero que a situação seja resolvida rapidamente, pois a falta de documentação é inaceitável.\n"
          ]
        },
        {
          "name": "stderr",
          "output_type": "stream",
          "text": [
            "\rGenerating for OUTPUT-b2w_dev_reviewText_LLAMA_bm25-none_k4:  26%|██▌       | 645/2500 [07:32<22:47,  1.36it/s]"
          ]
        },
        {
          "name": "stdout",
          "output_type": "stream",
          "text": [
            "Review text: Estou muito satisfeito com este produto! A qualidade superou minhas expectativas e o desempenho é excelente. Recomendo a todos que buscam algo confiável e eficiente. Com certeza, voltarei a comprar!\n"
          ]
        },
        {
          "name": "stderr",
          "output_type": "stream",
          "text": [
            "\rGenerating for OUTPUT-b2w_dev_reviewText_LLAMA_bm25-none_k4:  26%|██▌       | 646/2500 [07:32<23:05,  1.34it/s]"
          ]
        },
        {
          "name": "stdout",
          "output_type": "stream",
          "text": [
            "Review text: Este produto é de péssima qualidade. Não atende às expectativas e não funciona como deveria. Senti que foi um desperdício de dinheiro, pois não serve para nada. Não recomendo a ninguém!\n"
          ]
        },
        {
          "name": "stderr",
          "output_type": "stream",
          "text": [
            "\rGenerating for OUTPUT-b2w_dev_reviewText_LLAMA_bm25-none_k4:  26%|██▌       | 647/2500 [07:33<20:29,  1.51it/s]"
          ]
        },
        {
          "name": "stdout",
          "output_type": "stream",
          "text": [
            "Review text: Este produto não atendeu às minhas expectativas de forma alguma. A qualidade é extremamente baixa e não funciona como prometido. Fiquei muito decepcionado e definitivamente não recomendo a compra. Uma perda de dinheiro!\n"
          ]
        },
        {
          "name": "stderr",
          "output_type": "stream",
          "text": [
            "\rGenerating for OUTPUT-b2w_dev_reviewText_LLAMA_bm25-none_k4:  26%|██▌       | 648/2500 [07:33<18:58,  1.63it/s]"
          ]
        },
        {
          "name": "stdout",
          "output_type": "stream",
          "text": [
            "Review text: Estou extremamente satisfeito com este produto! A qualidade superou minhas expectativas e ele funcionou perfeitamente desde o primeiro uso. Além disso, o atendimento ao cliente foi excepcional. Recomendo a todos que estão em busca de algo confiável e eficiente!\n"
          ]
        },
        {
          "name": "stderr",
          "output_type": "stream",
          "text": [
            "\rGenerating for OUTPUT-b2w_dev_reviewText_LLAMA_bm25-none_k4:  26%|██▌       | 649/2500 [07:34<20:20,  1.52it/s]"
          ]
        },
        {
          "name": "stdout",
          "output_type": "stream",
          "text": [
            "Review text: A entrega foi surpreendentemente rápida! Recebi meu pedido antes do prazo estimado, o que me deixou muito satisfeito. O produto chegou em perfeito estado e a comunicação com o vendedor foi excelente. Recomendo a todos!\n"
          ]
        },
        {
          "name": "stderr",
          "output_type": "stream",
          "text": [
            "\rGenerating for OUTPUT-b2w_dev_reviewText_LLAMA_bm25-none_k4:  26%|██▌       | 650/2500 [07:35<22:06,  1.39it/s]"
          ]
        },
        {
          "name": "stdout",
          "output_type": "stream",
          "text": [
            "Review text: \"Batman: Arkham Knight is an absolute masterpiece for PS4! The graphics are stunning, bringing Gotham City to life in a way I never imagined. The storyline is gripping, filled with twists that keep you on the edge of your seat. The combat mechanics are fluid and satisfying, making every encounter exhilarating. I love the addition of the Batmobile; it adds a new layer of gameplay that feels fresh and exciting. The voice acting is top-notch, especially Kevin Conroy as Batman. Overall, this game is a must-play for any superhero fan!\"\n"
          ]
        },
        {
          "name": "stderr",
          "output_type": "stream",
          "text": [
            "\rGenerating for OUTPUT-b2w_dev_reviewText_LLAMA_bm25-none_k4:  26%|██▌       | 651/2500 [07:36<21:56,  1.40it/s]"
          ]
        },
        {
          "name": "stdout",
          "output_type": "stream",
          "text": [
            "Review text: \"Infelizmente, minha experiência com este produto foi bastante decepcionante. A qualidade não atendeu às minhas expectativas e não funcionou como prometido. Senti que o investimento não valeu a pena e não recomendo.\"\n"
          ]
        },
        {
          "name": "stderr",
          "output_type": "stream",
          "text": [
            "\rGenerating for OUTPUT-b2w_dev_reviewText_LLAMA_bm25-none_k4:  26%|██▌       | 652/2500 [07:37<31:07,  1.01s/it]"
          ]
        },
        {
          "name": "stdout",
          "output_type": "stream",
          "text": [
            "Review text: Este produto superou minhas expectativas! A qualidade é excelente e o desempenho é notável. Recomendo a todos que buscam um item confiável e eficiente. Vale cada centavo!\n"
          ]
        },
        {
          "name": "stderr",
          "output_type": "stream",
          "text": [
            "\rGenerating for OUTPUT-b2w_dev_reviewText_LLAMA_bm25-none_k4:  26%|██▌       | 653/2500 [07:38<27:11,  1.13it/s]"
          ]
        },
        {
          "name": "stdout",
          "output_type": "stream",
          "text": [
            "Review text: \"Este produto superou minhas expectativas! A qualidade é excepcional e o desempenho é impecável. Recomendo a todos que buscam algo confiável e eficiente. Vale cada centavo!\"\n"
          ]
        },
        {
          "name": "stderr",
          "output_type": "stream",
          "text": [
            "\rGenerating for OUTPUT-b2w_dev_reviewText_LLAMA_bm25-none_k4:  26%|██▌       | 654/2500 [07:38<23:20,  1.32it/s]"
          ]
        },
        {
          "name": "stdout",
          "output_type": "stream",
          "text": [
            "Review text: \"Infelizmente, minha experiência com este produto foi bem negativa. A qualidade não atendeu às minhas expectativas e não funcionou como prometido. Fiquei decepcionado e não recomendaria.\"\n"
          ]
        },
        {
          "name": "stderr",
          "output_type": "stream",
          "text": [
            "\rGenerating for OUTPUT-b2w_dev_reviewText_LLAMA_bm25-none_k4:  26%|██▌       | 655/2500 [07:39<20:34,  1.49it/s]"
          ]
        },
        {
          "name": "stdout",
          "output_type": "stream",
          "text": [
            "Review text: Este producto superó mis expectativas. La calidad es excepcional y su rendimiento es impresionante. Definitivamente lo recomendaría a cualquiera que busque algo confiable y efectivo. ¡Una excelente compra!\n"
          ]
        },
        {
          "name": "stderr",
          "output_type": "stream",
          "text": [
            "\rGenerating for OUTPUT-b2w_dev_reviewText_LLAMA_bm25-none_k4:  26%|██▌       | 656/2500 [07:40<20:55,  1.47it/s]"
          ]
        },
        {
          "name": "stdout",
          "output_type": "stream",
          "text": [
            "Review text: \"Desde que descobri essa marca, não consigo mais viver sem seus produtos! A qualidade é excepcional e cada item tem um toque especial que faz toda a diferença. Além disso, a variedade de opções é incrível, sempre encontro algo novo para experimentar. Recomendo a todos que buscam qualidade e estilo!\"\n"
          ]
        },
        {
          "name": "stderr",
          "output_type": "stream",
          "text": [
            "\rGenerating for OUTPUT-b2w_dev_reviewText_LLAMA_bm25-none_k4:  26%|██▋       | 657/2500 [07:40<19:28,  1.58it/s]"
          ]
        },
        {
          "name": "stdout",
          "output_type": "stream",
          "text": [
            "Review text: Adorei o produto! Atendeu todas as minhas expectativas e a qualidade é excelente. Com certeza vou recomendar para amigos e familiares.\n"
          ]
        },
        {
          "name": "stderr",
          "output_type": "stream",
          "text": [
            "\rGenerating for OUTPUT-b2w_dev_reviewText_LLAMA_bm25-none_k4:  26%|██▋       | 658/2500 [07:41<23:37,  1.30it/s]"
          ]
        },
        {
          "name": "stdout",
          "output_type": "stream",
          "text": [
            "Review text: Estou muito satisfeito com o aparelho! A qualidade da imagem é realmente impressionante, com cores vibrantes e detalhes nítidos. É um prazer assistir meus filmes e séries favoritos. Recomendo a todos que buscam uma excelente experiência visual!\n"
          ]
        },
        {
          "name": "stderr",
          "output_type": "stream",
          "text": [
            "\rGenerating for OUTPUT-b2w_dev_reviewText_LLAMA_bm25-none_k4:  26%|██▋       | 659/2500 [07:42<26:15,  1.17it/s]"
          ]
        },
        {
          "name": "stdout",
          "output_type": "stream",
          "text": [
            "Review text: \"I recently purchased the 28\" TV, and I couldn't be happier with my decision! The picture quality is fantastic, with vibrant colors and sharp details that make my favorite shows and movies come to life. The size is perfect for my small living room, and it fits seamlessly into my decor. The sound is surprisingly good for a TV of this size, and I appreciate the multiple HDMI ports for connecting my devices. Overall, this TV offers great value for the price, and I highly recommend it to anyone looking for a compact yet powerful television!\"\n"
          ]
        },
        {
          "name": "stderr",
          "output_type": "stream",
          "text": [
            "\rGenerating for OUTPUT-b2w_dev_reviewText_LLAMA_bm25-none_k4:  26%|██▋       | 660/2500 [07:43<22:29,  1.36it/s]"
          ]
        },
        {
          "name": "stdout",
          "output_type": "stream",
          "text": [
            "Review text: Este produto superou minhas expectativas! A qualidade é excelente e o desempenho é impecável. Recomendo a todos que buscam um item confiável e eficiente. Ótima compra!\n"
          ]
        },
        {
          "name": "stderr",
          "output_type": "stream",
          "text": [
            "\rGenerating for OUTPUT-b2w_dev_reviewText_LLAMA_bm25-none_k4:  26%|██▋       | 661/2500 [07:43<20:23,  1.50it/s]"
          ]
        },
        {
          "name": "stdout",
          "output_type": "stream",
          "text": [
            "Review text: Este produto superou minhas expectativas! A qualidade é excelente e ele funciona perfeitamente. Recomendo a todos que buscam um item confiável e eficiente. Vale cada centavo!\n"
          ]
        },
        {
          "name": "stderr",
          "output_type": "stream",
          "text": [
            "\rGenerating for OUTPUT-b2w_dev_reviewText_LLAMA_bm25-none_k4:  26%|██▋       | 662/2500 [07:44<20:29,  1.49it/s]"
          ]
        },
        {
          "name": "stdout",
          "output_type": "stream",
          "text": [
            "Review text: Adorei o produto! A qualidade é excepcional e superou minhas expectativas. O design é lindo e funcional, e já estou pensando em comprar mais. Recomendo a todos que buscam algo especial!\n"
          ]
        },
        {
          "name": "stderr",
          "output_type": "stream",
          "text": [
            "\rGenerating for OUTPUT-b2w_dev_reviewText_LLAMA_bm25-none_k4:  27%|██▋       | 663/2500 [07:45<24:22,  1.26it/s]"
          ]
        },
        {
          "name": "stdout",
          "output_type": "stream",
          "text": [
            "Review text: \"I recently purchased the LG 28-inch LED TV, and I couldn't be happier with my choice! The picture quality is stunning, with vibrant colors and sharp details that make watching movies and shows a delight. The size is perfect for my small living room, and it fits seamlessly on my shelf. The sound quality is surprisingly good for a TV of this size, and the smart features are intuitive and easy to navigate. Overall, this TV offers excellent value for the price, and I highly recommend it to anyone looking for a compact yet powerful television!\"\n"
          ]
        },
        {
          "name": "stderr",
          "output_type": "stream",
          "text": [
            "\rGenerating for OUTPUT-b2w_dev_reviewText_LLAMA_bm25-none_k4:  27%|██▋       | 664/2500 [07:46<22:03,  1.39it/s]"
          ]
        },
        {
          "name": "stdout",
          "output_type": "stream",
          "text": [
            "Review text: Este producto superó mis expectativas. La calidad es excepcional y su rendimiento es impecable. Definitivamente lo recomendaría a cualquiera que busque algo confiable y efectivo. ¡Excelente compra!\n"
          ]
        },
        {
          "name": "stderr",
          "output_type": "stream",
          "text": [
            "\rGenerating for OUTPUT-b2w_dev_reviewText_LLAMA_bm25-none_k4:  27%|██▋       | 665/2500 [07:46<21:23,  1.43it/s]"
          ]
        },
        {
          "name": "stdout",
          "output_type": "stream",
          "text": [
            "Review text: Este producto superó todas mis expectativas. La calidad es excepcional y funciona a la perfección. Definitivamente lo recomendaría a cualquiera que busque algo confiable y eficaz. ¡Estoy muy satisfecho con mi compra!\n"
          ]
        },
        {
          "name": "stderr",
          "output_type": "stream",
          "text": [
            "\rGenerating for OUTPUT-b2w_dev_reviewText_LLAMA_bm25-none_k4:  27%|██▋       | 666/2500 [07:47<19:50,  1.54it/s]"
          ]
        },
        {
          "name": "stdout",
          "output_type": "stream",
          "text": [
            "Review text: Infelizmente, minha experiência com este produto foi decepcionante. A qualidade não atendeu às minhas expectativas e, após algumas semanas de uso, começou a apresentar problemas. Eu esperava mais, especialmente considerando o preço. Não recomendaria.\n"
          ]
        },
        {
          "name": "stderr",
          "output_type": "stream",
          "text": [
            "\rGenerating for OUTPUT-b2w_dev_reviewText_LLAMA_bm25-none_k4:  27%|██▋       | 667/2500 [07:47<20:13,  1.51it/s]"
          ]
        },
        {
          "name": "stdout",
          "output_type": "stream",
          "text": [
            "Review text: \"Comprei este produto recentemente e não poderia estar mais satisfeito. A qualidade é excepcional e atendeu todas as minhas expectativas. O desempenho é incrível e ele se destaca em comparação com outros que já usei. Recomendo a todos que estão em dúvida, pois é realmente uma ótima escolha!\"\n"
          ]
        },
        {
          "name": "stderr",
          "output_type": "stream",
          "text": [
            "\rGenerating for OUTPUT-b2w_dev_reviewText_LLAMA_bm25-none_k4:  27%|██▋       | 668/2500 [07:48<19:41,  1.55it/s]"
          ]
        },
        {
          "name": "stdout",
          "output_type": "stream",
          "text": [
            "Review text: Este produto superou minhas expectativas! A qualidade é excelente e ele cumpre tudo o que promete. Estou muito satisfeito com a compra e recomendo a todos que estão em busca de algo confiável e eficiente. Vale cada centavo!\n"
          ]
        },
        {
          "name": "stderr",
          "output_type": "stream",
          "text": [
            "\rGenerating for OUTPUT-b2w_dev_reviewText_LLAMA_bm25-none_k4:  27%|██▋       | 669/2500 [07:49<19:25,  1.57it/s]"
          ]
        },
        {
          "name": "stdout",
          "output_type": "stream",
          "text": [
            "Review text: Este produto oferece uma excelente relação custo-benefício. A qualidade é surpreendente considerando o preço, e atendeu todas as minhas expectativas. Recomendo para quem busca um bom produto sem gastar muito!\n"
          ]
        },
        {
          "name": "stderr",
          "output_type": "stream",
          "text": [
            "\rGenerating for OUTPUT-b2w_dev_reviewText_LLAMA_bm25-none_k4:  27%|██▋       | 670/2500 [07:49<17:38,  1.73it/s]"
          ]
        },
        {
          "name": "stdout",
          "output_type": "stream",
          "text": [
            "Review text: \"Infelizmente, ainda não recebi o produto, então não posso dar uma avaliação justa. Estou ansioso para experimentar assim que chegar!\"\n"
          ]
        },
        {
          "name": "stderr",
          "output_type": "stream",
          "text": [
            "\rGenerating for OUTPUT-b2w_dev_reviewText_LLAMA_bm25-none_k4:  27%|██▋       | 671/2500 [07:50<19:08,  1.59it/s]"
          ]
        },
        {
          "name": "stdout",
          "output_type": "stream",
          "text": [
            "Review text: \"Este produto é simplesmente lindo! A qualidade é impressionante e o design é ainda melhor do que eu esperava. Cada detalhe foi cuidadosamente pensado, tornando-o não apenas funcional, mas também uma peça decorativa. Estou muito satisfeito com minha compra e definitivamente recomendaria a todos que buscam algo especial!\"\n"
          ]
        },
        {
          "name": "stderr",
          "output_type": "stream",
          "text": [
            "\rGenerating for OUTPUT-b2w_dev_reviewText_LLAMA_bm25-none_k4:  27%|██▋       | 672/2500 [07:50<18:31,  1.65it/s]"
          ]
        },
        {
          "name": "stdout",
          "output_type": "stream",
          "text": [
            "Review text: \"Estou muito satisfeito com a qualidade e a funcionalidade do produto. Atendeu todas as minhas expectativas e é exatamente o que eu precisava. Recomendo!\"\n"
          ]
        },
        {
          "name": "stderr",
          "output_type": "stream",
          "text": [
            "\rGenerating for OUTPUT-b2w_dev_reviewText_LLAMA_bm25-none_k4:  27%|██▋       | 673/2500 [07:51<18:22,  1.66it/s]"
          ]
        },
        {
          "name": "stdout",
          "output_type": "stream",
          "text": [
            "Review text: Americanas sempre se destaca pela qualidade e variedade de produtos. A experiência de compra é sempre agradável, com um site fácil de navegar e ótimas ofertas. O atendimento ao cliente é excepcional e sempre resolvem qualquer dúvida rapidamente. Recomendo a todos que buscam praticidade e confiança nas suas compras!\n"
          ]
        },
        {
          "name": "stderr",
          "output_type": "stream",
          "text": [
            "\rGenerating for OUTPUT-b2w_dev_reviewText_LLAMA_bm25-none_k4:  27%|██▋       | 674/2500 [07:53<30:05,  1.01it/s]"
          ]
        },
        {
          "name": "stdout",
          "output_type": "stream",
          "text": [
            "Review text: Este produto superou todas as minhas expectativas! A qualidade é excepcional e a performance é impecável. Recomendo a todos que buscam um item confiável e eficiente. Vale cada centavo!\n"
          ]
        },
        {
          "name": "stderr",
          "output_type": "stream",
          "text": [
            "\rGenerating for OUTPUT-b2w_dev_reviewText_LLAMA_bm25-none_k4:  27%|██▋       | 675/2500 [07:54<26:58,  1.13it/s]"
          ]
        },
        {
          "name": "stdout",
          "output_type": "stream",
          "text": [
            "Review text: A qualidade deste produto superou minhas expectativas. Os materiais são duráveis e a construção é sólida. Senti que cada detalhe foi pensado para proporcionar uma ótima experiência. Recomendo para quem busca algo que realmente vale a pena!\n"
          ]
        },
        {
          "name": "stderr",
          "output_type": "stream",
          "text": [
            "\rGenerating for OUTPUT-b2w_dev_reviewText_LLAMA_bm25-none_k4:  27%|██▋       | 676/2500 [07:54<23:38,  1.29it/s]"
          ]
        },
        {
          "name": "stdout",
          "output_type": "stream",
          "text": [
            "Review text: \"Comprei este produto recentemente e fiquei extremamente satisfeito! A qualidade é excelente e atendeu todas as minhas expectativas. Recomendo a todos que estão em busca de algo confiável e eficiente. Sem dúvida, uma ótima compra!\"\n"
          ]
        },
        {
          "name": "stderr",
          "output_type": "stream",
          "text": [
            "\rGenerating for OUTPUT-b2w_dev_reviewText_LLAMA_bm25-none_k4:  27%|██▋       | 677/2500 [07:55<21:56,  1.38it/s]"
          ]
        },
        {
          "name": "stdout",
          "output_type": "stream",
          "text": [
            "Review text: Este produto superou minhas expectativas! A qualidade é excelente e o desempenho é notável. Recomendo a todos que buscam algo confiável e eficaz. Vale cada centavo!\n"
          ]
        },
        {
          "name": "stderr",
          "output_type": "stream",
          "text": [
            "\rGenerating for OUTPUT-b2w_dev_reviewText_LLAMA_bm25-none_k4:  27%|██▋       | 678/2500 [07:55<20:17,  1.50it/s]"
          ]
        },
        {
          "name": "stdout",
          "output_type": "stream",
          "text": [
            "Review text: Este produto superou minhas expectativas! A qualidade é excelente e o desempenho é incrível. Recomendo a todos que buscam algo confiável e eficiente. Estou muito satisfeito com minha compra!\n"
          ]
        },
        {
          "name": "stderr",
          "output_type": "stream",
          "text": [
            "\rGenerating for OUTPUT-b2w_dev_reviewText_LLAMA_bm25-none_k4:  27%|██▋       | 679/2500 [07:56<19:02,  1.59it/s]"
          ]
        },
        {
          "name": "stdout",
          "output_type": "stream",
          "text": [
            "Review text: \"Adorei este produto! A qualidade é excelente e atendeu todas as minhas expectativas. Recomendo a todos que buscam algo confiável e eficiente. Com certeza, voltarei a comprar!\"\n"
          ]
        },
        {
          "name": "stderr",
          "output_type": "stream",
          "text": [
            "\rGenerating for OUTPUT-b2w_dev_reviewText_LLAMA_bm25-none_k4:  27%|██▋       | 680/2500 [07:56<20:13,  1.50it/s]"
          ]
        },
        {
          "name": "stdout",
          "output_type": "stream",
          "text": [
            "Review text: \"Este pau é simplesmente incrível! Usei em diversos projetos e ele se mostrou extremamente versátil e resistente. Desde pequenas reformas até grandes construções, ele sempre cumpre seu papel com excelência. Recomendo para quem precisa de um suporte confiável e durável. Sem dúvida, um item essencial para qualquer caixa de ferramentas!\"\n"
          ]
        },
        {
          "name": "stderr",
          "output_type": "stream",
          "text": [
            "\rGenerating for OUTPUT-b2w_dev_reviewText_LLAMA_bm25-none_k4:  27%|██▋       | 681/2500 [07:57<19:33,  1.55it/s]"
          ]
        },
        {
          "name": "stdout",
          "output_type": "stream",
          "text": [
            "Review text: Este produto superou minhas expectativas! A qualidade é excelente e ele funciona perfeitamente. Recomendo a todos que buscam algo durável e eficiente. Vale cada centavo!\n"
          ]
        },
        {
          "name": "stderr",
          "output_type": "stream",
          "text": [
            "\rGenerating for OUTPUT-b2w_dev_reviewText_LLAMA_bm25-none_k4:  27%|██▋       | 682/2500 [07:58<20:31,  1.48it/s]"
          ]
        },
        {
          "name": "stdout",
          "output_type": "stream",
          "text": [
            "Review text: \"Fui enganado por essa loja! As promessas que fizeram eram completamente falsas e o produto que recebi não tinha nada a ver com o que foi anunciado. O atendimento ao cliente também foi péssimo, não consegui resolver meu problema. Não recomendo a ninguém, caiam fora dessa loja!\"\n"
          ]
        },
        {
          "name": "stderr",
          "output_type": "stream",
          "text": [
            "\rGenerating for OUTPUT-b2w_dev_reviewText_LLAMA_bm25-none_k4:  27%|██▋       | 683/2500 [07:59<22:11,  1.36it/s]"
          ]
        },
        {
          "name": "stdout",
          "output_type": "stream",
          "text": [
            "Review text: Infelizmente, minha experiência com este produto foi extremamente negativa. A qualidade deixou muito a desejar e não atendeu às minhas expectativas. Não recomendo.\n"
          ]
        },
        {
          "name": "stderr",
          "output_type": "stream",
          "text": [
            "\rGenerating for OUTPUT-b2w_dev_reviewText_LLAMA_bm25-none_k4:  27%|██▋       | 684/2500 [07:59<22:57,  1.32it/s]"
          ]
        },
        {
          "name": "stdout",
          "output_type": "stream",
          "text": [
            "Review text: \"Comprei a impressora recentemente e estou completamente apaixonada por ela! A qualidade de impressão é incrível, as cores são vibrantes e os detalhes ficam nítidos. Além disso, é super fácil de configurar e usar. O design é moderno e compacta, o que a torna perfeita para o meu espaço de trabalho. Recomendo a todos que buscam uma impressora eficiente e de alta qualidade!\"\n"
          ]
        },
        {
          "name": "stderr",
          "output_type": "stream",
          "text": [
            "\rGenerating for OUTPUT-b2w_dev_reviewText_LLAMA_bm25-none_k4:  27%|██▋       | 685/2500 [08:00<20:37,  1.47it/s]"
          ]
        },
        {
          "name": "stdout",
          "output_type": "stream",
          "text": [
            "Review text: Este produto superou todas as minhas expectativas! A qualidade é excepcional e a performance é impecável. Recomendo a todos que buscam um item confiável e eficiente. Vale cada centavo!\n"
          ]
        },
        {
          "name": "stderr",
          "output_type": "stream",
          "text": [
            "\rGenerating for OUTPUT-b2w_dev_reviewText_LLAMA_bm25-none_k4:  27%|██▋       | 686/2500 [08:01<19:09,  1.58it/s]"
          ]
        },
        {
          "name": "stdout",
          "output_type": "stream",
          "text": [
            "Review text: \"Já conhecia o produto e recomendo! A qualidade é excelente e sempre atendeu minhas expectativas. É confiável e cumpre o que promete. Sem dúvida, voltarei a comprar!\"\n"
          ]
        },
        {
          "name": "stderr",
          "output_type": "stream",
          "text": [
            "\rGenerating for OUTPUT-b2w_dev_reviewText_LLAMA_bm25-none_k4:  27%|██▋       | 687/2500 [08:01<17:15,  1.75it/s]"
          ]
        },
        {
          "name": "stdout",
          "output_type": "stream",
          "text": [
            "Review text: \"Produto de excelente qualidade, atendeu todas as minhas expectativas. A única coisa que senti falta foi de um saco de pano para facilitar o transporte. No geral, super recomendo!\"\n"
          ]
        },
        {
          "name": "stderr",
          "output_type": "stream",
          "text": [
            "\rGenerating for OUTPUT-b2w_dev_reviewText_LLAMA_bm25-none_k4:  28%|██▊       | 688/2500 [08:02<18:20,  1.65it/s]"
          ]
        },
        {
          "name": "stdout",
          "output_type": "stream",
          "text": [
            "Review text: \"Comprei este produto recentemente e fiquei muito satisfeito! A qualidade é excelente e atendeu todas as minhas expectativas. Recomendo a todos que buscam algo confiável e eficiente. Vale a pena!\"\n"
          ]
        },
        {
          "name": "stderr",
          "output_type": "stream",
          "text": [
            "\rGenerating for OUTPUT-b2w_dev_reviewText_LLAMA_bm25-none_k4:  28%|██▊       | 689/2500 [08:02<18:34,  1.62it/s]"
          ]
        },
        {
          "name": "stdout",
          "output_type": "stream",
          "text": [
            "Review text: Este produto superou todas as minhas expectativas! A qualidade é impressionante e o desempenho é excepcional. Recomendo a todos que buscam algo confiável e eficiente. Vale cada centavo!\n"
          ]
        },
        {
          "name": "stderr",
          "output_type": "stream",
          "text": [
            "\rGenerating for OUTPUT-b2w_dev_reviewText_LLAMA_bm25-none_k4:  28%|██▊       | 690/2500 [08:03<17:42,  1.70it/s]"
          ]
        },
        {
          "name": "stdout",
          "output_type": "stream",
          "text": [
            "Review text: Este produto é realmente muito forte! A intensidade é surpreendente e proporciona resultados rápidos. Ideal para quem busca algo potente. Recomendo para quem já tem experiência e sabe como utilizá-lo da melhor forma.\n"
          ]
        },
        {
          "name": "stderr",
          "output_type": "stream",
          "text": [
            "\rGenerating for OUTPUT-b2w_dev_reviewText_LLAMA_bm25-none_k4:  28%|██▊       | 691/2500 [08:03<17:32,  1.72it/s]"
          ]
        },
        {
          "name": "stdout",
          "output_type": "stream",
          "text": [
            "Review text: Este produto superou minhas expectativas em termos de qualidade. Os materiais são duráveis e a construção é impecável. Além disso, a funcionalidade é excelente, tornando-o uma ótima adição ao meu dia a dia. Recomendo a todos que buscam um produto confiável e bem feito!\n"
          ]
        },
        {
          "name": "stderr",
          "output_type": "stream",
          "text": [
            "\rGenerating for OUTPUT-b2w_dev_reviewText_LLAMA_bm25-none_k4:  28%|██▊       | 692/2500 [08:04<16:34,  1.82it/s]"
          ]
        },
        {
          "name": "stdout",
          "output_type": "stream",
          "text": [
            "Review text: Este produto superou minhas expectativas! A qualidade é excepcional e o desempenho é impecável. Recomendo a todos que buscam um item confiável e eficaz. Vale cada centavo!\n"
          ]
        },
        {
          "name": "stderr",
          "output_type": "stream",
          "text": [
            "\rGenerating for OUTPUT-b2w_dev_reviewText_LLAMA_bm25-none_k4:  28%|██▊       | 693/2500 [08:04<17:38,  1.71it/s]"
          ]
        },
        {
          "name": "stdout",
          "output_type": "stream",
          "text": [
            "Review text: Este produto realmente cumpre o que promete. A qualidade é excelente e atendeu todas as minhas expectativas. Recomendo para quem busca um item que funcione conforme anunciado. Muito satisfeito com a compra!\n"
          ]
        },
        {
          "name": "stderr",
          "output_type": "stream",
          "text": [
            "\rGenerating for OUTPUT-b2w_dev_reviewText_LLAMA_bm25-none_k4:  28%|██▊       | 694/2500 [08:05<17:56,  1.68it/s]"
          ]
        },
        {
          "name": "stdout",
          "output_type": "stream",
          "text": [
            "Review text: Amei has truly exceeded my expectations! The quality is outstanding and the design is both elegant and practical. I've been using it daily, and it performs flawlessly. Highly recommend it to anyone looking for a reliable and stylish option!\n"
          ]
        },
        {
          "name": "stderr",
          "output_type": "stream",
          "text": [
            "\rGenerating for OUTPUT-b2w_dev_reviewText_LLAMA_bm25-none_k4:  28%|██▊       | 695/2500 [08:06<20:16,  1.48it/s]"
          ]
        },
        {
          "name": "stdout",
          "output_type": "stream",
          "text": [
            "Review text: \"Estou extremamente satisfeito com a qualidade do produto e o atendimento da loja. O processo de compra foi simples e rápido, e a entrega foi pontual. O produto atendeu todas as minhas expectativas e mais um pouco. Recomendo muito tanto o item quanto a loja para quem busca confiança e eficiência!\"\n"
          ]
        },
        {
          "name": "stderr",
          "output_type": "stream",
          "text": [
            "\rGenerating for OUTPUT-b2w_dev_reviewText_LLAMA_bm25-none_k4:  28%|██▊       | 696/2500 [08:07<21:11,  1.42it/s]"
          ]
        },
        {
          "name": "stdout",
          "output_type": "stream",
          "text": [
            "Review text: Este é um produto excelente! Atendeu todas as minhas expectativas e superou em qualidade. A entrega foi rápida e o atendimento ao cliente foi impecável. Recomendo a todos que buscam um produto confiável e eficiente. Com certeza, voltarei a comprar!\n"
          ]
        },
        {
          "name": "stderr",
          "output_type": "stream",
          "text": [
            "\rGenerating for OUTPUT-b2w_dev_reviewText_LLAMA_bm25-none_k4:  28%|██▊       | 697/2500 [08:07<19:25,  1.55it/s]"
          ]
        },
        {
          "name": "stdout",
          "output_type": "stream",
          "text": [
            "Review text: Este produto superou minhas expectativas! A qualidade é excelente e o desempenho é impecável. Recomendo a todos que buscam um item confiável e eficiente. Ótima compra!\n"
          ]
        },
        {
          "name": "stderr",
          "output_type": "stream",
          "text": [
            "\rGenerating for OUTPUT-b2w_dev_reviewText_LLAMA_bm25-none_k4:  28%|██▊       | 698/2500 [08:08<19:42,  1.52it/s]"
          ]
        },
        {
          "name": "stdout",
          "output_type": "stream",
          "text": [
            "Review text: Esta foi, sem dúvida, a minha pior compra! O produto não atendeu às minhas expectativas e apresentou problemas logo na primeira semana de uso. A qualidade é inferior e não vale o preço que paguei. Estou extremamente desapontado e não recomendo a ninguém.\n"
          ]
        },
        {
          "name": "stderr",
          "output_type": "stream",
          "text": [
            "\rGenerating for OUTPUT-b2w_dev_reviewText_LLAMA_bm25-none_k4:  28%|██▊       | 699/2500 [08:09<19:29,  1.54it/s]"
          ]
        },
        {
          "name": "stdout",
          "output_type": "stream",
          "text": [
            "Review text: \"Comprei um produto que apresentou problemas logo após a entrega. O atendimento ao cliente da Americanas foi frustrante, com longas esperas e respostas insatisfatórias. Senti que não houve preocupação em resolver meu problema. Definitivamente, não recomendo este produto nem a loja.\"\n"
          ]
        },
        {
          "name": "stderr",
          "output_type": "stream",
          "text": [
            "\rGenerating for OUTPUT-b2w_dev_reviewText_LLAMA_bm25-none_k4:  28%|██▊       | 700/2500 [08:09<18:14,  1.64it/s]"
          ]
        },
        {
          "name": "stdout",
          "output_type": "stream",
          "text": [
            "Review text: \"Este producto superó mis expectativas. La calidad es excepcional y funciona a la perfección. Definitivamente lo recomendaría a otros. ¡Una gran compra!\"\n"
          ]
        },
        {
          "name": "stderr",
          "output_type": "stream",
          "text": [
            "\rGenerating for OUTPUT-b2w_dev_reviewText_LLAMA_bm25-none_k4:  28%|██▊       | 701/2500 [08:10<17:36,  1.70it/s]"
          ]
        },
        {
          "name": "stdout",
          "output_type": "stream",
          "text": [
            "Review text: Este produto superou minhas expectativas! A qualidade é excelente e atendeu a todas as minhas necessidades. Recomendo a todos que buscam um item confiável e eficiente. Vale cada centavo!\n"
          ]
        },
        {
          "name": "stderr",
          "output_type": "stream",
          "text": [
            "\rGenerating for OUTPUT-b2w_dev_reviewText_LLAMA_bm25-none_k4:  28%|██▊       | 702/2500 [08:10<18:38,  1.61it/s]"
          ]
        },
        {
          "name": "stdout",
          "output_type": "stream",
          "text": [
            "Review text: \"Estou extremamente satisfeito com a qualidade do serviço prestado. A equipe foi atenciosa e eficiente, atendendo todas as minhas necessidades de forma rápida e profissional. Recomendo a todos que buscam um serviço de excelência!\"\n"
          ]
        },
        {
          "name": "stderr",
          "output_type": "stream",
          "text": [
            "\rGenerating for OUTPUT-b2w_dev_reviewText_LLAMA_bm25-none_k4:  28%|██▊       | 703/2500 [08:11<19:06,  1.57it/s]"
          ]
        },
        {
          "name": "stdout",
          "output_type": "stream",
          "text": [
            "Review text: \"Absolutely love this product! It exceeded my expectations in every way. The quality is top-notch, and it performs flawlessly. I've already recommended it to friends and family. Definitely a must-have!\"\n"
          ]
        },
        {
          "name": "stderr",
          "output_type": "stream",
          "text": [
            "\rGenerating for OUTPUT-b2w_dev_reviewText_LLAMA_bm25-none_k4:  28%|██▊       | 704/2500 [08:11<17:35,  1.70it/s]"
          ]
        },
        {
          "name": "stdout",
          "output_type": "stream",
          "text": [
            "Review text: Este produto superou minhas expectativas! A qualidade é excelente e o desempenho é notável. Recomendo a todos que buscam algo confiável e eficiente. Estou muito satisfeito com minha compra!\n"
          ]
        },
        {
          "name": "stderr",
          "output_type": "stream",
          "text": [
            "\rGenerating for OUTPUT-b2w_dev_reviewText_LLAMA_bm25-none_k4:  28%|██▊       | 705/2500 [08:12<18:17,  1.64it/s]"
          ]
        },
        {
          "name": "stdout",
          "output_type": "stream",
          "text": [
            "Review text: Estou muito satisfeito com o produto! A qualidade é excelente e atendeu todas as minhas expectativas. Recomendo a todos que estão em busca de algo confiável e eficiente. Vale a pena o investimento!\n"
          ]
        },
        {
          "name": "stderr",
          "output_type": "stream",
          "text": [
            "\rGenerating for OUTPUT-b2w_dev_reviewText_LLAMA_bm25-none_k4:  28%|██▊       | 706/2500 [08:13<18:04,  1.65it/s]"
          ]
        },
        {
          "name": "stdout",
          "output_type": "stream",
          "text": [
            "Review text: Este produto superou minhas expectativas! A qualidade é excelente e o desempenho é impecável. Recomendo a todos que buscam algo confiável e eficiente. Vale cada centavo!\n"
          ]
        },
        {
          "name": "stderr",
          "output_type": "stream",
          "text": [
            "\rGenerating for OUTPUT-b2w_dev_reviewText_LLAMA_bm25-none_k4:  28%|██▊       | 707/2500 [08:15<33:58,  1.14s/it]"
          ]
        },
        {
          "name": "stdout",
          "output_type": "stream",
          "text": [
            "Review text: Este rádio é excelente para ter em casa! A qualidade do som é surpreendente e a sintonia é muito boa. Além disso, o design é moderno e combina com qualquer ambiente. A facilidade de uso é um grande ponto positivo, e a durabilidade parece promissora. Recomendo para quem busca um rádio confiável e com ótimo desempenho!\n"
          ]
        },
        {
          "name": "stderr",
          "output_type": "stream",
          "text": [
            "\rGenerating for OUTPUT-b2w_dev_reviewText_LLAMA_bm25-none_k4:  28%|██▊       | 708/2500 [08:16<27:40,  1.08it/s]"
          ]
        },
        {
          "name": "stdout",
          "output_type": "stream",
          "text": [
            "Review text: Este produto superou minhas expectativas! A qualidade é excelente e o desempenho é notável. Recomendo a todos que buscam algo eficaz e confiável. Vale cada centavo!\n"
          ]
        },
        {
          "name": "stderr",
          "output_type": "stream",
          "text": [
            "\rGenerating for OUTPUT-b2w_dev_reviewText_LLAMA_bm25-none_k4:  28%|██▊       | 709/2500 [08:16<26:27,  1.13it/s]"
          ]
        },
        {
          "name": "stdout",
          "output_type": "stream",
          "text": [
            "Review text: \"Este produto superou minhas expectativas em termos de conforto. Desde o primeiro uso, senti uma diferença significativa. A qualidade dos materiais é excelente e se adapta perfeitamente ao corpo. É ideal para o dia a dia e até mesmo para momentos de relaxamento. Recomendo a todos que buscam conforto sem abrir mão do estilo!\"\n"
          ]
        },
        {
          "name": "stderr",
          "output_type": "stream",
          "text": [
            "\rGenerating for OUTPUT-b2w_dev_reviewText_LLAMA_bm25-none_k4:  28%|██▊       | 710/2500 [08:17<25:30,  1.17it/s]"
          ]
        },
        {
          "name": "stdout",
          "output_type": "stream",
          "text": [
            "Review text: \"Comprei este produto recentemente e fiquei muito satisfeito com a qualidade e a performance. Atendeu todas as minhas expectativas e superou algumas delas. A entrega foi rápida e o atendimento ao cliente foi excelente. Recomendo a todos que estão em dúvida!\"\n"
          ]
        },
        {
          "name": "stderr",
          "output_type": "stream",
          "text": [
            "\rGenerating for OUTPUT-b2w_dev_reviewText_LLAMA_bm25-none_k4:  28%|██▊       | 711/2500 [08:18<24:05,  1.24it/s]"
          ]
        },
        {
          "name": "stdout",
          "output_type": "stream",
          "text": [
            "Review text: Este produto superou minhas expectativas! A qualidade é excelente e o desempenho é notável. Recomendo a todos que buscam algo confiável e eficaz. Vale cada centavo!\n"
          ]
        },
        {
          "name": "stderr",
          "output_type": "stream",
          "text": [
            "\rGenerating for OUTPUT-b2w_dev_reviewText_LLAMA_bm25-none_k4:  28%|██▊       | 712/2500 [08:19<23:35,  1.26it/s]"
          ]
        },
        {
          "name": "stdout",
          "output_type": "stream",
          "text": [
            "Review text: Infelizmente, minha experiência com este produto foi muito frustrante. Eu fiz o pedido há semanas e, até agora, não recebi nada. O rastreamento não fornece informações úteis e o atendimento ao cliente não responde às minhas perguntas. Estou decepcionado e não recomendo a compra até que a entrega seja resolvida.\n"
          ]
        },
        {
          "name": "stderr",
          "output_type": "stream",
          "text": [
            "\rGenerating for OUTPUT-b2w_dev_reviewText_LLAMA_bm25-none_k4:  29%|██▊       | 713/2500 [08:19<23:19,  1.28it/s]"
          ]
        },
        {
          "name": "stdout",
          "output_type": "stream",
          "text": [
            "Review text: Este produto é, sem dúvida, o mais resistente que já usei! A qualidade dos materiais é impressionante e ele suporta o uso diário sem apresentar sinais de desgaste. Perfeito para quem busca durabilidade e confiabilidade. Recomendo a todos que precisam de um item que realmente aguente o tranco!\n"
          ]
        },
        {
          "name": "stderr",
          "output_type": "stream",
          "text": [
            "\rGenerating for OUTPUT-b2w_dev_reviewText_LLAMA_bm25-none_k4:  29%|██▊       | 714/2500 [08:20<22:31,  1.32it/s]"
          ]
        },
        {
          "name": "stdout",
          "output_type": "stream",
          "text": [
            "Review text: \"Este produto superou minhas expectativas! A eficiência é notável e realmente entrega o que promete. Além disso, o design é prático e fácil de usar. Recomendo a todos que buscam qualidade e resultados rápidos!\"\n"
          ]
        },
        {
          "name": "stderr",
          "output_type": "stream",
          "text": [
            "\rGenerating for OUTPUT-b2w_dev_reviewText_LLAMA_bm25-none_k4:  29%|██▊       | 715/2500 [08:21<21:08,  1.41it/s]"
          ]
        },
        {
          "name": "stdout",
          "output_type": "stream",
          "text": [
            "Review text: \"Comprei este produto e fiquei muito satisfeito! A qualidade é excelente e o preço é imbatível. Vale muito a pena para quem busca algo eficiente sem gastar muito. Recomendo!\"\n"
          ]
        },
        {
          "name": "stderr",
          "output_type": "stream",
          "text": [
            "\rGenerating for OUTPUT-b2w_dev_reviewText_LLAMA_bm25-none_k4:  29%|██▊       | 716/2500 [08:21<21:33,  1.38it/s]"
          ]
        },
        {
          "name": "stdout",
          "output_type": "stream",
          "text": [
            "Review text: \"O produto tem suas qualidades, mas também apresenta algumas falhas. A funcionalidade é boa, mas não atende totalmente às minhas expectativas. O design é atraente, mas a durabilidade deixou a desejar. No geral, é um item que pode ser útil, mas não é exatamente o que eu esperava.\"\n"
          ]
        },
        {
          "name": "stderr",
          "output_type": "stream",
          "text": [
            "\rGenerating for OUTPUT-b2w_dev_reviewText_LLAMA_bm25-none_k4:  29%|██▊       | 717/2500 [08:22<19:09,  1.55it/s]"
          ]
        },
        {
          "name": "stdout",
          "output_type": "stream",
          "text": [
            "Review text: Este produto superou minhas expectativas! A qualidade é excelente e o desempenho é incrível. Recomendo a todos que buscam um bom investimento. Vale cada centavo!\n"
          ]
        },
        {
          "name": "stderr",
          "output_type": "stream",
          "text": [
            "\rGenerating for OUTPUT-b2w_dev_reviewText_LLAMA_bm25-none_k4:  29%|██▊       | 718/2500 [08:22<18:13,  1.63it/s]"
          ]
        },
        {
          "name": "stdout",
          "output_type": "stream",
          "text": [
            "Review text: Este produto superou minhas expectativas! A qualidade é excelente e ele funciona perfeitamente. Recomendo para quem busca algo eficiente e durável. Vale cada centavo!\n"
          ]
        },
        {
          "name": "stderr",
          "output_type": "stream",
          "text": [
            "\rGenerating for OUTPUT-b2w_dev_reviewText_LLAMA_bm25-none_k4:  29%|██▉       | 719/2500 [08:23<21:44,  1.37it/s]"
          ]
        },
        {
          "name": "stdout",
          "output_type": "stream",
          "text": [
            "Review text: \"O Aspirador de Pó Electrolux Nano - 1000w superou minhas expectativas! A potência é incrível, e ele consegue remover até a sujeira mais difícil. O design compacto facilita o manuseio e o armazenamento, além de ser leve. A variedade de acessórios é um grande diferencial, permitindo alcançar os cantos mais difíceis da casa. A única desvantagem que encontrei foi o nível de ruído, que poderia ser um pouco menor. No geral, é um ótimo investimento para quem busca eficiência e praticidade na limpeza!\"\n"
          ]
        },
        {
          "name": "stderr",
          "output_type": "stream",
          "text": [
            "\rGenerating for OUTPUT-b2w_dev_reviewText_LLAMA_bm25-none_k4:  29%|██▉       | 720/2500 [08:24<21:34,  1.38it/s]"
          ]
        },
        {
          "name": "stdout",
          "output_type": "stream",
          "text": [
            "Review text: Este producto superó todas mis expectativas. La calidad es impresionante y funciona a la perfección. Definitivamente lo recomendaría a amigos y familiares. ¡Una excelente compra!\n"
          ]
        },
        {
          "name": "stderr",
          "output_type": "stream",
          "text": [
            "\rGenerating for OUTPUT-b2w_dev_reviewText_LLAMA_bm25-none_k4:  29%|██▉       | 721/2500 [08:25<21:57,  1.35it/s]"
          ]
        },
        {
          "name": "stdout",
          "output_type": "stream",
          "text": [
            "Review text: Eu realmente detestei este produto. A qualidade não atendeu às minhas expectativas e o desempenho foi decepcionante. Além disso, o atendimento ao cliente foi insatisfatório. Não recomendo.\n"
          ]
        },
        {
          "name": "stderr",
          "output_type": "stream",
          "text": [
            "\rGenerating for OUTPUT-b2w_dev_reviewText_LLAMA_bm25-none_k4:  29%|██▉       | 722/2500 [08:25<19:44,  1.50it/s]"
          ]
        },
        {
          "name": "stdout",
          "output_type": "stream",
          "text": [
            "Review text: Estou muito satisfeito com a minha compra! O produto superou minhas expectativas em qualidade e desempenho. Valeu cada centavo e recomendo a todos que estão pensando em adquirir. Ótima aquisição!\n"
          ]
        },
        {
          "name": "stderr",
          "output_type": "stream",
          "text": [
            "\rGenerating for OUTPUT-b2w_dev_reviewText_LLAMA_bm25-none_k4:  29%|██▉       | 723/2500 [08:26<18:30,  1.60it/s]"
          ]
        },
        {
          "name": "stdout",
          "output_type": "stream",
          "text": [
            "Review text: Este produto superou minhas expectativas! A qualidade é excelente e o desempenho é impressionante. Recomendo a todos que buscam um item confiável e eficiente. Ótima compra!\n"
          ]
        },
        {
          "name": "stderr",
          "output_type": "stream",
          "text": [
            "\rGenerating for OUTPUT-b2w_dev_reviewText_LLAMA_bm25-none_k4:  29%|██▉       | 724/2500 [08:27<19:13,  1.54it/s]"
          ]
        },
        {
          "name": "stdout",
          "output_type": "stream",
          "text": [
            "Review text: Infelizmente, não recebi o produto que pedi. Fiz o pedido há semanas e até agora não tive nenhuma atualização sobre a entrega. Estou bastante desapontado com a falta de comunicação e espero que a situação seja resolvida em breve.\n"
          ]
        },
        {
          "name": "stderr",
          "output_type": "stream",
          "text": [
            "\rGenerating for OUTPUT-b2w_dev_reviewText_LLAMA_bm25-none_k4:  29%|██▉       | 725/2500 [08:27<18:54,  1.56it/s]"
          ]
        },
        {
          "name": "stdout",
          "output_type": "stream",
          "text": [
            "Review text: Este produto superou minhas expectativas! A qualidade é excelente e o desempenho é notável. Recomendo a todos que buscam algo confiável e eficiente. Vale cada centavo!\n"
          ]
        },
        {
          "name": "stderr",
          "output_type": "stream",
          "text": [
            "\rGenerating for OUTPUT-b2w_dev_reviewText_LLAMA_bm25-none_k4:  29%|██▉       | 726/2500 [08:28<22:13,  1.33it/s]"
          ]
        },
        {
          "name": "stdout",
          "output_type": "stream",
          "text": [
            "Review text: Este aspirador ha superado todas mis expectativas. Su potencia de succión es impresionante, logrando recoger hasta la suciedad más difícil. Además, es ligero y fácil de manejar, lo que hace que limpiar sea mucho más rápido y eficiente. Me encanta su diseño moderno y la variedad de accesorios que vienen incluidos. Sin duda, lo recomendaría a cualquiera que busque un aspirador de alta calidad. ¡Una excelente compra!\n"
          ]
        },
        {
          "name": "stderr",
          "output_type": "stream",
          "text": [
            "\rGenerating for OUTPUT-b2w_dev_reviewText_LLAMA_bm25-none_k4:  29%|██▉       | 727/2500 [08:29<19:26,  1.52it/s]"
          ]
        },
        {
          "name": "stdout",
          "output_type": "stream",
          "text": [
            "Review text: Este produto superou minhas expectativas! A qualidade é excepcional e o desempenho é impecável. Recomendo a todos que buscam um item confiável e eficiente. Vale cada centavo!\n"
          ]
        },
        {
          "name": "stderr",
          "output_type": "stream",
          "text": [
            "\rGenerating for OUTPUT-b2w_dev_reviewText_LLAMA_bm25-none_k4:  29%|██▉       | 728/2500 [08:29<18:30,  1.60it/s]"
          ]
        },
        {
          "name": "stdout",
          "output_type": "stream",
          "text": [
            "Review text: Este é um produto excelente! Atendeu todas as minhas expectativas e a qualidade é incrível. Recomendo a todos que buscam algo eficaz e durável. Com certeza, voltarei a comprar!\n"
          ]
        },
        {
          "name": "stderr",
          "output_type": "stream",
          "text": [
            "\rGenerating for OUTPUT-b2w_dev_reviewText_LLAMA_bm25-none_k4:  29%|██▉       | 729/2500 [08:30<16:50,  1.75it/s]"
          ]
        },
        {
          "name": "stdout",
          "output_type": "stream",
          "text": [
            "Review text: Este producto superó mis expectativas. La calidad es excepcional y funciona a la perfección. Definitivamente lo recomendaría a otros. ¡Estoy muy satisfecho con mi compra!\n"
          ]
        },
        {
          "name": "stderr",
          "output_type": "stream",
          "text": [
            "\rGenerating for OUTPUT-b2w_dev_reviewText_LLAMA_bm25-none_k4:  29%|██▉       | 730/2500 [08:30<18:49,  1.57it/s]"
          ]
        },
        {
          "name": "stdout",
          "output_type": "stream",
          "text": [
            "Review text: \"A máquina é realmente bonita e traz um design moderno que combina com qualquer cozinha. Além disso, sua funcionalidade é excelente, cumprindo todas as promessas de eficiência. No entanto, o barulho durante o funcionamento é um ponto negativo que não pode ser ignorado. Para quem busca um produto estético e prático, vale a pena, mas esteja preparado para o ruído.\"\n"
          ]
        },
        {
          "name": "stderr",
          "output_type": "stream",
          "text": [
            "\rGenerating for OUTPUT-b2w_dev_reviewText_LLAMA_bm25-none_k4:  29%|██▉       | 731/2500 [08:31<18:33,  1.59it/s]"
          ]
        },
        {
          "name": "stdout",
          "output_type": "stream",
          "text": [
            "Review text: ¡Estoy muy impresionado con este producto! La calidad es excepcional y ha superado mis expectativas en todos los aspectos. Definitivamente lo recomendaría a amigos y familiares. ¡Excelente compra!\n"
          ]
        },
        {
          "name": "stderr",
          "output_type": "stream",
          "text": [
            "\rGenerating for OUTPUT-b2w_dev_reviewText_LLAMA_bm25-none_k4:  29%|██▉       | 732/2500 [08:32<18:50,  1.56it/s]"
          ]
        },
        {
          "name": "stdout",
          "output_type": "stream",
          "text": [
            "Review text: Este produto superou minhas expectativas! A qualidade é excepcional e a entrega foi feita antes do prazo, o que me deixou muito satisfeito. Recomendo a todos que buscam um bom investimento. Com certeza voltarei a comprar!\n"
          ]
        },
        {
          "name": "stderr",
          "output_type": "stream",
          "text": [
            "\rGenerating for OUTPUT-b2w_dev_reviewText_LLAMA_bm25-none_k4:  29%|██▉       | 733/2500 [08:32<18:51,  1.56it/s]"
          ]
        },
        {
          "name": "stdout",
          "output_type": "stream",
          "text": [
            "Review text: Este produto simplesmente não funciona como prometido. Tentei várias vezes e não obtive nenhum resultado. Uma decepção total! Não recomendo.\n"
          ]
        },
        {
          "name": "stderr",
          "output_type": "stream",
          "text": [
            "\rGenerating for OUTPUT-b2w_dev_reviewText_LLAMA_bm25-none_k4:  29%|██▉       | 734/2500 [08:33<18:30,  1.59it/s]"
          ]
        },
        {
          "name": "stdout",
          "output_type": "stream",
          "text": [
            "Review text: \"Ainda não tive a oportunidade de experimentar o produto completamente, mas a primeira impressão é positiva. A embalagem é atraente e parece bem feita. Espero que atenda às minhas expectativas quando eu começar a usá-lo.\"\n"
          ]
        },
        {
          "name": "stderr",
          "output_type": "stream",
          "text": [
            "\rGenerating for OUTPUT-b2w_dev_reviewText_LLAMA_bm25-none_k4:  29%|██▉       | 735/2500 [08:34<19:16,  1.53it/s]"
          ]
        },
        {
          "name": "stdout",
          "output_type": "stream",
          "text": [
            "Review text: Este produto superou minhas expectativas! A qualidade é excelente e o desempenho é notável. Recomendo a todos que buscam algo eficaz e durável. Vale cada centavo!\n"
          ]
        },
        {
          "name": "stderr",
          "output_type": "stream",
          "text": [
            "\rGenerating for OUTPUT-b2w_dev_reviewText_LLAMA_bm25-none_k4:  29%|██▉       | 736/2500 [08:34<18:48,  1.56it/s]"
          ]
        },
        {
          "name": "stdout",
          "output_type": "stream",
          "text": [
            "Review text: \"Adorei essa peça! Além de ser super bonita, ela é muito funcional e se encaixa perfeitamente no meu dia a dia. A qualidade é excelente e o design é encantador. Recomendo para quem busca estilo e praticidade!\"\n"
          ]
        },
        {
          "name": "stderr",
          "output_type": "stream",
          "text": [
            "\rGenerating for OUTPUT-b2w_dev_reviewText_LLAMA_bm25-none_k4:  29%|██▉       | 737/2500 [08:36<30:56,  1.05s/it]"
          ]
        },
        {
          "name": "stdout",
          "output_type": "stream",
          "text": [
            "Review text: \"Este produto superou todas as minhas expectativas! A qualidade é excepcional e o desempenho é impecável. Recomendo a todos que buscam algo realmente eficaz e durável. Vale cada centavo!\"\n"
          ]
        },
        {
          "name": "stderr",
          "output_type": "stream",
          "text": [
            "\rGenerating for OUTPUT-b2w_dev_reviewText_LLAMA_bm25-none_k4:  30%|██▉       | 738/2500 [08:37<25:21,  1.16it/s]"
          ]
        },
        {
          "name": "stdout",
          "output_type": "stream",
          "text": [
            "Review text: \"Este produto superou todas as minhas expectativas! A qualidade é incrível e realmente faz a diferença no meu dia a dia. Recomendo a todos que buscam algo eficiente e prático. Adorei!\"\n"
          ]
        },
        {
          "name": "stderr",
          "output_type": "stream",
          "text": [
            "\rGenerating for OUTPUT-b2w_dev_reviewText_LLAMA_bm25-none_k4:  30%|██▉       | 739/2500 [08:37<22:57,  1.28it/s]"
          ]
        },
        {
          "name": "stdout",
          "output_type": "stream",
          "text": [
            "Review text: Infelizmente, não recebi o produto que pedi. Fiz o pedido há semanas e não houve nenhuma atualização sobre o envio. Estou bastante decepcionado com a falta de comunicação e espero que essa situação seja resolvida rapidamente.\n"
          ]
        },
        {
          "name": "stderr",
          "output_type": "stream",
          "text": [
            "\rGenerating for OUTPUT-b2w_dev_reviewText_LLAMA_bm25-none_k4:  30%|██▉       | 740/2500 [08:38<21:52,  1.34it/s]"
          ]
        },
        {
          "name": "stdout",
          "output_type": "stream",
          "text": [
            "Review text: A geladeira chegou com um problema na parte interna, onde se prende a prateleira de extrafrio, que veio quebrada. Isso foi decepcionante, pois esperava um produto em perfeitas condições. Espero que a assistência ao cliente resolva essa questão rapidamente.\n"
          ]
        },
        {
          "name": "stderr",
          "output_type": "stream",
          "text": [
            "\rGenerating for OUTPUT-b2w_dev_reviewText_LLAMA_bm25-none_k4:  30%|██▉       | 741/2500 [08:39<20:33,  1.43it/s]"
          ]
        },
        {
          "name": "stdout",
          "output_type": "stream",
          "text": [
            "Review text: Este produto superou minhas expectativas! A qualidade é excelente e atendeu todas as minhas necessidades. No entanto, o único ponto negativo foi a entrega; o entregador poderia ter um ajudante para facilitar o processo. No geral, recomendo!\n"
          ]
        },
        {
          "name": "stderr",
          "output_type": "stream",
          "text": [
            "\rGenerating for OUTPUT-b2w_dev_reviewText_LLAMA_bm25-none_k4:  30%|██▉       | 742/2500 [08:39<18:37,  1.57it/s]"
          ]
        },
        {
          "name": "stdout",
          "output_type": "stream",
          "text": [
            "Review text: Este produto superou minhas expectativas! A qualidade é excelente e o desempenho é notável. Recomendo a todos que buscam algo confiável e eficaz. Com certeza, voltarei a comprar!\n"
          ]
        },
        {
          "name": "stderr",
          "output_type": "stream",
          "text": [
            "\rGenerating for OUTPUT-b2w_dev_reviewText_LLAMA_bm25-none_k4:  30%|██▉       | 743/2500 [08:40<17:43,  1.65it/s]"
          ]
        },
        {
          "name": "stdout",
          "output_type": "stream",
          "text": [
            "Review text: \"Estou extremamente satisfeito com este produto! A qualidade é excelente e atendeu todas as minhas expectativas. Recomendo a todos que buscam algo eficaz e duradouro. Vale cada centavo!\"\n"
          ]
        },
        {
          "name": "stderr",
          "output_type": "stream",
          "text": [
            "\rGenerating for OUTPUT-b2w_dev_reviewText_LLAMA_bm25-none_k4:  30%|██▉       | 744/2500 [08:40<18:44,  1.56it/s]"
          ]
        },
        {
          "name": "stdout",
          "output_type": "stream",
          "text": [
            "Review text: Adorei o produto! A qualidade superou minhas expectativas e o desempenho é incrível. Com certeza, vou recomendar para amigos e familiares. Vale cada centavo!\n"
          ]
        },
        {
          "name": "stderr",
          "output_type": "stream",
          "text": [
            "\rGenerating for OUTPUT-b2w_dev_reviewText_LLAMA_bm25-none_k4:  30%|██▉       | 745/2500 [08:41<17:05,  1.71it/s]"
          ]
        },
        {
          "name": "stdout",
          "output_type": "stream",
          "text": [
            "Review text: Este produto superou todas as minhas expectativas! A qualidade é excepcional e os resultados são visíveis desde o primeiro uso. Recomendo a todos que buscam um produto eficaz e confiável. Vale cada centavo!\n"
          ]
        },
        {
          "name": "stderr",
          "output_type": "stream",
          "text": [
            "\rGenerating for OUTPUT-b2w_dev_reviewText_LLAMA_bm25-none_k4:  30%|██▉       | 746/2500 [08:42<18:25,  1.59it/s]"
          ]
        },
        {
          "name": "stdout",
          "output_type": "stream",
          "text": [
            "Review text: This product did not meet my expectations at all. The quality is subpar, and it failed to perform as advertised. I encountered numerous issues, and overall, it was a disappointing experience. I would not recommend it to anyone.\n"
          ]
        },
        {
          "name": "stderr",
          "output_type": "stream",
          "text": [
            "\rGenerating for OUTPUT-b2w_dev_reviewText_LLAMA_bm25-none_k4:  30%|██▉       | 747/2500 [08:42<18:16,  1.60it/s]"
          ]
        },
        {
          "name": "stdout",
          "output_type": "stream",
          "text": [
            "Review text: Este produto superou minhas expectativas! A qualidade é excelente e ele funciona perfeitamente. Recomendo a todos que buscam um item confiável e eficaz. Vale cada centavo!\n"
          ]
        },
        {
          "name": "stderr",
          "output_type": "stream",
          "text": [
            "\rGenerating for OUTPUT-b2w_dev_reviewText_LLAMA_bm25-none_k4:  30%|██▉       | 748/2500 [08:43<18:27,  1.58it/s]"
          ]
        },
        {
          "name": "stdout",
          "output_type": "stream",
          "text": [
            "Review text: Este produto não atendeu às minhas expectativas. A descrição prometia muito mais do que realmente entregou. A qualidade é inferior e não vale o preço pago. Senti que foi uma verdadeira enganação. Não recomendo!\n"
          ]
        },
        {
          "name": "stderr",
          "output_type": "stream",
          "text": [
            "\rGenerating for OUTPUT-b2w_dev_reviewText_LLAMA_bm25-none_k4:  30%|██▉       | 749/2500 [08:43<18:10,  1.61it/s]"
          ]
        },
        {
          "name": "stdout",
          "output_type": "stream",
          "text": [
            "Review text: Este produto realmente surpreendeu pelo seu excelente custo-benefício. A qualidade é impressionante, considerando o preço acessível. Atendeu todas as minhas expectativas e ainda mais! Recomendo para quem busca uma boa opção sem gastar muito.\n"
          ]
        },
        {
          "name": "stderr",
          "output_type": "stream",
          "text": [
            "\rGenerating for OUTPUT-b2w_dev_reviewText_LLAMA_bm25-none_k4:  30%|███       | 750/2500 [08:44<18:16,  1.60it/s]"
          ]
        },
        {
          "name": "stdout",
          "output_type": "stream",
          "text": [
            "Review text: Este produto superou minhas expectativas! A qualidade é excelente e ele cumpre muito bem sua função. Recomendo a todos que buscam um item confiável e eficiente. Vale cada centavo!\n"
          ]
        },
        {
          "name": "stderr",
          "output_type": "stream",
          "text": [
            "\rGenerating for OUTPUT-b2w_dev_reviewText_LLAMA_bm25-none_k4:  30%|███       | 751/2500 [08:45<23:36,  1.23it/s]"
          ]
        },
        {
          "name": "stdout",
          "output_type": "stream",
          "text": [
            "Review text: Este produto superou minhas expectativas! A qualidade é excelente e o desempenho é notável. Recomendo a todos que buscam algo confiável e eficiente. Vale cada centavo!\n"
          ]
        },
        {
          "name": "stderr",
          "output_type": "stream",
          "text": [
            "\rGenerating for OUTPUT-b2w_dev_reviewText_LLAMA_bm25-none_k4:  30%|███       | 752/2500 [08:47<33:38,  1.15s/it]"
          ]
        },
        {
          "name": "stdout",
          "output_type": "stream",
          "text": [
            "Review text: Infelizmente, o produto que recebi veio com defeito. Ao abrir a embalagem, percebi que não funcionava como esperado. Tentei entrar em contato com o suporte, mas a resposta foi demorada. Fiquei bastante desapontado com a qualidade e espero que isso seja resolvido rapidamente.\n"
          ]
        },
        {
          "name": "stderr",
          "output_type": "stream",
          "text": [
            "\rGenerating for OUTPUT-b2w_dev_reviewText_LLAMA_bm25-none_k4:  30%|███       | 753/2500 [08:48<28:32,  1.02it/s]"
          ]
        },
        {
          "name": "stdout",
          "output_type": "stream",
          "text": [
            "Review text: Este produto não atendeu minhas expectativas. A qualidade não é a esperada e não cumpre as funções prometidas. Infelizmente, não consegui usá-lo da maneira que precisava.\n"
          ]
        },
        {
          "name": "stderr",
          "output_type": "stream",
          "text": [
            "\rGenerating for OUTPUT-b2w_dev_reviewText_LLAMA_bm25-none_k4:  30%|███       | 754/2500 [08:49<27:09,  1.07it/s]"
          ]
        },
        {
          "name": "stdout",
          "output_type": "stream",
          "text": [
            "Review text: O produto realmente atende ao que promete e cumpre sua função de forma eficaz. No entanto, ele faz um barulho considerável durante o uso, o que pode ser um pouco incômodo. Se você não se importar com o ruído, é uma boa escolha!\n"
          ]
        },
        {
          "name": "stderr",
          "output_type": "stream",
          "text": [
            "\rGenerating for OUTPUT-b2w_dev_reviewText_LLAMA_bm25-none_k4:  30%|███       | 755/2500 [08:49<23:51,  1.22it/s]"
          ]
        },
        {
          "name": "stdout",
          "output_type": "stream",
          "text": [
            "Review text: This product exceeded my expectations! The quality is fantastic, and it performs exactly as described. I particularly appreciate the attention to detail and the thoughtful design. Highly recommend for anyone looking for a reliable option!\n"
          ]
        },
        {
          "name": "stderr",
          "output_type": "stream",
          "text": [
            "\rGenerating for OUTPUT-b2w_dev_reviewText_LLAMA_bm25-none_k4:  30%|███       | 756/2500 [08:50<22:46,  1.28it/s]"
          ]
        },
        {
          "name": "stdout",
          "output_type": "stream",
          "text": [
            "Review text: Tramontina é uma marca que nunca decepciona! A qualidade dos produtos é realmente garantida, e cada item que comprei superou minhas expectativas. As panelas aquecem uniformemente e são fáceis de limpar, o que torna a experiência na cozinha muito mais agradável. Além disso, o design é elegante e se encaixa perfeitamente na minha decoração. Recomendo para quem busca durabilidade e eficiência!\n"
          ]
        },
        {
          "name": "stderr",
          "output_type": "stream",
          "text": [
            "\rGenerating for OUTPUT-b2w_dev_reviewText_LLAMA_bm25-none_k4:  30%|███       | 757/2500 [08:51<21:31,  1.35it/s]"
          ]
        },
        {
          "name": "stdout",
          "output_type": "stream",
          "text": [
            "Review text: Este produto superou minhas expectativas! A qualidade é excelente e ele funciona perfeitamente. Recomendo a todos que estão em busca de algo durável e eficiente. Com certeza vale a pena o investimento!\n"
          ]
        },
        {
          "name": "stderr",
          "output_type": "stream",
          "text": [
            "\rGenerating for OUTPUT-b2w_dev_reviewText_LLAMA_bm25-none_k4:  30%|███       | 758/2500 [08:51<19:57,  1.45it/s]"
          ]
        },
        {
          "name": "stdout",
          "output_type": "stream",
          "text": [
            "Review text: Este producto realmente cumple con lo que promete. Desde el primer uso, noté una mejora significativa. Su eficacia es impresionante y lo recomendaría sin dudarlo. ¡Funciona de maravilla!\n"
          ]
        },
        {
          "name": "stderr",
          "output_type": "stream",
          "text": [
            "\rGenerating for OUTPUT-b2w_dev_reviewText_LLAMA_bm25-none_k4:  30%|███       | 759/2500 [08:52<18:14,  1.59it/s]"
          ]
        },
        {
          "name": "stdout",
          "output_type": "stream",
          "text": [
            "Review text: Estoy muy satisfecho con este producto. La calidad es excepcional y ha superado mis expectativas. Definitivamente lo recomendaría a otros. ¡Excelente compra!\n"
          ]
        },
        {
          "name": "stderr",
          "output_type": "stream",
          "text": [
            "\rGenerating for OUTPUT-b2w_dev_reviewText_LLAMA_bm25-none_k4:  30%|███       | 760/2500 [08:52<20:37,  1.41it/s]"
          ]
        },
        {
          "name": "stdout",
          "output_type": "stream",
          "text": [
            "Review text: As panelas Tramontina são realmente excelentes! A qualidade do material é impressionante, e elas distribuem o calor de maneira uniforme, garantindo que os alimentos cozinhem perfeitamente. Além disso, o design é muito bonito e moderno, o que agrega um charme à minha cozinha. A durabilidade também é um ponto forte; já as usei várias vezes e continuam como novas. Recomendo a todos que buscam praticidade e eficiência na cozinha!\n"
          ]
        },
        {
          "name": "stderr",
          "output_type": "stream",
          "text": [
            "\rGenerating for OUTPUT-b2w_dev_reviewText_LLAMA_bm25-none_k4:  30%|███       | 761/2500 [08:53<19:35,  1.48it/s]"
          ]
        },
        {
          "name": "stdout",
          "output_type": "stream",
          "text": [
            "Review text: Infelizmente, a durabilidade deste produto deixou muito a desejar. Após poucas semanas de uso, já comecei a notar sinais de desgaste e falhas. Esperava uma qualidade melhor, considerando o preço. Não recomendo para quem busca algo que dure mais tempo.\n"
          ]
        },
        {
          "name": "stderr",
          "output_type": "stream",
          "text": [
            "\rGenerating for OUTPUT-b2w_dev_reviewText_LLAMA_bm25-none_k4:  30%|███       | 762/2500 [08:54<18:38,  1.55it/s]"
          ]
        },
        {
          "name": "stdout",
          "output_type": "stream",
          "text": [
            "Review text: Estou muito satisfeito com este produto! Atendeu perfeitamente às minhas necessidades e superou minhas expectativas. A qualidade é excelente e o desempenho é notável. Recomendo a todos que buscam algo eficiente e confiável.\n"
          ]
        },
        {
          "name": "stderr",
          "output_type": "stream",
          "text": [
            "\rGenerating for OUTPUT-b2w_dev_reviewText_LLAMA_bm25-none_k4:  31%|███       | 763/2500 [08:54<17:52,  1.62it/s]"
          ]
        },
        {
          "name": "stdout",
          "output_type": "stream",
          "text": [
            "Review text: Este produto realmente atende a todas as minhas necessidades. A qualidade é excelente e a funcionalidade é perfeita para o que eu estava procurando. Estou muito satisfeito com a compra e recomendo a todos que buscam algo confiável e eficiente.\n"
          ]
        },
        {
          "name": "stderr",
          "output_type": "stream",
          "text": [
            "\rGenerating for OUTPUT-b2w_dev_reviewText_LLAMA_bm25-none_k4:  31%|███       | 764/2500 [08:55<15:53,  1.82it/s]"
          ]
        },
        {
          "name": "stdout",
          "output_type": "stream",
          "text": [
            "Review text: Este produto superou minhas expectativas! A qualidade é excelente e ele funciona perfeitamente. Recomendo a todos que buscam um bom investimento. Vale cada centavo!\n"
          ]
        },
        {
          "name": "stderr",
          "output_type": "stream",
          "text": [
            "\rGenerating for OUTPUT-b2w_dev_reviewText_LLAMA_bm25-none_k4:  31%|███       | 765/2500 [08:55<16:19,  1.77it/s]"
          ]
        },
        {
          "name": "stdout",
          "output_type": "stream",
          "text": [
            "Review text: Este produto é extremamente prático e fácil de usar. Ele se adapta perfeitamente às minhas necessidades diárias, tornando as tarefas muito mais simples. A qualidade é excelente e a durabilidade parece promissora. Recomendo a todos que buscam eficiência e funcionalidade!\n"
          ]
        },
        {
          "name": "stderr",
          "output_type": "stream",
          "text": [
            "\rGenerating for OUTPUT-b2w_dev_reviewText_LLAMA_bm25-none_k4:  31%|███       | 766/2500 [08:56<22:26,  1.29it/s]"
          ]
        },
        {
          "name": "stdout",
          "output_type": "stream",
          "text": [
            "Review text: \"O Aspirador de Pó e Água Electrolux A10N1 superou minhas expectativas! Sua potência é impressionante e a versatilidade de poder aspirar tanto pó quanto líquidos é um grande diferencial. O design é ergonômico, facilitando o manuseio, e o cabo é longo o suficiente para alcançar áreas mais distantes sem precisar trocar de tomada. A limpeza do filtro é simples e rápida, o que é um grande ponto positivo. Recomendo para quem busca eficiência e praticidade na limpeza da casa!\"\n"
          ]
        },
        {
          "name": "stderr",
          "output_type": "stream",
          "text": [
            "\rGenerating for OUTPUT-b2w_dev_reviewText_LLAMA_bm25-none_k4:  31%|███       | 767/2500 [08:57<22:03,  1.31it/s]"
          ]
        },
        {
          "name": "stdout",
          "output_type": "stream",
          "text": [
            "Review text: A qualidade do produto é excepcional! Os materiais utilizados são de primeira linha e a durabilidade é notável. Estou muito satisfeito com a compra e recomendo a todos que buscam um item confiável e bem feito. Vale cada centavo!\n"
          ]
        },
        {
          "name": "stderr",
          "output_type": "stream",
          "text": [
            "\rGenerating for OUTPUT-b2w_dev_reviewText_LLAMA_bm25-none_k4:  31%|███       | 768/2500 [08:58<21:36,  1.34it/s]"
          ]
        },
        {
          "name": "stdout",
          "output_type": "stream",
          "text": [
            "Review text: Este produto realmente superou minhas expectativas! A qualidade é excepcional e se destaca em comparação com outros que já usei. Os materiais são duráveis e o desempenho é impecável. Recomendo a todos que buscam um produto confiável e de alta qualidade. Vale cada centavo!\n"
          ]
        },
        {
          "name": "stderr",
          "output_type": "stream",
          "text": [
            "\rGenerating for OUTPUT-b2w_dev_reviewText_LLAMA_bm25-none_k4:  31%|███       | 769/2500 [08:59<24:07,  1.20it/s]"
          ]
        },
        {
          "name": "stdout",
          "output_type": "stream",
          "text": [
            "Review text: \"I recently purchased the Aspirador Electrolux, and I couldn't be happier with my decision! The suction power is impressive, making it easy to clean both carpets and hard floors. It's lightweight and easy to maneuver, which is a huge plus for my small apartment. The design is sleek and modern, fitting perfectly with my home decor. I also appreciate the variety of attachments that come with it, allowing me to tackle different cleaning tasks effortlessly. Overall, this vacuum has exceeded my expectations and has made cleaning a much more enjoyable experience!\"\n"
          ]
        },
        {
          "name": "stderr",
          "output_type": "stream",
          "text": [
            "\rGenerating for OUTPUT-b2w_dev_reviewText_LLAMA_bm25-none_k4:  31%|███       | 770/2500 [09:00<23:47,  1.21it/s]"
          ]
        },
        {
          "name": "stdout",
          "output_type": "stream",
          "text": [
            "Review text: Este aspirador ha superado mis expectativas. Su potencia de succión es impresionante, y se maneja con facilidad en diferentes superficies. Además, es bastante silencioso en comparación con otros modelos que he probado. La duración de la batería es excelente, lo que me permite limpiar toda la casa sin interrupciones. Definitivamente, lo recomendaría a cualquiera que busque un aspirador eficiente y de calidad. ¡Una gran compra!\n"
          ]
        },
        {
          "name": "stderr",
          "output_type": "stream",
          "text": [
            "\rGenerating for OUTPUT-b2w_dev_reviewText_LLAMA_bm25-none_k4:  31%|███       | 771/2500 [09:00<21:35,  1.33it/s]"
          ]
        },
        {
          "name": "stdout",
          "output_type": "stream",
          "text": [
            "Review text: Este produto superou minhas expectativas! A qualidade é excelente e ele funciona perfeitamente. Recomendo a todos que buscam um item confiável e eficiente. Vale cada centavo!\n"
          ]
        },
        {
          "name": "stderr",
          "output_type": "stream",
          "text": [
            "\rGenerating for OUTPUT-b2w_dev_reviewText_LLAMA_bm25-none_k4:  31%|███       | 772/2500 [09:01<20:26,  1.41it/s]"
          ]
        },
        {
          "name": "stdout",
          "output_type": "stream",
          "text": [
            "Review text: Este producto superó todas mis expectativas. La calidad es excepcional y su rendimiento es impresionante. Definitivamente lo recomendaría a cualquiera que busque algo confiable y efectivo. ¡Una compra excelente!\n"
          ]
        },
        {
          "name": "stderr",
          "output_type": "stream",
          "text": [
            "\rGenerating for OUTPUT-b2w_dev_reviewText_LLAMA_bm25-none_k4:  31%|███       | 773/2500 [09:04<38:49,  1.35s/it]"
          ]
        },
        {
          "name": "stdout",
          "output_type": "stream",
          "text": [
            "Review text: Infelizmente, o produto não atendeu às minhas expectativas. A qualidade não é boa e não funcionou como prometido. Senti que foi um desperdício de dinheiro e não recomendo.\n"
          ]
        },
        {
          "name": "stderr",
          "output_type": "stream",
          "text": [
            "\rGenerating for OUTPUT-b2w_dev_reviewText_LLAMA_bm25-none_k4:  31%|███       | 774/2500 [09:05<35:53,  1.25s/it]"
          ]
        },
        {
          "name": "stdout",
          "output_type": "stream",
          "text": [
            "Review text: Este aspirador de pó superou minhas expectativas! A potência de sucção é excelente, conseguindo remover até a sujeira mais difícil. O design é leve e fácil de manobrar, o que torna a limpeza muito mais prática. Além disso, o nível de ruído é bem baixo, o que é um grande bônus. Recomendo para quem busca eficiência e qualidade em um aspirador!\n"
          ]
        },
        {
          "name": "stderr",
          "output_type": "stream",
          "text": [
            "\rGenerating for OUTPUT-b2w_dev_reviewText_LLAMA_bm25-none_k4:  31%|███       | 775/2500 [09:06<31:57,  1.11s/it]"
          ]
        },
        {
          "name": "stdout",
          "output_type": "stream",
          "text": [
            "Review text: \"Infelizmente, minha experiência foi muito frustrante. Fiz o pedido há semanas e, até agora, não recebi o produto. Tentei entrar em contato com o suporte, mas não obtive resposta satisfatória. Estou desapontado e espero que essa situação seja resolvida em breve.\"\n"
          ]
        },
        {
          "name": "stderr",
          "output_type": "stream",
          "text": [
            "\rGenerating for OUTPUT-b2w_dev_reviewText_LLAMA_bm25-none_k4:  31%|███       | 776/2500 [09:06<26:07,  1.10it/s]"
          ]
        },
        {
          "name": "stdout",
          "output_type": "stream",
          "text": [
            "Review text: Este produto superou minhas expectativas! A qualidade é excelente e o desempenho é incrível. Recomendo a todos que buscam algo confiável e eficaz. Ótima compra!\n"
          ]
        },
        {
          "name": "stderr",
          "output_type": "stream",
          "text": [
            "\rGenerating for OUTPUT-b2w_dev_reviewText_LLAMA_bm25-none_k4:  31%|███       | 777/2500 [09:07<24:28,  1.17it/s]"
          ]
        },
        {
          "name": "stdout",
          "output_type": "stream",
          "text": [
            "Review text: A entrega do produto foi extremamente atrasada, o que causou muita frustração. Esperava receber dentro do prazo informado, mas acabei tendo que esperar muito mais do que o previsto. Isso prejudicou meus planos e gerou uma experiência negativa. Espero que melhorem esse aspecto no futuro.\n"
          ]
        },
        {
          "name": "stderr",
          "output_type": "stream",
          "text": [
            "\rGenerating for OUTPUT-b2w_dev_reviewText_LLAMA_bm25-none_k4:  31%|███       | 778/2500 [09:07<22:01,  1.30it/s]"
          ]
        },
        {
          "name": "stdout",
          "output_type": "stream",
          "text": [
            "Review text: \"Fiquei muito satisfeito com a qualidade e o desempenho deste produto. Atendeu todas as minhas expectativas e superou algumas delas. Recomendo a todos que buscam algo eficaz e confiável!\"\n"
          ]
        },
        {
          "name": "stderr",
          "output_type": "stream",
          "text": [
            "\rGenerating for OUTPUT-b2w_dev_reviewText_LLAMA_bm25-none_k4:  31%|███       | 779/2500 [09:08<23:43,  1.21it/s]"
          ]
        },
        {
          "name": "stdout",
          "output_type": "stream",
          "text": [
            "Review text: \"Comprei o produto e, apesar de ter gostado muito da qualidade e funcionalidade, infelizmente, algumas peças vieram faltando. Isso foi um pouco frustrante, pois esperava que tudo estivesse completo. Espero que na próxima vez a embalagem seja mais cuidadosa. No geral, é um bom produto, mas a falta das peças deixou a experiência um pouco aquém do esperado.\"\n"
          ]
        },
        {
          "name": "stderr",
          "output_type": "stream",
          "text": [
            "\rGenerating for OUTPUT-b2w_dev_reviewText_LLAMA_bm25-none_k4:  31%|███       | 780/2500 [09:09<22:33,  1.27it/s]"
          ]
        },
        {
          "name": "stdout",
          "output_type": "stream",
          "text": [
            "Review text: Esta foi uma das piores aquisições que já fiz. O produto não atendeu às minhas expectativas e apresentou problemas logo na primeira utilização. A qualidade é inferior e não vale o preço pago. Definitivamente, não recomendo!\n"
          ]
        },
        {
          "name": "stderr",
          "output_type": "stream",
          "text": [
            "\rGenerating for OUTPUT-b2w_dev_reviewText_LLAMA_bm25-none_k4:  31%|███       | 781/2500 [09:10<20:57,  1.37it/s]"
          ]
        },
        {
          "name": "stdout",
          "output_type": "stream",
          "text": [
            "Review text: Este produto superou todas as minhas expectativas! A qualidade é excepcional e a performance é incrível. Desde que comecei a usá-lo, notei uma grande diferença. Recomendo a todos que buscam um produto eficaz e confiável. Vale cada centavo!\n"
          ]
        },
        {
          "name": "stderr",
          "output_type": "stream",
          "text": [
            "\rGenerating for OUTPUT-b2w_dev_reviewText_LLAMA_bm25-none_k4:  31%|███▏      | 782/2500 [09:10<20:42,  1.38it/s]"
          ]
        },
        {
          "name": "stdout",
          "output_type": "stream",
          "text": [
            "Review text: \"O produto é realmente bom e atende às expectativas em termos de qualidade e desempenho. No entanto, percebi que faltou uma peça essencial para o funcionamento completo. Isso foi um pouco frustrante, pois tive que buscar uma solução alternativa. Se não fosse por essa falta, teria dado uma avaliação ainda melhor.\"\n"
          ]
        },
        {
          "name": "stderr",
          "output_type": "stream",
          "text": [
            "\rGenerating for OUTPUT-b2w_dev_reviewText_LLAMA_bm25-none_k4:  31%|███▏      | 783/2500 [09:11<20:13,  1.41it/s]"
          ]
        },
        {
          "name": "stdout",
          "output_type": "stream",
          "text": [
            "Review text: Infelizmente, o aspirador não atendeu às minhas expectativas. A potência de sucção é fraca e ele não consegue limpar adequadamente sujeiras mais pesadas. Além disso, o design é pouco prático e a montagem das peças é confusa. Não recomendo este produto.\n"
          ]
        },
        {
          "name": "stderr",
          "output_type": "stream",
          "text": [
            "\rGenerating for OUTPUT-b2w_dev_reviewText_LLAMA_bm25-none_k4:  31%|███▏      | 784/2500 [09:12<22:51,  1.25it/s]"
          ]
        },
        {
          "name": "stdout",
          "output_type": "stream",
          "text": [
            "Review text: \"Infelizmente, a falta de peças para este produto tem sido um grande inconveniente. Tentei realizar algumas manutenções e upgrades, mas não consegui encontrar os componentes necessários. Isso realmente limita a funcionalidade e a experiência geral. Espero que a empresa considere melhorar a disponibilidade de peças no futuro.\"\n"
          ]
        },
        {
          "name": "stderr",
          "output_type": "stream",
          "text": [
            "\rGenerating for OUTPUT-b2w_dev_reviewText_LLAMA_bm25-none_k4:  31%|███▏      | 785/2500 [09:13<22:39,  1.26it/s]"
          ]
        },
        {
          "name": "stdout",
          "output_type": "stream",
          "text": [
            "Review text: \"I recently hiked Mt. Bom and it was an unforgettable experience! The views from the summit were absolutely breathtaking, and the trail was well-maintained. I appreciated the variety of landscapes along the way, from lush forests to rocky outcrops. Make sure to bring plenty of water and snacks, as the hike can be challenging. Overall, I highly recommend this adventure to anyone looking for a great outdoor challenge!\"\n"
          ]
        },
        {
          "name": "stderr",
          "output_type": "stream",
          "text": [
            "\rGenerating for OUTPUT-b2w_dev_reviewText_LLAMA_bm25-none_k4:  31%|███▏      | 786/2500 [09:13<20:40,  1.38it/s]"
          ]
        },
        {
          "name": "stdout",
          "output_type": "stream",
          "text": [
            "Review text: Este produto superou minhas expectativas! A qualidade é excelente e ele funciona perfeitamente. Estou muito satisfeito com a compra e recomendo a todos que estão em busca de algo confiável e eficiente. Vale cada centavo!\n"
          ]
        },
        {
          "name": "stderr",
          "output_type": "stream",
          "text": [
            "\rGenerating for OUTPUT-b2w_dev_reviewText_LLAMA_bm25-none_k4:  31%|███▏      | 787/2500 [09:14<19:09,  1.49it/s]"
          ]
        },
        {
          "name": "stdout",
          "output_type": "stream",
          "text": [
            "Review text: \"Estou muito satisfeito com o produto adquirido! A qualidade superou minhas expectativas e a entrega foi rápida. Recomendo a todos que buscam um bom custo-benefício!\"\n"
          ]
        },
        {
          "name": "stderr",
          "output_type": "stream",
          "text": [
            "\rGenerating for OUTPUT-b2w_dev_reviewText_LLAMA_bm25-none_k4:  32%|███▏      | 788/2500 [09:14<19:03,  1.50it/s]"
          ]
        },
        {
          "name": "stdout",
          "output_type": "stream",
          "text": [
            "Review title: 'Amazing Product!'\n",
            "\n",
            "Review text: This product exceeded my expectations! The quality is outstanding, and it performs flawlessly. I've been using it daily, and I can already see significant improvements. Highly recommend it to anyone considering a purchase!\n"
          ]
        },
        {
          "name": "stderr",
          "output_type": "stream",
          "text": [
            "\rGenerating for OUTPUT-b2w_dev_reviewText_LLAMA_bm25-none_k4:  32%|███▏      | 789/2500 [09:15<19:20,  1.47it/s]"
          ]
        },
        {
          "name": "stdout",
          "output_type": "stream",
          "text": [
            "Review text: Estou muito satisfeita com este produto! A qualidade superou minhas expectativas e ele funciona exatamente como prometido. Recomendo a todos que estão em busca de algo eficiente e confiável. Uma ótima compra!\n"
          ]
        },
        {
          "name": "stderr",
          "output_type": "stream",
          "text": [
            "\rGenerating for OUTPUT-b2w_dev_reviewText_LLAMA_bm25-none_k4:  32%|███▏      | 790/2500 [09:16<18:51,  1.51it/s]"
          ]
        },
        {
          "name": "stdout",
          "output_type": "stream",
          "text": [
            "Review text: Este produto superou minhas expectativas! A qualidade é excelente e o desempenho é notável. Estou muito satisfeito com a compra e definitivamente recomendaria a todos. Ótimo custo-benefício!\n"
          ]
        },
        {
          "name": "stderr",
          "output_type": "stream",
          "text": [
            "\rGenerating for OUTPUT-b2w_dev_reviewText_LLAMA_bm25-none_k4:  32%|███▏      | 791/2500 [09:17<21:25,  1.33it/s]"
          ]
        },
        {
          "name": "stdout",
          "output_type": "stream",
          "text": [
            "Review text: The Moto Eletrica has completely transformed my daily commute! With its sleek design and impressive battery life, I can easily navigate through the city without worrying about running out of power. The acceleration is smooth, and the handling is top-notch, making every ride enjoyable. I also appreciate the eco-friendly aspect, as it’s a great way to reduce my carbon footprint. Overall, I highly recommend the Moto Eletrica for anyone looking for a reliable and stylish electric scooter!\n"
          ]
        },
        {
          "name": "stderr",
          "output_type": "stream",
          "text": [
            "\rGenerating for OUTPUT-b2w_dev_reviewText_LLAMA_bm25-none_k4:  32%|███▏      | 792/2500 [09:17<20:45,  1.37it/s]"
          ]
        },
        {
          "name": "stdout",
          "output_type": "stream",
          "text": [
            "Review text: \"Comprei este produto recentemente e fiquei extremamente satisfeito. A qualidade é excelente e atendeu todas as minhas expectativas. Além disso, a entrega foi rápida e o atendimento ao cliente foi muito eficiente. Recomendo a todos que estão em dúvida!\"\n"
          ]
        },
        {
          "name": "stderr",
          "output_type": "stream",
          "text": [
            "\rGenerating for OUTPUT-b2w_dev_reviewText_LLAMA_bm25-none_k4:  32%|███▏      | 793/2500 [09:18<19:19,  1.47it/s]"
          ]
        },
        {
          "name": "stdout",
          "output_type": "stream",
          "text": [
            "Review text: \"Este produto superou minhas expectativas! A qualidade é excelente e o desempenho é impecável. Recomendo a todos que estão em busca de algo confiável e eficiente. Vale cada centavo!\"\n"
          ]
        },
        {
          "name": "stderr",
          "output_type": "stream",
          "text": [
            "\rGenerating for OUTPUT-b2w_dev_reviewText_LLAMA_bm25-none_k4:  32%|███▏      | 794/2500 [09:19<18:45,  1.52it/s]"
          ]
        },
        {
          "name": "stdout",
          "output_type": "stream",
          "text": [
            "Review text: \"I was pleasantly surprised by the quality of this product. It exceeded my expectations in terms of performance and durability. The design is sleek and user-friendly, making it a joy to use. I would definitely recommend it to others looking for something reliable and efficient!\"\n"
          ]
        },
        {
          "name": "stderr",
          "output_type": "stream",
          "text": [
            "\rGenerating for OUTPUT-b2w_dev_reviewText_LLAMA_bm25-none_k4:  32%|███▏      | 795/2500 [09:19<17:50,  1.59it/s]"
          ]
        },
        {
          "name": "stdout",
          "output_type": "stream",
          "text": [
            "Review text: \"Comprei este produto recentemente e fiquei muito satisfeito com a qualidade e o desempenho. Atendeu todas as minhas expectativas e se destacou pela durabilidade. Recomendo a todos que buscam uma ótima opção no mercado!\"\n"
          ]
        },
        {
          "name": "stderr",
          "output_type": "stream",
          "text": [
            "\rGenerating for OUTPUT-b2w_dev_reviewText_LLAMA_bm25-none_k4:  32%|███▏      | 796/2500 [09:20<20:38,  1.38it/s]"
          ]
        },
        {
          "name": "stdout",
          "output_type": "stream",
          "text": [
            "Review text: \"Comprei essa bota para minha filha de 3 anos, e embora a qualidade seja ótima, achei que a numeração é um pouco pequena. Ela ficou um pouco apertada, o que não é ideal para o conforto dela. Recomendo escolher um tamanho maior se você estiver pensando em comprar. No geral, é uma bota bonita e bem feita, mas a questão do tamanho foi um ponto negativo.\"\n"
          ]
        },
        {
          "name": "stderr",
          "output_type": "stream",
          "text": [
            "\rGenerating for OUTPUT-b2w_dev_reviewText_LLAMA_bm25-none_k4:  32%|███▏      | 797/2500 [09:21<17:52,  1.59it/s]"
          ]
        },
        {
          "name": "stdout",
          "output_type": "stream",
          "text": [
            "Review text: \"Esse produto é excelente! Atendeu todas as minhas expectativas e superou em qualidade. Recomendo para quem busca algo bom e confiável.\"\n"
          ]
        },
        {
          "name": "stderr",
          "output_type": "stream",
          "text": [
            "\rGenerating for OUTPUT-b2w_dev_reviewText_LLAMA_bm25-none_k4:  32%|███▏      | 798/2500 [09:21<16:51,  1.68it/s]"
          ]
        },
        {
          "name": "stdout",
          "output_type": "stream",
          "text": [
            "Review text: Este produto superou minhas expectativas! A qualidade é excelente e ele funciona perfeitamente. Recomendo para quem busca um bom custo-benefício. Vale a pena!\n"
          ]
        },
        {
          "name": "stderr",
          "output_type": "stream",
          "text": [
            "\rGenerating for OUTPUT-b2w_dev_reviewText_LLAMA_bm25-none_k4:  32%|███▏      | 799/2500 [09:22<17:08,  1.65it/s]"
          ]
        },
        {
          "name": "stdout",
          "output_type": "stream",
          "text": [
            "Review text: \"Comprei este produto recentemente e fiquei muito satisfeito com a qualidade. Atendeu todas as minhas expectativas e é exatamente como descrito. A entrega foi rápida e o atendimento ao cliente foi excelente. Recomendo a todos que estão pensando em adquirir!\"\n"
          ]
        },
        {
          "name": "stderr",
          "output_type": "stream",
          "text": [
            "\rGenerating for OUTPUT-b2w_dev_reviewText_LLAMA_bm25-none_k4:  32%|███▏      | 800/2500 [09:22<16:47,  1.69it/s]"
          ]
        },
        {
          "name": "stdout",
          "output_type": "stream",
          "text": [
            "Review text: Este produto chegou com defeito, o que foi muito decepcionante. Esperava uma qualidade melhor e, infelizmente, não atendeu às minhas expectativas. Tive que entrar em contato com o suporte, mas a resolução foi demorada. Não recomendo.\n"
          ]
        },
        {
          "name": "stderr",
          "output_type": "stream",
          "text": [
            "\rGenerating for OUTPUT-b2w_dev_reviewText_LLAMA_bm25-none_k4:  32%|███▏      | 801/2500 [09:23<16:23,  1.73it/s]"
          ]
        },
        {
          "name": "stdout",
          "output_type": "stream",
          "text": [
            "Review text: Este produto superou minhas expectativas! A qualidade é excelente e o desempenho é impecável. Recomendo a todos que buscam um bom investimento. Estou muito satisfeito!\n"
          ]
        },
        {
          "name": "stderr",
          "output_type": "stream",
          "text": [
            "\rGenerating for OUTPUT-b2w_dev_reviewText_LLAMA_bm25-none_k4:  32%|███▏      | 802/2500 [09:23<16:16,  1.74it/s]"
          ]
        },
        {
          "name": "stdout",
          "output_type": "stream",
          "text": [
            "Review text: \"Infelizmente, minha experiência foi extremamente decepcionante. O atendimento foi lento e desatento, e não consegui resolver meu problema. Esperava muito mais, mas o serviço deixou a desejar em todos os aspectos.\"\n"
          ]
        },
        {
          "name": "stderr",
          "output_type": "stream",
          "text": [
            "\rGenerating for OUTPUT-b2w_dev_reviewText_LLAMA_bm25-none_k4:  32%|███▏      | 803/2500 [09:24<17:55,  1.58it/s]"
          ]
        },
        {
          "name": "stdout",
          "output_type": "stream",
          "text": [
            "Review text: A moto elétrica é simplesmente incrível! O desempenho é surpreendente, com uma aceleração suave e sem ruídos. A autonomia da bateria me impressionou, permitindo longas viagens sem preocupações. Além disso, o design é moderno e estiloso, chamando a atenção por onde passo. É uma ótima opção para quem busca sustentabilidade sem abrir mão da performance. Recomendo a todos!\n"
          ]
        },
        {
          "name": "stderr",
          "output_type": "stream",
          "text": [
            "\rGenerating for OUTPUT-b2w_dev_reviewText_LLAMA_bm25-none_k4:  32%|███▏      | 804/2500 [09:25<19:37,  1.44it/s]"
          ]
        },
        {
          "name": "stdout",
          "output_type": "stream",
          "text": [
            "Review text: A moto elétrica bombeiro é simplesmente incrível! O design é robusto e atraente, perfeito para quem busca estilo e funcionalidade. A potência do motor é impressionante, permitindo uma aceleração rápida e uma condução suave. Além disso, a autonomia da bateria é excelente, ideal para longas jornadas. A segurança é uma prioridade, com luzes LED brilhantes e um sistema de frenagem eficiente. Recomendo para quem quer uma experiência de pilotagem emocionante e sustentável!\n"
          ]
        },
        {
          "name": "stderr",
          "output_type": "stream",
          "text": [
            "\rGenerating for OUTPUT-b2w_dev_reviewText_LLAMA_bm25-none_k4:  32%|███▏      | 805/2500 [09:26<22:22,  1.26it/s]"
          ]
        },
        {
          "name": "stdout",
          "output_type": "stream",
          "text": [
            "Review text: Este produto apresenta características que o tornam desafiador de avaliar. Por um lado, possui um design atraente e funcionalidades interessantes, mas, por outro, a performance não atendeu totalmente às minhas expectativas. A experiência de uso foi inconsistente, com alguns recursos funcionando bem, enquanto outros deixaram a desejar. Acredito que, dependendo das necessidades de cada usuário, a avaliação pode variar bastante. É um produto que pode agradar a alguns, mas não a todos.\n"
          ]
        },
        {
          "name": "stderr",
          "output_type": "stream",
          "text": [
            "\rGenerating for OUTPUT-b2w_dev_reviewText_LLAMA_bm25-none_k4:  32%|███▏      | 806/2500 [09:27<24:43,  1.14it/s]"
          ]
        },
        {
          "name": "stdout",
          "output_type": "stream",
          "text": [
            "Review text: \"Fiquei completamente impressionado com a qualidade deste produto! A entrega foi rápida e o atendimento ao cliente foi excepcional. O design é elegante e funcional, superando todas as minhas expectativas. Definitivamente, uma ótima compra que recomendo a todos!\"\n"
          ]
        },
        {
          "name": "stderr",
          "output_type": "stream",
          "text": [
            "\rGenerating for OUTPUT-b2w_dev_reviewText_LLAMA_bm25-none_k4:  32%|███▏      | 807/2500 [09:28<26:02,  1.08it/s]"
          ]
        },
        {
          "name": "stdout",
          "output_type": "stream",
          "text": [
            "Review text: I recently purchased the Moto eletrica, and I couldn't be happier with my decision! The ride is smooth and incredibly quiet, making it perfect for city commuting. The battery life is impressive, lasting longer than I expected on a single charge. The design is sleek and modern, and I love the eco-friendly aspect of it. Overall, this electric motorcycle has exceeded my expectations in both performance and style. Highly recommend for anyone looking to switch to electric!\n"
          ]
        },
        {
          "name": "stderr",
          "output_type": "stream",
          "text": [
            "\rGenerating for OUTPUT-b2w_dev_reviewText_LLAMA_bm25-none_k4:  32%|███▏      | 808/2500 [09:29<23:09,  1.22it/s]"
          ]
        },
        {
          "name": "stdout",
          "output_type": "stream",
          "text": [
            "Review text: Esta ferramenta é extremamente prática e fácil de usar. Desde o primeiro dia, percebi como ela facilitou meu dia a dia. O design é intuitivo e a funcionalidade atende perfeitamente às minhas necessidades. Recomendo para quem busca eficiência e simplicidade!\n"
          ]
        },
        {
          "name": "stderr",
          "output_type": "stream",
          "text": [
            "\rGenerating for OUTPUT-b2w_dev_reviewText_LLAMA_bm25-none_k4:  32%|███▏      | 809/2500 [09:29<21:31,  1.31it/s]"
          ]
        },
        {
          "name": "stdout",
          "output_type": "stream",
          "text": [
            "Review text: \"Este produto é simplesmente lindo! A qualidade é excepcional e o design é encantador. Estou muito satisfeito com a minha compra e recomendo a todos que buscam algo especial.\"\n"
          ]
        },
        {
          "name": "stderr",
          "output_type": "stream",
          "text": [
            "\rGenerating for OUTPUT-b2w_dev_reviewText_LLAMA_bm25-none_k4:  32%|███▏      | 810/2500 [09:30<20:47,  1.35it/s]"
          ]
        },
        {
          "name": "stdout",
          "output_type": "stream",
          "text": [
            "Review text: Este produto realmente superou minhas expectativas. A qualidade é excelente e ele funciona perfeitamente para o que eu precisava. A entrega foi rápida e o atendimento ao cliente foi muito atencioso. Recomendo a todos que estão em dúvida, vale a pena o investimento!\n"
          ]
        },
        {
          "name": "stderr",
          "output_type": "stream",
          "text": [
            "\rGenerating for OUTPUT-b2w_dev_reviewText_LLAMA_bm25-none_k4:  32%|███▏      | 811/2500 [09:31<19:42,  1.43it/s]"
          ]
        },
        {
          "name": "stdout",
          "output_type": "stream",
          "text": [
            "Review text: A cadeirinha é excelente! Confortável e segura, meu filho adora. O design é bonito e fácil de instalar no carro. Recomendo para quem busca qualidade e praticidade.\n"
          ]
        },
        {
          "name": "stderr",
          "output_type": "stream",
          "text": [
            "\rGenerating for OUTPUT-b2w_dev_reviewText_LLAMA_bm25-none_k4:  32%|███▏      | 812/2500 [09:31<21:09,  1.33it/s]"
          ]
        },
        {
          "name": "stdout",
          "output_type": "stream",
          "text": [
            "Review text: A cadeirinha é realmente ótima para estimular o bebê! Desde que começamos a usá-la, nosso pequeno ficou mais curioso e ativo. Os brinquedos e as cores vibrantes chamam muito a atenção dele, e ele adora explorar tudo. Além disso, a segurança e o conforto são excepcionais. Recomendo para todos os pais que querem proporcionar momentos divertidos e educativos para seus filhos!\n"
          ]
        },
        {
          "name": "stderr",
          "output_type": "stream",
          "text": [
            "\rGenerating for OUTPUT-b2w_dev_reviewText_LLAMA_bm25-none_k4:  33%|███▎      | 813/2500 [09:33<25:05,  1.12it/s]"
          ]
        },
        {
          "name": "stdout",
          "output_type": "stream",
          "text": [
            "Review text: Estou extremamente satisfeito com a qualidade do produto que recebi. Superou minhas expectativas! Além disso, o prazo de entrega foi cumprido perfeitamente, chegando antes do previsto. Recomendo a todos que buscam eficiência e qualidade.\n"
          ]
        },
        {
          "name": "stderr",
          "output_type": "stream",
          "text": [
            "\rGenerating for OUTPUT-b2w_dev_reviewText_LLAMA_bm25-none_k4:  33%|███▎      | 814/2500 [09:33<22:38,  1.24it/s]"
          ]
        },
        {
          "name": "stdout",
          "output_type": "stream",
          "text": [
            "Review text: Estou completamente apaixonada por este produto! A qualidade é excepcional e superou todas as minhas expectativas. Desde que comecei a usar, notei uma diferença significativa. Recomendo a todos que estão em dúvida, vale muito a pena!\n"
          ]
        },
        {
          "name": "stderr",
          "output_type": "stream",
          "text": [
            "\rGenerating for OUTPUT-b2w_dev_reviewText_LLAMA_bm25-none_k4:  33%|███▎      | 815/2500 [09:34<19:50,  1.42it/s]"
          ]
        },
        {
          "name": "stdout",
          "output_type": "stream",
          "text": [
            "Review text: Infelizmente, não recebi o produto que pedi. Estou bastante desapontado com a entrega e a falta de comunicação sobre o status do meu pedido. Espero que a situação seja resolvida rapidamente.\n"
          ]
        },
        {
          "name": "stderr",
          "output_type": "stream",
          "text": [
            "\rGenerating for OUTPUT-b2w_dev_reviewText_LLAMA_bm25-none_k4:  33%|███▎      | 816/2500 [09:34<19:28,  1.44it/s]"
          ]
        },
        {
          "name": "stdout",
          "output_type": "stream",
          "text": [
            "Review text: Este produto superou minhas expectativas! A qualidade é excelente e ele funciona perfeitamente. Recomendo a todos que buscam um bom investimento. Estou muito satisfeito com a compra!\n"
          ]
        },
        {
          "name": "stderr",
          "output_type": "stream",
          "text": [
            "\rGenerating for OUTPUT-b2w_dev_reviewText_LLAMA_bm25-none_k4:  33%|███▎      | 817/2500 [09:35<19:47,  1.42it/s]"
          ]
        },
        {
          "name": "stdout",
          "output_type": "stream",
          "text": [
            "Review text: \"Este produto superou minhas expectativas! A qualidade é excelente e cumpre tudo o que promete. Sem dúvida, recomendo a todos que estão em busca de algo eficaz e confiável. Vale cada centavo!\"\n"
          ]
        },
        {
          "name": "stderr",
          "output_type": "stream",
          "text": [
            "\rGenerating for OUTPUT-b2w_dev_reviewText_LLAMA_bm25-none_k4:  33%|███▎      | 818/2500 [09:36<18:56,  1.48it/s]"
          ]
        },
        {
          "name": "stdout",
          "output_type": "stream",
          "text": [
            "Review text: \"Desde que instalé este sistema de sonido, la calidad acústica ha superado todas mis expectativas. Cada nota se escucha con una claridad impresionante, y los graves son profundos sin ser abrumadores. Perfecto para disfrutar de mis álbumes favoritos o para una noche de cine en casa. ¡Totalmente recomendable!\"\n"
          ]
        },
        {
          "name": "stderr",
          "output_type": "stream",
          "text": [
            "\rGenerating for OUTPUT-b2w_dev_reviewText_LLAMA_bm25-none_k4:  33%|███▎      | 819/2500 [09:37<20:27,  1.37it/s]"
          ]
        },
        {
          "name": "stdout",
          "output_type": "stream",
          "text": [
            "Review text: \"Comprei o fone Philips e estou completamente apaixonado! A qualidade do som é incrível, com graves profundos e agudos nítidos. O conforto é outro ponto positivo, mesmo usando por longos períodos, não machuca as orelhas. O design é moderno e elegante, além de serem leves. Recomendo para quem busca um fone com ótimo custo-benefício!\"\n"
          ]
        },
        {
          "name": "stderr",
          "output_type": "stream",
          "text": [
            "\rGenerating for OUTPUT-b2w_dev_reviewText_LLAMA_bm25-none_k4:  33%|███▎      | 820/2500 [09:37<17:51,  1.57it/s]"
          ]
        },
        {
          "name": "stdout",
          "output_type": "stream",
          "text": [
            "Review text: Este produto realmente se destaca pela sua qualidade profissional. A performance é excepcional e atende todas as minhas necessidades. Recomendo para quem busca resultados de alto nível!\n"
          ]
        },
        {
          "name": "stderr",
          "output_type": "stream",
          "text": [
            "\rGenerating for OUTPUT-b2w_dev_reviewText_LLAMA_bm25-none_k4:  33%|███▎      | 821/2500 [09:38<17:02,  1.64it/s]"
          ]
        },
        {
          "name": "stdout",
          "output_type": "stream",
          "text": [
            "Review text: Este produto superou minhas expectativas! A qualidade é excelente e o desempenho é notável. Recomendo para quem busca um item confiável e eficiente. Vale cada centavo!\n"
          ]
        },
        {
          "name": "stderr",
          "output_type": "stream",
          "text": [
            "\rGenerating for OUTPUT-b2w_dev_reviewText_LLAMA_bm25-none_k4:  33%|███▎      | 822/2500 [09:38<15:34,  1.80it/s]"
          ]
        },
        {
          "name": "stdout",
          "output_type": "stream",
          "text": [
            "Review text: This product is absolutely amazing! It exceeded all my expectations and has become a must-have in my daily routine. Highly recommend it to anyone looking for quality and performance!\n"
          ]
        },
        {
          "name": "stderr",
          "output_type": "stream",
          "text": [
            "\rGenerating for OUTPUT-b2w_dev_reviewText_LLAMA_bm25-none_k4:  33%|███▎      | 823/2500 [09:39<15:01,  1.86it/s]"
          ]
        },
        {
          "name": "stdout",
          "output_type": "stream",
          "text": [
            "Review text: \"Excelente produto pelo preço! A qualidade é surpreendente e atendeu todas as minhas expectativas. Recomendo para quem busca um bom custo-benefício sem abrir mão da eficiência. Vale cada centavo!\"\n"
          ]
        },
        {
          "name": "stderr",
          "output_type": "stream",
          "text": [
            "\rGenerating for OUTPUT-b2w_dev_reviewText_LLAMA_bm25-none_k4:  33%|███▎      | 824/2500 [09:39<15:27,  1.81it/s]"
          ]
        },
        {
          "name": "stdout",
          "output_type": "stream",
          "text": [
            "Review text: \"Esses fones são incríveis! A qualidade do som é excepcional e o conforto é imbatível. Adoro usar durante longas sessões de música ou podcasts. Super recomendo!\"\n"
          ]
        },
        {
          "name": "stderr",
          "output_type": "stream",
          "text": [
            "\rGenerating for OUTPUT-b2w_dev_reviewText_LLAMA_bm25-none_k4:  33%|███▎      | 825/2500 [09:40<15:51,  1.76it/s]"
          ]
        },
        {
          "name": "stdout",
          "output_type": "stream",
          "text": [
            "Review text: Estou muito satisfeito com o produto! A qualidade é excelente e atendeu todas as minhas expectativas. Recomendo a todos que estão em busca de algo confiável e eficiente. Com certeza, voltarei a comprar!\n"
          ]
        },
        {
          "name": "stderr",
          "output_type": "stream",
          "text": [
            "\rGenerating for OUTPUT-b2w_dev_reviewText_LLAMA_bm25-none_k4:  33%|███▎      | 826/2500 [09:40<16:39,  1.67it/s]"
          ]
        },
        {
          "name": "stdout",
          "output_type": "stream",
          "text": [
            "Review text: Este produto superou todas as minhas expectativas! A qualidade é excelente e ele funciona perfeitamente. Estou muito satisfeito com a compra e recomendo a todos que buscam algo confiável e eficaz. Sem dúvida, vale cada centavo!\n"
          ]
        },
        {
          "name": "stderr",
          "output_type": "stream",
          "text": [
            "\rGenerating for OUTPUT-b2w_dev_reviewText_LLAMA_bm25-none_k4:  33%|███▎      | 827/2500 [09:43<29:39,  1.06s/it]"
          ]
        },
        {
          "name": "stdout",
          "output_type": "stream",
          "text": [
            "Review text: \"Comprei este produto já usado e, para minha surpresa, ele estava em excelente estado. Funcionou perfeitamente desde o primeiro uso e não apresentou nenhum problema. A qualidade é impressionante, considerando que não era novo. Recomendo para quem busca uma boa opção sem gastar muito!\"\n"
          ]
        },
        {
          "name": "stderr",
          "output_type": "stream",
          "text": [
            "\rGenerating for OUTPUT-b2w_dev_reviewText_LLAMA_bm25-none_k4:  33%|███▎      | 828/2500 [09:43<26:48,  1.04it/s]"
          ]
        },
        {
          "name": "stdout",
          "output_type": "stream",
          "text": [
            "Review text: \"Adorei a experiência com essa bike! O design é incrível e muito confortável para pedalar. A qualidade dos materiais é evidente, e a performance nas trilhas é excepcional. Recomendo para quem busca uma bicicleta versátil e estilosa!\"\n"
          ]
        },
        {
          "name": "stderr",
          "output_type": "stream",
          "text": [
            "\rGenerating for OUTPUT-b2w_dev_reviewText_LLAMA_bm25-none_k4:  33%|███▎      | 829/2500 [09:44<23:12,  1.20it/s]"
          ]
        },
        {
          "name": "stdout",
          "output_type": "stream",
          "text": [
            "Review text: \"Este producto superó todas mis expectativas. La calidad es excepcional y su rendimiento es impresionante. Definitivamente lo recomendaría a cualquiera que busque algo confiable y eficaz. ¡Una compra excelente!\"\n"
          ]
        },
        {
          "name": "stderr",
          "output_type": "stream",
          "text": [
            "\rGenerating for OUTPUT-b2w_dev_reviewText_LLAMA_bm25-none_k4:  33%|███▎      | 830/2500 [09:44<21:27,  1.30it/s]"
          ]
        },
        {
          "name": "stdout",
          "output_type": "stream",
          "text": [
            "Review text: Este produto superou minhas expectativas! A qualidade é excepcional e o desempenho é impecável. Além disso, o atendimento ao cliente foi excelente, sempre pronto para ajudar e esclarecer dúvidas. Recomendo a todos que buscam um bom investimento!\n"
          ]
        },
        {
          "name": "stderr",
          "output_type": "stream",
          "text": [
            "\rGenerating for OUTPUT-b2w_dev_reviewText_LLAMA_bm25-none_k4:  33%|███▎      | 831/2500 [09:45<18:50,  1.48it/s]"
          ]
        },
        {
          "name": "stdout",
          "output_type": "stream",
          "text": [
            "Review text: Este produto superou todas as minhas expectativas! A qualidade é excepcional e o desempenho é impecável. Recomendo a todos que buscam um item confiável e eficiente. Vale cada centavo!\n"
          ]
        },
        {
          "name": "stderr",
          "output_type": "stream",
          "text": [
            "\rGenerating for OUTPUT-b2w_dev_reviewText_LLAMA_bm25-none_k4:  33%|███▎      | 832/2500 [09:45<16:51,  1.65it/s]"
          ]
        },
        {
          "name": "stdout",
          "output_type": "stream",
          "text": [
            "Review text: \"Comprei este produto e não poderia estar mais satisfeito! A qualidade é excelente e atendeu todas as minhas expectativas. Vale cada centavo gasto. Recomendo a todos que estão em dúvida!\"\n"
          ]
        },
        {
          "name": "stderr",
          "output_type": "stream",
          "text": [
            "\rGenerating for OUTPUT-b2w_dev_reviewText_LLAMA_bm25-none_k4:  33%|███▎      | 833/2500 [09:46<16:00,  1.73it/s]"
          ]
        },
        {
          "name": "stdout",
          "output_type": "stream",
          "text": [
            "Review text: Este produto superou minhas expectativas! A qualidade é excelente e o desempenho é notável. Recomendo a todos que buscam um item confiável e eficiente. Vale cada centavo!\n"
          ]
        },
        {
          "name": "stderr",
          "output_type": "stream",
          "text": [
            "\rGenerating for OUTPUT-b2w_dev_reviewText_LLAMA_bm25-none_k4:  33%|███▎      | 834/2500 [09:46<15:05,  1.84it/s]"
          ]
        },
        {
          "name": "stdout",
          "output_type": "stream",
          "text": [
            "Review text: Meu filho adorou o produto! Ele se divertiu muito e não consegue parar de brincar. A qualidade é excelente e valeu cada centavo. Recomendo para quem tem crianças!\n"
          ]
        },
        {
          "name": "stderr",
          "output_type": "stream",
          "text": [
            "\rGenerating for OUTPUT-b2w_dev_reviewText_LLAMA_bm25-none_k4:  33%|███▎      | 835/2500 [09:47<15:20,  1.81it/s]"
          ]
        },
        {
          "name": "stdout",
          "output_type": "stream",
          "text": [
            "Review text: Este produto superou minhas expectativas! A qualidade é excelente e atendeu todas as minhas necessidades. Recomendo para quem busca um bom custo-benefício. Com certeza, voltarei a comprar.\n"
          ]
        },
        {
          "name": "stderr",
          "output_type": "stream",
          "text": [
            "\rGenerating for OUTPUT-b2w_dev_reviewText_LLAMA_bm25-none_k4:  33%|███▎      | 836/2500 [09:47<14:27,  1.92it/s]"
          ]
        },
        {
          "name": "stdout",
          "output_type": "stream",
          "text": [
            "Review text: Este site é extremamente decepcionante. A navegação é confusa, e o atendimento ao cliente é quase inexistente. Tive problemas com meu pedido e não consegui obter ajuda. Definitivamente, não recomendo!\n"
          ]
        },
        {
          "name": "stderr",
          "output_type": "stream",
          "text": [
            "\rGenerating for OUTPUT-b2w_dev_reviewText_LLAMA_bm25-none_k4:  33%|███▎      | 837/2500 [09:48<14:42,  1.88it/s]"
          ]
        },
        {
          "name": "stdout",
          "output_type": "stream",
          "text": [
            "Review text: Este produto atendeu às minhas expectativas, mas não se destacou em nenhum aspecto. A qualidade é aceitável, mas poderia ser melhor. É uma opção razoável para quem busca algo básico, mas não espere nada excepcional.\n"
          ]
        },
        {
          "name": "stderr",
          "output_type": "stream",
          "text": [
            "\rGenerating for OUTPUT-b2w_dev_reviewText_LLAMA_bm25-none_k4:  34%|███▎      | 838/2500 [09:49<16:19,  1.70it/s]"
          ]
        },
        {
          "name": "stdout",
          "output_type": "stream",
          "text": [
            "Review text: A entrega foi realmente rápida, o que me deixou bastante satisfeito. No entanto, o produto não atendeu completamente às minhas expectativas. A qualidade não é tão boa quanto eu esperava e houve alguns pequenos defeitos. Espero que na próxima compra a experiência seja melhor.\n"
          ]
        },
        {
          "name": "stderr",
          "output_type": "stream",
          "text": [
            "\rGenerating for OUTPUT-b2w_dev_reviewText_LLAMA_bm25-none_k4:  34%|███▎      | 839/2500 [09:50<26:03,  1.06it/s]"
          ]
        },
        {
          "name": "stdout",
          "output_type": "stream",
          "text": [
            "Review text: \"Recentemente, experimentei os produtos dessa marca e fiquei impressionado com a qualidade. Cada item reflete um cuidado excepcional na sua fabricação, e a durabilidade é notável. Além disso, a variedade de opções disponíveis atende a todos os gostos. Definitivamente, uma marca que eu recomendo para quem busca excelência!\"\n"
          ]
        },
        {
          "name": "stderr",
          "output_type": "stream",
          "text": [
            "\rGenerating for OUTPUT-b2w_dev_reviewText_LLAMA_bm25-none_k4:  34%|███▎      | 840/2500 [09:51<22:43,  1.22it/s]"
          ]
        },
        {
          "name": "stdout",
          "output_type": "stream",
          "text": [
            "Review text: \"Este producto superó mis expectativas en todos los aspectos. La calidad es excepcional y funciona a la perfección. Definitivamente lo recomendaría a cualquiera que busque algo confiable y eficiente. ¡Estoy muy satisfecho con mi compra!\"\n"
          ]
        },
        {
          "name": "stderr",
          "output_type": "stream",
          "text": [
            "\rGenerating for OUTPUT-b2w_dev_reviewText_LLAMA_bm25-none_k4:  34%|███▎      | 841/2500 [09:52<23:13,  1.19it/s]"
          ]
        },
        {
          "name": "stdout",
          "output_type": "stream",
          "text": [
            "Review text: Este produto superou todas as minhas expectativas! A qualidade é excepcional e o design é realmente bonito. Ele se destaca em qualquer ambiente e recebeu muitos elogios dos meus amigos. Estou muito satisfeito com a compra e definitivamente recomendo a todos que buscam algo elegante e funcional.\n"
          ]
        },
        {
          "name": "stderr",
          "output_type": "stream",
          "text": [
            "\rGenerating for OUTPUT-b2w_dev_reviewText_LLAMA_bm25-none_k4:  34%|███▎      | 842/2500 [09:53<22:48,  1.21it/s]"
          ]
        },
        {
          "name": "stdout",
          "output_type": "stream",
          "text": [
            "Review text: Estou muito decepcionado, pois ainda não recebi o produto que comprei. O prazo de entrega já passou e não recebi nenhuma atualização sobre o status do meu pedido. Espero que a situação seja resolvida rapidamente, pois estou ansioso para receber o que comprei.\n"
          ]
        },
        {
          "name": "stderr",
          "output_type": "stream",
          "text": [
            "\rGenerating for OUTPUT-b2w_dev_reviewText_LLAMA_bm25-none_k4:  34%|███▎      | 843/2500 [09:53<20:36,  1.34it/s]"
          ]
        },
        {
          "name": "stdout",
          "output_type": "stream",
          "text": [
            "Review text: Excelente produto! Superou minhas expectativas em qualidade e desempenho. Recomendo a todos que buscam algo confiável e eficiente. Vale cada centavo!\n"
          ]
        },
        {
          "name": "stderr",
          "output_type": "stream",
          "text": [
            "\rGenerating for OUTPUT-b2w_dev_reviewText_LLAMA_bm25-none_k4:  34%|███▍      | 844/2500 [09:54<21:19,  1.29it/s]"
          ]
        },
        {
          "name": "stdout",
          "output_type": "stream",
          "text": [
            "Review text: Este smartphone superou todas as minhas expectativas! A qualidade da câmera é impressionante, capturando imagens nítidas e vibrantes. A bateria dura o dia todo, mesmo com uso intenso, e a performance é fluida, sem travamentos. O design é elegante e moderno, tornando-o um prazer de usar. Recomendo a todos que buscam um dispositivo confiável e de alta qualidade!\n"
          ]
        },
        {
          "name": "stderr",
          "output_type": "stream",
          "text": [
            "\rGenerating for OUTPUT-b2w_dev_reviewText_LLAMA_bm25-none_k4:  34%|███▍      | 845/2500 [09:55<21:31,  1.28it/s]"
          ]
        },
        {
          "name": "stdout",
          "output_type": "stream",
          "text": [
            "Review text: Este produto superou minhas expectativas! A qualidade é excelente e ele atende perfeitamente às minhas necessidades. Recomendo a todos que buscam algo confiável e eficiente. Vale cada centavo!\n"
          ]
        },
        {
          "name": "stderr",
          "output_type": "stream",
          "text": [
            "\rGenerating for OUTPUT-b2w_dev_reviewText_LLAMA_bm25-none_k4:  34%|███▍      | 846/2500 [09:55<18:55,  1.46it/s]"
          ]
        },
        {
          "name": "stdout",
          "output_type": "stream",
          "text": [
            "Review text: Estou muito satisfeito com o produto! Ele atendeu todas as minhas expectativas e a qualidade é excelente. Recomendo a todos que estão em dúvida. Vale cada centavo!\n"
          ]
        },
        {
          "name": "stderr",
          "output_type": "stream",
          "text": [
            "\rGenerating for OUTPUT-b2w_dev_reviewText_LLAMA_bm25-none_k4:  34%|███▍      | 847/2500 [09:56<17:01,  1.62it/s]"
          ]
        },
        {
          "name": "stdout",
          "output_type": "stream",
          "text": [
            "Review text: Este produto superou minhas expectativas! A qualidade é excelente e a performance é incrível. Estou muito satisfeito com a compra e recomendo a todos. Vale cada centavo!\n"
          ]
        },
        {
          "name": "stderr",
          "output_type": "stream",
          "text": [
            "\rGenerating for OUTPUT-b2w_dev_reviewText_LLAMA_bm25-none_k4:  34%|███▍      | 848/2500 [09:57<18:54,  1.46it/s]"
          ]
        },
        {
          "name": "stdout",
          "output_type": "stream",
          "text": [
            "Review text: \"The BOA system is a game changer! I love how easy it is to adjust my fit on the fly. No more fumbling with laces or worrying about them coming undone. The snugness and comfort are unmatched, making my experience so much better. Highly recommend for anyone looking for convenience and performance!\"\n"
          ]
        },
        {
          "name": "stderr",
          "output_type": "stream",
          "text": [
            "\rGenerating for OUTPUT-b2w_dev_reviewText_LLAMA_bm25-none_k4:  34%|███▍      | 849/2500 [09:57<18:12,  1.51it/s]"
          ]
        },
        {
          "name": "stdout",
          "output_type": "stream",
          "text": [
            "Review text: \"Adorei o pedi! A cor prata é linda e o detalhe dourado dá um toque especial que o torna ainda mais elegante. O material é de ótima qualidade e super confortável. Com certeza, é um item que vou usar muito. Recomendo!\"\n"
          ]
        },
        {
          "name": "stderr",
          "output_type": "stream",
          "text": [
            "\rGenerating for OUTPUT-b2w_dev_reviewText_LLAMA_bm25-none_k4:  34%|███▍      | 850/2500 [09:58<16:54,  1.63it/s]"
          ]
        },
        {
          "name": "stdout",
          "output_type": "stream",
          "text": [
            "Review text: \"Estou muito satisfeito com a qualidade e o desempenho deste produto. Ele atendeu todas as minhas expectativas e se destacou pela durabilidade. Recomendo a todos que buscam algo confiável e eficiente!\"\n"
          ]
        },
        {
          "name": "stderr",
          "output_type": "stream",
          "text": [
            "\rGenerating for OUTPUT-b2w_dev_reviewText_LLAMA_bm25-none_k4:  34%|███▍      | 851/2500 [09:58<16:46,  1.64it/s]"
          ]
        },
        {
          "name": "stdout",
          "output_type": "stream",
          "text": [
            "Review text: \"Este produto superou todas as minhas expectativas! A qualidade é excepcional e a performance é impecável. Recomendo a todos que buscam algo realmente eficaz e durável. Vale cada centavo!\"\n"
          ]
        },
        {
          "name": "stderr",
          "output_type": "stream",
          "text": [
            "\rGenerating for OUTPUT-b2w_dev_reviewText_LLAMA_bm25-none_k4:  34%|███▍      | 852/2500 [09:59<17:33,  1.56it/s]"
          ]
        },
        {
          "name": "stdout",
          "output_type": "stream",
          "text": [
            "Review text: Estou extremamente satisfeita com o meu produto! A qualidade é excelente e atendeu todas as minhas expectativas. Além disso, o design é lindo e funcional. Recomendo a todos que estão em dúvida, pois vale cada centavo. Com certeza, voltarei a comprar mais!\n"
          ]
        },
        {
          "name": "stderr",
          "output_type": "stream",
          "text": [
            "\rGenerating for OUTPUT-b2w_dev_reviewText_LLAMA_bm25-none_k4:  34%|███▍      | 853/2500 [10:00<17:22,  1.58it/s]"
          ]
        },
        {
          "name": "stdout",
          "output_type": "stream",
          "text": [
            "Review text: Este produto superou minhas expectativas! A qualidade é excepcional e o desempenho é impecável. Recomendo a todos que buscam um item confiável e eficiente. Ótima compra!\n"
          ]
        },
        {
          "name": "stderr",
          "output_type": "stream",
          "text": [
            "\rGenerating for OUTPUT-b2w_dev_reviewText_LLAMA_bm25-none_k4:  34%|███▍      | 854/2500 [10:00<16:36,  1.65it/s]"
          ]
        },
        {
          "name": "stdout",
          "output_type": "stream",
          "text": [
            "Review text: \"Este produto superou todas as minhas expectativas! A qualidade é excelente e ele funciona perfeitamente. Recomendo a todos que estão em busca de algo confiável e eficiente. Vale cada centavo!\"\n"
          ]
        },
        {
          "name": "stderr",
          "output_type": "stream",
          "text": [
            "\rGenerating for OUTPUT-b2w_dev_reviewText_LLAMA_bm25-none_k4:  34%|███▍      | 855/2500 [10:01<16:41,  1.64it/s]"
          ]
        },
        {
          "name": "stdout",
          "output_type": "stream",
          "text": [
            "Review text: Estou extremamente satisfeita com este produto! A qualidade superou minhas expectativas e o desempenho é incrível. Definitivamente recomendo a todos que buscam algo eficiente e confiável. Uma ótima aquisição!\n"
          ]
        },
        {
          "name": "stderr",
          "output_type": "stream",
          "text": [
            "\rGenerating for OUTPUT-b2w_dev_reviewText_LLAMA_bm25-none_k4:  34%|███▍      | 856/2500 [10:02<17:59,  1.52it/s]"
          ]
        },
        {
          "name": "stdout",
          "output_type": "stream",
          "text": [
            "Review text: \"Este produto é realmente grande e funcional! Atendeu todas as minhas expectativas, oferecendo espaço suficiente e uma variedade de recursos que facilitam o dia a dia. A qualidade é excelente e vale cada centavo. Recomendo para quem busca praticidade e eficiência!\"\n"
          ]
        },
        {
          "name": "stderr",
          "output_type": "stream",
          "text": [
            "\rGenerating for OUTPUT-b2w_dev_reviewText_LLAMA_bm25-none_k4:  34%|███▍      | 857/2500 [10:02<17:07,  1.60it/s]"
          ]
        },
        {
          "name": "stdout",
          "output_type": "stream",
          "text": [
            "Review text: Este producto superó mis expectativas. La calidad es excepcional y cumple con todas las funciones que necesitaba. Definitivamente lo recomendaría a otros. ¡Excelente compra!\n"
          ]
        },
        {
          "name": "stderr",
          "output_type": "stream",
          "text": [
            "\rGenerating for OUTPUT-b2w_dev_reviewText_LLAMA_bm25-none_k4:  34%|███▍      | 858/2500 [10:03<16:26,  1.66it/s]"
          ]
        },
        {
          "name": "stdout",
          "output_type": "stream",
          "text": [
            "Review text: Este produto superou minhas expectativas! A qualidade é excelente e ele funciona perfeitamente. Recomendo a todos que estão em busca de algo eficaz e durável. Estou muito satisfeito com a compra!\n"
          ]
        },
        {
          "name": "stderr",
          "output_type": "stream",
          "text": [
            "\rGenerating for OUTPUT-b2w_dev_reviewText_LLAMA_bm25-none_k4:  34%|███▍      | 859/2500 [10:03<16:40,  1.64it/s]"
          ]
        },
        {
          "name": "stdout",
          "output_type": "stream",
          "text": [
            "Review text: Este produto superou minhas expectativas! A qualidade é excelente e a entrega foi rápida, muito além do que eu esperava. Recomendo a todos que buscam eficiência e um bom produto. Com certeza, uma das melhores experiências de compra que já tive!\n"
          ]
        },
        {
          "name": "stderr",
          "output_type": "stream",
          "text": [
            "\rGenerating for OUTPUT-b2w_dev_reviewText_LLAMA_bm25-none_k4:  34%|███▍      | 860/2500 [10:04<17:14,  1.58it/s]"
          ]
        },
        {
          "name": "stdout",
          "output_type": "stream",
          "text": [
            "Review text: \"Este produto realmente superou todas as minhas expectativas! A qualidade é excepcional e a performance é incrível. Desde o primeiro uso, percebi a diferença e estou completamente satisfeito. Recomendo a todos que buscam um produto confiável e eficiente!\"\n"
          ]
        },
        {
          "name": "stderr",
          "output_type": "stream",
          "text": [
            "\rGenerating for OUTPUT-b2w_dev_reviewText_LLAMA_bm25-none_k4:  34%|███▍      | 861/2500 [10:05<18:49,  1.45it/s]"
          ]
        },
        {
          "name": "stdout",
          "output_type": "stream",
          "text": [
            "Review text: Estou extremamente decepcionada com a minha compra. Até hoje, o produto não chegou e não tenho nenhuma atualização sobre o status do meu pedido. Como posso confiar em uma loja que não cumpre os prazos? Espero que a situação se resolva, mas, por enquanto, minha experiência foi muito negativa.\n"
          ]
        },
        {
          "name": "stderr",
          "output_type": "stream",
          "text": [
            "\rGenerating for OUTPUT-b2w_dev_reviewText_LLAMA_bm25-none_k4:  34%|███▍      | 862/2500 [10:06<21:35,  1.26it/s]"
          ]
        },
        {
          "name": "stdout",
          "output_type": "stream",
          "text": [
            "Review text: \"Comprei a Consul de 16kg e estou completamente apaixonada! A capacidade é perfeita para minha família, e a eficiência na lavagem é impressionante. As roupas saem sempre limpas e cheirosas. Além disso, o design é moderno e combina com a minha lavanderia. Recomendo de olhos fechados para quem busca qualidade e praticidade!\"\n"
          ]
        },
        {
          "name": "stderr",
          "output_type": "stream",
          "text": [
            "\rGenerating for OUTPUT-b2w_dev_reviewText_LLAMA_bm25-none_k4:  35%|███▍      | 863/2500 [10:06<19:49,  1.38it/s]"
          ]
        },
        {
          "name": "stdout",
          "output_type": "stream",
          "text": [
            "Review text: Este producto superó mis expectativas. La calidad es excepcional y funciona a la perfección. Definitivamente lo recomendaría a amigos y familiares. ¡Una compra excelente!\n"
          ]
        },
        {
          "name": "stderr",
          "output_type": "stream",
          "text": [
            "\rGenerating for OUTPUT-b2w_dev_reviewText_LLAMA_bm25-none_k4:  35%|███▍      | 864/2500 [10:07<19:28,  1.40it/s]"
          ]
        },
        {
          "name": "stdout",
          "output_type": "stream",
          "text": [
            "Review text: \"Fiquei extremamente satisfeito com este produto! A qualidade é excepcional e atendeu todas as minhas expectativas. Recomendo a todos que buscam algo confiável e eficiente. Com certeza, voltarei a comprar!\"\n"
          ]
        },
        {
          "name": "stderr",
          "output_type": "stream",
          "text": [
            "\rGenerating for OUTPUT-b2w_dev_reviewText_LLAMA_bm25-none_k4:  35%|███▍      | 865/2500 [10:08<20:18,  1.34it/s]"
          ]
        },
        {
          "name": "stdout",
          "output_type": "stream",
          "text": [
            "Review text: \"Adorei! Este produto superou todas as minhas expectativas. A qualidade é incrível e o desempenho é excepcional. Recomendo a todos que buscam algo realmente eficaz e confiável. Vale cada centavo!\"\n"
          ]
        },
        {
          "name": "stderr",
          "output_type": "stream",
          "text": [
            "\rGenerating for OUTPUT-b2w_dev_reviewText_LLAMA_bm25-none_k4:  35%|███▍      | 866/2500 [10:09<21:40,  1.26it/s]"
          ]
        },
        {
          "name": "stdout",
          "output_type": "stream",
          "text": [
            "Review text: Esta lavadora ha superado mis expectativas. Su rendimiento es excepcional y deja la ropa impecable. Además, es muy fácil de usar y tiene múltiples programas que se adaptan a diferentes tipos de tejidos. La eficiencia energética es un gran plus, lo que me ayuda a ahorrar en la factura de la luz. Sin duda, la recomendaría a cualquiera que busque una lavadora confiable y efectiva. ¡Excelente compra!\n"
          ]
        },
        {
          "name": "stderr",
          "output_type": "stream",
          "text": [
            "\rGenerating for OUTPUT-b2w_dev_reviewText_LLAMA_bm25-none_k4:  35%|███▍      | 867/2500 [10:10<22:15,  1.22it/s]"
          ]
        },
        {
          "name": "stdout",
          "output_type": "stream",
          "text": [
            "Review text: \"Adorei o produto! A qualidade superou minhas expectativas e o design é incrível. Recomendo a todos que estão em dúvida, vale muito a pena!\"\n"
          ]
        },
        {
          "name": "stderr",
          "output_type": "stream",
          "text": [
            "\rGenerating for OUTPUT-b2w_dev_reviewText_LLAMA_bm25-none_k4:  35%|███▍      | 868/2500 [10:10<20:00,  1.36it/s]"
          ]
        },
        {
          "name": "stdout",
          "output_type": "stream",
          "text": [
            "Review text: \"Estou muito satisfeito com a qualidade e o desempenho deste produto. Ele atendeu todas as minhas expectativas e realmente fez a diferença no meu dia a dia. Recomendo a todos que estão em dúvida, pois vale cada centavo!\"\n"
          ]
        },
        {
          "name": "stderr",
          "output_type": "stream",
          "text": [
            "\rGenerating for OUTPUT-b2w_dev_reviewText_LLAMA_bm25-none_k4:  35%|███▍      | 869/2500 [10:11<20:49,  1.31it/s]"
          ]
        },
        {
          "name": "stdout",
          "output_type": "stream",
          "text": [
            "Review text: Este produto superou todas as minhas expectativas! A qualidade é excepcional e o desempenho é incrível. Recomendo a todos que buscam um item confiável e eficiente. Vale cada centavo!\n"
          ]
        },
        {
          "name": "stderr",
          "output_type": "stream",
          "text": [
            "\rGenerating for OUTPUT-b2w_dev_reviewText_LLAMA_bm25-none_k4:  35%|███▍      | 870/2500 [10:12<20:59,  1.29it/s]"
          ]
        },
        {
          "name": "stdout",
          "output_type": "stream",
          "text": [
            "Review text: A qualidade deste produto é simplesmente excepcional. Desde o momento em que o recebi, percebi que cada detalhe foi cuidadosamente elaborado. Os materiais utilizados são de primeira linha, e a durabilidade é notável. Além disso, o desempenho superou todas as minhas expectativas. Recomendo a todos que buscam um produto que realmente entrega o que promete. Uma experiência de compra incrível!\n"
          ]
        },
        {
          "name": "stderr",
          "output_type": "stream",
          "text": [
            "\rGenerating for OUTPUT-b2w_dev_reviewText_LLAMA_bm25-none_k4:  35%|███▍      | 871/2500 [10:12<18:33,  1.46it/s]"
          ]
        },
        {
          "name": "stdout",
          "output_type": "stream",
          "text": [
            "Review text: Este produto superou minhas expectativas! A qualidade é excelente e ele cumpre muito bem o que promete. Estou satisfeito com a compra e recomendo a todos que buscam um item confiável e eficiente.\n"
          ]
        },
        {
          "name": "stderr",
          "output_type": "stream",
          "text": [
            "\rGenerating for OUTPUT-b2w_dev_reviewText_LLAMA_bm25-none_k4:  35%|███▍      | 872/2500 [10:15<31:13,  1.15s/it]"
          ]
        },
        {
          "name": "stdout",
          "output_type": "stream",
          "text": [
            "Review text: Este produto realmente superou todas as minhas expectativas! A qualidade é excelente e o desempenho é impecável. Desde o primeiro uso, percebi que atendeu a todas as minhas necessidades. Recomendo a todos que buscam um produto confiável e eficiente. Estou muito satisfeito com a minha compra!\n"
          ]
        },
        {
          "name": "stderr",
          "output_type": "stream",
          "text": [
            "\rGenerating for OUTPUT-b2w_dev_reviewText_LLAMA_bm25-none_k4:  35%|███▍      | 873/2500 [10:15<28:44,  1.06s/it]"
          ]
        },
        {
          "name": "stdout",
          "output_type": "stream",
          "text": [
            "Review text: A lavadora é incrível! Lava as roupas de forma super eficiente, deixando tudo limpo e cheiroso. O desempenho é excelente, e eu adoro a variedade de programas disponíveis. Sem dúvida, uma das melhores compras que fiz! Recomendo a todos que buscam qualidade e praticidade.\n"
          ]
        },
        {
          "name": "stderr",
          "output_type": "stream",
          "text": [
            "\rGenerating for OUTPUT-b2w_dev_reviewText_LLAMA_bm25-none_k4:  35%|███▍      | 874/2500 [10:16<24:04,  1.13it/s]"
          ]
        },
        {
          "name": "stdout",
          "output_type": "stream",
          "text": [
            "Review text: \"Não consegui avaliar o produto, pois não atendeu às minhas expectativas. Infelizmente, não funcionou como eu esperava.\"\n"
          ]
        },
        {
          "name": "stderr",
          "output_type": "stream",
          "text": [
            "\rGenerating for OUTPUT-b2w_dev_reviewText_LLAMA_bm25-none_k4:  35%|███▌      | 875/2500 [10:17<24:02,  1.13it/s]"
          ]
        },
        {
          "name": "stdout",
          "output_type": "stream",
          "text": [
            "Review text: \"Esse mouse superou minhas expectativas! A ergonomia é excelente, tornando-o confortável para longas horas de uso. A precisão do sensor é incrível, e a resposta dos botões é rápida e eficiente. Além disso, o design é moderno e elegante. Recomendo para quem busca qualidade e desempenho!\"\n"
          ]
        },
        {
          "name": "stderr",
          "output_type": "stream",
          "text": [
            "\rGenerating for OUTPUT-b2w_dev_reviewText_LLAMA_bm25-none_k4:  35%|███▌      | 876/2500 [10:18<24:08,  1.12it/s]"
          ]
        },
        {
          "name": "stdout",
          "output_type": "stream",
          "text": [
            "Review text: Este produto é, sem dúvida, um dos mais confortáveis que já experimentei. Desde o primeiro uso, percebi como ele se ajusta perfeitamente ao corpo, proporcionando uma sensação de leveza e bem-estar. Ideal para longos períodos de uso, não causa desconforto ou irritação. Recomendo a todos que buscam conforto sem abrir mão da qualidade. Uma excelente escolha!\n"
          ]
        },
        {
          "name": "stderr",
          "output_type": "stream",
          "text": [
            "\rGenerating for OUTPUT-b2w_dev_reviewText_LLAMA_bm25-none_k4:  35%|███▌      | 877/2500 [10:18<22:07,  1.22it/s]"
          ]
        },
        {
          "name": "stdout",
          "output_type": "stream",
          "text": [
            "Review text: Este produto realmente se destaca pelo seu excelente custo-benefício. A qualidade é surpreendente considerando o preço, e ele atende a todas as minhas necessidades. Recomendo a todos que buscam uma opção acessível sem abrir mão da eficiência. Vale cada centavo!\n"
          ]
        },
        {
          "name": "stderr",
          "output_type": "stream",
          "text": [
            "\rGenerating for OUTPUT-b2w_dev_reviewText_LLAMA_bm25-none_k4:  35%|███▌      | 878/2500 [10:19<22:38,  1.19it/s]"
          ]
        },
        {
          "name": "stdout",
          "output_type": "stream",
          "text": [
            "Review text: Este mouse é realmente excelente para todas as atividades, mas se destaca especialmente em jogos de FPS. A precisão e a resposta rápida dos botões fazem toda a diferença nas partidas. O design é confortável para longas sessões de jogo, e a personalização das configurações é um grande bônus. Recomendo para qualquer gamer que queira melhorar seu desempenho!\n"
          ]
        },
        {
          "name": "stderr",
          "output_type": "stream",
          "text": [
            "\rGenerating for OUTPUT-b2w_dev_reviewText_LLAMA_bm25-none_k4:  35%|███▌      | 879/2500 [10:20<22:19,  1.21it/s]"
          ]
        },
        {
          "name": "stdout",
          "output_type": "stream",
          "text": [
            "Review text: I recently purchased the Cama box, and it has completely transformed my space! The design is sleek and modern, fitting perfectly with my decor. The storage capacity is impressive, allowing me to keep my room organized and clutter-free. I love how easy it is to access my items, and the quality is top-notch. Highly recommend for anyone looking for stylish and functional storage solutions!\n"
          ]
        },
        {
          "name": "stderr",
          "output_type": "stream",
          "text": [
            "\rGenerating for OUTPUT-b2w_dev_reviewText_LLAMA_bm25-none_k4:  35%|███▌      | 880/2500 [10:22<28:10,  1.04s/it]"
          ]
        },
        {
          "name": "stdout",
          "output_type": "stream",
          "text": [
            "Review text: A qualidade do produto deixou muito a desejar. Esperava mais durabilidade e eficiência, mas infelizmente não atendeu às minhas expectativas. Não recomendo.\n"
          ]
        },
        {
          "name": "stderr",
          "output_type": "stream",
          "text": [
            "\rGenerating for OUTPUT-b2w_dev_reviewText_LLAMA_bm25-none_k4:  35%|███▌      | 881/2500 [10:22<25:10,  1.07it/s]"
          ]
        },
        {
          "name": "stdout",
          "output_type": "stream",
          "text": [
            "Review text: A cama é dura e não proporciona o conforto que eu esperava. Após algumas noites, comecei a sentir desconforto nas costas. Infelizmente, não consegui descansar bem. Se você prefere colchões mais macios, este pode não ser a melhor escolha.\n"
          ]
        },
        {
          "name": "stderr",
          "output_type": "stream",
          "text": [
            "\rGenerating for OUTPUT-b2w_dev_reviewText_LLAMA_bm25-none_k4:  35%|███▌      | 882/2500 [10:23<26:21,  1.02it/s]"
          ]
        },
        {
          "name": "stdout",
          "output_type": "stream",
          "text": [
            "Review text: \"Comprei o colchão ortopédico da Ortobom e estou extremamente satisfeito! O conforto é inigualável e minhas noites de sono melhoraram significativamente. A qualidade do material é evidente, e ele se adapta perfeitamente ao meu corpo, proporcionando um suporte ideal para a coluna. Recomendo a todos que buscam um bom descanso e alívio para dores nas costas. Vale cada centavo!\"\n"
          ]
        },
        {
          "name": "stderr",
          "output_type": "stream",
          "text": [
            "\rGenerating for OUTPUT-b2w_dev_reviewText_LLAMA_bm25-none_k4:  35%|███▌      | 883/2500 [10:24<26:01,  1.04it/s]"
          ]
        },
        {
          "name": "stdout",
          "output_type": "stream",
          "text": [
            "Review text: Este produto superou minhas expectativas! A qualidade é excepcional e a performance é incrível. Recomendo a todos que buscam um item confiável e eficiente. Vale cada centavo!\n"
          ]
        },
        {
          "name": "stderr",
          "output_type": "stream",
          "text": [
            "\rGenerating for OUTPUT-b2w_dev_reviewText_LLAMA_bm25-none_k4:  35%|███▌      | 884/2500 [10:25<23:38,  1.14it/s]"
          ]
        },
        {
          "name": "stdout",
          "output_type": "stream",
          "text": [
            "Review text: \"Infelizmente, a entrega do produto atrasou bastante, o que foi frustrante. Eu esperava recebê-lo em um prazo razoável, mas a espera acabou comprometendo minha experiência. Espero que isso seja apenas um incidente isolado, pois o produto em si parece ser de boa qualidade.\"\n"
          ]
        },
        {
          "name": "stderr",
          "output_type": "stream",
          "text": [
            "\rGenerating for OUTPUT-b2w_dev_reviewText_LLAMA_bm25-none_k4:  35%|███▌      | 885/2500 [10:25<21:17,  1.26it/s]"
          ]
        },
        {
          "name": "stdout",
          "output_type": "stream",
          "text": [
            "Review text: Este produto superou todas as minhas expectativas! A qualidade é excepcional e os resultados são visíveis desde o primeiro uso. Recomendo a todos que buscam algo realmente eficaz e inovador. Vale cada centavo!\n"
          ]
        },
        {
          "name": "stderr",
          "output_type": "stream",
          "text": [
            "\rGenerating for OUTPUT-b2w_dev_reviewText_LLAMA_bm25-none_k4:  35%|███▌      | 886/2500 [10:26<19:08,  1.40it/s]"
          ]
        },
        {
          "name": "stdout",
          "output_type": "stream",
          "text": [
            "Review text: Este produto superou minhas expectativas! A qualidade é excelente e ele funciona perfeitamente. Estou muito satisfeito com a compra e recomendo a todos que buscam um item confiável e eficiente. Vale cada centavo!\n"
          ]
        },
        {
          "name": "stderr",
          "output_type": "stream",
          "text": [
            "\rGenerating for OUTPUT-b2w_dev_reviewText_LLAMA_bm25-none_k4:  35%|███▌      | 887/2500 [10:28<28:26,  1.06s/it]"
          ]
        },
        {
          "name": "stdout",
          "output_type": "stream",
          "text": [
            "Review text: Este produto oferece uma excelente relação custo-benefício. A qualidade é surpreendente considerando o preço, e atendeu todas as minhas expectativas. Recomendo para quem busca um bom produto sem gastar muito!\n"
          ]
        },
        {
          "name": "stderr",
          "output_type": "stream",
          "text": [
            "\rGenerating for OUTPUT-b2w_dev_reviewText_LLAMA_bm25-none_k4:  36%|███▌      | 888/2500 [10:29<25:48,  1.04it/s]"
          ]
        },
        {
          "name": "stdout",
          "output_type": "stream",
          "text": [
            "Review text: \"Adorei o produto! Atendeu todas as minhas expectativas e a qualidade é excelente. Com certeza recomendo para quem busca algo confiável e eficiente. Vou comprar mais!\"\n"
          ]
        },
        {
          "name": "stderr",
          "output_type": "stream",
          "text": [
            "\rGenerating for OUTPUT-b2w_dev_reviewText_LLAMA_bm25-none_k4:  36%|███▌      | 889/2500 [10:29<21:44,  1.23it/s]"
          ]
        },
        {
          "name": "stdout",
          "output_type": "stream",
          "text": [
            "Review text: Infelizmente, o produto chegou com avaria e até agora não consegui trocá-lo. Estou bastante decepcionado com a situação e espero que a empresa resolva isso rapidamente.\n"
          ]
        },
        {
          "name": "stderr",
          "output_type": "stream",
          "text": [
            "\rGenerating for OUTPUT-b2w_dev_reviewText_LLAMA_bm25-none_k4:  36%|███▌      | 890/2500 [10:30<20:28,  1.31it/s]"
          ]
        },
        {
          "name": "stdout",
          "output_type": "stream",
          "text": [
            "Review text: Este produto realmente atendeu todas as minhas expectativas. A qualidade é excelente e cumpre o que promete. Estou muito satisfeito com a compra e recomendo a todos que buscam algo eficiente e confiável.\n"
          ]
        },
        {
          "name": "stderr",
          "output_type": "stream",
          "text": [
            "\rGenerating for OUTPUT-b2w_dev_reviewText_LLAMA_bm25-none_k4:  36%|███▌      | 891/2500 [10:30<19:20,  1.39it/s]"
          ]
        },
        {
          "name": "stdout",
          "output_type": "stream",
          "text": [
            "Review text: Estou muito satisfeita com este produto! A qualidade superou minhas expectativas e ele funciona perfeitamente. Recomendo a todos que buscam algo eficiente e confiável. Com certeza voltarei a comprar!\n"
          ]
        },
        {
          "name": "stderr",
          "output_type": "stream",
          "text": [
            "\rGenerating for OUTPUT-b2w_dev_reviewText_LLAMA_bm25-none_k4:  36%|███▌      | 892/2500 [10:31<17:37,  1.52it/s]"
          ]
        },
        {
          "name": "stdout",
          "output_type": "stream",
          "text": [
            "Review text: \"Esse produto superou minhas expectativas! A qualidade é excelente e o desempenho é incrível. Com certeza vou recomendar para amigos e familiares. Vale cada centavo!\"\n"
          ]
        },
        {
          "name": "stderr",
          "output_type": "stream",
          "text": [
            "\rGenerating for OUTPUT-b2w_dev_reviewText_LLAMA_bm25-none_k4:  36%|███▌      | 893/2500 [10:31<17:35,  1.52it/s]"
          ]
        },
        {
          "name": "stdout",
          "output_type": "stream",
          "text": [
            "Review text: Este produto não atendeu às minhas expectativas de forma alguma. A qualidade é muito inferior e não funcionou como prometido. Senti que foi um desperdício de dinheiro e não recomendo a ninguém.\n"
          ]
        },
        {
          "name": "stderr",
          "output_type": "stream",
          "text": [
            "\rGenerating for OUTPUT-b2w_dev_reviewText_LLAMA_bm25-none_k4:  36%|███▌      | 894/2500 [10:32<17:45,  1.51it/s]"
          ]
        },
        {
          "name": "stdout",
          "output_type": "stream",
          "text": [
            "Review text: Desde que tirei o produto da caixa, não consegui utilizá-lo de forma alguma. As instruções eram confusas e não consegui entender como funcionava. Tentei várias vezes, mas ele simplesmente não responde. Estou muito desapontado, pois esperava muito mais.\n"
          ]
        },
        {
          "name": "stderr",
          "output_type": "stream",
          "text": [
            "\rGenerating for OUTPUT-b2w_dev_reviewText_LLAMA_bm25-none_k4:  36%|███▌      | 895/2500 [10:33<20:06,  1.33it/s]"
          ]
        },
        {
          "name": "stdout",
          "output_type": "stream",
          "text": [
            "Review text: I recently purchased the Tablet Multilaser, and I have to say, it exceeded my expectations! The display is vibrant and clear, making it perfect for streaming videos and browsing the web. The battery life is impressive, lasting all day without needing a charge. I love the lightweight design, which makes it easy to carry around. The performance is smooth, and I haven't experienced any lag while multitasking. Overall, it's a fantastic tablet for the price, and I highly recommend it to anyone looking for a reliable device!\n"
          ]
        },
        {
          "name": "stderr",
          "output_type": "stream",
          "text": [
            "\rGenerating for OUTPUT-b2w_dev_reviewText_LLAMA_bm25-none_k4:  36%|███▌      | 896/2500 [10:34<20:07,  1.33it/s]"
          ]
        },
        {
          "name": "stdout",
          "output_type": "stream",
          "text": [
            "Review text: \"Este produto superou todas as minhas expectativas! A qualidade é excepcional e os resultados são visíveis desde o primeiro uso. Recomendo a todos que buscam algo realmente eficaz. Sensacional!\"\n"
          ]
        },
        {
          "name": "stderr",
          "output_type": "stream",
          "text": [
            "\rGenerating for OUTPUT-b2w_dev_reviewText_LLAMA_bm25-none_k4:  36%|███▌      | 897/2500 [10:35<19:42,  1.36it/s]"
          ]
        },
        {
          "name": "stdout",
          "output_type": "stream",
          "text": [
            "Review text: \"Comprei o cercadinho e estou muito satisfeito! Ele é espaçoso, fácil de montar e proporciona segurança para o meu bebê brincar. A qualidade dos materiais é excelente e a cor é linda. Recomendo para quem busca um lugar seguro e divertido para os pequenos!\"\n"
          ]
        },
        {
          "name": "stderr",
          "output_type": "stream",
          "text": [
            "\rGenerating for OUTPUT-b2w_dev_reviewText_LLAMA_bm25-none_k4:  36%|███▌      | 898/2500 [10:35<18:10,  1.47it/s]"
          ]
        },
        {
          "name": "stdout",
          "output_type": "stream",
          "text": [
            "Review text: Adorei o produto! Atendeu todas as minhas expectativas e a qualidade é excelente. Com certeza recomendo para quem busca algo confiável e eficaz.\n"
          ]
        },
        {
          "name": "stderr",
          "output_type": "stream",
          "text": [
            "\rGenerating for OUTPUT-b2w_dev_reviewText_LLAMA_bm25-none_k4:  36%|███▌      | 899/2500 [10:36<16:22,  1.63it/s]"
          ]
        },
        {
          "name": "stdout",
          "output_type": "stream",
          "text": [
            "Review text: Este produto realmente chamou minha atenção! A qualidade é excelente e a funcionalidade atendeu todas as minhas expectativas. Além disso, o design é moderno e atrativo. Recomendo para quem busca algo inovador e prático.\n"
          ]
        },
        {
          "name": "stderr",
          "output_type": "stream",
          "text": [
            "\rGenerating for OUTPUT-b2w_dev_reviewText_LLAMA_bm25-none_k4:  36%|███▌      | 900/2500 [10:37<18:51,  1.41it/s]"
          ]
        },
        {
          "name": "stdout",
          "output_type": "stream",
          "text": [
            "Review text: I was really looking forward to this product, but it fell short of my expectations. The flavor was quite bland, and the texture was not what I had hoped for. It lacked the richness and depth that I usually enjoy in a good churrasco. Overall, I would say it was a disappointing experience.\n"
          ]
        },
        {
          "name": "stderr",
          "output_type": "stream",
          "text": [
            "\rGenerating for OUTPUT-b2w_dev_reviewText_LLAMA_bm25-none_k4:  36%|███▌      | 901/2500 [10:37<17:14,  1.55it/s]"
          ]
        },
        {
          "name": "stdout",
          "output_type": "stream",
          "text": [
            "Review text: \"Estou extremamente satisfeito com este produto! A qualidade superou minhas expectativas e o desempenho tem sido impecável. Recomendo a todos que buscam algo confiável e eficiente. Vale cada centavo!\"\n"
          ]
        },
        {
          "name": "stderr",
          "output_type": "stream",
          "text": [
            "\rGenerating for OUTPUT-b2w_dev_reviewText_LLAMA_bm25-none_k4:  36%|███▌      | 902/2500 [10:38<15:52,  1.68it/s]"
          ]
        },
        {
          "name": "stdout",
          "output_type": "stream",
          "text": [
            "Review text: Este produto superou todas as minhas expectativas! A qualidade é excepcional e a performance é incrível. Recomendo a todos que buscam algo confiável e eficiente. Com certeza, vale cada centavo!\n"
          ]
        },
        {
          "name": "stderr",
          "output_type": "stream",
          "text": [
            "\rGenerating for OUTPUT-b2w_dev_reviewText_LLAMA_bm25-none_k4:  36%|███▌      | 903/2500 [10:39<24:00,  1.11it/s]"
          ]
        },
        {
          "name": "stdout",
          "output_type": "stream",
          "text": [
            "Review text: A troca não foi efetuada conforme esperado. O processo foi confuso e demorado, e não consegui obter a assistência necessária. Infelizmente, minha experiência foi bastante frustrante.\n"
          ]
        },
        {
          "name": "stderr",
          "output_type": "stream",
          "text": [
            "\rGenerating for OUTPUT-b2w_dev_reviewText_LLAMA_bm25-none_k4:  36%|███▌      | 904/2500 [10:40<26:50,  1.01s/it]"
          ]
        },
        {
          "name": "stdout",
          "output_type": "stream",
          "text": [
            "Review text: \"Infelizmente, minha experiência com a entrega deste produto foi muito frustrante. Esperei 15 dias além do prazo prometido, o que causou muitos inconvenientes. A comunicação com o serviço de atendimento ao cliente também deixou a desejar, pois não consegui obter informações claras sobre o atraso. Embora o produto em si seja de boa qualidade, a demora na entrega realmente comprometeu minha satisfação geral. Espero que melhorem esse aspecto no futuro.\"\n"
          ]
        },
        {
          "name": "stderr",
          "output_type": "stream",
          "text": [
            "\rGenerating for OUTPUT-b2w_dev_reviewText_LLAMA_bm25-none_k4:  36%|███▌      | 905/2500 [10:41<23:37,  1.13it/s]"
          ]
        },
        {
          "name": "stdout",
          "output_type": "stream",
          "text": [
            "Review text: \"Tive uma experiência muito negativa ao comprar pelo site, especialmente por causa da parceria com a JAPÃO SHOP. O atendimento foi insatisfatório e o produto chegou com atraso. Não recomendo essa opção de compra.\"\n"
          ]
        },
        {
          "name": "stderr",
          "output_type": "stream",
          "text": [
            "\rGenerating for OUTPUT-b2w_dev_reviewText_LLAMA_bm25-none_k4:  36%|███▌      | 906/2500 [10:42<22:21,  1.19it/s]"
          ]
        },
        {
          "name": "stdout",
          "output_type": "stream",
          "text": [
            "Review text: Este produto realmente não atendeu às minhas expectativas. A qualidade é muito inferior ao que foi prometido. Após pouco uso, apresentou defeitos e não funcionou como deveria. Sinto que foi um desperdício de dinheiro e definitivamente não recomendo a ninguém.\n"
          ]
        },
        {
          "name": "stderr",
          "output_type": "stream",
          "text": [
            "\rGenerating for OUTPUT-b2w_dev_reviewText_LLAMA_bm25-none_k4:  36%|███▋      | 907/2500 [10:42<21:36,  1.23it/s]"
          ]
        },
        {
          "name": "stdout",
          "output_type": "stream",
          "text": [
            "Review text: A compra foi cancelada sem aviso prévio, o que me deixou bastante frustrado. Tinha grandes expectativas em relação ao produto e agora estou em dúvida se devo tentar novamente ou buscar alternativas. O atendimento ao cliente também poderia ser mais eficiente para resolver essas questões.\n"
          ]
        },
        {
          "name": "stderr",
          "output_type": "stream",
          "text": [
            "\rGenerating for OUTPUT-b2w_dev_reviewText_LLAMA_bm25-none_k4:  36%|███▋      | 908/2500 [10:43<21:18,  1.25it/s]"
          ]
        },
        {
          "name": "stdout",
          "output_type": "stream",
          "text": [
            "Review text: Este produto é uma decepção total. A qualidade é tão ruim que nem o selo da Anatel está presente, o que me deixou bastante preocupado com a segurança. Não recomendo a ninguém, pois além de não funcionar como prometido, é um desperdício de dinheiro.\n"
          ]
        },
        {
          "name": "stderr",
          "output_type": "stream",
          "text": [
            "\rGenerating for OUTPUT-b2w_dev_reviewText_LLAMA_bm25-none_k4:  36%|███▋      | 909/2500 [10:44<20:42,  1.28it/s]"
          ]
        },
        {
          "name": "stdout",
          "output_type": "stream",
          "text": [
            "Review text: \"Infelizmente, o produto não atendeu às minhas expectativas. Ele não gela como prometido, e isso foi uma grande decepção. Tentei ajustá-lo várias vezes, mas não notei nenhuma diferença. Esperava um desempenho melhor, especialmente considerando o preço. Não recomendo.\"\n"
          ]
        },
        {
          "name": "stderr",
          "output_type": "stream",
          "text": [
            "\rGenerating for OUTPUT-b2w_dev_reviewText_LLAMA_bm25-none_k4:  36%|███▋      | 910/2500 [10:44<18:37,  1.42it/s]"
          ]
        },
        {
          "name": "stdout",
          "output_type": "stream",
          "text": [
            "Review text: \"Infelizmente, minha experiência com este produto foi decepcionante. A qualidade não atendeu às minhas expectativas e houve problemas de funcionamento logo nas primeiras semanas. Eu esperava mais, considerando as promessas feitas. Não recomendo.\"\n"
          ]
        },
        {
          "name": "stderr",
          "output_type": "stream",
          "text": [
            "\rGenerating for OUTPUT-b2w_dev_reviewText_LLAMA_bm25-none_k4:  36%|███▋      | 911/2500 [10:45<19:09,  1.38it/s]"
          ]
        },
        {
          "name": "stdout",
          "output_type": "stream",
          "text": [
            "Review text: \"Comprei este produto esperando qualidade, mas fiquei extremamente decepcionado. A descrição prometia muito, mas a realidade foi bem diferente. Senti que fui enganado, pois não atendeu às minhas expectativas. Não recomendo!\"\n"
          ]
        },
        {
          "name": "stderr",
          "output_type": "stream",
          "text": [
            "\rGenerating for OUTPUT-b2w_dev_reviewText_LLAMA_bm25-none_k4:  36%|███▋      | 912/2500 [10:46<18:00,  1.47it/s]"
          ]
        },
        {
          "name": "stdout",
          "output_type": "stream",
          "text": [
            "Review text: \"Comprei este produto há algumas semanas e estou muito satisfeito. A qualidade é excelente pelo preço que paguei, superando minhas expectativas. Funciona perfeitamente e é muito fácil de usar. Recomendo para quem busca um bom custo/benefício!\"\n"
          ]
        },
        {
          "name": "stderr",
          "output_type": "stream",
          "text": [
            "\rGenerating for OUTPUT-b2w_dev_reviewText_LLAMA_bm25-none_k4:  37%|███▋      | 913/2500 [10:46<16:58,  1.56it/s]"
          ]
        },
        {
          "name": "stdout",
          "output_type": "stream",
          "text": [
            "Review text: Este produto superou todas as minhas expectativas! A qualidade é excepcional e o desempenho é impecável. Recomendo a todos que buscam algo realmente eficaz. Vale cada centavo!\n"
          ]
        },
        {
          "name": "stderr",
          "output_type": "stream",
          "text": [
            "\rGenerating for OUTPUT-b2w_dev_reviewText_LLAMA_bm25-none_k4:  37%|███▋      | 914/2500 [10:47<19:03,  1.39it/s]"
          ]
        },
        {
          "name": "stdout",
          "output_type": "stream",
          "text": [
            "Review text: \"I've been using this headset for a few weeks now, and I have to say, it's absolutely amazing! The sound quality is top-notch, providing crystal clear audio whether I'm gaming or listening to music. The comfort level is impressive too; I can wear it for hours without any discomfort. The battery life is fantastic, lasting all day on a single charge. Plus, the design is sleek and stylish. Overall, I couldn't be happier with my purchase. Highly recommend it to anyone looking for a reliable and high-quality headset!\"\n"
          ]
        },
        {
          "name": "stderr",
          "output_type": "stream",
          "text": [
            "\rGenerating for OUTPUT-b2w_dev_reviewText_LLAMA_bm25-none_k4:  37%|███▋      | 915/2500 [10:48<17:40,  1.49it/s]"
          ]
        },
        {
          "name": "stdout",
          "output_type": "stream",
          "text": [
            "Review text: Este produto superou minhas expectativas! A qualidade é excelente e o desempenho é notável. Recomendo a todos que buscam algo confiável e eficaz. Estou muito satisfeito com a minha compra!\n"
          ]
        },
        {
          "name": "stderr",
          "output_type": "stream",
          "text": [
            "\rGenerating for OUTPUT-b2w_dev_reviewText_LLAMA_bm25-none_k4:  37%|███▋      | 916/2500 [10:48<17:11,  1.54it/s]"
          ]
        },
        {
          "name": "stdout",
          "output_type": "stream",
          "text": [
            "Review text: Este produto superou todas as minhas expectativas! A qualidade é excepcional e o desempenho é impecável. Recomendo a todos que buscam algo confiável e eficaz. Vale cada centavo!\n"
          ]
        },
        {
          "name": "stderr",
          "output_type": "stream",
          "text": [
            "\rGenerating for OUTPUT-b2w_dev_reviewText_LLAMA_bm25-none_k4:  37%|███▋      | 917/2500 [10:49<18:23,  1.43it/s]"
          ]
        },
        {
          "name": "stdout",
          "output_type": "stream",
          "text": [
            "Review text: Este produto superou minhas expectativas em todos os aspectos. A qualidade é evidente desde o primeiro uso, com materiais duráveis e um acabamento impecável. Recomendo a todos que buscam um item que realmente vale o investimento. Sem dúvida, um dos melhores produtos que já adquiri!\n"
          ]
        },
        {
          "name": "stderr",
          "output_type": "stream",
          "text": [
            "\rGenerating for OUTPUT-b2w_dev_reviewText_LLAMA_bm25-none_k4:  37%|███▋      | 918/2500 [10:50<17:46,  1.48it/s]"
          ]
        },
        {
          "name": "stdout",
          "output_type": "stream",
          "text": [
            "Review text: \"Comprei este produto e estou extremamente satisfeito! A qualidade é excelente e o preço é muito acessível. Definitivamente vale cada centavo. Recomendo para quem busca um bom equilíbrio entre custo e benefício!\"\n"
          ]
        },
        {
          "name": "stderr",
          "output_type": "stream",
          "text": [
            "\rGenerating for OUTPUT-b2w_dev_reviewText_LLAMA_bm25-none_k4:  37%|███▋      | 919/2500 [10:50<16:40,  1.58it/s]"
          ]
        },
        {
          "name": "stdout",
          "output_type": "stream",
          "text": [
            "Review text: Este produto realmente atende a todas as minhas expectativas. A qualidade é excelente e cumpre o que promete. Estou muito satisfeito com a compra e recomendo a todos que buscam algo confiável e eficiente.\n"
          ]
        },
        {
          "name": "stderr",
          "output_type": "stream",
          "text": [
            "\rGenerating for OUTPUT-b2w_dev_reviewText_LLAMA_bm25-none_k4:  37%|███▋      | 920/2500 [10:52<20:13,  1.30it/s]"
          ]
        },
        {
          "name": "stdout",
          "output_type": "stream",
          "text": [
            "Review text: Este produto superou minhas expectativas em todos os aspectos relacionados a jogos. A performance é incrível, com gráficos nítidos e uma taxa de resposta rápida que faz toda a diferença em momentos decisivos. Além disso, o conforto durante longas sessões de jogo é notável, permitindo que eu jogue por horas sem desconforto. Recomendo fortemente para quem busca uma experiência de jogo excepcional!\n"
          ]
        },
        {
          "name": "stderr",
          "output_type": "stream",
          "text": [
            "\rGenerating for OUTPUT-b2w_dev_reviewText_LLAMA_bm25-none_k4:  37%|███▋      | 921/2500 [10:52<18:39,  1.41it/s]"
          ]
        },
        {
          "name": "stdout",
          "output_type": "stream",
          "text": [
            "Review text: Este produto superou minhas expectativas! A qualidade é excelente e ele funciona perfeitamente. Recomendo a todos que buscam um item confiável e eficaz. Vale cada centavo!\n"
          ]
        },
        {
          "name": "stderr",
          "output_type": "stream",
          "text": [
            "\rGenerating for OUTPUT-b2w_dev_reviewText_LLAMA_bm25-none_k4:  37%|███▋      | 922/2500 [10:53<17:49,  1.47it/s]"
          ]
        },
        {
          "name": "stdout",
          "output_type": "stream",
          "text": [
            "Review text: \"Estou muito satisfeito com a qualidade e a funcionalidade deste produto. Atendeu todas as minhas expectativas e é exatamente o que eu precisava. Recomendo a todos que buscam algo eficiente e confiável!\"\n"
          ]
        },
        {
          "name": "stderr",
          "output_type": "stream",
          "text": [
            "\rGenerating for OUTPUT-b2w_dev_reviewText_LLAMA_bm25-none_k4:  37%|███▋      | 923/2500 [10:54<18:59,  1.38it/s]"
          ]
        },
        {
          "name": "stdout",
          "output_type": "stream",
          "text": [
            "Review text: Estou muito satisfeito com a qualidade e o desempenho deste produto. Ele atendeu todas as minhas expectativas e se destacou em comparação com outros que já usei. Recomendo a todos que buscam algo confiável e eficiente!\n"
          ]
        },
        {
          "name": "stderr",
          "output_type": "stream",
          "text": [
            "\rGenerating for OUTPUT-b2w_dev_reviewText_LLAMA_bm25-none_k4:  37%|███▋      | 924/2500 [10:54<18:27,  1.42it/s]"
          ]
        },
        {
          "name": "stdout",
          "output_type": "stream",
          "text": [
            "Review text: Infelizmente, não posso opinar sobre a qualidade do produto, pois ele chegou quebrado. Fiquei bastante desapontado com a situação e espero que a troca ou devolução seja feita de forma rápida e eficiente.\n"
          ]
        },
        {
          "name": "stderr",
          "output_type": "stream",
          "text": [
            "\rGenerating for OUTPUT-b2w_dev_reviewText_LLAMA_bm25-none_k4:  37%|███▋      | 925/2500 [10:55<18:03,  1.45it/s]"
          ]
        },
        {
          "name": "stdout",
          "output_type": "stream",
          "text": [
            "Review text: Fiquei extremamente decepcionado com o produto. Ao recebê-lo, percebi que estava quebrado e inutilizável. Tentei entrar em contato com o suporte, mas não obtive uma resposta satisfatória. Não recomendo a compra, pois a qualidade do produto deixou muito a desejar.\n"
          ]
        },
        {
          "name": "stderr",
          "output_type": "stream",
          "text": [
            "\rGenerating for OUTPUT-b2w_dev_reviewText_LLAMA_bm25-none_k4:  37%|███▋      | 926/2500 [10:55<17:30,  1.50it/s]"
          ]
        },
        {
          "name": "stdout",
          "output_type": "stream",
          "text": [
            "Review text: \"Este produto superou todas as minhas expectativas! A qualidade é excepcional e os resultados são visíveis desde a primeira utilização. Recomendo a todos que buscam eficiência e satisfação. Vale cada centavo!\"\n"
          ]
        },
        {
          "name": "stderr",
          "output_type": "stream",
          "text": [
            "\rGenerating for OUTPUT-b2w_dev_reviewText_LLAMA_bm25-none_k4:  37%|███▋      | 927/2500 [10:56<16:12,  1.62it/s]"
          ]
        },
        {
          "name": "stdout",
          "output_type": "stream",
          "text": [
            "Review text: Adorei o produto! Atendeu todas as minhas expectativas e a qualidade é excelente. Recomendo a todos que estão em busca de algo confiável e eficiente. Com certeza compraria novamente!\n"
          ]
        },
        {
          "name": "stderr",
          "output_type": "stream",
          "text": [
            "\rGenerating for OUTPUT-b2w_dev_reviewText_LLAMA_bm25-none_k4:  37%|███▋      | 928/2500 [10:57<17:33,  1.49it/s]"
          ]
        },
        {
          "name": "stdout",
          "output_type": "stream",
          "text": [
            "Review text: \"Comprei um produto e a experiência foi péssima. O atendimento ao cliente é horrível, demoram para responder e não resolvem os problemas. Além disso, o prazo de entrega foi muito maior do que o prometido. Não recomendo esse site para ninguém!\"\n"
          ]
        },
        {
          "name": "stderr",
          "output_type": "stream",
          "text": [
            "\rGenerating for OUTPUT-b2w_dev_reviewText_LLAMA_bm25-none_k4:  37%|███▋      | 929/2500 [10:57<16:25,  1.59it/s]"
          ]
        },
        {
          "name": "stdout",
          "output_type": "stream",
          "text": [
            "Review text: Este producto superó mis expectativas. La calidad es excepcional y ha funcionado perfectamente desde el primer uso. Definitivamente lo recomendaría a otros. ¡Muy satisfecho con mi compra!\n"
          ]
        },
        {
          "name": "stderr",
          "output_type": "stream",
          "text": [
            "\rGenerating for OUTPUT-b2w_dev_reviewText_LLAMA_bm25-none_k4:  37%|███▋      | 930/2500 [10:58<17:05,  1.53it/s]"
          ]
        },
        {
          "name": "stdout",
          "output_type": "stream",
          "text": [
            "Review text: \"Estou muito satisfeito com este produto! A qualidade é excelente e atendeu todas as minhas expectativas. Recomendo a todos que buscam algo confiável e eficiente. Com certeza, voltarei a comprar!\"\n"
          ]
        },
        {
          "name": "stderr",
          "output_type": "stream",
          "text": [
            "\rGenerating for OUTPUT-b2w_dev_reviewText_LLAMA_bm25-none_k4:  37%|███▋      | 931/2500 [10:59<16:18,  1.60it/s]"
          ]
        },
        {
          "name": "stdout",
          "output_type": "stream",
          "text": [
            "Review text: \"O celular é realmente excelente, com desempenho e qualidade de câmera que superaram minhas expectativas. No entanto, recomendo que comprem em outro site, pois encontrei um preço muito melhor em uma loja diferente. Vale a pena a pesquisa!\"\n"
          ]
        },
        {
          "name": "stderr",
          "output_type": "stream",
          "text": [
            "\rGenerating for OUTPUT-b2w_dev_reviewText_LLAMA_bm25-none_k4:  37%|███▋      | 932/2500 [10:59<16:01,  1.63it/s]"
          ]
        },
        {
          "name": "stdout",
          "output_type": "stream",
          "text": [
            "Review text: This product exceeded my expectations in every way! The quality is outstanding, and it performs flawlessly. I couldn't be happier with my purchase. Highly recommend it to anyone considering!\n"
          ]
        },
        {
          "name": "stderr",
          "output_type": "stream",
          "text": [
            "\rGenerating for OUTPUT-b2w_dev_reviewText_LLAMA_bm25-none_k4:  37%|███▋      | 933/2500 [11:00<16:00,  1.63it/s]"
          ]
        },
        {
          "name": "stdout",
          "output_type": "stream",
          "text": [
            "Review text: Este produto superou minhas expectativas! A qualidade é excelente e atendeu todas as minhas necessidades. Recomendo a todos que estão em busca de algo eficaz e confiável. Estou muito satisfeito com a compra!\n"
          ]
        },
        {
          "name": "stderr",
          "output_type": "stream",
          "text": [
            "\rGenerating for OUTPUT-b2w_dev_reviewText_LLAMA_bm25-none_k4:  37%|███▋      | 934/2500 [11:02<25:11,  1.04it/s]"
          ]
        },
        {
          "name": "stdout",
          "output_type": "stream",
          "text": [
            "Review text: Este produto tem um cheiro de queimado muito forte, o que me deixou bastante desapontado. A qualidade não correspondeu às minhas expectativas e não consegui utilizá-lo como pretendia. Infelizmente, não recomendo.\n"
          ]
        },
        {
          "name": "stderr",
          "output_type": "stream",
          "text": [
            "\rGenerating for OUTPUT-b2w_dev_reviewText_LLAMA_bm25-none_k4:  37%|███▋      | 935/2500 [11:02<22:18,  1.17it/s]"
          ]
        },
        {
          "name": "stdout",
          "output_type": "stream",
          "text": [
            "Review text: This product exceeded all my expectations! The quality is top-notch and it performs exceptionally well. I’ve been using it daily, and I can’t imagine my life without it now. Highly recommend it to anyone looking for something reliable and effective. Truly a game-changer!\n"
          ]
        },
        {
          "name": "stderr",
          "output_type": "stream",
          "text": [
            "\rGenerating for OUTPUT-b2w_dev_reviewText_LLAMA_bm25-none_k4:  37%|███▋      | 936/2500 [11:03<20:49,  1.25it/s]"
          ]
        },
        {
          "name": "stdout",
          "output_type": "stream",
          "text": [
            "Review text: \"Comprei com grandes expectativas, mas ao abrir a caixa, fiquei desanimado com o tamanho do produto. Não correspondeu ao que eu imaginava. Esperava algo maior e mais robusto. Infelizmente, não atendeu às minhas necessidades.\"\n"
          ]
        },
        {
          "name": "stderr",
          "output_type": "stream",
          "text": [
            "\rGenerating for OUTPUT-b2w_dev_reviewText_LLAMA_bm25-none_k4:  37%|███▋      | 937/2500 [11:03<19:47,  1.32it/s]"
          ]
        },
        {
          "name": "stdout",
          "output_type": "stream",
          "text": [
            "Review text: I recently purchased this product and I couldn't be happier! The quality is outstanding, and it performs exactly as advertised. It's easy to use and has exceeded my expectations in every way. I highly recommend it to anyone looking for a reliable solution. Definitely worth the investment!\n"
          ]
        },
        {
          "name": "stderr",
          "output_type": "stream",
          "text": [
            "\rGenerating for OUTPUT-b2w_dev_reviewText_LLAMA_bm25-none_k4:  38%|███▊      | 938/2500 [11:04<18:15,  1.43it/s]"
          ]
        },
        {
          "name": "stdout",
          "output_type": "stream",
          "text": [
            "Review text: \"Eu realmente gostei muito deste produto! A qualidade é excelente e atendeu todas as minhas expectativas. O desempenho é impressionante e eu recomendo a todos que estão procurando algo confiável e eficaz. Sem dúvida, uma ótima compra!\"\n"
          ]
        },
        {
          "name": "stderr",
          "output_type": "stream",
          "text": [
            "\rGenerating for OUTPUT-b2w_dev_reviewText_LLAMA_bm25-none_k4:  38%|███▊      | 939/2500 [11:05<20:22,  1.28it/s]"
          ]
        },
        {
          "name": "stdout",
          "output_type": "stream",
          "text": [
            "Review text: \"The Mousepad Gamer Gigantus is an absolute game-changer! Its massive size provides ample space for my mouse movements, making it perfect for intense gaming sessions. The smooth surface allows for precise tracking, and the anti-slip base keeps it firmly in place. Plus, the design is sleek and visually appealing. I can't imagine gaming without it now!\"\n"
          ]
        },
        {
          "name": "stderr",
          "output_type": "stream",
          "text": [
            "\rGenerating for OUTPUT-b2w_dev_reviewText_LLAMA_bm25-none_k4:  38%|███▊      | 940/2500 [11:06<21:25,  1.21it/s]"
          ]
        },
        {
          "name": "stdout",
          "output_type": "stream",
          "text": [
            "Review text: \"Este mousepad ha superado todas mis expectativas. La superficie es suave y permite un deslizamiento perfecto del ratón, lo que mejora mi precisión en los juegos y el trabajo. Además, su diseño es elegante y se adapta perfectamente a mi escritorio. La calidad de los materiales es evidente, y no se desliza en absoluto. Definitivamente, lo recomendaría a cualquiera que busque un mousepad duradero y funcional.\"\n"
          ]
        },
        {
          "name": "stderr",
          "output_type": "stream",
          "text": [
            "\rGenerating for OUTPUT-b2w_dev_reviewText_LLAMA_bm25-none_k4:  38%|███▊      | 941/2500 [11:07<21:20,  1.22it/s]"
          ]
        },
        {
          "name": "stdout",
          "output_type": "stream",
          "text": [
            "Review text: Este produto atendeu às minhas expectativas em termos de qualidade e desempenho, mas fiquei decepcionado ao perceber que veio sem o cabo necessário para utilizá-lo. Isso acabou prejudicando a experiência geral. Espero que a próxima compra venha completa!\n"
          ]
        },
        {
          "name": "stderr",
          "output_type": "stream",
          "text": [
            "\rGenerating for OUTPUT-b2w_dev_reviewText_LLAMA_bm25-none_k4:  38%|███▊      | 942/2500 [11:07<19:14,  1.35it/s]"
          ]
        },
        {
          "name": "stdout",
          "output_type": "stream",
          "text": [
            "Review text: Este produto superou minhas expectativas! A qualidade é excelente e ele funciona perfeitamente. Estou muito satisfeito com a compra e recomendo a todos que buscam algo confiável e eficaz. Vale cada centavo!\n"
          ]
        },
        {
          "name": "stderr",
          "output_type": "stream",
          "text": [
            "\rGenerating for OUTPUT-b2w_dev_reviewText_LLAMA_bm25-none_k4:  38%|███▊      | 943/2500 [11:08<16:56,  1.53it/s]"
          ]
        },
        {
          "name": "stdout",
          "output_type": "stream",
          "text": [
            "Review text: Infelizmente, o produto não atendeu às minhas expectativas. A qualidade não é boa e não funcionou como prometido. Fiquei bastante decepcionado e não recomendaria a ninguém.\n"
          ]
        },
        {
          "name": "stderr",
          "output_type": "stream",
          "text": [
            "\rGenerating for OUTPUT-b2w_dev_reviewText_LLAMA_bm25-none_k4:  38%|███▊      | 944/2500 [11:08<16:17,  1.59it/s]"
          ]
        },
        {
          "name": "stdout",
          "output_type": "stream",
          "text": [
            "Review text: Este produto não atendeu às minhas expectativas. A qualidade é inferior e não corresponde ao que foi prometido. Senti que não valeu o investimento. Não recomendo!\n"
          ]
        },
        {
          "name": "stderr",
          "output_type": "stream",
          "text": [
            "\rGenerating for OUTPUT-b2w_dev_reviewText_LLAMA_bm25-none_k4:  38%|███▊      | 945/2500 [11:09<17:09,  1.51it/s]"
          ]
        },
        {
          "name": "stdout",
          "output_type": "stream",
          "text": [
            "Review text: \"Comprei este produto esperando algo inovador, mas ele realmente funciona como os outros que já experimentei. Não há grandes surpresas, mas cumpre o que promete. A qualidade é boa e atende às minhas necessidades, mas não é nada excepcional. Se você busca algo básico, pode ser uma boa escolha!\"\n"
          ]
        },
        {
          "name": "stderr",
          "output_type": "stream",
          "text": [
            "\rGenerating for OUTPUT-b2w_dev_reviewText_LLAMA_bm25-none_k4:  38%|███▊      | 946/2500 [11:10<16:41,  1.55it/s]"
          ]
        },
        {
          "name": "stdout",
          "output_type": "stream",
          "text": [
            "Review text: \"Estou muito satisfeito com este produto! A qualidade é excelente e atendeu todas as minhas expectativas. Recomendo a todos que buscam algo eficaz e durável. Vale cada centavo!\"\n"
          ]
        },
        {
          "name": "stderr",
          "output_type": "stream",
          "text": [
            "\rGenerating for OUTPUT-b2w_dev_reviewText_LLAMA_bm25-none_k4:  38%|███▊      | 947/2500 [11:10<15:58,  1.62it/s]"
          ]
        },
        {
          "name": "stdout",
          "output_type": "stream",
          "text": [
            "Review text: \"Recebi meu pedido em tempo recorde, o que foi uma grata surpresa! O produto superou minhas expectativas em qualidade e desempenho. Definitivamente, recomendo a todos que buscam eficiência e um bom investimento.\"\n"
          ]
        },
        {
          "name": "stderr",
          "output_type": "stream",
          "text": [
            "\rGenerating for OUTPUT-b2w_dev_reviewText_LLAMA_bm25-none_k4:  38%|███▊      | 948/2500 [11:11<17:04,  1.51it/s]"
          ]
        },
        {
          "name": "stdout",
          "output_type": "stream",
          "text": [
            "Review text: Recebi o produto, mas infelizmente veio com defeito. Fiquei bastante desapontado, pois esperava uma qualidade melhor. Tive que entrar em contato com o suporte para resolver a situação, o que foi um pouco frustrante. Espero que a troca seja feita rapidamente.\n"
          ]
        },
        {
          "name": "stderr",
          "output_type": "stream",
          "text": [
            "\rGenerating for OUTPUT-b2w_dev_reviewText_LLAMA_bm25-none_k4:  38%|███▊      | 949/2500 [11:12<16:37,  1.55it/s]"
          ]
        },
        {
          "name": "stdout",
          "output_type": "stream",
          "text": [
            "Review text: Este produto superou minhas expectativas! A qualidade é excepcional e a performance é incrível. Recomendo a todos que buscam um item confiável e eficaz. Vale cada centavo!\n"
          ]
        },
        {
          "name": "stderr",
          "output_type": "stream",
          "text": [
            "\rGenerating for OUTPUT-b2w_dev_reviewText_LLAMA_bm25-none_k4:  38%|███▊      | 950/2500 [11:12<15:53,  1.63it/s]"
          ]
        },
        {
          "name": "stdout",
          "output_type": "stream",
          "text": [
            "Review text: Este produto superou minhas expectativas! A qualidade é excelente e ele funciona perfeitamente. Recomendo a todos que buscam um item confiável e eficaz. Vale cada centavo!\n"
          ]
        },
        {
          "name": "stderr",
          "output_type": "stream",
          "text": [
            "\rGenerating for OUTPUT-b2w_dev_reviewText_LLAMA_bm25-none_k4:  38%|███▊      | 951/2500 [11:15<30:27,  1.18s/it]"
          ]
        },
        {
          "name": "stdout",
          "output_type": "stream",
          "text": [
            "Review text: \"A fritadeira é simplesmente incrível! Cozinha tudo de maneira uniforme e rápida, deixando os alimentos crocantes por fora e macios por dentro. O design é moderno e ocupa pouco espaço na cozinha. Além disso, a limpeza é super fácil, o que é um grande bônus. Recomendo para quem ama frituras sem a bagunça e a gordura das fritadeiras tradicionais!\"\n"
          ]
        },
        {
          "name": "stderr",
          "output_type": "stream",
          "text": [
            "\rGenerating for OUTPUT-b2w_dev_reviewText_LLAMA_bm25-none_k4:  38%|███▊      | 952/2500 [11:15<25:08,  1.03it/s]"
          ]
        },
        {
          "name": "stdout",
          "output_type": "stream",
          "text": [
            "Review text: Estou muito satisfeito com o produto! Ele atendeu todas as minhas expectativas e funcionou perfeitamente. A qualidade é excelente e o desempenho é notável. Com certeza, recomendo para quem busca algo confiável e eficaz.\n"
          ]
        },
        {
          "name": "stderr",
          "output_type": "stream",
          "text": [
            "\rGenerating for OUTPUT-b2w_dev_reviewText_LLAMA_bm25-none_k4:  38%|███▊      | 953/2500 [11:16<24:28,  1.05it/s]"
          ]
        },
        {
          "name": "stdout",
          "output_type": "stream",
          "text": [
            "Review text: Este produto superou minhas expectativas! A qualidade é excelente e o desempenho é impecável. Recomendo para quem busca um bom custo-benefício. Sem dúvida, uma ótima aquisição!\n"
          ]
        },
        {
          "name": "stderr",
          "output_type": "stream",
          "text": [
            "\rGenerating for OUTPUT-b2w_dev_reviewText_LLAMA_bm25-none_k4:  38%|███▊      | 954/2500 [11:17<21:22,  1.21it/s]"
          ]
        },
        {
          "name": "stdout",
          "output_type": "stream",
          "text": [
            "Review text: \"Este produto superou minhas expectativas! A qualidade é excelente e a entrega foi rápida. Recomendo a todos que buscam um bom custo-benefício. Vale cada centavo!\"\n"
          ]
        },
        {
          "name": "stderr",
          "output_type": "stream",
          "text": [
            "\rGenerating for OUTPUT-b2w_dev_reviewText_LLAMA_bm25-none_k4:  38%|███▊      | 955/2500 [11:17<20:19,  1.27it/s]"
          ]
        },
        {
          "name": "stdout",
          "output_type": "stream",
          "text": [
            "Review text: \"Comprei este produto e não poderia estar mais satisfeito! A qualidade é excepcional e superou todas as minhas expectativas. Cada detalhe foi pensado com cuidado, e definitivamente valeu cada centavo investido. Recomendo a todos que buscam um bom custo-benefício!\"\n"
          ]
        },
        {
          "name": "stderr",
          "output_type": "stream",
          "text": [
            "\rGenerating for OUTPUT-b2w_dev_reviewText_LLAMA_bm25-none_k4:  38%|███▊      | 956/2500 [11:18<18:48,  1.37it/s]"
          ]
        },
        {
          "name": "stdout",
          "output_type": "stream",
          "text": [
            "Review text: Este produto superou todas as minhas expectativas! A qualidade é excepcional e ele atende a todas as minhas necessidades. Além disso, o design é elegante e funcional. Recomendo a todos que buscam algo realmente especial!\n"
          ]
        },
        {
          "name": "stderr",
          "output_type": "stream",
          "text": [
            "\rGenerating for OUTPUT-b2w_dev_reviewText_LLAMA_bm25-none_k4:  38%|███▊      | 957/2500 [11:18<16:57,  1.52it/s]"
          ]
        },
        {
          "name": "stdout",
          "output_type": "stream",
          "text": [
            "Review text: \"O espaço interno deste produto é realmente impressionante. Há muito espaço para armazenar tudo que preciso, e ainda sobra espaço para organizar de forma prática. É perfeito para quem busca funcionalidade sem abrir mão do conforto. Recomendo!\"\n"
          ]
        },
        {
          "name": "stderr",
          "output_type": "stream",
          "text": [
            "\rGenerating for OUTPUT-b2w_dev_reviewText_LLAMA_bm25-none_k4:  38%|███▊      | 958/2500 [11:19<17:52,  1.44it/s]"
          ]
        },
        {
          "name": "stdout",
          "output_type": "stream",
          "text": [
            "Review text: Este produto superou minhas expectativas! A qualidade é excelente e o preço é muito justo. Com certeza, é uma ótima escolha para quem busca um bom equilíbrio entre custo e benefício. Recomendo a todos que estão em dúvida!\n"
          ]
        },
        {
          "name": "stderr",
          "output_type": "stream",
          "text": [
            "\rGenerating for OUTPUT-b2w_dev_reviewText_LLAMA_bm25-none_k4:  38%|███▊      | 959/2500 [11:20<17:02,  1.51it/s]"
          ]
        },
        {
          "name": "stdout",
          "output_type": "stream",
          "text": [
            "Review text: \"Este produto superou todas as minhas expectativas! A qualidade é excepcional e os resultados são visíveis desde o primeiro uso. Além disso, o atendimento ao cliente foi excelente. Com certeza, vou recomendar para amigos e familiares!\"\n"
          ]
        },
        {
          "name": "stderr",
          "output_type": "stream",
          "text": [
            "\rGenerating for OUTPUT-b2w_dev_reviewText_LLAMA_bm25-none_k4:  38%|███▊      | 960/2500 [11:20<16:48,  1.53it/s]"
          ]
        },
        {
          "name": "stdout",
          "output_type": "stream",
          "text": [
            "Review text: \"Estou muito satisfeito com a qualidade e o desempenho deste produto! Ele superou minhas expectativas e atendeu todas as minhas necessidades. Recomendo a todos que estão em busca de algo eficiente e confiável. Com certeza, voltarei a comprar!\"\n"
          ]
        },
        {
          "name": "stderr",
          "output_type": "stream",
          "text": [
            "\rGenerating for OUTPUT-b2w_dev_reviewText_LLAMA_bm25-none_k4:  38%|███▊      | 961/2500 [11:21<17:01,  1.51it/s]"
          ]
        },
        {
          "name": "stdout",
          "output_type": "stream",
          "text": [
            "Review text: \"O aspirador superou minhas expectativas! Ele é potente, leve e fácil de manobrar. A sujeira desaparece em segundos, e o design é moderno e prático. Estou muito satisfeito com a compra e recomendo a todos que buscam eficiência na limpeza!\"\n"
          ]
        },
        {
          "name": "stderr",
          "output_type": "stream",
          "text": [
            "\rGenerating for OUTPUT-b2w_dev_reviewText_LLAMA_bm25-none_k4:  38%|███▊      | 962/2500 [11:22<17:45,  1.44it/s]"
          ]
        },
        {
          "name": "stdout",
          "output_type": "stream",
          "text": [
            "Review text: \"A saída de ar deste produto é simplesmente incrível! O fluxo de ar é potente e eficiente, garantindo que o ambiente permaneça fresco e confortável. Além disso, o design é moderno e se encaixa perfeitamente na decoração. Estou muito satisfeito com minha compra!\"\n"
          ]
        },
        {
          "name": "stderr",
          "output_type": "stream",
          "text": [
            "\rGenerating for OUTPUT-b2w_dev_reviewText_LLAMA_bm25-none_k4:  39%|███▊      | 963/2500 [11:22<17:25,  1.47it/s]"
          ]
        },
        {
          "name": "stdout",
          "output_type": "stream",
          "text": [
            "Review text: Este produto superou minhas expectativas! A qualidade é excelente e ele funciona perfeitamente. Recomendo a todos que estão procurando algo confiável e eficiente. Estou muito satisfeito com a minha compra!\n"
          ]
        },
        {
          "name": "stderr",
          "output_type": "stream",
          "text": [
            "\rGenerating for OUTPUT-b2w_dev_reviewText_LLAMA_bm25-none_k4:  39%|███▊      | 964/2500 [11:23<15:41,  1.63it/s]"
          ]
        },
        {
          "name": "stdout",
          "output_type": "stream",
          "text": [
            "Review text: \"Estou muito satisfeita com este produto! Já comprei cinco unidades para presentear amigos e familiares, e todos adoraram. A qualidade é excelente e sempre faz sucesso. Recomendo!\"\n"
          ]
        },
        {
          "name": "stderr",
          "output_type": "stream",
          "text": [
            "\rGenerating for OUTPUT-b2w_dev_reviewText_LLAMA_bm25-none_k4:  39%|███▊      | 965/2500 [11:24<17:01,  1.50it/s]"
          ]
        },
        {
          "name": "stdout",
          "output_type": "stream",
          "text": [
            "Review text: Este produto superou minhas expectativas! Ele é realmente eficiente e cumpre o que promete. Desde que comecei a usá-lo, notei uma diferença significativa nos resultados. A qualidade é excelente e o desempenho é notável. Recomendo a todos que buscam uma solução eficaz.\n"
          ]
        },
        {
          "name": "stderr",
          "output_type": "stream",
          "text": [
            "\rGenerating for OUTPUT-b2w_dev_reviewText_LLAMA_bm25-none_k4:  39%|███▊      | 966/2500 [11:24<16:47,  1.52it/s]"
          ]
        },
        {
          "name": "stdout",
          "output_type": "stream",
          "text": [
            "Review text: Este produto superou minhas expectativas! A qualidade é excelente e o desempenho é notável. Recomendo a todos que estão em busca de algo confiável e eficaz. Vale cada centavo!\n"
          ]
        },
        {
          "name": "stderr",
          "output_type": "stream",
          "text": [
            "\rGenerating for OUTPUT-b2w_dev_reviewText_LLAMA_bm25-none_k4:  39%|███▊      | 967/2500 [11:25<18:18,  1.40it/s]"
          ]
        },
        {
          "name": "stdout",
          "output_type": "stream",
          "text": [
            "Review text: I recently purchased this product, and I can't recommend it enough! The quality is outstanding, and it exceeded my expectations in every way. From the moment I unboxed it, I could tell it was built to last. The features are user-friendly, making it easy to use right out of the box. Plus, the customer service was top-notch when I had a question. If you're considering this product, go for it—you won't be disappointed!\n"
          ]
        },
        {
          "name": "stderr",
          "output_type": "stream",
          "text": [
            "\rGenerating for OUTPUT-b2w_dev_reviewText_LLAMA_bm25-none_k4:  39%|███▊      | 968/2500 [11:26<18:02,  1.41it/s]"
          ]
        },
        {
          "name": "stdout",
          "output_type": "stream",
          "text": [
            "Review text: I absolutely recommend this product! It exceeded my expectations in every way. The quality is outstanding, and it performs flawlessly. I've been using it daily, and I can't imagine my routine without it. If you're considering a purchase, don't hesitate—it's worth every penny!\n"
          ]
        },
        {
          "name": "stderr",
          "output_type": "stream",
          "text": [
            "\rGenerating for OUTPUT-b2w_dev_reviewText_LLAMA_bm25-none_k4:  39%|███▉      | 969/2500 [11:26<16:52,  1.51it/s]"
          ]
        },
        {
          "name": "stdout",
          "output_type": "stream",
          "text": [
            "Review text: Este produto superou todas as minhas expectativas! A qualidade é excepcional e a performance é impecável. Recomendo a todos que buscam algo realmente eficaz e confiável. Vale cada centavo!\n"
          ]
        },
        {
          "name": "stderr",
          "output_type": "stream",
          "text": [
            "\rGenerating for OUTPUT-b2w_dev_reviewText_LLAMA_bm25-none_k4:  39%|███▉      | 970/2500 [11:27<16:39,  1.53it/s]"
          ]
        },
        {
          "name": "stdout",
          "output_type": "stream",
          "text": [
            "Review text: Eu realmente gostei muito do produto! A qualidade é excelente e atendeu todas as minhas expectativas. Além disso, o design é muito bonito e funcional. Recomendo a todos que estão pensando em adquirir algo similar!\n"
          ]
        },
        {
          "name": "stderr",
          "output_type": "stream",
          "text": [
            "\rGenerating for OUTPUT-b2w_dev_reviewText_LLAMA_bm25-none_k4:  39%|███▉      | 971/2500 [11:28<16:11,  1.57it/s]"
          ]
        },
        {
          "name": "stdout",
          "output_type": "stream",
          "text": [
            "Review text: Adoramos a qualidade e a funcionalidade do produto. Atendeu todas as nossas expectativas e se destacou pela durabilidade. Com certeza, recomendamos a todos que buscam algo confiável e eficiente.\n"
          ]
        },
        {
          "name": "stderr",
          "output_type": "stream",
          "text": [
            "\rGenerating for OUTPUT-b2w_dev_reviewText_LLAMA_bm25-none_k4:  39%|███▉      | 972/2500 [11:29<18:00,  1.41it/s]"
          ]
        },
        {
          "name": "stdout",
          "output_type": "stream",
          "text": [
            "Review text: O produto chegou com várias marcas e arranhões, o que foi bastante decepcionante. Esperava um item em perfeito estado, mas infelizmente não foi o caso. A qualidade do acabamento deixou a desejar e isso impactou minha experiência. Não recomendaria, pois a apresentação do produto é fundamental.\n"
          ]
        },
        {
          "name": "stderr",
          "output_type": "stream",
          "text": [
            "\rGenerating for OUTPUT-b2w_dev_reviewText_LLAMA_bm25-none_k4:  39%|███▉      | 973/2500 [11:29<18:44,  1.36it/s]"
          ]
        },
        {
          "name": "stdout",
          "output_type": "stream",
          "text": [
            "Review text: \"Comprei o volante esperando que ele tivesse uma trava, mas fiquei desapontado ao descobrir que não vem com esse recurso. A qualidade do produto é boa, mas a falta da trava me faz questionar a segurança e a praticidade. Para quem busca um volante com mais funcionalidades, talvez seja melhor considerar outras opções.\"\n"
          ]
        },
        {
          "name": "stderr",
          "output_type": "stream",
          "text": [
            "\rGenerating for OUTPUT-b2w_dev_reviewText_LLAMA_bm25-none_k4:  39%|███▉      | 974/2500 [11:30<17:26,  1.46it/s]"
          ]
        },
        {
          "name": "stdout",
          "output_type": "stream",
          "text": [
            "Review text: Este produto superou minhas expectativas! A qualidade é excelente e ele funciona perfeitamente. Estou muito satisfeito com a compra e recomendo a todos que buscam um item confiável e eficiente. Vale cada centavo!\n"
          ]
        },
        {
          "name": "stderr",
          "output_type": "stream",
          "text": [
            "\rGenerating for OUTPUT-b2w_dev_reviewText_LLAMA_bm25-none_k4:  39%|███▉      | 975/2500 [11:31<20:18,  1.25it/s]"
          ]
        },
        {
          "name": "stdout",
          "output_type": "stream",
          "text": [
            "Review text: \"Esse brinquedo é incrível! A qualidade é excelente e as crianças adoram. Ele é super divertido e mantém os pequenos entretidos por horas. Recomendo para quem busca algo que realmente faça a diferença na hora da brincadeira!\"\n"
          ]
        },
        {
          "name": "stderr",
          "output_type": "stream",
          "text": [
            "\rGenerating for OUTPUT-b2w_dev_reviewText_LLAMA_bm25-none_k4:  39%|███▉      | 976/2500 [11:32<19:54,  1.28it/s]"
          ]
        },
        {
          "name": "stdout",
          "output_type": "stream",
          "text": [
            "Review text: Este produto não correspondeu às minhas expectativas. A qualidade é inferior e parece ser uma imitação barata. Não recomendo a compra, pois não vale o preço pago. Senti que foi uma grande decepção.\n"
          ]
        },
        {
          "name": "stderr",
          "output_type": "stream",
          "text": [
            "\rGenerating for OUTPUT-b2w_dev_reviewText_LLAMA_bm25-none_k4:  39%|███▉      | 977/2500 [11:32<19:33,  1.30it/s]"
          ]
        },
        {
          "name": "stdout",
          "output_type": "stream",
          "text": [
            "Review text: \"Comprei a pulseira recentemente e estou um pouco confusa sobre algumas funcionalidades. A aparência é ótima e o material parece resistente, mas ainda não consegui entender como usar todas as opções disponíveis. Seria útil ter um manual mais detalhado ou um vídeo explicativo. No geral, estou satisfeita, mas espero esclarecer minhas dúvidas em breve.\"\n"
          ]
        },
        {
          "name": "stderr",
          "output_type": "stream",
          "text": [
            "\rGenerating for OUTPUT-b2w_dev_reviewText_LLAMA_bm25-none_k4:  39%|███▉      | 978/2500 [11:33<17:15,  1.47it/s]"
          ]
        },
        {
          "name": "stdout",
          "output_type": "stream",
          "text": [
            "Review text: Adorei o produto! Atendeu todas as minhas expectativas e a qualidade é excelente. Recomendo a todos que estão em busca de algo similar.\n"
          ]
        },
        {
          "name": "stderr",
          "output_type": "stream",
          "text": [
            "\rGenerating for OUTPUT-b2w_dev_reviewText_LLAMA_bm25-none_k4:  39%|███▉      | 979/2500 [11:33<16:33,  1.53it/s]"
          ]
        },
        {
          "name": "stdout",
          "output_type": "stream",
          "text": [
            "Review text: \"Este producto superó mis expectativas. La calidad es excepcional y el rendimiento es impresionante. Definitivamente lo recomendaría a amigos y familiares. ¡Una compra que vale la pena!\"\n"
          ]
        },
        {
          "name": "stderr",
          "output_type": "stream",
          "text": [
            "\rGenerating for OUTPUT-b2w_dev_reviewText_LLAMA_bm25-none_k4:  39%|███▉      | 980/2500 [11:34<15:53,  1.59it/s]"
          ]
        },
        {
          "name": "stdout",
          "output_type": "stream",
          "text": [
            "Review text: \"Comprei este produto esperando qualidade, mas fiquei extremamente decepcionado. A mercadoria não correspondeu às descrições e parece ser de baixa qualidade. Não recomendo a ninguém.\"\n"
          ]
        },
        {
          "name": "stderr",
          "output_type": "stream",
          "text": [
            "\rGenerating for OUTPUT-b2w_dev_reviewText_LLAMA_bm25-none_k4:  39%|███▉      | 981/2500 [11:35<16:40,  1.52it/s]"
          ]
        },
        {
          "name": "stdout",
          "output_type": "stream",
          "text": [
            "Review text: A qualidade deste produto superou minhas expectativas! Os materiais são duráveis e a construção é impecável. Senti que cada detalhe foi pensado para oferecer o melhor desempenho. Recomendo a todos que buscam algo que realmente valha a pena. Excelente compra!\n"
          ]
        },
        {
          "name": "stderr",
          "output_type": "stream",
          "text": [
            "\rGenerating for OUTPUT-b2w_dev_reviewText_LLAMA_bm25-none_k4:  39%|███▉      | 982/2500 [11:35<15:21,  1.65it/s]"
          ]
        },
        {
          "name": "stdout",
          "output_type": "stream",
          "text": [
            "Review text: \"Comprei este produto recentemente e fiquei muito satisfeito. A qualidade é excelente e atendeu todas as minhas expectativas. Recomendo a todos que estão pensando em adquirir algo semelhante!\"\n"
          ]
        },
        {
          "name": "stderr",
          "output_type": "stream",
          "text": [
            "\rGenerating for OUTPUT-b2w_dev_reviewText_LLAMA_bm25-none_k4:  39%|███▉      | 983/2500 [11:36<15:01,  1.68it/s]"
          ]
        },
        {
          "name": "stdout",
          "output_type": "stream",
          "text": [
            "Review text: \"Adorei o produto! Atendeu todas as minhas expectativas e a qualidade é excelente. Sem dúvida, recomendo para quem busca algo confiável e eficiente. Vale a pena!\"\n"
          ]
        },
        {
          "name": "stderr",
          "output_type": "stream",
          "text": [
            "\rGenerating for OUTPUT-b2w_dev_reviewText_LLAMA_bm25-none_k4:  39%|███▉      | 984/2500 [11:36<14:59,  1.69it/s]"
          ]
        },
        {
          "name": "stdout",
          "output_type": "stream",
          "text": [
            "Review text: Este produto superou minhas expectativas! A qualidade é excepcional e ele funciona perfeitamente. Recomendo a todos que buscam um item confiável e eficiente. Vale cada centavo!\n"
          ]
        },
        {
          "name": "stderr",
          "output_type": "stream",
          "text": [
            "\rGenerating for OUTPUT-b2w_dev_reviewText_LLAMA_bm25-none_k4:  39%|███▉      | 985/2500 [11:39<27:21,  1.08s/it]"
          ]
        },
        {
          "name": "stdout",
          "output_type": "stream",
          "text": [
            "Review text: Este produto superou todas as minhas expectativas! A qualidade é excepcional e os resultados são visíveis desde a primeira utilização. Além disso, o design é moderno e prático, tornando o uso ainda mais agradável. Recomendo a todos que buscam algo realmente eficaz e de alta qualidade. Vale cada centavo!\n"
          ]
        },
        {
          "name": "stderr",
          "output_type": "stream",
          "text": [
            "\rGenerating for OUTPUT-b2w_dev_reviewText_LLAMA_bm25-none_k4:  39%|███▉      | 986/2500 [11:39<23:24,  1.08it/s]"
          ]
        },
        {
          "name": "stdout",
          "output_type": "stream",
          "text": [
            "Review text: Este producto no cumplió con mis expectativas. La calidad parece inferior y no se siente auténtico. Además, algunos detalles son sospechosos y me dejaron con dudas sobre su veracidad. No lo recomendaría.\n"
          ]
        },
        {
          "name": "stderr",
          "output_type": "stream",
          "text": [
            "\rGenerating for OUTPUT-b2w_dev_reviewText_LLAMA_bm25-none_k4:  39%|███▉      | 987/2500 [11:40<19:09,  1.32it/s]"
          ]
        },
        {
          "name": "stdout",
          "output_type": "stream",
          "text": [
            "Review text: Este produto não correspondeu às minhas expectativas. A qualidade é inferior e parece ser uma imitação barata. Fiquei muito decepcionado com a compra e não recomendo a ninguém.\n"
          ]
        },
        {
          "name": "stderr",
          "output_type": "stream",
          "text": [
            "\rGenerating for OUTPUT-b2w_dev_reviewText_LLAMA_bm25-none_k4:  40%|███▉      | 988/2500 [11:40<17:23,  1.45it/s]"
          ]
        },
        {
          "name": "stdout",
          "output_type": "stream",
          "text": [
            "Review text: Adorei este produto! A qualidade é excepcional e superou minhas expectativas. Recomendo a todos que estão em busca de algo confiável e eficiente. Com certeza, voltarei a comprar!\n"
          ]
        },
        {
          "name": "stderr",
          "output_type": "stream",
          "text": [
            "\rGenerating for OUTPUT-b2w_dev_reviewText_LLAMA_bm25-none_k4:  40%|███▉      | 989/2500 [11:41<17:38,  1.43it/s]"
          ]
        },
        {
          "name": "stdout",
          "output_type": "stream",
          "text": [
            "Review text: \"El material aglomerado es de buena calidad y se siente resistente. Me sorprendió lo bien que se mantiene a lo largo del tiempo, sin deformaciones ni desgaste visible. Ideal para muebles y proyectos de bricolaje. Sin duda, lo recomendaría a quienes buscan una opción económica y duradera.\"\n"
          ]
        },
        {
          "name": "stderr",
          "output_type": "stream",
          "text": [
            "\rGenerating for OUTPUT-b2w_dev_reviewText_LLAMA_bm25-none_k4:  40%|███▉      | 990/2500 [11:42<19:06,  1.32it/s]"
          ]
        },
        {
          "name": "stdout",
          "output_type": "stream",
          "text": [
            "Review text: Estou extremamente satisfeito com este produto! Ele superou minhas expectativas em termos de qualidade e desempenho. A entrega foi rápida e o atendimento ao cliente foi excepcional. Recomendo a todos que estão em busca de um produto confiável e eficiente. Sem dúvida, voltarei a comprar!\n"
          ]
        },
        {
          "name": "stderr",
          "output_type": "stream",
          "text": [
            "\rGenerating for OUTPUT-b2w_dev_reviewText_LLAMA_bm25-none_k4:  40%|███▉      | 991/2500 [11:42<17:55,  1.40it/s]"
          ]
        },
        {
          "name": "stdout",
          "output_type": "stream",
          "text": [
            "Review text: \"Infelizmente, a experiência foi frustrante. Esperei um mês inteiro para conseguir emitir a nota fiscal, o que é inaceitável. O processo deveria ser muito mais ágil e eficiente. Não recomendo.\"\n"
          ]
        },
        {
          "name": "stderr",
          "output_type": "stream",
          "text": [
            "\rGenerating for OUTPUT-b2w_dev_reviewText_LLAMA_bm25-none_k4:  40%|███▉      | 992/2500 [11:43<17:13,  1.46it/s]"
          ]
        },
        {
          "name": "stdout",
          "output_type": "stream",
          "text": [
            "Review text: \"A entrega foi rápida e eficiente, superando minhas expectativas! O prazo de entrega foi cumprido à risca, o que me deixou muito satisfeito com o serviço. Recomendo para quem busca agilidade e confiabilidade!\"\n"
          ]
        },
        {
          "name": "stderr",
          "output_type": "stream",
          "text": [
            "\rGenerating for OUTPUT-b2w_dev_reviewText_LLAMA_bm25-none_k4:  40%|███▉      | 993/2500 [11:46<34:30,  1.37s/it]"
          ]
        },
        {
          "name": "stdout",
          "output_type": "stream",
          "text": [
            "Review text: I recently purchased the chave catraca, and it has truly exceeded my expectations. The build quality is impressive, making it sturdy and reliable for various tasks. The ratcheting mechanism works smoothly, allowing for efficient use without any hassle. I appreciate the ergonomic design, which makes it comfortable to handle during prolonged use. Overall, this tool has become a staple in my toolkit, and I highly recommend it to anyone in need of a dependable ratchet wrench!\n"
          ]
        },
        {
          "name": "stderr",
          "output_type": "stream",
          "text": [
            "\rGenerating for OUTPUT-b2w_dev_reviewText_LLAMA_bm25-none_k4:  40%|███▉      | 994/2500 [11:46<27:56,  1.11s/it]"
          ]
        },
        {
          "name": "stdout",
          "output_type": "stream",
          "text": [
            "Review text: Este produto é extremamente prático e fácil de usar. A sua funcionalidade simplifica o dia a dia, tornando tarefas antes complicadas em algo rápido e eficiente. Recomendo para quem busca conveniência e qualidade!\n"
          ]
        },
        {
          "name": "stderr",
          "output_type": "stream",
          "text": [
            "\rGenerating for OUTPUT-b2w_dev_reviewText_LLAMA_bm25-none_k4:  40%|███▉      | 995/2500 [11:47<24:00,  1.04it/s]"
          ]
        },
        {
          "name": "stdout",
          "output_type": "stream",
          "text": [
            "Review text: \"Este produto superou todas as minhas expectativas! A qualidade é excepcional e o desempenho é incrível. Estou muito satisfeito com a compra e definitivamente recomendo a todos. Ótima relação custo-benefício!\"\n"
          ]
        },
        {
          "name": "stderr",
          "output_type": "stream",
          "text": [
            "\rGenerating for OUTPUT-b2w_dev_reviewText_LLAMA_bm25-none_k4:  40%|███▉      | 996/2500 [11:48<21:54,  1.14it/s]"
          ]
        },
        {
          "name": "stdout",
          "output_type": "stream",
          "text": [
            "Review text: O aparelho é lento e isso tem sido uma grande frustração para mim. As aplicações demoram para abrir e a navegação é bem travada. Esperava mais desempenho, especialmente considerando o preço. Não recomendo para quem busca agilidade.\n"
          ]
        },
        {
          "name": "stderr",
          "output_type": "stream",
          "text": [
            "\rGenerating for OUTPUT-b2w_dev_reviewText_LLAMA_bm25-none_k4:  40%|███▉      | 997/2500 [11:48<19:53,  1.26it/s]"
          ]
        },
        {
          "name": "stdout",
          "output_type": "stream",
          "text": [
            "Review text: Este produto realmente atendeu às minhas expectativas. A qualidade é excelente e cumpre tudo o que promete. Estou muito satisfeito com a compra e recomendo a todos que buscam algo eficaz e confiável.\n"
          ]
        },
        {
          "name": "stderr",
          "output_type": "stream",
          "text": [
            "\rGenerating for OUTPUT-b2w_dev_reviewText_LLAMA_bm25-none_k4:  40%|███▉      | 998/2500 [11:49<18:09,  1.38it/s]"
          ]
        },
        {
          "name": "stdout",
          "output_type": "stream",
          "text": [
            "Review text: Este produto superou todas as minhas expectativas! A qualidade é excepcional e o desempenho é impecável. Recomendo a todos que buscam um item confiável e eficiente. Vale cada centavo!\n"
          ]
        },
        {
          "name": "stderr",
          "output_type": "stream",
          "text": [
            "\rGenerating for OUTPUT-b2w_dev_reviewText_LLAMA_bm25-none_k4:  40%|███▉      | 999/2500 [11:50<21:07,  1.18it/s]"
          ]
        },
        {
          "name": "stdout",
          "output_type": "stream",
          "text": [
            "Review text: The Samsung Galaxy TAB has exceeded my expectations in every way. The display is vibrant and crisp, making it perfect for streaming videos and browsing the web. The battery life is impressive, lasting all day without needing a charge. The performance is smooth, even with multiple apps running simultaneously. I appreciate the sleek design and lightweight feel, making it easy to carry around. Overall, this tablet is a fantastic investment for anyone looking for a reliable and high-quality device. Highly recommended!\n"
          ]
        },
        {
          "name": "stderr",
          "output_type": "stream",
          "text": [
            "\rGenerating for OUTPUT-b2w_dev_reviewText_LLAMA_bm25-none_k4:  40%|████      | 1000/2500 [11:50<18:10,  1.38it/s]"
          ]
        },
        {
          "name": "stdout",
          "output_type": "stream",
          "text": [
            "Review text: \"Este produto superou minhas expectativas! A qualidade é excelente e ele funciona perfeitamente. Recomendo a todos que buscam algo confiável e eficiente. Vale cada centavo!\"\n"
          ]
        },
        {
          "name": "stderr",
          "output_type": "stream",
          "text": [
            "\rGenerating for OUTPUT-b2w_dev_reviewText_LLAMA_bm25-none_k4:  40%|████      | 1001/2500 [11:52<20:29,  1.22it/s]"
          ]
        },
        {
          "name": "stdout",
          "output_type": "stream",
          "text": [
            "Review text: I recently purchased the Samsung tablet, and I couldn't be happier with my decision. The display is vibrant and sharp, making it perfect for streaming videos and browsing the web. The battery life is impressive, lasting all day even with heavy use. I also appreciate the sleek design and lightweight feel, which makes it easy to carry around. The performance is smooth, with apps loading quickly and multitasking being a breeze. Overall, this tablet is a fantastic investment for anyone looking for quality and functionality. Highly recommend!\n"
          ]
        },
        {
          "name": "stderr",
          "output_type": "stream",
          "text": [
            "\rGenerating for OUTPUT-b2w_dev_reviewText_LLAMA_bm25-none_k4:  40%|████      | 1002/2500 [11:52<17:59,  1.39it/s]"
          ]
        },
        {
          "name": "stdout",
          "output_type": "stream",
          "text": [
            "Review text: \"Este produto superou todas as minhas expectativas! A qualidade é excepcional e o desempenho é incrível. Estou realmente impressionado com os resultados e definitivamente recomendo a todos. Vale cada centavo!\"\n"
          ]
        },
        {
          "name": "stderr",
          "output_type": "stream",
          "text": [
            "\rGenerating for OUTPUT-b2w_dev_reviewText_LLAMA_bm25-none_k4:  40%|████      | 1003/2500 [11:52<16:03,  1.55it/s]"
          ]
        },
        {
          "name": "stdout",
          "output_type": "stream",
          "text": [
            "Review text: Este produto superou minhas expectativas! A qualidade é excelente e ele funciona perfeitamente. Recomendo a todos que estão em busca de algo confiável e eficiente. Ótima compra!\n"
          ]
        },
        {
          "name": "stderr",
          "output_type": "stream",
          "text": [
            "\rGenerating for OUTPUT-b2w_dev_reviewText_LLAMA_bm25-none_k4:  40%|████      | 1004/2500 [11:53<16:55,  1.47it/s]"
          ]
        },
        {
          "name": "stdout",
          "output_type": "stream",
          "text": [
            "Review text: Este tablet superou minhas expectativas! A tela é nítida e responsiva, tornando a navegação muito agradável. A bateria dura bastante tempo, o que é ótimo para quem está sempre em movimento. Além disso, o desempenho é excelente para jogos e aplicativos. Recomendo a todos que buscam um dispositivo de qualidade!\n"
          ]
        },
        {
          "name": "stderr",
          "output_type": "stream",
          "text": [
            "\rGenerating for OUTPUT-b2w_dev_reviewText_LLAMA_bm25-none_k4:  40%|████      | 1005/2500 [11:54<15:42,  1.59it/s]"
          ]
        },
        {
          "name": "stdout",
          "output_type": "stream",
          "text": [
            "Review text: \"Comprei este produto e fiquei impressionado com a qualidade pelo preço. Atendeu todas as minhas expectativas e ainda superou algumas. A entrega foi rápida e o atendimento ao cliente foi excelente. Definitivamente, um ótimo custo-benefício que recomendo a todos!\"\n"
          ]
        },
        {
          "name": "stderr",
          "output_type": "stream",
          "text": [
            "\rGenerating for OUTPUT-b2w_dev_reviewText_LLAMA_bm25-none_k4:  40%|████      | 1006/2500 [11:54<15:32,  1.60it/s]"
          ]
        },
        {
          "name": "stdout",
          "output_type": "stream",
          "text": [
            "Review text: Tive uma péssima experiência com a LG. O produto apresentou problemas logo nos primeiros meses de uso, e o atendimento ao cliente foi insatisfatório. As promessas de suporte e assistência não foram cumpridas, deixando-me frustrado. Não recomendo a marca.\n"
          ]
        },
        {
          "name": "stderr",
          "output_type": "stream",
          "text": [
            "\rGenerating for OUTPUT-b2w_dev_reviewText_LLAMA_bm25-none_k4:  40%|████      | 1007/2500 [11:55<18:28,  1.35it/s]"
          ]
        },
        {
          "name": "stdout",
          "output_type": "stream",
          "text": [
            "Review text: I recently purchased the 55\" 4K LG TV, and I couldn't be happier with my decision! The picture quality is stunning, with vibrant colors and sharp details that truly bring movies and shows to life. The setup was straightforward, and the smart features are intuitive, allowing easy access to my favorite streaming services. The sound quality is impressive as well, providing a rich audio experience. Overall, this TV has exceeded my expectations, making it a fantastic addition to my living room. Highly recommend!\n"
          ]
        },
        {
          "name": "stderr",
          "output_type": "stream",
          "text": [
            "\rGenerating for OUTPUT-b2w_dev_reviewText_LLAMA_bm25-none_k4:  40%|████      | 1008/2500 [11:56<19:34,  1.27it/s]"
          ]
        },
        {
          "name": "stdout",
          "output_type": "stream",
          "text": [
            "Review text: Esta televisión es simplemente excelente. La calidad de imagen es impresionante, con colores vibrantes y negros profundos. El sonido es claro y envolvente, lo que hace que ver películas y series sea una experiencia increíble. Además, su diseño elegante se adapta perfectamente a cualquier sala. La conectividad es fácil y rápida, lo que permite disfrutar de mis aplicaciones favoritas sin problemas. Definitivamente, una de las mejores compras que he hecho. ¡La recomiendo al 100%!\n"
          ]
        },
        {
          "name": "stderr",
          "output_type": "stream",
          "text": [
            "\rGenerating for OUTPUT-b2w_dev_reviewText_LLAMA_bm25-none_k4:  40%|████      | 1009/2500 [11:57<21:09,  1.17it/s]"
          ]
        },
        {
          "name": "stdout",
          "output_type": "stream",
          "text": [
            "Review text: Esta TV da LG 4K é simplesmente incrível! A qualidade de imagem é espetacular, com cores vibrantes e detalhes nítidos que tornam cada filme uma experiência cinematográfica. O design é elegante e moderno, combinando perfeitamente com qualquer ambiente. Além disso, a interface é intuitiva e fácil de usar. Recomendo a todos que buscam uma experiência visual de alta qualidade!\n"
          ]
        },
        {
          "name": "stderr",
          "output_type": "stream",
          "text": [
            "\rGenerating for OUTPUT-b2w_dev_reviewText_LLAMA_bm25-none_k4:  40%|████      | 1010/2500 [11:58<20:38,  1.20it/s]"
          ]
        },
        {
          "name": "stdout",
          "output_type": "stream",
          "text": [
            "Review text: A qualidade do produto é boa, atendendo às minhas expectativas em diversos aspectos. No entanto, sinto que poderia ser um pouco melhor em certos detalhes. O desempenho é satisfatório, mas não chega a ser excepcional. Para quem busca um produto com um bom custo-benefício, vale a pena considerar, mas não espere algo que surpreenda.\n"
          ]
        },
        {
          "name": "stderr",
          "output_type": "stream",
          "text": [
            "\rGenerating for OUTPUT-b2w_dev_reviewText_LLAMA_bm25-none_k4:  40%|████      | 1011/2500 [11:59<20:19,  1.22it/s]"
          ]
        },
        {
          "name": "stdout",
          "output_type": "stream",
          "text": [
            "Review text: Este produto superou todas as minhas expectativas! A qualidade é excepcional e o desempenho é impecável. Recomendo a todos que buscam um item confiável e eficiente. Vale cada centavo!\n"
          ]
        },
        {
          "name": "stderr",
          "output_type": "stream",
          "text": [
            "\rGenerating for OUTPUT-b2w_dev_reviewText_LLAMA_bm25-none_k4:  40%|████      | 1012/2500 [12:00<20:31,  1.21it/s]"
          ]
        },
        {
          "name": "stdout",
          "output_type": "stream",
          "text": [
            "Review text: \"Estou impressionado com a qualidade e a funcionalidade deste produto! A interface é intuitiva e fácil de usar, e a conectividade é excelente. Ele se integrou perfeitamente com meus dispositivos e facilitou minha rotina diária. Recomendo para quem busca uma solução prática e eficiente!\"\n"
          ]
        },
        {
          "name": "stderr",
          "output_type": "stream",
          "text": [
            "\rGenerating for OUTPUT-b2w_dev_reviewText_LLAMA_bm25-none_k4:  41%|████      | 1013/2500 [12:01<22:49,  1.09it/s]"
          ]
        },
        {
          "name": "stdout",
          "output_type": "stream",
          "text": [
            "Review text: I recently purchased the LG Ultra HD 4K 55UJ6545, and I couldn't be happier with my decision! The picture quality is absolutely stunning, with vibrant colors and incredible detail that really brings movies and shows to life. The 4K resolution makes a noticeable difference, especially when streaming content. The smart features are user-friendly, and I love the variety of apps available. The design is sleek and modern, fitting perfectly into my living room. Overall, this TV offers excellent value for the price, and I highly recommend it to anyone looking for a top-notch viewing experience!\n"
          ]
        },
        {
          "name": "stderr",
          "output_type": "stream",
          "text": [
            "\rGenerating for OUTPUT-b2w_dev_reviewText_LLAMA_bm25-none_k4:  41%|████      | 1014/2500 [12:01<20:49,  1.19it/s]"
          ]
        },
        {
          "name": "stdout",
          "output_type": "stream",
          "text": [
            "Review text: A entrega do produto foi extremamente demorada, o que gerou bastante frustração. Apesar de o item ser de boa qualidade, a espera foi longa e isso afetou minha experiência de compra. Espero que melhorem esse aspecto no futuro.\n"
          ]
        },
        {
          "name": "stderr",
          "output_type": "stream",
          "text": [
            "\rGenerating for OUTPUT-b2w_dev_reviewText_LLAMA_bm25-none_k4:  41%|████      | 1015/2500 [12:02<19:05,  1.30it/s]"
          ]
        },
        {
          "name": "stdout",
          "output_type": "stream",
          "text": [
            "Review text: Este produto superou todas as minhas expectativas! A qualidade é excepcional e o desempenho é impecável. Recomendo a todos que buscam um item confiável e eficiente. Vale cada centavo!\n"
          ]
        },
        {
          "name": "stderr",
          "output_type": "stream",
          "text": [
            "\rGenerating for OUTPUT-b2w_dev_reviewText_LLAMA_bm25-none_k4:  41%|████      | 1016/2500 [12:03<18:25,  1.34it/s]"
          ]
        },
        {
          "name": "stdout",
          "output_type": "stream",
          "text": [
            "Review text: Este produto superou todas as minhas expectativas! A qualidade é excepcional e o desempenho é impecável. Recomendo a todos que buscam um item confiável e eficiente. Vale cada centavo!\n"
          ]
        },
        {
          "name": "stderr",
          "output_type": "stream",
          "text": [
            "\rGenerating for OUTPUT-b2w_dev_reviewText_LLAMA_bm25-none_k4:  41%|████      | 1017/2500 [12:03<16:30,  1.50it/s]"
          ]
        },
        {
          "name": "stdout",
          "output_type": "stream",
          "text": [
            "Review text: Este produto superou minhas expectativas! A qualidade é excelente e a performance é impecável. Recomendo a todos que buscam um item confiável e eficiente. Vale cada centavo!\n"
          ]
        },
        {
          "name": "stderr",
          "output_type": "stream",
          "text": [
            "\rGenerating for OUTPUT-b2w_dev_reviewText_LLAMA_bm25-none_k4:  41%|████      | 1018/2500 [12:04<18:56,  1.30it/s]"
          ]
        },
        {
          "name": "stdout",
          "output_type": "stream",
          "text": [
            "Review text: Este produto superou minhas expectativas! A qualidade é excelente e o desempenho é notável. Recomendo a todos que buscam um item confiável e eficaz. Muito satisfeito com a compra!\n"
          ]
        },
        {
          "name": "stderr",
          "output_type": "stream",
          "text": [
            "\rGenerating for OUTPUT-b2w_dev_reviewText_LLAMA_bm25-none_k4:  41%|████      | 1019/2500 [12:05<16:58,  1.45it/s]"
          ]
        },
        {
          "name": "stdout",
          "output_type": "stream",
          "text": [
            "Review text: \"Este produto superou minhas expectativas! A qualidade é excelente e ele funciona perfeitamente. Estou muito satisfeito com a minha compra e definitivamente recomendo a todos. Adorei!\"\n"
          ]
        },
        {
          "name": "stderr",
          "output_type": "stream",
          "text": [
            "\rGenerating for OUTPUT-b2w_dev_reviewText_LLAMA_bm25-none_k4:  41%|████      | 1020/2500 [12:05<15:36,  1.58it/s]"
          ]
        },
        {
          "name": "stdout",
          "output_type": "stream",
          "text": [
            "Review text: \"Produto excelente! Atendeu todas as minhas expectativas e é de ótima qualidade. Recomendo a todos que buscam um item confiável e eficiente.\"\n"
          ]
        },
        {
          "name": "stderr",
          "output_type": "stream",
          "text": [
            "\rGenerating for OUTPUT-b2w_dev_reviewText_LLAMA_bm25-none_k4:  41%|████      | 1021/2500 [12:06<17:16,  1.43it/s]"
          ]
        },
        {
          "name": "stdout",
          "output_type": "stream",
          "text": [
            "Review text: \"Este producto ha sido una revelación para mí. Desde que comencé a usarlo, he notado una mejora significativa en mi rutina diaria. La calidad es excepcional y los resultados son visibles. Definitivamente lo recomendaría a quienes buscan algo nuevo y efectivo. ¡Una gran experiencia!\"\n"
          ]
        },
        {
          "name": "stderr",
          "output_type": "stream",
          "text": [
            "\rGenerating for OUTPUT-b2w_dev_reviewText_LLAMA_bm25-none_k4:  41%|████      | 1022/2500 [12:07<16:36,  1.48it/s]"
          ]
        },
        {
          "name": "stdout",
          "output_type": "stream",
          "text": [
            "Review text: Comprei este produto da China e fiquei impressionado com a rapidez da entrega. Chegou muito antes do esperado e em perfeito estado. A qualidade também é excelente, superou minhas expectativas. Recomendo a todos que estão em dúvida!\n"
          ]
        },
        {
          "name": "stderr",
          "output_type": "stream",
          "text": [
            "\rGenerating for OUTPUT-b2w_dev_reviewText_LLAMA_bm25-none_k4:  41%|████      | 1023/2500 [12:08<17:26,  1.41it/s]"
          ]
        },
        {
          "name": "stdout",
          "output_type": "stream",
          "text": [
            "Review text: A qualidade de som deste produto é excepcional, proporcionando uma experiência auditiva imersiva. A imagem é nítida e vibrante, tornando cada detalhe visível. Além disso, a conectividade é rápida e estável, permitindo que eu conecte facilmente todos os meus dispositivos. Estou extremamente satisfeito com a compra!\n"
          ]
        },
        {
          "name": "stderr",
          "output_type": "stream",
          "text": [
            "\rGenerating for OUTPUT-b2w_dev_reviewText_LLAMA_bm25-none_k4:  41%|████      | 1024/2500 [12:08<16:27,  1.49it/s]"
          ]
        },
        {
          "name": "stdout",
          "output_type": "stream",
          "text": [
            "Review text: \"Estou muito satisfeito com a qualidade e a performance deste produto. Ele superou minhas expectativas e atendeu todas as minhas necessidades. Recomendo a todos que buscam algo confiável e eficiente!\"\n"
          ]
        },
        {
          "name": "stderr",
          "output_type": "stream",
          "text": [
            "\rGenerating for OUTPUT-b2w_dev_reviewText_LLAMA_bm25-none_k4:  41%|████      | 1025/2500 [12:09<15:38,  1.57it/s]"
          ]
        },
        {
          "name": "stdout",
          "output_type": "stream",
          "text": [
            "Review text: \"Infelizmente, o produto chegou sem as pilhas e o manual de instruções. Isso dificultou bastante o uso imediato. Espero que a próxima compra venha completa!\"\n"
          ]
        },
        {
          "name": "stderr",
          "output_type": "stream",
          "text": [
            "\rGenerating for OUTPUT-b2w_dev_reviewText_LLAMA_bm25-none_k4:  41%|████      | 1026/2500 [12:09<15:19,  1.60it/s]"
          ]
        },
        {
          "name": "stdout",
          "output_type": "stream",
          "text": [
            "Review text: Este producto superó mis expectativas. La calidad es excepcional y funciona a la perfección. Definitivamente lo recomendaría a otros. ¡Una compra excelente!\n"
          ]
        },
        {
          "name": "stderr",
          "output_type": "stream",
          "text": [
            "\rGenerating for OUTPUT-b2w_dev_reviewText_LLAMA_bm25-none_k4:  41%|████      | 1027/2500 [12:10<14:30,  1.69it/s]"
          ]
        },
        {
          "name": "stdout",
          "output_type": "stream",
          "text": [
            "Review text: \"Este producto superó mis expectativas en todos los aspectos. La calidad es excepcional y su rendimiento es impresionante. Definitivamente lo recomendaría a cualquiera que busque algo confiable y eficiente. ¡Una excelente compra!\"\n"
          ]
        },
        {
          "name": "stderr",
          "output_type": "stream",
          "text": [
            "\rGenerating for OUTPUT-b2w_dev_reviewText_LLAMA_bm25-none_k4:  41%|████      | 1028/2500 [12:11<17:42,  1.39it/s]"
          ]
        },
        {
          "name": "stdout",
          "output_type": "stream",
          "text": [
            "Review text: \"Comprei este produto com algumas expectativas, mas fiquei um pouco em dúvida sobre sua eficácia. Embora tenha algumas características interessantes, não atendeu totalmente às minhas necessidades. A qualidade é boa, mas sinto que poderia ser melhor em certos aspectos. Talvez funcione melhor para outras pessoas, mas para mim, ainda estou indeciso.\"\n"
          ]
        },
        {
          "name": "stderr",
          "output_type": "stream",
          "text": [
            "\rGenerating for OUTPUT-b2w_dev_reviewText_LLAMA_bm25-none_k4:  41%|████      | 1029/2500 [12:12<17:55,  1.37it/s]"
          ]
        },
        {
          "name": "stdout",
          "output_type": "stream",
          "text": [
            "Review text: Estou muito satisfeito com o produto! Ele atendeu todas as minhas expectativas e funcionou exatamente como eu esperava. A qualidade é excelente e o desempenho é impressionante. Recomendo a todos que estão em busca de algo confiável e eficiente.\n"
          ]
        },
        {
          "name": "stderr",
          "output_type": "stream",
          "text": [
            "\rGenerating for OUTPUT-b2w_dev_reviewText_LLAMA_bm25-none_k4:  41%|████      | 1030/2500 [12:12<17:36,  1.39it/s]"
          ]
        },
        {
          "name": "stdout",
          "output_type": "stream",
          "text": [
            "Review text: Este produto superou todas as minhas expectativas! A qualidade é excepcional e realmente vale cada centavo pago. Desde o primeiro uso, percebi a diferença e não consigo mais ficar sem. Recomendo a todos que buscam um investimento que traga resultados. Com certeza, voltarei a comprar!\n"
          ]
        },
        {
          "name": "stderr",
          "output_type": "stream",
          "text": [
            "\rGenerating for OUTPUT-b2w_dev_reviewText_LLAMA_bm25-none_k4:  41%|████      | 1031/2500 [12:13<17:45,  1.38it/s]"
          ]
        },
        {
          "name": "stdout",
          "output_type": "stream",
          "text": [
            "Review text: Este produto superou minhas expectativas! A qualidade é excelente e ele funciona perfeitamente. Recomendo a todos que buscam uma solução eficiente e durável. Estou muito satisfeito com a minha compra!\n"
          ]
        },
        {
          "name": "stderr",
          "output_type": "stream",
          "text": [
            "\rGenerating for OUTPUT-b2w_dev_reviewText_LLAMA_bm25-none_k4:  41%|████▏     | 1032/2500 [12:13<15:56,  1.53it/s]"
          ]
        },
        {
          "name": "stdout",
          "output_type": "stream",
          "text": [
            "Review text: \"Comprei este produto e não me arrependo nem um pouco! A qualidade é excelente e atendeu todas as minhas expectativas. O custo-benefício é incrível e definitivamente vale a pena o investimento. Recomendo a todos que estão em dúvida!\"\n"
          ]
        },
        {
          "name": "stderr",
          "output_type": "stream",
          "text": [
            "\rGenerating for OUTPUT-b2w_dev_reviewText_LLAMA_bm25-none_k4:  41%|████▏     | 1033/2500 [12:14<15:44,  1.55it/s]"
          ]
        },
        {
          "name": "stdout",
          "output_type": "stream",
          "text": [
            "Review text: This product exceeded all my expectations! The quality is outstanding, and it performs flawlessly. I couldn't be happier with my purchase. Highly recommend to anyone looking for the best in the market!\n"
          ]
        },
        {
          "name": "stderr",
          "output_type": "stream",
          "text": [
            "\rGenerating for OUTPUT-b2w_dev_reviewText_LLAMA_bm25-none_k4:  41%|████▏     | 1034/2500 [12:15<15:35,  1.57it/s]"
          ]
        },
        {
          "name": "stdout",
          "output_type": "stream",
          "text": [
            "Review text: Este produto superou minhas expectativas! A qualidade é excepcional e ele funciona perfeitamente. Recomendo a todos que buscam um item confiável e eficiente. Vale cada centavo!\n"
          ]
        },
        {
          "name": "stderr",
          "output_type": "stream",
          "text": [
            "\rGenerating for OUTPUT-b2w_dev_reviewText_LLAMA_bm25-none_k4:  41%|████▏     | 1035/2500 [12:15<15:36,  1.56it/s]"
          ]
        },
        {
          "name": "stdout",
          "output_type": "stream",
          "text": [
            "Review text: \"O produto é bom e cumpre o que promete, mas não traz nada de novo ou inovador. A qualidade é aceitável, mas esperava um pouco mais em termos de desempenho e características. Vale a pena para quem busca algo funcional, mas não se surpreenda.\"\n"
          ]
        },
        {
          "name": "stderr",
          "output_type": "stream",
          "text": [
            "\rGenerating for OUTPUT-b2w_dev_reviewText_LLAMA_bm25-none_k4:  41%|████▏     | 1036/2500 [12:16<15:17,  1.60it/s]"
          ]
        },
        {
          "name": "stdout",
          "output_type": "stream",
          "text": [
            "Review text: Estou extremamente decepcionado com este produto. A propaganda prometia muito, mas a realidade é completamente diferente. A qualidade é inferior e não cumpre o que promete. Senti que foi uma grande enganação e não recomendo a ninguém.\n"
          ]
        },
        {
          "name": "stderr",
          "output_type": "stream",
          "text": [
            "\rGenerating for OUTPUT-b2w_dev_reviewText_LLAMA_bm25-none_k4:  41%|████▏     | 1037/2500 [12:17<14:50,  1.64it/s]"
          ]
        },
        {
          "name": "stdout",
          "output_type": "stream",
          "text": [
            "Review text: Este produto deixou muito a desejar. A qualidade é inferior e não atendeu às minhas expectativas. Além disso, o atendimento ao cliente foi insatisfatório, tornando a experiência ainda mais frustrante. Não recomendo.\n"
          ]
        },
        {
          "name": "stderr",
          "output_type": "stream",
          "text": [
            "\rGenerating for OUTPUT-b2w_dev_reviewText_LLAMA_bm25-none_k4:  42%|████▏     | 1038/2500 [12:17<15:31,  1.57it/s]"
          ]
        },
        {
          "name": "stdout",
          "output_type": "stream",
          "text": [
            "Review text: Este produto superou minhas expectativas! A qualidade é excelente e ele funciona perfeitamente. Recomendo a todos que buscam algo durável e eficiente. Vale cada centavo!\n"
          ]
        },
        {
          "name": "stderr",
          "output_type": "stream",
          "text": [
            "\rGenerating for OUTPUT-b2w_dev_reviewText_LLAMA_bm25-none_k4:  42%|████▏     | 1039/2500 [12:18<14:40,  1.66it/s]"
          ]
        },
        {
          "name": "stdout",
          "output_type": "stream",
          "text": [
            "Review text: Este produto superou minhas expectativas! A qualidade é excelente e ele funciona perfeitamente. Estou muito satisfeito e definitivamente recomendo para quem está procurando algo confiável e eficaz. Vale cada centavo!\n"
          ]
        },
        {
          "name": "stderr",
          "output_type": "stream",
          "text": [
            "\rGenerating for OUTPUT-b2w_dev_reviewText_LLAMA_bm25-none_k4:  42%|████▏     | 1040/2500 [12:18<15:22,  1.58it/s]"
          ]
        },
        {
          "name": "stdout",
          "output_type": "stream",
          "text": [
            "Review text: A entrega foi realmente impressionante! Recebi meu pedido muito mais rápido do que esperava e tudo chegou em perfeitas condições. A embalagem estava segura e bem protegida. Com certeza, recomendo para quem busca eficiência e qualidade no serviço de entrega!\n"
          ]
        },
        {
          "name": "stderr",
          "output_type": "stream",
          "text": [
            "\rGenerating for OUTPUT-b2w_dev_reviewText_LLAMA_bm25-none_k4:  42%|████▏     | 1041/2500 [12:19<14:43,  1.65it/s]"
          ]
        },
        {
          "name": "stdout",
          "output_type": "stream",
          "text": [
            "Review text: Este producto superó mis expectativas. La calidad es excepcional y funciona a la perfección. Definitivamente lo recomendaría a otros. ¡Vale cada centavo!\n"
          ]
        },
        {
          "name": "stderr",
          "output_type": "stream",
          "text": [
            "\rGenerating for OUTPUT-b2w_dev_reviewText_LLAMA_bm25-none_k4:  42%|████▏     | 1042/2500 [12:20<16:07,  1.51it/s]"
          ]
        },
        {
          "name": "stdout",
          "output_type": "stream",
          "text": [
            "Review text: \"Fiquei bastante decepcionado com a garantia de apenas 3 meses. Esperava mais durabilidade e suporte do fabricante. Para um produto que promete qualidade, essa garantia é muito curta e me faz questionar a confiança que posso ter nele. Não recomendo se você busca algo que dure mais tempo.\"\n"
          ]
        },
        {
          "name": "stderr",
          "output_type": "stream",
          "text": [
            "\rGenerating for OUTPUT-b2w_dev_reviewText_LLAMA_bm25-none_k4:  42%|████▏     | 1043/2500 [12:21<16:47,  1.45it/s]"
          ]
        },
        {
          "name": "stdout",
          "output_type": "stream",
          "text": [
            "Review text: Recebi meu pedido em tempo recorde e, para minha surpresa, tudo chegou em perfeito estado! A embalagem estava impecável e os produtos intactos. Estou muito satisfeito com a eficiência do serviço. Com certeza, voltarei a comprar!\n"
          ]
        },
        {
          "name": "stderr",
          "output_type": "stream",
          "text": [
            "\rGenerating for OUTPUT-b2w_dev_reviewText_LLAMA_bm25-none_k4:  42%|████▏     | 1044/2500 [12:21<16:30,  1.47it/s]"
          ]
        },
        {
          "name": "stdout",
          "output_type": "stream",
          "text": [
            "Review text: Este produto superou minhas expectativas! A qualidade é excelente e o desempenho é notável. Recomendo a todos que buscam algo confiável e eficiente. Vale cada centavo!\n"
          ]
        },
        {
          "name": "stderr",
          "output_type": "stream",
          "text": [
            "\rGenerating for OUTPUT-b2w_dev_reviewText_LLAMA_bm25-none_k4:  42%|████▏     | 1045/2500 [12:22<15:35,  1.56it/s]"
          ]
        },
        {
          "name": "stdout",
          "output_type": "stream",
          "text": [
            "Review text: Estou extremamente satisfeita com este produto! A qualidade superou minhas expectativas e ele funciona perfeitamente. Recomendo a todos que estão em busca de algo eficaz e confiável. Vale cada centavo!\n"
          ]
        },
        {
          "name": "stderr",
          "output_type": "stream",
          "text": [
            "\rGenerating for OUTPUT-b2w_dev_reviewText_LLAMA_bm25-none_k4:  42%|████▏     | 1046/2500 [12:23<16:46,  1.44it/s]"
          ]
        },
        {
          "name": "stdout",
          "output_type": "stream",
          "text": [
            "Review text: \"As a passionate cook, I can't express how much I love Lindas panelas! The quality is outstanding, and they heat evenly, making my cooking experience so much more enjoyable. The design is sleek and modern, adding a touch of elegance to my kitchen. Cleaning is a breeze, and they are incredibly durable. I highly recommend these pots and pans to anyone looking to elevate their culinary game!\"\n"
          ]
        },
        {
          "name": "stderr",
          "output_type": "stream",
          "text": [
            "\rGenerating for OUTPUT-b2w_dev_reviewText_LLAMA_bm25-none_k4:  42%|████▏     | 1047/2500 [12:23<15:25,  1.57it/s]"
          ]
        },
        {
          "name": "stdout",
          "output_type": "stream",
          "text": [
            "Review text: A entrega deixou a desejar, mas o produto é ótimo. A qualidade superou minhas expectativas e ele funciona perfeitamente. Recomendo, mas espero que melhorem o prazo de entrega!\n"
          ]
        },
        {
          "name": "stderr",
          "output_type": "stream",
          "text": [
            "\rGenerating for OUTPUT-b2w_dev_reviewText_LLAMA_bm25-none_k4:  42%|████▏     | 1048/2500 [12:24<14:35,  1.66it/s]"
          ]
        },
        {
          "name": "stdout",
          "output_type": "stream",
          "text": [
            "Review text: \"Este produto superou minhas expectativas! A qualidade é excelente e o desempenho é impecável. Recomendo a todos que buscam algo confiável e eficaz. Vale cada centavo!\"\n"
          ]
        },
        {
          "name": "stderr",
          "output_type": "stream",
          "text": [
            "\rGenerating for OUTPUT-b2w_dev_reviewText_LLAMA_bm25-none_k4:  42%|████▏     | 1049/2500 [12:24<15:34,  1.55it/s]"
          ]
        },
        {
          "name": "stdout",
          "output_type": "stream",
          "text": [
            "Review text: Panelas Excelentes! Estou muito satisfeito com a qualidade e o desempenho dessas panelas. Elas aquecem uniformemente e são super fáceis de limpar. Além disso, o design é elegante e combina perfeitamente com minha cozinha. Recomendo a todos que buscam utensílios duráveis e eficientes!\n"
          ]
        },
        {
          "name": "stderr",
          "output_type": "stream",
          "text": [
            "\rGenerating for OUTPUT-b2w_dev_reviewText_LLAMA_bm25-none_k4:  42%|████▏     | 1050/2500 [12:25<15:10,  1.59it/s]"
          ]
        },
        {
          "name": "stdout",
          "output_type": "stream",
          "text": [
            "Review text: Este produto superou minhas expectativas em termos de qualidade. A construção é sólida e os materiais utilizados são de primeira linha. Além disso, o preço é muito justo para o que oferece. Recomendo a todos que buscam um bom investimento sem gastar muito. Uma excelente escolha!\n"
          ]
        },
        {
          "name": "stderr",
          "output_type": "stream",
          "text": [
            "\rGenerating for OUTPUT-b2w_dev_reviewText_LLAMA_bm25-none_k4:  42%|████▏     | 1051/2500 [12:26<15:14,  1.58it/s]"
          ]
        },
        {
          "name": "stdout",
          "output_type": "stream",
          "text": [
            "Review text: \"Esse produto superou todas as minhas expectativas! A qualidade é incrível e o desempenho é excepcional. Com certeza, vale cada centavo. Super recomendo para quem busca algo confiável e eficaz!\"\n"
          ]
        },
        {
          "name": "stderr",
          "output_type": "stream",
          "text": [
            "\rGenerating for OUTPUT-b2w_dev_reviewText_LLAMA_bm25-none_k4:  42%|████▏     | 1052/2500 [12:26<14:09,  1.71it/s]"
          ]
        },
        {
          "name": "stdout",
          "output_type": "stream",
          "text": [
            "Review text: Este produto superou minhas expectativas! A qualidade é excelente e ele funciona perfeitamente. Recomendo a todos que buscam algo confiável e eficiente. Vale cada centavo!\n"
          ]
        },
        {
          "name": "stderr",
          "output_type": "stream",
          "text": [
            "\rGenerating for OUTPUT-b2w_dev_reviewText_LLAMA_bm25-none_k4:  42%|████▏     | 1053/2500 [12:27<14:46,  1.63it/s]"
          ]
        },
        {
          "name": "stdout",
          "output_type": "stream",
          "text": [
            "Review text: Adorei este produto! A qualidade é excepcional e superou minhas expectativas. O design é lindo e funcional, tornando o uso muito agradável. Definitivamente, recomendo para quem busca algo que realmente faça a diferença no dia a dia. Estou muito satisfeita com a minha compra!\n"
          ]
        },
        {
          "name": "stderr",
          "output_type": "stream",
          "text": [
            "\rGenerating for OUTPUT-b2w_dev_reviewText_LLAMA_bm25-none_k4:  42%|████▏     | 1054/2500 [12:28<20:34,  1.17it/s]"
          ]
        },
        {
          "name": "stdout",
          "output_type": "stream",
          "text": [
            "Review text: I recently purchased this product, and I must say, it exceeded my expectations! The quality is top-notch, and it performs flawlessly. I appreciate the thoughtful design and the attention to detail. It's clear that a lot of care went into creating this. I would highly recommend it to anyone looking for something reliable and effective. Definitely a great investment!\n"
          ]
        },
        {
          "name": "stderr",
          "output_type": "stream",
          "text": [
            "\rGenerating for OUTPUT-b2w_dev_reviewText_LLAMA_bm25-none_k4:  42%|████▏     | 1055/2500 [12:29<19:03,  1.26it/s]"
          ]
        },
        {
          "name": "stdout",
          "output_type": "stream",
          "text": [
            "Review text: \"Recebi meu padi10 e estou impressionado! Ele chegou em perfeito estado e já estou usando. A qualidade é excelente e o desempenho é incrível. Superou minhas expectativas e estou muito satisfeito com a compra. Recomendo a todos!\"\n"
          ]
        },
        {
          "name": "stderr",
          "output_type": "stream",
          "text": [
            "\rGenerating for OUTPUT-b2w_dev_reviewText_LLAMA_bm25-none_k4:  42%|████▏     | 1056/2500 [12:29<17:59,  1.34it/s]"
          ]
        },
        {
          "name": "stdout",
          "output_type": "stream",
          "text": [
            "Review text: \"Comprei este produto e estou extremamente satisfeito! A qualidade é excelente e atendeu todas as minhas expectativas. O desempenho é incrível e realmente faz a diferença no meu dia a dia. Recomendo para todos que buscam algo eficaz e de boa qualidade. Vale cada centavo!\"\n"
          ]
        },
        {
          "name": "stderr",
          "output_type": "stream",
          "text": [
            "\rGenerating for OUTPUT-b2w_dev_reviewText_LLAMA_bm25-none_k4:  42%|████▏     | 1057/2500 [12:30<16:55,  1.42it/s]"
          ]
        },
        {
          "name": "stdout",
          "output_type": "stream",
          "text": [
            "Review text: Este produto superou minhas expectativas! A qualidade é excepcional e o desempenho é impecável. Recomendo a todos que buscam um item confiável e eficiente. Vale cada centavo!\n"
          ]
        },
        {
          "name": "stderr",
          "output_type": "stream",
          "text": [
            "\rGenerating for OUTPUT-b2w_dev_reviewText_LLAMA_bm25-none_k4:  42%|████▏     | 1058/2500 [12:31<16:21,  1.47it/s]"
          ]
        },
        {
          "name": "stdout",
          "output_type": "stream",
          "text": [
            "Review text: A entrega do produto foi muito decepcionante. O que recebi não correspondia ao que foi anunciado. Senti que houve uma falta de transparência nas informações sobre o envio e o produto em si. Não recomendo, pois a confiança é fundamental em qualquer compra.\n"
          ]
        },
        {
          "name": "stderr",
          "output_type": "stream",
          "text": [
            "\rGenerating for OUTPUT-b2w_dev_reviewText_LLAMA_bm25-none_k4:  42%|████▏     | 1059/2500 [12:31<16:25,  1.46it/s]"
          ]
        },
        {
          "name": "stdout",
          "output_type": "stream",
          "text": [
            "Review text: Infelizmente, o produto não atendeu às minhas expectativas. A qualidade não é tão boa quanto eu esperava e houve alguns problemas de funcionamento logo nos primeiros dias. Além disso, o design não é muito atraente. Não recomendo.\n"
          ]
        },
        {
          "name": "stderr",
          "output_type": "stream",
          "text": [
            "\rGenerating for OUTPUT-b2w_dev_reviewText_LLAMA_bm25-none_k4:  42%|████▏     | 1060/2500 [12:32<17:22,  1.38it/s]"
          ]
        },
        {
          "name": "stdout",
          "output_type": "stream",
          "text": [
            "Review text: \"I recently purchased the RUIM, and I must say it has exceeded my expectations. The design is sleek and modern, making it a great addition to my home. The functionality is impressive, offering a range of features that are easy to navigate. I've found it to be reliable and efficient, which is exactly what I was looking for. Overall, I highly recommend the RUIM to anyone in the market for a quality product!\"\n"
          ]
        },
        {
          "name": "stderr",
          "output_type": "stream",
          "text": [
            "\rGenerating for OUTPUT-b2w_dev_reviewText_LLAMA_bm25-none_k4:  42%|████▏     | 1061/2500 [12:33<16:43,  1.43it/s]"
          ]
        },
        {
          "name": "stdout",
          "output_type": "stream",
          "text": [
            "Review text: \"Este carregador é incrível! Carrega meu dispositivo rapidamente e é super portátil. A qualidade é excelente e não esquenta durante o uso. Recomendo para quem precisa de um carregador confiável!\"\n"
          ]
        },
        {
          "name": "stderr",
          "output_type": "stream",
          "text": [
            "\rGenerating for OUTPUT-b2w_dev_reviewText_LLAMA_bm25-none_k4:  42%|████▏     | 1062/2500 [12:33<16:09,  1.48it/s]"
          ]
        },
        {
          "name": "stdout",
          "output_type": "stream",
          "text": [
            "Review text: \"Infelizmente, o produto chegou com defeito. Fiquei bastante desapontado, pois esperava que funcionasse perfeitamente. Tive que entrar em contato com o suporte para resolver a situação, o que gerou mais transtorno. Espero que a próxima compra seja melhor.\"\n"
          ]
        },
        {
          "name": "stderr",
          "output_type": "stream",
          "text": [
            "\rGenerating for OUTPUT-b2w_dev_reviewText_LLAMA_bm25-none_k4:  43%|████▎     | 1063/2500 [12:34<16:05,  1.49it/s]"
          ]
        },
        {
          "name": "stdout",
          "output_type": "stream",
          "text": [
            "Review text: Estou extremamente decepcionado com a entrega. Já se passaram 30 dias desde que fiz o pedido e até agora não recebi o produto. O atendimento ao cliente também não tem sido útil. Espero que a situação se resolva logo, mas, por enquanto, não posso recomendar.\n"
          ]
        },
        {
          "name": "stderr",
          "output_type": "stream",
          "text": [
            "\rGenerating for OUTPUT-b2w_dev_reviewText_LLAMA_bm25-none_k4:  43%|████▎     | 1064/2500 [12:35<18:03,  1.33it/s]"
          ]
        },
        {
          "name": "stdout",
          "output_type": "stream",
          "text": [
            "Review text: \"Este microfone superou todas as minhas expectativas! A qualidade do som é impressionante, com clareza e profundidade que realmente destacam a minha voz. É fácil de usar e muito leve, o que torna o transporte e a configuração um sonho. Além disso, o design é elegante e moderno. Recomendo fortemente para quem busca um equipamento de áudio de alta qualidade!\"\n"
          ]
        },
        {
          "name": "stderr",
          "output_type": "stream",
          "text": [
            "\rGenerating for OUTPUT-b2w_dev_reviewText_LLAMA_bm25-none_k4:  43%|████▎     | 1065/2500 [12:36<17:04,  1.40it/s]"
          ]
        },
        {
          "name": "stdout",
          "output_type": "stream",
          "text": [
            "Review text: Infelizmente, não recebi o produto que comprei. O prazo de entrega foi ultrapassado e não tive nenhuma atualização sobre o status do meu pedido. Estou bastante decepcionado com a falta de comunicação e espero que a situação seja resolvida em breve.\n"
          ]
        },
        {
          "name": "stderr",
          "output_type": "stream",
          "text": [
            "\rGenerating for OUTPUT-b2w_dev_reviewText_LLAMA_bm25-none_k4:  43%|████▎     | 1066/2500 [12:37<18:21,  1.30it/s]"
          ]
        },
        {
          "name": "stdout",
          "output_type": "stream",
          "text": [
            "Review text: \"Lamentablemente, este producto no cumplió con mis expectativas. La calidad no es la que esperaba y, además, llegó con algunos defectos. Me siento decepcionada porque había leído buenas reseñas y pensé que sería una gran compra. No lo recomendaría.\"\n"
          ]
        },
        {
          "name": "stderr",
          "output_type": "stream",
          "text": [
            "\rGenerating for OUTPUT-b2w_dev_reviewText_LLAMA_bm25-none_k4:  43%|████▎     | 1067/2500 [12:37<16:28,  1.45it/s]"
          ]
        },
        {
          "name": "stdout",
          "output_type": "stream",
          "text": [
            "Review text: Este produto superou minhas expectativas! Desde o primeiro uso, notei uma diferença significativa. A qualidade é excelente e ele cumpre exatamente o que promete. Recomendo a todos que buscam eficiência e resultados rápidos. Vale cada centavo!\n"
          ]
        },
        {
          "name": "stderr",
          "output_type": "stream",
          "text": [
            "\rGenerating for OUTPUT-b2w_dev_reviewText_LLAMA_bm25-none_k4:  43%|████▎     | 1068/2500 [12:38<17:29,  1.36it/s]"
          ]
        },
        {
          "name": "stdout",
          "output_type": "stream",
          "text": [
            "Review text: \"Infelizmente, o produto chegou com defeito. Fiquei bastante decepcionado, pois esperava muito mais. A qualidade não atendeu às minhas expectativas e não consegui utilizá-lo como planejei. Espero que a troca ou devolução seja fácil.\"\n"
          ]
        },
        {
          "name": "stderr",
          "output_type": "stream",
          "text": [
            "\rGenerating for OUTPUT-b2w_dev_reviewText_LLAMA_bm25-none_k4:  43%|████▎     | 1069/2500 [12:39<18:20,  1.30it/s]"
          ]
        },
        {
          "name": "stdout",
          "output_type": "stream",
          "text": [
            "Review text: \"Comprei este celular achando que seria uma boa opção, mas me decepcionei ao perceber que não é homologado pela ANATEL. Isso traz preocupações sobre a qualidade e a segurança do aparelho. Além disso, a falta de suporte e assistência técnica no Brasil é um grande inconveniente. Não recomendo a compra para quem busca um produto confiável.\"\n"
          ]
        },
        {
          "name": "stderr",
          "output_type": "stream",
          "text": [
            "\rGenerating for OUTPUT-b2w_dev_reviewText_LLAMA_bm25-none_k4:  43%|████▎     | 1070/2500 [12:39<17:12,  1.39it/s]"
          ]
        },
        {
          "name": "stdout",
          "output_type": "stream",
          "text": [
            "Review text: Este produto superou minhas expectativas! A qualidade é excelente e o preço é muito acessível. Vale cada centavo. Recomendo para quem busca um bom custo-benefício.\n"
          ]
        },
        {
          "name": "stderr",
          "output_type": "stream",
          "text": [
            "\rGenerating for OUTPUT-b2w_dev_reviewText_LLAMA_bm25-none_k4:  43%|████▎     | 1071/2500 [12:40<16:15,  1.46it/s]"
          ]
        },
        {
          "name": "stdout",
          "output_type": "stream",
          "text": [
            "Review text: \"Esse produto oferece um excelente custo-benefício! A qualidade é surpreendente pelo preço que paguei. Atendeu todas as minhas expectativas e ainda mais. Recomendo para quem busca um bom equilíbrio entre preço e qualidade!\"\n"
          ]
        },
        {
          "name": "stderr",
          "output_type": "stream",
          "text": [
            "\rGenerating for OUTPUT-b2w_dev_reviewText_LLAMA_bm25-none_k4:  43%|████▎     | 1072/2500 [12:41<15:59,  1.49it/s]"
          ]
        },
        {
          "name": "stdout",
          "output_type": "stream",
          "text": [
            "Review text: Estou extremamente decepcionado com a minha experiência até agora. Fiz o pedido há semanas e, até o momento, não recebi meu produto. A falta de comunicação e a demora na entrega são inaceitáveis. Espero que isso seja resolvido rapidamente, mas, por enquanto, minha experiência foi muito negativa.\n"
          ]
        },
        {
          "name": "stderr",
          "output_type": "stream",
          "text": [
            "\rGenerating for OUTPUT-b2w_dev_reviewText_LLAMA_bm25-none_k4:  43%|████▎     | 1073/2500 [12:42<18:18,  1.30it/s]"
          ]
        },
        {
          "name": "stdout",
          "output_type": "stream",
          "text": [
            "Review text: \"I recently purchased the Celular LG B220, and I must say, it has exceeded my expectations! The design is sleek and lightweight, making it easy to carry around. The battery life is impressive, lasting me throughout the day without needing a charge. The camera quality is decent for everyday use, capturing clear photos. I also appreciate the user-friendly interface, which makes navigation a breeze. Overall, it's a reliable phone for anyone looking for a budget-friendly option that doesn't compromise on essential features.\"\n"
          ]
        },
        {
          "name": "stderr",
          "output_type": "stream",
          "text": [
            "\rGenerating for OUTPUT-b2w_dev_reviewText_LLAMA_bm25-none_k4:  43%|████▎     | 1074/2500 [12:42<15:30,  1.53it/s]"
          ]
        },
        {
          "name": "stdout",
          "output_type": "stream",
          "text": [
            "Review text: Este produto é uma decepção total. A qualidade é péssima e não atende às expectativas. Não recomendo a ninguém!\n"
          ]
        },
        {
          "name": "stderr",
          "output_type": "stream",
          "text": [
            "\rGenerating for OUTPUT-b2w_dev_reviewText_LLAMA_bm25-none_k4:  43%|████▎     | 1075/2500 [12:42<14:17,  1.66it/s]"
          ]
        },
        {
          "name": "stdout",
          "output_type": "stream",
          "text": [
            "Review text: Infelizmente, o carregador que recebi não funciona. Tentei várias vezes e não consegui carregar meu dispositivo. Fiquei muito desapontado com a qualidade do produto. Não recomendo.\n"
          ]
        },
        {
          "name": "stderr",
          "output_type": "stream",
          "text": [
            "\rGenerating for OUTPUT-b2w_dev_reviewText_LLAMA_bm25-none_k4:  43%|████▎     | 1076/2500 [12:43<14:19,  1.66it/s]"
          ]
        },
        {
          "name": "stdout",
          "output_type": "stream",
          "text": [
            "Review text: Este produto é claramente uma imitação. A qualidade é inferior e não atende às expectativas. Senti que foi um desperdício de dinheiro e não recomendo a ninguém. É melhor investir em algo original.\n"
          ]
        },
        {
          "name": "stderr",
          "output_type": "stream",
          "text": [
            "\rGenerating for OUTPUT-b2w_dev_reviewText_LLAMA_bm25-none_k4:  43%|████▎     | 1077/2500 [12:44<14:24,  1.65it/s]"
          ]
        },
        {
          "name": "stdout",
          "output_type": "stream",
          "text": [
            "Review text: Estou muito satisfeito com o produto. Ele atendeu todas as minhas expectativas e funcionou perfeitamente. A qualidade é excelente e o design é muito bonito. Recomendo a todos que estão pensando em comprar!\n"
          ]
        },
        {
          "name": "stderr",
          "output_type": "stream",
          "text": [
            "\rGenerating for OUTPUT-b2w_dev_reviewText_LLAMA_bm25-none_k4:  43%|████▎     | 1078/2500 [12:44<14:53,  1.59it/s]"
          ]
        },
        {
          "name": "stdout",
          "output_type": "stream",
          "text": [
            "Review text: \"Infelizmente, o produto que recebi veio com defeito. Tentei entrar em contato com o suporte, mas ainda estou aguardando a confirmação do cancelamento da compra. Estou decepcionado com a experiência e espero que a situação seja resolvida rapidamente.\"\n"
          ]
        },
        {
          "name": "stderr",
          "output_type": "stream",
          "text": [
            "\rGenerating for OUTPUT-b2w_dev_reviewText_LLAMA_bm25-none_k4:  43%|████▎     | 1079/2500 [12:45<14:48,  1.60it/s]"
          ]
        },
        {
          "name": "stdout",
          "output_type": "stream",
          "text": [
            "Review text: Este produto tem um sinal extremamente ruim. As ligações caem toda hora, o que torna a comunicação quase impossível. Estou muito desapontado com a qualidade e não recomendo para quem precisa de uma conexão estável.\n"
          ]
        },
        {
          "name": "stderr",
          "output_type": "stream",
          "text": [
            "\rGenerating for OUTPUT-b2w_dev_reviewText_LLAMA_bm25-none_k4:  43%|████▎     | 1080/2500 [12:46<14:38,  1.62it/s]"
          ]
        },
        {
          "name": "stdout",
          "output_type": "stream",
          "text": [
            "Review text: Este produto superou minhas expectativas! A qualidade é realmente impressionante, e os materiais utilizados são duráveis e bem acabados. Recomendo a todos que buscam um item confiável e de alto padrão. Vale cada centavo!\n"
          ]
        },
        {
          "name": "stderr",
          "output_type": "stream",
          "text": [
            "\rGenerating for OUTPUT-b2w_dev_reviewText_LLAMA_bm25-none_k4:  43%|████▎     | 1081/2500 [12:46<13:42,  1.73it/s]"
          ]
        },
        {
          "name": "stdout",
          "output_type": "stream",
          "text": [
            "Review text: Não gostei do produto. Parece ser pirata e só funciona de forma básica. Não atende às minhas expectativas e não recomendo.\n"
          ]
        },
        {
          "name": "stderr",
          "output_type": "stream",
          "text": [
            "\rGenerating for OUTPUT-b2w_dev_reviewText_LLAMA_bm25-none_k4:  43%|████▎     | 1082/2500 [12:47<14:08,  1.67it/s]"
          ]
        },
        {
          "name": "stdout",
          "output_type": "stream",
          "text": [
            "Review text: Infelizmente, não recebi o produto que comprei. A expectativa era alta, mas a entrega falhou completamente. Tentei entrar em contato com o suporte, mas não obtive resposta. Estou muito decepcionado e não recomendo essa compra.\n"
          ]
        },
        {
          "name": "stderr",
          "output_type": "stream",
          "text": [
            "\rGenerating for OUTPUT-b2w_dev_reviewText_LLAMA_bm25-none_k4:  43%|████▎     | 1083/2500 [12:47<14:51,  1.59it/s]"
          ]
        },
        {
          "name": "stdout",
          "output_type": "stream",
          "text": [
            "Review text: \"I was really disappointed with this product. The quality did not meet my expectations, and it felt quite flimsy. I had hoped for something more durable and reliable. Unfortunately, it just didn’t work out for me.\"\n"
          ]
        },
        {
          "name": "stderr",
          "output_type": "stream",
          "text": [
            "\rGenerating for OUTPUT-b2w_dev_reviewText_LLAMA_bm25-none_k4:  43%|████▎     | 1084/2500 [12:48<14:33,  1.62it/s]"
          ]
        },
        {
          "name": "stdout",
          "output_type": "stream",
          "text": [
            "Review text: A entrega foi muito demorada e não atendeu às minhas expectativas. O produto chegou em condições ruins e isso me deixou bastante insatisfeito. Não recomendo.\n"
          ]
        },
        {
          "name": "stderr",
          "output_type": "stream",
          "text": [
            "\rGenerating for OUTPUT-b2w_dev_reviewText_LLAMA_bm25-none_k4:  43%|████▎     | 1085/2500 [12:49<13:57,  1.69it/s]"
          ]
        },
        {
          "name": "stdout",
          "output_type": "stream",
          "text": [
            "Review text: Este producto superó mis expectativas. La calidad es excepcional y ha funcionado perfectamente desde el primer uso. Definitivamente lo recomendaría a otros. ¡Estoy muy satisfecho con mi compra!\n"
          ]
        },
        {
          "name": "stderr",
          "output_type": "stream",
          "text": [
            "\rGenerating for OUTPUT-b2w_dev_reviewText_LLAMA_bm25-none_k4:  43%|████▎     | 1086/2500 [12:49<13:22,  1.76it/s]"
          ]
        },
        {
          "name": "stdout",
          "output_type": "stream",
          "text": [
            "Review text: \"Estou muito satisfeito com o produto! A qualidade é excelente e atendeu todas as minhas expectativas. Recomendo a todos que buscam algo bom e confiável.\"\n"
          ]
        },
        {
          "name": "stderr",
          "output_type": "stream",
          "text": [
            "\rGenerating for OUTPUT-b2w_dev_reviewText_LLAMA_bm25-none_k4:  43%|████▎     | 1087/2500 [12:50<12:59,  1.81it/s]"
          ]
        },
        {
          "name": "stdout",
          "output_type": "stream",
          "text": [
            "Review text: Recebi o produto com defeito, veio quebrado e até agora não obtive nenhum retorno da empresa. Estou extremamente desapontado com o atendimento e a qualidade do serviço. Espero uma solução rápida!\n"
          ]
        },
        {
          "name": "stderr",
          "output_type": "stream",
          "text": [
            "\rGenerating for OUTPUT-b2w_dev_reviewText_LLAMA_bm25-none_k4:  44%|████▎     | 1088/2500 [12:50<13:45,  1.71it/s]"
          ]
        },
        {
          "name": "stdout",
          "output_type": "stream",
          "text": [
            "Review text: Este produto é remanufaturado, mas essa informação não foi clara no momento da compra. Senti que deveria ter sido avisado antes de finalizar o pedido. A qualidade do produto é aceitável, mas a falta de transparência na descrição me deixou insatisfeito.\n"
          ]
        },
        {
          "name": "stderr",
          "output_type": "stream",
          "text": [
            "\rGenerating for OUTPUT-b2w_dev_reviewText_LLAMA_bm25-none_k4:  44%|████▎     | 1089/2500 [12:51<15:12,  1.55it/s]"
          ]
        },
        {
          "name": "stdout",
          "output_type": "stream",
          "text": [
            "Review text: Este produto é uma decepção total! A qualidade é extremamente baixa e, para piorar, ele pega fogo com facilidade. Não recomendo a ninguém. É perigoso e não vale o investimento. Fiquei muito insatisfeito!\n"
          ]
        },
        {
          "name": "stderr",
          "output_type": "stream",
          "text": [
            "\rGenerating for OUTPUT-b2w_dev_reviewText_LLAMA_bm25-none_k4:  44%|████▎     | 1090/2500 [12:52<14:19,  1.64it/s]"
          ]
        },
        {
          "name": "stdout",
          "output_type": "stream",
          "text": [
            "Review text: \"Este produto superou todas as minhas expectativas! A qualidade é excepcional e o desempenho é impecável. Definitivamente, vale cada centavo. Recomendo a todos que buscam algo confiável e eficiente!\"\n"
          ]
        },
        {
          "name": "stderr",
          "output_type": "stream",
          "text": [
            "\rGenerating for OUTPUT-b2w_dev_reviewText_LLAMA_bm25-none_k4:  44%|████▎     | 1091/2500 [12:52<14:51,  1.58it/s]"
          ]
        },
        {
          "name": "stdout",
          "output_type": "stream",
          "text": [
            "Review text: Este produto não atendeu às minhas expectativas. A qualidade é inferior e não cumpre o que promete. Tive problemas desde o início e a experiência geral foi decepcionante. Não recomendo a compra.\n"
          ]
        },
        {
          "name": "stderr",
          "output_type": "stream",
          "text": [
            "\rGenerating for OUTPUT-b2w_dev_reviewText_LLAMA_bm25-none_k4:  44%|████▎     | 1092/2500 [12:53<16:25,  1.43it/s]"
          ]
        },
        {
          "name": "stdout",
          "output_type": "stream",
          "text": [
            "Review text: O design do produto é realmente impressionante, mas infelizmente o desempenho não corresponde às expectativas. A aparência é moderna e atraente, mas o processamento deixa a desejar, com lentidão em tarefas simples. Esperava uma experiência mais fluida, especialmente considerando o visual sofisticado. Para quem valoriza mais a estética do que a funcionalidade, pode ser uma boa escolha, mas para usuários que buscam eficiência, é melhor procurar outras opções.\n"
          ]
        },
        {
          "name": "stderr",
          "output_type": "stream",
          "text": [
            "\rGenerating for OUTPUT-b2w_dev_reviewText_LLAMA_bm25-none_k4:  44%|████▎     | 1093/2500 [12:54<17:50,  1.31it/s]"
          ]
        },
        {
          "name": "stdout",
          "output_type": "stream",
          "text": [
            "Review text: \"Comprei essa TV Full HD achando que seria uma boa opção, mas percebo que o preço é muito alto em comparação com as TVs 4K disponíveis no mercado. A qualidade de imagem é boa, mas não justifica o custo. Se você pode investir um pouco mais, recomendo considerar uma TV 4K, que oferece uma experiência muito superior.\"\n"
          ]
        },
        {
          "name": "stderr",
          "output_type": "stream",
          "text": [
            "\rGenerating for OUTPUT-b2w_dev_reviewText_LLAMA_bm25-none_k4:  44%|████▍     | 1094/2500 [12:55<17:27,  1.34it/s]"
          ]
        },
        {
          "name": "stdout",
          "output_type": "stream",
          "text": [
            "Review text: \"Absolutely love this product! It exceeded my expectations in every way. The quality is top-notch, and it performs flawlessly. I highly recommend it to anyone looking for something reliable and effective. Five stars!\"\n"
          ]
        },
        {
          "name": "stderr",
          "output_type": "stream",
          "text": [
            "\rGenerating for OUTPUT-b2w_dev_reviewText_LLAMA_bm25-none_k4:  44%|████▍     | 1095/2500 [12:55<16:48,  1.39it/s]"
          ]
        },
        {
          "name": "stdout",
          "output_type": "stream",
          "text": [
            "Review text: A entrega foi um verdadeiro caos. O pacote chegou todo amarrado de forma estranha, como se tivesse passado por uma batalha. Isso fez com que eu questionasse a qualidade do serviço de entrega. Esperava algo mais organizado e profissional. Não recomendo se você valoriza uma entrega adequada.\n"
          ]
        },
        {
          "name": "stderr",
          "output_type": "stream",
          "text": [
            "\rGenerating for OUTPUT-b2w_dev_reviewText_LLAMA_bm25-none_k4:  44%|████▍     | 1096/2500 [12:56<15:19,  1.53it/s]"
          ]
        },
        {
          "name": "stdout",
          "output_type": "stream",
          "text": [
            "Review text: Este produto simplesmente não funciona como prometido. Tentei várias vezes e não obtive os resultados esperados. Fiquei muito desapontado e não recomendo.\n"
          ]
        },
        {
          "name": "stderr",
          "output_type": "stream",
          "text": [
            "\rGenerating for OUTPUT-b2w_dev_reviewText_LLAMA_bm25-none_k4:  44%|████▍     | 1097/2500 [12:56<14:49,  1.58it/s]"
          ]
        },
        {
          "name": "stdout",
          "output_type": "stream",
          "text": [
            "Review text: Este produto superou todas as minhas expectativas! A qualidade é excepcional e o desempenho é impecável. Recomendo a todos que estão em busca de algo realmente eficaz. Vale cada centavo!\n"
          ]
        },
        {
          "name": "stderr",
          "output_type": "stream",
          "text": [
            "\rGenerating for OUTPUT-b2w_dev_reviewText_LLAMA_bm25-none_k4:  44%|████▍     | 1098/2500 [12:57<15:07,  1.54it/s]"
          ]
        },
        {
          "name": "stdout",
          "output_type": "stream",
          "text": [
            "Review text: \"Este produto superou todas as minhas expectativas! A qualidade é excepcional e o desempenho é impecável. Estou extremamente satisfeito com a compra e recomendo a todos que buscam algo realmente eficaz. Sem dúvida, uma escolha perfeita!\"\n"
          ]
        },
        {
          "name": "stderr",
          "output_type": "stream",
          "text": [
            "\rGenerating for OUTPUT-b2w_dev_reviewText_LLAMA_bm25-none_k4:  44%|████▍     | 1099/2500 [12:58<15:02,  1.55it/s]"
          ]
        },
        {
          "name": "stdout",
          "output_type": "stream",
          "text": [
            "Review text: Este produto não atendeu às minhas expectativas. O preço é alto em comparação com a qualidade oferecida. Senti que poderia ter investido meu dinheiro em algo melhor. Não recomendo.\n"
          ]
        },
        {
          "name": "stderr",
          "output_type": "stream",
          "text": [
            "\rGenerating for OUTPUT-b2w_dev_reviewText_LLAMA_bm25-none_k4:  44%|████▍     | 1100/2500 [12:58<15:44,  1.48it/s]"
          ]
        },
        {
          "name": "stdout",
          "output_type": "stream",
          "text": [
            "Review text: \"A máquina sacudindo é simplesmente incrível! Desde que comecei a usá-la, percebi uma grande diferença na eficiência do meu trabalho. O design é robusto e fácil de manusear, e a potência é surpreendente. Além disso, o barulho é mínimo, o que torna a experiência ainda mais agradável. Recomendo para quem busca qualidade e desempenho!\"\n"
          ]
        },
        {
          "name": "stderr",
          "output_type": "stream",
          "text": [
            "\rGenerating for OUTPUT-b2w_dev_reviewText_LLAMA_bm25-none_k4:  44%|████▍     | 1101/2500 [12:59<14:31,  1.61it/s]"
          ]
        },
        {
          "name": "stdout",
          "output_type": "stream",
          "text": [
            "Review text: \"Esse produto superou minhas expectativas! A qualidade é excelente e o desempenho é incrível. Recomendo para quem busca algo eficiente e durável. Vale cada centavo!\"\n"
          ]
        },
        {
          "name": "stderr",
          "output_type": "stream",
          "text": [
            "\rGenerating for OUTPUT-b2w_dev_reviewText_LLAMA_bm25-none_k4:  44%|████▍     | 1102/2500 [13:00<14:11,  1.64it/s]"
          ]
        },
        {
          "name": "stdout",
          "output_type": "stream",
          "text": [
            "Review text: \"Comprei este produto recentemente e estou extremamente satisfeito! A qualidade é excelente e atendeu todas as minhas expectativas. Recomendo a todos que estão em dúvida, vale cada centavo!\"\n"
          ]
        },
        {
          "name": "stderr",
          "output_type": "stream",
          "text": [
            "\rGenerating for OUTPUT-b2w_dev_reviewText_LLAMA_bm25-none_k4:  44%|████▍     | 1103/2500 [13:00<15:45,  1.48it/s]"
          ]
        },
        {
          "name": "stdout",
          "output_type": "stream",
          "text": [
            "Review text: \"Comprei este produto recentemente e fiquei muito satisfeito com a qualidade. Atendeu todas as minhas expectativas e funcionou perfeitamente. Além disso, o design é muito bonito e prático. Sem dúvida, recomendo a todos que estão em busca de algo similar!\"\n"
          ]
        },
        {
          "name": "stderr",
          "output_type": "stream",
          "text": [
            "\rGenerating for OUTPUT-b2w_dev_reviewText_LLAMA_bm25-none_k4:  44%|████▍     | 1104/2500 [13:01<15:13,  1.53it/s]"
          ]
        },
        {
          "name": "stdout",
          "output_type": "stream",
          "text": [
            "Review text: A lavadora é simplesmente incrível! A eficiência na limpeza das roupas é notável, e o funcionamento é super silencioso. Além disso, o design é moderno e combina perfeitamente com a decoração da minha lavanderia. Estou muito satisfeita com a compra e recomendo a todos que buscam qualidade e praticidade.\n"
          ]
        },
        {
          "name": "stderr",
          "output_type": "stream",
          "text": [
            "\rGenerating for OUTPUT-b2w_dev_reviewText_LLAMA_bm25-none_k4:  44%|████▍     | 1105/2500 [13:03<28:00,  1.20s/it]"
          ]
        },
        {
          "name": "stdout",
          "output_type": "stream",
          "text": [
            "Review text: \"A máquina de lavar Brastemp superou todas as minhas expectativas! O desempenho é incrível, as roupas saem limpas e cheirosas, e o painel de controle é muito fácil de usar. Além disso, o design é moderno e combina perfeitamente com minha lavanderia. Recomendo para quem busca qualidade e eficiência!\"\n"
          ]
        },
        {
          "name": "stderr",
          "output_type": "stream",
          "text": [
            "\rGenerating for OUTPUT-b2w_dev_reviewText_LLAMA_bm25-none_k4:  44%|████▍     | 1106/2500 [13:05<27:58,  1.20s/it]"
          ]
        },
        {
          "name": "stdout",
          "output_type": "stream",
          "text": [
            "Review text: A Lavadora de Roupas Brastemp 9kg BWS09AB Branca superou minhas expectativas! O design é moderno e elegante, combinando perfeitamente com a decoração da minha lavanderia. A capacidade de 9kg é ideal para minha família, permitindo lavar grandes volumes de roupas de uma só vez. Os ciclos de lavagem são eficientes e oferecem diversas opções, o que é ótimo para diferentes tipos de tecidos. Além disso, o funcionamento é bem silencioso, o que é um ponto positivo. Estou muito satisfeito com a compra e recomendo para quem busca qualidade e praticidade!\n"
          ]
        },
        {
          "name": "stderr",
          "output_type": "stream",
          "text": [
            "\rGenerating for OUTPUT-b2w_dev_reviewText_LLAMA_bm25-none_k4:  44%|████▍     | 1107/2500 [13:05<24:13,  1.04s/it]"
          ]
        },
        {
          "name": "stdout",
          "output_type": "stream",
          "text": [
            "Review text: Este produto superou todas as minhas expectativas! A qualidade é excepcional e a performance é impecável. Recomendo a todos que buscam um item confiável e eficiente. Vale cada centavo!\n"
          ]
        },
        {
          "name": "stderr",
          "output_type": "stream",
          "text": [
            "\rGenerating for OUTPUT-b2w_dev_reviewText_LLAMA_bm25-none_k4:  44%|████▍     | 1108/2500 [13:06<21:38,  1.07it/s]"
          ]
        },
        {
          "name": "stdout",
          "output_type": "stream",
          "text": [
            "Review text: Este produto superou minhas expectativas! A qualidade é excepcional e se destaca em comparação com outros que já experimentei. A durabilidade é notável e os materiais utilizados são de primeira linha. Recomendo a todos que buscam um item confiável e eficiente. Vale cada centavo!\n"
          ]
        },
        {
          "name": "stderr",
          "output_type": "stream",
          "text": [
            "\rGenerating for OUTPUT-b2w_dev_reviewText_LLAMA_bm25-none_k4:  44%|████▍     | 1109/2500 [13:07<18:50,  1.23it/s]"
          ]
        },
        {
          "name": "stdout",
          "output_type": "stream",
          "text": [
            "Review text: Este produto superou minhas expectativas! Ele atendeu perfeitamente às minhas necessidades, oferecendo qualidade e eficiência. Estou muito satisfeito com a compra e recomendo a todos que buscam algo confiável e funcional.\n"
          ]
        },
        {
          "name": "stderr",
          "output_type": "stream",
          "text": [
            "\rGenerating for OUTPUT-b2w_dev_reviewText_LLAMA_bm25-none_k4:  44%|████▍     | 1110/2500 [13:07<17:32,  1.32it/s]"
          ]
        },
        {
          "name": "stdout",
          "output_type": "stream",
          "text": [
            "Review text: Estou extremamente satisfeito com este produto! A qualidade é excepcional e atendeu todas as minhas expectativas. Além disso, a entrega foi rápida e o atendimento ao cliente foi excelente. Recomendo a todos que estão em busca de algo confiável e eficiente. Com certeza, voltarei a comprar!\n"
          ]
        },
        {
          "name": "stderr",
          "output_type": "stream",
          "text": [
            "\rGenerating for OUTPUT-b2w_dev_reviewText_LLAMA_bm25-none_k4:  44%|████▍     | 1111/2500 [13:08<18:46,  1.23it/s]"
          ]
        },
        {
          "name": "stdout",
          "output_type": "stream",
          "text": [
            "Review text: I recently purchased the Brastemp BWS 09AB washing machine, and I couldn't be happier with my choice! The design is sleek and modern, fitting perfectly in my laundry room. It operates quietly, which is a huge plus for my household. The various wash settings allow me to customize each load, ensuring my clothes come out clean and fresh every time. I especially appreciate the energy efficiency, which helps keep my utility bills in check. Overall, this washing machine has exceeded my expectations, and I highly recommend it to anyone in need of a reliable and efficient laundry solution!\n"
          ]
        },
        {
          "name": "stderr",
          "output_type": "stream",
          "text": [
            "\rGenerating for OUTPUT-b2w_dev_reviewText_LLAMA_bm25-none_k4:  44%|████▍     | 1112/2500 [13:09<17:29,  1.32it/s]"
          ]
        },
        {
          "name": "stdout",
          "output_type": "stream",
          "text": [
            "Review text: Este produto superou minhas expectativas! A qualidade é excelente e o desempenho é notável. Recomendo a todos que buscam um item confiável e eficiente. Vale cada centavo!\n"
          ]
        },
        {
          "name": "stderr",
          "output_type": "stream",
          "text": [
            "\rGenerating for OUTPUT-b2w_dev_reviewText_LLAMA_bm25-none_k4:  45%|████▍     | 1113/2500 [13:10<18:15,  1.27it/s]"
          ]
        },
        {
          "name": "stdout",
          "output_type": "stream",
          "text": [
            "Review text: \"Absolutely love this product! It has exceeded my expectations in every way. The quality is top-notch, and it performs flawlessly. I highly recommend it to anyone looking for a reliable and effective solution. You won't be disappointed!\"\n"
          ]
        },
        {
          "name": "stderr",
          "output_type": "stream",
          "text": [
            "\rGenerating for OUTPUT-b2w_dev_reviewText_LLAMA_bm25-none_k4:  45%|████▍     | 1114/2500 [13:11<19:09,  1.21it/s]"
          ]
        },
        {
          "name": "stdout",
          "output_type": "stream",
          "text": [
            "Review text: A máquina Brastemp é simplesmente incrível! Sua eficiência e desempenho superaram todas as minhas expectativas. O design é moderno e elegante, além de ser super fácil de usar. As funções são variadas e atendem a todas as minhas necessidades, desde roupas delicadas até as mais pesadas. Sem dúvida, uma excelente compra que recomendo a todos!\n"
          ]
        },
        {
          "name": "stderr",
          "output_type": "stream",
          "text": [
            "\rGenerating for OUTPUT-b2w_dev_reviewText_LLAMA_bm25-none_k4:  45%|████▍     | 1115/2500 [13:12<22:22,  1.03it/s]"
          ]
        },
        {
          "name": "stdout",
          "output_type": "stream",
          "text": [
            "Review text: \"A máquina de lavar Brastemp 9kg BWS0AB Branca superou minhas expectativas! Seu design é moderno e elegante, combinando perfeitamente com a decoração da minha lavanderia. A capacidade de 9kg é ideal para minha família, permitindo lavar grandes volumes de roupas de uma só vez. Os ciclos de lavagem são eficientes e silenciosos, e a função de economia de água é um grande diferencial. Estou muito satisfeita com a qualidade da lavagem e a facilidade de uso. Recomendo a todos que buscam uma máquina confiável e prática!\"\n"
          ]
        },
        {
          "name": "stderr",
          "output_type": "stream",
          "text": [
            "\rGenerating for OUTPUT-b2w_dev_reviewText_LLAMA_bm25-none_k4:  45%|████▍     | 1116/2500 [13:14<28:40,  1.24s/it]"
          ]
        },
        {
          "name": "stdout",
          "output_type": "stream",
          "text": [
            "Review text: Esta máquina ha superado todas mis expectativas. Su rendimiento es excepcional y la calidad de los resultados es impresionante. Además, es muy fácil de usar y tiene un diseño ergonómico que la hace cómoda durante largas sesiones. Definitivamente, la recomendaría a cualquiera que busque una herramienta confiable y eficiente. ¡Excelente compra!\n"
          ]
        },
        {
          "name": "stderr",
          "output_type": "stream",
          "text": [
            "\rGenerating for OUTPUT-b2w_dev_reviewText_LLAMA_bm25-none_k4:  45%|████▍     | 1117/2500 [13:14<25:00,  1.08s/it]"
          ]
        },
        {
          "name": "stdout",
          "output_type": "stream",
          "text": [
            "Review text: \"Comprei este produto recentemente e fiquei extremamente satisfeito! A qualidade é excelente e atendeu todas as minhas expectativas. Além disso, a entrega foi rápida e o atendimento ao cliente foi impecável. Recomendo a todos que estão em dúvida, pois vale muito a pena!\"\n"
          ]
        },
        {
          "name": "stderr",
          "output_type": "stream",
          "text": [
            "\rGenerating for OUTPUT-b2w_dev_reviewText_LLAMA_bm25-none_k4:  45%|████▍     | 1118/2500 [13:15<20:20,  1.13it/s]"
          ]
        },
        {
          "name": "stdout",
          "output_type": "stream",
          "text": [
            "Review text: Este produto superou minhas expectativas! A qualidade é excelente e o desempenho é notável. Recomendo a todos que buscam algo confiável e eficiente. Vale cada centavo!\n"
          ]
        },
        {
          "name": "stderr",
          "output_type": "stream",
          "text": [
            "\rGenerating for OUTPUT-b2w_dev_reviewText_LLAMA_bm25-none_k4:  45%|████▍     | 1119/2500 [13:16<18:42,  1.23it/s]"
          ]
        },
        {
          "name": "stdout",
          "output_type": "stream",
          "text": [
            "Review text: \"Esse produto superou minhas expectativas! A qualidade é excelente e o desempenho é impecável. Recomendo a todos que buscam um item confiável e eficiente. Vale cada centavo!\"\n"
          ]
        },
        {
          "name": "stderr",
          "output_type": "stream",
          "text": [
            "\rGenerating for OUTPUT-b2w_dev_reviewText_LLAMA_bm25-none_k4:  45%|████▍     | 1120/2500 [13:16<18:24,  1.25it/s]"
          ]
        },
        {
          "name": "stdout",
          "output_type": "stream",
          "text": [
            "Review text: Estoy muy satisfecho con este producto. La calidad es excepcional y ha superado mis expectativas. Definitivamente lo recomendaría a otros. ¡Excelente compra!\n"
          ]
        },
        {
          "name": "stderr",
          "output_type": "stream",
          "text": [
            "\rGenerating for OUTPUT-b2w_dev_reviewText_LLAMA_bm25-none_k4:  45%|████▍     | 1121/2500 [13:17<16:18,  1.41it/s]"
          ]
        },
        {
          "name": "stdout",
          "output_type": "stream",
          "text": [
            "Review text: Este produto superou minhas expectativas! A qualidade é excelente e o desempenho é impecável. Recomendo a todos que buscam um item confiável e eficiente. Vale cada centavo!\n"
          ]
        },
        {
          "name": "stderr",
          "output_type": "stream",
          "text": [
            "\rGenerating for OUTPUT-b2w_dev_reviewText_LLAMA_bm25-none_k4:  45%|████▍     | 1122/2500 [13:17<14:44,  1.56it/s]"
          ]
        },
        {
          "name": "stdout",
          "output_type": "stream",
          "text": [
            "Review text: Este produto atendeu todas as minhas expectativas. A qualidade é excelente e o desempenho é impecável. Recomendo para quem busca algo que realmente funcione conforme prometido.\n"
          ]
        },
        {
          "name": "stderr",
          "output_type": "stream",
          "text": [
            "\rGenerating for OUTPUT-b2w_dev_reviewText_LLAMA_bm25-none_k4:  45%|████▍     | 1123/2500 [13:18<17:09,  1.34it/s]"
          ]
        },
        {
          "name": "stdout",
          "output_type": "stream",
          "text": [
            "Review text: \"He estado usando esta lavadora durante un par de meses y estoy muy satisfecho con su rendimiento. Lava la ropa de manera eficiente y tiene múltiples configuraciones que se adaptan a diferentes tipos de tejidos. Además, es bastante silenciosa, lo que es un gran plus. La capacidad es ideal para mi familia y el diseño es moderno y elegante. Definitivamente, una excelente compra que recomendaría a cualquiera que busque una buena máquina de lavar.\"\n"
          ]
        },
        {
          "name": "stderr",
          "output_type": "stream",
          "text": [
            "\rGenerating for OUTPUT-b2w_dev_reviewText_LLAMA_bm25-none_k4:  45%|████▍     | 1124/2500 [13:19<15:24,  1.49it/s]"
          ]
        },
        {
          "name": "stdout",
          "output_type": "stream",
          "text": [
            "Review text: \"Comprei este produto recentemente e fiquei muito satisfeito com a qualidade e o desempenho. Atendeu todas as minhas expectativas e realmente fez a diferença no meu dia a dia. Parabéns aos fabricantes, com certeza recomendo a todos!\"\n"
          ]
        },
        {
          "name": "stderr",
          "output_type": "stream",
          "text": [
            "\rGenerating for OUTPUT-b2w_dev_reviewText_LLAMA_bm25-none_k4:  45%|████▌     | 1125/2500 [13:19<15:25,  1.49it/s]"
          ]
        },
        {
          "name": "stdout",
          "output_type": "stream",
          "text": [
            "Review text: Estou muito satisfeito com o produto! Ele é silencioso e eficiente, o que realmente faz a diferença no meu dia a dia. No entanto, notei que a lataria parece um pouco \"fraca\", o que me deixou um pouco preocupado com a durabilidade. No geral, é uma boa compra!\n"
          ]
        },
        {
          "name": "stderr",
          "output_type": "stream",
          "text": [
            "\rGenerating for OUTPUT-b2w_dev_reviewText_LLAMA_bm25-none_k4:  45%|████▌     | 1126/2500 [13:20<15:42,  1.46it/s]"
          ]
        },
        {
          "name": "stdout",
          "output_type": "stream",
          "text": [
            "Review text: Estou muito satisfeito com o produto. Ele atendeu todas as minhas expectativas e funcionou perfeitamente desde o primeiro uso. A qualidade é excelente e a entrega foi rápida. Recomendo a todos que estão em busca de algo confiável e eficiente!\n"
          ]
        },
        {
          "name": "stderr",
          "output_type": "stream",
          "text": [
            "\rGenerating for OUTPUT-b2w_dev_reviewText_LLAMA_bm25-none_k4:  45%|████▌     | 1127/2500 [13:21<14:28,  1.58it/s]"
          ]
        },
        {
          "name": "stdout",
          "output_type": "stream",
          "text": [
            "Review text: Este producto superó mis expectativas. La calidad es excepcional y funciona a la perfección. Definitivamente lo recomendaría a otros. ¡Un gran hallazgo!\n"
          ]
        },
        {
          "name": "stderr",
          "output_type": "stream",
          "text": [
            "\rGenerating for OUTPUT-b2w_dev_reviewText_LLAMA_bm25-none_k4:  45%|████▌     | 1128/2500 [13:21<15:37,  1.46it/s]"
          ]
        },
        {
          "name": "stdout",
          "output_type": "stream",
          "text": [
            "Review text: \"Estou extremamente satisfeito com a minha nova lavadora! Ela é super eficiente e faz o trabalho rápido, deixando as roupas limpas e cheirosas. O design é moderno e fácil de usar, com várias opções de lavagem que atendem a todas as minhas necessidades. Além disso, é silenciosa, o que é um grande diferencial. Recomendo a todos que buscam qualidade e praticidade!\"\n"
          ]
        },
        {
          "name": "stderr",
          "output_type": "stream",
          "text": [
            "\rGenerating for OUTPUT-b2w_dev_reviewText_LLAMA_bm25-none_k4:  45%|████▌     | 1129/2500 [13:22<14:37,  1.56it/s]"
          ]
        },
        {
          "name": "stdout",
          "output_type": "stream",
          "text": [
            "Review text: Este producto superó mis expectativas. La calidad es excepcional y cumple con todas las funciones prometidas. Definitivamente lo recomendaría a otros. ¡Una excelente compra!\n"
          ]
        },
        {
          "name": "stderr",
          "output_type": "stream",
          "text": [
            "\rGenerating for OUTPUT-b2w_dev_reviewText_LLAMA_bm25-none_k4:  45%|████▌     | 1130/2500 [13:23<15:22,  1.48it/s]"
          ]
        },
        {
          "name": "stdout",
          "output_type": "stream",
          "text": [
            "Review text: Este produto superou minhas expectativas! Atendeu a todas as minhas necessidades de forma integral, oferecendo qualidade e eficiência. Estou muito satisfeito com a compra e recomendo a todos que buscam algo que realmente funcione. Excelente investimento!\n"
          ]
        },
        {
          "name": "stderr",
          "output_type": "stream",
          "text": [
            "\rGenerating for OUTPUT-b2w_dev_reviewText_LLAMA_bm25-none_k4:  45%|████▌     | 1131/2500 [13:23<14:46,  1.54it/s]"
          ]
        },
        {
          "name": "stdout",
          "output_type": "stream",
          "text": [
            "Review text: Este produto oferece uma excelente relação qualidade-preço. Fiquei muito satisfeito com o desempenho e a durabilidade. Com certeza, vale cada centavo investido! Recomendo para quem busca um bom produto sem gastar muito.\n"
          ]
        },
        {
          "name": "stderr",
          "output_type": "stream",
          "text": [
            "\rGenerating for OUTPUT-b2w_dev_reviewText_LLAMA_bm25-none_k4:  45%|████▌     | 1132/2500 [13:24<15:19,  1.49it/s]"
          ]
        },
        {
          "name": "stdout",
          "output_type": "stream",
          "text": [
            "Review text: \"Comprei este produto recentemente e fiquei muito satisfeito com a qualidade. Ele atendeu todas as minhas expectativas e é muito fácil de usar. Recomendo a todos que buscam algo eficiente e durável. Vale cada centavo!\"\n"
          ]
        },
        {
          "name": "stderr",
          "output_type": "stream",
          "text": [
            "\rGenerating for OUTPUT-b2w_dev_reviewText_LLAMA_bm25-none_k4:  45%|████▌     | 1133/2500 [13:25<14:32,  1.57it/s]"
          ]
        },
        {
          "name": "stdout",
          "output_type": "stream",
          "text": [
            "Review text: \"Estou muito satisfeito com este produto! A qualidade é excelente e atendeu todas as minhas expectativas. Recomendo a todos que buscam algo confiável e eficiente.\"\n"
          ]
        },
        {
          "name": "stderr",
          "output_type": "stream",
          "text": [
            "\rGenerating for OUTPUT-b2w_dev_reviewText_LLAMA_bm25-none_k4:  45%|████▌     | 1134/2500 [13:25<13:48,  1.65it/s]"
          ]
        },
        {
          "name": "stdout",
          "output_type": "stream",
          "text": [
            "Review text: Este produto superou minhas expectativas! A qualidade é excelente e o desempenho é impecável. Recomendo a todos que buscam um item confiável e eficiente. Vale cada centavo!\n"
          ]
        },
        {
          "name": "stderr",
          "output_type": "stream",
          "text": [
            "\rGenerating for OUTPUT-b2w_dev_reviewText_LLAMA_bm25-none_k4:  45%|████▌     | 1135/2500 [13:26<13:41,  1.66it/s]"
          ]
        },
        {
          "name": "stdout",
          "output_type": "stream",
          "text": [
            "Review text: \"Estoy muy satisfecho con mi compra. El producto llegó a tiempo y en perfectas condiciones. La calidad es excelente y cumple con todas mis expectativas. Sin duda, volveré a comprar en el futuro. ¡Recomendado!\"\n"
          ]
        },
        {
          "name": "stderr",
          "output_type": "stream",
          "text": [
            "\rGenerating for OUTPUT-b2w_dev_reviewText_LLAMA_bm25-none_k4:  45%|████▌     | 1136/2500 [13:26<12:26,  1.83it/s]"
          ]
        },
        {
          "name": "stdout",
          "output_type": "stream",
          "text": [
            "Review text: \"Adorei o produto! Atendeu todas as minhas expectativas e a qualidade é excelente. Com certeza vou recomendar para amigos!\"\n"
          ]
        },
        {
          "name": "stderr",
          "output_type": "stream",
          "text": [
            "\rGenerating for OUTPUT-b2w_dev_reviewText_LLAMA_bm25-none_k4:  45%|████▌     | 1137/2500 [13:27<12:41,  1.79it/s]"
          ]
        },
        {
          "name": "stdout",
          "output_type": "stream",
          "text": [
            "Review text: Este produto é razoável, atende às expectativas, mas poderia ter uma qualidade melhor. O desempenho é aceitável, mas não se destaca em relação a outros similares no mercado. É uma opção viável se você não estiver buscando algo excepcional.\n"
          ]
        },
        {
          "name": "stderr",
          "output_type": "stream",
          "text": [
            "\rGenerating for OUTPUT-b2w_dev_reviewText_LLAMA_bm25-none_k4:  46%|████▌     | 1138/2500 [13:27<13:17,  1.71it/s]"
          ]
        },
        {
          "name": "stdout",
          "output_type": "stream",
          "text": [
            "Review text: Este produto realmente atendeu todas as minhas expectativas. A qualidade é excelente e o desempenho é superior ao que eu esperava. Recomendo a todos que buscam algo confiável e eficiente. Estou muito satisfeito com a minha compra!\n"
          ]
        },
        {
          "name": "stderr",
          "output_type": "stream",
          "text": [
            "\rGenerating for OUTPUT-b2w_dev_reviewText_LLAMA_bm25-none_k4:  46%|████▌     | 1139/2500 [13:28<12:25,  1.83it/s]"
          ]
        },
        {
          "name": "stdout",
          "output_type": "stream",
          "text": [
            "Review text: \"Esse produto superou minhas expectativas! A qualidade é excelente e o desempenho é incrível. Recomendo para quem busca algo confiável e eficiente. Vale cada centavo!\"\n"
          ]
        },
        {
          "name": "stderr",
          "output_type": "stream",
          "text": [
            "\rGenerating for OUTPUT-b2w_dev_reviewText_LLAMA_bm25-none_k4:  46%|████▌     | 1140/2500 [13:29<14:11,  1.60it/s]"
          ]
        },
        {
          "name": "stdout",
          "output_type": "stream",
          "text": [
            "Review text: \"Comprei este produto recentemente e estou extremamente satisfeito. A qualidade é realmente excelente, superou minhas expectativas. Além disso, a entrega foi rápida e eficiente, o que me deixou ainda mais feliz com a compra. Recomendo a todos que buscam um produto de qualidade com um serviço de entrega ágil!\"\n"
          ]
        },
        {
          "name": "stderr",
          "output_type": "stream",
          "text": [
            "\rGenerating for OUTPUT-b2w_dev_reviewText_LLAMA_bm25-none_k4:  46%|████▌     | 1141/2500 [13:29<13:52,  1.63it/s]"
          ]
        },
        {
          "name": "stdout",
          "output_type": "stream",
          "text": [
            "Review text: \"Amei a minha nova batedeira! Ela mistura tudo de forma rápida e eficiente. O design é moderno e combina perfeitamente com a minha cozinha. Além disso, é super fácil de limpar. Recomendo para quem gosta de cozinhar!\"\n"
          ]
        },
        {
          "name": "stderr",
          "output_type": "stream",
          "text": [
            "\rGenerating for OUTPUT-b2w_dev_reviewText_LLAMA_bm25-none_k4:  46%|████▌     | 1142/2500 [13:30<13:24,  1.69it/s]"
          ]
        },
        {
          "name": "stdout",
          "output_type": "stream",
          "text": [
            "Review text: Este produto superou todas as minhas expectativas! A qualidade é excepcional e o desempenho é impecável. Recomendo a todos que buscam algo realmente eficaz e confiável. Vale cada centavo!\n"
          ]
        },
        {
          "name": "stderr",
          "output_type": "stream",
          "text": [
            "\rGenerating for OUTPUT-b2w_dev_reviewText_LLAMA_bm25-none_k4:  46%|████▌     | 1143/2500 [13:30<13:47,  1.64it/s]"
          ]
        },
        {
          "name": "stdout",
          "output_type": "stream",
          "text": [
            "Review text: Eu simplesmente amei esse produto! A qualidade é excepcional e superou minhas expectativas. O design é lindo e funcional, tornando o uso muito agradável. Recomendo a todos que estão em busca de algo que realmente faça a diferença. Com certeza, vou comprar novamente!\n"
          ]
        },
        {
          "name": "stderr",
          "output_type": "stream",
          "text": [
            "\rGenerating for OUTPUT-b2w_dev_reviewText_LLAMA_bm25-none_k4:  46%|████▌     | 1144/2500 [13:31<12:54,  1.75it/s]"
          ]
        },
        {
          "name": "stdout",
          "output_type": "stream",
          "text": [
            "Review text: Adorei o produto! Atendeu todas as minhas expectativas e a qualidade é excelente. Recomendo a todos que estão em dúvida!\n"
          ]
        },
        {
          "name": "stderr",
          "output_type": "stream",
          "text": [
            "\rGenerating for OUTPUT-b2w_dev_reviewText_LLAMA_bm25-none_k4:  46%|████▌     | 1145/2500 [13:32<14:13,  1.59it/s]"
          ]
        },
        {
          "name": "stdout",
          "output_type": "stream",
          "text": [
            "Review text: Este produto superou todas as minhas expectativas! A qualidade é excepcional e ele cumpre exatamente o que promete. Além disso, o design é muito bonito e funcional. Recomendo a todos que estão em busca de algo eficaz e confiável. Com certeza vou comprar novamente!\n"
          ]
        },
        {
          "name": "stderr",
          "output_type": "stream",
          "text": [
            "\rGenerating for OUTPUT-b2w_dev_reviewText_LLAMA_bm25-none_k4:  46%|████▌     | 1146/2500 [13:32<14:19,  1.57it/s]"
          ]
        },
        {
          "name": "stdout",
          "output_type": "stream",
          "text": [
            "Review text: Esta herramienta es increíblemente potente a pesar de su tamaño compacto. La facilidad de uso y la eficiencia que ofrece son impresionantes. Perfecta para quienes buscan rendimiento sin sacrificar espacio. La recomiendo totalmente para cualquier proyecto.\n"
          ]
        },
        {
          "name": "stderr",
          "output_type": "stream",
          "text": [
            "\rGenerating for OUTPUT-b2w_dev_reviewText_LLAMA_bm25-none_k4:  46%|████▌     | 1147/2500 [13:33<14:01,  1.61it/s]"
          ]
        },
        {
          "name": "stdout",
          "output_type": "stream",
          "text": [
            "Review text: Este produto superou minhas expectativas! A qualidade é excelente e ele funciona perfeitamente. Recomendo a todos que estão procurando por algo confiável e eficiente. Vale cada centavo!\n"
          ]
        },
        {
          "name": "stderr",
          "output_type": "stream",
          "text": [
            "\rGenerating for OUTPUT-b2w_dev_reviewText_LLAMA_bm25-none_k4:  46%|████▌     | 1148/2500 [13:33<13:14,  1.70it/s]"
          ]
        },
        {
          "name": "stdout",
          "output_type": "stream",
          "text": [
            "Review text: Este produto superou todas as minhas expectativas! A qualidade é excepcional e a performance é impecável. Recomendo a todos que buscam um item confiável e eficiente. Vale cada centavo!\n"
          ]
        },
        {
          "name": "stderr",
          "output_type": "stream",
          "text": [
            "\rGenerating for OUTPUT-b2w_dev_reviewText_LLAMA_bm25-none_k4:  46%|████▌     | 1149/2500 [13:34<12:59,  1.73it/s]"
          ]
        },
        {
          "name": "stdout",
          "output_type": "stream",
          "text": [
            "Review text: Esta é, sem dúvida, uma das melhores compras que já fiz! A qualidade do produto superou minhas expectativas e a funcionalidade é incrível. Recomendo a todos que buscam algo realmente especial. Estou completamente apaixonada!\n"
          ]
        },
        {
          "name": "stderr",
          "output_type": "stream",
          "text": [
            "\rGenerating for OUTPUT-b2w_dev_reviewText_LLAMA_bm25-none_k4:  46%|████▌     | 1150/2500 [13:35<12:43,  1.77it/s]"
          ]
        },
        {
          "name": "stdout",
          "output_type": "stream",
          "text": [
            "Review text: \"Essa peça é simplesmente encantadora! Além de ser bonita, seu tamanho compacto a torna perfeita para qualquer ambiente. A qualidade é excelente e combina com diversos estilos de decoração. Estou muito satisfeita com a minha compra!\"\n"
          ]
        },
        {
          "name": "stderr",
          "output_type": "stream",
          "text": [
            "\rGenerating for OUTPUT-b2w_dev_reviewText_LLAMA_bm25-none_k4:  46%|████▌     | 1151/2500 [13:35<11:46,  1.91it/s]"
          ]
        },
        {
          "name": "stdout",
          "output_type": "stream",
          "text": [
            "Review text: Este produto superou minhas expectativas! A qualidade é excepcional e a performance é incrível. Recomendo a todos que buscam algo realmente eficaz e confiável. Vale cada centavo!\n"
          ]
        },
        {
          "name": "stderr",
          "output_type": "stream",
          "text": [
            "\rGenerating for OUTPUT-b2w_dev_reviewText_LLAMA_bm25-none_k4:  46%|████▌     | 1152/2500 [13:35<11:46,  1.91it/s]"
          ]
        },
        {
          "name": "stdout",
          "output_type": "stream",
          "text": [
            "Review text: Excelente produto! Superou minhas expectativas em qualidade e desempenho. Recomendo a todos que buscam eficiência e durabilidade. Vale cada centavo!\n"
          ]
        },
        {
          "name": "stderr",
          "output_type": "stream",
          "text": [
            "\rGenerating for OUTPUT-b2w_dev_reviewText_LLAMA_bm25-none_k4:  46%|████▌     | 1153/2500 [13:36<13:07,  1.71it/s]"
          ]
        },
        {
          "name": "stdout",
          "output_type": "stream",
          "text": [
            "Review text: \"Esta é, sem dúvida, uma das melhores compras que já fiz! A qualidade do produto superou minhas expectativas e o desempenho é excepcional. Além disso, o design é lindo e se encaixa perfeitamente no meu estilo. Recomendo a todos que buscam algo realmente especial!\"\n"
          ]
        },
        {
          "name": "stderr",
          "output_type": "stream",
          "text": [
            "\rGenerating for OUTPUT-b2w_dev_reviewText_LLAMA_bm25-none_k4:  46%|████▌     | 1154/2500 [13:37<14:39,  1.53it/s]"
          ]
        },
        {
          "name": "stdout",
          "output_type": "stream",
          "text": [
            "Review text: Este produto superou minhas expectativas! A qualidade é excepcional e o desempenho é impressionante. Recomendo a todos que buscam algo confiável e eficiente. Vale cada centavo!\n"
          ]
        },
        {
          "name": "stderr",
          "output_type": "stream",
          "text": [
            "\rGenerating for OUTPUT-b2w_dev_reviewText_LLAMA_bm25-none_k4:  46%|████▌     | 1155/2500 [13:38<14:34,  1.54it/s]"
          ]
        },
        {
          "name": "stdout",
          "output_type": "stream",
          "text": [
            "Review text: \"Eu simplesmente adorei o produto! A qualidade é excepcional e atendeu todas as minhas expectativas. Recomendo a todos que estão em busca de algo realmente eficaz e confiável. Parabéns aos criadores!\"\n"
          ]
        },
        {
          "name": "stderr",
          "output_type": "stream",
          "text": [
            "\rGenerating for OUTPUT-b2w_dev_reviewText_LLAMA_bm25-none_k4:  46%|████▌     | 1156/2500 [13:38<14:09,  1.58it/s]"
          ]
        },
        {
          "name": "stdout",
          "output_type": "stream",
          "text": [
            "Review text: Este é um produto incrível! A qualidade é excelente e atendeu todas as minhas expectativas. Recomendo a todos que estão em busca de algo durável e eficiente. Vale cada centavo!\n"
          ]
        },
        {
          "name": "stderr",
          "output_type": "stream",
          "text": [
            "\rGenerating for OUTPUT-b2w_dev_reviewText_LLAMA_bm25-none_k4:  46%|████▋     | 1157/2500 [13:39<13:10,  1.70it/s]"
          ]
        },
        {
          "name": "stdout",
          "output_type": "stream",
          "text": [
            "Review text: \"I can't believe how amazing this product is! From the moment I started using it, I was blown away by its effectiveness. The quality is top-notch, and it exceeded all my expectations. Definitely a game changer in my routine. Highly recommend!\"\n"
          ]
        },
        {
          "name": "stderr",
          "output_type": "stream",
          "text": [
            "\rGenerating for OUTPUT-b2w_dev_reviewText_LLAMA_bm25-none_k4:  46%|████▋     | 1158/2500 [13:39<13:54,  1.61it/s]"
          ]
        },
        {
          "name": "stdout",
          "output_type": "stream",
          "text": [
            "Review text: Este produto superou todas as minhas expectativas! A qualidade é excepcional e ele funciona perfeitamente. Recomendo a todos que buscam um item confiável e eficiente. Vale cada centavo!\n"
          ]
        },
        {
          "name": "stderr",
          "output_type": "stream",
          "text": [
            "\rGenerating for OUTPUT-b2w_dev_reviewText_LLAMA_bm25-none_k4:  46%|████▋     | 1159/2500 [13:40<12:34,  1.78it/s]"
          ]
        },
        {
          "name": "stdout",
          "output_type": "stream",
          "text": [
            "Review text: Estou muito satisfeito com o produto! A qualidade é excelente e atendeu todas as minhas expectativas. Recomendo a todos que estão em dúvida. Vale cada centavo!\n"
          ]
        },
        {
          "name": "stderr",
          "output_type": "stream",
          "text": [
            "\rGenerating for OUTPUT-b2w_dev_reviewText_LLAMA_bm25-none_k4:  46%|████▋     | 1160/2500 [13:40<12:54,  1.73it/s]"
          ]
        },
        {
          "name": "stdout",
          "output_type": "stream",
          "text": [
            "Review text: Esta é uma excelente escolha! A qualidade do produto superou minhas expectativas e atendeu a todas as minhas necessidades. Recomendo a todos que buscam algo confiável e eficiente. Muito satisfeito com a compra!\n"
          ]
        },
        {
          "name": "stderr",
          "output_type": "stream",
          "text": [
            "\rGenerating for OUTPUT-b2w_dev_reviewText_LLAMA_bm25-none_k4:  46%|████▋     | 1161/2500 [13:41<12:39,  1.76it/s]"
          ]
        },
        {
          "name": "stdout",
          "output_type": "stream",
          "text": [
            "Review text: Este produto superou minhas expectativas! A qualidade é excelente e funciona perfeitamente para o que eu precisava. Recomendo a todos que buscam um bom investimento. Vale cada centavo!\n"
          ]
        },
        {
          "name": "stderr",
          "output_type": "stream",
          "text": [
            "\rGenerating for OUTPUT-b2w_dev_reviewText_LLAMA_bm25-none_k4:  46%|████▋     | 1162/2500 [13:42<13:17,  1.68it/s]"
          ]
        },
        {
          "name": "stdout",
          "output_type": "stream",
          "text": [
            "Review text: \"Comprei este produto e fiquei muito satisfeita! A qualidade é excelente e o meu bebê adora. Ele se sente confortável e seguro, o que é o mais importante para mim. Recomendo a todos os pais que buscam algo que realmente funcione e que seus pequenos vão gostar!\"\n"
          ]
        },
        {
          "name": "stderr",
          "output_type": "stream",
          "text": [
            "\rGenerating for OUTPUT-b2w_dev_reviewText_LLAMA_bm25-none_k4:  47%|████▋     | 1163/2500 [13:42<12:51,  1.73it/s]"
          ]
        },
        {
          "name": "stdout",
          "output_type": "stream",
          "text": [
            "Review text: Este producto superó mis expectativas. La calidad es excepcional y funciona a la perfección. Definitivamente lo recomendaría a otros. ¡Una compra excelente!\n"
          ]
        },
        {
          "name": "stderr",
          "output_type": "stream",
          "text": [
            "\rGenerating for OUTPUT-b2w_dev_reviewText_LLAMA_bm25-none_k4:  47%|████▋     | 1164/2500 [13:43<12:39,  1.76it/s]"
          ]
        },
        {
          "name": "stdout",
          "output_type": "stream",
          "text": [
            "Review text: \"Estou extremamente satisfeita com o produto! A qualidade é excelente e atendeu todas as minhas expectativas. Além disso, a entrega foi rápida e o atendimento ao cliente foi impecável. Com certeza, recomendo a todos que estão em dúvida!\"\n"
          ]
        },
        {
          "name": "stderr",
          "output_type": "stream",
          "text": [
            "\rGenerating for OUTPUT-b2w_dev_reviewText_LLAMA_bm25-none_k4:  47%|████▋     | 1165/2500 [13:43<12:57,  1.72it/s]"
          ]
        },
        {
          "name": "stdout",
          "output_type": "stream",
          "text": [
            "Review text: Este produto superou minhas expectativas! A qualidade é excepcional e o desempenho é impecável. Recomendo a todos que buscam um item confiável e eficiente. Vale cada centavo!\n"
          ]
        },
        {
          "name": "stderr",
          "output_type": "stream",
          "text": [
            "\rGenerating for OUTPUT-b2w_dev_reviewText_LLAMA_bm25-none_k4:  47%|████▋     | 1166/2500 [13:44<13:43,  1.62it/s]"
          ]
        },
        {
          "name": "stdout",
          "output_type": "stream",
          "text": [
            "Review text: Este produto superou minhas expectativas! A qualidade é excelente e o desempenho é notável. Recomendo a todos que buscam um item confiável e eficaz. Estou muito satisfeito com minha compra!\n"
          ]
        },
        {
          "name": "stderr",
          "output_type": "stream",
          "text": [
            "\rGenerating for OUTPUT-b2w_dev_reviewText_LLAMA_bm25-none_k4:  47%|████▋     | 1167/2500 [13:45<13:24,  1.66it/s]"
          ]
        },
        {
          "name": "stdout",
          "output_type": "stream",
          "text": [
            "Review text: \"Comprei este produto recentemente e fiquei muito satisfeito com a qualidade. Ele atendeu todas as minhas expectativas e funcionou perfeitamente. Recomendo a todos que estão em busca de algo eficiente e confiável!\"\n"
          ]
        },
        {
          "name": "stderr",
          "output_type": "stream",
          "text": [
            "\rGenerating for OUTPUT-b2w_dev_reviewText_LLAMA_bm25-none_k4:  47%|████▋     | 1168/2500 [13:53<1:04:21,  2.90s/it]"
          ]
        },
        {
          "name": "stdout",
          "output_type": "stream",
          "text": [
            "Review text: A cadeirinha é simplesmente fantástica! O conforto é excepcional e a segurança é uma prioridade evidente. Meu filho adora ficar sentado nela, e eu me sinto tranquila sabendo que ele está bem protegido. O design é moderno e fácil de instalar. Recomendo a todos os pais que buscam qualidade e praticidade!\n"
          ]
        },
        {
          "name": "stderr",
          "output_type": "stream",
          "text": [
            "\rGenerating for OUTPUT-b2w_dev_reviewText_LLAMA_bm25-none_k4:  47%|████▋     | 1169/2500 [13:54<49:16,  2.22s/it]  "
          ]
        },
        {
          "name": "stdout",
          "output_type": "stream",
          "text": [
            "Review text: \"Desde que comprei este produto, minha vida mudou para melhor! A qualidade é excepcional e a funcionalidade supera todas as minhas expectativas. Já estou me perguntando por que esperei tanto para adquiri-lo. Recomendo a todos que ainda estão em dúvida!\"\n"
          ]
        },
        {
          "name": "stderr",
          "output_type": "stream",
          "text": [
            "\rGenerating for OUTPUT-b2w_dev_reviewText_LLAMA_bm25-none_k4:  47%|████▋     | 1170/2500 [13:54<38:58,  1.76s/it]"
          ]
        },
        {
          "name": "stdout",
          "output_type": "stream",
          "text": [
            "Review text: Este produto superou minhas expectativas! A qualidade é excelente e o desempenho é notável. Recomendo a todos que buscam algo eficaz e confiável. Vale cada centavo!\n"
          ]
        },
        {
          "name": "stderr",
          "output_type": "stream",
          "text": [
            "\rGenerating for OUTPUT-b2w_dev_reviewText_LLAMA_bm25-none_k4:  47%|████▋     | 1171/2500 [13:55<31:49,  1.44s/it]"
          ]
        },
        {
          "name": "stdout",
          "output_type": "stream",
          "text": [
            "Review text: \"Comprei este produto recentemente e fiquei extremamente satisfeito. A qualidade é excelente e atendeu todas as minhas expectativas. Além disso, a entrega foi rápida e o atendimento ao cliente foi muito atencioso. Recomendo a todos que estão em dúvida!\"\n"
          ]
        },
        {
          "name": "stderr",
          "output_type": "stream",
          "text": [
            "\rGenerating for OUTPUT-b2w_dev_reviewText_LLAMA_bm25-none_k4:  47%|████▋     | 1172/2500 [13:55<25:45,  1.16s/it]"
          ]
        },
        {
          "name": "stdout",
          "output_type": "stream",
          "text": [
            "Review text: Este produto superou minhas expectativas! A qualidade é excelente e o desempenho é notável. Recomendo a todos que buscam um item confiável e eficiente. Vale cada centavo!\n"
          ]
        },
        {
          "name": "stderr",
          "output_type": "stream",
          "text": [
            "\rGenerating for OUTPUT-b2w_dev_reviewText_LLAMA_bm25-none_k4:  47%|████▋     | 1173/2500 [13:56<20:51,  1.06it/s]"
          ]
        },
        {
          "name": "stdout",
          "output_type": "stream",
          "text": [
            "Review text: Este producto superó mis expectativas. La calidad es excepcional y funciona a la perfección. Definitivamente lo recomendaría a otros. ¡Excelente compra!\n"
          ]
        },
        {
          "name": "stderr",
          "output_type": "stream",
          "text": [
            "\rGenerating for OUTPUT-b2w_dev_reviewText_LLAMA_bm25-none_k4:  47%|████▋     | 1174/2500 [13:57<19:00,  1.16it/s]"
          ]
        },
        {
          "name": "stdout",
          "output_type": "stream",
          "text": [
            "Review text: \"A cadeira é simplesmente maravilhosa! O design é elegante e combina perfeitamente com a decoração da minha sala. Além disso, é super confortável e de ótima qualidade. Recomendo a todos que buscam um toque especial para o ambiente!\"\n"
          ]
        },
        {
          "name": "stderr",
          "output_type": "stream",
          "text": [
            "\rGenerating for OUTPUT-b2w_dev_reviewText_LLAMA_bm25-none_k4:  47%|████▋     | 1175/2500 [13:57<16:28,  1.34it/s]"
          ]
        },
        {
          "name": "stdout",
          "output_type": "stream",
          "text": [
            "Review text: Estou extremamente satisfeito com este produto! A qualidade superou minhas expectativas e o desempenho é excepcional. Recomendo a todos que buscam um ótimo custo-benefício. Uma compra que valeu a pena!\n"
          ]
        },
        {
          "name": "stderr",
          "output_type": "stream",
          "text": [
            "\rGenerating for OUTPUT-b2w_dev_reviewText_LLAMA_bm25-none_k4:  47%|████▋     | 1176/2500 [13:58<15:45,  1.40it/s]"
          ]
        },
        {
          "name": "stdout",
          "output_type": "stream",
          "text": [
            "Review text: \"Estou completamente apaixonada por este produto! A qualidade é excepcional e atendeu todas as minhas expectativas. Recomendo a todos que estão em busca de algo realmente bom. Vale cada centavo!\"\n"
          ]
        },
        {
          "name": "stderr",
          "output_type": "stream",
          "text": [
            "\rGenerating for OUTPUT-b2w_dev_reviewText_LLAMA_bm25-none_k4:  47%|████▋     | 1177/2500 [13:58<14:47,  1.49it/s]"
          ]
        },
        {
          "name": "stdout",
          "output_type": "stream",
          "text": [
            "Review text: Este produto realmente superou minhas expectativas! É prático e fácil de usar, tornando meu dia a dia muito mais eficiente. A qualidade é excelente e vale cada centavo. Recomendo a todos que buscam uma solução rápida e eficaz. Uma verdadeira mão na roda!\n"
          ]
        },
        {
          "name": "stderr",
          "output_type": "stream",
          "text": [
            "\rGenerating for OUTPUT-b2w_dev_reviewText_LLAMA_bm25-none_k4:  47%|████▋     | 1178/2500 [13:59<14:11,  1.55it/s]"
          ]
        },
        {
          "name": "stdout",
          "output_type": "stream",
          "text": [
            "Review text: \"Estou realmente impressionado com a qualidade deste produto! Ele superou minhas expectativas em todos os aspectos. O desempenho é excelente e a durabilidade parece ser incrível. Além disso, o design é muito bonito e funcional. Sem dúvida, recomendo a todos que estão pensando em adquirir algo semelhante. Vale cada centavo!\"\n"
          ]
        },
        {
          "name": "stderr",
          "output_type": "stream",
          "text": [
            "\rGenerating for OUTPUT-b2w_dev_reviewText_LLAMA_bm25-none_k4:  47%|████▋     | 1179/2500 [13:59<14:09,  1.55it/s]"
          ]
        },
        {
          "name": "stdout",
          "output_type": "stream",
          "text": [
            "Review text: \"Comprei este produto recentemente e fiquei completamente encantada! A qualidade é excepcional e superou minhas expectativas. Além disso, a entrega foi rápida e o atendimento ao cliente foi muito atencioso. Recomendo a todos que estão em dúvida, pois vale cada centavo!\"\n"
          ]
        },
        {
          "name": "stderr",
          "output_type": "stream",
          "text": [
            "\rGenerating for OUTPUT-b2w_dev_reviewText_LLAMA_bm25-none_k4:  47%|████▋     | 1180/2500 [14:00<13:38,  1.61it/s]"
          ]
        },
        {
          "name": "stdout",
          "output_type": "stream",
          "text": [
            "Review text: Amei has truly exceeded my expectations! The quality is outstanding, and it feels incredibly durable. I love the design; it’s both stylish and functional. Using it has made my daily routine so much easier. Highly recommend to anyone looking for a reliable product!\n"
          ]
        },
        {
          "name": "stderr",
          "output_type": "stream",
          "text": [
            "\rGenerating for OUTPUT-b2w_dev_reviewText_LLAMA_bm25-none_k4:  47%|████▋     | 1181/2500 [14:01<14:42,  1.49it/s]"
          ]
        },
        {
          "name": "stdout",
          "output_type": "stream",
          "text": [
            "Review text: Eu realmente gostei muito do produto! A qualidade é excelente e atendeu todas as minhas expectativas. Além disso, a entrega foi rápida e o atendimento ao cliente foi muito atencioso. Recomendo a todos que estão em busca de algo similar!\n"
          ]
        },
        {
          "name": "stderr",
          "output_type": "stream",
          "text": [
            "\rGenerating for OUTPUT-b2w_dev_reviewText_LLAMA_bm25-none_k4:  47%|████▋     | 1182/2500 [14:01<14:34,  1.51it/s]"
          ]
        },
        {
          "name": "stdout",
          "output_type": "stream",
          "text": [
            "Review text: \"I found the product to be quite average. It does the job, but nothing about it stands out. The quality is decent, but I've seen better options available. If you're looking for something basic, this might work for you, but I wouldn't recommend it if you want something exceptional.\"\n"
          ]
        },
        {
          "name": "stderr",
          "output_type": "stream",
          "text": [
            "\rGenerating for OUTPUT-b2w_dev_reviewText_LLAMA_bm25-none_k4:  47%|████▋     | 1183/2500 [14:02<13:16,  1.65it/s]"
          ]
        },
        {
          "name": "stdout",
          "output_type": "stream",
          "text": [
            "Review text: This product exceeded all my expectations! The quality is outstanding, and it performs flawlessly. I couldn't be happier with my purchase. Highly recommend to anyone considering it!\n"
          ]
        },
        {
          "name": "stderr",
          "output_type": "stream",
          "text": [
            "\rGenerating for OUTPUT-b2w_dev_reviewText_LLAMA_bm25-none_k4:  47%|████▋     | 1184/2500 [14:02<11:51,  1.85it/s]"
          ]
        },
        {
          "name": "stdout",
          "output_type": "stream",
          "text": [
            "Review text: Este produto apresentou um defeito logo na primeira semana de uso. A qualidade não atendeu às minhas expectativas e fiquei bastante desapontado. Não recomendo.\n"
          ]
        },
        {
          "name": "stderr",
          "output_type": "stream",
          "text": [
            "\rGenerating for OUTPUT-b2w_dev_reviewText_LLAMA_bm25-none_k4:  47%|████▋     | 1185/2500 [14:03<12:31,  1.75it/s]"
          ]
        },
        {
          "name": "stdout",
          "output_type": "stream",
          "text": [
            "Review text: Este producto no cumplió con mis expectativas. La calidad es inferior y parece más un imitador que el original. Definitivamente no lo recomendaría a nadie que busque algo auténtico.\n"
          ]
        },
        {
          "name": "stderr",
          "output_type": "stream",
          "text": [
            "\rGenerating for OUTPUT-b2w_dev_reviewText_LLAMA_bm25-none_k4:  47%|████▋     | 1186/2500 [14:03<12:08,  1.80it/s]"
          ]
        },
        {
          "name": "stdout",
          "output_type": "stream",
          "text": [
            "Review text: \"Infelizmente, tive um problema sério na formatação do produto. As instruções não eram claras e acabei perdendo muito tempo tentando ajustar tudo. Espero que melhorem essa parte, pois o restante do produto parece promissor.\"\n"
          ]
        },
        {
          "name": "stderr",
          "output_type": "stream",
          "text": [
            "\rGenerating for OUTPUT-b2w_dev_reviewText_LLAMA_bm25-none_k4:  47%|████▋     | 1187/2500 [14:04<13:07,  1.67it/s]"
          ]
        },
        {
          "name": "stdout",
          "output_type": "stream",
          "text": [
            "Review text: Este produto é claramente falsificado. A qualidade é inferior e não corresponde à descrição. Senti que foi um desperdício de dinheiro e não recomendo a ninguém. Cuidado ao comprar!\n"
          ]
        },
        {
          "name": "stderr",
          "output_type": "stream",
          "text": [
            "\rGenerating for OUTPUT-b2w_dev_reviewText_LLAMA_bm25-none_k4:  48%|████▊     | 1188/2500 [14:05<12:57,  1.69it/s]"
          ]
        },
        {
          "name": "stdout",
          "output_type": "stream",
          "text": [
            "Review text: Infelizmente, até o momento não recebi o produto que comprei. Estou bastante desapontado com a demora na entrega e espero que a situação seja resolvida em breve.\n"
          ]
        },
        {
          "name": "stderr",
          "output_type": "stream",
          "text": [
            "\rGenerating for OUTPUT-b2w_dev_reviewText_LLAMA_bm25-none_k4:  48%|████▊     | 1189/2500 [14:05<12:28,  1.75it/s]"
          ]
        },
        {
          "name": "stdout",
          "output_type": "stream",
          "text": [
            "Review text: Este produto simplesmente não funciona como prometido. Tentei várias vezes, mas não obtive os resultados esperados. Muito decepcionante e não recomendo.\n"
          ]
        },
        {
          "name": "stderr",
          "output_type": "stream",
          "text": [
            "\rGenerating for OUTPUT-b2w_dev_reviewText_LLAMA_bm25-none_k4:  48%|████▊     | 1190/2500 [14:06<12:46,  1.71it/s]"
          ]
        },
        {
          "name": "stdout",
          "output_type": "stream",
          "text": [
            "Review text: \"I was really disappointed with this pen drive. It turned out to be a counterfeit product. The storage capacity was far less than advertised, and it frequently failed to transfer files properly. I expected better quality and reliability. Definitely not worth the money!\"\n"
          ]
        },
        {
          "name": "stderr",
          "output_type": "stream",
          "text": [
            "\rGenerating for OUTPUT-b2w_dev_reviewText_LLAMA_bm25-none_k4:  48%|████▊     | 1191/2500 [14:06<12:21,  1.77it/s]"
          ]
        },
        {
          "name": "stdout",
          "output_type": "stream",
          "text": [
            "Review text: Este produto superou minhas expectativas! A qualidade é excelente e o desempenho é notável. Recomendo a todos que buscam algo eficaz e confiável. Vale cada centavo!\n"
          ]
        },
        {
          "name": "stderr",
          "output_type": "stream",
          "text": [
            "\rGenerating for OUTPUT-b2w_dev_reviewText_LLAMA_bm25-none_k4:  48%|████▊     | 1192/2500 [14:10<30:17,  1.39s/it]"
          ]
        },
        {
          "name": "stdout",
          "output_type": "stream",
          "text": [
            "Review text: \"Este producto superó mis expectativas. La calidad es excepcional y funciona a la perfección. Definitivamente lo recomendaría a cualquiera que busque algo confiable y duradero. ¡Estoy muy satisfecho con mi compra!\"\n"
          ]
        },
        {
          "name": "stderr",
          "output_type": "stream",
          "text": [
            "\rGenerating for OUTPUT-b2w_dev_reviewText_LLAMA_bm25-none_k4:  48%|████▊     | 1193/2500 [14:10<25:06,  1.15s/it]"
          ]
        },
        {
          "name": "stdout",
          "output_type": "stream",
          "text": [
            "Review text: Estou muito satisfeito com o produto! Ele atendeu todas as minhas expectativas e a qualidade é excelente. Recomendo a todos que estão em busca de algo semelhante. Com certeza, voltarei a comprar.\n"
          ]
        },
        {
          "name": "stderr",
          "output_type": "stream",
          "text": [
            "\rGenerating for OUTPUT-b2w_dev_reviewText_LLAMA_bm25-none_k4:  48%|████▊     | 1194/2500 [14:11<24:31,  1.13s/it]"
          ]
        },
        {
          "name": "stdout",
          "output_type": "stream",
          "text": [
            "Review text: \"Comprei um pendrive online e a experiência foi frustrante. O produto chegou com problemas e a qualidade não era a esperada. Infelizmente, não consegui resolver a situação facilmente. Por isso, recomendo que só comprem pendrives em lojas físicas, onde é possível verificar a qualidade e ter um atendimento mais eficiente.\"\n"
          ]
        },
        {
          "name": "stderr",
          "output_type": "stream",
          "text": [
            "\rGenerating for OUTPUT-b2w_dev_reviewText_LLAMA_bm25-none_k4:  48%|████▊     | 1195/2500 [14:12<20:25,  1.07it/s]"
          ]
        },
        {
          "name": "stdout",
          "output_type": "stream",
          "text": [
            "Review text: Este producto es un total engaño. La calidad es inferior y no cumple con lo que promete. Me siento decepcionado por haberlo comprado. No lo recomendaría a nadie.\n"
          ]
        },
        {
          "name": "stderr",
          "output_type": "stream",
          "text": [
            "\rGenerating for OUTPUT-b2w_dev_reviewText_LLAMA_bm25-none_k4:  48%|████▊     | 1196/2500 [14:12<17:38,  1.23it/s]"
          ]
        },
        {
          "name": "stdout",
          "output_type": "stream",
          "text": [
            "Review text: Este produto superou todas as minhas expectativas! A qualidade é excepcional e ele funciona perfeitamente. Recomendo a todos que buscam um item confiável e eficiente. Vale cada centavo!\n"
          ]
        },
        {
          "name": "stderr",
          "output_type": "stream",
          "text": [
            "\rGenerating for OUTPUT-b2w_dev_reviewText_LLAMA_bm25-none_k4:  48%|████▊     | 1197/2500 [14:13<15:34,  1.39it/s]"
          ]
        },
        {
          "name": "stdout",
          "output_type": "stream",
          "text": [
            "Review text: Este produto realmente cumpre o que promete! A qualidade é excelente e atendeu todas as minhas expectativas. Recomendo a todos que buscam um item confiável e eficiente. Vale cada centavo!\n"
          ]
        },
        {
          "name": "stderr",
          "output_type": "stream",
          "text": [
            "\rGenerating for OUTPUT-b2w_dev_reviewText_LLAMA_bm25-none_k4:  48%|████▊     | 1198/2500 [14:14<15:45,  1.38it/s]"
          ]
        },
        {
          "name": "stdout",
          "output_type": "stream",
          "text": [
            "Review text: I recently purchased the PenDrive SanDisk and I couldn't be happier with my choice! The transfer speeds are incredibly fast, making it easy to move large files without any hassle. The design is sleek and compact, which makes it convenient to carry around. I appreciate the durability of the product; it feels sturdy and well-made. Overall, this PenDrive has exceeded my expectations and I highly recommend it to anyone in need of reliable storage!\n"
          ]
        },
        {
          "name": "stderr",
          "output_type": "stream",
          "text": [
            "\rGenerating for OUTPUT-b2w_dev_reviewText_LLAMA_bm25-none_k4:  48%|████▊     | 1199/2500 [14:14<13:51,  1.56it/s]"
          ]
        },
        {
          "name": "stdout",
          "output_type": "stream",
          "text": [
            "Review text: Não gostei do produto. A qualidade deixou a desejar e não atendeu às minhas expectativas. Infelizmente, não recomendo.\n"
          ]
        },
        {
          "name": "stderr",
          "output_type": "stream",
          "text": [
            "\rGenerating for OUTPUT-b2w_dev_reviewText_LLAMA_bm25-none_k4:  48%|████▊     | 1200/2500 [14:15<15:07,  1.43it/s]"
          ]
        },
        {
          "name": "stdout",
          "output_type": "stream",
          "text": [
            "Review text: \"Comprei este produto recentemente e estou muito satisfeito. A qualidade é excelente e atendeu todas as minhas expectativas. Recomendo a todos que estão em busca de algo confiável e eficiente!\"\n"
          ]
        },
        {
          "name": "stderr",
          "output_type": "stream",
          "text": [
            "\rGenerating for OUTPUT-b2w_dev_reviewText_LLAMA_bm25-none_k4:  48%|████▊     | 1201/2500 [14:15<14:21,  1.51it/s]"
          ]
        },
        {
          "name": "stdout",
          "output_type": "stream",
          "text": [
            "Review text: Infelizmente, o produto não atendeu às minhas expectativas. A qualidade não é boa e não funcionou como eu esperava. Senti que foi um desperdício de dinheiro e não recomendo.\n"
          ]
        },
        {
          "name": "stderr",
          "output_type": "stream",
          "text": [
            "\rGenerating for OUTPUT-b2w_dev_reviewText_LLAMA_bm25-none_k4:  48%|████▊     | 1202/2500 [14:16<13:18,  1.62it/s]"
          ]
        },
        {
          "name": "stdout",
          "output_type": "stream",
          "text": [
            "Review text: Este produto superou minhas expectativas! A qualidade é excepcional e a performance é impecável. Recomendo a todos que buscam algo confiável e eficiente. Vale cada centavo!\n"
          ]
        },
        {
          "name": "stderr",
          "output_type": "stream",
          "text": [
            "\rGenerating for OUTPUT-b2w_dev_reviewText_LLAMA_bm25-none_k4:  48%|████▊     | 1203/2500 [14:17<12:57,  1.67it/s]"
          ]
        },
        {
          "name": "stdout",
          "output_type": "stream",
          "text": [
            "Review text: Este produto superou minhas expectativas! A qualidade é excelente e a performance é incrível. Recomendo a todos que buscam algo confiável e eficiente. Vale cada centavo!\n"
          ]
        },
        {
          "name": "stderr",
          "output_type": "stream",
          "text": [
            "\rGenerating for OUTPUT-b2w_dev_reviewText_LLAMA_bm25-none_k4:  48%|████▊     | 1204/2500 [14:17<12:37,  1.71it/s]"
          ]
        },
        {
          "name": "stdout",
          "output_type": "stream",
          "text": [
            "Review text: \"Este produto superou minhas expectativas! A qualidade é excelente e o desempenho é impecável. Recomendo a todos que buscam algo eficaz e confiável. Vale cada centavo!\"\n"
          ]
        },
        {
          "name": "stderr",
          "output_type": "stream",
          "text": [
            "\rGenerating for OUTPUT-b2w_dev_reviewText_LLAMA_bm25-none_k4:  48%|████▊     | 1205/2500 [14:18<12:36,  1.71it/s]"
          ]
        },
        {
          "name": "stdout",
          "output_type": "stream",
          "text": [
            "Review text: Este produto atendeu todas as minhas expectativas! A qualidade é excelente e cumpre o que promete. Estou muito satisfeito com a compra e recomendo a todos que buscam algo similar. Vale cada centavo!\n"
          ]
        },
        {
          "name": "stderr",
          "output_type": "stream",
          "text": [
            "\rGenerating for OUTPUT-b2w_dev_reviewText_LLAMA_bm25-none_k4:  48%|████▊     | 1206/2500 [14:18<11:40,  1.85it/s]"
          ]
        },
        {
          "name": "stdout",
          "output_type": "stream",
          "text": [
            "Review text: \"Infelizmente, após apenas dois dias de uso, o produto apresentou um defeito. Fiquei bastante decepcionado, pois esperava uma qualidade melhor. Não recomendo.\"\n"
          ]
        },
        {
          "name": "stderr",
          "output_type": "stream",
          "text": [
            "\rGenerating for OUTPUT-b2w_dev_reviewText_LLAMA_bm25-none_k4:  48%|████▊     | 1207/2500 [14:19<12:49,  1.68it/s]"
          ]
        },
        {
          "name": "stdout",
          "output_type": "stream",
          "text": [
            "Review text: Este produto realmente superou minhas expectativas! A potência é impressionante e faz com que todas as tarefas sejam concluídas rapidamente. Além disso, a qualidade de construção é excelente, o que me dá confiança de que vai durar bastante. Recomendo para quem busca eficiência e desempenho!\n"
          ]
        },
        {
          "name": "stderr",
          "output_type": "stream",
          "text": [
            "\rGenerating for OUTPUT-b2w_dev_reviewText_LLAMA_bm25-none_k4:  48%|████▊     | 1208/2500 [14:19<12:18,  1.75it/s]"
          ]
        },
        {
          "name": "stdout",
          "output_type": "stream",
          "text": [
            "Review text: Estou muito satisfeito com este produto! Ele realmente atende a todas as minhas expectativas e cumpre o que promete. A qualidade é excelente e o desempenho é impressionante. Recomendo a todos que buscam algo confiável e eficiente. Vale cada centavo!\n"
          ]
        },
        {
          "name": "stderr",
          "output_type": "stream",
          "text": [
            "\rGenerating for OUTPUT-b2w_dev_reviewText_LLAMA_bm25-none_k4:  48%|████▊     | 1209/2500 [14:20<12:37,  1.70it/s]"
          ]
        },
        {
          "name": "stdout",
          "output_type": "stream",
          "text": [
            "Review text: \"Comprei este produto e fiquei muito satisfeito com o custo-benefício. A qualidade é excelente e atendeu todas as minhas expectativas. Recomendo para quem busca algo acessível e eficiente!\"\n"
          ]
        },
        {
          "name": "stderr",
          "output_type": "stream",
          "text": [
            "\rGenerating for OUTPUT-b2w_dev_reviewText_LLAMA_bm25-none_k4:  48%|████▊     | 1210/2500 [14:21<12:36,  1.71it/s]"
          ]
        },
        {
          "name": "stdout",
          "output_type": "stream",
          "text": [
            "Review text: \"Absolutely love this product! It exceeded my expectations in quality and performance. I would highly recommend it to anyone looking for something reliable and effective. Definitely worth the investment!\"\n"
          ]
        },
        {
          "name": "stderr",
          "output_type": "stream",
          "text": [
            "\rGenerating for OUTPUT-b2w_dev_reviewText_LLAMA_bm25-none_k4:  48%|████▊     | 1211/2500 [14:21<11:51,  1.81it/s]"
          ]
        },
        {
          "name": "stdout",
          "output_type": "stream",
          "text": [
            "Review text: \"Este producto superó mis expectativas. Su rendimiento es excepcional y ha hecho mi vida mucho más fácil. Lo recomiendo sin dudarlo.\"\n"
          ]
        },
        {
          "name": "stderr",
          "output_type": "stream",
          "text": [
            "\rGenerating for OUTPUT-b2w_dev_reviewText_LLAMA_bm25-none_k4:  48%|████▊     | 1212/2500 [14:22<13:42,  1.57it/s]"
          ]
        },
        {
          "name": "stdout",
          "output_type": "stream",
          "text": [
            "Review text: \"Se você ama churrasco, este produto é um sonho realizado! A qualidade da carne é excepcional e o tempero é perfeito. Fizemos churrasco todos os dias e cada refeição foi uma festa. A textura e o sabor são incomparáveis. Recomendo a todos que apreciam um bom churrasquinho!\"\n"
          ]
        },
        {
          "name": "stderr",
          "output_type": "stream",
          "text": [
            "\rGenerating for OUTPUT-b2w_dev_reviewText_LLAMA_bm25-none_k4:  49%|████▊     | 1213/2500 [14:22<12:18,  1.74it/s]"
          ]
        },
        {
          "name": "stdout",
          "output_type": "stream",
          "text": [
            "Review text: \"Estou muito satisfeito com a qualidade e a funcionalidade deste produto. Atendeu todas as minhas expectativas e é exatamente o que eu precisava. Recomendo a todos!\"\n"
          ]
        },
        {
          "name": "stderr",
          "output_type": "stream",
          "text": [
            "\rGenerating for OUTPUT-b2w_dev_reviewText_LLAMA_bm25-none_k4:  49%|████▊     | 1214/2500 [14:23<13:15,  1.62it/s]"
          ]
        },
        {
          "name": "stdout",
          "output_type": "stream",
          "text": [
            "Review text: Este produto realmente atende a todas as minhas necessidades. A qualidade é excelente e a funcionalidade é perfeita para o que eu procurava. Recomendo a todos que buscam algo prático e eficiente!\n"
          ]
        },
        {
          "name": "stderr",
          "output_type": "stream",
          "text": [
            "\rGenerating for OUTPUT-b2w_dev_reviewText_LLAMA_bm25-none_k4:  49%|████▊     | 1215/2500 [14:24<13:40,  1.57it/s]"
          ]
        },
        {
          "name": "stdout",
          "output_type": "stream",
          "text": [
            "Review text: \"Este produto superou todas as minhas expectativas! A qualidade é excelente e o desempenho é incrível. Recomendo a todos que estão em busca de algo realmente eficaz. Vale cada centavo!\"\n"
          ]
        },
        {
          "name": "stderr",
          "output_type": "stream",
          "text": [
            "\rGenerating for OUTPUT-b2w_dev_reviewText_LLAMA_bm25-none_k4:  49%|████▊     | 1216/2500 [14:24<13:47,  1.55it/s]"
          ]
        },
        {
          "name": "stdout",
          "output_type": "stream",
          "text": [
            "Review text: \"Comprei um produto incrível na Americanas e não poderia estar mais satisfeito! A entrega foi rápida e o atendimento ao cliente foi excepcional. A qualidade do produto superou minhas expectativas. Parabéns, Americanas, por oferecer sempre ótimas opções e um serviço de primeira! Recomendo a todos!\"\n"
          ]
        },
        {
          "name": "stderr",
          "output_type": "stream",
          "text": [
            "\rGenerating for OUTPUT-b2w_dev_reviewText_LLAMA_bm25-none_k4:  49%|████▊     | 1217/2500 [14:25<13:58,  1.53it/s]"
          ]
        },
        {
          "name": "stdout",
          "output_type": "stream",
          "text": [
            "Review text: Este regulador de temperatura es un desastre. Después de usarlo solo unas pocas veces, comenzó a derretirse y a fallar. No puedo confiar en un producto que no mantiene su integridad. Definitivamente no lo recomendaría.\n"
          ]
        },
        {
          "name": "stderr",
          "output_type": "stream",
          "text": [
            "\rGenerating for OUTPUT-b2w_dev_reviewText_LLAMA_bm25-none_k4:  49%|████▊     | 1218/2500 [14:26<13:14,  1.61it/s]"
          ]
        },
        {
          "name": "stdout",
          "output_type": "stream",
          "text": [
            "Review text: A churrasqueira é realmente uma ótima opção! A qualidade do material é excelente e o design é muito prático. O aquecimento é uniforme, o que garante um churrasco perfeito. Além disso, a facilidade de limpeza é um grande diferencial. Recomendo para quem ama um bom churrasco!\n"
          ]
        },
        {
          "name": "stderr",
          "output_type": "stream",
          "text": [
            "\rGenerating for OUTPUT-b2w_dev_reviewText_LLAMA_bm25-none_k4:  49%|████▉     | 1219/2500 [14:27<17:13,  1.24it/s]"
          ]
        },
        {
          "name": "stdout",
          "output_type": "stream",
          "text": [
            "Review text: A churrasqueira é realmente prática e fácil de manusear. O design é intuitivo, permitindo que eu a monte e desmonte rapidamente, o que é perfeito para quem tem pouco espaço. A grelha aquece de maneira uniforme, garantindo que a carne fique suculenta e bem cozida. Além disso, a limpeza é super simples, o que é um grande ponto positivo. Recomendo para quem busca uma opção eficiente e sem complicações!\n"
          ]
        },
        {
          "name": "stderr",
          "output_type": "stream",
          "text": [
            "\rGenerating for OUTPUT-b2w_dev_reviewText_LLAMA_bm25-none_k4:  49%|████▉     | 1220/2500 [14:28<16:38,  1.28it/s]"
          ]
        },
        {
          "name": "stdout",
          "output_type": "stream",
          "text": [
            "Review text: Este produto superou minhas expectativas! A qualidade é excelente e ele funciona perfeitamente. Estou muito satisfeito com a compra e recomendo a todos que buscam um item confiável e eficiente. Vale cada centavo!\n"
          ]
        },
        {
          "name": "stderr",
          "output_type": "stream",
          "text": [
            "\rGenerating for OUTPUT-b2w_dev_reviewText_LLAMA_bm25-none_k4:  49%|████▉     | 1221/2500 [14:28<14:52,  1.43it/s]"
          ]
        },
        {
          "name": "stdout",
          "output_type": "stream",
          "text": [
            "Review text: Este produto superou minhas expectativas! A qualidade é excelente e a performance é impecável. Recomendo a todos que buscam um item confiável e eficiente. Vale cada centavo!\n"
          ]
        },
        {
          "name": "stderr",
          "output_type": "stream",
          "text": [
            "\rGenerating for OUTPUT-b2w_dev_reviewText_LLAMA_bm25-none_k4:  49%|████▉     | 1222/2500 [14:29<15:26,  1.38it/s]"
          ]
        },
        {
          "name": "stdout",
          "output_type": "stream",
          "text": [
            "Review text: \"Amei a minha nova churrasqueira! O design é incrível e a qualidade dos materiais é excepcional. Grelha uniformemente, e a fumaça é bem controlada, o que torna o churrasco muito mais agradável. Já fiz várias refeições com amigos e todos adoraram! Recomendo para quem ama um bom churrasco.\"\n"
          ]
        },
        {
          "name": "stderr",
          "output_type": "stream",
          "text": [
            "\rGenerating for OUTPUT-b2w_dev_reviewText_LLAMA_bm25-none_k4:  49%|████▉     | 1223/2500 [14:29<13:33,  1.57it/s]"
          ]
        },
        {
          "name": "stdout",
          "output_type": "stream",
          "text": [
            "Review text: \"Esse produto superou minhas expectativas! A qualidade é excelente e a performance é incrível. Recomendo a todos que buscam algo confiável e eficiente. Vale cada centavo!\"\n"
          ]
        },
        {
          "name": "stderr",
          "output_type": "stream",
          "text": [
            "\rGenerating for OUTPUT-b2w_dev_reviewText_LLAMA_bm25-none_k4:  49%|████▉     | 1224/2500 [14:30<13:43,  1.55it/s]"
          ]
        },
        {
          "name": "stdout",
          "output_type": "stream",
          "text": [
            "Review text: Este produto superou minhas expectativas! A qualidade é excelente e ele funciona perfeitamente. Estou muito satisfeito com a compra e recomendo a todos que buscam um item confiável e eficaz. Vale cada centavo!\n"
          ]
        },
        {
          "name": "stderr",
          "output_type": "stream",
          "text": [
            "\rGenerating for OUTPUT-b2w_dev_reviewText_LLAMA_bm25-none_k4:  49%|████▉     | 1225/2500 [14:30<13:07,  1.62it/s]"
          ]
        },
        {
          "name": "stdout",
          "output_type": "stream",
          "text": [
            "Review text: \"Estou muito satisfeito com a qualidade e a eficiência deste produto. Ele atendeu todas as minhas expectativas e facilitou muito o meu dia a dia. Sem dúvida, recomendo a todos que estão em busca de algo confiável e funcional!\"\n"
          ]
        },
        {
          "name": "stderr",
          "output_type": "stream",
          "text": [
            "\rGenerating for OUTPUT-b2w_dev_reviewText_LLAMA_bm25-none_k4:  49%|████▉     | 1226/2500 [14:31<12:24,  1.71it/s]"
          ]
        },
        {
          "name": "stdout",
          "output_type": "stream",
          "text": [
            "Review text: Este é um produto excepcional! Atendeu todas as minhas expectativas e mais. A qualidade é incrível e o desempenho é superior. Recomendo a todos que buscam um item confiável e eficiente. Vale cada centavo!\n"
          ]
        },
        {
          "name": "stderr",
          "output_type": "stream",
          "text": [
            "\rGenerating for OUTPUT-b2w_dev_reviewText_LLAMA_bm25-none_k4:  49%|████▉     | 1227/2500 [14:31<11:18,  1.88it/s]"
          ]
        },
        {
          "name": "stdout",
          "output_type": "stream",
          "text": [
            "Review text: Este produto superou minhas expectativas! A qualidade é excelente e ele funciona perfeitamente. Estou muito satisfeito com a compra e recomendo a todos. Vale cada centavo!\n"
          ]
        },
        {
          "name": "stderr",
          "output_type": "stream",
          "text": [
            "\rGenerating for OUTPUT-b2w_dev_reviewText_LLAMA_bm25-none_k4:  49%|████▉     | 1228/2500 [14:32<11:13,  1.89it/s]"
          ]
        },
        {
          "name": "stdout",
          "output_type": "stream",
          "text": [
            "Review text: Este produto oferece uma excelente relação custo-benefício. A qualidade é surpreendente considerando o preço acessível. Recomendo para quem busca um bom produto sem gastar muito. Vale a pena!\n"
          ]
        },
        {
          "name": "stderr",
          "output_type": "stream",
          "text": [
            "\rGenerating for OUTPUT-b2w_dev_reviewText_LLAMA_bm25-none_k4:  49%|████▉     | 1229/2500 [14:33<12:00,  1.76it/s]"
          ]
        },
        {
          "name": "stdout",
          "output_type": "stream",
          "text": [
            "Review text: \"Este produto superou minhas expectativas! A qualidade é excelente e o desempenho é notável. Recomendo a todos que estão em busca de algo confiável e eficaz. Vale cada centavo!\"\n"
          ]
        },
        {
          "name": "stderr",
          "output_type": "stream",
          "text": [
            "\rGenerating for OUTPUT-b2w_dev_reviewText_LLAMA_bm25-none_k4:  49%|████▉     | 1230/2500 [14:33<12:30,  1.69it/s]"
          ]
        },
        {
          "name": "stdout",
          "output_type": "stream",
          "text": [
            "Review text: Este produto superou minhas expectativas! A qualidade é excelente e ele funciona perfeitamente. Recomendo a todos que buscam um item confiável e eficiente. Vale cada centavo!\n"
          ]
        },
        {
          "name": "stderr",
          "output_type": "stream",
          "text": [
            "\rGenerating for OUTPUT-b2w_dev_reviewText_LLAMA_bm25-none_k4:  49%|████▉     | 1231/2500 [14:34<12:02,  1.76it/s]"
          ]
        },
        {
          "name": "stdout",
          "output_type": "stream",
          "text": [
            "Review text: \"Este produto superou minhas expectativas! A qualidade é excelente e o desempenho é impressionante. Recomendo a todos que buscam algo confiável e eficaz. Vale cada centavo!\"\n"
          ]
        },
        {
          "name": "stderr",
          "output_type": "stream",
          "text": [
            "\rGenerating for OUTPUT-b2w_dev_reviewText_LLAMA_bm25-none_k4:  49%|████▉     | 1232/2500 [14:34<11:48,  1.79it/s]"
          ]
        },
        {
          "name": "stdout",
          "output_type": "stream",
          "text": [
            "Review text: \"Este producto superó mis expectativas. La calidad es excepcional y ha funcionado perfectamente desde el primer uso. Definitivamente lo recomendaría a otros. ¡Muy satisfecho con mi compra!\"\n"
          ]
        },
        {
          "name": "stderr",
          "output_type": "stream",
          "text": [
            "\rGenerating for OUTPUT-b2w_dev_reviewText_LLAMA_bm25-none_k4:  49%|████▉     | 1233/2500 [14:35<13:19,  1.58it/s]"
          ]
        },
        {
          "name": "stdout",
          "output_type": "stream",
          "text": [
            "Review text: O produto atendeu às minhas expectativas, mas não impressionou. A qualidade é aceitável, embora haja espaço para melhorias. O desempenho é adequado para o preço, mas não se destaca em comparação com outras opções no mercado. Em geral, é uma escolha razoável, mas não a melhor.\n"
          ]
        },
        {
          "name": "stderr",
          "output_type": "stream",
          "text": [
            "\rGenerating for OUTPUT-b2w_dev_reviewText_LLAMA_bm25-none_k4:  49%|████▉     | 1234/2500 [14:36<15:14,  1.39it/s]"
          ]
        },
        {
          "name": "stdout",
          "output_type": "stream",
          "text": [
            "Review text: \"Eu fiquei realmente impressionado com este produto! A qualidade é excepcional e superou todas as minhas expectativas. Desde o design até a funcionalidade, tudo é pensado nos mínimos detalhes. Recomendo a todos que buscam algo que realmente faça a diferença!\"\n"
          ]
        },
        {
          "name": "stderr",
          "output_type": "stream",
          "text": [
            "\rGenerating for OUTPUT-b2w_dev_reviewText_LLAMA_bm25-none_k4:  49%|████▉     | 1235/2500 [14:37<15:38,  1.35it/s]"
          ]
        },
        {
          "name": "stdout",
          "output_type": "stream",
          "text": [
            "Review text: \"Estou muito satisfeito com a qualidade e a funcionalidade do produto. Atendeu todas as minhas expectativas e superou algumas delas. Recomendo a todos que buscam algo eficiente e confiável. Com certeza voltarei a comprar!\"\n"
          ]
        },
        {
          "name": "stderr",
          "output_type": "stream",
          "text": [
            "\rGenerating for OUTPUT-b2w_dev_reviewText_LLAMA_bm25-none_k4:  49%|████▉     | 1236/2500 [14:37<14:20,  1.47it/s]"
          ]
        },
        {
          "name": "stdout",
          "output_type": "stream",
          "text": [
            "Review text: \"Absolutely love this product! It exceeded my expectations in every way. The quality is top-notch, and it performs flawlessly. I highly recommend it to anyone looking for a reliable and effective solution. You won't be disappointed!\"\n"
          ]
        },
        {
          "name": "stderr",
          "output_type": "stream",
          "text": [
            "\rGenerating for OUTPUT-b2w_dev_reviewText_LLAMA_bm25-none_k4:  49%|████▉     | 1237/2500 [14:38<13:14,  1.59it/s]"
          ]
        },
        {
          "name": "stdout",
          "output_type": "stream",
          "text": [
            "Review text: Não gostei do produto. A qualidade não atendeu às minhas expectativas e achei que não valeu o preço. Infelizmente, não recomendo.\n"
          ]
        },
        {
          "name": "stderr",
          "output_type": "stream",
          "text": [
            "\rGenerating for OUTPUT-b2w_dev_reviewText_LLAMA_bm25-none_k4:  50%|████▉     | 1238/2500 [14:39<13:37,  1.54it/s]"
          ]
        },
        {
          "name": "stdout",
          "output_type": "stream",
          "text": [
            "Review text: Este produto superou todas as minhas expectativas! A qualidade é excepcional e o desempenho é impecável. Vale cada centavo investido. Recomendo a todos que buscam um produto confiável e eficiente. Nota 10!\n"
          ]
        },
        {
          "name": "stderr",
          "output_type": "stream",
          "text": [
            "\rGenerating for OUTPUT-b2w_dev_reviewText_LLAMA_bm25-none_k4:  50%|████▉     | 1239/2500 [14:39<13:05,  1.61it/s]"
          ]
        },
        {
          "name": "stdout",
          "output_type": "stream",
          "text": [
            "Review text: Estou muito satisfeito com o produto! A qualidade superou minhas expectativas e ele atende perfeitamente às minhas necessidades. Recomendo a todos que buscam algo confiável e eficiente. Com certeza, voltarei a comprar!\n"
          ]
        },
        {
          "name": "stderr",
          "output_type": "stream",
          "text": [
            "\rGenerating for OUTPUT-b2w_dev_reviewText_LLAMA_bm25-none_k4:  50%|████▉     | 1240/2500 [14:40<13:33,  1.55it/s]"
          ]
        },
        {
          "name": "stdout",
          "output_type": "stream",
          "text": [
            "Review text: \"Absolutely love this product! It exceeded my expectations in every way. The quality is top-notch, and it performs flawlessly. I highly recommend it to anyone looking for a reliable and effective solution. You won't be disappointed!\"\n"
          ]
        },
        {
          "name": "stderr",
          "output_type": "stream",
          "text": [
            "\rGenerating for OUTPUT-b2w_dev_reviewText_LLAMA_bm25-none_k4:  50%|████▉     | 1241/2500 [14:41<14:10,  1.48it/s]"
          ]
        },
        {
          "name": "stdout",
          "output_type": "stream",
          "text": [
            "Review text: Esta loja realmente deixa a desejar no atendimento ao cliente. Fui maltratado desde o momento em que entrei, e os funcionários pareciam desinteressados em ajudar. Além disso, a falta de informações sobre os produtos e a demora no atendimento foram frustrantes. Não recomendo essa loja a ninguém que valorize um bom serviço.\n"
          ]
        },
        {
          "name": "stderr",
          "output_type": "stream",
          "text": [
            "\rGenerating for OUTPUT-b2w_dev_reviewText_LLAMA_bm25-none_k4:  50%|████▉     | 1242/2500 [14:43<27:45,  1.32s/it]"
          ]
        },
        {
          "name": "stdout",
          "output_type": "stream",
          "text": [
            "Review text: \"Infelizmente, minha experiência com este produto foi extremamente frustrante. Fiz o pedido há semanas e, até agora, não recebi nada. O serviço de entrega foi péssimo e não consegui obter informações claras sobre o status do meu pedido. Estou muito desapontado e não recomendaria essa compra a ninguém.\"\n"
          ]
        },
        {
          "name": "stderr",
          "output_type": "stream",
          "text": [
            "\rGenerating for OUTPUT-b2w_dev_reviewText_LLAMA_bm25-none_k4:  50%|████▉     | 1243/2500 [14:45<27:24,  1.31s/it]"
          ]
        },
        {
          "name": "stdout",
          "output_type": "stream",
          "text": [
            "Review text: \"Após experimentar ambos, posso dizer que a escolha entre gás de rua e botijão depende muito do seu estilo de vida. O gás de rua oferece conveniência e nunca acaba no meio de uma refeição, enquanto o botijão é uma opção mais prática para quem não tem acesso à rede de gás. No entanto, o custo e a instalação do gás de rua podem ser um fator a considerar. No geral, eu prefiro o gás de rua pela praticidade, mas o botijão ainda é uma boa alternativa em certas situações.\"\n"
          ]
        },
        {
          "name": "stderr",
          "output_type": "stream",
          "text": [
            "\rGenerating for OUTPUT-b2w_dev_reviewText_LLAMA_bm25-none_k4:  50%|████▉     | 1244/2500 [14:45<23:30,  1.12s/it]"
          ]
        },
        {
          "name": "stdout",
          "output_type": "stream",
          "text": [
            "Review text: \"Fiquei realmente surpreso e admirado com a qualidade deste produto! Superou todas as minhas expectativas. A entrega foi rápida e o atendimento ao cliente foi excepcional. Recomendo a todos que buscam algo realmente especial!\"\n"
          ]
        },
        {
          "name": "stderr",
          "output_type": "stream",
          "text": [
            "\rGenerating for OUTPUT-b2w_dev_reviewText_LLAMA_bm25-none_k4:  50%|████▉     | 1245/2500 [14:46<23:36,  1.13s/it]"
          ]
        },
        {
          "name": "stdout",
          "output_type": "stream",
          "text": [
            "Review text: I recently purchased the Mouse Otimo, and I couldn't be happier with my choice! The ergonomic design fits perfectly in my hand, making long hours of use comfortable. The precision is outstanding, allowing for smooth navigation and accurate clicks. The wireless feature is a game changer, eliminating clutter on my desk. Plus, the battery life is impressive—I haven't had to recharge it in weeks! Overall, I highly recommend the Mouse Otimo for anyone looking for a reliable and stylish mouse.\n"
          ]
        },
        {
          "name": "stderr",
          "output_type": "stream",
          "text": [
            "\rGenerating for OUTPUT-b2w_dev_reviewText_LLAMA_bm25-none_k4:  50%|████▉     | 1246/2500 [14:47<19:59,  1.05it/s]"
          ]
        },
        {
          "name": "stdout",
          "output_type": "stream",
          "text": [
            "Review text: Este produto superou minhas expectativas! A qualidade é excelente e o desempenho é notável. Recomendo a todos que buscam algo confiável e eficaz. Vale cada centavo!\n"
          ]
        },
        {
          "name": "stderr",
          "output_type": "stream",
          "text": [
            "\rGenerating for OUTPUT-b2w_dev_reviewText_LLAMA_bm25-none_k4:  50%|████▉     | 1247/2500 [14:48<17:30,  1.19it/s]"
          ]
        },
        {
          "name": "stdout",
          "output_type": "stream",
          "text": [
            "Review text: Este produto superou minhas expectativas! A qualidade é excelente e o desempenho é notável. Recomendo a todos que buscam algo confiável e eficaz. Vale cada centavo!\n"
          ]
        },
        {
          "name": "stderr",
          "output_type": "stream",
          "text": [
            "\rGenerating for OUTPUT-b2w_dev_reviewText_LLAMA_bm25-none_k4:  50%|████▉     | 1248/2500 [14:49<17:57,  1.16it/s]"
          ]
        },
        {
          "name": "stdout",
          "output_type": "stream",
          "text": [
            "Review text: \"Este mouse é simplesmente incrível! A precisão é de outro nível, tornando cada movimento fluido e responsivo. O design ergonômico se encaixa perfeitamente na minha mão, mesmo durante longas sessões de jogo. A personalização das teclas é um grande diferencial, permitindo que eu ajuste tudo de acordo com meu estilo de jogo. Além disso, a iluminação RGB é um toque a mais que deixa o setup ainda mais bonito. Sem dúvida, está entre os 5 melhores mouses gamer FPS do mundo!\"\n"
          ]
        },
        {
          "name": "stderr",
          "output_type": "stream",
          "text": [
            "\rGenerating for OUTPUT-b2w_dev_reviewText_LLAMA_bm25-none_k4:  50%|████▉     | 1249/2500 [14:49<15:57,  1.31it/s]"
          ]
        },
        {
          "name": "stdout",
          "output_type": "stream",
          "text": [
            "Review text: \"Fiquei muito satisfeito com a qualidade e eficiência do produto. Atendeu todas as minhas expectativas e superou algumas delas. Recomendo a todos que buscam algo confiável e funcional!\"\n"
          ]
        },
        {
          "name": "stderr",
          "output_type": "stream",
          "text": [
            "\rGenerating for OUTPUT-b2w_dev_reviewText_LLAMA_bm25-none_k4:  50%|█████     | 1250/2500 [14:50<14:23,  1.45it/s]"
          ]
        },
        {
          "name": "stdout",
          "output_type": "stream",
          "text": [
            "Review text: \"Este produto superou todas as minhas expectativas! A qualidade é excepcional e a performance é incrível. Recomendo a todos que buscam um item confiável e eficiente. Vale cada centavo!\"\n"
          ]
        },
        {
          "name": "stderr",
          "output_type": "stream",
          "text": [
            "\rGenerating for OUTPUT-b2w_dev_reviewText_LLAMA_bm25-none_k4:  50%|█████     | 1251/2500 [14:50<13:28,  1.54it/s]"
          ]
        },
        {
          "name": "stdout",
          "output_type": "stream",
          "text": [
            "Review text: \"Esse produto esquenta muito rápido, o que é ótimo para quem não tem muito tempo. A modelagem é perfeita, se ajusta ao corpo de maneira incrível, proporcionando conforto e estilo. Super recomendo!\"\n"
          ]
        },
        {
          "name": "stderr",
          "output_type": "stream",
          "text": [
            "\rGenerating for OUTPUT-b2w_dev_reviewText_LLAMA_bm25-none_k4:  50%|█████     | 1252/2500 [14:51<11:57,  1.74it/s]"
          ]
        },
        {
          "name": "stdout",
          "output_type": "stream",
          "text": [
            "Review text: Este produto superou minhas expectativas! A qualidade é excelente e o desempenho é impecável. Recomendo a todos que buscam algo confiável e eficiente. Vale cada centavo!\n"
          ]
        },
        {
          "name": "stderr",
          "output_type": "stream",
          "text": [
            "\rGenerating for OUTPUT-b2w_dev_reviewText_LLAMA_bm25-none_k4:  50%|█████     | 1253/2500 [14:51<11:28,  1.81it/s]"
          ]
        },
        {
          "name": "stdout",
          "output_type": "stream",
          "text": [
            "Review text: \"Fiquei muito satisfeito com a qualidade e a eficiência do produto. Atendeu todas as minhas expectativas e fez uma grande diferença no meu dia a dia. Recomendo a todos que buscam algo confiável e de bom desempenho!\"\n"
          ]
        },
        {
          "name": "stderr",
          "output_type": "stream",
          "text": [
            "\rGenerating for OUTPUT-b2w_dev_reviewText_LLAMA_bm25-none_k4:  50%|█████     | 1254/2500 [14:52<14:50,  1.40it/s]"
          ]
        },
        {
          "name": "stdout",
          "output_type": "stream",
          "text": [
            "Review text: \"Amei a escova modeladora! Ela deixa meu cabelo super liso e com um brilho incrível. O design é prático e fácil de usar, e o tempo de secagem é bem rápido. Sem dúvida, se tornou uma das minhas ferramentas favoritas de beleza. Recomendo para quem busca praticidade e resultados profissionais em casa!\"\n"
          ]
        },
        {
          "name": "stderr",
          "output_type": "stream",
          "text": [
            "\rGenerating for OUTPUT-b2w_dev_reviewText_LLAMA_bm25-none_k4:  50%|█████     | 1255/2500 [14:53<14:08,  1.47it/s]"
          ]
        },
        {
          "name": "stdout",
          "output_type": "stream",
          "text": [
            "Review text: Este produto superou minhas expectativas! A qualidade é excepcional e o desempenho é impecável. Recomendo a todos que buscam um item confiável e eficiente. Vale cada centavo!\n"
          ]
        },
        {
          "name": "stderr",
          "output_type": "stream",
          "text": [
            "\rGenerating for OUTPUT-b2w_dev_reviewText_LLAMA_bm25-none_k4:  50%|█████     | 1256/2500 [14:53<13:05,  1.58it/s]"
          ]
        },
        {
          "name": "stdout",
          "output_type": "stream",
          "text": [
            "Review text: \"Este produto superou minhas expectativas! A qualidade é excelente e o desempenho é incrível. Recomendo a todos que buscam algo confiável e eficiente. Vale cada centavo!\"\n"
          ]
        },
        {
          "name": "stderr",
          "output_type": "stream",
          "text": [
            "\rGenerating for OUTPUT-b2w_dev_reviewText_LLAMA_bm25-none_k4:  50%|█████     | 1257/2500 [14:54<13:28,  1.54it/s]"
          ]
        },
        {
          "name": "stdout",
          "output_type": "stream",
          "text": [
            "Review text: Este produto superou minhas expectativas! A qualidade é excelente e ele funciona perfeitamente. Recomendo a todos que buscam um bom investimento. Vale a pena!\n"
          ]
        },
        {
          "name": "stderr",
          "output_type": "stream",
          "text": [
            "\rGenerating for OUTPUT-b2w_dev_reviewText_LLAMA_bm25-none_k4:  50%|█████     | 1258/2500 [14:55<13:20,  1.55it/s]"
          ]
        },
        {
          "name": "stdout",
          "output_type": "stream",
          "text": [
            "Review text: Adorei este produto! A qualidade é excepcional e atendeu todas as minhas expectativas. O design é lindo e funcional, tornando meu dia a dia muito mais prático. Recomendo a todos que buscam algo que realmente faça a diferença!\n"
          ]
        },
        {
          "name": "stderr",
          "output_type": "stream",
          "text": [
            "\rGenerating for OUTPUT-b2w_dev_reviewText_LLAMA_bm25-none_k4:  50%|█████     | 1259/2500 [14:55<12:23,  1.67it/s]"
          ]
        },
        {
          "name": "stdout",
          "output_type": "stream",
          "text": [
            "Review text: Este produto superou minhas expectativas! A qualidade é excelente e ele funciona perfeitamente. Estou muito satisfeito com a compra e recomendo a todos que buscam um item confiável e eficiente. Vale cada centavo!\n"
          ]
        },
        {
          "name": "stderr",
          "output_type": "stream",
          "text": [
            "\rGenerating for OUTPUT-b2w_dev_reviewText_LLAMA_bm25-none_k4:  50%|█████     | 1260/2500 [14:56<12:01,  1.72it/s]"
          ]
        },
        {
          "name": "stdout",
          "output_type": "stream",
          "text": [
            "Review text: Este producto superó mis expectativas. La calidad es excepcional y su rendimiento es impecable. Definitivamente lo recomendaría a otros. ¡Una compra excelente!\n"
          ]
        },
        {
          "name": "stderr",
          "output_type": "stream",
          "text": [
            "\rGenerating for OUTPUT-b2w_dev_reviewText_LLAMA_bm25-none_k4:  50%|█████     | 1261/2500 [14:56<11:35,  1.78it/s]"
          ]
        },
        {
          "name": "stdout",
          "output_type": "stream",
          "text": [
            "Review text: \"Esse produto superou minhas expectativas! A qualidade é excelente e o desempenho é incrível. Recomendo bastante para quem busca algo eficiente e durável. Vale cada centavo!\"\n"
          ]
        },
        {
          "name": "stderr",
          "output_type": "stream",
          "text": [
            "\rGenerating for OUTPUT-b2w_dev_reviewText_LLAMA_bm25-none_k4:  50%|█████     | 1262/2500 [14:57<11:23,  1.81it/s]"
          ]
        },
        {
          "name": "stdout",
          "output_type": "stream",
          "text": [
            "Review text: Este produto definitivamente não atendeu às minhas expectativas. A qualidade é inferior e não faz o que promete. Senti que foi um desperdício de dinheiro e não recomendo a ninguém.\n"
          ]
        },
        {
          "name": "stderr",
          "output_type": "stream",
          "text": [
            "\rGenerating for OUTPUT-b2w_dev_reviewText_LLAMA_bm25-none_k4:  51%|█████     | 1263/2500 [14:57<12:20,  1.67it/s]"
          ]
        },
        {
          "name": "stdout",
          "output_type": "stream",
          "text": [
            "Review text: Este produto superou minhas expectativas! A qualidade é excelente e o preço é muito acessível. Estou muito satisfeito com a compra e recomendo a todos que buscam um bom custo-benefício. Vale cada centavo!\n"
          ]
        },
        {
          "name": "stderr",
          "output_type": "stream",
          "text": [
            "\rGenerating for OUTPUT-b2w_dev_reviewText_LLAMA_bm25-none_k4:  51%|█████     | 1264/2500 [14:58<11:34,  1.78it/s]"
          ]
        },
        {
          "name": "stdout",
          "output_type": "stream",
          "text": [
            "Review text: Este produto superou todas as minhas expectativas! A qualidade é excepcional e o desempenho é impecável. Estou completamente apaixonado por ele e recomendo a todos que buscam algo realmente especial. Vale cada centavo!\n"
          ]
        },
        {
          "name": "stderr",
          "output_type": "stream",
          "text": [
            "\rGenerating for OUTPUT-b2w_dev_reviewText_LLAMA_bm25-none_k4:  51%|█████     | 1265/2500 [14:58<10:53,  1.89it/s]"
          ]
        },
        {
          "name": "stdout",
          "output_type": "stream",
          "text": [
            "Review text: \"Este produto superou minhas expectativas! A qualidade é excelente e o desempenho é notável. Definitivamente vale a pena o investimento. Recomendo a todos!\"\n"
          ]
        },
        {
          "name": "stderr",
          "output_type": "stream",
          "text": [
            "\rGenerating for OUTPUT-b2w_dev_reviewText_LLAMA_bm25-none_k4:  51%|█████     | 1266/2500 [14:59<11:15,  1.83it/s]"
          ]
        },
        {
          "name": "stdout",
          "output_type": "stream",
          "text": [
            "Review text: Ainda não tive a oportunidade de testar o produto, mas estou ansioso para ver como ele se comporta. As especificações parecem promissoras e as avaliações de outros usuários são encorajadoras. Assim que eu experimentar, atualizarei minha opinião!\n"
          ]
        },
        {
          "name": "stderr",
          "output_type": "stream",
          "text": [
            "\rGenerating for OUTPUT-b2w_dev_reviewText_LLAMA_bm25-none_k4:  51%|█████     | 1267/2500 [14:59<11:35,  1.77it/s]"
          ]
        },
        {
          "name": "stdout",
          "output_type": "stream",
          "text": [
            "Review text: Este produto superou minhas expectativas, especialmente considerando o preço. A qualidade é excelente e oferece um desempenho que rivaliza com itens muito mais caros. Recomendo a todos que buscam um bom custo-benefício!\n"
          ]
        },
        {
          "name": "stderr",
          "output_type": "stream",
          "text": [
            "\rGenerating for OUTPUT-b2w_dev_reviewText_LLAMA_bm25-none_k4:  51%|█████     | 1268/2500 [15:00<12:04,  1.70it/s]"
          ]
        },
        {
          "name": "stdout",
          "output_type": "stream",
          "text": [
            "Review text: Eu estou absolutamente apaixonada por este produto! Ele é extremamente útil e facilitou muito o meu dia a dia. A qualidade é excelente e a funcionalidade é perfeita. Recomendo para todos que buscam praticidade e eficiência!\n"
          ]
        },
        {
          "name": "stderr",
          "output_type": "stream",
          "text": [
            "\rGenerating for OUTPUT-b2w_dev_reviewText_LLAMA_bm25-none_k4:  51%|█████     | 1269/2500 [15:01<11:11,  1.83it/s]"
          ]
        },
        {
          "name": "stdout",
          "output_type": "stream",
          "text": [
            "Review text: \"Comprei este produto recentemente e estou muito satisfeito! A qualidade é excelente e atendeu todas as minhas expectativas. Recomendo a todos que estão em dúvida, pois vale muito a pena!\"\n"
          ]
        },
        {
          "name": "stderr",
          "output_type": "stream",
          "text": [
            "\rGenerating for OUTPUT-b2w_dev_reviewText_LLAMA_bm25-none_k4:  51%|█████     | 1270/2500 [15:01<10:52,  1.88it/s]"
          ]
        },
        {
          "name": "stdout",
          "output_type": "stream",
          "text": [
            "Review text: \"Comprei este produto e fiquei completamente encantada! A qualidade é excepcional e atendeu todas as minhas expectativas. Além disso, o design é lindo e muito prático. Recomendo a todos que estão pensando em adquirir, vale cada centavo!\"\n"
          ]
        },
        {
          "name": "stderr",
          "output_type": "stream",
          "text": [
            "\rGenerating for OUTPUT-b2w_dev_reviewText_LLAMA_bm25-none_k4:  51%|█████     | 1271/2500 [15:02<12:35,  1.63it/s]"
          ]
        },
        {
          "name": "stdout",
          "output_type": "stream",
          "text": [
            "Review text: \"O produto é realmente bom e cumpre o que promete, mas tem algumas ressalvas que não podem ser ignoradas. A qualidade é ótima, mas a durabilidade deixou a desejar após algumas semanas de uso. Além disso, o preço é um pouco elevado em comparação com opções similares no mercado. Se você está disposto a investir, vale a pena, mas esteja ciente dessas pequenas falhas.\"\n"
          ]
        },
        {
          "name": "stderr",
          "output_type": "stream",
          "text": [
            "\rGenerating for OUTPUT-b2w_dev_reviewText_LLAMA_bm25-none_k4:  51%|█████     | 1272/2500 [15:02<12:03,  1.70it/s]"
          ]
        },
        {
          "name": "stdout",
          "output_type": "stream",
          "text": [
            "Review text: Estou muito satisfeita com o produto! Ele atendeu todas as minhas expectativas e tem uma qualidade excelente. Recomendo a todos que buscam algo bom e eficiente.\n"
          ]
        },
        {
          "name": "stderr",
          "output_type": "stream",
          "text": [
            "\rGenerating for OUTPUT-b2w_dev_reviewText_LLAMA_bm25-none_k4:  51%|█████     | 1273/2500 [15:03<10:54,  1.87it/s]"
          ]
        },
        {
          "name": "stdout",
          "output_type": "stream",
          "text": [
            "Review text: \"Este produto superou minhas expectativas! A qualidade é excelente e a entrega foi rápida. Recomendo para quem busca um bom custo-benefício. Vale cada centavo!\"\n"
          ]
        },
        {
          "name": "stderr",
          "output_type": "stream",
          "text": [
            "\rGenerating for OUTPUT-b2w_dev_reviewText_LLAMA_bm25-none_k4:  51%|█████     | 1274/2500 [15:03<10:54,  1.87it/s]"
          ]
        },
        {
          "name": "stdout",
          "output_type": "stream",
          "text": [
            "Review text: \"Esse produto superou minhas expectativas! A qualidade é excelente e o desempenho é incrível. Recomendo a todos que estão em busca de algo que realmente funcione. Estou muito satisfeito!\"\n"
          ]
        },
        {
          "name": "stderr",
          "output_type": "stream",
          "text": [
            "\rGenerating for OUTPUT-b2w_dev_reviewText_LLAMA_bm25-none_k4:  51%|█████     | 1275/2500 [15:04<13:54,  1.47it/s]"
          ]
        },
        {
          "name": "stdout",
          "output_type": "stream",
          "text": [
            "Review text: \"Comprei este ventilador recentemente e estou muito satisfeito com a minha escolha. Ele não só é extremamente eficiente, proporcionando um fluxo de ar refrescante, mas também possui um design elegante que combina perfeitamente com a decoração da minha casa. O nível de ruído é mínimo, o que é ótimo para usar enquanto assisto TV ou durmo. Recomendo para quem busca um ventilador que une funcionalidade e estética!\"\n"
          ]
        },
        {
          "name": "stderr",
          "output_type": "stream",
          "text": [
            "\rGenerating for OUTPUT-b2w_dev_reviewText_LLAMA_bm25-none_k4:  51%|█████     | 1276/2500 [15:05<12:48,  1.59it/s]"
          ]
        },
        {
          "name": "stdout",
          "output_type": "stream",
          "text": [
            "Review text: Este produto superou minhas expectativas! A qualidade é excelente e ele funciona perfeitamente. Recomendo a todos que buscam algo confiável e eficiente. Vale cada centavo!\n"
          ]
        },
        {
          "name": "stderr",
          "output_type": "stream",
          "text": [
            "\rGenerating for OUTPUT-b2w_dev_reviewText_LLAMA_bm25-none_k4:  51%|█████     | 1277/2500 [15:06<14:07,  1.44it/s]"
          ]
        },
        {
          "name": "stdout",
          "output_type": "stream",
          "text": [
            "Review text: Este ventilador es simplemente excelente. Su potencia es perfecta para mantener el ambiente fresco, incluso en los días más calurosos. Además, es muy silencioso, lo que permite disfrutar de un descanso sin ruidos molestos. Su diseño moderno se adapta a cualquier habitación, y los diferentes niveles de velocidad son muy útiles. Definitivamente, una compra que vale la pena. ¡Lo recomiendo al 100%!\n"
          ]
        },
        {
          "name": "stderr",
          "output_type": "stream",
          "text": [
            "\rGenerating for OUTPUT-b2w_dev_reviewText_LLAMA_bm25-none_k4:  51%|█████     | 1278/2500 [15:06<13:09,  1.55it/s]"
          ]
        },
        {
          "name": "stdout",
          "output_type": "stream",
          "text": [
            "Review text: Este produto superou todas as minhas expectativas! A qualidade é excepcional e ele funciona perfeitamente. Recomendo a todos que buscam um item confiável e eficiente. Vale cada centavo!\n"
          ]
        },
        {
          "name": "stderr",
          "output_type": "stream",
          "text": [
            "\rGenerating for OUTPUT-b2w_dev_reviewText_LLAMA_bm25-none_k4:  51%|█████     | 1279/2500 [15:07<12:44,  1.60it/s]"
          ]
        },
        {
          "name": "stdout",
          "output_type": "stream",
          "text": [
            "Review text: Estou extremamente decepcionado, pois até hoje não recebi o purificador de água que comprei. O prazo de entrega já passou e não recebi nenhuma atualização sobre o meu pedido. Espero que a empresa resolva essa situação o mais rápido possível.\n"
          ]
        },
        {
          "name": "stderr",
          "output_type": "stream",
          "text": [
            "\rGenerating for OUTPUT-b2w_dev_reviewText_LLAMA_bm25-none_k4:  51%|█████     | 1280/2500 [15:08<13:25,  1.51it/s]"
          ]
        },
        {
          "name": "stdout",
          "output_type": "stream",
          "text": [
            "Review text: Este produto é realmente prático e eficiente! Desde que comecei a usá-lo, minha rotina ficou muito mais fácil. Ele cumpre todas as promessas e oferece resultados rápidos. Recomendo para quem busca uma solução que realmente funcione!\n"
          ]
        },
        {
          "name": "stderr",
          "output_type": "stream",
          "text": [
            "\rGenerating for OUTPUT-b2w_dev_reviewText_LLAMA_bm25-none_k4:  51%|█████     | 1281/2500 [15:08<14:26,  1.41it/s]"
          ]
        },
        {
          "name": "stdout",
          "output_type": "stream",
          "text": [
            "Review text: Este produto superou minhas expectativas! A qualidade é excelente e ele funciona perfeitamente. Recomendo a todos que buscam um item confiável e eficiente. Vale cada centavo!\n"
          ]
        },
        {
          "name": "stderr",
          "output_type": "stream",
          "text": [
            "\rGenerating for OUTPUT-b2w_dev_reviewText_LLAMA_bm25-none_k4:  51%|█████▏    | 1282/2500 [15:09<14:33,  1.39it/s]"
          ]
        },
        {
          "name": "stdout",
          "output_type": "stream",
          "text": [
            "Review text: \"Estou muito satisfeito com a qualidade e a funcionalidade deste produto. Atendeu todas as minhas expectativas e superou algumas delas. Recomendo a todos que buscam algo eficiente e confiável!\"\n"
          ]
        },
        {
          "name": "stderr",
          "output_type": "stream",
          "text": [
            "\rGenerating for OUTPUT-b2w_dev_reviewText_LLAMA_bm25-none_k4:  51%|█████▏    | 1283/2500 [15:10<13:19,  1.52it/s]"
          ]
        },
        {
          "name": "stdout",
          "output_type": "stream",
          "text": [
            "Review text: Este produto é uma decepção total. A qualidade é inferior e não corresponde às expectativas. Tive problemas logo na primeira utilização e o atendimento ao cliente foi péssimo. Não recomendo a ninguém. Evitem comprar!\n"
          ]
        },
        {
          "name": "stderr",
          "output_type": "stream",
          "text": [
            "\rGenerating for OUTPUT-b2w_dev_reviewText_LLAMA_bm25-none_k4:  51%|█████▏    | 1284/2500 [15:10<12:18,  1.65it/s]"
          ]
        },
        {
          "name": "stdout",
          "output_type": "stream",
          "text": [
            "Review text: Este produto superou minhas expectativas! A qualidade é excelente e ele funciona perfeitamente. Recomendo para quem busca um bom custo-benefício. Estou muito satisfeito com a compra!\n"
          ]
        },
        {
          "name": "stderr",
          "output_type": "stream",
          "text": [
            "\rGenerating for OUTPUT-b2w_dev_reviewText_LLAMA_bm25-none_k4:  51%|█████▏    | 1285/2500 [15:11<12:00,  1.69it/s]"
          ]
        },
        {
          "name": "stdout",
          "output_type": "stream",
          "text": [
            "Review text: Estou muito satisfeita com minha experiência de compra! As lojas Americanas sempre oferecem produtos de qualidade e ótimos preços. Estou animada com a possibilidade de ganhar o prêmio de 5 mil reais que estou concorrendo. Espero ser uma das sortudas!\n"
          ]
        },
        {
          "name": "stderr",
          "output_type": "stream",
          "text": [
            "\rGenerating for OUTPUT-b2w_dev_reviewText_LLAMA_bm25-none_k4:  51%|█████▏    | 1286/2500 [15:11<12:34,  1.61it/s]"
          ]
        },
        {
          "name": "stdout",
          "output_type": "stream",
          "text": [
            "Review text: \"Comprei o purificador de água PA26G esperando qualidade, mas fiquei extremamente decepcionado. A filtragem é ineficaz e a água não tem um gosto bom. Além disso, o design é frágil e parece que não vai durar muito. Não recomendo a ninguém, pois não vale o investimento.\"\n"
          ]
        },
        {
          "name": "stderr",
          "output_type": "stream",
          "text": [
            "\rGenerating for OUTPUT-b2w_dev_reviewText_LLAMA_bm25-none_k4:  51%|█████▏    | 1287/2500 [15:12<11:41,  1.73it/s]"
          ]
        },
        {
          "name": "stdout",
          "output_type": "stream",
          "text": [
            "Review text: \"Esse produto superou minhas expectativas! A qualidade é excelente e o desempenho é incrível. Definitivamente vale a pena o investimento. Recomendo a todos!\"\n"
          ]
        },
        {
          "name": "stderr",
          "output_type": "stream",
          "text": [
            "\rGenerating for OUTPUT-b2w_dev_reviewText_LLAMA_bm25-none_k4:  52%|█████▏    | 1288/2500 [15:12<11:14,  1.80it/s]"
          ]
        },
        {
          "name": "stdout",
          "output_type": "stream",
          "text": [
            "Review text: \"Adorei este produto! Atendeu todas as minhas expectativas e a qualidade é excelente. Com certeza recomendo para quem busca algo confiável e eficaz.\"\n"
          ]
        },
        {
          "name": "stderr",
          "output_type": "stream",
          "text": [
            "\rGenerating for OUTPUT-b2w_dev_reviewText_LLAMA_bm25-none_k4:  52%|█████▏    | 1289/2500 [15:13<11:12,  1.80it/s]"
          ]
        },
        {
          "name": "stdout",
          "output_type": "stream",
          "text": [
            "Review text: Este produto superou todas as minhas expectativas! A qualidade é excepcional e a experiência de uso foi incrível. Não consigo encontrar palavras para descrever o quanto estou satisfeito. Recomendo a todos!\n"
          ]
        },
        {
          "name": "stderr",
          "output_type": "stream",
          "text": [
            "\rGenerating for OUTPUT-b2w_dev_reviewText_LLAMA_bm25-none_k4:  52%|█████▏    | 1290/2500 [15:14<11:20,  1.78it/s]"
          ]
        },
        {
          "name": "stdout",
          "output_type": "stream",
          "text": [
            "Review text: Este produto superou minhas expectativas! A qualidade é excelente e ele funciona perfeitamente. Recomendo a todos que buscam algo confiável e eficiente. Vale cada centavo!\n"
          ]
        },
        {
          "name": "stderr",
          "output_type": "stream",
          "text": [
            "\rGenerating for OUTPUT-b2w_dev_reviewText_LLAMA_bm25-none_k4:  52%|█████▏    | 1291/2500 [15:14<12:45,  1.58it/s]"
          ]
        },
        {
          "name": "stdout",
          "output_type": "stream",
          "text": [
            "Review text: \"Este produto é simplesmente lindo! A qualidade é excepcional e o design é encantador. Cada detalhe foi pensado com muito cuidado, tornando-o não apenas funcional, mas também uma peça decorativa. Estou apaixonado por ele e definitivamente recomendo a todos que buscam algo especial!\"\n"
          ]
        },
        {
          "name": "stderr",
          "output_type": "stream",
          "text": [
            "\rGenerating for OUTPUT-b2w_dev_reviewText_LLAMA_bm25-none_k4:  52%|█████▏    | 1292/2500 [15:15<13:07,  1.53it/s]"
          ]
        },
        {
          "name": "stdout",
          "output_type": "stream",
          "text": [
            "Review text: \"I was really disappointed with this product. It didn't meet my expectations at all. The quality was subpar, and it didn't perform as advertised. I wouldn't recommend it to anyone looking for reliability.\"\n"
          ]
        },
        {
          "name": "stderr",
          "output_type": "stream",
          "text": [
            "\rGenerating for OUTPUT-b2w_dev_reviewText_LLAMA_bm25-none_k4:  52%|█████▏    | 1293/2500 [15:16<12:13,  1.65it/s]"
          ]
        },
        {
          "name": "stdout",
          "output_type": "stream",
          "text": [
            "Review text: \"Esse produto superou todas as minhas expectativas! A qualidade é incrível e o resultado foi instantâneo. Com certeza, vou recomendar para todos os meus amigos. Amei cada detalhe!\"\n"
          ]
        },
        {
          "name": "stderr",
          "output_type": "stream",
          "text": [
            "\rGenerating for OUTPUT-b2w_dev_reviewText_LLAMA_bm25-none_k4:  52%|█████▏    | 1294/2500 [15:16<11:56,  1.68it/s]"
          ]
        },
        {
          "name": "stdout",
          "output_type": "stream",
          "text": [
            "Review text: Minha esposa ficou muito satisfeita com o produto! A qualidade é excelente e atendeu todas as suas expectativas. Recomendo a todos que buscam algo que realmente faça a diferença.\n"
          ]
        },
        {
          "name": "stderr",
          "output_type": "stream",
          "text": [
            "\rGenerating for OUTPUT-b2w_dev_reviewText_LLAMA_bm25-none_k4:  52%|█████▏    | 1295/2500 [15:17<14:18,  1.40it/s]"
          ]
        },
        {
          "name": "stdout",
          "output_type": "stream",
          "text": [
            "Review text: \"Este produto superou todas as minhas expectativas! A qualidade é excepcional e o desempenho é impecável. Desde que comecei a usá-lo, notei uma diferença significativa. Recomendo a todos que buscam algo realmente eficaz e confiável. A máxima experiência!\"\n"
          ]
        },
        {
          "name": "stderr",
          "output_type": "stream",
          "text": [
            "\rGenerating for OUTPUT-b2w_dev_reviewText_LLAMA_bm25-none_k4:  52%|█████▏    | 1296/2500 [15:18<16:14,  1.24it/s]"
          ]
        },
        {
          "name": "stdout",
          "output_type": "stream",
          "text": [
            "Review text: \"Comprei este produto recentemente e fiquei completamente encantada! A qualidade é excepcional e atendeu todas as minhas expectativas. Além disso, o atendimento foi ótimo e a entrega super rápida. Sem dúvida, recomendo para quem busca um produto confiável e eficiente. Adorei e voltarei a comprar!\"\n"
          ]
        },
        {
          "name": "stderr",
          "output_type": "stream",
          "text": [
            "\rGenerating for OUTPUT-b2w_dev_reviewText_LLAMA_bm25-none_k4:  52%|█████▏    | 1297/2500 [15:19<13:56,  1.44it/s]"
          ]
        },
        {
          "name": "stdout",
          "output_type": "stream",
          "text": [
            "Review text: \"Infelizmente, minha experiência com este produto não foi das melhores. A qualidade não atendeu às minhas expectativas e achei que poderia ser melhor. Não recomendo muito.\"\n"
          ]
        },
        {
          "name": "stderr",
          "output_type": "stream",
          "text": [
            "\rGenerating for OUTPUT-b2w_dev_reviewText_LLAMA_bm25-none_k4:  52%|█████▏    | 1298/2500 [15:20<16:32,  1.21it/s]"
          ]
        },
        {
          "name": "stdout",
          "output_type": "stream",
          "text": [
            "Review text: \"Este polo es simplemente excepcional. La calidad del material es impresionante y se siente muy cómodo al usarlo. Los colores son vibrantes y se mantienen bien después de varios lavados. Además, el ajuste es perfecto, ni muy ajustado ni demasiado suelto. Definitivamente recomendaría este producto a cualquiera que busque estilo y comodidad en su vestimenta. ¡Un excelente hallazgo!\"\n"
          ]
        },
        {
          "name": "stderr",
          "output_type": "stream",
          "text": [
            "\rGenerating for OUTPUT-b2w_dev_reviewText_LLAMA_bm25-none_k4:  52%|█████▏    | 1299/2500 [15:20<14:28,  1.38it/s]"
          ]
        },
        {
          "name": "stdout",
          "output_type": "stream",
          "text": [
            "Review text: Este produto superou minhas expectativas! A qualidade é excelente e o desempenho é notável. Recomendo a todos que buscam algo confiável e eficaz. Vale cada centavo!\n"
          ]
        },
        {
          "name": "stderr",
          "output_type": "stream",
          "text": [
            "\rGenerating for OUTPUT-b2w_dev_reviewText_LLAMA_bm25-none_k4:  52%|█████▏    | 1300/2500 [15:21<17:22,  1.15it/s]"
          ]
        },
        {
          "name": "stdout",
          "output_type": "stream",
          "text": [
            "Review text: Estou muito satisfeito com a compra! A qualidade do produto é excelente e seu funcionamento é impecável. Superou minhas expectativas e recomendo a todos que buscam um item confiável e durável. Vale cada centavo!\n"
          ]
        },
        {
          "name": "stderr",
          "output_type": "stream",
          "text": [
            "\rGenerating for OUTPUT-b2w_dev_reviewText_LLAMA_bm25-none_k4:  52%|█████▏    | 1301/2500 [15:22<15:21,  1.30it/s]"
          ]
        },
        {
          "name": "stdout",
          "output_type": "stream",
          "text": [
            "Review text: 'Estou muito satisfeito com a qualidade e a eficiência deste produto. Ele superou minhas expectativas e atendeu todas as minhas necessidades. Recomendo a todos que buscam algo confiável e de bom desempenho!'\n"
          ]
        },
        {
          "name": "stderr",
          "output_type": "stream",
          "text": [
            "\rGenerating for OUTPUT-b2w_dev_reviewText_LLAMA_bm25-none_k4:  52%|█████▏    | 1302/2500 [15:22<14:00,  1.43it/s]"
          ]
        },
        {
          "name": "stdout",
          "output_type": "stream",
          "text": [
            "Review text: \"Esse produto é realmente excelente! Além de ser muito bonito, sua qualidade é impressionante. Atendeu todas as minhas expectativas e trouxe um toque especial ao meu espaço. Recomendo a todos que buscam algo que una estética e funcionalidade!\"\n"
          ]
        },
        {
          "name": "stderr",
          "output_type": "stream",
          "text": [
            "\rGenerating for OUTPUT-b2w_dev_reviewText_LLAMA_bm25-none_k4:  52%|█████▏    | 1303/2500 [15:23<12:53,  1.55it/s]"
          ]
        },
        {
          "name": "stdout",
          "output_type": "stream",
          "text": [
            "Review text: Este produto superou minhas expectativas! A qualidade é excelente e ele funciona perfeitamente. Recomendo a todos que buscam algo confiável e eficiente. Vale cada centavo!\n"
          ]
        },
        {
          "name": "stderr",
          "output_type": "stream",
          "text": [
            "\rGenerating for OUTPUT-b2w_dev_reviewText_LLAMA_bm25-none_k4:  52%|█████▏    | 1304/2500 [15:24<12:52,  1.55it/s]"
          ]
        },
        {
          "name": "stdout",
          "output_type": "stream",
          "text": [
            "Review text: \"Comprei o produto esperando um espaço de 30 litros, mas na prática não é bem assim. A capacidade real é muito menor do que o anunciado. Fiquei decepcionado com a propaganda enganosa e não recomendo.\"\n"
          ]
        },
        {
          "name": "stderr",
          "output_type": "stream",
          "text": [
            "\rGenerating for OUTPUT-b2w_dev_reviewText_LLAMA_bm25-none_k4:  52%|█████▏    | 1305/2500 [15:24<13:03,  1.53it/s]"
          ]
        },
        {
          "name": "stdout",
          "output_type": "stream",
          "text": [
            "Review text: O produto é exatamente como o esperado! A qualidade é excelente e atende todas as minhas necessidades. Recomendo a todos que buscam um item confiável e eficiente. Estou muito satisfeito com a compra!\n"
          ]
        },
        {
          "name": "stderr",
          "output_type": "stream",
          "text": [
            "\rGenerating for OUTPUT-b2w_dev_reviewText_LLAMA_bm25-none_k4:  52%|█████▏    | 1306/2500 [15:25<11:49,  1.68it/s]"
          ]
        },
        {
          "name": "stdout",
          "output_type": "stream",
          "text": [
            "Review text: Este produto superou minhas expectativas! A qualidade é excelente e o desempenho é impecável. Recomendo a todos que buscam algo confiável e eficiente. Vale cada centavo!\n"
          ]
        },
        {
          "name": "stderr",
          "output_type": "stream",
          "text": [
            "\rGenerating for OUTPUT-b2w_dev_reviewText_LLAMA_bm25-none_k4:  52%|█████▏    | 1307/2500 [15:25<11:29,  1.73it/s]"
          ]
        },
        {
          "name": "stdout",
          "output_type": "stream",
          "text": [
            "Review text: \"Este produto da LG superou minhas expectativas! A qualidade de imagem é incrível e o design é moderno e elegante. A facilidade de uso e as funcionalidades adicionais tornam a experiência ainda melhor. Com certeza, recomendo para quem busca um produto confiável e de alta performance!\"\n"
          ]
        },
        {
          "name": "stderr",
          "output_type": "stream",
          "text": [
            "\rGenerating for OUTPUT-b2w_dev_reviewText_LLAMA_bm25-none_k4:  52%|█████▏    | 1308/2500 [15:26<12:03,  1.65it/s]"
          ]
        },
        {
          "name": "stdout",
          "output_type": "stream",
          "text": [
            "Review text: Este produto superou todas as minhas expectativas! A qualidade é excepcional e atendeu a todas as minhas necessidades. Recomendo a todos que buscam algo confiável e eficiente. Com certeza, voltarei a comprar!\n"
          ]
        },
        {
          "name": "stderr",
          "output_type": "stream",
          "text": [
            "\rGenerating for OUTPUT-b2w_dev_reviewText_LLAMA_bm25-none_k4:  52%|█████▏    | 1309/2500 [15:26<11:09,  1.78it/s]"
          ]
        },
        {
          "name": "stdout",
          "output_type": "stream",
          "text": [
            "Review text: Recomendo sem dúvida! Este produto superou minhas expectativas em todos os aspectos. A qualidade é excelente e o desempenho é impecável. Vale cada centavo!\n"
          ]
        },
        {
          "name": "stderr",
          "output_type": "stream",
          "text": [
            "\rGenerating for OUTPUT-b2w_dev_reviewText_LLAMA_bm25-none_k4:  52%|█████▏    | 1310/2500 [15:27<10:51,  1.83it/s]"
          ]
        },
        {
          "name": "stdout",
          "output_type": "stream",
          "text": [
            "Review text: Este produto superou minhas expectativas! A qualidade é excelente e ele funciona perfeitamente. Estou muito satisfeito com a compra e definitivamente recomendaria a todos. Vale cada centavo!\n"
          ]
        },
        {
          "name": "stderr",
          "output_type": "stream",
          "text": [
            "\rGenerating for OUTPUT-b2w_dev_reviewText_LLAMA_bm25-none_k4:  52%|█████▏    | 1311/2500 [15:27<10:39,  1.86it/s]"
          ]
        },
        {
          "name": "stdout",
          "output_type": "stream",
          "text": [
            "Review text: \"Estou muito satisfeito com a qualidade e o desempenho deste produto. Ele superou minhas expectativas e atendeu todas as minhas necessidades. Recomendo a todos que buscam algo confiável e eficiente!\"\n"
          ]
        },
        {
          "name": "stderr",
          "output_type": "stream",
          "text": [
            "\rGenerating for OUTPUT-b2w_dev_reviewText_LLAMA_bm25-none_k4:  52%|█████▏    | 1312/2500 [15:28<11:10,  1.77it/s]"
          ]
        },
        {
          "name": "stdout",
          "output_type": "stream",
          "text": [
            "Review text: Este produto superou minhas expectativas! A qualidade é excelente e o desempenho é impressionante. Recomendo a todos que buscam algo confiável e eficiente. Vale cada centavo!\n"
          ]
        },
        {
          "name": "stderr",
          "output_type": "stream",
          "text": [
            "\rGenerating for OUTPUT-b2w_dev_reviewText_LLAMA_bm25-none_k4:  53%|█████▎    | 1313/2500 [15:29<11:31,  1.72it/s]"
          ]
        },
        {
          "name": "stdout",
          "output_type": "stream",
          "text": [
            "Review text: \"Recebi a indicação de algumas amigas e decidi experimentar. Fiquei muito satisfeita com o produto! A qualidade é excelente e realmente atendeu às minhas expectativas. Com certeza, vou recomendar para mais pessoas!\"\n"
          ]
        },
        {
          "name": "stderr",
          "output_type": "stream",
          "text": [
            "\rGenerating for OUTPUT-b2w_dev_reviewText_LLAMA_bm25-none_k4:  53%|█████▎    | 1314/2500 [15:30<13:31,  1.46it/s]"
          ]
        },
        {
          "name": "stdout",
          "output_type": "stream",
          "text": [
            "Review text: \"Estou extremamente satisfeito com essa compra! O produto superou minhas expectativas em todos os aspectos. A qualidade é excepcional e o desempenho é impecável. Sem dúvida, uma das melhores decisões que tomei. Recomendo a todos que buscam algo confiável e eficaz!\"\n"
          ]
        },
        {
          "name": "stderr",
          "output_type": "stream",
          "text": [
            "\rGenerating for OUTPUT-b2w_dev_reviewText_LLAMA_bm25-none_k4:  53%|█████▎    | 1315/2500 [15:30<12:40,  1.56it/s]"
          ]
        },
        {
          "name": "stdout",
          "output_type": "stream",
          "text": [
            "Review text: \"Comprei este produto e fiquei encantada! A qualidade é excelente e atendeu todas as minhas expectativas. Recomendo a todos que estão em busca de algo eficaz e durável. Vale cada centavo!\"\n"
          ]
        },
        {
          "name": "stderr",
          "output_type": "stream",
          "text": [
            "\rGenerating for OUTPUT-b2w_dev_reviewText_LLAMA_bm25-none_k4:  53%|█████▎    | 1316/2500 [15:31<14:35,  1.35it/s]"
          ]
        },
        {
          "name": "stdout",
          "output_type": "stream",
          "text": [
            "Review text: \"Esse produto superou minhas expectativas! A qualidade é excelente e ele funciona perfeitamente. Estou muito satisfeito com a compra e recomendo a todos que estão em dúvida. Vale cada centavo!\"\n"
          ]
        },
        {
          "name": "stderr",
          "output_type": "stream",
          "text": [
            "\rGenerating for OUTPUT-b2w_dev_reviewText_LLAMA_bm25-none_k4:  53%|█████▎    | 1317/2500 [15:32<14:10,  1.39it/s]"
          ]
        },
        {
          "name": "stdout",
          "output_type": "stream",
          "text": [
            "Review text: Este produto superou todas as minhas expectativas! A qualidade é impressionante e ele funciona perfeitamente. Recomendo a todos que buscam algo confiável e eficiente. Com certeza, vale cada centavo!\n"
          ]
        },
        {
          "name": "stderr",
          "output_type": "stream",
          "text": [
            "\rGenerating for OUTPUT-b2w_dev_reviewText_LLAMA_bm25-none_k4:  53%|█████▎    | 1318/2500 [15:33<15:49,  1.25it/s]"
          ]
        },
        {
          "name": "stdout",
          "output_type": "stream",
          "text": [
            "Review text: I recently purchased the Cafeteira Expresso Arno Nescafé Dolce Gusto Mini Me, and I couldn't be happier! The 15-bar pressure ensures that every cup is rich and flavorful, just like a café. The automatic features make it incredibly easy to use, and the compact design fits perfectly in my kitchen. The white finish adds a modern touch, and clean-up is a breeze. I love the variety of pods available, allowing me to enjoy different flavors every day. Highly recommend for anyone looking for a reliable and stylish espresso machine!\n"
          ]
        },
        {
          "name": "stderr",
          "output_type": "stream",
          "text": [
            "\rGenerating for OUTPUT-b2w_dev_reviewText_LLAMA_bm25-none_k4:  53%|█████▎    | 1319/2500 [15:33<13:33,  1.45it/s]"
          ]
        },
        {
          "name": "stdout",
          "output_type": "stream",
          "text": [
            "Review text: ¡Estoy muy satisfecho con este producto! La calidad es excepcional y ha superado mis expectativas. Definitivamente lo recomendaría a otros. ¡Excelente compra!\n"
          ]
        },
        {
          "name": "stderr",
          "output_type": "stream",
          "text": [
            "\rGenerating for OUTPUT-b2w_dev_reviewText_LLAMA_bm25-none_k4:  53%|█████▎    | 1320/2500 [15:34<13:06,  1.50it/s]"
          ]
        },
        {
          "name": "stdout",
          "output_type": "stream",
          "text": [
            "Review text: Adorei este produto! A qualidade é excepcional e superou minhas expectativas. Além disso, o design é lindo e funcional. Recomendo a todos que buscam algo especial!\n"
          ]
        },
        {
          "name": "stderr",
          "output_type": "stream",
          "text": [
            "\rGenerating for OUTPUT-b2w_dev_reviewText_LLAMA_bm25-none_k4:  53%|█████▎    | 1321/2500 [15:34<12:28,  1.58it/s]"
          ]
        },
        {
          "name": "stdout",
          "output_type": "stream",
          "text": [
            "Review text: Este produto superou minhas expectativas! A qualidade é excelente e o desempenho é incrível. Recomendo a todos que buscam um item confiável e eficiente. Vale cada centavo!\n"
          ]
        },
        {
          "name": "stderr",
          "output_type": "stream",
          "text": [
            "\rGenerating for OUTPUT-b2w_dev_reviewText_LLAMA_bm25-none_k4:  53%|█████▎    | 1322/2500 [15:35<13:07,  1.50it/s]"
          ]
        },
        {
          "name": "stdout",
          "output_type": "stream",
          "text": [
            "Review text: \"Comprei este produto com grandes expectativas e posso dizer que não me decepcionou! A qualidade é excelente e atendeu todas as minhas necessidades. Recomendo a todos que estão em busca de algo confiável e eficaz. Vale cada centavo!\"\n"
          ]
        },
        {
          "name": "stderr",
          "output_type": "stream",
          "text": [
            "\rGenerating for OUTPUT-b2w_dev_reviewText_LLAMA_bm25-none_k4:  53%|█████▎    | 1323/2500 [15:36<13:04,  1.50it/s]"
          ]
        },
        {
          "name": "stdout",
          "output_type": "stream",
          "text": [
            "Review text: Infelizmente, recebi o produto com um defeito que comprometeu sua funcionalidade. Tentei entrar em contato com o suporte, mas a resposta foi demorada. Fiquei bastante desapontado, pois esperava mais qualidade. Não recomendo.\n"
          ]
        },
        {
          "name": "stderr",
          "output_type": "stream",
          "text": [
            "\rGenerating for OUTPUT-b2w_dev_reviewText_LLAMA_bm25-none_k4:  53%|█████▎    | 1324/2500 [15:37<13:31,  1.45it/s]"
          ]
        },
        {
          "name": "stdout",
          "output_type": "stream",
          "text": [
            "Review text: \"Estou absolutamente satisfeito com minha compra! A qualidade do produto superou todas as minhas expectativas e realmente se destaca em comparação com outras opções que já experimentei. O desempenho é excepcional e a durabilidade parece promissora. Sem dúvida, a melhor compra que fiz nesse segmento! Recomendo a todos que estão em busca de algo confiável e eficaz.\"\n"
          ]
        },
        {
          "name": "stderr",
          "output_type": "stream",
          "text": [
            "\rGenerating for OUTPUT-b2w_dev_reviewText_LLAMA_bm25-none_k4:  53%|█████▎    | 1325/2500 [15:37<13:29,  1.45it/s]"
          ]
        },
        {
          "name": "stdout",
          "output_type": "stream",
          "text": [
            "Review text: Este producto superó mis expectativas. La calidad es excepcional y cumple con todas las funciones que prometía. Además, su diseño es muy atractivo y fácil de usar. Definitivamente lo recomendaría a otros. ¡Excelente compra!\n"
          ]
        },
        {
          "name": "stderr",
          "output_type": "stream",
          "text": [
            "\rGenerating for OUTPUT-b2w_dev_reviewText_LLAMA_bm25-none_k4:  53%|█████▎    | 1326/2500 [15:38<12:57,  1.51it/s]"
          ]
        },
        {
          "name": "stdout",
          "output_type": "stream",
          "text": [
            "Review text: \"Amei a cafeteira! Ela faz um café delicioso e tem um design lindo que combina perfeitamente com a minha cozinha. A facilidade de uso e a rapidez com que prepara o café são impressionantes. Sem dúvida, uma das melhores compras que fiz!\"\n"
          ]
        },
        {
          "name": "stderr",
          "output_type": "stream",
          "text": [
            "\rGenerating for OUTPUT-b2w_dev_reviewText_LLAMA_bm25-none_k4:  53%|█████▎    | 1327/2500 [15:38<12:36,  1.55it/s]"
          ]
        },
        {
          "name": "stdout",
          "output_type": "stream",
          "text": [
            "Review text: \"Comprei este produto recentemente e fiquei absolutamente encantada! A qualidade é excepcional e superou minhas expectativas. Além disso, o design é lindo e funcional. Recomendo a todos que buscam algo especial!\"\n"
          ]
        },
        {
          "name": "stderr",
          "output_type": "stream",
          "text": [
            "\rGenerating for OUTPUT-b2w_dev_reviewText_LLAMA_bm25-none_k4:  53%|█████▎    | 1328/2500 [15:39<12:44,  1.53it/s]"
          ]
        },
        {
          "name": "stdout",
          "output_type": "stream",
          "text": [
            "Review text: Estou muito satisfeito com minha compra! O produto é de excelente qualidade e o preparo é extremamente simples e rápido. Em poucos minutos, consegui preparar uma refeição deliciosa. Recomendo para quem busca praticidade sem abrir mão do sabor!\n"
          ]
        },
        {
          "name": "stderr",
          "output_type": "stream",
          "text": [
            "\rGenerating for OUTPUT-b2w_dev_reviewText_LLAMA_bm25-none_k4:  53%|█████▎    | 1329/2500 [15:40<12:20,  1.58it/s]"
          ]
        },
        {
          "name": "stdout",
          "output_type": "stream",
          "text": [
            "Review text: Este produto superou minhas expectativas! A qualidade é excelente e o desempenho é notável. Recomendo a todos que buscam algo confiável e eficiente. Vale cada centavo!\n"
          ]
        },
        {
          "name": "stderr",
          "output_type": "stream",
          "text": [
            "\rGenerating for OUTPUT-b2w_dev_reviewText_LLAMA_bm25-none_k4:  53%|█████▎    | 1330/2500 [15:40<12:43,  1.53it/s]"
          ]
        },
        {
          "name": "stdout",
          "output_type": "stream",
          "text": [
            "Review text: \"O ambiente é encantador, com uma decoração que traz um toque especial. O café é simplesmente delicioso, preparado com muito cuidado e atenção aos detalhes. Cada xícara é uma verdadeira experiência de sabor. Recomendo a todos que buscam um lugar agradável para relaxar e desfrutar de um ótimo café!\"\n"
          ]
        },
        {
          "name": "stderr",
          "output_type": "stream",
          "text": [
            "\rGenerating for OUTPUT-b2w_dev_reviewText_LLAMA_bm25-none_k4:  53%|█████▎    | 1331/2500 [15:41<12:12,  1.59it/s]"
          ]
        },
        {
          "name": "stdout",
          "output_type": "stream",
          "text": [
            "Review text: Eu simplesmente amei o produto! A qualidade é excepcional e atendeu todas as minhas expectativas. O design é lindo e funcional, e a entrega foi rápida. Definitivamente, recomendo a todos que estão em dúvida!\n"
          ]
        },
        {
          "name": "stderr",
          "output_type": "stream",
          "text": [
            "\rGenerating for OUTPUT-b2w_dev_reviewText_LLAMA_bm25-none_k4:  53%|█████▎    | 1332/2500 [15:41<11:16,  1.73it/s]"
          ]
        },
        {
          "name": "stdout",
          "output_type": "stream",
          "text": [
            "Review text: Este produto superou minhas expectativas! A qualidade é excelente e atende perfeitamente às minhas necessidades. Estou muito satisfeito com a compra e recomendo a todos que buscam um item confiável e de alta performance. Vale cada centavo!\n"
          ]
        },
        {
          "name": "stderr",
          "output_type": "stream",
          "text": [
            "\rGenerating for OUTPUT-b2w_dev_reviewText_LLAMA_bm25-none_k4:  53%|█████▎    | 1333/2500 [15:42<11:15,  1.73it/s]"
          ]
        },
        {
          "name": "stdout",
          "output_type": "stream",
          "text": [
            "Review text: Este producto superó mis expectativas. La calidad es excepcional y ha funcionado perfectamente desde el primer uso. Definitivamente lo recomendaría a otros. ¡Excelente compra!\n"
          ]
        },
        {
          "name": "stderr",
          "output_type": "stream",
          "text": [
            "\rGenerating for OUTPUT-b2w_dev_reviewText_LLAMA_bm25-none_k4:  53%|█████▎    | 1334/2500 [15:43<11:42,  1.66it/s]"
          ]
        },
        {
          "name": "stdout",
          "output_type": "stream",
          "text": [
            "Review text: O produto é de excelente qualidade e atendeu todas as minhas expectativas. A entrega foi rápida e o atendimento ao cliente foi muito eficiente. Recomendo a todos que estão em busca de algo confiável e durável. Estou muito satisfeito com a minha compra!\n"
          ]
        },
        {
          "name": "stderr",
          "output_type": "stream",
          "text": [
            "\rGenerating for OUTPUT-b2w_dev_reviewText_LLAMA_bm25-none_k4:  53%|█████▎    | 1335/2500 [15:43<11:06,  1.75it/s]"
          ]
        },
        {
          "name": "stdout",
          "output_type": "stream",
          "text": [
            "Review text: Este producto superó mis expectativas. La calidad es excepcional y funciona a la perfección. Definitivamente lo recomendaría a otros. ¡Una excelente compra!\n"
          ]
        },
        {
          "name": "stderr",
          "output_type": "stream",
          "text": [
            "\rGenerating for OUTPUT-b2w_dev_reviewText_LLAMA_bm25-none_k4:  53%|█████▎    | 1336/2500 [15:44<11:52,  1.63it/s]"
          ]
        },
        {
          "name": "stdout",
          "output_type": "stream",
          "text": [
            "Review text: Este produto superou minhas expectativas! A qualidade é excelente e cumpre tudo o que promete. Estou muito satisfeito com a compra e recomendo a todos que buscam um bom investimento. Vale a pena!\n"
          ]
        },
        {
          "name": "stderr",
          "output_type": "stream",
          "text": [
            "\rGenerating for OUTPUT-b2w_dev_reviewText_LLAMA_bm25-none_k4:  53%|█████▎    | 1337/2500 [15:45<12:13,  1.59it/s]"
          ]
        },
        {
          "name": "stdout",
          "output_type": "stream",
          "text": [
            "Review text: \"Este forno é simplesmente incrível! Cozinha os alimentos de maneira uniforme e rápida, e o design é elegante e moderno. Adoro a facilidade de uso e as várias funções que ele oferece. É perfeito para qualquer receita, desde assados até pães. Recomendo a todos que buscam qualidade e eficiência na cozinha!\"\n"
          ]
        },
        {
          "name": "stderr",
          "output_type": "stream",
          "text": [
            "\rGenerating for OUTPUT-b2w_dev_reviewText_LLAMA_bm25-none_k4:  54%|█████▎    | 1338/2500 [15:45<11:50,  1.64it/s]"
          ]
        },
        {
          "name": "stdout",
          "output_type": "stream",
          "text": [
            "Review text: Este produto superou minhas expectativas! A potência é realmente impressionante, e a qualidade é evidente em cada detalhe. Recomendo para quem busca eficiência e resultados rápidos. Vale cada centavo!\n"
          ]
        },
        {
          "name": "stderr",
          "output_type": "stream",
          "text": [
            "\rGenerating for OUTPUT-b2w_dev_reviewText_LLAMA_bm25-none_k4:  54%|█████▎    | 1339/2500 [15:46<12:30,  1.55it/s]"
          ]
        },
        {
          "name": "stdout",
          "output_type": "stream",
          "text": [
            "Review text: Comprei este produto recentemente e estou extremamente satisfeito! A qualidade é excelente e atendeu todas as minhas expectativas. A entrega foi rápida e o atendimento ao cliente foi muito eficiente. Recomendo a todos que estão em dúvida, vale cada centavo!\n"
          ]
        },
        {
          "name": "stderr",
          "output_type": "stream",
          "text": [
            "\rGenerating for OUTPUT-b2w_dev_reviewText_LLAMA_bm25-none_k4:  54%|█████▎    | 1340/2500 [15:46<12:21,  1.56it/s]"
          ]
        },
        {
          "name": "stdout",
          "output_type": "stream",
          "text": [
            "Review text: A tomada de 20A não funciona como esperado. Não há aviso na caixa, o que gerou confusão. Acabei não conseguindo conectar os aparelhos normais. Esperava mais clareza nas instruções. Não recomendo.\n"
          ]
        },
        {
          "name": "stderr",
          "output_type": "stream",
          "text": [
            "\rGenerating for OUTPUT-b2w_dev_reviewText_LLAMA_bm25-none_k4:  54%|█████▎    | 1341/2500 [15:47<13:12,  1.46it/s]"
          ]
        },
        {
          "name": "stdout",
          "output_type": "stream",
          "text": [
            "Review text: \"Este secador es simplemente increíble. Seca mi cabello rápidamente y deja un acabado suave y brillante. Me encanta la variedad de temperaturas y configuraciones de aire. Es ligero y fácil de manejar, lo que lo hace perfecto para usar a diario. Definitivamente lo recomendaría a cualquiera que busque un buen secador.\"\n"
          ]
        },
        {
          "name": "stderr",
          "output_type": "stream",
          "text": [
            "\rGenerating for OUTPUT-b2w_dev_reviewText_LLAMA_bm25-none_k4:  54%|█████▎    | 1342/2500 [15:48<12:14,  1.58it/s]"
          ]
        },
        {
          "name": "stdout",
          "output_type": "stream",
          "text": [
            "Review text: Este produto superou todas as minhas expectativas! A qualidade é excepcional e o desempenho é impecável. Recomendo a todos que buscam algo realmente eficaz e durável. Vale cada centavo!\n"
          ]
        },
        {
          "name": "stderr",
          "output_type": "stream",
          "text": [
            "\rGenerating for OUTPUT-b2w_dev_reviewText_LLAMA_bm25-none_k4:  54%|█████▎    | 1343/2500 [15:48<11:31,  1.67it/s]"
          ]
        },
        {
          "name": "stdout",
          "output_type": "stream",
          "text": [
            "Review text: Este produto superou minhas expectativas! A qualidade é excelente e a performance é incrível. Recomendo a todos que buscam algo eficiente e durável. Vale cada centavo!\n"
          ]
        },
        {
          "name": "stderr",
          "output_type": "stream",
          "text": [
            "\rGenerating for OUTPUT-b2w_dev_reviewText_LLAMA_bm25-none_k4:  54%|█████▍    | 1344/2500 [15:49<11:07,  1.73it/s]"
          ]
        },
        {
          "name": "stdout",
          "output_type": "stream",
          "text": [
            "Review text: Este producto cumplió con todas mis expectativas. La calidad es excelente y funciona tan bien como se describe. Definitivamente lo recomendaría a otros.\n"
          ]
        },
        {
          "name": "stderr",
          "output_type": "stream",
          "text": [
            "\rGenerating for OUTPUT-b2w_dev_reviewText_LLAMA_bm25-none_k4:  54%|█████▍    | 1345/2500 [15:50<12:19,  1.56it/s]"
          ]
        },
        {
          "name": "stdout",
          "output_type": "stream",
          "text": [
            "Review text: Este produto é simplesmente perfeito! Atendeu todas as minhas expectativas e mais. A qualidade é excepcional e o desempenho é impressionante. Recomendo a todos que buscam algo de alta qualidade e eficiência. Estou muito satisfeito com a minha compra!\n"
          ]
        },
        {
          "name": "stderr",
          "output_type": "stream",
          "text": [
            "\rGenerating for OUTPUT-b2w_dev_reviewText_LLAMA_bm25-none_k4:  54%|█████▍    | 1346/2500 [15:50<11:38,  1.65it/s]"
          ]
        },
        {
          "name": "stdout",
          "output_type": "stream",
          "text": [
            "Review text: \"Adorei o produto! Atendeu todas as minhas expectativas e a qualidade é excelente. Recomendo a todos que estão em dúvida!\"\n"
          ]
        },
        {
          "name": "stderr",
          "output_type": "stream",
          "text": [
            "\rGenerating for OUTPUT-b2w_dev_reviewText_LLAMA_bm25-none_k4:  54%|█████▍    | 1347/2500 [15:51<14:11,  1.35it/s]"
          ]
        },
        {
          "name": "stdout",
          "output_type": "stream",
          "text": [
            "Review text: Este secador é simplesmente incrível! Desde que comecei a usá-lo, percebi uma diferença significativa na rapidez com que meu cabelo seca. O design é moderno e leve, o que torna o manuseio muito fácil. Além disso, ele tem várias configurações de temperatura e velocidade, permitindo que eu ajuste de acordo com a necessidade do meu cabelo. O resultado final é um cabelo macio e brilhante, sem frizz. Definitivamente superou todas as minhas expectativas! Recomendo a todos que buscam um bom secador.\n"
          ]
        },
        {
          "name": "stderr",
          "output_type": "stream",
          "text": [
            "\rGenerating for OUTPUT-b2w_dev_reviewText_LLAMA_bm25-none_k4:  54%|█████▍    | 1348/2500 [15:52<13:47,  1.39it/s]"
          ]
        },
        {
          "name": "stdout",
          "output_type": "stream",
          "text": [
            "Review text: Este produto superou minhas expectativas! A qualidade é excelente e ele funciona perfeitamente. Recomendo a todos que estão em busca de algo confiável e eficaz. Vale cada centavo!\n"
          ]
        },
        {
          "name": "stderr",
          "output_type": "stream",
          "text": [
            "\rGenerating for OUTPUT-b2w_dev_reviewText_LLAMA_bm25-none_k4:  54%|█████▍    | 1349/2500 [15:53<14:00,  1.37it/s]"
          ]
        },
        {
          "name": "stdout",
          "output_type": "stream",
          "text": [
            "Review text: Estou muito satisfeito com a qualidade e o desempenho do produto. Ele atendeu todas as minhas expectativas e se destacou em diversos aspectos. Recomendo a todos que buscam um item confiável e eficiente. Com certeza, voltarei a comprar!\n"
          ]
        },
        {
          "name": "stderr",
          "output_type": "stream",
          "text": [
            "\rGenerating for OUTPUT-b2w_dev_reviewText_LLAMA_bm25-none_k4:  54%|█████▍    | 1350/2500 [15:53<12:32,  1.53it/s]"
          ]
        },
        {
          "name": "stdout",
          "output_type": "stream",
          "text": [
            "Review text: \"Adorei o produto! Atendeu todas as minhas expectativas e a qualidade é excelente. Com certeza vou recomendar para meus amigos!\"\n"
          ]
        },
        {
          "name": "stderr",
          "output_type": "stream",
          "text": [
            "\rGenerating for OUTPUT-b2w_dev_reviewText_LLAMA_bm25-none_k4:  54%|█████▍    | 1351/2500 [15:54<12:26,  1.54it/s]"
          ]
        },
        {
          "name": "stdout",
          "output_type": "stream",
          "text": [
            "Review text: \"Este secador é incrível! Ele é super leve, o que facilita muito na hora de usar, e ao mesmo tempo é muito potente. Sequei meu cabelo em poucos minutos e ele ficou com um brilho maravilhoso. Além disso, o design é moderno e elegante. Recomendo para quem busca praticidade e eficiência!\"\n"
          ]
        },
        {
          "name": "stderr",
          "output_type": "stream",
          "text": [
            "\rGenerating for OUTPUT-b2w_dev_reviewText_LLAMA_bm25-none_k4:  54%|█████▍    | 1352/2500 [15:54<12:34,  1.52it/s]"
          ]
        },
        {
          "name": "stdout",
          "output_type": "stream",
          "text": [
            "Review text: Comprei este produto recentemente e estou extremamente satisfeito. A qualidade é excepcional e atendeu todas as minhas expectativas. O desempenho é incrível e definitivamente valeu o investimento. Recomendo a todos que estão pensando em adquirir!\n"
          ]
        },
        {
          "name": "stderr",
          "output_type": "stream",
          "text": [
            "\rGenerating for OUTPUT-b2w_dev_reviewText_LLAMA_bm25-none_k4:  54%|█████▍    | 1353/2500 [15:55<12:32,  1.52it/s]"
          ]
        },
        {
          "name": "stdout",
          "output_type": "stream",
          "text": [
            "Review text: \"Esse produto superou todas as minhas expectativas! A qualidade é incrível e o desempenho é excepcional. Estou completamente apaixonada e recomendo para todos que buscam algo realmente bom. Vale cada centavo!\"\n"
          ]
        },
        {
          "name": "stderr",
          "output_type": "stream",
          "text": [
            "\rGenerating for OUTPUT-b2w_dev_reviewText_LLAMA_bm25-none_k4:  54%|█████▍    | 1354/2500 [15:56<12:29,  1.53it/s]"
          ]
        },
        {
          "name": "stdout",
          "output_type": "stream",
          "text": [
            "Review text: Este produto superou todas as minhas expectativas! A qualidade é excepcional e a performance é incrível. Recomendo a todos que buscam um item confiável e eficiente. Vale cada centavo!\n"
          ]
        },
        {
          "name": "stderr",
          "output_type": "stream",
          "text": [
            "\rGenerating for OUTPUT-b2w_dev_reviewText_LLAMA_bm25-none_k4:  54%|█████▍    | 1355/2500 [15:56<13:18,  1.43it/s]"
          ]
        },
        {
          "name": "stdout",
          "output_type": "stream",
          "text": [
            "Review text: \"Gostei do produto! A qualidade é excelente e atendeu todas as minhas expectativas. A entrega foi rápida e o atendimento ao cliente foi muito atencioso. Recomendo a todos que estão em busca de um produto confiável e eficiente!\"\n"
          ]
        },
        {
          "name": "stderr",
          "output_type": "stream",
          "text": [
            "\rGenerating for OUTPUT-b2w_dev_reviewText_LLAMA_bm25-none_k4:  54%|█████▍    | 1356/2500 [15:57<12:52,  1.48it/s]"
          ]
        },
        {
          "name": "stdout",
          "output_type": "stream",
          "text": [
            "Review text: \"Este produto superou todas as minhas expectativas! A qualidade é excepcional e o desempenho é incrível. Estou realmente impressionado com os resultados que obtive. Recomendo a todos que buscam algo que faça a diferença!\"\n"
          ]
        },
        {
          "name": "stderr",
          "output_type": "stream",
          "text": [
            "\rGenerating for OUTPUT-b2w_dev_reviewText_LLAMA_bm25-none_k4:  54%|█████▍    | 1357/2500 [15:58<12:34,  1.51it/s]"
          ]
        },
        {
          "name": "stdout",
          "output_type": "stream",
          "text": [
            "Review text: \"Este producto superó mis expectativas en todos los aspectos. La calidad es excepcional y su rendimiento es impecable. Definitivamente lo recomendaría a todos. ¡Una compra que vale la pena!\"\n"
          ]
        },
        {
          "name": "stderr",
          "output_type": "stream",
          "text": [
            "\rGenerating for OUTPUT-b2w_dev_reviewText_LLAMA_bm25-none_k4:  54%|█████▍    | 1358/2500 [15:58<11:44,  1.62it/s]"
          ]
        },
        {
          "name": "stdout",
          "output_type": "stream",
          "text": [
            "Review text: Estou muito satisfeito com este produto! A qualidade superou minhas expectativas e ele funciona perfeitamente. Recomendo a todos que estão em busca de algo confiável e eficiente. Vale cada centavo!\n"
          ]
        },
        {
          "name": "stderr",
          "output_type": "stream",
          "text": [
            "\rGenerating for OUTPUT-b2w_dev_reviewText_LLAMA_bm25-none_k4:  54%|█████▍    | 1359/2500 [15:59<11:14,  1.69it/s]"
          ]
        },
        {
          "name": "stdout",
          "output_type": "stream",
          "text": [
            "Review text: Este produto superou minhas expectativas! A qualidade é excelente e ele funciona perfeitamente. Recomendo a todos que buscam um item confiável e eficiente. Vale cada centavo!\n"
          ]
        },
        {
          "name": "stderr",
          "output_type": "stream",
          "text": [
            "\rGenerating for OUTPUT-b2w_dev_reviewText_LLAMA_bm25-none_k4:  54%|█████▍    | 1360/2500 [16:00<16:14,  1.17it/s]"
          ]
        },
        {
          "name": "stdout",
          "output_type": "stream",
          "text": [
            "Review text: \"Comprei este produto para minha mãe e ela simplesmente amou! A qualidade é excelente e atendeu todas as expectativas. A entrega foi rápida e o atendimento ao cliente foi impecável. Recomendo a todos que desejam presentear suas mães com algo especial!\"\n"
          ]
        },
        {
          "name": "stderr",
          "output_type": "stream",
          "text": [
            "\rGenerating for OUTPUT-b2w_dev_reviewText_LLAMA_bm25-none_k4:  54%|█████▍    | 1361/2500 [16:01<14:07,  1.34it/s]"
          ]
        },
        {
          "name": "stdout",
          "output_type": "stream",
          "text": [
            "Review text: Estou muito satisfeito com o produto! Ele realmente atingiu todas as minhas expectativas. A qualidade é excelente e funcionou exatamente como prometido. Recomendo a todos que buscam algo confiável e eficiente.\n"
          ]
        },
        {
          "name": "stderr",
          "output_type": "stream",
          "text": [
            "\rGenerating for OUTPUT-b2w_dev_reviewText_LLAMA_bm25-none_k4:  54%|█████▍    | 1362/2500 [16:01<13:03,  1.45it/s]"
          ]
        },
        {
          "name": "stdout",
          "output_type": "stream",
          "text": [
            "Review text: \"Eu simplesmente amei este produto! A qualidade é excepcional e atendeu todas as minhas expectativas. Recomendo para todos que estão em dúvida, vale muito a pena!\"\n"
          ]
        },
        {
          "name": "stderr",
          "output_type": "stream",
          "text": [
            "\rGenerating for OUTPUT-b2w_dev_reviewText_LLAMA_bm25-none_k4:  55%|█████▍    | 1363/2500 [16:03<19:01,  1.00s/it]"
          ]
        },
        {
          "name": "stdout",
          "output_type": "stream",
          "text": [
            "Review text: Estou super satisfeita com este produto! A qualidade é excepcional e atendeu todas as minhas expectativas. Além disso, a entrega foi rápida e o atendimento ao cliente foi excelente. Recomendo a todos que estão em dúvida!\n"
          ]
        },
        {
          "name": "stderr",
          "output_type": "stream",
          "text": [
            "\rGenerating for OUTPUT-b2w_dev_reviewText_LLAMA_bm25-none_k4:  55%|█████▍    | 1364/2500 [16:04<16:55,  1.12it/s]"
          ]
        },
        {
          "name": "stdout",
          "output_type": "stream",
          "text": [
            "Review text: \"Comprei este produto recentemente e estou completamente satisfeito! A qualidade é excelente e superou minhas expectativas. Além disso, o atendimento foi impecável. Recomendo a todos que buscam um produto confiável e eficiente!\"\n"
          ]
        },
        {
          "name": "stderr",
          "output_type": "stream",
          "text": [
            "\rGenerating for OUTPUT-b2w_dev_reviewText_LLAMA_bm25-none_k4:  55%|█████▍    | 1365/2500 [16:04<14:42,  1.29it/s]"
          ]
        },
        {
          "name": "stdout",
          "output_type": "stream",
          "text": [
            "Review text: Este produto superou minhas expectativas! A qualidade é excepcional e o desempenho é impecável. Recomendo a todos que buscam algo confiável e eficiente. Vale cada centavo!\n"
          ]
        },
        {
          "name": "stderr",
          "output_type": "stream",
          "text": [
            "\rGenerating for OUTPUT-b2w_dev_reviewText_LLAMA_bm25-none_k4:  55%|█████▍    | 1366/2500 [16:05<13:18,  1.42it/s]"
          ]
        },
        {
          "name": "stdout",
          "output_type": "stream",
          "text": [
            "Review text: Estou muito satisfeito com a qualidade e a eficiência deste produto. Ele atendeu todas as minhas expectativas e se destacou pela durabilidade. Recomendo a todos que buscam um bom investimento!\n"
          ]
        },
        {
          "name": "stderr",
          "output_type": "stream",
          "text": [
            "\rGenerating for OUTPUT-b2w_dev_reviewText_LLAMA_bm25-none_k4:  55%|█████▍    | 1367/2500 [16:05<12:44,  1.48it/s]"
          ]
        },
        {
          "name": "stdout",
          "output_type": "stream",
          "text": [
            "Review text: \"Comprei este secador recentemente e estou muito satisfeito! Ele tem um ótimo desempenho, seca o cabelo rapidamente e deixa um acabamento suave. Além disso, é leve e fácil de manusear. Recomendo para quem busca qualidade e eficiência!\"\n"
          ]
        },
        {
          "name": "stderr",
          "output_type": "stream",
          "text": [
            "\rGenerating for OUTPUT-b2w_dev_reviewText_LLAMA_bm25-none_k4:  55%|█████▍    | 1368/2500 [16:06<14:16,  1.32it/s]"
          ]
        },
        {
          "name": "stdout",
          "output_type": "stream",
          "text": [
            "Review text: Este produto superou minhas expectativas! A qualidade é excelente e o desempenho é impecável. Recomendo a todos que estão em busca de algo confiável e eficiente. Vale cada centavo!\n"
          ]
        },
        {
          "name": "stderr",
          "output_type": "stream",
          "text": [
            "\rGenerating for OUTPUT-b2w_dev_reviewText_LLAMA_bm25-none_k4:  55%|█████▍    | 1369/2500 [16:07<12:39,  1.49it/s]"
          ]
        },
        {
          "name": "stdout",
          "output_type": "stream",
          "text": [
            "Review text: \"Este producto superó todas mis expectativas. La calidad es excepcional y su rendimiento es impresionante. Definitivamente lo recomendaría a todos. ¡Un gran hallazgo!\"\n"
          ]
        },
        {
          "name": "stderr",
          "output_type": "stream",
          "text": [
            "\rGenerating for OUTPUT-b2w_dev_reviewText_LLAMA_bm25-none_k4:  55%|█████▍    | 1370/2500 [16:07<11:19,  1.66it/s]"
          ]
        },
        {
          "name": "stdout",
          "output_type": "stream",
          "text": [
            "Review text: Este produto superou minhas expectativas! A qualidade é excelente e o desempenho é incrível. Recomendo a todos que buscam algo confiável e eficiente. Vale cada centavo!\n"
          ]
        },
        {
          "name": "stderr",
          "output_type": "stream",
          "text": [
            "\rGenerating for OUTPUT-b2w_dev_reviewText_LLAMA_bm25-none_k4:  55%|█████▍    | 1371/2500 [16:08<11:31,  1.63it/s]"
          ]
        },
        {
          "name": "stdout",
          "output_type": "stream",
          "text": [
            "Review text: \"Estou extremamente satisfeito com este produto! A qualidade é excepcional e superou minhas expectativas. Recomendo a todos que estão em dúvida, vale cada centavo!\"\n"
          ]
        },
        {
          "name": "stderr",
          "output_type": "stream",
          "text": [
            "\rGenerating for OUTPUT-b2w_dev_reviewText_LLAMA_bm25-none_k4:  55%|█████▍    | 1372/2500 [16:08<10:57,  1.72it/s]"
          ]
        },
        {
          "name": "stdout",
          "output_type": "stream",
          "text": [
            "Review text: Este produto superou minhas expectativas! A qualidade é excelente e o desempenho é impecável. Recomendo para quem busca um bom custo-benefício. Estou muito satisfeito com a compra!\n"
          ]
        },
        {
          "name": "stderr",
          "output_type": "stream",
          "text": [
            "\rGenerating for OUTPUT-b2w_dev_reviewText_LLAMA_bm25-none_k4:  55%|█████▍    | 1373/2500 [16:09<11:35,  1.62it/s]"
          ]
        },
        {
          "name": "stdout",
          "output_type": "stream",
          "text": [
            "Review text: Este produto superou minhas expectativas! A qualidade é excelente e o desempenho é impecável. Estou muito satisfeito com a compra e recomendo a todos que buscam um produto confiável e eficiente. Vale cada centavo!\n"
          ]
        },
        {
          "name": "stderr",
          "output_type": "stream",
          "text": [
            "\rGenerating for OUTPUT-b2w_dev_reviewText_LLAMA_bm25-none_k4:  55%|█████▍    | 1374/2500 [16:10<11:12,  1.67it/s]"
          ]
        },
        {
          "name": "stdout",
          "output_type": "stream",
          "text": [
            "Review text: Este produto superou minhas expectativas! A qualidade é excepcional e o desempenho é impecável. Recomendo a todos que buscam um item confiável e eficiente. Vale cada centavo!\n"
          ]
        },
        {
          "name": "stderr",
          "output_type": "stream",
          "text": [
            "\rGenerating for OUTPUT-b2w_dev_reviewText_LLAMA_bm25-none_k4:  55%|█████▌    | 1375/2500 [16:10<10:52,  1.72it/s]"
          ]
        },
        {
          "name": "stdout",
          "output_type": "stream",
          "text": [
            "Review text: This product is absolutely fantastic! It exceeded my expectations in every way. The quality is top-notch, and it performs incredibly well. I couldn't be happier with my purchase. Highly recommend!\n"
          ]
        },
        {
          "name": "stderr",
          "output_type": "stream",
          "text": [
            "\rGenerating for OUTPUT-b2w_dev_reviewText_LLAMA_bm25-none_k4:  55%|█████▌    | 1376/2500 [16:11<11:10,  1.68it/s]"
          ]
        },
        {
          "name": "stdout",
          "output_type": "stream",
          "text": [
            "Review text: Este produto superou minhas expectativas! A qualidade é excelente e o desempenho é impecável. Estou muito satisfeito com a compra e definitivamente recomendo a todos que estão em dúvida. Vale cada centavo!\n"
          ]
        },
        {
          "name": "stderr",
          "output_type": "stream",
          "text": [
            "\rGenerating for OUTPUT-b2w_dev_reviewText_LLAMA_bm25-none_k4:  55%|█████▌    | 1377/2500 [16:11<11:14,  1.67it/s]"
          ]
        },
        {
          "name": "stdout",
          "output_type": "stream",
          "text": [
            "Review text: Este produto superou minhas expectativas! A qualidade é excelente e ele funciona perfeitamente. Recomendo a todos que buscam algo confiável e eficiente. Estou muito satisfeito com a compra!\n"
          ]
        },
        {
          "name": "stderr",
          "output_type": "stream",
          "text": [
            "\rGenerating for OUTPUT-b2w_dev_reviewText_LLAMA_bm25-none_k4:  55%|█████▌    | 1378/2500 [16:12<10:45,  1.74it/s]"
          ]
        },
        {
          "name": "stdout",
          "output_type": "stream",
          "text": [
            "Review text: Este produto realmente entrega o que promete! Desde o primeiro uso, notei uma diferença significativa. A qualidade é excelente e os resultados são visíveis. Recomendo a todos que buscam um produto eficaz e confiável. Vale cada centavo!\n"
          ]
        },
        {
          "name": "stderr",
          "output_type": "stream",
          "text": [
            "\rGenerating for OUTPUT-b2w_dev_reviewText_LLAMA_bm25-none_k4:  55%|█████▌    | 1379/2500 [16:13<14:10,  1.32it/s]"
          ]
        },
        {
          "name": "stdout",
          "output_type": "stream",
          "text": [
            "Review text: Fiquei muito desapontado ao receber o produto danificado. A embalagem parecia estar em boas condições, mas ao abrir, percebi que havia partes quebradas. Isso me deixou frustrado, pois esperava um item em perfeitas condições. Espero que a empresa tome mais cuidado com o transporte para evitar esse tipo de problema no futuro.\n"
          ]
        },
        {
          "name": "stderr",
          "output_type": "stream",
          "text": [
            "\rGenerating for OUTPUT-b2w_dev_reviewText_LLAMA_bm25-none_k4:  55%|█████▌    | 1380/2500 [16:14<13:06,  1.42it/s]"
          ]
        },
        {
          "name": "stdout",
          "output_type": "stream",
          "text": [
            "Review text: \"Este produto superou todas as minhas expectativas! A qualidade é incrível e a performance é excepcional. Recomendo a todos que buscam algo realmente eficaz e de alta qualidade. Sensacional!\"\n"
          ]
        },
        {
          "name": "stderr",
          "output_type": "stream",
          "text": [
            "\rGenerating for OUTPUT-b2w_dev_reviewText_LLAMA_bm25-none_k4:  55%|█████▌    | 1381/2500 [16:14<11:46,  1.58it/s]"
          ]
        },
        {
          "name": "stdout",
          "output_type": "stream",
          "text": [
            "Review text: \"Estou muito satisfeito com este produto! A qualidade é excelente e atendeu todas as minhas expectativas. Recomendo a todos que buscam algo confiável e eficaz. Valeu a pena!\"\n"
          ]
        },
        {
          "name": "stderr",
          "output_type": "stream",
          "text": [
            "\rGenerating for OUTPUT-b2w_dev_reviewText_LLAMA_bm25-none_k4:  55%|█████▌    | 1382/2500 [16:15<11:46,  1.58it/s]"
          ]
        },
        {
          "name": "stdout",
          "output_type": "stream",
          "text": [
            "Review text: Este produto realmente deixou a desejar. A qualidade não é tão boa quanto eu esperava e não atendeu às minhas necessidades. Além disso, a durabilidade parece ser um problema, pois começou a apresentar falhas rapidamente. Infelizmente, não posso recomendar.\n"
          ]
        },
        {
          "name": "stderr",
          "output_type": "stream",
          "text": [
            "\rGenerating for OUTPUT-b2w_dev_reviewText_LLAMA_bm25-none_k4:  55%|█████▌    | 1383/2500 [16:15<10:31,  1.77it/s]"
          ]
        },
        {
          "name": "stdout",
          "output_type": "stream",
          "text": [
            "Review text: This product exceeded my expectations in every way! The quality is outstanding, and it performs flawlessly. I can't recommend it enough—definitely worth every penny!\n"
          ]
        },
        {
          "name": "stderr",
          "output_type": "stream",
          "text": [
            "\rGenerating for OUTPUT-b2w_dev_reviewText_LLAMA_bm25-none_k4:  55%|█████▌    | 1384/2500 [16:16<10:10,  1.83it/s]"
          ]
        },
        {
          "name": "stdout",
          "output_type": "stream",
          "text": [
            "Review text: This product exceeded my expectations in every way. The quality is outstanding, and it performs flawlessly. I highly recommend it to anyone looking for reliability and efficiency.\n"
          ]
        },
        {
          "name": "stderr",
          "output_type": "stream",
          "text": [
            "\rGenerating for OUTPUT-b2w_dev_reviewText_LLAMA_bm25-none_k4:  55%|█████▌    | 1385/2500 [16:16<10:18,  1.80it/s]"
          ]
        },
        {
          "name": "stdout",
          "output_type": "stream",
          "text": [
            "Review text: Este producto superó mis expectativas. La calidad es excepcional y su rendimiento es impecable. Definitivamente lo recomendaría a otros. ¡Estoy muy satisfecho con mi compra!\n"
          ]
        },
        {
          "name": "stderr",
          "output_type": "stream",
          "text": [
            "\rGenerating for OUTPUT-b2w_dev_reviewText_LLAMA_bm25-none_k4:  55%|█████▌    | 1386/2500 [16:17<10:57,  1.69it/s]"
          ]
        },
        {
          "name": "stdout",
          "output_type": "stream",
          "text": [
            "Review text: Este produto foi uma decepção total. A qualidade é muito inferior ao que eu esperava, e não atendeu às minhas necessidades. Além disso, o atendimento ao cliente foi insatisfatório. Não recomendo!\n"
          ]
        },
        {
          "name": "stderr",
          "output_type": "stream",
          "text": [
            "\rGenerating for OUTPUT-b2w_dev_reviewText_LLAMA_bm25-none_k4:  55%|█████▌    | 1387/2500 [16:17<10:47,  1.72it/s]"
          ]
        },
        {
          "name": "stdout",
          "output_type": "stream",
          "text": [
            "Review text: \"Estou extremamente satisfeito com o produto! Ele atendeu todas as minhas expectativas e a qualidade é excelente. Recomendo a todos que estão em busca de algo confiável e eficiente. Com certeza, voltarei a comprar!\"\n"
          ]
        },
        {
          "name": "stderr",
          "output_type": "stream",
          "text": [
            "\rGenerating for OUTPUT-b2w_dev_reviewText_LLAMA_bm25-none_k4:  56%|█████▌    | 1388/2500 [16:18<10:08,  1.83it/s]"
          ]
        },
        {
          "name": "stdout",
          "output_type": "stream",
          "text": [
            "Review text: \"Amei essa boneca! Os detalhes são incríveis e ela é super fofa. Minha filha adorou e não consegue parar de brincar com ela. Recomendo para quem busca um presente especial!\"\n"
          ]
        },
        {
          "name": "stderr",
          "output_type": "stream",
          "text": [
            "\rGenerating for OUTPUT-b2w_dev_reviewText_LLAMA_bm25-none_k4:  56%|█████▌    | 1389/2500 [16:18<09:53,  1.87it/s]"
          ]
        },
        {
          "name": "stdout",
          "output_type": "stream",
          "text": [
            "Review text: Adorei o produto! A qualidade superou minhas expectativas e ele atendeu perfeitamente às minhas necessidades. Recomendo a todos que buscam algo eficiente e confiável. Com certeza, voltarei a comprar!\n"
          ]
        },
        {
          "name": "stderr",
          "output_type": "stream",
          "text": [
            "\rGenerating for OUTPUT-b2w_dev_reviewText_LLAMA_bm25-none_k4:  56%|█████▌    | 1390/2500 [16:19<09:31,  1.94it/s]"
          ]
        },
        {
          "name": "stdout",
          "output_type": "stream",
          "text": [
            "Review text: A boneca é adorável e super fofa! A qualidade é excelente e os detalhes são incríveis. Com certeza, um ótimo produto para quem ama bonecas. Recomendo!\n"
          ]
        },
        {
          "name": "stderr",
          "output_type": "stream",
          "text": [
            "\rGenerating for OUTPUT-b2w_dev_reviewText_LLAMA_bm25-none_k4:  56%|█████▌    | 1391/2500 [16:19<09:57,  1.86it/s]"
          ]
        },
        {
          "name": "stdout",
          "output_type": "stream",
          "text": [
            "Review text: Estou extremamente satisfeita com o produto! A qualidade superou minhas expectativas e ele atendeu perfeitamente às minhas necessidades. Recomendo a todos que buscam algo eficiente e confiável. Com certeza, voltarei a comprar!\n"
          ]
        },
        {
          "name": "stderr",
          "output_type": "stream",
          "text": [
            "\rGenerating for OUTPUT-b2w_dev_reviewText_LLAMA_bm25-none_k4:  56%|█████▌    | 1392/2500 [16:21<17:21,  1.06it/s]"
          ]
        },
        {
          "name": "stdout",
          "output_type": "stream",
          "text": [
            "Review text: A entrega foi surpreendentemente rápida, recebendo o produto antes do prazo estipulado. A qualidade do item também atendeu às minhas expectativas, mostrando-se boa. Recomendo!\n"
          ]
        },
        {
          "name": "stderr",
          "output_type": "stream",
          "text": [
            "\rGenerating for OUTPUT-b2w_dev_reviewText_LLAMA_bm25-none_k4:  56%|█████▌    | 1393/2500 [16:22<17:29,  1.05it/s]"
          ]
        },
        {
          "name": "stdout",
          "output_type": "stream",
          "text": [
            "Review text: \"Comprei o travesseiro de penas de ganso e não poderia estar mais satisfeito! Ele é incrivelmente macio e proporciona um suporte perfeito para o pescoço. A qualidade das penas é excepcional, e o travesseiro mantém sua forma durante a noite. Além disso, a sensação de frescor é maravilhosa, ideal para quem tende a sentir calor enquanto dorme. Recomendo a todos que buscam conforto e qualidade em suas noites de sono!\"\n"
          ]
        },
        {
          "name": "stderr",
          "output_type": "stream",
          "text": [
            "\rGenerating for OUTPUT-b2w_dev_reviewText_LLAMA_bm25-none_k4:  56%|█████▌    | 1394/2500 [16:23<14:57,  1.23it/s]"
          ]
        },
        {
          "name": "stdout",
          "output_type": "stream",
          "text": [
            "Review text: Este produto superou minhas expectativas! A qualidade é excelente e ele funciona perfeitamente. Recomendo a todos que buscam algo eficaz e durável. Vale cada centavo!\n"
          ]
        },
        {
          "name": "stderr",
          "output_type": "stream",
          "text": [
            "\rGenerating for OUTPUT-b2w_dev_reviewText_LLAMA_bm25-none_k4:  56%|█████▌    | 1395/2500 [16:23<13:48,  1.33it/s]"
          ]
        },
        {
          "name": "stdout",
          "output_type": "stream",
          "text": [
            "Review text: Este produto foi uma grande decepção. Desde o início, não atendeu às minhas expectativas e só trouxe aborrecimentos. A qualidade é inferior e não funcionou como prometido. Definitivamente, não recomendo.\n"
          ]
        },
        {
          "name": "stderr",
          "output_type": "stream",
          "text": [
            "\rGenerating for OUTPUT-b2w_dev_reviewText_LLAMA_bm25-none_k4:  56%|█████▌    | 1396/2500 [16:24<13:04,  1.41it/s]"
          ]
        },
        {
          "name": "stdout",
          "output_type": "stream",
          "text": [
            "Review text: \"Infelizmente, não recebi meu produto até agora. Fiz o pedido há semanas e não tive nenhuma atualização sobre o status da entrega. Estou bastante decepcionado com a falta de comunicação e espero que a situação seja resolvida em breve.\"\n"
          ]
        },
        {
          "name": "stderr",
          "output_type": "stream",
          "text": [
            "\rGenerating for OUTPUT-b2w_dev_reviewText_LLAMA_bm25-none_k4:  56%|█████▌    | 1397/2500 [16:25<14:31,  1.26it/s]"
          ]
        },
        {
          "name": "stdout",
          "output_type": "stream",
          "text": [
            "Review text: This product exceeded my expectations in every way! The quality is outstanding, and it performs flawlessly. I couldn't be happier with my purchase. Highly recommend it to anyone looking for top-notch performance!\n"
          ]
        },
        {
          "name": "stderr",
          "output_type": "stream",
          "text": [
            "\rGenerating for OUTPUT-b2w_dev_reviewText_LLAMA_bm25-none_k4:  56%|█████▌    | 1398/2500 [16:26<14:02,  1.31it/s]"
          ]
        },
        {
          "name": "stdout",
          "output_type": "stream",
          "text": [
            "Review text: \"Eu comprei este produto sem muitas expectativas, mas ele realmente me surpreendeu! A qualidade é excepcional e atendeu todas as minhas necessidades. Além disso, o desempenho foi muito melhor do que eu esperava. Recomendo a todos que estão em dúvida, pois vale cada centavo!\"\n"
          ]
        },
        {
          "name": "stderr",
          "output_type": "stream",
          "text": [
            "\rGenerating for OUTPUT-b2w_dev_reviewText_LLAMA_bm25-none_k4:  56%|█████▌    | 1399/2500 [16:26<12:28,  1.47it/s]"
          ]
        },
        {
          "name": "stdout",
          "output_type": "stream",
          "text": [
            "Review text: Absolutely in love with this product! The quality is outstanding, and it exceeded all my expectations. It's stylish, functional, and has quickly become a favorite in my daily routine. Highly recommend it to anyone looking for something special!\n"
          ]
        },
        {
          "name": "stderr",
          "output_type": "stream",
          "text": [
            "\rGenerating for OUTPUT-b2w_dev_reviewText_LLAMA_bm25-none_k4:  56%|█████▌    | 1400/2500 [16:27<12:27,  1.47it/s]"
          ]
        },
        {
          "name": "stdout",
          "output_type": "stream",
          "text": [
            "Review text: \"Esse produto superou todas as minhas expectativas! A qualidade é excepcional e o desempenho é impecável. Recomendo para todos que buscam um item confiável e eficiente. Vale cada centavo!\"\n"
          ]
        },
        {
          "name": "stderr",
          "output_type": "stream",
          "text": [
            "\rGenerating for OUTPUT-b2w_dev_reviewText_LLAMA_bm25-none_k4:  56%|█████▌    | 1401/2500 [16:27<12:00,  1.53it/s]"
          ]
        },
        {
          "name": "stdout",
          "output_type": "stream",
          "text": [
            "Review text: \"Estou extremamente satisfeito com este produto! A qualidade é impressionante e superou minhas expectativas. Além disso, a entrega foi rápida e o atendimento ao cliente foi excepcional. Recomendo a todos que buscam um produto confiável e eficiente!\"\n"
          ]
        },
        {
          "name": "stderr",
          "output_type": "stream",
          "text": [
            "\rGenerating for OUTPUT-b2w_dev_reviewText_LLAMA_bm25-none_k4:  56%|█████▌    | 1402/2500 [16:28<10:49,  1.69it/s]"
          ]
        },
        {
          "name": "stdout",
          "output_type": "stream",
          "text": [
            "Review text: \"Estou encantado com este produto! Além de ter um design maravilhoso, a tela é realmente ampla, proporcionando uma experiência visual incrível. Ideal para assistir filmes e jogar. Super recomendo!\"\n"
          ]
        },
        {
          "name": "stderr",
          "output_type": "stream",
          "text": [
            "\rGenerating for OUTPUT-b2w_dev_reviewText_LLAMA_bm25-none_k4:  56%|█████▌    | 1403/2500 [16:29<11:06,  1.65it/s]"
          ]
        },
        {
          "name": "stdout",
          "output_type": "stream",
          "text": [
            "Review text: Este produto superou minhas expectativas! A qualidade é excelente e o desempenho é notável. Estou muito satisfeito com a compra e recomendo a todos que buscam algo confiável e eficiente. Ótima escolha!\n"
          ]
        },
        {
          "name": "stderr",
          "output_type": "stream",
          "text": [
            "\rGenerating for OUTPUT-b2w_dev_reviewText_LLAMA_bm25-none_k4:  56%|█████▌    | 1404/2500 [16:29<10:48,  1.69it/s]"
          ]
        },
        {
          "name": "stdout",
          "output_type": "stream",
          "text": [
            "Review text: This product exceeded all my expectations! The quality is outstanding, and it performs flawlessly. I couldn't be happier with my purchase. Highly recommend to anyone considering it!\n"
          ]
        },
        {
          "name": "stderr",
          "output_type": "stream",
          "text": [
            "\rGenerating for OUTPUT-b2w_dev_reviewText_LLAMA_bm25-none_k4:  56%|█████▌    | 1405/2500 [16:30<10:30,  1.74it/s]"
          ]
        },
        {
          "name": "stdout",
          "output_type": "stream",
          "text": [
            "Review text: Adorei o produto! A qualidade é excelente e superou minhas expectativas. Recomendo para quem busca algo durável e funcional. Com certeza vou comprar novamente!\n"
          ]
        },
        {
          "name": "stderr",
          "output_type": "stream",
          "text": [
            "\rGenerating for OUTPUT-b2w_dev_reviewText_LLAMA_bm25-none_k4:  56%|█████▌    | 1406/2500 [16:30<11:29,  1.59it/s]"
          ]
        },
        {
          "name": "stdout",
          "output_type": "stream",
          "text": [
            "Review text: The Galaxy Prime has truly exceeded my expectations! The display is vibrant and the camera quality is outstanding, capturing every detail beautifully. The battery life lasts all day, which is a huge plus for someone always on the go. I love the sleek design and how comfortable it feels in my hand. Overall, this phone offers excellent performance and features at a great price. Highly recommend it to anyone looking for a reliable smartphone!\n"
          ]
        },
        {
          "name": "stderr",
          "output_type": "stream",
          "text": [
            "\rGenerating for OUTPUT-b2w_dev_reviewText_LLAMA_bm25-none_k4:  56%|█████▋    | 1407/2500 [16:31<10:41,  1.70it/s]"
          ]
        },
        {
          "name": "stdout",
          "output_type": "stream",
          "text": [
            "Review text: Este produto superou minhas expectativas! A qualidade é excelente e ele funciona perfeitamente. Recomendo a todos que estão em busca de algo confiável e eficaz. Vale cada centavo!\n"
          ]
        },
        {
          "name": "stderr",
          "output_type": "stream",
          "text": [
            "\rGenerating for OUTPUT-b2w_dev_reviewText_LLAMA_bm25-none_k4:  56%|█████▋    | 1408/2500 [16:31<10:41,  1.70it/s]"
          ]
        },
        {
          "name": "stdout",
          "output_type": "stream",
          "text": [
            "Review text: \"Comprei este produto recentemente e estou extremamente satisfeito. A qualidade é excelente e atendeu todas as minhas expectativas. Além disso, o desempenho é notável e realmente faz a diferença no meu dia a dia. Recomendo a todos que buscam algo eficaz e confiável. Vale cada centavo!\"\n"
          ]
        },
        {
          "name": "stderr",
          "output_type": "stream",
          "text": [
            "\rGenerating for OUTPUT-b2w_dev_reviewText_LLAMA_bm25-none_k4:  56%|█████▋    | 1409/2500 [16:35<24:21,  1.34s/it]"
          ]
        },
        {
          "name": "stdout",
          "output_type": "stream",
          "text": [
            "Review text: \"El J7 Prime es un excelente celular. Su pantalla es brillante y clara, lo que hace que ver videos y jugar sea muy placentero. La cámara captura fotos nítidas, incluso en condiciones de poca luz. La duración de la batería es impresionante, me dura todo el día sin problemas. Además, su diseño es elegante y cómodo de sostener. Definitivamente, lo recomendaría a quienes buscan un buen equilibrio entre precio y rendimiento.\"\n"
          ]
        },
        {
          "name": "stderr",
          "output_type": "stream",
          "text": [
            "\rGenerating for OUTPUT-b2w_dev_reviewText_LLAMA_bm25-none_k4:  56%|█████▋    | 1410/2500 [16:35<20:26,  1.13s/it]"
          ]
        },
        {
          "name": "stdout",
          "output_type": "stream",
          "text": [
            "Review text: \"Esse produto superou minhas expectativas! A qualidade é excelente e o desempenho é incrível. Estou muito satisfeito e recomendo a todos que buscam algo eficaz e confiável. Vale cada centavo!\"\n"
          ]
        },
        {
          "name": "stderr",
          "output_type": "stream",
          "text": [
            "\rGenerating for OUTPUT-b2w_dev_reviewText_LLAMA_bm25-none_k4:  56%|█████▋    | 1411/2500 [16:36<17:47,  1.02it/s]"
          ]
        },
        {
          "name": "stdout",
          "output_type": "stream",
          "text": [
            "Review text: Este produto superou minhas expectativas! A qualidade é excelente e ele funciona perfeitamente. Recomendo a todos que estão em busca de algo confiável e eficaz. Com certeza, voltarei a comprar!\n"
          ]
        },
        {
          "name": "stderr",
          "output_type": "stream",
          "text": [
            "\rGenerating for OUTPUT-b2w_dev_reviewText_LLAMA_bm25-none_k4:  56%|█████▋    | 1412/2500 [16:36<15:00,  1.21it/s]"
          ]
        },
        {
          "name": "stdout",
          "output_type": "stream",
          "text": [
            "Review text: Este produto superou minhas expectativas! A qualidade é excelente e ele funciona perfeitamente. Recomendo a todos que buscam um item confiável e eficiente. Vale cada centavo!\n"
          ]
        },
        {
          "name": "stderr",
          "output_type": "stream",
          "text": [
            "\rGenerating for OUTPUT-b2w_dev_reviewText_LLAMA_bm25-none_k4:  57%|█████▋    | 1413/2500 [16:37<16:00,  1.13it/s]"
          ]
        },
        {
          "name": "stdout",
          "output_type": "stream",
          "text": [
            "Review text: The Galaxy J is an impressive smartphone that delivers excellent performance for its price. The display is vibrant and sharp, making it perfect for watching videos and browsing photos. The battery life is outstanding, easily lasting a full day with regular use. I appreciate the user-friendly interface, which makes navigating through apps a breeze. The camera takes decent photos, especially in good lighting, although it struggles a bit in low light. Overall, it's a solid choice for anyone looking for a reliable and affordable device. Highly recommend!\n"
          ]
        },
        {
          "name": "stderr",
          "output_type": "stream",
          "text": [
            "\rGenerating for OUTPUT-b2w_dev_reviewText_LLAMA_bm25-none_k4:  57%|█████▋    | 1414/2500 [16:39<19:52,  1.10s/it]"
          ]
        },
        {
          "name": "stdout",
          "output_type": "stream",
          "text": [
            "Review text: Este produto é simplesmente maravilhoso! A qualidade é excepcional e superou todas as minhas expectativas. Desde o design até a funcionalidade, tudo foi pensado para proporcionar uma experiência incrível. Recomendo a todos que buscam algo realmente especial!\n"
          ]
        },
        {
          "name": "stderr",
          "output_type": "stream",
          "text": [
            "\rGenerating for OUTPUT-b2w_dev_reviewText_LLAMA_bm25-none_k4:  57%|█████▋    | 1415/2500 [16:40<17:10,  1.05it/s]"
          ]
        },
        {
          "name": "stdout",
          "output_type": "stream",
          "text": [
            "Review text: Estou extremamente decepcionado com a transportadora. Já faz quase um mês que fiz o pedido e até agora não recebi nada. A falta de comunicação e a ineficiência no serviço são inaceitáveis. Não recomendo!\n"
          ]
        },
        {
          "name": "stderr",
          "output_type": "stream",
          "text": [
            "\rGenerating for OUTPUT-b2w_dev_reviewText_LLAMA_bm25-none_k4:  57%|█████▋    | 1416/2500 [16:40<15:56,  1.13it/s]"
          ]
        },
        {
          "name": "stdout",
          "output_type": "stream",
          "text": [
            "Review text: I can't recommend this product enough! It has exceeded all my expectations and delivered outstanding performance. The quality is top-notch, and it truly stands out in its category. If you're considering a purchase, go for it—you won't regret it!\n"
          ]
        },
        {
          "name": "stderr",
          "output_type": "stream",
          "text": [
            "\rGenerating for OUTPUT-b2w_dev_reviewText_LLAMA_bm25-none_k4:  57%|█████▋    | 1417/2500 [16:41<14:07,  1.28it/s]"
          ]
        },
        {
          "name": "stdout",
          "output_type": "stream",
          "text": [
            "Review text: \"Estou muito satisfeito com este produto! A qualidade é excelente e atendeu todas as minhas expectativas. Recomendo a todos que buscam algo durável e eficiente. Vale cada centavo!\"\n"
          ]
        },
        {
          "name": "stderr",
          "output_type": "stream",
          "text": [
            "\rGenerating for OUTPUT-b2w_dev_reviewText_LLAMA_bm25-none_k4:  57%|█████▋    | 1418/2500 [16:42<14:11,  1.27it/s]"
          ]
        },
        {
          "name": "stdout",
          "output_type": "stream",
          "text": [
            "Review text: Estou extremamente satisfeito com meu novo celular! A qualidade da câmera é impressionante, as fotos ficam nítidas e vibrantes. A bateria dura o dia todo, mesmo com uso intenso. O design é elegante e a tela é super responsiva. Recomendo a todos que buscam um aparelho confiável e de alto desempenho!\n"
          ]
        },
        {
          "name": "stderr",
          "output_type": "stream",
          "text": [
            "\rGenerating for OUTPUT-b2w_dev_reviewText_LLAMA_bm25-none_k4:  57%|█████▋    | 1419/2500 [16:42<12:56,  1.39it/s]"
          ]
        },
        {
          "name": "stdout",
          "output_type": "stream",
          "text": [
            "Review text: This product exceeded all my expectations! The quality is outstanding, and it performs flawlessly. I couldn't be happier with my purchase. Highly recommend it to anyone looking for the best in the market!\n"
          ]
        },
        {
          "name": "stderr",
          "output_type": "stream",
          "text": [
            "\rGenerating for OUTPUT-b2w_dev_reviewText_LLAMA_bm25-none_k4:  57%|█████▋    | 1420/2500 [16:43<12:50,  1.40it/s]"
          ]
        },
        {
          "name": "stdout",
          "output_type": "stream",
          "text": [
            "Review text: \"Este producto superó mis expectativas. La calidad es excepcional y funciona a la perfección. Sin duda lo recomendaría a cualquiera que busque algo fiable y eficiente. ¡Estoy muy satisfecho con mi compra!\"\n"
          ]
        },
        {
          "name": "stderr",
          "output_type": "stream",
          "text": [
            "\rGenerating for OUTPUT-b2w_dev_reviewText_LLAMA_bm25-none_k4:  57%|█████▋    | 1421/2500 [16:43<11:31,  1.56it/s]"
          ]
        },
        {
          "name": "stdout",
          "output_type": "stream",
          "text": [
            "Review text: Este produto superou minhas expectativas! A qualidade é excelente e ele funciona perfeitamente. Recomendo a todos que estão em busca de algo confiável e eficiente. Vale cada centavo!\n"
          ]
        },
        {
          "name": "stderr",
          "output_type": "stream",
          "text": [
            "\rGenerating for OUTPUT-b2w_dev_reviewText_LLAMA_bm25-none_k4:  57%|█████▋    | 1422/2500 [16:44<12:30,  1.44it/s]"
          ]
        },
        {
          "name": "stdout",
          "output_type": "stream",
          "text": [
            "Review text: \"Comprei este produto com grandes expectativas, mas infelizmente não atendeu ao que eu esperava. A qualidade não é tão boa quanto prometido e alguns recursos deixaram a desejar. Espero que em futuras versões, as melhorias sejam implementadas.\"\n"
          ]
        },
        {
          "name": "stderr",
          "output_type": "stream",
          "text": [
            "\rGenerating for OUTPUT-b2w_dev_reviewText_LLAMA_bm25-none_k4:  57%|█████▋    | 1423/2500 [16:45<11:40,  1.54it/s]"
          ]
        },
        {
          "name": "stdout",
          "output_type": "stream",
          "text": [
            "Review text: \"Comprei este produto recentemente e estou extremamente satisfeito! A qualidade é excelente e atendeu todas as minhas expectativas. Recomendo a todos que estão em dúvida, pois vale muito a pena!\"\n"
          ]
        },
        {
          "name": "stderr",
          "output_type": "stream",
          "text": [
            "\rGenerating for OUTPUT-b2w_dev_reviewText_LLAMA_bm25-none_k4:  57%|█████▋    | 1424/2500 [16:46<12:25,  1.44it/s]"
          ]
        },
        {
          "name": "stdout",
          "output_type": "stream",
          "text": [
            "Review text: The J7 Prime has exceeded my expectations in both performance and design. The sleek look and feel make it a pleasure to use, and the display is vibrant and sharp. Battery life is impressive, lasting all day even with heavy use. The camera captures stunning photos, even in low light. Overall, it's a fantastic device that offers great value for the price. Highly recommend!\n"
          ]
        },
        {
          "name": "stderr",
          "output_type": "stream",
          "text": [
            "\rGenerating for OUTPUT-b2w_dev_reviewText_LLAMA_bm25-none_k4:  57%|█████▋    | 1425/2500 [16:46<11:57,  1.50it/s]"
          ]
        },
        {
          "name": "stdout",
          "output_type": "stream",
          "text": [
            "Review text: \"Comprei este produto recentemente e fiquei muito satisfeito com a qualidade. Ele atendeu todas as minhas expectativas e realmente fez a diferença no meu dia a dia. Recomendo a todos que estão em dúvida!\"\n"
          ]
        },
        {
          "name": "stderr",
          "output_type": "stream",
          "text": [
            "\rGenerating for OUTPUT-b2w_dev_reviewText_LLAMA_bm25-none_k4:  57%|█████▋    | 1426/2500 [16:46<10:19,  1.73it/s]"
          ]
        },
        {
          "name": "stdout",
          "output_type": "stream",
          "text": [
            "Review text: \"Adorei o produto! Atendeu todas as minhas expectativas e a qualidade é excelente. Recomendo a todos que buscam algo confiável e eficiente.\"\n"
          ]
        },
        {
          "name": "stderr",
          "output_type": "stream",
          "text": [
            "\rGenerating for OUTPUT-b2w_dev_reviewText_LLAMA_bm25-none_k4:  57%|█████▋    | 1427/2500 [16:47<12:05,  1.48it/s]"
          ]
        },
        {
          "name": "stdout",
          "output_type": "stream",
          "text": [
            "Review text: The Samsung J7 Prime is a fantastic smartphone that combines style and functionality. The sleek design feels premium in hand, and the display is vibrant and clear, making it perfect for watching videos and browsing. The battery life is impressive, easily lasting a full day with regular use. The camera takes great photos, even in low light, which is a big plus for me. Overall, it's a reliable device that offers great value for money. Highly recommend!\n"
          ]
        },
        {
          "name": "stderr",
          "output_type": "stream",
          "text": [
            "\rGenerating for OUTPUT-b2w_dev_reviewText_LLAMA_bm25-none_k4:  57%|█████▋    | 1428/2500 [16:48<12:31,  1.43it/s]"
          ]
        },
        {
          "name": "stdout",
          "output_type": "stream",
          "text": [
            "Review text: Estou extremamente decepcionado com a experiência de compra. O produto nunca chegou e, ao tentar entrar em contato com a empresa, não obtive nenhuma resposta. A falta de respeito e atenção ao cliente é inaceitável. Definitivamente, não recomendo essa empresa e não pretendo comprar novamente.\n"
          ]
        },
        {
          "name": "stderr",
          "output_type": "stream",
          "text": [
            "\rGenerating for OUTPUT-b2w_dev_reviewText_LLAMA_bm25-none_k4:  57%|█████▋    | 1429/2500 [16:49<13:05,  1.36it/s]"
          ]
        },
        {
          "name": "stdout",
          "output_type": "stream",
          "text": [
            "Review text: Este celular superou todas as minhas expectativas! A qualidade da câmera é impressionante, as fotos saem nítidas e vibrantes. A bateria dura o dia todo, mesmo com uso intenso, e a performance é fluida, sem travamentos. O design é elegante e a tela é grande e brilhante, perfeita para assistir vídeos. Recomendo a todos que buscam um ótimo custo-benefício!\n"
          ]
        },
        {
          "name": "stderr",
          "output_type": "stream",
          "text": [
            "\rGenerating for OUTPUT-b2w_dev_reviewText_LLAMA_bm25-none_k4:  57%|█████▋    | 1430/2500 [16:50<15:01,  1.19it/s]"
          ]
        },
        {
          "name": "stdout",
          "output_type": "stream",
          "text": [
            "Review text: The Samsung Galaxy J7 Prime is an impressive smartphone that combines style and functionality. The display is vibrant and sharp, making it perfect for watching videos and browsing the web. The battery life is outstanding, easily lasting a full day with regular use. The camera captures great photos, even in low light, which is a huge plus for anyone who loves photography. The performance is smooth, with apps launching quickly and multitasking being a breeze. Overall, the J7 Prime offers excellent value for its price and is a solid choice for anyone in the market for a reliable smartphone. Highly recommended!\n"
          ]
        },
        {
          "name": "stderr",
          "output_type": "stream",
          "text": [
            "\rGenerating for OUTPUT-b2w_dev_reviewText_LLAMA_bm25-none_k4:  57%|█████▋    | 1431/2500 [16:51<13:36,  1.31it/s]"
          ]
        },
        {
          "name": "stdout",
          "output_type": "stream",
          "text": [
            "Review text: Este produto superou minhas expectativas! A qualidade é excelente e o desempenho é impecável. Recomendo a todos que buscam um item confiável e eficiente. Ótima compra!\n"
          ]
        },
        {
          "name": "stderr",
          "output_type": "stream",
          "text": [
            "\rGenerating for OUTPUT-b2w_dev_reviewText_LLAMA_bm25-none_k4:  57%|█████▋    | 1432/2500 [16:51<12:15,  1.45it/s]"
          ]
        },
        {
          "name": "stdout",
          "output_type": "stream",
          "text": [
            "Review text: Este produto superou minhas expectativas! A qualidade é excelente e o desempenho é impecável. Recomendo para quem busca um ótimo custo-benefício. Estou muito satisfeito com a compra!\n"
          ]
        },
        {
          "name": "stderr",
          "output_type": "stream",
          "text": [
            "\rGenerating for OUTPUT-b2w_dev_reviewText_LLAMA_bm25-none_k4:  57%|█████▋    | 1433/2500 [16:52<11:15,  1.58it/s]"
          ]
        },
        {
          "name": "stdout",
          "output_type": "stream",
          "text": [
            "Review text: Estou muito satisfeito com o produto! A qualidade é excelente e superou minhas expectativas. Recomendo a todos que estão em dúvida. Vale a pena!\n"
          ]
        },
        {
          "name": "stderr",
          "output_type": "stream",
          "text": [
            "\rGenerating for OUTPUT-b2w_dev_reviewText_LLAMA_bm25-none_k4:  57%|█████▋    | 1434/2500 [16:52<10:17,  1.73it/s]"
          ]
        },
        {
          "name": "stdout",
          "output_type": "stream",
          "text": [
            "Review text: Adorei o produto! Atendeu todas as minhas expectativas e a qualidade é excelente. Com certeza vou recomendar para amigos e familiares. Muito satisfeito com a compra!\n"
          ]
        },
        {
          "name": "stderr",
          "output_type": "stream",
          "text": [
            "\rGenerating for OUTPUT-b2w_dev_reviewText_LLAMA_bm25-none_k4:  57%|█████▋    | 1435/2500 [16:53<10:11,  1.74it/s]"
          ]
        },
        {
          "name": "stdout",
          "output_type": "stream",
          "text": [
            "Review text: Este produto superou todas as minhas expectativas! A qualidade é excepcional e o desempenho é impecável. Recomendo a todos que buscam um item confiável e eficiente. Vale cada centavo!\n"
          ]
        },
        {
          "name": "stderr",
          "output_type": "stream",
          "text": [
            "\rGenerating for OUTPUT-b2w_dev_reviewText_LLAMA_bm25-none_k4:  57%|█████▋    | 1436/2500 [16:56<25:51,  1.46s/it]"
          ]
        },
        {
          "name": "stdout",
          "output_type": "stream",
          "text": [
            "Review text: A entrega foi rápida e dentro do prazo prometido, o que me deixou muito satisfeito. O produto chegou em perfeito estado e exatamente como descrito. Recomendo a todos!\n"
          ]
        },
        {
          "name": "stderr",
          "output_type": "stream",
          "text": [
            "\rGenerating for OUTPUT-b2w_dev_reviewText_LLAMA_bm25-none_k4:  57%|█████▋    | 1437/2500 [16:57<21:26,  1.21s/it]"
          ]
        },
        {
          "name": "stdout",
          "output_type": "stream",
          "text": [
            "Review text: \"Comprei este produto como presente e fiquei muito satisfeito! A qualidade é excepcional e o design é encantador. A pessoa que recebeu adorou e já está usando todos os dias. Recomendo para quem busca algo especial!\"\n"
          ]
        },
        {
          "name": "stderr",
          "output_type": "stream",
          "text": [
            "\rGenerating for OUTPUT-b2w_dev_reviewText_LLAMA_bm25-none_k4:  58%|█████▊    | 1438/2500 [16:57<17:12,  1.03it/s]"
          ]
        },
        {
          "name": "stdout",
          "output_type": "stream",
          "text": [
            "Review text: Adorei o produto! Atendeu todas as minhas expectativas e a qualidade é excelente. Com certeza, vou recomendar para amigos e familiares. Valeu cada centavo!\n"
          ]
        },
        {
          "name": "stderr",
          "output_type": "stream",
          "text": [
            "\rGenerating for OUTPUT-b2w_dev_reviewText_LLAMA_bm25-none_k4:  58%|█████▊    | 1439/2500 [16:58<16:24,  1.08it/s]"
          ]
        },
        {
          "name": "stdout",
          "output_type": "stream",
          "text": [
            "Review text: Este produto superou minhas expectativas! A qualidade é excelente e o desempenho é notável. Recomendo a todos que buscam algo eficaz e confiável. Estou muito satisfeito com a compra!\n"
          ]
        },
        {
          "name": "stderr",
          "output_type": "stream",
          "text": [
            "\rGenerating for OUTPUT-b2w_dev_reviewText_LLAMA_bm25-none_k4:  58%|█████▊    | 1440/2500 [16:59<15:52,  1.11it/s]"
          ]
        },
        {
          "name": "stdout",
          "output_type": "stream",
          "text": [
            "Review text: Infelizmente, recebi o produto com um defeito que compromete seu funcionamento. Tentei entrar em contato com o suporte, mas a resposta foi demorada e não resolutiva. Estou desapontado com a qualidade e espero uma solução rápida.\n"
          ]
        },
        {
          "name": "stderr",
          "output_type": "stream",
          "text": [
            "\rGenerating for OUTPUT-b2w_dev_reviewText_LLAMA_bm25-none_k4:  58%|█████▊    | 1441/2500 [17:01<21:00,  1.19s/it]"
          ]
        },
        {
          "name": "stdout",
          "output_type": "stream",
          "text": [
            "Review text: \"Estoy muy satisfecho con mi compra. El producto cumple con todas mis expectativas y funciona perfectamente. La calidad es excelente y el envío fue rápido. Definitivamente lo recomendaría a otros.\"\n"
          ]
        },
        {
          "name": "stderr",
          "output_type": "stream",
          "text": [
            "\rGenerating for OUTPUT-b2w_dev_reviewText_LLAMA_bm25-none_k4:  58%|█████▊    | 1442/2500 [17:03<28:27,  1.61s/it]"
          ]
        },
        {
          "name": "stdout",
          "output_type": "stream",
          "text": [
            "Review text: \"Estou muito satisfeito com a qualidade e o desempenho deste produto. Ele superou minhas expectativas e atendeu todas as minhas necessidades. Recomendo a todos que estão em busca de algo confiável e eficiente!\"\n"
          ]
        },
        {
          "name": "stderr",
          "output_type": "stream",
          "text": [
            "\rGenerating for OUTPUT-b2w_dev_reviewText_LLAMA_bm25-none_k4:  58%|█████▊    | 1443/2500 [17:04<24:23,  1.38s/it]"
          ]
        },
        {
          "name": "stdout",
          "output_type": "stream",
          "text": [
            "Review text: Este produto atendeu minhas expectativas de forma satisfatória. A qualidade é boa e cumpre o que promete. Recomendo para quem busca uma opção confiável e eficiente.\n"
          ]
        },
        {
          "name": "stderr",
          "output_type": "stream",
          "text": [
            "\rGenerating for OUTPUT-b2w_dev_reviewText_LLAMA_bm25-none_k4:  58%|█████▊    | 1444/2500 [17:05<21:03,  1.20s/it]"
          ]
        },
        {
          "name": "stdout",
          "output_type": "stream",
          "text": [
            "Review text: Este producto superó mis expectativas. La calidad es excepcional y su rendimiento es impresionante. Definitivamente lo recomendaría a cualquiera que busque algo confiable y efectivo. ¡Una compra excelente!\n"
          ]
        },
        {
          "name": "stderr",
          "output_type": "stream",
          "text": [
            "\rGenerating for OUTPUT-b2w_dev_reviewText_LLAMA_bm25-none_k4:  58%|█████▊    | 1445/2500 [17:06<20:24,  1.16s/it]"
          ]
        },
        {
          "name": "stdout",
          "output_type": "stream",
          "text": [
            "Review text: \"Esse celular superou minhas expectativas! A câmera é incrível, as fotos saem nítidas e com cores vibrantes. A bateria dura o dia todo, mesmo com uso intenso. O desempenho é rápido e fluido, não travou em nenhum momento. Além disso, o design é elegante e confortável de segurar. Recomendo para quem busca um ótimo custo-benefício!\"\n"
          ]
        },
        {
          "name": "stderr",
          "output_type": "stream",
          "text": [
            "\rGenerating for OUTPUT-b2w_dev_reviewText_LLAMA_bm25-none_k4:  58%|█████▊    | 1446/2500 [17:07<17:33,  1.00it/s]"
          ]
        },
        {
          "name": "stdout",
          "output_type": "stream",
          "text": [
            "Review text: Adorei este produto! A qualidade é excepcional e o design é simplesmente lindo. Superou minhas expectativas e definitivamente valeu a pena. Recomendo a todos que buscam algo especial!\n"
          ]
        },
        {
          "name": "stderr",
          "output_type": "stream",
          "text": [
            "\rGenerating for OUTPUT-b2w_dev_reviewText_LLAMA_bm25-none_k4:  58%|█████▊    | 1447/2500 [17:07<14:46,  1.19it/s]"
          ]
        },
        {
          "name": "stdout",
          "output_type": "stream",
          "text": [
            "Review text: Este produto superou minhas expectativas! A qualidade é excelente e o desempenho é notável. Recomendo a todos que buscam um item confiável e eficiente. Vale cada centavo!\n"
          ]
        },
        {
          "name": "stderr",
          "output_type": "stream",
          "text": [
            "\rGenerating for OUTPUT-b2w_dev_reviewText_LLAMA_bm25-none_k4:  58%|█████▊    | 1448/2500 [17:08<12:51,  1.36it/s]"
          ]
        },
        {
          "name": "stdout",
          "output_type": "stream",
          "text": [
            "Review text: Este produto superou minhas expectativas! A qualidade é excelente e o desempenho é notável. Recomendo a todos que buscam algo confiável e eficiente. Vale cada centavo!\n"
          ]
        },
        {
          "name": "stderr",
          "output_type": "stream",
          "text": [
            "\rGenerating for OUTPUT-b2w_dev_reviewText_LLAMA_bm25-none_k4:  58%|█████▊    | 1449/2500 [17:08<11:57,  1.46it/s]"
          ]
        },
        {
          "name": "stdout",
          "output_type": "stream",
          "text": [
            "Review text: \"Absolutely love this product! It exceeded my expectations in every way. The quality is top-notch, and it performs flawlessly. I can't recommend it enough to anyone looking for something reliable and effective. A must-have!\"\n"
          ]
        },
        {
          "name": "stderr",
          "output_type": "stream",
          "text": [
            "\rGenerating for OUTPUT-b2w_dev_reviewText_LLAMA_bm25-none_k4:  58%|█████▊    | 1450/2500 [17:09<13:03,  1.34it/s]"
          ]
        },
        {
          "name": "stdout",
          "output_type": "stream",
          "text": [
            "Review text: \"I was really excited to try 'Perdi' after hearing so many positive things about it. Unfortunately, it didn't live up to my expectations. The flavor was underwhelming and it didn't have the depth I was hoping for. I found it to be quite bland and lacking in the richness that I enjoy in similar products. I wanted to love it, but it just fell flat for me.\"\n"
          ]
        },
        {
          "name": "stderr",
          "output_type": "stream",
          "text": [
            "\rGenerating for OUTPUT-b2w_dev_reviewText_LLAMA_bm25-none_k4:  58%|█████▊    | 1451/2500 [17:09<11:11,  1.56it/s]"
          ]
        },
        {
          "name": "stdout",
          "output_type": "stream",
          "text": [
            "Review text: This product exceeded all my expectations! The quality is outstanding, and it performs flawlessly. I couldn't be happier with my purchase. Highly recommend to anyone considering it!\n"
          ]
        },
        {
          "name": "stderr",
          "output_type": "stream",
          "text": [
            "\rGenerating for OUTPUT-b2w_dev_reviewText_LLAMA_bm25-none_k4:  58%|█████▊    | 1452/2500 [17:10<10:10,  1.72it/s]"
          ]
        },
        {
          "name": "stdout",
          "output_type": "stream",
          "text": [
            "Review text: Adorei o produto! Atendeu todas as minhas expectativas e a qualidade é excelente. Com certeza recomendo!\n"
          ]
        },
        {
          "name": "stderr",
          "output_type": "stream",
          "text": [
            "\rGenerating for OUTPUT-b2w_dev_reviewText_LLAMA_bm25-none_k4:  58%|█████▊    | 1453/2500 [17:10<09:12,  1.89it/s]"
          ]
        },
        {
          "name": "stdout",
          "output_type": "stream",
          "text": [
            "Review text: \"Estoy muy satisfecho con la rapidez de la entrega. El producto llegó en perfectas condiciones y antes de lo esperado. Sin duda, volveré a comprar.\"\n"
          ]
        },
        {
          "name": "stderr",
          "output_type": "stream",
          "text": [
            "\rGenerating for OUTPUT-b2w_dev_reviewText_LLAMA_bm25-none_k4:  58%|█████▊    | 1454/2500 [17:11<09:36,  1.82it/s]"
          ]
        },
        {
          "name": "stdout",
          "output_type": "stream",
          "text": [
            "Review text: \"Comprei este produto recentemente e simplesmente adorei! A qualidade é excepcional e superou minhas expectativas. Além disso, o design é lindo e funcional. Recomendo a todos que estão em dúvida, vale muito a pena!\"\n"
          ]
        },
        {
          "name": "stderr",
          "output_type": "stream",
          "text": [
            "\rGenerating for OUTPUT-b2w_dev_reviewText_LLAMA_bm25-none_k4:  58%|█████▊    | 1455/2500 [17:12<09:59,  1.74it/s]"
          ]
        },
        {
          "name": "stdout",
          "output_type": "stream",
          "text": [
            "Review text: Este produto superou minhas expectativas! A qualidade é excelente e ele funciona perfeitamente. Estou muito satisfeito com a compra e recomendo a todos que buscam algo confiável e eficiente. Vale cada centavo!\n"
          ]
        },
        {
          "name": "stderr",
          "output_type": "stream",
          "text": [
            "\rGenerating for OUTPUT-b2w_dev_reviewText_LLAMA_bm25-none_k4:  58%|█████▊    | 1456/2500 [17:12<09:53,  1.76it/s]"
          ]
        },
        {
          "name": "stdout",
          "output_type": "stream",
          "text": [
            "Review text: Estou muito satisfeita com este produto! Atendeu todas as minhas expectativas e a qualidade é excepcional. Recomendo a todos que estão em busca de algo confiável e eficiente. Com certeza, voltarei a comprar!\n"
          ]
        },
        {
          "name": "stderr",
          "output_type": "stream",
          "text": [
            "\rGenerating for OUTPUT-b2w_dev_reviewText_LLAMA_bm25-none_k4:  58%|█████▊    | 1457/2500 [17:13<10:07,  1.72it/s]"
          ]
        },
        {
          "name": "stdout",
          "output_type": "stream",
          "text": [
            "Review text: \"Este produto superou minhas expectativas! A qualidade é excelente e o desempenho é incrível. Estou muito satisfeita com a compra e definitivamente recomendo para quem busca algo eficaz e confiável. Adorei!\"\n"
          ]
        },
        {
          "name": "stderr",
          "output_type": "stream",
          "text": [
            "\rGenerating for OUTPUT-b2w_dev_reviewText_LLAMA_bm25-none_k4:  58%|█████▊    | 1458/2500 [17:13<09:46,  1.78it/s]"
          ]
        },
        {
          "name": "stdout",
          "output_type": "stream",
          "text": [
            "Review text: Adorei o produto! A qualidade é excepcional e superou minhas expectativas. O design é lindo e funcional, tornando o uso muito agradável. Recomendo a todos que estão em busca de algo que realmente faça a diferença!\n"
          ]
        },
        {
          "name": "stderr",
          "output_type": "stream",
          "text": [
            "\rGenerating for OUTPUT-b2w_dev_reviewText_LLAMA_bm25-none_k4:  58%|█████▊    | 1459/2500 [17:14<10:12,  1.70it/s]"
          ]
        },
        {
          "name": "stdout",
          "output_type": "stream",
          "text": [
            "Review text: O celular não decepcionou, mas a entrega foi um pouco demorada. O aparelho tem um desempenho excelente e a câmera é incrível, mas a ansiedade pela chegada acabou tirando um pouco da experiência. No geral, estou satisfeito com o produto!\n"
          ]
        },
        {
          "name": "stderr",
          "output_type": "stream",
          "text": [
            "\rGenerating for OUTPUT-b2w_dev_reviewText_LLAMA_bm25-none_k4:  58%|█████▊    | 1460/2500 [17:14<09:50,  1.76it/s]"
          ]
        },
        {
          "name": "stdout",
          "output_type": "stream",
          "text": [
            "Review text: \"Comprei este produto e não me arrependi! A qualidade é excelente e atendeu todas as minhas expectativas. Vale cada centavo investido. Recomendo a todos que buscam um bom custo-benefício!\"\n"
          ]
        },
        {
          "name": "stderr",
          "output_type": "stream",
          "text": [
            "\rGenerating for OUTPUT-b2w_dev_reviewText_LLAMA_bm25-none_k4:  58%|█████▊    | 1461/2500 [17:15<10:14,  1.69it/s]"
          ]
        },
        {
          "name": "stdout",
          "output_type": "stream",
          "text": [
            "Review text: Este produto realmente superou minhas expectativas! A qualidade é excepcional e vale cada centavo. Estou completamente apaixonada por ele e recomendo a todos que buscam algo durável e eficiente. Com certeza, voltarei a comprar!\n"
          ]
        },
        {
          "name": "stderr",
          "output_type": "stream",
          "text": [
            "\rGenerating for OUTPUT-b2w_dev_reviewText_LLAMA_bm25-none_k4:  58%|█████▊    | 1462/2500 [17:16<12:08,  1.43it/s]"
          ]
        },
        {
          "name": "stdout",
          "output_type": "stream",
          "text": [
            "Review text: \"I recently purchased the Lindooo and I couldn't be happier! The quality is outstanding, and it exceeded my expectations in every way. The design is sleek and modern, making it a great addition to my home. It functions perfectly and has made my life so much easier. Highly recommend to anyone looking for a reliable and stylish product!\"\n"
          ]
        },
        {
          "name": "stderr",
          "output_type": "stream",
          "text": [
            "\rGenerating for OUTPUT-b2w_dev_reviewText_LLAMA_bm25-none_k4:  59%|█████▊    | 1463/2500 [17:17<13:59,  1.24it/s]"
          ]
        },
        {
          "name": "stdout",
          "output_type": "stream",
          "text": [
            "Review text: The J7 has truly exceeded my expectations! The performance is smooth, and the display is vibrant and clear. I love the camera quality; it captures stunning photos even in low light. Battery life is impressive, lasting all day with regular use. The design feels premium and fits comfortably in my hand. Overall, a fantastic device that offers great value for the price! Highly recommend it to anyone in the market for a reliable smartphone.\n"
          ]
        },
        {
          "name": "stderr",
          "output_type": "stream",
          "text": [
            "\rGenerating for OUTPUT-b2w_dev_reviewText_LLAMA_bm25-none_k4:  59%|█████▊    | 1464/2500 [17:18<12:49,  1.35it/s]"
          ]
        },
        {
          "name": "stdout",
          "output_type": "stream",
          "text": [
            "Review text: Este produto superou minhas expectativas! A qualidade é excelente e o desempenho é notável. Recomendo a todos que buscam algo confiável e eficiente. Vale cada centavo!\n"
          ]
        },
        {
          "name": "stderr",
          "output_type": "stream",
          "text": [
            "\rGenerating for OUTPUT-b2w_dev_reviewText_LLAMA_bm25-none_k4:  59%|█████▊    | 1465/2500 [17:18<11:21,  1.52it/s]"
          ]
        },
        {
          "name": "stdout",
          "output_type": "stream",
          "text": [
            "Review text: Este producto superó mis expectativas. La calidad es excepcional y funciona a la perfección. Definitivamente lo recomendaría a otros. ¡Estoy muy satisfecho con mi compra!\n"
          ]
        },
        {
          "name": "stderr",
          "output_type": "stream",
          "text": [
            "\rGenerating for OUTPUT-b2w_dev_reviewText_LLAMA_bm25-none_k4:  59%|█████▊    | 1466/2500 [17:19<10:33,  1.63it/s]"
          ]
        },
        {
          "name": "stdout",
          "output_type": "stream",
          "text": [
            "Review text: Estou muito satisfeito com este produto! A qualidade é excelente e atendeu todas as minhas expectativas. Recomendo a todos que estão em busca de algo confiável e eficiente. Com certeza voltarei a comprar!\n"
          ]
        },
        {
          "name": "stderr",
          "output_type": "stream",
          "text": [
            "\rGenerating for OUTPUT-b2w_dev_reviewText_LLAMA_bm25-none_k4:  59%|█████▊    | 1467/2500 [17:19<10:07,  1.70it/s]"
          ]
        },
        {
          "name": "stdout",
          "output_type": "stream",
          "text": [
            "Review text: \"Estou muito satisfeito com o produto! A qualidade superou minhas expectativas e o atendimento foi excelente. Recomendo a todos!\"\n"
          ]
        },
        {
          "name": "stderr",
          "output_type": "stream",
          "text": [
            "\rGenerating for OUTPUT-b2w_dev_reviewText_LLAMA_bm25-none_k4:  59%|█████▊    | 1468/2500 [17:20<10:53,  1.58it/s]"
          ]
        },
        {
          "name": "stdout",
          "output_type": "stream",
          "text": [
            "Review text: Este produto é simplesmente maravilhoso! A qualidade é excepcional e superou todas as minhas expectativas. Desde o design até a funcionalidade, tudo é perfeito. Recomendo a todos que buscam algo especial e de alta performance. Não me arrependo nem um pouco da minha compra!\n"
          ]
        },
        {
          "name": "stderr",
          "output_type": "stream",
          "text": [
            "\rGenerating for OUTPUT-b2w_dev_reviewText_LLAMA_bm25-none_k4:  59%|█████▉    | 1469/2500 [17:20<10:30,  1.63it/s]"
          ]
        },
        {
          "name": "stdout",
          "output_type": "stream",
          "text": [
            "Review text: \"Este produto trouxe uma alegria indescritível para o meu dia a dia. A qualidade é excepcional e superou todas as minhas expectativas. Cada vez que o uso, sinto uma onda de felicidade. Recomendo a todos que buscam um toque especial em suas vidas!\"\n"
          ]
        },
        {
          "name": "stderr",
          "output_type": "stream",
          "text": [
            "\rGenerating for OUTPUT-b2w_dev_reviewText_LLAMA_bm25-none_k4:  59%|█████▉    | 1470/2500 [17:21<10:17,  1.67it/s]"
          ]
        },
        {
          "name": "stdout",
          "output_type": "stream",
          "text": [
            "Review text: \"Este produto superou todas as minhas expectativas! A qualidade é excepcional e o desempenho é impecável. Estou completamente apaixonado por ele e recomendo a todos que buscam algo realmente especial. Vale cada centavo!\"\n"
          ]
        },
        {
          "name": "stderr",
          "output_type": "stream",
          "text": [
            "\rGenerating for OUTPUT-b2w_dev_reviewText_LLAMA_bm25-none_k4:  59%|█████▉    | 1471/2500 [17:22<12:22,  1.39it/s]"
          ]
        },
        {
          "name": "stdout",
          "output_type": "stream",
          "text": [
            "Review text: \"Estou completamente apaixonada pelo meu novo celular! A qualidade da câmera é incrível, as fotos saem nítidas e vibrantes. A bateria dura o dia todo, o que é perfeito para minha rotina agitada. Além disso, o design é elegante e moderno. A experiência de uso é super fluida e rápida. Recomendo a todos que estão em busca de um celular que une beleza e eficiência!\"\n"
          ]
        },
        {
          "name": "stderr",
          "output_type": "stream",
          "text": [
            "\rGenerating for OUTPUT-b2w_dev_reviewText_LLAMA_bm25-none_k4:  59%|█████▉    | 1472/2500 [17:23<11:38,  1.47it/s]"
          ]
        },
        {
          "name": "stdout",
          "output_type": "stream",
          "text": [
            "Review text: \"Recebi o celular e, para minha surpresa, ele veio com marcas de uso e arranhões. Esperava um produto novo, mas parece que foi reformado. Fiquei decepcionado com a qualidade e a apresentação. Não recomendo se você está buscando algo em perfeito estado.\"\n"
          ]
        },
        {
          "name": "stderr",
          "output_type": "stream",
          "text": [
            "\rGenerating for OUTPUT-b2w_dev_reviewText_LLAMA_bm25-none_k4:  59%|█████▉    | 1473/2500 [17:23<11:36,  1.47it/s]"
          ]
        },
        {
          "name": "stdout",
          "output_type": "stream",
          "text": [
            "Review text: Este aparelho é simplesmente maravilhoso! A tela grande é perfeita para assistir vídeos e jogar, e o design fininho torna-o super elegante. Ao contrário de outros dispositivos da Samsung que já possuí, este não trava, o que é um grande alívio. Estou muito satisfeito com a minha compra!\n"
          ]
        },
        {
          "name": "stderr",
          "output_type": "stream",
          "text": [
            "\rGenerating for OUTPUT-b2w_dev_reviewText_LLAMA_bm25-none_k4:  59%|█████▉    | 1474/2500 [17:24<11:45,  1.45it/s]"
          ]
        },
        {
          "name": "stdout",
          "output_type": "stream",
          "text": [
            "Review text: \"Comprei este celular recentemente e estou completamente apaixonado! A qualidade da câmera é incrível, as fotos saem nítidas e vibrantes. A bateria dura o dia todo, mesmo com uso intenso. O design é elegante e leve, tornando-o fácil de carregar. A interface é super intuitiva, o que facilita muito o uso. Recomendo para quem busca um ótimo custo-benefício!\"\n"
          ]
        },
        {
          "name": "stderr",
          "output_type": "stream",
          "text": [
            "\rGenerating for OUTPUT-b2w_dev_reviewText_LLAMA_bm25-none_k4:  59%|█████▉    | 1475/2500 [17:25<11:47,  1.45it/s]"
          ]
        },
        {
          "name": "stdout",
          "output_type": "stream",
          "text": [
            "Review text: \"Estou muito satisfeito com a qualidade e a performance deste produto. Ele atendeu todas as minhas expectativas e se mostrou bastante eficiente. Recomendo a todos que estão em busca de algo confiável e de bom desempenho!\"\n"
          ]
        },
        {
          "name": "stderr",
          "output_type": "stream",
          "text": [
            "\rGenerating for OUTPUT-b2w_dev_reviewText_LLAMA_bm25-none_k4:  59%|█████▉    | 1476/2500 [17:25<10:51,  1.57it/s]"
          ]
        },
        {
          "name": "stdout",
          "output_type": "stream",
          "text": [
            "Review text: La entrega fue increíblemente rápida, superó mis expectativas. El producto llegó en perfectas condiciones y justo a tiempo. Definitivamente recomendaría este servicio a otros.\n"
          ]
        },
        {
          "name": "stderr",
          "output_type": "stream",
          "text": [
            "\rGenerating for OUTPUT-b2w_dev_reviewText_LLAMA_bm25-none_k4:  59%|█████▉    | 1477/2500 [17:26<11:21,  1.50it/s]"
          ]
        },
        {
          "name": "stdout",
          "output_type": "stream",
          "text": [
            "Review text: \"Estou completamente apaixonada pelo meu novo celular! A qualidade da câmera é incrível, as fotos saem nítidas e vibrantes. A bateria dura o dia todo, mesmo com uso intenso. O design é elegante e leve, tornando-o fácil de manusear. Além disso, a interface é super intuitiva e rápida. Sem dúvida, super recomendo para quem busca um ótimo custo-benefício!\"\n"
          ]
        },
        {
          "name": "stderr",
          "output_type": "stream",
          "text": [
            "\rGenerating for OUTPUT-b2w_dev_reviewText_LLAMA_bm25-none_k4:  59%|█████▉    | 1478/2500 [17:26<10:05,  1.69it/s]"
          ]
        },
        {
          "name": "stdout",
          "output_type": "stream",
          "text": [
            "Review text: \"Eu realmente gostei muito deste produto! A qualidade é excelente e atendeu todas as minhas expectativas. Recomendo para quem busca algo confiável e eficiente.\"\n"
          ]
        },
        {
          "name": "stderr",
          "output_type": "stream",
          "text": [
            "\rGenerating for OUTPUT-b2w_dev_reviewText_LLAMA_bm25-none_k4:  59%|█████▉    | 1479/2500 [17:27<10:53,  1.56it/s]"
          ]
        },
        {
          "name": "stdout",
          "output_type": "stream",
          "text": [
            "Review text: \"Este produto superou todas as minhas expectativas! A qualidade é excepcional e o desempenho é impecável. Estou completamente satisfeito e recomendo a todos que buscam algo realmente maravilhoso. Vale cada centavo!\"\n"
          ]
        },
        {
          "name": "stderr",
          "output_type": "stream",
          "text": [
            "\rGenerating for OUTPUT-b2w_dev_reviewText_LLAMA_bm25-none_k4:  59%|█████▉    | 1480/2500 [17:28<10:11,  1.67it/s]"
          ]
        },
        {
          "name": "stdout",
          "output_type": "stream",
          "text": [
            "Review text: Este produto superou todas as minhas expectativas! A qualidade é excepcional e o desempenho é impecável. Recomendo a todos que buscam um item confiável e eficaz. Vale cada centavo!\n"
          ]
        },
        {
          "name": "stderr",
          "output_type": "stream",
          "text": [
            "\rGenerating for OUTPUT-b2w_dev_reviewText_LLAMA_bm25-none_k4:  59%|█████▉    | 1481/2500 [17:28<10:26,  1.63it/s]"
          ]
        },
        {
          "name": "stdout",
          "output_type": "stream",
          "text": [
            "Review text: \"Absolutely love this product! It exceeded my expectations in every way. The quality is top-notch, and it performs flawlessly. I highly recommend it to anyone looking for something reliable and effective. OTIMO has truly impressed me!\"\n"
          ]
        },
        {
          "name": "stderr",
          "output_type": "stream",
          "text": [
            "\rGenerating for OUTPUT-b2w_dev_reviewText_LLAMA_bm25-none_k4:  59%|█████▉    | 1482/2500 [17:29<10:05,  1.68it/s]"
          ]
        },
        {
          "name": "stdout",
          "output_type": "stream",
          "text": [
            "Review text: \"Recebi o produto rapidamente e em perfeito estado. A qualidade superou minhas expectativas e não houve nenhum dano durante o transporte. Estou muito satisfeito com a compra e recomendo a todos!\"\n"
          ]
        },
        {
          "name": "stderr",
          "output_type": "stream",
          "text": [
            "\rGenerating for OUTPUT-b2w_dev_reviewText_LLAMA_bm25-none_k4:  59%|█████▉    | 1483/2500 [17:30<10:44,  1.58it/s]"
          ]
        },
        {
          "name": "stdout",
          "output_type": "stream",
          "text": [
            "Review text: Minha esposa adorouuu! O produto superou todas as expectativas. A qualidade é excelente e o design é lindo. Ela ficou muito feliz e já está usando todos os dias. Recomendo para quem quer surpreender alguém especial!\n"
          ]
        },
        {
          "name": "stderr",
          "output_type": "stream",
          "text": [
            "\rGenerating for OUTPUT-b2w_dev_reviewText_LLAMA_bm25-none_k4:  59%|█████▉    | 1484/2500 [17:30<10:42,  1.58it/s]"
          ]
        },
        {
          "name": "stdout",
          "output_type": "stream",
          "text": [
            "Review text: Este produto superou todas as minhas expectativas! A qualidade é excepcional e o desempenho é incrível. Estou completamente satisfeito e recomendo a todos que buscam algo realmente especial. Vale cada centavo!\n"
          ]
        },
        {
          "name": "stderr",
          "output_type": "stream",
          "text": [
            "\rGenerating for OUTPUT-b2w_dev_reviewText_LLAMA_bm25-none_k4:  59%|█████▉    | 1485/2500 [17:31<10:24,  1.62it/s]"
          ]
        },
        {
          "name": "stdout",
          "output_type": "stream",
          "text": [
            "Review text: \"Estou muito satisfeito com este produto! A qualidade superou minhas expectativas e o desempenho é excelente. Recomendo a todos que buscam algo confiável e eficiente. Vale cada centavo!\"\n"
          ]
        },
        {
          "name": "stderr",
          "output_type": "stream",
          "text": [
            "\rGenerating for OUTPUT-b2w_dev_reviewText_LLAMA_bm25-none_k4:  59%|█████▉    | 1486/2500 [17:32<11:53,  1.42it/s]"
          ]
        },
        {
          "name": "stdout",
          "output_type": "stream",
          "text": [
            "Review text: \"Este celular superou todas as minhas expectativas! A qualidade da câmera é incrível, as fotos ficam nítidas e vibrantes. A bateria dura o dia todo, mesmo com uso intenso. O design é elegante e se encaixa perfeitamente na mão. A performance é rápida, sem travamentos, e o armazenamento é mais do que suficiente para todos os meus aplicativos e fotos. Estou absolutamente apaixonado por este celular, é exatamente o que eu queria!\"\n"
          ]
        },
        {
          "name": "stderr",
          "output_type": "stream",
          "text": [
            "\rGenerating for OUTPUT-b2w_dev_reviewText_LLAMA_bm25-none_k4:  59%|█████▉    | 1487/2500 [17:32<11:00,  1.53it/s]"
          ]
        },
        {
          "name": "stdout",
          "output_type": "stream",
          "text": [
            "Review text: Este produto superou minhas expectativas! A qualidade é excelente e o desempenho é notável. Recomendo a todos que buscam algo eficaz e confiável. Vale cada centavo!\n"
          ]
        },
        {
          "name": "stderr",
          "output_type": "stream",
          "text": [
            "\rGenerating for OUTPUT-b2w_dev_reviewText_LLAMA_bm25-none_k4:  60%|█████▉    | 1488/2500 [17:33<13:04,  1.29it/s]"
          ]
        },
        {
          "name": "stdout",
          "output_type": "stream",
          "text": [
            "Review text: The Samsung Galaxy J7 Prime has truly impressed me with its sleek design and powerful performance. The display is vibrant and perfect for watching videos or browsing the web. The camera quality is exceptional, capturing sharp and detailed photos even in low light. Battery life is outstanding, lasting me throughout the day without needing a recharge. Overall, it's a fantastic smartphone that offers great value for money. Highly recommend it for anyone looking for a reliable device!\n"
          ]
        },
        {
          "name": "stderr",
          "output_type": "stream",
          "text": [
            "\rGenerating for OUTPUT-b2w_dev_reviewText_LLAMA_bm25-none_k4:  60%|█████▉    | 1489/2500 [17:34<11:06,  1.52it/s]"
          ]
        },
        {
          "name": "stdout",
          "output_type": "stream",
          "text": [
            "Review text: Este producto superó mis expectativas. La calidad es impresionante y funciona a la perfección. Definitivamente lo recomendaría a otros. ¡Excelente compra!\n"
          ]
        },
        {
          "name": "stderr",
          "output_type": "stream",
          "text": [
            "\rGenerating for OUTPUT-b2w_dev_reviewText_LLAMA_bm25-none_k4:  60%|█████▉    | 1490/2500 [17:34<11:25,  1.47it/s]"
          ]
        },
        {
          "name": "stdout",
          "output_type": "stream",
          "text": [
            "Review text: \"Estoy impresionado con la rapidez de la entrega. Hice mi pedido y llegó en tiempo récord. El embalaje fue excelente y el producto estaba en perfectas condiciones. Sin duda, volveré a comprar aquí por la eficiencia y el excelente servicio. ¡Altamente recomendado!\"\n"
          ]
        },
        {
          "name": "stderr",
          "output_type": "stream",
          "text": [
            "\rGenerating for OUTPUT-b2w_dev_reviewText_LLAMA_bm25-none_k4:  60%|█████▉    | 1491/2500 [17:35<10:31,  1.60it/s]"
          ]
        },
        {
          "name": "stdout",
          "output_type": "stream",
          "text": [
            "Review text: \"Este produto superou minhas expectativas! A qualidade é excelente e o desempenho é notável. Estou muito satisfeito com a compra e recomendo a todos que buscam algo confiável e eficiente. Vale cada centavo!\"\n"
          ]
        },
        {
          "name": "stderr",
          "output_type": "stream",
          "text": [
            "\rGenerating for OUTPUT-b2w_dev_reviewText_LLAMA_bm25-none_k4:  60%|█████▉    | 1492/2500 [17:36<11:16,  1.49it/s]"
          ]
        },
        {
          "name": "stdout",
          "output_type": "stream",
          "text": [
            "Review text: Estou extremamente satisfeito com meu J7 Prime! A qualidade da câmera é impressionante, as fotos saem nítidas e vibrantes. A tela é grande e perfeita para assistir vídeos e jogar. A bateria dura o dia todo, o que é um grande ponto positivo. O desempenho é excelente, não tenho enfrentado travamentos. Recomendo para quem busca um smartphone confiável e com ótimo custo-benefício!\n"
          ]
        },
        {
          "name": "stderr",
          "output_type": "stream",
          "text": [
            "\rGenerating for OUTPUT-b2w_dev_reviewText_LLAMA_bm25-none_k4:  60%|█████▉    | 1493/2500 [17:36<09:56,  1.69it/s]"
          ]
        },
        {
          "name": "stdout",
          "output_type": "stream",
          "text": [
            "Review text: \"Recebi o produto errado e estou muito decepcionado. A descrição não correspondia ao que chegou. Espero que a troca seja rápida e sem complicações.\"\n"
          ]
        },
        {
          "name": "stderr",
          "output_type": "stream",
          "text": [
            "\rGenerating for OUTPUT-b2w_dev_reviewText_LLAMA_bm25-none_k4:  60%|█████▉    | 1494/2500 [17:37<11:59,  1.40it/s]"
          ]
        }
      ],
      "source": [
        "# for testing/running notebook\n",
        "import sys\n",
        "sys.argv = ['master_generation.py', '--input', '/content/drive/Shareddrives/Intel Capstone Project/Data/Rankings/B2W/b2w_data_dev_ranked_k_5_reviewText_bm25.json', '--model', 'gpt', '--k', '4']\n",
        "\n",
        "args = parse_arguments()\n",
        "print(args)\n",
        "main()"
      ]
    }
  ],
  "metadata": {
    "colab": {
      "provenance": []
    },
    "kernelspec": {
      "display_name": "Python 3",
      "name": "python3"
    },
    "language_info": {
      "name": "python"
    }
  },
  "nbformat": 4,
  "nbformat_minor": 0
}
