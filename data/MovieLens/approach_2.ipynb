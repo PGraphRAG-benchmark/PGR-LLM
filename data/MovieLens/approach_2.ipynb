{
 "cells": [
  {
   "cell_type": "code",
   "execution_count": 4,
   "id": "3679f894-81bb-4e20-8239-b7b50e3fe7e5",
   "metadata": {},
   "outputs": [],
   "source": [
    "import json\n",
    "from scipy.sparse import csr_matrix\n",
    "\n",
    "# Load the data splits\n",
    "with open('train_data.json', 'r') as json_file:\n",
    "    train_data = json.load(json_file)\n",
    "\n",
    "# Function to create the user-movie matrix with the new data format\n",
    "def create_user_movie_matrix(data):\n",
    "    rows = []\n",
    "    cols = []\n",
    "    vals = []\n",
    "\n",
    "    user_ids = set()\n",
    "    movie_ids = set()\n",
    "\n",
    "    for user in data:\n",
    "        user_id = user['id']\n",
    "        for rating in user['ratings']:\n",
    "            rows.append(user_id)\n",
    "            cols.append(rating['movie_id'])\n",
    "            vals.append(rating['rating'])\n",
    "            user_ids.add(user_id)\n",
    "            movie_ids.add(rating['movie_id'])\n",
    "\n",
    "    user_index = {user_id: idx for idx, user_id in enumerate(user_ids)}\n",
    "    movie_index = {movie_id: idx for idx, movie_id in enumerate(movie_ids)}\n",
    "    \n",
    "    row_indices = [user_index[user_id] for user_id in rows]\n",
    "    col_indices = [movie_index[movie_id] for movie_id in cols]\n",
    "\n",
    "    user_movie_matrix = csr_matrix((vals, (row_indices, col_indices)), shape=(len(user_index), len(movie_index)))\n",
    "\n",
    "    return user_movie_matrix, user_index, movie_index\n",
    "\n",
    "# Create train matrix\n",
    "train_matrix, train_user_index, train_movie_index = create_user_movie_matrix(train_data)\n",
    "\n",
    "# Debug prints to verify the results\n",
    "#print(\"User Index Mapping:\", train_user_index)\n",
    "#print(\"Movie Index Mapping:\", train_movie_index)\n",
    "#print(\"Shape of user_movie_matrix:\", train_matrix.shape)\n",
    "#print(\"Non-zero entries in user_movie_matrix:\", train_matrix.nnz)"
   ]
  },
  {
   "cell_type": "code",
   "execution_count": 5,
   "id": "1001809d-05f3-47a9-9cb3-4c9dd586a497",
   "metadata": {},
   "outputs": [
    {
     "name": "stdout",
     "output_type": "stream",
     "text": [
      "Ratings by neighbors for movie 2622: [('5131', 4), ('3971', 3), ('4127', 5), ('4271', 5), ('1263', 1)]\n"
     ]
    }
   ],
   "source": [
    "def pgraph_rag_neighbors_ratings_only(user_id, movie_id, user_movie_matrix, user_index, movie_index, limit=None):\n",
    "    # Retrieve the movie index\n",
    "    movie_idx = movie_index.get(movie_id)\n",
    "    if movie_idx is None:\n",
    "        return []\n",
    "    \n",
    "    # Get the user indices who reviewed the movie\n",
    "    user_indices = user_movie_matrix[:, movie_idx].nonzero()[0]\n",
    "    \n",
    "    # Get the corresponding user IDs and their ratings for the movie\n",
    "    neighbor_ratings = [(list(user_index.keys())[list(user_index.values()).index(idx)], user_movie_matrix[idx, movie_idx]) for idx in user_indices]\n",
    "    \n",
    "    # If limit is specified, return only that many results\n",
    "    if limit is not None:\n",
    "        neighbor_ratings = neighbor_ratings[:limit]\n",
    "    \n",
    "    return neighbor_ratings\n",
    "\n",
    "# Example usage\n",
    "example_user_id = 'some_user_id'  # Replace with an actual user_id\n",
    "example_movie_id = 2622           # Replace with an actual movie_id\n",
    "limit = 5                         # Replace with the desired limit\n",
    "neighbors_ratings = pgraph_rag_neighbors_ratings_only(example_user_id, example_movie_id, train_matrix, train_user_index, train_movie_index, limit)\n",
    "print(f\"Ratings by neighbors for movie {example_movie_id}: {neighbors_ratings}\")\n"
   ]
  },
  {
   "cell_type": "code",
   "execution_count": null,
   "id": "270ab92e-b3ad-425f-ae3b-bd30f109e216",
   "metadata": {},
   "outputs": [],
   "source": [
    "# Function to generate GPT-3.5-turbo completion\n",
    "def generate_gpt_completion(context):\n",
    "    prompt = f\"Generate a rating from 1 to 5 for the movie from the following ratings. Ratings: {context}\"\n",
    "    \n",
    "    response = openai.ChatCompletion.create(\n",
    "        messages=[\n",
    "            {\n",
    "                \"role\": \"user\",\n",
    "                \"content\": prompt,\n",
    "            }\n",
    "        ],\n",
    "        model=\"gpt-3.5-turbo\",\n",
    "    )\n",
    "    \n",
    "    return response['choices'][0]['message']['content']\n",
    "\n",
    "# Function to get neighbors' ratings and generate GPT-3.5-turbo completion\n",
    "def pgraph_rag_neighbors_ratings_only(user_id, movie_id, user_movie_matrix, user_index, movie_index, limit=None):\n",
    "    # Retrieve the movie index\n",
    "    movie_idx = movie_index.get(movie_id)\n",
    "    if movie_idx is None:\n",
    "        return []\n",
    "    \n",
    "    # Get the user indices who reviewed the movie\n",
    "    user_indices = user_movie_matrix[:, movie_idx].nonzero()[0]\n",
    "    \n",
    "    # Get the corresponding user IDs and their ratings for the movie\n",
    "    neighbor_ratings = [(list(user_index.keys())[list(user_index.values()).index(idx)], user_movie_matrix[idx, movie_idx]) for idx in user_indices]\n",
    "    \n",
    "    # If limit is specified, return only that many results\n",
    "    if limit is not None:\n",
    "        neighbor_ratings = neighbor_ratings[:limit]\n",
    "    \n",
    "    # Generate context string for the prompt\n",
    "    context = \"; \".join([f\"User {user_id} rated it {rating}\" for user_id, rating in neighbor_ratings])\n",
    "    \n",
    "    # Generate GPT-3.5-turbo completion\n",
    "    gpt_description = generate_gpt_completion(context)\n",
    "    \n",
    "    return neighbor_ratings, gpt_description\n",
    "\n",
    "# Example usage\n",
    "example_user_id = 'some_user_id'  # Replace with an actual user_id\n",
    "example_movie_id = 2622           # Replace with an actual movie_id\n",
    "limit = 5                         # Replace with the desired limit\n",
    "neighbors_ratings, gpt_description = pgraph_rag_neighbors_ratings_only(example_user_id, example_movie_id, train_matrix, train_user_index, train_movie_index, limit)\n",
    "print(f\"Ratings by neighbors for movie {example_movie_id}: {neighbors_ratings}\")\n",
    "print(f\"GPT-3.5-turbo description: {gpt_description}\")"
   ]
  },
  {
   "cell_type": "code",
   "execution_count": 6,
   "id": "35230f5f-7509-4fb0-b753-f48171d3bc1b",
   "metadata": {},
   "outputs": [
    {
     "name": "stdout",
     "output_type": "stream",
     "text": [
      "Combined ratings for user 2622 and movie 2622: [('1022', 4), ('3547', 4), ('4868', 3), ('4934', 3), ('5614', 4), ('5797', 4), ('2219', 5), ('2872', 3), ('19', 5), ('2298', 3), ('3074', 4), ('629', 4), ('1119', 4), ('2041', 3), ('1390', 3), ('5576', 2), ('5634', 3), ('5250', 3), ('4673', 3), ('2010', 4), ('5450', 4), ('2724', 1), ('2479', 5), ('5847', 4), ('3479', 5), ('5472', 3), ('817', 4), ('4064', 2), ('6039', 3), ('4436', 3), ('560', 5), ('704', 4), ('218', 4), ('2868', 4), ('2109', 4), ('1812', 5), ('3311', 4), ('1165', 2), ('4033', 5), ('5378', 4), ('754', 1), ('4439', 3), ('1926', 5), ('5401', 3), ('3539', 4), ('2878', 3), ('3618', 2), ('879', 3), ('78', 3), ('1450', 2), ('2199', 3), ('26', 3), ('6016', 3), ('789', 3), ('2611', 2), ('1969', 4), ('798', 5), ('5107', 4), ('4957', 4), ('3473', 5), ('3607', 4), ('5246', 2), ('2106', 4), ('3724', 3), ('1980', 3), ('3638', 2), ('532', 4), ('5881', 3), ('1354', 3), ('1271', 4), ('1425', 4), ('6024', 3), ('3229', 2), ('1391', 3), ('3836', 2), ('3032', 4), ('4759', 3), ('5946', 5), ('4995', 4), ('5374', 3), ('1015', 4), ('4765', 3), ('4068', 3), ('4299', 5), ('3751', 3), ('774', 3), ('1241', 2), ('955', 4), ('5752', 3), ('5627', 3), ('5015', 3), ('1680', 4), ('4042', 3), ('3858', 5), ('5366', 3), ('2470', 3), ('541', 2), ('553', 2), ('5893', 4), ('3465', 3), ('546', 4), ('4568', 3), ('4028', 1), ('2962', 3), ('163', 1), ('1645', 4), ('5065', 3), ('5519', 3), ('1436', 4), ('3320', 5), ('5198', 2), ('4145', 3), ('850', 2), ('3274', 3), ('5011', 4), ('4827', 3), ('1203', 4), ('4115', 5), ('5812', 3), ('1494', 4), ('1263', 1), ('2575', 2), ('4732', 3), ('3654', 2), ('5845', 4), ('3272', 4), ('1678', 3), ('5106', 2), ('5337', 4), ('195', 4), ('4879', 3), ('1101', 1), ('2881', 4), ('274', 3), ('4413', 5), ('1941', 5), ('1001', 2), ('1218', 5), ('4336', 1), ('3332', 4), ('1556', 4), ('2761', 3), ('1897', 3), ('5282', 4), ('4922', 3), ('1181', 3), ('2148', 5), ('4371', 3), ('1726', 2), ('5964', 5), ('3297', 3), ('4675', 5), ('5020', 4), ('5236', 3), ('657', 4), ('235', 4), ('5728', 5), ('919', 5), ('3370', 4), ('3072', 3), ('2939', 1), ('3884', 2), ('4700', 4), ('1172', 4), ('213', 4), ('3232', 2), ('5097', 3), ('5465', 3), ('5653', 4), ('5787', 3), ('2103', 3), ('1483', 4), ('3051', 4), ('2063', 3), ('3140', 5), ('5607', 3), ('1016', 4), ('4345', 3), ('3031', 3), ('261', 3), ('2153', 5), ('5734', 3), ('509', 2), ('1740', 1), ('3966', 2), ('4169', 3), ('83', 5), ('1605', 3), ('1524', 4), ('5151', 3), ('1142', 4), ('4580', 4), ('3283', 4), ('3971', 3), ('1716', 3), ('376', 4), ('1383', 2), ('4797', 4), ('3913', 2), ('3664', 3), ('5054', 3), ('202', 4), ('310', 4), ('1246', 4), ('2461', 4), ('3007', 2), ('1586', 4), ('960', 4), ('3994', 3), ('5455', 1), ('214', 2), ('1051', 4), ('1583', 4), ('5648', 3), ('2393', 4), ('1100', 2), ('3675', 3), ('4411', 4), ('3624', 3), ('983', 3), ('5686', 2), ('2212', 1), ('2034', 3), ('4086', 3), ('321', 3), ('4005', 2), ('4227', 3), ('5001', 4), ('3963', 3), ('166', 2), ('4497', 3), ('4477', 2), ('2934', 4), ('1528', 3), ('4271', 5), ('2383', 3), ('5037', 4), ('1137', 4), ('5811', 4), ('1930', 3), ('2344', 5), ('3154', 5), ('4939', 4), ('3026', 5), ('1470', 5), ('611', 3), ('4127', 5), ('3416', 4), ('1647', 4), ('155', 2), ('2988', 3), ('3715', 4), ('5063', 3), ('1557', 5), ('869', 5), ('4224', 2), ('1086', 4), ('705', 2), ('1602', 4), ('3842', 4), ('1447', 3), ('2734', 5), ('192', 3), ('92', 3), ('4918', 2), ('4579', 4), ('5479', 5), ('2031', 4), ('5131', 4), ('1983', 3), ('1501', 4), ('3420', 3), ('2845', 3), ('2129', 2), ('2480', 4), ('5786', 2), ('5544', 4), (17, 4), (25, 5), (39, 5), (46, 3), (58, 4), (265, 4), (270, 4), (293, 5), (302, 4), (339, 4), (357, 3), (377, 5), (380, 4), (451, 4), (708, 3), (838, 4), (852, 3), (866, 4), (908, 5), (1183, 3), (1333, 3), (1453, 4), (1611, 4), (1639, 4), (1721, 5), (1735, 2), (1835, 3), (1914, 5), (2108, 3), (2291, 5), (2570, 4), (2581, 4), (2779, 4), (3044, 3), (3358, 4), (3445, 4)]\n"
     ]
    }
   ],
   "source": [
    "def pgraph_rag_neighbors_ratings_and_user_ratings(user_id, movie_id, user_movie_matrix, user_index, movie_index):\n",
    "    # Retrieve the ratings from neighbors\n",
    "    neighbor_ratings = pgraph_rag_neighbors_ratings_only(user_id, movie_id, user_movie_matrix, user_index, movie_index)\n",
    "    \n",
    "    # Retrieve the user's own ratings\n",
    "    user_idx = user_index.get(user_id)\n",
    "    if user_idx is None:\n",
    "        return neighbor_ratings\n",
    "    \n",
    "    user_ratings = [(movie, user_movie_matrix[user_idx, movie_index[movie]]) for movie in movie_index.keys() if user_movie_matrix[user_idx, movie_index[movie]] != 0]\n",
    "    \n",
    "    # Combine both sets of ratings\n",
    "    combined_ratings = neighbor_ratings + user_ratings\n",
    "    \n",
    "    return combined_ratings\n",
    "\n",
    "# Example usage\n",
    "combined_ratings = pgraph_rag_neighbors_ratings_and_user_ratings(example_user_id, example_movie_id, train_matrix, train_user_index, train_movie_index)\n",
    "print(f\"Combined ratings for user {example_user_id} and movie {example_movie_id}: {combined_ratings}\")\n"
   ]
  },
  {
   "cell_type": "code",
   "execution_count": 7,
   "id": "b7b28e50-e05e-4bf8-93d7-df5503b4d738",
   "metadata": {},
   "outputs": [
    {
     "name": "stdout",
     "output_type": "stream",
     "text": [
      "Neighbor ratings for movie 2622: [('1022', 4), ('3547', 4), ('4868', 3), ('4934', 3), ('5614', 4), ('5797', 4), ('2219', 5), ('2872', 3), ('19', 5), ('2298', 3), ('3074', 4), ('629', 4), ('1119', 4), ('2041', 3), ('1390', 3), ('5576', 2), ('5634', 3), ('5250', 3), ('4673', 3), ('2010', 4), ('5450', 4), ('2724', 1), ('2479', 5), ('5847', 4), ('3479', 5), ('5472', 3), ('817', 4), ('4064', 2), ('6039', 3), ('4436', 3), ('560', 5), ('704', 4), ('218', 4), ('2868', 4), ('2109', 4), ('1812', 5), ('3311', 4), ('1165', 2), ('4033', 5), ('5378', 4), ('754', 1), ('4439', 3), ('1926', 5), ('5401', 3), ('3539', 4), ('2878', 3), ('3618', 2), ('879', 3), ('78', 3), ('1450', 2), ('2199', 3), ('26', 3), ('6016', 3), ('789', 3), ('2611', 2), ('1969', 4), ('798', 5), ('5107', 4), ('4957', 4), ('3473', 5), ('3607', 4), ('5246', 2), ('2106', 4), ('3724', 3), ('1980', 3), ('3638', 2), ('532', 4), ('5881', 3), ('1354', 3), ('1271', 4), ('1425', 4), ('6024', 3), ('3229', 2), ('1391', 3), ('3836', 2), ('3032', 4), ('4759', 3), ('5946', 5), ('4995', 4), ('5374', 3), ('1015', 4), ('4765', 3), ('4068', 3), ('4299', 5), ('3751', 3), ('774', 3), ('1241', 2), ('955', 4), ('5752', 3), ('5627', 3), ('5015', 3), ('1680', 4), ('4042', 3), ('3858', 5), ('5366', 3), ('2470', 3), ('541', 2), ('553', 2), ('5893', 4), ('3465', 3), ('546', 4), ('4568', 3), ('4028', 1), ('2962', 3), ('163', 1), ('1645', 4), ('5065', 3), ('5519', 3), ('1436', 4), ('3320', 5), ('5198', 2), ('4145', 3), ('850', 2), ('3274', 3), ('5011', 4), ('4827', 3), ('1203', 4), ('4115', 5), ('5812', 3), ('1494', 4), ('1263', 1), ('2575', 2), ('4732', 3), ('3654', 2), ('5845', 4), ('3272', 4), ('1678', 3), ('5106', 2), ('5337', 4), ('195', 4), ('4879', 3), ('1101', 1), ('2881', 4), ('274', 3), ('4413', 5), ('1941', 5), ('1001', 2), ('1218', 5), ('4336', 1), ('3332', 4), ('1556', 4), ('2761', 3), ('1897', 3), ('5282', 4), ('4922', 3), ('1181', 3), ('2148', 5), ('4371', 3), ('1726', 2), ('5964', 5), ('3297', 3), ('4675', 5), ('5020', 4), ('5236', 3), ('657', 4), ('235', 4), ('5728', 5), ('919', 5), ('3370', 4), ('3072', 3), ('2939', 1), ('3884', 2), ('4700', 4), ('1172', 4), ('213', 4), ('3232', 2), ('5097', 3), ('5465', 3), ('5653', 4), ('5787', 3), ('2103', 3), ('1483', 4), ('3051', 4), ('2063', 3), ('3140', 5), ('5607', 3), ('1016', 4), ('4345', 3), ('3031', 3), ('261', 3), ('2153', 5), ('5734', 3), ('509', 2), ('1740', 1), ('3966', 2), ('4169', 3), ('83', 5), ('1605', 3), ('1524', 4), ('5151', 3), ('1142', 4), ('4580', 4), ('3283', 4), ('3971', 3), ('1716', 3), ('376', 4), ('1383', 2), ('4797', 4), ('3913', 2), ('3664', 3), ('5054', 3), ('202', 4), ('310', 4), ('1246', 4), ('2461', 4), ('3007', 2), ('1586', 4), ('960', 4), ('3994', 3), ('5455', 1), ('214', 2), ('1051', 4), ('1583', 4), ('5648', 3), ('2393', 4), ('1100', 2), ('3675', 3), ('4411', 4), ('3624', 3), ('983', 3), ('5686', 2), ('2212', 1), ('2034', 3), ('4086', 3), ('321', 3), ('4005', 2), ('4227', 3), ('5001', 4), ('3963', 3), ('166', 2), ('4497', 3), ('4477', 2), ('2934', 4), ('1528', 3), ('4271', 5), ('2383', 3), ('5037', 4), ('1137', 4), ('5811', 4), ('1930', 3), ('2344', 5), ('3154', 5), ('4939', 4), ('3026', 5), ('1470', 5), ('611', 3), ('4127', 5), ('3416', 4), ('1647', 4), ('155', 2), ('2988', 3), ('3715', 4), ('5063', 3), ('1557', 5), ('869', 5), ('4224', 2), ('1086', 4), ('705', 2), ('1602', 4), ('3842', 4), ('1447', 3), ('2734', 5), ('192', 3), ('92', 3), ('4918', 2), ('4579', 4), ('5479', 5), ('2031', 4), ('5131', 4), ('1983', 3), ('1501', 4), ('3420', 3), ('2845', 3), ('2129', 2), ('2480', 4), ('5786', 2), ('5544', 4)]\n",
      "User 2622's ratings: [(17, 4), (25, 5), (39, 5), (46, 3), (58, 4), (265, 4), (270, 4), (293, 5), (302, 4), (339, 4), (357, 3), (377, 5), (380, 4), (451, 4), (708, 3), (838, 4), (852, 3), (866, 4), (908, 5), (1183, 3), (1333, 3), (1453, 4), (1611, 4), (1639, 4), (1721, 5), (1735, 2), (1835, 3), (1914, 5), (2108, 3), (2291, 5), (2570, 4), (2581, 4), (2779, 4), (3044, 3), (3358, 4), (3445, 4)]\n"
     ]
    }
   ],
   "source": [
    "def pgraph_multi_rag(user_id, movie_id, user_movie_matrix, user_index, movie_index):\n",
    "    # Retrieve the ratings from neighbors\n",
    "    neighbor_ratings = pgraph_rag_neighbors_ratings_only(user_id, movie_id, user_movie_matrix, user_index, movie_index)\n",
    "    \n",
    "    # Retrieve the user's own ratings\n",
    "    user_idx = user_index.get(user_id)\n",
    "    if user_idx is None:\n",
    "        return neighbor_ratings, []\n",
    "    \n",
    "    user_ratings = [(movie, user_movie_matrix[user_idx, movie_index[movie]]) for movie in movie_index.keys() if user_movie_matrix[user_idx, movie_index[movie]] != 0]\n",
    "    \n",
    "    return neighbor_ratings, user_ratings\n",
    "\n",
    "# Example usage\n",
    "neighbors_ratings, user_ratings = pgraph_multi_rag(example_user_id, example_movie_id, train_matrix, train_user_index, train_movie_index)\n",
    "print(f\"Neighbor ratings for movie {example_movie_id}: {neighbors_ratings}\")\n",
    "print(f\"User {example_user_id}'s ratings: {user_ratings}\")\n"
   ]
  },
  {
   "cell_type": "code",
   "execution_count": 8,
   "id": "00462fe3-4796-4898-83d6-b30ba7361c8d",
   "metadata": {},
   "outputs": [],
   "source": [
    "val_matrix, val_user_index, val_movie_index = create_user_movie_matrix(val_data)\n",
    "test_matrix, test_user_index, test_movie_index = create_user_movie_matrix(test_data)"
   ]
  }
 ],
 "metadata": {
  "kernelspec": {
   "display_name": "Python 3 (ipykernel)",
   "language": "python",
   "name": "python3"
  },
  "language_info": {
   "codemirror_mode": {
    "name": "ipython",
    "version": 3
   },
   "file_extension": ".py",
   "mimetype": "text/x-python",
   "name": "python",
   "nbconvert_exporter": "python",
   "pygments_lexer": "ipython3",
   "version": "3.11.5"
  }
 },
 "nbformat": 4,
 "nbformat_minor": 5
}
