{
 "cells": [
  {
   "cell_type": "code",
   "execution_count": null,
   "id": "f31f19bf-f027-4d4f-bea5-b842d4fb0b48",
   "metadata": {},
   "outputs": [],
   "source": [
    "import pandas as pd\n",
    "import numpy as np\n",
    "import networkx as nx\n",
    "import matplotlib.pyplot as plt"
   ]
  },
  {
   "cell_type": "code",
   "execution_count": null,
   "id": "03d7ce37-cb75-4af8-b607-876b35ad2fe6",
   "metadata": {},
   "outputs": [],
   "source": [
    "ratings = pd.read_csv('100k/u.data', sep='\\t', names=['user_id', 'item_id', 'rating', 'timestamp'])\n",
    "movies = pd.read_csv('100k/u.item', sep='|', names=['movie_id', 'title', 'release_date', 'video_release_date', 'IMDb_URL', \n",
    "                                                       'unknown', 'Action', 'Adventure', 'Animation', \"Children's\", 'Comedy', \n",
    "                                                       'Crime', 'Documentary', 'Drama', 'Fantasy', 'Film-Noir', 'Horror', \n",
    "                                                       'Musical', 'Mystery', 'Romance', 'Sci-Fi', 'Thriller', 'War', 'Western'], \n",
    "                                                       encoding='latin-1')\n",
    "users = pd.read_csv('100k/u.user', sep='|', names=['user_id', 'age', 'gender', 'occupation', 'zip_code'])\n"
   ]
  }
 ],
 "metadata": {
  "kernelspec": {
   "display_name": "Python 3 (ipykernel)",
   "language": "python",
   "name": "python3"
  },
  "language_info": {
   "codemirror_mode": {
    "name": "ipython",
    "version": 3
   },
   "file_extension": ".py",
   "mimetype": "text/x-python",
   "name": "python",
   "nbconvert_exporter": "python",
   "pygments_lexer": "ipython3",
   "version": "3.11.5"
  }
 },
 "nbformat": 4,
 "nbformat_minor": 5
}
