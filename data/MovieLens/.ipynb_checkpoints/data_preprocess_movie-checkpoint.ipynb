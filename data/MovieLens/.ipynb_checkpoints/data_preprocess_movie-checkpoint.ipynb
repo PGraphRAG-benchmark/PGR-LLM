{
 "cells": [
  {
   "cell_type": "code",
   "execution_count": 1,
   "id": "ca4c349f-4835-429e-8643-96c61d6330ce",
   "metadata": {},
   "outputs": [],
   "source": [
    "#!pip install networkx matplotlib\n",
    "import pandas as pd\n",
    "import numpy as np\n",
    "import networkx as nx\n",
    "import matplotlib.pyplot as plt\n",
    "from networkx.algorithms import bipartite\n",
    "from networkx.drawing.layout import bipartite_layout"
   ]
  },
  {
   "cell_type": "code",
   "execution_count": 2,
   "id": "573bbb8b-42b6-4dcb-8ae6-dde690de558e",
   "metadata": {},
   "outputs": [],
   "source": [
    "ratings = pd.read_csv('1m/ratings.dat', sep='::', names=['user_id', 'item_id', 'rating', 'timestamp'], engine='python', encoding='latin1')\n",
    "movies = pd.read_csv('1m/movies.dat', sep='::', names=['movie_id', 'title', 'genres'], engine='python', encoding='latin1')\n",
    "users = pd.read_csv('1m/users.dat', sep='::', names=['user_id', 'gender', 'age', 'occupation', 'zip_code'], engine='python', encoding='latin1')"
   ]
  },
  {
   "cell_type": "code",
   "execution_count": 4,
   "id": "28bb24fa-67fa-42a2-bbec-b528962f82d7",
   "metadata": {},
   "outputs": [
    {
     "name": "stdout",
     "output_type": "stream",
     "text": [
      "Restructured user data saved to 'restructured_user_data.json'\n"
     ]
    }
   ],
   "source": [
    "# Function to convert data types to native Python types\n",
    "class NumpyEncoder(json.JSONEncoder):\n",
    "    def default(self, obj):\n",
    "        if isinstance(obj, np.integer):\n",
    "            return int(obj)\n",
    "        elif isinstance(obj, np.floating):\n",
    "            return float(obj)\n",
    "        elif isinstance(obj, np.ndarray):\n",
    "            return obj.tolist()\n",
    "        elif isinstance(obj, np.bool_):\n",
    "            return bool(obj)\n",
    "        elif isinstance(obj, np.datetime64):\n",
    "            return obj.item().isoformat()\n",
    "        else:\n",
    "            return super(NumpyEncoder, self).default(obj)\n",
    "\n",
    "# Merge the ratings with the movies data\n",
    "merged_data = pd.merge(ratings, movies, left_on='item_id', right_on='movie_id')\n",
    "merged_data['timestamp'] = pd.to_datetime(merged_data['timestamp'], unit='s')\n",
    "movies_dict = movies.set_index('movie_id').to_dict('index')\n",
    "user_dict = {}\n",
    "\n",
    "# Add user information to the user dictionary\n",
    "for _, row in users.iterrows():\n",
    "    user_id = row['user_id']\n",
    "    user_info = {\n",
    "        \"user_id\": user_id,\n",
    "        \"gender\": row['gender'],\n",
    "        \"age\": row['age'],\n",
    "        \"occupation\": row['occupation'],\n",
    "        \"zip_code\": row['zip_code'],\n",
    "        \"ratings\": []\n",
    "    }\n",
    "    user_dict[user_id] = user_info\n",
    "\n",
    "# Add movie ratings to the user dictionary\n",
    "for _, row in ratings.iterrows():\n",
    "    user_id = row['user_id']\n",
    "    movie_id = row['item_id']\n",
    "    movie_info = movies_dict[movie_id]\n",
    "    rating_info = {\n",
    "        'movie_id': movie_id,\n",
    "        'rating': row['rating'],\n",
    "        'timestamp': row['timestamp'],\n",
    "        'title': movie_info['title'],\n",
    "        'genres': movie_info['genres']\n",
    "    }\n",
    "    user_dict[user_id]['ratings'].append(rating_info)\n",
    "\n",
    "# Save to JSON file using the custom NumpyEncoder\n",
    "with open('restructured_user_data.json', 'w') as json_file:\n",
    "    json.dump(user_dict, json_file, cls=NumpyEncoder, indent=4)\n",
    "\n",
    "print(\"Restructured user data saved to 'restructured_user_data.json'\")"
   ]
  },
  {
   "cell_type": "code",
   "execution_count": 14,
   "id": "07a0a5d2-4ee4-4124-b56a-cbf3c270aba9",
   "metadata": {},
   "outputs": [
    {
     "name": "stdout",
     "output_type": "stream",
     "text": [
      "Graph saved to 'knowledge_graph_detailed.graphml'\n"
     ]
    }
   ],
   "source": [
    "# Load the combined user data from JSON file\n",
    "with open('user_data.json', 'r') as json_file:\n",
    "    user_data = json.load(json_file)\n",
    "\n",
    "# Initialize the detailed graph\n",
    "G_detailed = nx.Graph()\n",
    "\n",
    "# Add users and their information to the detailed graph\n",
    "for user_id, data in user_data.items():\n",
    "    G_detailed.add_node(f'user_{user_id}', type='user', user_info=json.dumps(data['user_info']))\n",
    "    for rating in data['ratings']:\n",
    "        movie_id = rating['movie_id']\n",
    "        movie_info = rating['movie_info']\n",
    "        G_detailed.add_node(f'movie_{movie_id}', type='movie', movie_info=json.dumps(movie_info))\n",
    "        G_detailed.add_edge(f'user_{user_id}', f'movie_{movie_id}', type='rated', rating=rating['rating'], timestamp=rating['timestamp'])\n",
    "        \n",
    "        # Add genre nodes and edges\n",
    "        genres = movie_info['genres'].split('|')\n",
    "        for genre in genres:\n",
    "            if f'genre_{genre}' not in G_detailed:\n",
    "                G_detailed.add_node(f'genre_{genre}', type='genre', name=genre)\n",
    "            G_detailed.add_edge(f'movie_{movie_id}', f'genre_{genre}', type='belongs_to')\n",
    "\n",
    "# Save the graph to a GraphML file\n",
    "nx.write_graphml(G_detailed, 'knowledge_graph_detailed.graphml')\n",
    "\n",
    "print(\"Graph saved to 'knowledge_graph_detailed.graphml'\")"
   ]
  }
 ],
 "metadata": {
  "kernelspec": {
   "display_name": "Python 3 (ipykernel)",
   "language": "python",
   "name": "python3"
  },
  "language_info": {
   "codemirror_mode": {
    "name": "ipython",
    "version": 3
   },
   "file_extension": ".py",
   "mimetype": "text/x-python",
   "name": "python",
   "nbconvert_exporter": "python",
   "pygments_lexer": "ipython3",
   "version": "3.11.5"
  }
 },
 "nbformat": 4,
 "nbformat_minor": 5
}
